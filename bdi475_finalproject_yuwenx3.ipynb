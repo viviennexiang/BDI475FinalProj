{
 "cells": [
  {
   "cell_type": "markdown",
   "metadata": {},
   "source": [
    "# Michelin Guide Restaurant Exploratory Data Analysis\n",
    "\n",
    "Author: Yuwen Xiang"
   ]
  },
  {
   "cell_type": "markdown",
   "metadata": {},
   "source": [
    "The data is from https://www.kaggle.com/datasets/ngshiheng/michelin-guide-restaurants-2021\n",
    "\n",
    "Micheline guide is published by Michelin group. It contains selected restaurants around the world for tourists. The standard of Michelin Guide is very high. It divides selected restaurants into 3 level of stars. \n",
    "The 3 levels are described as:\n",
    "- ⭐️: \"A very good restaurant in its category\" \n",
    "- ⭐️⭐️: \"Excellent cooking, worth a detour\"\n",
    "- ⭐️⭐️⭐️: \"Exceptional cuisine, worth a special journey\"\n",
    "\n",
    "In addition, there is an award called *Bib Gourmand*. Restaurants with this award have high quality food and affordable price.\n",
    "\n",
    "Gaining a Michelin star can be a lifelong dream for chefs.If the restaurant has a Michelin star, tourists will flock to the restaurant. Meanwhile, losing a star could be a nightmare for chefs.\n",
    "\n",
    "The dataset contains 6353 observations of restaurant in Michelin Guide 2021. I like to travel, when I plan for a trip to a new country, I usually make reservations to local Michelin restaurant in advance. So, for my final project of BDI 475, I found that making an exploratory data analysis of Michelin guide will be useful for me and someone enjoy traveling. Though COVID has not ended yet, it is great to know those restaurants in advance in case of a trip without plan!"
   ]
  },
  {
   "cell_type": "markdown",
   "metadata": {},
   "source": [
    "### Potential Questions\n",
    "- What are the average prices of Michelin restaurants in different cities?\n",
    "- What are the average prices of different cuisines?\n",
    "- Which type of cuisines accounts for the most in the Michelin Guide? And which cuisine has the most 3 Star Micheline restaurants?\n",
    "- Which city has the most Michelin restaurants? And which city has the most 3 Star Micheline restaurants?\n",
    "- What cuisine and city are recommended for a tight budget? What cuisine and city are recommended for an adequate budget?\n",
    "- What is the breakdown of Michelin restaurants in different cities?"
   ]
  },
  {
   "cell_type": "markdown",
   "metadata": {},
   "source": [
    "## Exploratory Data Analysis"
   ]
  },
  {
   "cell_type": "markdown",
   "metadata": {},
   "source": [
    "### Clean the data"
   ]
  },
  {
   "cell_type": "markdown",
   "metadata": {},
   "source": [
    "First, let's load packages needed and the dataset."
   ]
  },
  {
   "cell_type": "code",
   "execution_count": 78,
   "metadata": {
    "collapsed": true
   },
   "outputs": [],
   "source": [
    "import pandas as pd\n",
    "import numpy as np\n",
    "import plotly\n",
    "import plotly.graph_objects as go\n",
    "import plotly.express as px"
   ]
  },
  {
   "cell_type": "code",
   "execution_count": 77,
   "metadata": {
    "collapsed": true
   },
   "outputs": [],
   "source": [
    "df = pd.read_csv('https://raw.githubusercontent.com/viviennexiang/BDI475FinalProj/main/michelin_my_maps.csv')"
   ]
  },
  {
   "cell_type": "markdown",
   "metadata": {},
   "source": [
    "Now, let's have a look of the dataset's basic information."
   ]
  },
  {
   "cell_type": "code",
   "execution_count": 79,
   "metadata": {},
   "outputs": [
    {
     "name": "stdout",
     "output_type": "stream",
     "text": [
      "Michelin data contains 6502 rows and 13 columns.\n"
     ]
    }
   ],
   "source": [
    "# Display the number of rows and columns\n",
    "\n",
    "nrow = df.shape[0]\n",
    "ncol = df.shape[1]\n",
    "print(f'Michelin data contains {nrow} rows and {ncol} columns.')"
   ]
  },
  {
   "cell_type": "code",
   "execution_count": 80,
   "metadata": {},
   "outputs": [
    {
     "data": {
      "text/html": [
       "<div>\n",
       "<style scoped>\n",
       "    .dataframe tbody tr th:only-of-type {\n",
       "        vertical-align: middle;\n",
       "    }\n",
       "\n",
       "    .dataframe tbody tr th {\n",
       "        vertical-align: top;\n",
       "    }\n",
       "\n",
       "    .dataframe thead th {\n",
       "        text-align: right;\n",
       "    }\n",
       "</style>\n",
       "<table border=\"1\" class=\"dataframe\">\n",
       "  <thead>\n",
       "    <tr style=\"text-align: right;\">\n",
       "      <th></th>\n",
       "      <th>Name</th>\n",
       "      <th>Address</th>\n",
       "      <th>Location</th>\n",
       "      <th>MinPrice</th>\n",
       "      <th>MaxPrice</th>\n",
       "      <th>Currency</th>\n",
       "      <th>Cuisine</th>\n",
       "      <th>Longitude</th>\n",
       "      <th>Latitude</th>\n",
       "      <th>PhoneNumber</th>\n",
       "      <th>Url</th>\n",
       "      <th>WebsiteUrl</th>\n",
       "      <th>Award</th>\n",
       "    </tr>\n",
       "  </thead>\n",
       "  <tbody>\n",
       "    <tr>\n",
       "      <th>0</th>\n",
       "      <td>Aqua</td>\n",
       "      <td>Parkstraße 1, Wolfsburg, 38440, Germany</td>\n",
       "      <td>Wolfsburg</td>\n",
       "      <td>225</td>\n",
       "      <td>225</td>\n",
       "      <td>EUR</td>\n",
       "      <td>Creative, Modern Cuisine</td>\n",
       "      <td>10.789999</td>\n",
       "      <td>52.433172</td>\n",
       "      <td>4.953616e+11</td>\n",
       "      <td>https://guide.michelin.com/en/niedersachsen/wo...</td>\n",
       "      <td>http://www.restaurant-aqua.com</td>\n",
       "      <td>3 MICHELIN Stars</td>\n",
       "    </tr>\n",
       "    <tr>\n",
       "      <th>1</th>\n",
       "      <td>The Table Kevin Fehling</td>\n",
       "      <td>Shanghaiallee 15, Hamburg, 20457, Germany</td>\n",
       "      <td>Hamburg</td>\n",
       "      <td>230</td>\n",
       "      <td>230</td>\n",
       "      <td>EUR</td>\n",
       "      <td>Creative</td>\n",
       "      <td>10.002980</td>\n",
       "      <td>53.542623</td>\n",
       "      <td>4.940229e+11</td>\n",
       "      <td>https://guide.michelin.com/en/hamburg-region/h...</td>\n",
       "      <td>http://www.the-table-hamburg.de/</td>\n",
       "      <td>3 MICHELIN Stars</td>\n",
       "    </tr>\n",
       "    <tr>\n",
       "      <th>2</th>\n",
       "      <td>Restaurant Überfahrt Christian Jürgens</td>\n",
       "      <td>Überfahrtstraße 10, Rottach-Egern, 83700, Germany</td>\n",
       "      <td>Rottach-Egern</td>\n",
       "      <td>259</td>\n",
       "      <td>319</td>\n",
       "      <td>EUR</td>\n",
       "      <td>Creative</td>\n",
       "      <td>11.758229</td>\n",
       "      <td>47.696685</td>\n",
       "      <td>4.980227e+09</td>\n",
       "      <td>https://guide.michelin.com/en/bayern/rottach-e...</td>\n",
       "      <td>http://www.althoffcollection.com</td>\n",
       "      <td>3 MICHELIN Stars</td>\n",
       "    </tr>\n",
       "    <tr>\n",
       "      <th>3</th>\n",
       "      <td>Victor's Fine Dining by christian bau</td>\n",
       "      <td>Schlossstraße 27, Perl, 66706, Germany</td>\n",
       "      <td>Perl</td>\n",
       "      <td>205</td>\n",
       "      <td>295</td>\n",
       "      <td>EUR</td>\n",
       "      <td>Creative</td>\n",
       "      <td>6.387211</td>\n",
       "      <td>49.535173</td>\n",
       "      <td>4.968668e+10</td>\n",
       "      <td>https://guide.michelin.com/en/saarland/perl/re...</td>\n",
       "      <td>https://www.victors-fine-dining.de/</td>\n",
       "      <td>3 MICHELIN Stars</td>\n",
       "    </tr>\n",
       "    <tr>\n",
       "      <th>4</th>\n",
       "      <td>Rutz</td>\n",
       "      <td>Chausseestraße 8, Berlin, 10115, Germany</td>\n",
       "      <td>Berlin</td>\n",
       "      <td>198</td>\n",
       "      <td>245</td>\n",
       "      <td>EUR</td>\n",
       "      <td>Modern Cuisine, Creative</td>\n",
       "      <td>13.386087</td>\n",
       "      <td>52.528351</td>\n",
       "      <td>4.930246e+11</td>\n",
       "      <td>https://guide.michelin.com/en/berlin-region/be...</td>\n",
       "      <td>https://www.rutz-restaurant.de/</td>\n",
       "      <td>3 MICHELIN Stars</td>\n",
       "    </tr>\n",
       "    <tr>\n",
       "      <th>...</th>\n",
       "      <td>...</td>\n",
       "      <td>...</td>\n",
       "      <td>...</td>\n",
       "      <td>...</td>\n",
       "      <td>...</td>\n",
       "      <td>...</td>\n",
       "      <td>...</td>\n",
       "      <td>...</td>\n",
       "      <td>...</td>\n",
       "      <td>...</td>\n",
       "      <td>...</td>\n",
       "      <td>...</td>\n",
       "      <td>...</td>\n",
       "    </tr>\n",
       "    <tr>\n",
       "      <th>6497</th>\n",
       "      <td>Szóstka</td>\n",
       "      <td>Plac Powstańców Warszawy 9, Warsaw, 00 039, Po...</td>\n",
       "      <td>Warsaw</td>\n",
       "      <td>180</td>\n",
       "      <td>180</td>\n",
       "      <td>PLN</td>\n",
       "      <td>Polish, Modern Cuisine</td>\n",
       "      <td>21.012698</td>\n",
       "      <td>52.235803</td>\n",
       "      <td>4.822470e+10</td>\n",
       "      <td>https://guide.michelin.com/en/masovia/warsaw/r...</td>\n",
       "      <td>http://www.warszawa.hotel.com.pl/hotel-warszaw...</td>\n",
       "      <td>Bib Gourmand</td>\n",
       "    </tr>\n",
       "    <tr>\n",
       "      <th>6498</th>\n",
       "      <td>Fiorentina</td>\n",
       "      <td>ul. Grodzka 63, Cracow, 31 044, Poland</td>\n",
       "      <td>Cracow</td>\n",
       "      <td>175</td>\n",
       "      <td>290</td>\n",
       "      <td>PLN</td>\n",
       "      <td>Creative, Polish</td>\n",
       "      <td>19.938179</td>\n",
       "      <td>50.055898</td>\n",
       "      <td>4.812426e+10</td>\n",
       "      <td>https://guide.michelin.com/en/lesser-poland/cr...</td>\n",
       "      <td>https://www.fiorentina.com.pl/</td>\n",
       "      <td>Bib Gourmand</td>\n",
       "    </tr>\n",
       "    <tr>\n",
       "      <th>6499</th>\n",
       "      <td>Zazie</td>\n",
       "      <td>ul. Józefa 34, Cracow, 32 056, Poland</td>\n",
       "      <td>Cracow</td>\n",
       "      <td>41</td>\n",
       "      <td>95</td>\n",
       "      <td>PLN</td>\n",
       "      <td>French</td>\n",
       "      <td>19.946949</td>\n",
       "      <td>50.051240</td>\n",
       "      <td>4.850041e+10</td>\n",
       "      <td>https://guide.michelin.com/en/lesser-poland/cr...</td>\n",
       "      <td>https://www.zaziebistro.pl/</td>\n",
       "      <td>Bib Gourmand</td>\n",
       "    </tr>\n",
       "    <tr>\n",
       "      <th>6500</th>\n",
       "      <td>Butchery &amp; Wine</td>\n",
       "      <td>ul. Żurawia 22, Warsaw, 00 515, Poland</td>\n",
       "      <td>Warsaw</td>\n",
       "      <td>235</td>\n",
       "      <td>235</td>\n",
       "      <td>PLN</td>\n",
       "      <td>Meats and Grills, Traditional Cuisine</td>\n",
       "      <td>21.015495</td>\n",
       "      <td>52.228581</td>\n",
       "      <td>4.822502e+10</td>\n",
       "      <td>https://guide.michelin.com/en/masovia/warsaw/r...</td>\n",
       "      <td>https://www.butcheryandwine.pl/</td>\n",
       "      <td>Bib Gourmand</td>\n",
       "    </tr>\n",
       "    <tr>\n",
       "      <th>6501</th>\n",
       "      <td>alewino</td>\n",
       "      <td>ul. Mokotowska 48, Warsaw, 00 543, Poland</td>\n",
       "      <td>Warsaw</td>\n",
       "      <td>156</td>\n",
       "      <td>156</td>\n",
       "      <td>PLN</td>\n",
       "      <td>Polish, Traditional Cuisine</td>\n",
       "      <td>21.022057</td>\n",
       "      <td>52.225201</td>\n",
       "      <td>4.822628e+10</td>\n",
       "      <td>https://guide.michelin.com/en/masovia/warsaw/r...</td>\n",
       "      <td>https://www.alewino.pl/</td>\n",
       "      <td>Bib Gourmand</td>\n",
       "    </tr>\n",
       "  </tbody>\n",
       "</table>\n",
       "<p>6502 rows × 13 columns</p>\n",
       "</div>"
      ],
      "text/plain": [
       "                                        Name  \\\n",
       "0                                       Aqua   \n",
       "1                    The Table Kevin Fehling   \n",
       "2     Restaurant Überfahrt Christian Jürgens   \n",
       "3      Victor's Fine Dining by christian bau   \n",
       "4                                       Rutz   \n",
       "...                                      ...   \n",
       "6497                                 Szóstka   \n",
       "6498                              Fiorentina   \n",
       "6499                                   Zazie   \n",
       "6500                         Butchery & Wine   \n",
       "6501                                 alewino   \n",
       "\n",
       "                                                Address       Location  \\\n",
       "0               Parkstraße 1, Wolfsburg, 38440, Germany      Wolfsburg   \n",
       "1             Shanghaiallee 15, Hamburg, 20457, Germany        Hamburg   \n",
       "2     Überfahrtstraße 10, Rottach-Egern, 83700, Germany  Rottach-Egern   \n",
       "3                Schlossstraße 27, Perl, 66706, Germany           Perl   \n",
       "4              Chausseestraße 8, Berlin, 10115, Germany         Berlin   \n",
       "...                                                 ...            ...   \n",
       "6497  Plac Powstańców Warszawy 9, Warsaw, 00 039, Po...         Warsaw   \n",
       "6498             ul. Grodzka 63, Cracow, 31 044, Poland         Cracow   \n",
       "6499              ul. Józefa 34, Cracow, 32 056, Poland         Cracow   \n",
       "6500             ul. Żurawia 22, Warsaw, 00 515, Poland         Warsaw   \n",
       "6501          ul. Mokotowska 48, Warsaw, 00 543, Poland         Warsaw   \n",
       "\n",
       "     MinPrice MaxPrice Currency                                Cuisine  \\\n",
       "0         225      225      EUR               Creative, Modern Cuisine   \n",
       "1         230      230      EUR                               Creative   \n",
       "2         259      319      EUR                               Creative   \n",
       "3         205      295      EUR                               Creative   \n",
       "4         198      245      EUR               Modern Cuisine, Creative   \n",
       "...       ...      ...      ...                                    ...   \n",
       "6497      180      180      PLN                 Polish, Modern Cuisine   \n",
       "6498      175      290      PLN                       Creative, Polish   \n",
       "6499       41       95      PLN                                 French   \n",
       "6500      235      235      PLN  Meats and Grills, Traditional Cuisine   \n",
       "6501      156      156      PLN            Polish, Traditional Cuisine   \n",
       "\n",
       "      Longitude   Latitude   PhoneNumber  \\\n",
       "0     10.789999  52.433172  4.953616e+11   \n",
       "1     10.002980  53.542623  4.940229e+11   \n",
       "2     11.758229  47.696685  4.980227e+09   \n",
       "3      6.387211  49.535173  4.968668e+10   \n",
       "4     13.386087  52.528351  4.930246e+11   \n",
       "...         ...        ...           ...   \n",
       "6497  21.012698  52.235803  4.822470e+10   \n",
       "6498  19.938179  50.055898  4.812426e+10   \n",
       "6499  19.946949  50.051240  4.850041e+10   \n",
       "6500  21.015495  52.228581  4.822502e+10   \n",
       "6501  21.022057  52.225201  4.822628e+10   \n",
       "\n",
       "                                                    Url  \\\n",
       "0     https://guide.michelin.com/en/niedersachsen/wo...   \n",
       "1     https://guide.michelin.com/en/hamburg-region/h...   \n",
       "2     https://guide.michelin.com/en/bayern/rottach-e...   \n",
       "3     https://guide.michelin.com/en/saarland/perl/re...   \n",
       "4     https://guide.michelin.com/en/berlin-region/be...   \n",
       "...                                                 ...   \n",
       "6497  https://guide.michelin.com/en/masovia/warsaw/r...   \n",
       "6498  https://guide.michelin.com/en/lesser-poland/cr...   \n",
       "6499  https://guide.michelin.com/en/lesser-poland/cr...   \n",
       "6500  https://guide.michelin.com/en/masovia/warsaw/r...   \n",
       "6501  https://guide.michelin.com/en/masovia/warsaw/r...   \n",
       "\n",
       "                                             WebsiteUrl             Award  \n",
       "0                        http://www.restaurant-aqua.com  3 MICHELIN Stars  \n",
       "1                      http://www.the-table-hamburg.de/  3 MICHELIN Stars  \n",
       "2                      http://www.althoffcollection.com  3 MICHELIN Stars  \n",
       "3                   https://www.victors-fine-dining.de/  3 MICHELIN Stars  \n",
       "4                       https://www.rutz-restaurant.de/  3 MICHELIN Stars  \n",
       "...                                                 ...               ...  \n",
       "6497  http://www.warszawa.hotel.com.pl/hotel-warszaw...      Bib Gourmand  \n",
       "6498                     https://www.fiorentina.com.pl/      Bib Gourmand  \n",
       "6499                        https://www.zaziebistro.pl/      Bib Gourmand  \n",
       "6500                    https://www.butcheryandwine.pl/      Bib Gourmand  \n",
       "6501                            https://www.alewino.pl/      Bib Gourmand  \n",
       "\n",
       "[6502 rows x 13 columns]"
      ]
     },
     "metadata": {},
     "output_type": "display_data"
    }
   ],
   "source": [
    "# Display all the columns\n",
    "\n",
    "pd.set_option('display.max_columns', 50)\n",
    "display(df)"
   ]
  },
  {
   "cell_type": "code",
   "execution_count": 81,
   "metadata": {},
   "outputs": [
    {
     "name": "stdout",
     "output_type": "stream",
     "text": [
      "<class 'pandas.core.frame.DataFrame'>\n",
      "RangeIndex: 6502 entries, 0 to 6501\n",
      "Data columns (total 13 columns):\n",
      " #   Column       Non-Null Count  Dtype  \n",
      "---  ------       --------------  -----  \n",
      " 0   Name         6502 non-null   object \n",
      " 1   Address      6502 non-null   object \n",
      " 2   Location     6502 non-null   object \n",
      " 3   MinPrice     6501 non-null   object \n",
      " 4   MaxPrice     6501 non-null   object \n",
      " 5   Currency     6501 non-null   object \n",
      " 6   Cuisine      6502 non-null   object \n",
      " 7   Longitude    6502 non-null   float64\n",
      " 8   Latitude     6502 non-null   float64\n",
      " 9   PhoneNumber  6381 non-null   float64\n",
      " 10  Url          6502 non-null   object \n",
      " 11  WebsiteUrl   5375 non-null   object \n",
      " 12  Award        6502 non-null   object \n",
      "dtypes: float64(3), object(10)\n",
      "memory usage: 660.5+ KB\n"
     ]
    }
   ],
   "source": [
    "# Check the data types of each column and non-missing rows\n",
    "\n",
    "df.info()"
   ]
  },
  {
   "cell_type": "markdown",
   "metadata": {},
   "source": [
    "A data cleaning will be conducted. The insterested columns with non-missing rows will be kept."
   ]
  },
  {
   "cell_type": "code",
   "execution_count": 82,
   "metadata": {},
   "outputs": [
    {
     "data": {
      "text/html": [
       "<div>\n",
       "<style scoped>\n",
       "    .dataframe tbody tr th:only-of-type {\n",
       "        vertical-align: middle;\n",
       "    }\n",
       "\n",
       "    .dataframe tbody tr th {\n",
       "        vertical-align: top;\n",
       "    }\n",
       "\n",
       "    .dataframe thead th {\n",
       "        text-align: right;\n",
       "    }\n",
       "</style>\n",
       "<table border=\"1\" class=\"dataframe\">\n",
       "  <thead>\n",
       "    <tr style=\"text-align: right;\">\n",
       "      <th></th>\n",
       "      <th>Name</th>\n",
       "      <th>Address</th>\n",
       "      <th>Location</th>\n",
       "      <th>MinPrice</th>\n",
       "      <th>MaxPrice</th>\n",
       "      <th>Currency</th>\n",
       "      <th>Cuisine</th>\n",
       "      <th>Longitude</th>\n",
       "      <th>Latitude</th>\n",
       "      <th>Award</th>\n",
       "    </tr>\n",
       "  </thead>\n",
       "  <tbody>\n",
       "    <tr>\n",
       "      <th>0</th>\n",
       "      <td>Aqua</td>\n",
       "      <td>Parkstraße 1, Wolfsburg, 38440, Germany</td>\n",
       "      <td>Wolfsburg</td>\n",
       "      <td>225</td>\n",
       "      <td>225</td>\n",
       "      <td>EUR</td>\n",
       "      <td>Creative, Modern Cuisine</td>\n",
       "      <td>10.789999</td>\n",
       "      <td>52.433172</td>\n",
       "      <td>3 MICHELIN Stars</td>\n",
       "    </tr>\n",
       "    <tr>\n",
       "      <th>1</th>\n",
       "      <td>The Table Kevin Fehling</td>\n",
       "      <td>Shanghaiallee 15, Hamburg, 20457, Germany</td>\n",
       "      <td>Hamburg</td>\n",
       "      <td>230</td>\n",
       "      <td>230</td>\n",
       "      <td>EUR</td>\n",
       "      <td>Creative</td>\n",
       "      <td>10.002980</td>\n",
       "      <td>53.542623</td>\n",
       "      <td>3 MICHELIN Stars</td>\n",
       "    </tr>\n",
       "    <tr>\n",
       "      <th>2</th>\n",
       "      <td>Restaurant Überfahrt Christian Jürgens</td>\n",
       "      <td>Überfahrtstraße 10, Rottach-Egern, 83700, Germany</td>\n",
       "      <td>Rottach-Egern</td>\n",
       "      <td>259</td>\n",
       "      <td>319</td>\n",
       "      <td>EUR</td>\n",
       "      <td>Creative</td>\n",
       "      <td>11.758229</td>\n",
       "      <td>47.696685</td>\n",
       "      <td>3 MICHELIN Stars</td>\n",
       "    </tr>\n",
       "    <tr>\n",
       "      <th>3</th>\n",
       "      <td>Victor's Fine Dining by christian bau</td>\n",
       "      <td>Schlossstraße 27, Perl, 66706, Germany</td>\n",
       "      <td>Perl</td>\n",
       "      <td>205</td>\n",
       "      <td>295</td>\n",
       "      <td>EUR</td>\n",
       "      <td>Creative</td>\n",
       "      <td>6.387211</td>\n",
       "      <td>49.535173</td>\n",
       "      <td>3 MICHELIN Stars</td>\n",
       "    </tr>\n",
       "    <tr>\n",
       "      <th>4</th>\n",
       "      <td>Rutz</td>\n",
       "      <td>Chausseestraße 8, Berlin, 10115, Germany</td>\n",
       "      <td>Berlin</td>\n",
       "      <td>198</td>\n",
       "      <td>245</td>\n",
       "      <td>EUR</td>\n",
       "      <td>Modern Cuisine, Creative</td>\n",
       "      <td>13.386087</td>\n",
       "      <td>52.528351</td>\n",
       "      <td>3 MICHELIN Stars</td>\n",
       "    </tr>\n",
       "  </tbody>\n",
       "</table>\n",
       "</div>"
      ],
      "text/plain": [
       "                                     Name  \\\n",
       "0                                    Aqua   \n",
       "1                 The Table Kevin Fehling   \n",
       "2  Restaurant Überfahrt Christian Jürgens   \n",
       "3   Victor's Fine Dining by christian bau   \n",
       "4                                    Rutz   \n",
       "\n",
       "                                             Address       Location MinPrice  \\\n",
       "0            Parkstraße 1, Wolfsburg, 38440, Germany      Wolfsburg      225   \n",
       "1          Shanghaiallee 15, Hamburg, 20457, Germany        Hamburg      230   \n",
       "2  Überfahrtstraße 10, Rottach-Egern, 83700, Germany  Rottach-Egern      259   \n",
       "3             Schlossstraße 27, Perl, 66706, Germany           Perl      205   \n",
       "4           Chausseestraße 8, Berlin, 10115, Germany         Berlin      198   \n",
       "\n",
       "  MaxPrice Currency                   Cuisine  Longitude   Latitude  \\\n",
       "0      225      EUR  Creative, Modern Cuisine  10.789999  52.433172   \n",
       "1      230      EUR                  Creative  10.002980  53.542623   \n",
       "2      319      EUR                  Creative  11.758229  47.696685   \n",
       "3      295      EUR                  Creative   6.387211  49.535173   \n",
       "4      245      EUR  Modern Cuisine, Creative  13.386087  52.528351   \n",
       "\n",
       "              Award  \n",
       "0  3 MICHELIN Stars  \n",
       "1  3 MICHELIN Stars  \n",
       "2  3 MICHELIN Stars  \n",
       "3  3 MICHELIN Stars  \n",
       "4  3 MICHELIN Stars  "
      ]
     },
     "execution_count": 82,
     "metadata": {},
     "output_type": "execute_result"
    }
   ],
   "source": [
    "# Clean the data, keep rows with non-missing Name, Address, Location, MinPrice, MaxPrice, Currency, Cuisine, Longtitude, Latitude, and Award.\n",
    "michelin = df.loc[:, [\"Name\", \"Address\", \"Location\", \"MinPrice\", \"MaxPrice\", \"Currency\", \"Cuisine\", \"Longitude\", \"Latitude\",\"Award\"]]\n",
    "michelin = michelin.dropna()\n",
    "michelin = michelin.reset_index(drop=True)\n",
    "michelin.head(5)"
   ]
  },
  {
   "cell_type": "markdown",
   "metadata": {
    "collapsed": true
   },
   "source": [
    "The next step is to convert currencies. To give a intuitive comparison, all prices will be converted to USD."
   ]
  },
  {
   "cell_type": "code",
   "execution_count": 83,
   "metadata": {
    "collapsed": true
   },
   "outputs": [],
   "source": [
    "michelin2 = michelin.copy()"
   ]
  },
  {
   "cell_type": "code",
   "execution_count": 84,
   "metadata": {
    "collapsed": true
   },
   "outputs": [],
   "source": [
    "michelin2['Rate'] = 0\n",
    "michelin2['cminprice'] = 0\n",
    "michelin2['cmaxprice'] = 0"
   ]
  },
  {
   "cell_type": "code",
   "execution_count": 85,
   "metadata": {},
   "outputs": [],
   "source": [
    "%%capture --no-stderr\n",
    "!pip install requests"
   ]
  },
  {
   "cell_type": "code",
   "execution_count": 86,
   "metadata": {
    "collapsed": true
   },
   "outputs": [],
   "source": [
    "st = ','.join(set(list((michelin['Currency']))))"
   ]
  },
  {
   "cell_type": "code",
   "execution_count": 87,
   "metadata": {},
   "outputs": [],
   "source": [
    "pd.options.mode.chained_assignment = None\n",
    "import requests\n",
    "\n",
    "api = \"p9CdBS0XFeoB0CR3iEm9ErnxPndZjtdE\"\n",
    "\n",
    "params = {'access_key': api, 'currencies': st, 'format': 1}\n",
    "\n",
    "url = \"https://v6.exchangerate-api.com/v6/{0}/latest/USD\".format(api)\n",
    "url = \"https://v6.exchangerate-api.com/v6/a3b189d15daf0fe8105487e6/latest/USD\"\n",
    "\n",
    "response = requests.get(url)\n",
    "\n",
    "r = requests.get('http://apilayer.net/api/live', params = params)\n",
    "\n",
    "data = response.json()['conversion_rates']\n",
    "\n",
    "unique_currency = list(set(list(michelin['Currency'])))\n",
    "\n",
    "for currency in unique_currency:\n",
    "    michelin2['Rate'][michelin2['Currency'] == currency] = data[currency]\n"
   ]
  },
  {
   "cell_type": "code",
   "execution_count": 88,
   "metadata": {},
   "outputs": [],
   "source": [
    "pd.options.mode.chained_assignment = None\n",
    "for i in range(michelin2.shape[0]):\n",
    "        michelin2['cminprice'][i] = float(\"\".join(michelin2['MinPrice'][i].split(',')))/michelin2['Rate'][i]\n",
    "        michelin2['cmaxprice'][i] = float(\"\".join(michelin2['MaxPrice'][i].split(',')))/michelin2['Rate'][i]"
   ]
  },
  {
   "cell_type": "code",
   "execution_count": 89,
   "metadata": {
    "collapsed": true
   },
   "outputs": [],
   "source": [
    "michelin = michelin2.loc[:,['Name', 'Address', 'Location','Cuisine', 'Longitude', 'Latitude', 'Award','cminprice', 'cmaxprice']]\n",
    "michelin.rename(columns={\"cminprice\": \"MinPrice\", \"cmaxprice\": \"MaxPrice\"}, inplace=True)\n"
   ]
  },
  {
   "cell_type": "code",
   "execution_count": 90,
   "metadata": {
    "collapsed": true
   },
   "outputs": [],
   "source": [
    "michelin.to_csv(\"michelin_cleaned.csv\")"
   ]
  },
  {
   "cell_type": "markdown",
   "metadata": {},
   "source": [
    "### Explore the price differences between cuisines and cities."
   ]
  },
  {
   "cell_type": "markdown",
   "metadata": {},
   "source": [
    "First, let's have a look to the distribution of minimum price and maximum price."
   ]
  },
  {
   "cell_type": "code",
   "execution_count": 91,
   "metadata": {},
   "outputs": [
    {
     "data": {
      "application/vnd.plotly.v1+json": {
       "config": {
        "plotlyServerURL": "https://plot.ly"
       },
       "data": [
        {
         "alignmentgroup": "True",
         "hovertemplate": "MinPrice=%{x}<extra></extra>",
         "legendgroup": "",
         "marker": {
          "color": "#636efa"
         },
         "name": "",
         "notched": false,
         "offsetgroup": "",
         "orientation": "h",
         "showlegend": false,
         "type": "box",
         "x": [
          237.46701846965698,
          242.74406332453825,
          273.3509234828496,
          216.35883905013193,
          208.97097625329815,
          158.31134564643799,
          226.91292875989447,
          121.37203166226912,
          237.46701846965698,
          97.44665104230911,
          339.21302578019,
          209.6953250277538,
          148.02022943135563,
          104.8476625138769,
          154.18773899099543,
          154.18773899099543,
          117.18268163315653,
          279.6833773087071,
          148.5928259383637,
          103.86638533091622,
          108.79240431213529,
          122.14419938680643,
          346.1576500840668,
          89.13563897519482,
          178.27127795038965,
          254.67325421484236,
          94.86578719502877,
          254.67325421484236,
          96.7758366016401,
          86.5889064330464,
          263.85224274406335,
          232.1899736147757,
          226.91292875989447,
          200.52770448548813,
          221.6358839050132,
          207.9155672823219,
          385.2242744063324,
          242.74406332453825,
          253.29815303430078,
          184.69656992084433,
          263.85224274406335,
          99.65725569982007,
          260.6420533687602,
          329.63553808402025,
          283.6398816071802,
          260.6420533687602,
          268.3079961149002,
          199.31451139964014,
          176.31668316122014,
          375.6311945608603,
          291.30582435332025,
          329.63553808402025,
          206.98045414578016,
          102.04183354104079,
          85.55815273825728,
          158.31134564643799,
          158.31134564643799,
          179.41952506596306,
          337.73087071240104,
          232.1899736147757,
          295.5145118733509,
          211.08179419525067,
          158.31134564643799,
          284.96042216358836,
          211.08179419525067,
          263.85224274406335,
          276.0854705934797,
          594.3713037534548,
          99.65725569982007,
          306.6377098456002,
          153.3188549228001,
          199.31451139964014,
          130.3210266843801,
          61.32754196912005,
          383.2971373070003,
          199.31451139964014,
          375.6311945608603,
          350,
          375,
          325,
          298,
          350,
          360,
          377.5422002762019,
          363.51173104286323,
          396.1068356722499,
          396.1068356722499,
          214.28057812612352,
          161.78902710865032,
          323.57805421730063,
          168.40857266998322,
          125,
          355,
          595,
          93,
          395,
          210,
          238,
          174.1424802110818,
          244.85488126649076,
          216.58104160370706,
          196.43396796615292,
          217.58839528558477,
          200.52770448548813,
          153.03430079155672,
          279.6833773087071,
          263.85224274406335,
          327.1767810026385,
          401.05540897097626,
          252.24274406332452,
          295.5145118733509,
          374.6701846965699,
          184.69656992084433,
          369.39313984168865,
          137.20316622691294,
          126.64907651715039,
          158.31134564643799,
          348.2849604221636,
          327.1767810026385,
          274.4063324538259,
          89.70976253298153,
          221.6358839050132,
          401.05540897097626,
          263.85224274406335,
          205.8047493403694,
          195.25065963060686,
          89.70976253298153,
          174.1424802110818,
          200.52770448548813,
          189.9736147757256,
          189.9736147757256,
          156.2005277044855,
          205.8047493403694,
          311.34564643799473,
          153.03430079155672,
          158.31134564643799,
          199.47229551451187,
          258.57519788918205,
          115.03957783641161,
          142.48021108179418,
          104.48548812664907,
          225.8575197889182,
          153.03430079155672,
          221.6358839050132,
          163.58839050131925,
          110.8179419525066,
          200.52770448548813,
          253.29815303430078,
          157.25593667546173,
          92.87598944591029,
          103.43007915567283,
          104.48548812664907,
          153.03430079155672,
          188.91820580474933,
          150.92348284960423,
          116.09498680738785,
          93.93139841688654,
          151.9788918205805,
          200.52770448548813,
          153.03430079155672,
          200.52770448548813,
          189.9736147757256,
          153.03430079155672,
          158.31134564643799,
          126.64907651715039,
          137.20316622691294,
          199.47229551451187,
          125.59366754617415,
          155.14511873350924,
          50.659630606860155,
          82.32189973614776,
          65.4353562005277,
          214.24802110817942,
          113.98416886543535,
          208.97097625329815,
          205.8047493403694,
          178.3641160949868,
          216.35883905013193,
          105.54089709762533,
          216.35883905013193,
          68.60158311345647,
          221.6358839050132,
          84.43271767810026,
          68.60158311345647,
          370.05057357838905,
          302.2079684223511,
          141.8527198717158,
          215.86283458739362,
          191.19279634883435,
          160.35524855063525,
          117.18268163315653,
          187.49229061305044,
          152.95423707906747,
          135.68521031207598,
          111.01517207351672,
          74.01011471567782,
          160.35524855063525,
          148.02022943135563,
          148.02022943135563,
          80.17762427531763,
          308.37547798199085,
          141.8527198717158,
          89.70976253298153,
          147.75725593667545,
          168.86543535620052,
          142.48021108179418,
          153.03430079155672,
          59.10290237467019,
          222.88923890754555,
          148.5928259383637,
          87.37258165175786,
          208.68361190782315,
          108.79240431213529,
          271.98101078033824,
          98.90218573830481,
          247.25546434576202,
          100.34126216064789,
          86.5889064330464,
          37.94631487801151,
          125.80858758213212,
          71.30851118015586,
          63.413640299495746,
          101.6146284317221,
          138.54225029287423,
          63.413640299495746,
          150.25721998675698,
          328.52849793714665,
          87.60759944990576,
          178.31139112603643,
          101.2461960357775,
          228.52712819504066,
          35.26260370503222,
          188.02864978072967,
          101.2461960357775,
          92.5679506612823,
          116.09498680738785,
          221.6358839050132,
          189.9736147757256,
          137.20316622691294,
          163.58839050131925,
          147.75725593667545,
          105.54089709762533,
          126.64907651715039,
          94.9868073878628,
          110.8179419525066,
          59.10290237467019,
          94.9868073878628,
          163.58839050131925,
          142.48021108179418,
          116.09498680738785,
          243.7994722955145,
          100.26385224274406,
          137.20316622691294,
          158.31134564643799,
          158.31134564643799,
          158.31134564643799,
          89.70976253298153,
          58.04749340369393,
          94.9868073878628,
          208.97097625329815,
          195.25065963060686,
          153.03430079155672,
          100.26385224274406,
          205.8047493403694,
          174.1424802110818,
          103.43007915567283,
          100.26385224274406,
          179.41952506596306,
          174.1424802110818,
          221.6358839050132,
          125.59366754617415,
          158.31134564643799,
          184.69656992084433,
          101.31926121372031,
          195.25065963060686,
          91.99131295368007,
          145.65291217666012,
          237.64422513034017,
          145.65291217666012,
          114.98914119210009,
          122.6550839382401,
          107.32319844596009,
          145.65291217666012,
          283.6398816071802,
          68.99348471526005,
          321.96959533788026,
          49.828627849910035,
          176.31668316122014,
          65.16051334219004,
          30.663770984560024,
          114.98914119210009,
          283.6398816071802,
          49.828627849910035,
          145.65291217666012,
          72.82645608833006,
          222.31233963806017,
          291.30582435332025,
          137.9869694305201,
          191.64856865350015,
          191.64856865350015,
          68.99348471526005,
          99.65725569982007,
          107.32319844596009,
          199.31451139964014,
          191.64856865350015,
          252.97611062262018,
          145.65291217666012,
          84.32537020754006,
          214.64639689192018,
          84.32537020754006,
          145.65291217666012,
          237.64422513034017,
          237.64422513034017,
          160.98479766894013,
          153.3188549228001,
          229.97828238420018,
          156.98743621698583,
          60.44016294353955,
          61.225100124624475,
          109.89120535189008,
          82.41840401391757,
          70.64434629764362,
          94.1924617301915,
          105.54089709762533,
          116.09498680738785,
          187.86279683377307,
          100.26385224274406,
          126.64907651715039,
          147.75725593667545,
          168.86543535620052,
          137.20316622691294,
          195.25065963060686,
          79.15567282321899,
          73.87862796833772,
          189.9736147757256,
          158.31134564643799,
          168.86543535620052,
          137.20316622691294,
          168.86543535620052,
          68.60158311345647,
          116.09498680738785,
          94.9868073878628,
          105.54089709762533,
          116.09498680738785,
          263.85224274406335,
          158.31134564643799,
          145.64643799472296,
          189.9736147757256,
          126.64907651715039,
          158.31134564643799,
          137.20316622691294,
          63.324538258575195,
          94.9868073878628,
          232.1899736147757,
          100.26385224274406,
          188.91820580474933,
          115.03957783641161,
          68.60158311345647,
          105.54089709762533,
          147.75725593667545,
          184.69656992084433,
          126.64907651715039,
          74.29641296918184,
          102.23186424559422,
          102.23186424559422,
          103.71779250497787,
          74.29641296918184,
          44.57784778150911,
          48.73844690778329,
          148.5928259383637,
          145.65291217666012,
          61.32754196912005,
          283.6398816071802,
          237.64422513034017,
          130.3210266843801,
          168.65074041508012,
          214.64639689192018,
          191.64856865350015,
          122.6550839382401,
          168.65074041508012,
          252.97611062262018,
          91.99131295368007,
          145.65291217666012,
          114.98914119210009,
          84.32537020754006,
          99.65725569982007,
          84.32537020754006,
          214.64639689192018,
          49.828627849910035,
          383.2971373070003,
          68.99348471526005,
          183.98262590736013,
          76.65942746140006,
          145.65291217666012,
          68.99348471526005,
          168.65074041508012,
          229.97828238420018,
          53.661599222980044,
          245.3101678764802,
          199.31451139964014,
          180,
          295,
          225,
          300,
          175,
          189,
          295,
          295,
          245,
          199,
          255,
          248,
          65,
          150,
          250,
          223,
          237.46701846965698,
          221.1061249962852,
          74.29641296918184,
          148.5928259383637,
          273.2213291472514,
          208.6417422579011,
          278.18898967720145,
          248.38302649750128,
          301.1954342926581,
          268.7867813490267,
          91.95337256677229,
          353.6668175645088,
          353.6668175645088,
          381.9601629696695,
          240.493435943866,
          495.13354459031234,
          230.099949665636,
          107.85935140576687,
          113.61185014740778,
          395.48428848781185,
          84.84935643920328,
          151.56771540298487,
          126.3064295024874,
          127.99051522918724,
          202.09028720397984,
          56.585280417114355,
          103.73968076470965,
          90.266994951111,
          62.311171887893785,
          138,
          195,
          225,
          36,
          285,
          148,
          198,
          165,
          90,
          295,
          145,
          158,
          78,
          285,
          265,
          285,
          285,
          305,
          150,
          295,
          89.70976253298153,
          79.15567282321899,
          131.92612137203167,
          125.59366754617415,
          83.37730870712402,
          100.26385224274406,
          158.31134564643799,
          216.35883905013193,
          153.03430079155672,
          110.8179419525066,
          89.70976253298153,
          105.54089709762533,
          65.4353562005277,
          79.15567282321899,
          88.65435356200527,
          137.20316622691294,
          68.60158311345647,
          51.715039577836414,
          88.64712400523824,
          125.9192102347134,
          251.8384204694268,
          226.65457842248412,
          161.17658910043315,
          186.36043114737583,
          271.985494106981,
          89.65447768711594,
          226.65457842248412,
          166.2133575098217,
          277.0222625163695,
          98.72066082401531,
          112.82361237030321,
          251.8384204694268,
          166.2133575098217,
          230.68399314999496,
          221.61781001309558,
          161.17658910043315,
          149.08834491790068,
          159.16188173667774,
          206.50750478492998,
          146.06628387226755,
          66.48534300392868,
          86.54353562005277,
          174.1424802110818,
          137.20316622691294,
          248.0211081794195,
          83.37730870712402,
          242.74406332453825,
          137.20316622691294,
          84.43271767810026,
          184.69656992084433,
          91.82058047493403,
          174.1424802110818,
          311.34564643799473,
          93.93139841688654,
          107.65171503957784,
          79.15567282321899,
          263.85224274406335,
          79.15567282321899,
          94.9868073878628,
          79.15567282321899,
          47.4934036939314,
          89.70976253298153,
          94.9868073878628,
          94.9868073878628,
          205.8047493403694,
          143.53562005277044,
          126.64907651715039,
          195.25065963060686,
          137.20316622691294,
          146.70184696569922,
          156.2005277044855,
          73.87862796833772,
          94.9868073878628,
          103.43007915567283,
          52.770448548812666,
          116.09498680738785,
          94.9868073878628,
          41.16094986807388,
          121.37203166226912,
          52.770448548812666,
          94.9868073878628,
          263.85224274406335,
          205.8047493403694,
          72.82321899736148,
          163.58839050131925,
          200.52770448548813,
          84.43271767810026,
          163.58839050131925,
          89.70976253298153,
          82.32189973614776,
          100.26385224274406,
          79.15567282321899,
          177.30870712401054,
          50.659630606860155,
          100.26385224274406,
          61.21372031662269,
          189.9736147757256,
          147.75725593667545,
          179.41952506596306,
          68.60158311345647,
          126.64907651715039,
          65.4353562005277,
          83.37730870712402,
          79.15567282321899,
          68.60158311345647,
          179.41952506596306,
          168.86543535620052,
          79.15567282321899,
          142.48021108179418,
          60.15831134564644,
          94.9868073878628,
          174.1424802110818,
          121.37203166226912,
          105.54089709762533,
          63.324538258575195,
          248.0211081794195,
          79.15567282321899,
          89.70976253298153,
          63.324538258575195,
          72.82321899736148,
          79.15567282321899,
          105.54089709762533,
          100.26385224274406,
          83.37730870712402,
          221.6358839050132,
          72.82321899736148,
          242.74406332453825,
          137.20316622691294,
          73.87862796833772,
          72.82321899736148,
          105.54089709762533,
          84.43271767810026,
          58.04749340369393,
          58.04749340369393,
          89.70976253298153,
          100.26385224274406,
          184.69656992084433,
          110.8179419525066,
          81.01829256388731,
          31.235968217402338,
          85.89891259785644,
          86.87503660465025,
          105.54089709762533,
          100.26385224274406,
          110.8179419525066,
          93.93139841688654,
          126.64907651715039,
          93.93139841688654,
          103.43007915567283,
          126.64907651715039,
          79.15567282321899,
          47.4934036939314,
          105.54089709762533,
          79.15567282321899,
          111.87335092348285,
          121.37203166226912,
          104.48548812664907,
          79.15567282321899,
          79.15567282321899,
          125.59366754617415,
          72.82321899736148,
          137.20316622691294,
          115.03957783641161,
          101.31926121372031,
          100.26385224274406,
          93.93139841688654,
          142.48021108179418,
          116.09498680738785,
          83.37730870712402,
          90.76517150395779,
          178.3641160949868,
          113.98416886543535,
          142.48021108179418,
          58.04749340369393,
          93.93139841688654,
          137.20316622691294,
          167.81002638522426,
          69.65699208443272,
          136.14775725593668,
          79.15567282321899,
          93.93139841688654,
          98.15303430079156,
          100.26385224274406,
          72.82321899736148,
          62.26912928759894,
          100.26385224274406,
          121.37203166226912,
          42.21635883905013,
          126.64907651715039,
          158.31134564643799,
          100.26385224274406,
          167.81002638522426,
          93.93139841688654,
          90.76517150395779,
          89.70976253298153,
          89.70976253298153,
          41.16094986807388,
          115.03957783641161,
          92.87598944591029,
          142.48021108179418,
          89.70976253298153,
          61.21372031662269,
          68.60158311345647,
          58.04749340369393,
          73.87862796833772,
          136.14775725593668,
          100.26385224274406,
          88.65435356200527,
          44.327176781002635,
          137.20316622691294,
          56.992084432717675,
          68.60158311345647,
          131.92612137203167,
          163.58839050131925,
          41.16094986807388,
          110.8179419525066,
          126.64907651715039,
          142.48021108179418,
          83.37730870712402,
          75.98944591029024,
          75.98944591029024,
          184.69656992084433,
          163.58839050131925,
          85.48812664907652,
          110.8179419525066,
          93.93139841688654,
          37.99472295514512,
          103.43007915567283,
          126.64907651715039,
          79.15567282321899,
          129.81530343007915,
          51.715039577836414,
          47.4934036939314,
          89.70976253298153,
          104.48548812664907,
          93.93139841688654,
          36.93931398416886,
          137.20316622691294,
          125.59366754617415,
          116.09498680738785,
          147.75725593667545,
          54.88126649076517,
          116.09498680738785,
          93.93139841688654,
          69.65699208443272,
          79.15567282321899,
          146.70184696569922,
          125.59366754617415,
          107.65171503957784,
          62.26912928759894,
          89.70976253298153,
          62.26912928759894,
          187.86279683377307,
          68.60158311345647,
          89.70976253298153,
          110.8179419525066,
          41.16094986807388,
          121.37203166226912,
          55.93667546174142,
          68.60158311345647,
          104.48548812664907,
          115.03957783641161,
          87.59894459102902,
          128.7598944591029,
          127.70448548812665,
          131.92612137203167,
          68.60158311345647,
          100.26385224274406,
          70.71240105540898,
          89.70976253298153,
          68.60158311345647,
          131.92612137203167,
          82.32189973614776,
          83.37730870712402,
          237.46701846965698,
          125.59366754617415,
          104.48548812664907,
          83.37730870712402,
          83.37730870712402,
          71.76781002638522,
          62.26912928759894,
          110.8179419525066,
          83.37730870712402,
          94.9868073878628,
          96.04221635883906,
          131.92612137203167,
          72.82321899736148,
          128.7598944591029,
          92.87598944591029,
          100.26385224274406,
          131.92612137203167,
          104.48548812664907,
          79.15567282321899,
          130.8707124010554,
          131.92612137203167,
          79.15567282321899,
          89.70976253298153,
          60.15831134564644,
          82.32189973614776,
          58.04749340369393,
          115.03957783641161,
          56.992084432717675,
          116.09498680738785,
          103.43007915567283,
          112.9287598944591,
          126.64907651715039,
          100.26385224274406,
          89.70976253298153,
          93.93139841688654,
          142.48021108179418,
          130.8707124010554,
          136.14775725593668,
          127.70448548812665,
          104.48548812664907,
          89.70976253298153,
          116.09498680738785,
          157.25593667546173,
          94.9868073878628,
          37.99472295514512,
          99.2084432717678,
          104.48548812664907,
          163.58839050131925,
          65.4353562005277,
          71.76781002638522,
          128.7598944591029,
          86.54353562005277,
          103.43007915567283,
          67.54617414248021,
          137.20316622691294,
          35.88390501319261,
          44.327176781002635,
          104.48548812664907,
          102.37467018469657,
          147.75725593667545,
          51.715039577836414,
          73.87862796833772,
          121.37203166226912,
          106.59630606860158,
          42.21635883905013,
          83.37730870712402,
          147.75725593667545,
          195.25065963060686,
          145.64643799472296,
          83.37730870712402,
          187.86279683377307,
          72.82321899736148,
          56.992084432717675,
          68.60158311345647,
          30.606860158311346,
          104.48548812664907,
          93.93139841688654,
          58.04749340369393,
          104.48548812664907,
          110.8179419525066,
          82.32189973614776,
          80.21108179419525,
          89.70976253298153,
          89.70976253298153,
          131.92612137203167,
          94.9868073878628,
          104.48548812664907,
          41.16094986807388,
          120.31662269129288,
          79.15567282321899,
          137.20316622691294,
          92.87598944591029,
          126.64907651715039,
          109.76253298153034,
          125.59366754617415,
          83.37730870712402,
          151.9788918205805,
          100.26385224274406,
          92.87598944591029,
          51.715039577836414,
          51.715039577836414,
          89.70976253298153,
          58.04749340369393,
          154.08970976253298,
          103.43007915567283,
          136.14775725593668,
          66.49076517150395,
          115.03957783641161,
          83.37730870712402,
          137.20316622691294,
          100.26385224274406,
          118.20580474934037,
          27.440633245382585,
          110.8179419525066,
          73.87862796833772,
          92.87598944591029,
          79.15567282321899,
          58.04749340369393,
          80.21108179419525,
          100.26385224274406,
          116.09498680738785,
          51.715039577836414,
          83.37730870712402,
          126.64907651715039,
          88.65435356200527,
          93.93139841688654,
          62.26912928759894,
          103.43007915567283,
          61.21372031662269,
          131.92612137203167,
          99.2084432717678,
          163.58839050131925,
          79.15567282321899,
          110.8179419525066,
          72.82321899736148,
          115.03957783641161,
          88.65435356200527,
          56.992084432717675,
          31.662269129287598,
          73.87862796833772,
          68.60158311345647,
          73.87862796833772,
          73.87862796833772,
          89.70976253298153,
          105.54089709762533,
          137.20316622691294,
          100.26385224274406,
          126.64907651715039,
          47.4934036939314,
          126.64907651715039,
          104.48548812664907,
          105.54089709762533,
          116.09498680738785,
          89.70976253298153,
          52.770448548812666,
          73.87862796833772,
          79.15567282321899,
          89.70976253298153,
          83.87813001110152,
          67.84260515603799,
          72.77661280374984,
          80.17762427531763,
          60.44159368447021,
          178.8577772295547,
          61.67509559639818,
          55.50758603675836,
          67.84260515603799,
          148.02022943135563,
          117.18268163315653,
          67.84260515603799,
          61.67509559639818,
          80.17762427531763,
          141.8527198717158,
          59.20809177254225,
          135.68521031207598,
          91.2791414826693,
          71.54311089182188,
          67.84260515603799,
          78.94412236338967,
          41.93906500555076,
          59.20809177254225,
          117.18268163315653,
          49.340076477118544,
          215.86283458739362,
          117.18268163315653,
          80.17762427531763,
          135.68521031207598,
          35.77155544591094,
          104.8476625138769,
          117.18268163315653,
          166.52275811027508,
          93.74614530652522,
          55.50758603675836,
          87.57863574688541,
          71.54311089182188,
          92.51264339459726,
          59.20809177254225,
          92.51264339459726,
          86.34513383495745,
          61.67509559639818,
          55.50758603675836,
          111.01517207351672,
          37.00505735783891,
          48.10657456519058,
          92.51264339459726,
          92.51264339459726,
          37.00505735783891,
          98.68015295423709,
          98.68015295423709,
          106.08116442580486,
          49.340076477118544,
          55.50758603675836,
          104.8476625138769,
          61.67509559639818,
          148.02022943135563,
          41.93906500555076,
          135.68521031207598,
          30.83754779819909,
          43.172566917478726,
          80.17762427531763,
          74.01011471567782,
          61.67509559639818,
          53.04058221290243,
          86.34513383495745,
          49.340076477118544,
          80.17762427531763,
          191.19279634883435,
          117.18268163315653,
          135.68521031207598,
          67.84260515603799,
          55.50758603675836,
          55.50758603675836,
          111.01517207351672,
          67.84260515603799,
          104.8476625138769,
          67.84260515603799,
          117.18268163315653,
          86.34513383495745,
          35.77155544591094,
          43.172566917478726,
          43.172566917478726,
          98.68015295423709,
          106.08116442580486,
          135.68521031207598,
          75.24361662760577,
          154.18773899099543,
          51.80708030097447,
          74.01011471567782,
          80.17762427531763,
          222.03034414703345,
          66.60910324411003,
          98.68015295423709,
          92.51264339459726,
          172.6902676699149,
          86.34513383495745,
          67.84260515603799,
          129.51770075243618,
          123.35019119279636,
          67.84260515603799,
          37.00505735783891,
          209.6953250277538,
          39.47206118169483,
          55.50758603675836,
          43.172566917478726,
          67.84260515603799,
          55.50758603675836,
          61.67509559639818,
          123.35019119279636,
          119.64968545701247,
          104.8476625138769,
          92.51264339459726,
          240.5328728259529,
          67.84260515603799,
          96.21314913038115,
          60.44159368447021,
          35.77155544591094,
          96.21314913038115,
          53.04058221290243,
          80.17762427531763,
          59.20809177254225,
          48.10657456519058,
          108.54816824966079,
          50.5735783890465,
          74.01011471567782,
          49.340076477118544,
          92.51264339459726,
          33.304551622055016,
          80.17762427531763,
          133.21820648822006,
          61.67509559639818,
          55.50758603675836,
          123.35019119279636,
          96.21314913038115,
          154.18773899099543,
          43.172566917478726,
          74.01011471567782,
          117.18268163315653,
          86.34513383495745,
          46.87307265326261,
          67.84260515603799,
          80.17762427531763,
          61.67509559639818,
          65.37560133218207,
          109.78167016158875,
          77.71062045146171,
          37.00505735783891,
          55.50758603675836,
          61.67509559639818,
          47.4934036939314,
          66.49076517150395,
          68.60158311345647,
          104.48548812664907,
          62.26912928759894,
          126.64907651715039,
          121.37203166226912,
          105.54089709762533,
          163.58839050131925,
          116.09498680738785,
          69.5414425391542,
          53.1962316859342,
          74.29641296918184,
          148.5928259383637,
          148.5928259383637,
          89.15569556301821,
          39.82287735148147,
          44.28066212963238,
          148.5928259383637,
          42.79473387024874,
          74.29641296918184,
          102.23186424559422,
          148.5928259383637,
          133.73354334452733,
          71.32455645041458,
          74.29641296918184,
          68.05551427977058,
          44.28066212963238,
          148.5928259383637,
          27.935451276412376,
          74.29641296918184,
          104.01497815685458,
          148.5928259383637,
          44.57784778150911,
          44.57784778150911,
          118.87426075069095,
          59.437130375345475,
          74.29641296918184,
          37.14820648459092,
          166.89743843338937,
          247.25546434576202,
          59.341311442982885,
          65.27544258728118,
          53.15992483433883,
          65.27544258728118,
          123.62773217288101,
          38.20098813222635,
          239.39285896195182,
          164.26424896857333,
          63.413640299495746,
          12.478989456527275,
          101.86930168593695,
          85.06086690775734,
          178.27127795038965,
          62.14027402842154,
          51.95334385982784,
          99.32256914378851,
          73.85524372230428,
          127.33662710742118,
          100.34126216064789,
          62.14027402842154,
          96.52116334742526,
          48.38791830082005,
          76.14730301023786,
          63.66831355371059,
          62.14027402842154,
          93.97443080527682,
          76.4019762644527,
          76.14730301023786,
          191.00494066113177,
          63.66831355371059,
          213.92553354046757,
          40.747720674374776,
          8.276880761982376,
          127.33662710742118,
          45.84118575867162,
          264.86018438343604,
          50.93465084296847,
          41.76641369123415,
          50.93465084296847,
          81.24076809453472,
          50.93465084296847,
          99.32256914378851,
          101.86930168593695,
          61.121581011562164,
          99.32256914378851,
          63.66831355371059,
          318.3415677685529,
          25.467325421484237,
          318.3415677685529,
          191.00494066113177,
          44.31314623338257,
          87.60759944990576,
          162.9908826974991,
          509.3465084296847,
          152.8039525289054,
          229.2059287933581,
          87.60759944990576,
          24.9635947576451,
          222.88923890754555,
          148.5928259383637,
          222.88923890754555,
          59.437130375345475,
          88.8585099111415,
          237.7485215013819,
          118.87426075069095,
          21.695613436238038,
          36.15935572706339,
          57.27641947166842,
          56.4085949342189,
          52.06947224697129,
          69.42596299596173,
          21.40633859042153,
          53.515846476053824,
          34.71298149798086,
          33.266607268898326,
          27.48111035256818,
          138.85192599192345,
          46.28397533064115,
          86.78245374495215,
          130.17368061742823,
          13.017368061742822,
          115.70993832660287,
          72.31871145412678,
          80.996956828622,
          43.391226872476075,
          92.5679506612823,
          54.96222070513636,
          43.391226872476075,
          86.78245374495215,
          83.88970528678708,
          130.17368061742823,
          116.09498680738785,
          94.9868073878628,
          89.70976253298153,
          47.4934036939314,
          174.1424802110818,
          131.92612137203167,
          82.32189973614776,
          110.8179419525066,
          47.4934036939314,
          63.324538258575195,
          121.37203166226912,
          121.37203166226912,
          79.15567282321899,
          94.9868073878628,
          126.64907651715039,
          126.64907651715039,
          72.82321899736148,
          47.4934036939314,
          126.64907651715039,
          73.87862796833772,
          126.64907651715039,
          116.09498680738785,
          100.26385224274406,
          131.92612137203167,
          40.105540897097626,
          168.86543535620052,
          89.70976253298153,
          81.2664907651715,
          52.770448548812666,
          79.15567282321899,
          103.43007915567283,
          100.26385224274406,
          47.4934036939314,
          52.770448548812666,
          79.15567282321899,
          89.70976253298153,
          73.87862796833772,
          44.327176781002635,
          89.70976253298153,
          79.15567282321899,
          78.10026385224275,
          139.31398416886543,
          99.2084432717678,
          83.37730870712402,
          68.60158311345647,
          58.04749340369393,
          36.93931398416886,
          168.86543535620052,
          84.43271767810026,
          37.99472295514512,
          67.54617414248021,
          100.26385224274406,
          84.43271767810026,
          63.324538258575195,
          62.26912928759894,
          79.15567282321899,
          75.98944591029024,
          131.92612137203167,
          49.6042216358839,
          126.64907651715039,
          131.92612137203167,
          121.37203166226912,
          35.88390501319261,
          105.54089709762533,
          68.60158311345647,
          52.770448548812666,
          36.93931398416886,
          103.43007915567283,
          137.20316622691294,
          84.43271767810026,
          121.37203166226912,
          71.76781002638522,
          80.21108179419525,
          62.26912928759894,
          58.04749340369393,
          94.9868073878628,
          52.770448548812666,
          82.32189973614776,
          75.98944591029024,
          94.9868073878628,
          67.54617414248021,
          77.04485488126649,
          142.48021108179418,
          63.324538258575195,
          84.43271767810026,
          131.92612137203167,
          142.48021108179418,
          36.93931398416886,
          84.43271767810026,
          158.31134564643799,
          68.60158311345647,
          47.4934036939314,
          44.327176781002635,
          73.87862796833772,
          75.98944591029024,
          50.659630606860155,
          73.87862796833772,
          147.75725593667545,
          65.4353562005277,
          68.60158311345647,
          88.65435356200527,
          63.324538258575195,
          83.37730870712402,
          81.2664907651715,
          68.60158311345647,
          85.48812664907652,
          89.70976253298153,
          89.70976253298153,
          103.43007915567283,
          84.43271767810026,
          63.324538258575195,
          105.54089709762533,
          52.770448548812666,
          52.770448548812666,
          73.87862796833772,
          35.88390501319261,
          105.54089709762533,
          63.324538258575195,
          68.60158311345647,
          142.48021108179418,
          137.20316622691294,
          89.70976253298153,
          84.43271767810026,
          116.09498680738785,
          79.15567282321899,
          73.87862796833772,
          131.92612137203167,
          105.54089709762533,
          58.04749340369393,
          91.82058047493403,
          68.60158311345647,
          54.88126649076517,
          63.324538258575195,
          84.43271767810026,
          52.770448548812666,
          79.15567282321899,
          68.60158311345647,
          89.70976253298153,
          52.770448548812666,
          68.60158311345647,
          89.70976253298153,
          158.31134564643799,
          68.60158311345647,
          79.15567282321899,
          137.20316622691294,
          105.54089709762533,
          58.04749340369393,
          60.15831134564644,
          47.4934036939314,
          63.324538258575195,
          116.09498680738785,
          58.04749340369393,
          21.108179419525065,
          94.9868073878628,
          142.48021108179418,
          48.54881266490765,
          89.70976253298153,
          42.21635883905013,
          58.04749340369393,
          84.43271767810026,
          68.60158311345647,
          116.09498680738785,
          47.4934036939314,
          100.26385224274406,
          94.9868073878628,
          47.4934036939314,
          142.48021108179418,
          79.15567282321899,
          63.324538258575195,
          63.324538258575195,
          62.26912928759894,
          105.54089709762533,
          116.09498680738785,
          116.09498680738785,
          205.8047493403694,
          121.37203166226912,
          68.60158311345647,
          73.87862796833772,
          47.4934036939314,
          58.04749340369393,
          79.15567282321899,
          100.26385224274406,
          79.15567282321899,
          51.715039577836414,
          79.15567282321899,
          73.87862796833772,
          56.992084432717675,
          100.26385224274406,
          66.49076517150395,
          71.76781002638522,
          82.32189973614776,
          26.385224274406333,
          94.9868073878628,
          94.9868073878628,
          92.87598944591029,
          73.87862796833772,
          100.26385224274406,
          84.43271767810026,
          89.70976253298153,
          100.26385224274406,
          52.770448548812666,
          177.30870712401054,
          103.43007915567283,
          116.09498680738785,
          47.4934036939314,
          116.09498680738785,
          75.98944591029024,
          44.327176781002635,
          105.54089709762533,
          126.64907651715039,
          51.715039577836414,
          114.98914119210009,
          65.16051334219004,
          252.97611062262018,
          26.830799611490022,
          130.3210266843801,
          42.16268510377003,
          68.99348471526005,
          7.665942746140006,
          168.65074041508012,
          214.64639689192018,
          61.32754196912005,
          65.16051334219004,
          68.99348471526005,
          61.32754196912005,
          145.65291217666012,
          214.64639689192018,
          61.32754196912005,
          68.99348471526005,
          214.64639689192018,
          72.82645608833006,
          153.3188549228001,
          260.6420533687602,
          99.65725569982007,
          283.6398816071802,
          153.3188549228001,
          68.99348471526005,
          45.99565647684003,
          114.98914119210009,
          168.65074041508012,
          38.32971373070003,
          137.9869694305201,
          237.64422513034017,
          99.65725569982007,
          229.97828238420018,
          183.98262590736013,
          130.3210266843801,
          99.65725569982007,
          145.65291217666012,
          84.32537020754006,
          53.661599222980044,
          76.65942746140006,
          206.98045414578016,
          76.65942746140006,
          42.16268510377003,
          61.32754196912005,
          130.3210266843801,
          57.494570596050046,
          114.98914119210009,
          65.16051334219004,
          237.64422513034017,
          237.64422513034017,
          107.32319844596009,
          84.32537020754006,
          344.96742357630023,
          122.6550839382401,
          65.16051334219004,
          49.828627849910035,
          57.494570596050046,
          114.98914119210009,
          34.496742357630026,
          22.997828238420016,
          99.65725569982007,
          57.494570596050046,
          183.98262590736013,
          57.494570596050046,
          72.82645608833006,
          57.494570596050046,
          145.65291217666012,
          122.6550839382401,
          168.65074041508012,
          199.31451139964014,
          76.65942746140006,
          7.665942746140006,
          130.3210266843801,
          65.16051334219004,
          130.3210266843801,
          15.331885492280012,
          122.6550839382401,
          145.65291217666012,
          237.64422513034017,
          45.99565647684003,
          72.82645608833006,
          191.64856865350015,
          84.32537020754006,
          34.496742357630026,
          168.65074041508012,
          22.997828238420016,
          19.164856865350014,
          76.65942746140006,
          76.65942746140006,
          38.32971373070003,
          160.98479766894013,
          283.6398816071802,
          99.65725569982007,
          229.97828238420018,
          65.16051334219004,
          99.65725569982007,
          145.65291217666012,
          229.97828238420018,
          38.32971373070003,
          99.65725569982007,
          42.16268510377003,
          45.99565647684003,
          107.32319844596009,
          237.64422513034017,
          168.65074041508012,
          72.82645608833006,
          107.32319844596009,
          76.65942746140006,
          145.65291217666012,
          72.82645608833006,
          45.99565647684003,
          168.65074041508012,
          72.82645608833006,
          76.65942746140006,
          153.3188549228001,
          199.31451139964014,
          168.65074041508012,
          34.496742357630026,
          15.331885492280012,
          61.32754196912005,
          214.64639689192018,
          61.32754196912005,
          145.65291217666012,
          153.3188549228001,
          65.16051334219004,
          168.65074041508012,
          76.65942746140006,
          11.498914119210008,
          76.65942746140006,
          191.64856865350015,
          252.97611062262018,
          15.331885492280012,
          68.99348471526005,
          145.65291217666012,
          42.16268510377003,
          22.997828238420016,
          130.3210266843801,
          84.32537020754006,
          114.98914119210009,
          49.828627849910035,
          61.32754196912005,
          107.32319844596009,
          329.63553808402025,
          57.494570596050046,
          260.6420533687602,
          22.997828238420016,
          76.65942746140006,
          237.64422513034017,
          49.828627849910035,
          117.74057716273937,
          78.49371810849291,
          47.09623086509575,
          141.28869259528724,
          78.49371810849291,
          78.49371810849291,
          47.09623086509575,
          66.71966039221898,
          86.3430899193422,
          141.28869259528724,
          62.79497448679433,
          66.71966039221898,
          76.92384374632306,
          94.1924617301915,
          102.04183354104079,
          54.94560267594504,
          102.04183354104079,
          70.64434629764362,
          54.94560267594504,
          86.3430899193422,
          117.74057716273937,
          156.98743621698583,
          70.64434629764362,
          44.327176781002635,
          116.09498680738785,
          68.60158311345647,
          21.108179419525065,
          116.09498680738785,
          121.37203166226912,
          89.70976253298153,
          163.58839050131925,
          94.9868073878628,
          63.324538258575195,
          94.9868073878628,
          94.9868073878628,
          82.32189973614776,
          113.98416886543535,
          86.54353562005277,
          79.15567282321899,
          116.09498680738785,
          63.324538258575195,
          116.09498680738785,
          52.770448548812666,
          84.43271767810026,
          68.60158311345647,
          108.70712401055408,
          147.75725593667545,
          79.15567282321899,
          89.70976253298153,
          89.70976253298153,
          94.9868073878628,
          84.43271767810026,
          58.04749340369393,
          158.31134564643799,
          104.48548812664907,
          36.93931398416886,
          68.60158311345647,
          100.26385224274406,
          94.9868073878628,
          105.54089709762533,
          100.26385224274406,
          79.15567282321899,
          63.324538258575195,
          126.64907651715039,
          41.16094986807388,
          89.70976253298153,
          108.70712401055408,
          79.15567282321899,
          68.60158311345647,
          31.662269129287598,
          100.26385224274406,
          158.31134564643799,
          110.8179419525066,
          63.324538258575195,
          94.9868073878628,
          232.1899736147757,
          73.87862796833772,
          94.9868073878628,
          73.87862796833772,
          137.20316622691294,
          72.82321899736148,
          63.324538258575195,
          63.324538258575195,
          31.662269129287598,
          52.770448548812666,
          79.15567282321899,
          75.98944591029024,
          100.26385224274406,
          63.324538258575195,
          36.93931398416886,
          56.992084432717675,
          131.92612137203167,
          105.54089709762533,
          94.9868073878628,
          116.09498680738785,
          126.64907651715039,
          79.15567282321899,
          104.48548812664907,
          89.70976253298153,
          79.15567282321899,
          18.99736147757256,
          94.9868073878628,
          42.21635883905013,
          105.54089709762533,
          105.54089709762533,
          100.26385224274406,
          63.324538258575195,
          137.20316622691294,
          84.43271767810026,
          105.54089709762533,
          116.09498680738785,
          84.43271767810026,
          121.37203166226912,
          84.43271767810026,
          58.04749340369393,
          63.324538258575195,
          63.324538258575195,
          100.26385224274406,
          79.15567282321899,
          79.15567282321899,
          84.43271767810026,
          94.9868073878628,
          47.4934036939314,
          79.15567282321899,
          84.43271767810026,
          116.09498680738785,
          100.26385224274406,
          73.87862796833772,
          68.60158311345647,
          68.60158311345647,
          58.04749340369393,
          52.770448548812666,
          58.04749340369393,
          47.4934036939314,
          147.75725593667545,
          79.15567282321899,
          84.43271767810026,
          116.09498680738785,
          84.43271767810026,
          68.60158311345647,
          52.770448548812666,
          68.60158311345647,
          116.09498680738785,
          35.88390501319261,
          104.48548812664907,
          73.87862796833772,
          47.4934036939314,
          84.43271767810026,
          73.87862796833772,
          26.385224274406333,
          94.9868073878628,
          73.87862796833772,
          63.324538258575195,
          68.60158311345647,
          68.60158311345647,
          137.20316622691294,
          20.052770448548813,
          68.60158311345647,
          153.03430079155672,
          89.70976253298153,
          126.64907651715039,
          137.20316622691294,
          100.26385224274406,
          93.93139841688654,
          47.4934036939314,
          52.770448548812666,
          79.15567282321899,
          89.70976253298153,
          47.4934036939314,
          105.54089709762533,
          116.09498680738785,
          42.21635883905013,
          92.87598944591029,
          89.70976253298153,
          58.04749340369393,
          79.15567282321899,
          94.9868073878628,
          79.15567282321899,
          91.82058047493403,
          68.60158311345647,
          84.43271767810026,
          26.385224274406333,
          89.70976253298153,
          84.43271767810026,
          84.43271767810026,
          116.09498680738785,
          63.324538258575195,
          105.54089709762533,
          126.64907651715039,
          65.4353562005277,
          105.54089709762533,
          63.324538258575195,
          79.15567282321899,
          94.9868073878628,
          42.21635883905013,
          42.21635883905013,
          68.60158311345647,
          105.54089709762533,
          137.20316622691294,
          137.20316622691294,
          89.70976253298153,
          73.87862796833772,
          84.43271767810026,
          84.43271767810026,
          137.20316622691294,
          126.64907651715039,
          116.09498680738785,
          100.26385224274406,
          137.20316622691294,
          116.09498680738785,
          116.09498680738785,
          105.54089709762533,
          84.43271767810026,
          52.770448548812666,
          121.37203166226912,
          84.43271767810026,
          58.04749340369393,
          100.26385224274406,
          50.659630606860155,
          116.09498680738785,
          158.31134564643799,
          105.54089709762533,
          63.324538258575195,
          137.20316622691294,
          63.324538258575195,
          98.15303430079156,
          31.662269129287598,
          84.43271767810026,
          73.87862796833772,
          115.03957783641161,
          84.43271767810026,
          105.54089709762533,
          26.385224274406333,
          94.9868073878628,
          153.03430079155672,
          92.87598944591029,
          94.9868073878628,
          89.70976253298153,
          89.70976253298153,
          105.54089709762533,
          94.9868073878628,
          52.770448548812666,
          105.54089709762533,
          63.324538258575195,
          94.9868073878628,
          116.09498680738785,
          79.15567282321899,
          131.92612137203167,
          147.75725593667545,
          147.75725593667545,
          31.662269129287598,
          88.65435356200527,
          94.9868073878628,
          105.54089709762533,
          84.43271767810026,
          103.43007915567283,
          84.43271767810026,
          63.324538258575195,
          47.4934036939314,
          63.324538258575195,
          63.324538258575195,
          73.87862796833772,
          94.9868073878628,
          116.09498680738785,
          126.64907651715039,
          58.04749340369393,
          89.70976253298153,
          71.76781002638522,
          105.54089709762533,
          126.64907651715039,
          89.70976253298153,
          116.09498680738785,
          79.15567282321899,
          73.87862796833772,
          84.43271767810026,
          94.9868073878628,
          84.43271767810026,
          168.86543535620052,
          31.662269129287598,
          63.324538258575195,
          116.09498680738785,
          80.21108179419525,
          73.87862796833772,
          36.93931398416886,
          121.37203166226912,
          131.92612137203167,
          179.41952506596306,
          58.04749340369393,
          205.8047493403694,
          84.43271767810026,
          58.04749340369393,
          84.43271767810026,
          84.43271767810026,
          100.26385224274406,
          116.09498680738785,
          94.9868073878628,
          94.9868073878628,
          126.64907651715039,
          116.09498680738785,
          116.09498680738785,
          147.75725593667545,
          105.54089709762533,
          126.64907651715039,
          126.64907651715039,
          94.9868073878628,
          52.770448548812666,
          100.26385224274406,
          89.70976253298153,
          100.26385224274406,
          100.26385224274406,
          73.87862796833772,
          92.87598944591029,
          105.54089709762533,
          94.9868073878628,
          110.8179419525066,
          116.09498680738785,
          137.20316622691294,
          94.9868073878628,
          147.75725593667545,
          89.70976253298153,
          147.75725593667545,
          116.09498680738785,
          37.99472295514512,
          84.43271767810026,
          84.43271767810026,
          105.54089709762533,
          84.43271767810026,
          110.8179419525066,
          126.64907651715039,
          79.15567282321899,
          14.775725593667547,
          100.26385224274406,
          94.9868073878628,
          126.64907651715039,
          105.54089709762533,
          94.9868073878628,
          26.385224274406333,
          116.09498680738785,
          47.4934036939314,
          158.31134564643799,
          263.85224274406335,
          103.43007915567283,
          73.87862796833772,
          73.87862796833772,
          126.64907651715039,
          100.26385224274406,
          189.9736147757256,
          105.54089709762533,
          137.20316622691294,
          94.9868073878628,
          63.324538258575195,
          75.98944591029024,
          94.9868073878628,
          100.26385224274406,
          58.04749340369393,
          27.384909650863467,
          40.02409872049276,
          72.51329905792149,
          163.45210853220007,
          72.51329905792149,
          74.29641296918184,
          44.57784778150911,
          29.42137953579601,
          118.87426075069095,
          50.224375167166926,
          118.87426075069095,
          191.38755980861245,
          297.1856518767274,
          89.15569556301821,
          74.29641296918184,
          118.87426075069095,
          191.38755980861245,
          74.29641296918184,
          118.87426075069095,
          29.42137953579601,
          130.76168682576005,
          44.57784778150911,
          133.73354334452733,
          178.31139112603643,
          118.87426075069095,
          57.65401646408512,
          89.15569556301821,
          102.23186424559422,
          66.86677167226367,
          44.28066212963238,
          74.29641296918184,
          59.13994472346875,
          178.31139112603643,
          118.87426075069095,
          81.72605426610004,
          148.5928259383637,
          118.87426075069095,
          59.437130375345475,
          148.5928259383637,
          45.99565647684003,
          168.65074041508012,
          153.3188549228001,
          229.97828238420018,
          49.828627849910035,
          65.16051334219004,
          130.3210266843801,
          168.65074041508012,
          38.32971373070003,
          145.65291217666012,
          26.830799611490022,
          222.31233963806017,
          214.64639689192018,
          122.6550839382401,
          42.16268510377003,
          130.3210266843801,
          107.32319844596009,
          53.661599222980044,
          68.99348471526005,
          84.32537020754006,
          84.32537020754006,
          49.828627849910035,
          114.98914119210009,
          76.65942746140006,
          91.99131295368007,
          107.32319844596009,
          114.98914119210009,
          22.997828238420016,
          45.99565647684003,
          53.661599222980044,
          84.32537020754006,
          72.82645608833006,
          68.99348471526005,
          122.6550839382401,
          42.16268510377003,
          206.98045414578016,
          122.6550839382401,
          30.663770984560024,
          137.9869694305201,
          68.99348471526005,
          68.99348471526005,
          130.3210266843801,
          168.65074041508012,
          53.661599222980044,
          72.82645608833006,
          145.65291217666012,
          168.65074041508012,
          160.98479766894013,
          76.65942746140006,
          53.661599222980044,
          153.3188549228001,
          72.82645608833006,
          38.32971373070003,
          99.65725569982007,
          153.3188549228001,
          53.661599222980044,
          7.665942746140006,
          84.32537020754006,
          49.828627849910035,
          30.663770984560024,
          153.3188549228001,
          114.98914119210009,
          26.830799611490022,
          42.16268510377003,
          38.32971373070003,
          168.65074041508012,
          114.98914119210009,
          76.65942746140006,
          57.494570596050046,
          57.494570596050046,
          53.661599222980044,
          183.98262590736013,
          53.661599222980044,
          91.99131295368007,
          107.32319844596009,
          183.98262590736013,
          84.32537020754006,
          53.661599222980044,
          42.16268510377003,
          53.661599222980044,
          183.98262590736013,
          45.99565647684003,
          26.830799611490022,
          107.32319844596009,
          84.32537020754006,
          84.32537020754006,
          76.65942746140006,
          45.99565647684003,
          153.3188549228001,
          145.65291217666012,
          130.3210266843801,
          137.9869694305201,
          49.828627849910035,
          99.65725569982007,
          42.16268510377003,
          61.32754196912005,
          84.32537020754006,
          76.65942746140006,
          30.663770984560024,
          145.65291217666012,
          76.65942746140006,
          68.99348471526005,
          91.99131295368007,
          45.99565647684003,
          191.64856865350015,
          42.16268510377003,
          306.6377098456002,
          176.31668316122014,
          61.32754196912005,
          99.65725569982007,
          53.661599222980044,
          122.6550839382401,
          107.32319844596009,
          145.65291217666012,
          145.65291217666012,
          61.32754196912005,
          65.16051334219004,
          84.32537020754006,
          45.99565647684003,
          65.16051334219004,
          191.64856865350015,
          168.65074041508012,
          61.32754196912005,
          130.3210266843801,
          38.32971373070003,
          122.6550839382401,
          61.32754196912005,
          49.828627849910035,
          57.494570596050046,
          337.30148083016024,
          168.65074041508012,
          38.32971373070003,
          206.98045414578016,
          65.16051334219004,
          61.32754196912005,
          68.99348471526005,
          49.828627849910035,
          30.663770984560024,
          72.82645608833006,
          191.64856865350015,
          49.828627849910035,
          65.16051334219004,
          34.496742357630026,
          42.16268510377003,
          42.16268510377003,
          107.32319844596009,
          99.65725569982007,
          107.32319844596009,
          76.65942746140006,
          49.828627849910035,
          99.65725569982007,
          237.64422513034017,
          99.65725569982007,
          84.32537020754006,
          45.99565647684003,
          65.16051334219004,
          42.16268510377003,
          53.661599222980044,
          137.9869694305201,
          84.32537020754006,
          99.65725569982007,
          367.96525181472026,
          22.997828238420016,
          84.32537020754006,
          85,
          134,
          88,
          45,
          165,
          130,
          199,
          210,
          95,
          37,
          200,
          225,
          55,
          50,
          115,
          155,
          110,
          50,
          50,
          74,
          285,
          148,
          65,
          37,
          145,
          150,
          250,
          195,
          130,
          200,
          97,
          205,
          78,
          125,
          150,
          115,
          158,
          95,
          100,
          150,
          175,
          90,
          78,
          225,
          95,
          165,
          75,
          83,
          110,
          150,
          402,
          175,
          76,
          600,
          55,
          95,
          39,
          89,
          85,
          175,
          75,
          65,
          155,
          89,
          80,
          200,
          150,
          47.4934036939314,
          84.43271767810026,
          79.15567282321899,
          70.71240105540898,
          25.329815303430077,
          41.60599126274183,
          89.15569556301821,
          72.51329905792149,
          52.00748907842729,
          148.5928259383637,
          148.5928259383637,
          74.29641296918184,
          44.57784778150911,
          118.87426075069095,
          44.57784778150911,
          52.00748907842729,
          29.718565187672738,
          66.86677167226367,
          59.437130375345475,
          118.72708666580561,
          69.54724741930036,
          129.15917377870068,
          81.96639874417542,
          88.92112348610546,
          109.28853165890057,
          158.96513695840082,
          128.66240772570566,
          188.77110013810096,
          64.57958688935034,
          77.4955042672204,
          88.92112348610546,
          65.57311899534034,
          67.56018320732035,
          254.45821173000428,
          202.52796443816666,
          83.08839566694017,
          134.4993404858594,
          186.9488902506154,
          124.63259350041025,
          150.59771714632905,
          192.14191497979914,
          130.34492070251238,
          120.43319593344815,
          105.54089709762533,
          115.03957783641161,
          189.9736147757256,
          90.76517150395779,
          99.2084432717678,
          82.32189973614776,
          93.93139841688654,
          169.76007243096421,
          198.05341783612494,
          134.39339067451334,
          325.3734721593481,
          226.34676324128563,
          84.88003621548211,
          253.93277501131732,
          127.32005432322318,
          282.93345405160704,
          91.24603893164327,
          63.66002716161159,
          77.09936622906292,
          91.95337256677229,
          140.75939339067452,
          63.66002716161159,
          127.32005432322318,
          77.80669986419194,
          254.64010864644635,
          82.64462809917354,
          55.32987813419246,
          124.66732035299061,
          111.22005883176915,
          106.45748704300321,
          39.22117943689592,
          116.2627819022272,
          76.34122426110099,
          63.03403838072559,
          95.25143577531867,
          45.995890476258175,
          15.331963492086057,
          35.542279004381314,
          83.35012880243147,
          73.87218773459645,
          80.84126204918103,
          22.022274834087245,
          56.086862730998774,
          71.90623427051125,
          179.76558567627814,
          48.89623930394765,
          92.0399798662544,
          75.50154598403681,
          251.67181994678938,
          129.43122168692025,
          156.75559070971454,
          7.190623427051125,
          41.70561587689652,
          70.46810958510103,
          71.90623427051125,
          56.086862730998774,
          71.90623427051125,
          129.43122168692025,
          192.70870784497015,
          63.2774861580499,
          163.94621413676566,
          106.42122672035666,
          34.5149924498454,
          56.086862730998774,
          149.5649672826634,
          77.65873301215215,
          41.70561587689652,
          35.953117135255624,
          34.5149924498454,
          77.65873301215215,
          89.88279283813907,
          113.61185014740778,
          127.99309700151002,
          142.37434385561227,
          125.83590997339469,
          48.89623930394765,
          106.42122672035666,
          84.84935643920328,
          56.086862730998774,
          86.2874811246135,
          64.71561084346013,
          56.086862730998774,
          92.0399798662544,
          86.89882349771133,
          62.311171887893785,
          40.41805744079597,
          67.36342906799328,
          62.311171887893785,
          83.53065204431167,
          117.88600086898825,
          107.78148650878924,
          101.04514360198992,
          66.68979477731335,
          84.20428633499161,
          218.93114447097815,
          67.36342906799328,
          134.72685813598656,
          161.67222976318388,
          117.88600086898825,
          117.88600086898825,
          84.20428633499161,
          101.04514360198992,
          67.36342906799328,
          40.41805744079597,
          84.20428633499161,
          168.40857266998322,
          56.585280417114355,
          151.56771540298487,
          60,
          75,
          60,
          75,
          250,
          50,
          195,
          103,
          150,
          150,
          90,
          75,
          85,
          100,
          315,
          75,
          45,
          175,
          95,
          120,
          66,
          150,
          40,
          50,
          130,
          60,
          54,
          63,
          125,
          150,
          75,
          84,
          54,
          60,
          69,
          150,
          89,
          185,
          100,
          40,
          99,
          60,
          100,
          50,
          75,
          65,
          145,
          150,
          175,
          175,
          95,
          75,
          150,
          150,
          165,
          90,
          100,
          175,
          75,
          150,
          160,
          76,
          175,
          200,
          300,
          120,
          50,
          50,
          150,
          85,
          106,
          165,
          168,
          65,
          65,
          195,
          84,
          60,
          75,
          60,
          80,
          145,
          39.050131926121374,
          68.60158311345647,
          63.324538258575195,
          72.82321899736148,
          47.4934036939314,
          58.04749340369393,
          31.662269129287598,
          42.21635883905013,
          63.324538258575195,
          63.324538258575195,
          79.15567282321899,
          58.04749340369393,
          60.15831134564644,
          79.15567282321899,
          62.26912928759894,
          73.87862796833772,
          82.32189973614776,
          94.9868073878628,
          40.105540897097626,
          51.715039577836414,
          89.70976253298153,
          70.71240105540898,
          42.21635883905013,
          66.49076517150395,
          58.04749340369393,
          58.04749340369393,
          47.4934036939314,
          75.98944591029024,
          89.70976253298153,
          49.6042216358839,
          56.992084432717675,
          71.76781002638522,
          55.93667546174142,
          131.92612137203167,
          63.324538258575195,
          73.87862796833772,
          100.26385224274406,
          51.715039577836414,
          50.659630606860155,
          51.715039577836414,
          52.770448548812666,
          83.37730870712402,
          54.88126649076517,
          78.10026385224275,
          51.715039577836414,
          70.71240105540898,
          50.659630606860155,
          79.15567282321899,
          89.70976253298153,
          104.48548812664907,
          79.15567282321899,
          52.770448548812666,
          47.4934036939314,
          79.15567282321899,
          84.43271767810026,
          48.54881266490765,
          110.8179419525066,
          45.382585751978894,
          59.10290237467019,
          52.770448548812666,
          51.715039577836414,
          68.60158311345647,
          51.715039577836414,
          40.105540897097626,
          105.54089709762533,
          39.050131926121374,
          63.324538258575195,
          31.662269129287598,
          58.04749340369393,
          58.04749340369393,
          142.48021108179418,
          41.16094986807388,
          94.9868073878628,
          64.37994722955145,
          66.49076517150395,
          73.87862796833772,
          63.324538258575195,
          73.87862796833772,
          39.050131926121374,
          51.715039577836414,
          47.4934036939314,
          47.4934036939314,
          131.92612137203167,
          66.49076517150395,
          158.31134564643799,
          37.99472295514512,
          52.770448548812666,
          163.58839050131925,
          73.87862796833772,
          47.4934036939314,
          68.60158311345647,
          116.09498680738785,
          84.61770927772741,
          169.23541855545483,
          115.84567341593633,
          115.84567341593633,
          79.58094086833887,
          50.36768409388536,
          98.72066082401531,
          82.603001913972,
          78.57358718646117,
          141.029515462879,
          135.9927470534905,
          95.69859977838219,
          82.603001913972,
          76.55887982270575,
          76.55887982270575,
          93.68389241462677,
          115.84567341593633,
          50.36768409388536,
          68.5000503676841,
          50.36768409388536,
          75.55152614082805,
          135.9927470534905,
          196.43396796615292,
          120.88244182532488,
          88.64712400523824,
          59.43386723078473,
          110.80890500654779,
          125.9192102347134,
          59.43386723078473,
          60.44122091266244,
          219.60310264934017,
          75.55152614082805,
          110.80890500654779,
          68.5000503676841,
          70.5147577314395,
          68.5000503676841,
          125.9192102347134,
          79.58094086833887,
          176.28689432859878,
          118.86773446156946,
          46.33826936637453,
          69.5074040495618,
          69.5074040495618,
          52.38239145764078,
          78.57358718646117,
          156.13982069104463,
          85.62506295960512,
          105.77213659715926,
          55.404452503273895,
          141.029515462879,
          78.57358718646117,
          76.55887982270575,
          97.71330714213761,
          177.29424801047648,
          115.84567341593633,
          146.06628387226755,
          118.86773446156946,
          120.88244182532488,
          75.55152614082805,
          95.69859977838219,
          65.47798932205097,
          44.32356200261912,
          160.16923541855544,
          115.84567341593633,
          56.411806185151605,
          201.47073637554143,
          64.47063564017326,
          95.69859977838219,
          161.17658910043315,
          95.69859977838219,
          95.69859977838219,
          115.84567341593633,
          78.57358718646117,
          46.33826936637453,
          62.45592827641785,
          80.58829455021657,
          110.80890500654779,
          76.55887982270575,
          105.77213659715926,
          125.9192102347134,
          110.80890500654779,
          151.1030522816561,
          282.059030925758,
          85.62506295960512,
          62.45592827641785,
          110.80890500654779,
          55.404452503273895,
          146.06628387226755,
          75.55152614082805,
          77.56623350458345,
          153.03430079155672,
          71.76781002638522,
          147.75725593667545,
          56.992084432717675,
          73.87862796833772,
          62.26912928759894,
          68.60158311345647,
          58.04749340369393,
          84.43271767810026,
          71.76781002638522,
          50.659630606860155,
          82.32189973614776,
          36.93931398416886,
          58.04749340369393,
          29.551451187335093,
          147.75725593667545,
          52.770448548812666,
          142.48021108179418,
          47.4934036939314,
          41.16094986807388,
          63.324538258575195,
          42.21635883905013,
          52.770448548812666,
          32.71767810026385,
          50.659630606860155,
          58.04749340369393,
          92.87598944591029,
          50.659630606860155,
          41.16094986807388,
          44.327176781002635,
          74.93403693931398,
          84.43271767810026,
          94.9868073878628,
          75.98944591029024,
          84.43271767810026,
          47.4934036939314,
          83.37730870712402,
          67.54617414248021,
          142.48021108179418,
          116.09498680738785,
          47.4934036939314,
          58.04749340369393,
          65.4353562005277,
          68.60158311345647,
          105.54089709762533,
          44.327176781002635,
          42.21635883905013,
          61.21372031662269,
          39.050131926121374,
          29.551451187335093,
          41.16094986807388,
          29.551451187335093,
          44.327176781002635,
          46.437994722955146,
          131.92612137203167,
          22.163588390501317,
          44.327176781002635,
          52.770448548812666,
          58.04749340369393,
          65.4353562005277,
          116.09498680738785,
          29.551451187335093,
          79.15567282321899,
          31.662269129287598,
          52.770448548812666,
          36.93931398416886,
          63.324538258575195,
          42.21635883905013,
          37.99472295514512,
          295.5145118733509,
          40.105540897097626,
          58.04749340369393,
          92.87598944591029,
          51.715039577836414,
          84.43271767810026,
          82.32189973614776,
          44.327176781002635,
          58.04749340369393,
          62.26912928759894,
          94.9868073878628,
          116.09498680738785,
          58.04749340369393,
          42.21635883905013,
          97.0976253298153,
          52.770448548812666,
          58.04749340369393,
          163.58839050131925,
          62.26912928759894,
          36.93931398416886,
          47.4934036939314,
          87.59894459102902,
          80.21108179419525,
          41.16094986807388,
          28.496042216358838,
          36.93931398416886,
          75.98944591029024,
          54.88126649076517,
          100.26385224274406,
          29.551451187335093,
          43.27176781002638,
          184.69656992084433,
          62.26912928759894,
          100.26385224274406,
          35.88390501319261,
          73.87862796833772,
          44.327176781002635,
          54.88126649076517,
          93.93139841688654,
          54.88126649076517,
          36.93931398416886,
          40.105540897097626,
          29.551451187335093,
          72.82321899736148,
          47.4934036939314,
          36.93931398416886,
          58.04749340369393,
          71.76781002638522,
          25.329815303430077,
          44.327176781002635,
          47.4934036939314,
          37.99472295514512,
          68.60158311345647,
          84.43271767810026,
          44.327176781002635,
          28.496042216358838,
          103.43007915567283,
          40.105540897097626,
          86.54353562005277,
          58.04749340369393,
          51.715039577836414,
          83.37730870712402,
          89.70976253298153,
          82.32189973614776,
          36.93931398416886,
          59.10290237467019,
          51.715039577836414,
          137.20316622691294,
          92.87598944591029,
          92.87598944591029,
          39.050131926121374,
          27.440633245382585,
          83.37730870712402,
          58.04749340369393,
          101.31926121372031,
          42.21635883905013,
          126.64907651715039,
          37.99472295514512,
          104.48548812664907,
          58.04749340369393,
          65.4353562005277,
          100.26385224274406,
          65.4353562005277,
          54.88126649076517,
          153.03430079155672,
          72.82321899736148,
          79.15567282321899,
          67.54617414248021,
          82.32189973614776,
          83.37730870712402,
          100.26385224274406,
          34.82849604221636,
          68.60158311345647,
          126.64907651715039,
          53.82585751978892,
          41.16094986807388,
          47.4934036939314,
          54.88126649076517,
          36.93931398416886,
          40.105540897097626,
          58.04749340369393,
          63.324538258575195,
          41.16094986807388,
          58.04749340369393,
          121.37203166226912,
          27.440633245382585,
          41.16094986807388,
          27.440633245382585,
          40.105540897097626,
          58.04749340369393,
          109.76253298153034,
          68.60158311345647,
          67.54617414248021,
          100.26385224274406,
          103.43007915567283,
          56.992084432717675,
          47.4934036939314,
          62.26912928759894,
          52.770448548812666,
          47.4934036939314,
          79.15567282321899,
          41.16094986807388,
          83.37730870712402,
          55.93667546174142,
          126.64907651715039,
          58.04749340369393,
          205.8047493403694,
          61.21372031662269,
          53.82585751978892,
          67.54617414248021,
          35.88390501319261,
          35.88390501319261,
          179.41952506596306,
          45.382585751978894,
          79.15567282321899,
          54.88126649076517,
          36.93931398416886,
          51.715039577836414,
          59.10290237467019,
          47.4934036939314,
          30.606860158311346,
          89.70976253298153,
          100.26385224274406,
          72.82321899736148,
          41.16094986807388,
          68.60158311345647,
          58.04749340369393,
          47.4934036939314,
          79.15567282321899,
          82.32189973614776,
          47.4934036939314,
          63.324538258575195,
          51.715039577836414,
          47.4934036939314,
          47.4934036939314,
          79.15567282321899,
          71.76781002638522,
          79.15567282321899,
          61.21372031662269,
          168.86543535620052,
          47.4934036939314,
          47.4934036939314,
          31.662269129287598,
          75.98944591029024,
          147.75725593667545,
          56.992084432717675,
          68.60158311345647,
          62.26912928759894,
          158.31134564643799,
          52.770448548812666,
          51.715039577836414,
          36.93931398416886,
          63.324538258575195,
          33.773087071240106,
          137.20316622691294,
          73.87862796833772,
          37.99472295514512,
          89.70976253298153,
          100.26385224274406,
          37.99472295514512,
          56.992084432717675,
          51.715039577836414,
          179.41952506596306,
          53.82585751978892,
          47.4934036939314,
          42.21635883905013,
          58.04749340369393,
          137.20316622691294,
          137.20316622691294,
          51.715039577836414,
          52.770448548812666,
          96.04221635883906,
          84.43271767810026,
          67.54617414248021,
          105.54089709762533,
          61.21372031662269,
          34.82849604221636,
          179.41952506596306,
          50.659630606860155,
          51.715039577836414,
          47.4934036939314,
          31.662269129287598,
          58.04749340369393,
          54.88126649076517,
          79.15567282321899,
          58.04749340369393,
          84.43271767810026,
          31.662269129287598,
          41.16094986807388,
          51.715039577836414,
          60.15831134564644,
          54.88126649076517,
          56.992084432717675,
          63.324538258575195,
          36.93931398416886,
          158.31134564643799,
          137.20316622691294,
          58.04749340369393,
          68.60158311345647,
          29.551451187335093,
          100.26385224274406,
          42.21635883905013,
          62.26912928759894,
          42.21635883905013,
          79.15567282321899,
          62.26912928759894,
          33.773087071240106,
          72.82321899736148,
          158.31134564643799,
          37.99472295514512,
          166.75461741424803,
          137.20316622691294,
          84.43271767810026,
          82.32189973614776,
          40.105540897097626,
          30.606860158311346,
          39.050131926121374,
          50.659630606860155,
          35.88390501319261,
          51.715039577836414,
          44.327176781002635,
          62.26912928759894,
          51.715039577836414,
          50.659630606860155,
          89.70976253298153,
          94.9868073878628,
          27.440633245382585,
          79.15567282321899,
          75.98944591029024,
          82.32189973614776,
          42.21635883905013,
          51.715039577836414,
          67.54617414248021,
          47.4934036939314,
          89.70976253298153,
          50.659630606860155,
          65.4353562005277,
          42.21635883905013,
          61.21372031662269,
          89.70976253298153,
          71.76781002638522,
          50.659630606860155,
          47.4934036939314,
          44.327176781002635,
          52.770448548812666,
          103.43007915567283,
          58.04749340369393,
          63.324538258575195,
          46.437994722955146,
          47.4934036939314,
          68.60158311345647,
          157.25593667546173,
          82.32189973614776,
          89.70976253298153,
          122.42744063324538,
          48.54881266490765,
          41.16094986807388,
          121.37203166226912,
          72.82321899736148,
          103.43007915567283,
          211.08179419525067,
          59.10290237467019,
          68.60158311345647,
          79.15567282321899,
          61.21372031662269,
          35.88390501319261,
          121.37203166226912,
          89.70976253298153,
          63.324538258575195,
          168.86543535620052,
          67.54617414248021,
          36.93931398416886,
          47.4934036939314,
          31.662269129287598,
          116.09498680738785,
          27.440633245382585,
          62.26912928759894,
          79.15567282321899,
          63.324538258575195,
          104.48548812664907,
          71.76781002638522,
          36.93931398416886,
          79.15567282321899,
          40.105540897097626,
          51.715039577836414,
          72.82321899736148,
          67.54617414248021,
          50.659630606860155,
          45.382585751978894,
          68.60158311345647,
          63.324538258575195,
          68.60158311345647,
          47.4934036939314,
          42.21635883905013,
          121.37203166226912,
          184.69656992084433,
          87.59894459102902,
          68.60158311345647,
          83.37730870712402,
          72.82321899736148,
          63.324538258575195,
          42.21635883905013,
          36.93931398416886,
          44.327176781002635,
          59.10290237467019,
          36.93931398416886,
          71.76781002638522,
          51.715039577836414,
          35.88390501319261,
          58.04749340369393,
          52.770448548812666,
          64.37994722955145,
          97.0976253298153,
          110.8179419525066,
          50.659630606860155,
          65.4353562005277,
          30.606860158311346,
          47.4934036939314,
          111.87335092348285,
          73.87862796833772,
          75.98944591029024,
          41.16094986807388,
          89.70976253298153,
          36.93931398416886,
          55.93667546174142,
          126.64907651715039,
          58.04749340369393,
          36.93931398416886,
          110.8179419525066,
          36.93931398416886,
          100.26385224274406,
          105.54089709762533,
          73.87862796833772,
          58.04749340369393,
          321.89973614775727,
          63.324538258575195,
          48.54881266490765,
          42.21635883905013,
          79.15567282321899,
          40.105540897097626,
          47.4934036939314,
          31.662269129287598,
          93.93139841688654,
          92.87598944591029,
          73.87862796833772,
          62.26912928759894,
          58.04749340369393,
          40.105540897097626,
          79.15567282321899,
          189.9736147757256,
          100.26385224274406,
          59.10290237467019,
          40.105540897097626,
          34.82849604221636,
          62.26912928759894,
          135.09234828496042,
          36.93931398416886,
          31.662269129287598,
          37.99472295514512,
          27.440633245382585,
          58.04749340369393,
          142.48021108179418,
          79.15567282321899,
          41.16094986807388,
          83.37730870712402,
          49.6042216358839,
          79.15567282321899,
          128.7598944591029,
          33.773087071240106,
          58.04749340369393,
          103.43007915567283,
          103.43007915567283,
          62.26912928759894,
          84.43271767810026,
          51.715039577836414,
          29.551451187335093,
          100.26385224274406,
          232.1899736147757,
          40.105540897097626,
          49.6042216358839,
          41.16094986807388,
          55.93667546174142,
          37.99472295514512,
          36.93931398416886,
          41.16094986807388,
          79.15567282321899,
          137.20316622691294,
          100.26385224274406,
          40.105540897097626,
          48.54881266490765,
          46.437994722955146,
          63.324538258575195,
          47.4934036939314,
          88.65435356200527,
          84.43271767810026,
          102.37467018469657,
          50.659630606860155,
          79.15567282321899,
          87.59894459102902,
          40.105540897097626,
          73.87862796833772,
          35.88390501319261,
          72.82321899736148,
          44.327176781002635,
          82.32189973614776,
          42.21635883905013,
          58.04749340369393,
          80.21108179419525,
          79.15567282321899,
          29.551451187335093,
          68.60158311345647,
          84.43271767810026,
          73.87862796833772,
          41.16094986807388,
          47.4934036939314,
          232.1899736147757,
          35.88390501319261,
          52.770448548812666,
          147.75725593667545,
          142.48021108179418,
          73.87862796833772,
          36.93931398416886,
          68.60158311345647,
          73.87862796833772,
          40.105540897097626,
          71.76781002638522,
          79.15567282321899,
          146.70184696569922,
          58.04749340369393,
          153.03430079155672,
          61.21372031662269,
          61.21372031662269,
          62.26912928759894,
          41.16094986807388,
          62.26912928759894,
          31.662269129287598,
          71.76781002638522,
          158.31134564643799,
          58.04749340369393,
          50.659630606860155,
          46.437994722955146,
          61.21372031662269,
          39.050131926121374,
          77.04485488126649,
          58.04749340369393,
          81.2664907651715,
          68.60158311345647,
          41.16094986807388,
          153.03430079155672,
          50.659630606860155,
          121.37203166226912,
          58.04749340369393,
          50.659630606860155,
          60.15831134564644,
          47.4934036939314,
          51.715039577836414,
          61.21372031662269,
          47.4934036939314,
          58.04749340369393,
          58.04749340369393,
          44.327176781002635,
          51.715039577836414,
          47.4934036939314,
          47.4934036939314,
          68.60158311345647,
          52.770448548812666,
          51.715039577836414,
          104.48548812664907,
          41.16094986807388,
          61.21372031662269,
          47.4934036939314,
          36.93931398416886,
          71.76781002638522,
          41.16094986807388,
          73.87862796833772,
          43.27176781002638,
          46.437994722955146,
          44.327176781002635,
          58.04749340369393,
          47.4934036939314,
          89.70976253298153,
          52.770448548812666,
          52.770448548812666,
          52.770448548812666,
          126.64907651715039,
          40.105540897097626,
          28.496042216358838,
          100.26385224274406,
          100.26385224274406,
          47.4934036939314,
          63.324538258575195,
          51.715039577836414,
          158.31134564643799,
          45.382585751978894,
          116.09498680738785,
          42.21635883905013,
          41.16094986807388,
          63.324538258575195,
          79.15567282321899,
          50.659630606860155,
          54.88126649076517,
          87.59894459102902,
          47.4934036939314,
          58.04749340369393,
          28.496042216358838,
          105.54089709762533,
          110.8179419525066,
          84.43271767810026,
          54.88126649076517,
          100.26385224274406,
          47.4934036939314,
          67.54617414248021,
          44.327176781002635,
          73.87862796833772,
          63.324538258575195,
          52.770448548812666,
          51.715039577836414,
          50.659630606860155,
          44.327176781002635,
          50.659630606860155,
          50.659630606860155,
          47.4934036939314,
          51.715039577836414,
          34.82849604221636,
          47.4934036939314,
          94.9868073878628,
          68.60158311345647,
          51.715039577836414,
          50.659630606860155,
          41.16094986807388,
          153.03430079155672,
          72.82321899736148,
          63.324538258575195,
          60.15831134564644,
          63.324538258575195,
          16.203658512777462,
          36.89748745680651,
          62.471936434804675,
          42.94945629892822,
          40.99720828534057,
          58.567440407629384,
          50.36799875056127,
          13.665736095113523,
          37.09271225816528,
          67.3525564687738,
          65.2359742655329,
          44.327176781002635,
          50.659630606860155,
          73.87862796833772,
          56.992084432717675,
          26.385224274406333,
          39.050131926121374,
          79.15567282321899,
          65.4353562005277,
          59.10290237467019,
          68.60158311345647,
          47.4934036939314,
          58.04749340369393,
          42.21635883905013,
          26.385224274406333,
          41.16094986807388,
          89.70976253298153,
          53.82585751978892,
          33.773087071240106,
          54.88126649076517,
          64.37994722955145,
          34.82849604221636,
          41.16094986807388,
          41.16094986807388,
          30.606860158311346,
          40.105540897097626,
          47.4934036939314,
          42.21635883905013,
          26.385224274406333,
          60.15831134564644,
          61.21372031662269,
          17.941952506596305,
          36.93931398416886,
          41.16094986807388,
          42.21635883905013,
          41.16094986807388,
          21.108179419525065,
          63.324538258575195,
          41.16094986807388,
          29.551451187335093,
          62.26912928759894,
          70.71240105540898,
          34.82849604221636,
          46.437994722955146,
          40.105540897097626,
          29.551451187335093,
          28.496042216358838,
          29.551451187335093,
          61.21372031662269,
          59.10290237467019,
          21.108179419525065,
          48.54881266490765,
          59.10290237467019,
          36.93931398416886,
          36.93931398416886,
          37.99472295514512,
          26.385224274406333,
          28.496042216358838,
          77.04485488126649,
          36.93931398416886,
          34.82849604221636,
          27.440633245382585,
          40.105540897097626,
          46.437994722955146,
          42.21635883905013,
          44.327176781002635,
          41.16094986807388,
          33.773087071240106,
          40.105540897097626,
          41.16094986807388,
          41.16094986807388,
          29.551451187335093,
          70.71240105540898,
          63.324538258575195,
          58.04749340369393,
          36.93931398416886,
          44.327176781002635,
          104.48548812664907,
          39.050131926121374,
          34.82849604221636,
          39.050131926121374,
          33.773087071240106,
          23.218997361477573,
          30.606860158311346,
          36.93931398416886,
          41.16094986807388,
          40.105540897097626,
          67.54617414248021,
          31.662269129287598,
          41.16094986807388,
          70.71240105540898,
          39.050131926121374,
          30.606860158311346,
          44.327176781002635,
          30.606860158311346,
          52.770448548812666,
          42.21635883905013,
          31.662269129287598,
          26.385224274406333,
          50.659630606860155,
          36.93931398416886,
          50.659630606860155,
          45.382585751978894,
          50.659630606860155,
          36.93931398416886,
          27.440633245382585,
          26.385224274406333,
          49.6042216358839,
          63.324538258575195,
          33.773087071240106,
          60.15831134564644,
          52.770448548812666,
          52.770448548812666,
          25.329815303430077,
          31.662269129287598,
          39.050131926121374,
          37.99472295514512,
          29.551451187335093,
          29.551451187335093,
          32.71767810026385,
          30.606860158311346,
          63.324538258575195,
          52.770448548812666,
          25.329815303430077,
          40.105540897097626,
          51.715039577836414,
          44.327176781002635,
          65.4353562005277,
          36.93931398416886,
          39.050131926121374,
          41.16094986807388,
          47.4934036939314,
          26.385224274406333,
          49.6042216358839,
          73.87862796833772,
          58.04749340369393,
          58.04749340369393,
          41.16094986807388,
          34.82849604221636,
          39.050131926121374,
          31.662269129287598,
          58.04749340369393,
          30.606860158311346,
          73.87862796833772,
          65.4353562005277,
          26.385224274406333,
          40.105540897097626,
          45.382585751978894,
          50.659630606860155,
          64.37994722955145,
          41.16094986807388,
          39.050131926121374,
          37.99472295514512,
          59.10290237467019,
          58.04749340369393,
          62.26912928759894,
          44.327176781002635,
          31.662269129287598,
          41.16094986807388,
          40.105540897097626,
          39.050131926121374,
          42.21635883905013,
          46.437994722955146,
          45.382585751978894,
          44.327176781002635,
          39.050131926121374,
          71.76781002638522,
          29.551451187335093,
          42.21635883905013,
          37.99472295514512,
          40.105540897097626,
          37.99472295514512,
          68.60158311345647,
          59.10290237467019,
          31.662269129287598,
          59.10290237467019,
          52.770448548812666,
          34.82849604221636,
          64.37994722955145,
          36.93931398416886,
          60.15831134564644,
          35.88390501319261,
          42.21635883905013,
          44.327176781002635,
          48.54881266490765,
          36.93931398416886,
          41.16094986807388,
          20.052770448548813,
          39.050131926121374,
          47.4934036939314,
          36.93931398416886,
          46.437994722955146,
          42.21635883905013,
          37.99472295514512,
          39.050131926121374,
          63.324538258575195,
          56.992084432717675,
          48.54881266490765,
          39.050131926121374,
          51.715039577836414,
          41.16094986807388,
          40.105540897097626,
          40.105540897097626,
          41.16094986807388,
          56.992084432717675,
          41.16094986807388,
          41.16094986807388,
          68.60158311345647,
          32.71767810026385,
          72.82321899736148,
          39.050131926121374,
          43.27176781002638,
          47.4934036939314,
          62.26912928759894,
          48.54881266490765,
          39.050131926121374,
          39.050131926121374,
          33.773087071240106,
          33.773087071240106,
          48.54881266490765,
          56.992084432717675,
          54.88126649076517,
          44.327176781002635,
          35.88390501319261,
          39.050131926121374,
          41.16094986807388,
          26.385224274406333,
          44.327176781002635,
          20.052770448548813,
          59.10290237467019,
          23.218997361477573,
          29.551451187335093,
          58.04749340369393,
          41.16094986807388,
          42.21635883905013,
          37.99472295514512,
          37.99472295514512,
          41.16094986807388,
          48.54881266490765,
          42.21635883905013,
          58.04749340369393,
          36.93931398416886,
          63.324538258575195,
          54.88126649076517,
          39.050131926121374,
          39.050131926121374,
          47.4934036939314,
          44.327176781002635,
          51.715039577836414,
          39.050131926121374,
          34.82849604221636,
          89.70976253298153,
          36.93931398416886,
          33.773087071240106,
          25.329815303430077,
          42.21635883905013,
          31.662269129287598,
          17.941952506596305,
          39.050131926121374,
          66.49076517150395,
          54.88126649076517,
          27.440633245382585,
          31.662269129287598,
          41.16094986807388,
          30.606860158311346,
          50.659630606860155,
          37.99472295514512,
          42.21635883905013,
          46.437994722955146,
          21.108179419525065,
          41.16094986807388,
          51.715039577836414,
          69.65699208443272,
          40.105540897097626,
          50.659630606860155,
          68.60158311345647,
          28.496042216358838,
          41.16094986807388,
          39.050131926121374,
          27.440633245382585,
          49.6042216358839,
          27.440633245382585,
          35.88390501319261,
          63.324538258575195,
          34.82849604221636,
          29.551451187335093,
          39.050131926121374,
          29.551451187335093,
          34.82849604221636,
          77.04485488126649,
          42.21635883905013,
          72.82321899736148,
          36.93931398416886,
          36.93931398416886,
          44.327176781002635,
          55.93667546174142,
          33.773087071240106,
          50.659630606860155,
          26.385224274406333,
          49.6042216358839,
          51.715039577836414,
          48.54881266490765,
          42.21635883905013,
          31.662269129287598,
          37.99472295514512,
          45.382585751978894,
          52.770448548812666,
          47.4934036939314,
          40.105540897097626,
          35.88390501319261,
          46.437994722955146,
          37.99472295514512,
          40.105540897097626,
          31.662269129287598,
          33.773087071240106,
          32.71767810026385,
          28.496042216358838,
          56.992084432717675,
          41.16094986807388,
          51.715039577836414,
          35.88390501319261,
          40.70556309362279,
          24.670038238559272,
          34.53805353398298,
          34.53805353398298,
          50.5735783890465,
          29.604045886271123,
          86.34513383495745,
          49.340076477118544,
          37.00505735783891,
          34.53805353398298,
          69.07610706796596,
          34.53805353398298,
          49.340076477118544,
          45.63957074133465,
          34.53805353398298,
          40.70556309362279,
          54.274084124830395,
          67.84260515603799,
          32.07104971012705,
          43.172566917478726,
          75.24361662760577,
          30.83754779819909,
          30.83754779819909,
          43.172566917478726,
          62.90859750832614,
          37.00505735783891,
          51.80708030097447,
          45.63957074133465,
          34.53805353398298,
          30.83754779819909,
          64.1420994202541,
          29.604045886271123,
          56.74108794868632,
          18.502528678919454,
          61.67509559639818,
          37.00505735783891,
          57.97458986061429,
          30.83754779819909,
          49.340076477118544,
          43.172566917478726,
          25.903540150487235,
          37.00505735783891,
          44.406068829406685,
          24.670038238559272,
          71.54311089182188,
          67.84260515603799,
          43.172566917478726,
          18.502528678919454,
          51.80708030097447,
          64.1420994202541,
          59.20809177254225,
          44.406068829406685,
          44.406068829406685,
          32.07104971012705,
          22.203034414703342,
          32.07104971012705,
          39.47206118169483,
          49.340076477118544,
          44.406068829406685,
          41.93906500555076,
          43.172566917478726,
          49.340076477118544,
          39.47206118169483,
          39.47206118169483,
          22.203034414703342,
          50.5735783890465,
          39.47206118169483,
          43.172566917478726,
          18.502528678919454,
          40.70556309362279,
          43.172566917478726,
          30.83754779819909,
          43.172566917478726,
          18.502528678919454,
          46.87307265326261,
          46.87307265326261,
          23.436536326631305,
          27.137042062415198,
          46.87307265326261,
          59.20809177254225,
          38.23855926976687,
          43.172566917478726,
          43.172566917478726,
          37.00505735783891,
          56.74108794868632,
          49.340076477118544,
          46.87307265326261,
          40.70556309362279,
          28.37054397434316,
          55.50758603675836,
          55.50758603675836,
          61.67509559639818,
          86.34513383495745,
          48.10657456519058,
          54.274084124830395,
          34.53805353398298,
          39.47206118169483,
          37.00505735783891,
          22.203034414703342,
          28.37054397434316,
          39.47206118169483,
          56.74108794868632,
          59.20809177254225,
          79.15567282321899,
          33.773087071240106,
          32.71767810026385,
          30.606860158311346,
          45.382585751978894,
          34.82849604221636,
          49.6042216358839,
          52.770448548812666,
          31.662269129287598,
          41.16094986807388,
          29.718565187672738,
          44.57784778150911,
          17.831139112603644,
          29.718565187672738,
          8.915569556301822,
          14.859282593836369,
          29.718565187672738,
          44.57784778150911,
          29.718565187672738,
          3.714820648459092,
          29.718565187672738,
          29.718565187672738,
          22.288923890754553,
          29.718565187672738,
          1.485928259383637,
          29.718565187672738,
          11.887426075069095,
          14.859282593836369,
          8.65394125210167,
          21.016714469389772,
          27.198101078033822,
          43.26970626050835,
          30.906933043220253,
          30.906933043220253,
          6.1813866086440505,
          12.733662710742118,
          12.733662710742118,
          19.100494066113175,
          25.467325421484237,
          28.01405796363266,
          38.20098813222635,
          19.100494066113175,
          9.932256914378852,
          10.186930168593694,
          7.258187745123007,
          14.00702898181633,
          25.467325421484237,
          10.186930168593694,
          11.205623185453064,
          8.65889064330464,
          50.93465084296847,
          12.733662710742118,
          19.100494066113175,
          12.733662710742118,
          10.186930168593694,
          6.366831355371059,
          7.003514490908165,
          25.467325421484237,
          12.733662710742118,
          8.913563897519483,
          3.8200988132226352,
          12.733662710742118,
          50.93465084296847,
          29.03275098049203,
          12.733662710742118,
          50.93465084296847,
          25.467325421484237,
          9.422910405949168,
          6.112158101156217,
          25.467325421484237,
          8.913563897519483,
          12.733662710742118,
          50.93465084296847,
          44.56781948759741,
          8.65889064330464,
          50.93465084296847,
          19.100494066113175,
          6.621504609585901,
          10.186930168593694,
          12.733662710742118,
          19.100494066113175,
          50.93465084296847,
          4.456781948759741,
          16.29908826974991,
          38.20098813222635,
          50.93465084296847,
          31.834156776855295,
          5.093465084296847,
          8.786227270412061,
          70.03514490908165,
          50.93465084296847,
          12.733662710742118,
          25.467325421484237,
          12.733662710742118,
          14.00702898181633,
          5.730148219833953,
          19.100494066113175,
          25.467325421484237,
          19.100494066113175,
          27.935451276412376,
          29.718565187672738,
          29.718565187672738,
          29.718565187672738,
          44.57784778150911,
          4.457784778150911,
          11.887426075069095,
          29.718565187672738,
          29.718565187672738,
          7.429641296918184,
          44.57784778150911,
          4.457784778150911,
          14.859282593836369,
          2.748111035256818,
          43.391226872476075,
          16.199391365724402,
          18.802864978072964,
          0.5785496916330143,
          28.927484581650717,
          21.695613436238038,
          20.2492392071555,
          23.141987665320574,
          18.802864978072964,
          17.35649074899043,
          20.2492392071555,
          1.4463742290825359,
          1.735649074899043,
          23.141987665320574,
          1.4463742290825359,
          14.463742290825358,
          37.60572995614593,
          21.695613436238038,
          14.463742290825358,
          2.8927484581650718,
          27.48111035256818,
          11.570993832660287,
          11.570993832660287,
          9.256795066128229,
          1.1570993832660286,
          3.471298149798086,
          1.1570993832660286,
          24.588361894403107,
          27.770385198384687,
          0.5785496916330143,
          14.463742290825358,
          11.570993832660287,
          0.8678245374495215,
          23.141987665320574,
          2.8927484581650718,
          1.4463742290825359,
          17.35649074899043,
          26.034736123485644,
          1.735649074899043,
          2.8927484581650718,
          28.927484581650717,
          26.034736123485644,
          4.339122687247608,
          0.8678245374495215,
          17.35649074899043,
          17.35649074899043,
          2.8927484581650718,
          8.678245374495216,
          1.735649074899043,
          34.71298149798086,
          1.4463742290825359,
          3.471298149798086,
          34.71298149798086,
          34.71298149798086,
          2.314198766532057,
          6.364046607963157,
          28.927484581650717,
          26.034736123485644,
          2.314198766532057,
          10.12461960357775,
          4.339122687247608,
          34.71298149798086,
          3.1820233039815786,
          10.12461960357775,
          6.942596299596172,
          13.885192599192344,
          2.8927484581650718,
          23.141987665320574,
          21.695613436238038,
          26.034736123485644,
          26.034736123485644,
          11.570993832660287,
          23.141987665320574,
          19.959964361338994,
          5.206947224697129,
          2.0249239207155503,
          10.12461960357775,
          5.7854969163301435,
          2.8927484581650718,
          1.0124619603577751,
          31.820233039815786,
          1.4463742290825359,
          5.7854969163301435,
          2.8927484581650718,
          7.231871145412679,
          24.009812202770096,
          8.678245374495216,
          2.8927484581650718,
          2.0249239207155503,
          20.2492392071555,
          2.8927484581650718,
          8.388970528678708,
          47.730349559723685,
          2.8927484581650718,
          18.22431528643995,
          34.71298149798086,
          2.8927484581650718,
          14.463742290825358,
          26.034736123485644,
          17.35649074899043,
          4.0498478414311005,
          3.471298149798086,
          26.034736123485644,
          13.017368061742822,
          18.802864978072964,
          23.141987665320574,
          34.71298149798086,
          0.5785496916330143,
          18.802864978072964,
          23.141987665320574,
          23.141987665320574,
          5.7854969163301435,
          2.0249239207155503,
          20.2492392071555,
          15.910116519907893,
          0.5785496916330143,
          43.391226872476075,
          9.256795066128229,
          28.927484581650717,
          13.017368061742822,
          28.927484581650717,
          11.570993832660287,
          3.471298149798086,
          14.463742290825358,
          2.314198766532057,
          20.2492392071555,
          28.927484581650717,
          2.0249239207155503,
          23.141987665320574,
          34.71298149798086,
          11.570993832660287,
          1.735649074899043,
          75.98944591029024,
          42.21635883905013,
          36.93931398416886,
          42.21635883905013,
          47.4934036939314,
          36.93931398416886,
          36.93931398416886,
          15.831134564643799,
          36.93931398416886,
          33.773087071240106,
          36.93931398416886,
          10.554089709762533,
          16.886543535620053,
          42.21635883905013,
          55.93667546174142,
          36.93931398416886,
          20.052770448548813,
          26.385224274406333,
          21.108179419525065,
          10.554089709762533,
          21.108179419525065,
          36.93931398416886,
          26.385224274406333,
          42.21635883905013,
          52.770448548812666,
          58.04749340369393,
          72.82321899736148,
          10.554089709762533,
          26.385224274406333,
          42.21635883905013,
          36.93931398416886,
          47.4934036939314,
          52.770448548812666,
          44.327176781002635,
          79.15567282321899,
          14.775725593667547,
          52.770448548812666,
          47.4934036939314,
          40.105540897097626,
          16.886543535620053,
          58.04749340369393,
          39.050131926121374,
          47.4934036939314,
          47.4934036939314,
          47.4934036939314,
          47.4934036939314,
          23.218997361477573,
          42.21635883905013,
          42.21635883905013,
          40.105540897097626,
          36.93931398416886,
          37.99472295514512,
          26.385224274406333,
          20.052770448548813,
          21.108179419525065,
          10.554089709762533,
          36.93931398416886,
          42.21635883905013,
          24.274406332453825,
          20.052770448548813,
          36.93931398416886,
          13.720316622691293,
          42.21635883905013,
          52.770448548812666,
          47.4934036939314,
          26.385224274406333,
          15.831134564643799,
          26.385224274406333,
          52.770448548812666,
          47.4934036939314,
          31.662269129287598,
          29.551451187335093,
          34.82849604221636,
          36.93931398416886,
          42.21635883905013,
          45.382585751978894,
          25.329815303430077,
          36.93931398416886,
          52.770448548812666,
          15.831134564643799,
          18.99736147757256,
          52.770448548812666,
          41.16094986807388,
          21.108179419525065,
          41.16094986807388,
          15.831134564643799,
          26.385224274406333,
          36.93931398416886,
          36.93931398416886,
          21.108179419525065,
          29.551451187335093,
          26.385224274406333,
          47.4934036939314,
          12.664907651715039,
          20.052770448548813,
          36.93931398416886,
          20.052770448548813,
          26.385224274406333,
          16.886543535620053,
          34.82849604221636,
          31.662269129287598,
          17.941952506596305,
          36.93931398416886,
          28.496042216358838,
          36.93931398416886,
          36.93931398416886,
          31.662269129287598,
          41.16094986807388,
          15.831134564643799,
          25.329815303430077,
          20.052770448548813,
          36.93931398416886,
          40.105540897097626,
          26.385224274406333,
          23.218997361477573,
          39.050131926121374,
          21.108179419525065,
          33.773087071240106,
          47.4934036939314,
          36.93931398416886,
          31.662269129287598,
          26.385224274406333,
          41.16094986807388,
          17.941952506596305,
          16.886543535620053,
          15.831134564643799,
          14.775725593667547,
          36.93931398416886,
          31.662269129287598,
          16.886543535620053,
          36.93931398416886,
          40.105540897097626,
          36.93931398416886,
          21.108179419525065,
          28.496042216358838,
          26.385224274406333,
          20.052770448548813,
          47.4934036939314,
          51.715039577836414,
          58.04749340369393,
          36.93931398416886,
          11.609498680738787,
          47.4934036939314,
          36.93931398416886,
          23.218997361477573,
          52.770448548812666,
          35.88390501319261,
          33.773087071240106,
          47.4934036939314,
          15.831134564643799,
          21.108179419525065,
          31.662269129287598,
          30.606860158311346,
          31.662269129287598,
          15.831134564643799,
          63.324538258575195,
          26.385224274406333,
          26.385224274406333,
          36.93931398416886,
          15.831134564643799,
          26.385224274406333,
          47.4934036939314,
          47.4934036939314,
          31.662269129287598,
          28.496042216358838,
          42.21635883905013,
          16.886543535620053,
          47.4934036939314,
          20.052770448548813,
          44.327176781002635,
          36.93931398416886,
          21.108179419525065,
          25.329815303430077,
          26.385224274406333,
          16.886543535620053,
          13.720316622691293,
          36.93931398416886,
          26.385224274406333,
          33.773087071240106,
          18.99736147757256,
          42.21635883905013,
          47.4934036939314,
          23.218997361477573,
          42.21635883905013,
          42.21635883905013,
          52.770448548812666,
          36.93931398416886,
          37.99472295514512,
          40.105540897097626,
          47.4934036939314,
          42.21635883905013,
          36.93931398416886,
          47.4934036939314,
          52.770448548812666,
          15.831134564643799,
          13.720316622691293,
          39.050131926121374,
          31.662269129287598,
          21.108179419525065,
          36.93931398416886,
          47.4934036939314,
          44.327176781002635,
          27.440633245382585,
          47.4934036939314,
          34.82849604221636,
          24.274406332453825,
          23.218997361477573,
          33.773087071240106,
          23.218997361477573,
          52.770448548812666,
          26.385224274406333,
          36.93931398416886,
          41.16094986807388,
          47.4934036939314,
          47.4934036939314,
          18.99736147757256,
          52.770448548812666,
          40.105540897097626,
          42.21635883905013,
          21.108179419525065,
          51.715039577836414,
          36.93931398416886,
          21.108179419525065,
          42.21635883905013,
          36.93931398416886,
          47.4934036939314,
          52.770448548812666,
          14.775725593667547,
          35.88390501319261,
          33.773087071240106,
          36.93931398416886,
          50.659630606860155,
          52.770448548812666,
          49.6042216358839,
          47.4934036939314,
          42.21635883905013,
          25.329815303430077,
          45.382585751978894,
          36.93931398416886,
          15.831134564643799,
          47.4934036939314,
          21.108179419525065,
          14.775725593667547,
          36.93931398416886,
          37.99472295514512,
          52.770448548812666,
          47.4934036939314,
          26.385224274406333,
          36.93931398416886,
          22.163588390501317,
          33.773087071240106,
          47.4934036939314,
          11.609498680738787,
          42.21635883905013,
          36.93931398416886,
          59.10290237467019,
          42.21635883905013,
          44.327176781002635,
          47.4934036939314,
          47.4934036939314,
          21.108179419525065,
          47.4934036939314,
          58.04749340369393,
          36.93931398416886,
          21.108179419525065,
          42.21635883905013,
          63.324538258575195,
          47.4934036939314,
          33.773087071240106,
          39.050131926121374,
          47.4934036939314,
          30.606860158311346,
          42.21635883905013,
          42.21635883905013,
          28.496042216358838,
          40.105540897097626,
          41.16094986807388,
          42.21635883905013,
          52.770448548812666,
          36.93931398416886,
          52.770448548812666,
          24.274406332453825,
          30.606860158311346,
          18.844153466785833,
          30.663770984560024,
          30.663770984560024,
          15.331885492280012,
          11.498914119210008,
          30.663770984560024,
          30.663770984560024,
          15.331885492280012,
          30.663770984560024,
          38.32971373070003,
          22.997828238420016,
          11.498914119210008,
          7.665942746140006,
          7.665942746140006,
          22.997828238420016,
          7.665942746140006,
          11.498914119210008,
          7.665942746140006,
          34.496742357630026,
          15.331885492280012,
          45.99565647684003,
          22.997828238420016,
          7.665942746140006,
          11.498914119210008,
          45.99565647684003,
          26.830799611490022,
          15.331885492280012,
          7.665942746140006,
          15.331885492280012,
          30.663770984560024,
          45.99565647684003,
          11.498914119210008,
          7.665942746140006,
          38.32971373070003,
          7.665942746140006,
          45.99565647684003,
          38.32971373070003,
          45.99565647684003,
          15.331885492280012,
          22.997828238420016,
          22.997828238420016,
          11.498914119210008,
          11.498914119210008,
          45.99565647684003,
          7.665942746140006,
          11.498914119210008,
          38.32971373070003,
          38.32971373070003,
          22.997828238420016,
          19.164856865350014,
          30.663770984560024,
          34.496742357630026,
          22.997828238420016,
          22.997828238420016,
          7.665942746140006,
          45.99565647684003,
          30.663770984560024,
          7.665942746140006,
          22.997828238420016,
          26.830799611490022,
          11.498914119210008,
          38.32971373070003,
          45.99565647684003,
          11.498914119210008,
          30.663770984560024,
          7.665942746140006,
          11.498914119210008,
          15.331885492280012,
          15.331885492280012,
          15.331885492280012,
          11.498914119210008,
          7.665942746140006,
          30.663770984560024,
          7.665942746140006,
          11.498914119210008,
          30.663770984560024,
          22.997828238420016,
          30.663770984560024,
          30.663770984560024,
          26.830799611490022,
          7.665942746140006,
          22.997828238420016,
          42.16268510377003,
          7.665942746140006,
          11.498914119210008,
          30.663770984560024,
          38.32971373070003,
          7.665942746140006,
          22.997828238420016,
          45.99565647684003,
          7.665942746140006,
          34.496742357630026,
          30.663770984560024,
          38.32971373070003,
          11.498914119210008,
          15.331885492280012,
          7.665942746140006,
          45.99565647684003,
          45.99565647684003,
          42.16268510377003,
          7.665942746140006,
          38.32971373070003,
          7.665942746140006,
          7.665942746140006,
          38.32971373070003,
          11.498914119210008,
          38.32971373070003,
          11.498914119210008,
          7.665942746140006,
          38.32971373070003,
          7.665942746140006,
          26.830799611490022,
          7.665942746140006,
          38.32971373070003,
          11.498914119210008,
          15.331885492280012,
          22.997828238420016,
          38.32971373070003,
          11.498914119210008,
          38.32971373070003,
          38.32971373070003,
          7.665942746140006,
          30.663770984560024,
          26.830799611490022,
          26.830799611490022,
          30.663770984560024,
          26.830799611490022,
          7.665942746140006,
          7.665942746140006,
          38.32971373070003,
          38.32971373070003,
          26.830799611490022,
          45.99565647684003,
          7.665942746140006,
          11.498914119210008,
          26.830799611490022,
          30.663770984560024,
          38.32971373070003,
          30.663770984560024,
          7.665942746140006,
          45.99565647684003,
          38.32971373070003,
          30.663770984560024,
          11.498914119210008,
          22.997828238420016,
          7.665942746140006,
          26.830799611490022,
          45.99565647684003,
          26.830799611490022,
          38.32971373070003,
          38.32971373070003,
          7.665942746140006,
          7.665942746140006,
          30.663770984560024,
          38.32971373070003,
          7.665942746140006,
          38.32971373070003,
          45.99565647684003,
          15.331885492280012,
          7.665942746140006,
          11.498914119210008,
          11.498914119210008,
          7.665942746140006,
          38.32971373070003,
          30.663770984560024,
          11.498914119210008,
          22.997828238420016,
          19.164856865350014,
          42.16268510377003,
          7.665942746140006,
          11.498914119210008,
          38.32971373070003,
          45.99565647684003,
          7.665942746140006,
          7.665942746140006,
          30.663770984560024,
          30.663770984560024,
          19.164856865350014,
          38.32971373070003,
          15.331885492280012,
          7.665942746140006,
          45.99565647684003,
          30.663770984560024,
          7.665942746140006,
          45.99565647684003,
          7.665942746140006,
          11.498914119210008,
          22.997828238420016,
          34.496742357630026,
          15.331885492280012,
          11.498914119210008,
          45.99565647684003,
          22.997828238420016,
          30.663770984560024,
          7.665942746140006,
          30.663770984560024,
          11.498914119210008,
          30.663770984560024,
          26.830799611490022,
          15.331885492280012,
          30.663770984560024,
          45.99565647684003,
          26.830799611490022,
          38.32971373070003,
          30.663770984560024,
          19.164856865350014,
          45.99565647684003,
          30.663770984560024,
          30.663770984560024,
          38.32971373070003,
          7.665942746140006,
          11.498914119210008,
          22.997828238420016,
          11.498914119210008,
          15.331885492280012,
          30.663770984560024,
          7.665942746140006,
          11.498914119210008,
          7.665942746140006,
          22.997828238420016,
          45.99565647684003,
          45.99565647684003,
          7.665942746140006,
          26.830799611490022,
          7.665942746140006,
          11.498914119210008,
          22.997828238420016,
          7.665942746140006,
          19.62342952712323,
          7.849371810849291,
          39.24685905424646,
          32.96736160556703,
          21.97824107037802,
          19.62342952712323,
          33.752298786651956,
          23.548115432547874,
          30.612550062312238,
          38.46192187316153,
          47.09623086509575,
          27.47280133797252,
          46.31129368401082,
          15.698743621698583,
          25.902926975802664,
          29.04267570014238,
          9.41924617301915,
          19.62342952712323,
          21.97824107037802,
          41.60167059750125,
          41.60167059750125,
          10.98912053518901,
          25.117989794717733,
          9.811714763561614,
          7.849371810849291,
          66.71966039221898,
          8.63430899193422,
          39.24685905424646,
          35.32217314882181,
          32.96736160556703,
          31.397487243397165,
          59.65522576245462,
          10.98912053518901,
          35.32217314882181,
          25.902926975802664,
          35.32217314882181,
          14.913806440613655,
          7.849371810849291,
          35.32217314882181,
          5.494560267594505,
          32.96736160556703,
          43.1715449596711,
          30.612550062312238,
          47.09623086509575,
          35.32217314882181,
          41.60167059750125,
          27.47280133797252,
          62.79497448679433,
          10.98912053518901,
          51.020916770520394,
          35.32217314882181,
          19.62342952712323,
          33.752298786651956,
          19.62342952712323,
          15.698743621698583,
          21.97824107037802,
          13.343932078443796,
          15.698743621698583,
          45.52635650292589,
          45.382585751978894,
          21.108179419525065,
          31.662269129287598,
          52.770448548812666,
          21.108179419525065,
          20.052770448548813,
          15.831134564643799,
          52.770448548812666,
          15.831134564643799,
          42.21635883905013,
          42.21635883905013,
          21.108179419525065,
          42.21635883905013,
          36.93931398416886,
          26.385224274406333,
          50.659630606860155,
          36.93931398416886,
          26.385224274406333,
          39.050131926121374,
          36.93931398416886,
          50.659630606860155,
          26.385224274406333,
          52.770448548812666,
          42.21635883905013,
          21.108179419525065,
          26.385224274406333,
          31.662269129287598,
          36.93931398416886,
          29.551451187335093,
          47.4934036939314,
          29.551451187335093,
          31.662269129287598,
          26.385224274406333,
          15.831134564643799,
          26.385224274406333,
          18.99736147757256,
          27.440633245382585,
          29.551451187335093,
          21.108179419525065,
          15.831134564643799,
          15.831134564643799,
          26.385224274406333,
          15.831134564643799,
          49.6042216358839,
          33.773087071240106,
          36.93931398416886,
          26.385224274406333,
          50.659630606860155,
          43.27176781002638,
          23.218997361477573,
          26.385224274406333,
          31.662269129287598,
          63.324538258575195,
          31.662269129287598,
          31.662269129287598,
          31.662269129287598,
          26.385224274406333,
          29.551451187335093,
          36.93931398416886,
          21.108179419525065,
          73.87862796833772,
          31.662269129287598,
          31.662269129287598,
          26.385224274406333,
          42.21635883905013,
          26.385224274406333,
          18.99736147757256,
          64.37994722955145,
          33.773087071240106,
          47.4934036939314,
          63.324538258575195,
          33.773087071240106,
          68.60158311345647,
          31.662269129287598,
          47.4934036939314,
          26.385224274406333,
          44.327176781002635,
          52.770448548812666,
          52.770448548812666,
          47.4934036939314,
          26.385224274406333,
          14.775725593667547,
          31.662269129287598,
          26.385224274406333,
          42.21635883905013,
          35.88390501319261,
          70.71240105540898,
          29.551451187335093,
          44.327176781002635,
          46.437994722955146,
          36.93931398416886,
          26.385224274406333,
          26.385224274406333,
          50.659630606860155,
          41.16094986807388,
          42.21635883905013,
          36.93931398416886,
          21.108179419525065,
          37.99472295514512,
          36.93931398416886,
          47.4934036939314,
          25.329815303430077,
          36.93931398416886,
          26.385224274406333,
          42.21635883905013,
          26.385224274406333,
          21.108179419525065,
          58.04749340369393,
          23.218997361477573,
          42.21635883905013,
          63.324538258575195,
          26.385224274406333,
          40.105540897097626,
          41.16094986807388,
          36.93931398416886,
          18.99736147757256,
          36.93931398416886,
          45.382585751978894,
          36.93931398416886,
          47.4934036939314,
          33.773087071240106,
          15.831134564643799,
          21.108179419525065,
          26.385224274406333,
          21.108179419525065,
          36.93931398416886,
          52.770448548812666,
          63.324538258575195,
          13.720316622691293,
          42.21635883905013,
          42.21635883905013,
          29.551451187335093,
          52.770448548812666,
          63.324538258575195,
          12.664907651715039,
          31.662269129287598,
          21.108179419525065,
          15.831134564643799,
          26.385224274406333,
          42.21635883905013,
          31.662269129287598,
          26.385224274406333,
          15.831134564643799,
          52.770448548812666,
          15.831134564643799,
          45.382585751978894,
          42.21635883905013,
          18.99736147757256,
          34.82849604221636,
          47.4934036939314,
          28.496042216358838,
          47.4934036939314,
          61.21372031662269,
          47.4934036939314,
          31.662269129287598,
          26.385224274406333,
          42.21635883905013,
          26.385224274406333,
          21.108179419525065,
          47.4934036939314,
          26.385224274406333,
          40.105540897097626,
          31.662269129287598,
          26.385224274406333,
          26.385224274406333,
          36.93931398416886,
          16.886543535620053,
          47.4934036939314,
          26.385224274406333,
          36.93931398416886,
          12.664907651715039,
          21.108179419525065,
          42.21635883905013,
          31.662269129287598,
          50.659630606860155,
          36.93931398416886,
          25.329815303430077,
          15.831134564643799,
          55.93667546174142,
          21.108179419525065,
          36.93931398416886,
          52.770448548812666,
          40.105540897097626,
          58.04749340369393,
          52.770448548812666,
          33.773087071240106,
          52.770448548812666,
          21.108179419525065,
          40.105540897097626,
          40.105540897097626,
          70.71240105540898,
          51.715039577836414,
          21.108179419525065,
          26.385224274406333,
          36.93931398416886,
          26.385224274406333,
          43.27176781002638,
          35.88390501319261,
          31.662269129287598,
          40.105540897097626,
          55.93667546174142,
          42.21635883905013,
          48.54881266490765,
          22.163588390501317,
          21.108179419525065,
          50.659630606860155,
          42.21635883905013,
          47.4934036939314,
          47.4934036939314,
          47.4934036939314,
          68.60158311345647,
          23.218997361477573,
          15.831134564643799,
          21.108179419525065,
          14.775725593667547,
          52.770448548812666,
          15.831134564643799,
          12.664907651715039,
          31.662269129287598,
          52.770448548812666,
          47.4934036939314,
          40.105540897097626,
          36.93931398416886,
          44.327176781002635,
          31.662269129287598,
          68.60158311345647,
          60.15831134564644,
          42.21635883905013,
          75.98944591029024,
          47.4934036939314,
          15.831134564643799,
          42.21635883905013,
          55.93667546174142,
          47.4934036939314,
          53.82585751978892,
          47.4934036939314,
          33.773087071240106,
          84.43271767810026,
          21.108179419525065,
          31.662269129287598,
          26.385224274406333,
          40.105540897097626,
          42.21635883905013,
          15.831134564643799,
          47.4934036939314,
          42.21635883905013,
          31.662269129287598,
          42.21635883905013,
          18.99736147757256,
          21.108179419525065,
          30.606860158311346,
          31.662269129287598,
          47.4934036939314,
          29.551451187335093,
          36.93931398416886,
          52.770448548812666,
          50.34610312735668,
          16.641598941678566,
          27.384909650863467,
          34.757769941480554,
          28.143260995041224,
          44.57784778150911,
          29.718565187672738,
          14.859282593836369,
          23.77485215013819,
          29.718565187672738,
          5.943713037534548,
          14.859282593836369,
          14.562096941959641,
          37.14820648459092,
          44.57784778150911,
          14.859282593836369,
          29.718565187672738,
          17.831139112603644,
          44.57784778150911,
          37.14820648459092,
          14.859282593836369,
          22.288923890754553,
          14.859282593836369,
          44.57784778150911,
          7.429641296918184,
          7.665942746140006,
          38.32971373070003,
          38.32971373070003,
          7.665942746140006,
          15.331885492280012,
          7.665942746140006,
          38.32971373070003,
          11.498914119210008,
          7.665942746140006,
          38.32971373070003,
          19.164856865350014,
          45.99565647684003,
          11.498914119210008,
          22.997828238420016,
          7.665942746140006,
          7.665942746140006,
          38.32971373070003,
          38.32971373070003,
          30.663770984560024,
          7.665942746140006,
          15.331885492280012,
          15.331885492280012,
          11.498914119210008,
          38.32971373070003,
          7.665942746140006,
          7.665942746140006,
          22.997828238420016,
          7.665942746140006,
          7.665942746140006,
          19.164856865350014,
          42.16268510377003,
          30.663770984560024,
          7.665942746140006,
          30.663770984560024,
          34.496742357630026,
          30.663770984560024,
          7.665942746140006,
          34.496742357630026,
          7.665942746140006,
          30.663770984560024,
          30.663770984560024,
          7.665942746140006,
          7.665942746140006,
          30.663770984560024,
          30.663770984560024,
          38.32971373070003,
          38.32971373070003,
          30.663770984560024,
          7.665942746140006,
          22.997828238420016,
          7.665942746140006,
          7.665942746140006,
          15.331885492280012,
          45.99565647684003,
          15.331885492280012,
          30.663770984560024,
          30.663770984560024,
          45.99565647684003,
          22.997828238420016,
          11.498914119210008,
          38.32971373070003,
          30.663770984560024,
          7.665942746140006,
          11.498914119210008,
          22.997828238420016,
          15.331885492280012,
          30.663770984560024,
          15.331885492280012,
          34.496742357630026,
          7.665942746140006,
          7.665942746140006,
          26.830799611490022,
          30.663770984560024,
          7.665942746140006,
          19.164856865350014,
          22.997828238420016,
          38.32971373070003,
          7.665942746140006,
          15.331885492280012,
          7.665942746140006,
          7.665942746140006,
          22.997828238420016,
          30.663770984560024,
          22.997828238420016,
          7.665942746140006,
          7.665942746140006,
          7.665942746140006,
          7.665942746140006,
          38.32971373070003,
          45.99565647684003,
          11.498914119210008,
          7.665942746140006,
          26.830799611490022,
          22.997828238420016,
          38.32971373070003,
          7.665942746140006,
          7.665942746140006,
          7.665942746140006,
          11.498914119210008,
          22.997828238420016,
          7.665942746140006,
          7.665942746140006,
          42.16268510377003,
          7.665942746140006,
          7.665942746140006,
          7.665942746140006,
          7.665942746140006,
          7.665942746140006,
          7.665942746140006,
          22.997828238420016,
          11.498914119210008,
          11.498914119210008,
          15.331885492280012,
          30.663770984560024,
          7.665942746140006,
          11.498914119210008,
          22.997828238420016,
          7.665942746140006,
          7.665942746140006,
          42.16268510377003,
          45.99565647684003,
          38.32971373070003,
          38.32971373070003,
          38.32971373070003,
          45.99565647684003,
          30.663770984560024,
          11.498914119210008,
          7.665942746140006,
          15.331885492280012,
          19.164856865350014,
          26.830799611490022,
          22.997828238420016,
          7.665942746140006,
          45.99565647684003,
          7.665942746140006,
          7.665942746140006,
          11.498914119210008,
          22.997828238420016,
          30.663770984560024,
          22.997828238420016,
          7.665942746140006,
          45.99565647684003,
          30.663770984560024,
          15.331885492280012,
          7.665942746140006,
          38.32971373070003,
          45.99565647684003,
          42.16268510377003,
          15.331885492280012,
          30.663770984560024,
          26.830799611490022,
          7.665942746140006,
          15.331885492280012,
          11.498914119210008,
          38.32971373070003,
          15.331885492280012,
          7.665942746140006,
          7.665942746140006,
          7.665942746140006,
          30.663770984560024,
          30.663770984560024,
          45.99565647684003,
          22.997828238420016,
          30.663770984560024,
          11.498914119210008,
          11.498914119210008,
          45.99565647684003,
          7.665942746140006,
          15.331885492280012,
          30.663770984560024,
          15.331885492280012,
          15.331885492280012,
          7.665942746140006,
          7.665942746140006,
          22.997828238420016,
          7.665942746140006,
          11.498914119210008,
          7.665942746140006,
          15.331885492280012,
          26.830799611490022,
          7.665942746140006,
          7.665942746140006,
          45.99565647684003,
          11.498914119210008,
          15.331885492280012,
          11.498914119210008,
          11.498914119210008,
          34.496742357630026,
          42.16268510377003,
          22.997828238420016,
          22.997828238420016,
          7.665942746140006,
          30.663770984560024,
          38.32971373070003,
          45.99565647684003,
          7.665942746140006,
          42.16268510377003,
          11.498914119210008,
          45.99565647684003,
          38.32971373070003,
          11.498914119210008,
          45.99565647684003,
          30.663770984560024,
          38.32971373070003,
          38.32971373070003,
          30.663770984560024,
          7.665942746140006,
          45.99565647684003,
          22.997828238420016,
          11.498914119210008,
          50,
          50,
          25,
          18,
          50,
          25,
          25,
          30,
          25,
          30,
          50,
          50,
          44,
          60,
          45,
          50,
          25,
          50,
          50,
          45,
          44,
          55,
          20,
          32,
          60,
          35,
          50,
          40,
          60,
          50,
          50,
          50,
          50,
          50,
          42,
          20,
          44,
          44,
          39,
          50,
          50,
          44,
          25,
          45,
          50,
          44,
          55,
          50,
          50,
          50,
          50,
          50,
          50,
          30,
          40,
          35,
          12,
          44,
          44,
          65,
          50,
          50,
          50,
          25,
          50,
          60,
          42,
          25,
          50,
          25,
          25,
          35,
          50,
          15,
          31,
          27,
          50,
          25,
          50,
          50,
          38,
          45,
          58,
          25,
          25,
          30,
          6,
          50,
          55,
          50,
          45,
          60,
          50,
          50,
          50,
          60,
          44,
          25,
          24,
          30,
          20,
          50,
          50,
          50,
          30,
          44,
          30,
          50,
          50,
          60,
          50,
          15,
          25,
          50,
          50,
          16,
          75,
          40,
          50,
          40,
          50,
          50,
          50,
          65,
          58,
          30,
          33,
          50,
          50,
          78,
          80,
          55,
          70,
          38,
          35,
          39,
          41,
          25,
          49,
          63,
          50,
          50,
          24,
          42,
          42.21635883905013,
          50.659630606860155,
          42.21635883905013,
          51.715039577836414,
          42.21635883905013,
          21.108179419525065,
          42.21635883905013,
          29.718565187672738,
          11.887426075069095,
          37.14820648459092,
          22.288923890754553,
          44.57784778150911,
          16.04802520134328,
          4.457784778150911,
          29.718565187672738,
          29.718565187672738,
          17.831139112603644,
          4.457784778150911,
          4.457784778150911,
          29.718565187672738,
          4.457784778150911,
          29.718565187672738,
          5.943713037534548,
          3.714820648459092,
          17.831139112603644,
          22.288923890754553,
          29.718565187672738,
          22.288923890754553,
          14.859282593836369,
          3.714820648459092,
          4.7549704300276385,
          8.172605426610003,
          29.718565187672738,
          19.31706737198728,
          22.288923890754553,
          29.718565187672738,
          44.57784778150911,
          29.718565187672738,
          29.569972361734376,
          54.64426582945028,
          72.03107768427537,
          54.14749977645528,
          30.79949528569016,
          47.68954108752025,
          49.67660529950026,
          49.17983924650525,
          45.702476875540235,
          42.22511450457522,
          35.27038976264518,
          39.244518186605205,
          39.244518186605205,
          57.123272021021364,
          18.175586552143162,
          68.60158311345647,
          59.10290237467019,
          99.02670891806247,
          49.513354459031234,
          60.1233589859665,
          70.02602987777274,
          70.73336351290176,
          37.488682661837935,
          89.83137166138523,
          60.1233589859665,
          50.22068809416025,
          56.58669081032141,
          55.17202354006337,
          60.1233589859665,
          43.14735174287007,
          70.73336351290176,
          41.73268447261204,
          11.206051267684549,
          28.435355091749543,
          49.0264742961199,
          28.015128169211373,
          40.62193584535649,
          50.427230704580474,
          56.030256338422745,
          21.711724331138814,
          23.812858943829667,
          52.94859223980949,
          42.02269225381706,
          56.030256338422745,
          18.209833309987392,
          1.438124685410225,
          3.5953117135255623,
          32.35780542173006,
          2.87624937082045,
          1.438124685410225,
          21.571870281153377,
          17.976558567627812,
          32.35780542173006,
          17.976558567627812,
          4.314374056230675,
          21.571870281153377,
          7.190623427051125,
          7.190623427051125,
          17.976558567627812,
          4.314374056230675,
          4.314374056230675,
          3.5953117135255623,
          25.167181994678938,
          20.13374559574315,
          28.7624937082045,
          10.785935140576688,
          3.5953117135255623,
          5.0334363989357875,
          7.190623427051125,
          27.324369022794276,
          3.5953117135255623,
          60.40123678722945,
          2.1571870281153376,
          27.324369022794276,
          13.662184511397138,
          15.100309196807363,
          2.87624937082045,
          17.976558567627812,
          2.87624937082045,
          21.571870281153377,
          14.38124685410225,
          5.0334363989357875,
          21.571870281153377,
          64.71561084346013,
          7.190623427051125,
          2.87624937082045,
          5.7524987416409,
          28.7624937082045,
          3.5953117135255623,
          3.5953117135255623,
          10.785935140576688,
          7.190623427051125,
          64.71561084346013,
          5.7524987416409,
          4.314374056230675,
          10.785935140576688,
          4.314374056230675,
          53.929675702883436,
          5.7524987416409,
          71.90623427051125,
          7.909685769756238,
          17.2574962249227,
          10.785935140576688,
          21.571870281153377,
          7.190623427051125,
          2.87624937082045,
          32.35780542173006,
          8.62874811246135,
          3.5953117135255623,
          4.314374056230675,
          7.190623427051125,
          17.976558567627812,
          4.314374056230675,
          7.190623427051125,
          13.472685813598655,
          10.104514360198992,
          20.209028720397985,
          5.052257180099496,
          33.68171453399664,
          33.68171453399664,
          10.104514360198992,
          10.104514360198992,
          0.5052257180099496,
          26.94537162719731,
          10.104514360198992,
          15.493588685638455,
          13.472685813598655,
          6.736342906799328,
          26.94537162719731,
          1.8524942993698152,
          6.736342906799328,
          16.84085726699832,
          16.84085726699832,
          3.7049885987396305,
          5.052257180099496,
          13.472685813598655,
          33.68171453399664,
          26.94537162719731,
          13.068505239190696,
          20.209028720397985,
          9.430880069519059,
          16.84085726699832,
          16.84085726699832,
          10.104514360198992,
          16.84085726699832,
          10.104514360198992,
          16.84085726699832,
          3.199762880729681,
          13.472685813598655,
          33.68171453399664,
          16.84085726699832,
          26.94537162719731,
          23.57720017379765,
          6.736342906799328,
          20.209028720397985,
          3.0313543080596976,
          33.68171453399664,
          10.104514360198992,
          13.472685813598655,
          3.368171453399664,
          20.209028720397985,
          3.873397171409614,
          5.894300043449412,
          0.471544003475953,
          3.368171453399664,
          16.84085726699832,
          12.799051522918724,
          33.68171453399664,
          26.94537162719731,
          10.104514360198992,
          39.744423150116035,
          5.052257180099496,
          6.736342906799328,
          16.84085726699832,
          5.052257180099496,
          15.156771540298488,
          33.68171453399664,
          10.104514360198992,
          4.041805744079597,
          26.94537162719731,
          2.1893114447097815,
          6.736342906799328,
          4.041805744079597,
          26.94537162719731,
          13.472685813598655,
          6.736342906799328,
          26.94537162719731,
          33.68171453399664,
          33.68171453399664,
          10.104514360198992,
          5.725891470779429,
          6.736342906799328,
          20.209028720397985,
          3.368171453399664,
          4.041805744079597,
          33.68171453399664,
          13.472685813598655,
          26.94537162719731,
          23.57720017379765,
          8.42042863349916,
          20.209028720397985,
          26.94537162719731,
          8.42042863349916,
          16.84085726699832,
          35,
          50,
          50,
          25,
          40,
          20,
          50,
          50,
          50,
          50,
          45,
          30,
          50,
          50,
          50,
          25,
          50,
          25,
          50,
          50,
          25,
          25,
          40,
          50,
          50,
          50,
          25,
          70,
          22,
          40,
          50,
          25,
          50,
          25,
          50,
          50,
          40,
          50,
          50,
          45,
          50,
          12,
          50,
          50,
          130,
          15,
          45,
          25,
          49,
          100,
          25,
          52,
          19,
          50,
          50,
          25,
          25,
          30,
          30,
          30,
          22,
          50,
          50,
          50,
          50,
          50,
          30,
          40,
          25,
          25,
          25,
          50,
          44,
          40,
          25,
          25,
          25,
          65,
          50,
          50,
          50,
          50,
          28,
          26,
          50,
          50,
          50,
          45,
          50,
          25,
          30,
          60,
          30,
          50,
          50,
          25,
          50,
          20,
          50,
          50,
          50,
          50,
          50,
          50,
          25,
          40,
          40,
          18,
          30,
          50,
          65,
          50,
          30,
          25,
          50,
          50,
          50,
          30,
          25,
          50,
          50,
          38,
          50,
          30,
          50,
          50,
          50,
          40,
          48,
          50,
          50,
          45,
          38,
          25,
          30,
          44,
          50,
          40,
          40,
          22,
          215,
          40,
          50,
          20,
          50,
          30,
          50,
          50,
          25,
          75,
          25,
          50,
          40,
          50,
          50,
          70,
          50,
          65,
          40,
          52,
          50,
          50,
          41,
          35,
          50,
          50,
          50,
          50,
          50,
          50,
          40,
          30,
          50,
          25,
          50,
          35,
          45,
          31,
          55,
          50,
          50,
          50,
          50,
          25,
          50,
          50,
          50,
          50,
          50,
          20,
          30,
          30,
          36,
          50,
          38,
          50,
          60,
          50,
          25,
          50,
          50,
          25,
          25,
          50,
          25,
          50,
          50,
          50,
          60,
          50,
          30,
          50,
          25,
          25,
          50,
          25,
          50,
          40,
          50,
          13,
          50,
          41.16094986807388,
          36.93931398416886,
          36.93931398416886,
          41.16094986807388,
          41.16094986807388,
          41.16094986807388,
          39.050131926121374,
          41.16094986807388,
          59.10290237467019,
          39.050131926121374,
          39.050131926121374,
          42.21635883905013,
          41.16094986807388,
          41.16094986807388,
          41.16094986807388,
          31.662269129287598,
          41.16094986807388,
          41.16094986807388,
          41.16094986807388,
          30.606860158311346,
          35.88390501319261,
          41.16094986807388,
          41.16094986807388,
          22.163588390501317,
          40.105540897097626,
          41.16094986807388,
          41.16094986807388,
          26.385224274406333,
          21.108179419525065,
          37.99472295514512,
          39.050131926121374,
          35.88390501319261,
          41.16094986807388,
          39.050131926121374,
          31.662269129287598,
          33.773087071240106,
          41.16094986807388,
          41.16094986807388,
          36.93931398416886,
          40.105540897097626,
          29.551451187335093,
          31.662269129287598,
          41.16094986807388,
          30.606860158311346,
          41.16094986807388,
          26.385224274406333,
          41.16094986807388,
          41.16094986807388,
          40.105540897097626,
          41.16094986807388,
          41.16094986807388,
          41.16094986807388,
          41.16094986807388,
          47.4934036939314,
          33.773087071240106,
          35.88390501319261,
          34.82849604221636,
          41.16094986807388,
          41.16094986807388,
          40.105540897097626,
          40.105540897097626,
          36.93931398416886,
          31.662269129287598,
          41.16094986807388,
          15.831134564643799,
          41.16094986807388,
          39.050131926121374,
          41.16094986807388,
          33.773087071240106,
          41.16094986807388,
          41.16094986807388,
          32.71767810026385,
          31.662269129287598,
          33.773087071240106,
          41.16094986807388,
          41.16094986807388,
          41.16094986807388,
          31.662269129287598,
          41.16094986807388,
          39.050131926121374,
          31.662269129287598,
          29.551451187335093,
          45.382585751978894,
          39.050131926121374,
          41.16094986807388,
          36.93931398416886,
          33.773087071240106,
          41.16094986807388,
          21.108179419525065,
          41.16094986807388,
          21.108179419525065,
          79.15567282321899,
          41.16094986807388,
          42.21635883905013,
          41.16094986807388,
          41.16094986807388,
          41.16094986807388,
          34.82849604221636,
          40.105540897097626,
          41.16094986807388,
          39.050131926121374,
          26.385224274406333,
          32.71767810026385,
          63.324538258575195,
          41.16094986807388,
          45.382585751978894,
          41.16094986807388,
          39.050131926121374,
          29.551451187335093,
          31.662269129287598,
          41.16094986807388,
          36.93931398416886,
          36.93931398416886,
          41.16094986807388,
          34.82849604221636,
          41.16094986807388,
          41.16094986807388,
          51.37503777576307,
          74.54417245895034,
          35.25737886571975,
          89.65447768711594,
          46.33826936637453,
          33.24267150196434,
          38.279439911352874,
          50.36768409388536,
          29.21325677445351,
          68.5000503676841,
          98.72066082401531,
          52.38239145764078,
          34.25002518384205,
          99.72801450589301,
          52.38239145764078,
          68.5000503676841,
          35.25737886571975,
          48.352976730129946,
          117.86038077969175,
          37.27208622947517,
          73.53681877707263,
          49.360330412007656,
          55.404452503273895,
          32.23531782008663,
          95.69859977838219,
          74.54417245895034,
          96.70595346025989,
          55.404452503273895,
          70.5147577314395,
          84.61770927772741,
          74.54417245895034,
          65.47798932205097,
          39.286793593230584,
          70.5147577314395,
          102.75007555152614,
          50.36768409388536,
          78.57358718646117,
          48.352976730129946,
          29.21325677445351,
          50.36768409388536,
          93.68389241462677,
          28.205903092575802,
          52.38239145764078,
          69.5074040495618,
          99.72801450589301,
          24.176488365064973,
          64.47063564017326,
          35.25737886571975,
          38.279439911352874,
          104.76478291528156,
          65.47798932205097,
          27.198549410698096,
          55.404452503273895,
          65.47798932205097,
          125.9192102347134,
          50.36768409388536,
          37.27208622947517,
          32.23531782008663,
          52.38239145764078,
          48.352976730129946,
          45.33091568449682,
          85.62506295960512,
          60.44122091266244,
          95.69859977838219,
          45.33091568449682,
          75.55152614082805,
          63.46328195829555,
          64.47063564017326,
          39.286793593230584,
          32.23531782008663,
          59.43386723078473,
          59.43386723078473,
          40.29414727510829,
          84.61770927772741,
          42.30885463886371,
          71.52211141331722,
          68.5000503676841,
          58.42651354890702,
          65.47798932205097,
          38.279439911352874,
          116.85302709781404,
          55.404452503273895,
          78.57358718646117,
          54.39709882139619,
          65.47798932205097,
          56.411806185151605,
          30.22061045633122,
          49.360330412007656,
          90.66183136899365,
          51.37503777576307,
          36.26473254759746,
          84.61770927772741,
          68.5000503676841,
          84.61770927772741,
          32.23531782008663,
          65.47798932205097,
          62.45592827641785,
          75.55152614082805,
          32.23531782008663,
          45.33091568449682,
          94.69124609650449,
          50.36768409388536,
          68.5000503676841,
          42.30885463886371,
          38.279439911352874,
          79.58094086833887,
          25.18384204694268,
          50.36768409388536,
          34.25002518384205,
          57.419159867029315,
          86.63241664148282,
          39.286793593230584,
          89.65447768711594,
          69.5074040495618,
          33.24267150196434,
          77.56623350458345,
          65.47798932205097,
          86.63241664148282,
          55.404452503273895,
          89.65447768711594,
          37.27208622947517,
          70.5147577314395,
          30.22061045633122,
          49.360330412007656,
          119.87508814344716,
          36.26473254759746,
          88.64712400523824,
          69.5074040495618,
          74.54417245895034,
          21.154427319431854,
          52.38239145764078,
          74.54417245895034,
          20.147073637554143,
          85.62506295960512,
          85.62506295960512,
          55.404452503273895,
          36.93931398416886,
          27.440633245382585,
          18.99736147757256,
          41.16094986807388,
          36.93931398416886,
          30.606860158311346,
          36.93931398416886,
          21.108179419525065,
          36.93931398416886,
          34.82849604221636,
          34.82849604221636,
          36.93931398416886,
          29.551451187335093,
          28.496042216358838,
          52.770448548812666,
          34.82849604221636,
          36.93931398416886,
          30.606860158311346,
          35.88390501319261,
          21.108179419525065,
          23.218997361477573,
          33.773087071240106,
          32.71767810026385,
          26.385224274406333,
          28.496042216358838,
          24.274406332453825,
          28.496042216358838,
          35.88390501319261,
          36.93931398416886,
          29.551451187335093,
          36.93931398416886,
          35.88390501319261,
          36.93931398416886,
          42.21635883905013,
          23.218997361477573,
          27.440633245382585,
          21.108179419525065,
          36.93931398416886,
          35.88390501319261,
          25.329815303430077,
          35.88390501319261,
          34.82849604221636,
          23.218997361477573,
          34.82849604221636,
          35.88390501319261,
          26.385224274406333,
          40.105540897097626,
          35.88390501319261,
          47.4934036939314,
          36.93931398416886,
          21.108179419525065,
          36.93931398416886,
          26.385224274406333,
          36.93931398416886,
          25.329815303430077,
          33.773087071240106,
          59.10290237467019,
          36.93931398416886,
          26.385224274406333,
          23.218997361477573,
          34.82849604221636,
          36.93931398416886,
          30.606860158311346,
          31.662269129287598,
          35.88390501319261,
          36.93931398416886,
          28.496042216358838,
          36.93931398416886,
          46.437994722955146,
          23.218997361477573,
          26.385224274406333,
          31.662269129287598,
          39.050131926121374,
          23.218997361477573,
          68.60158311345647,
          26.385224274406333,
          39.050131926121374,
          41.16094986807388,
          32.71767810026385,
          26.385224274406333,
          25.329815303430077,
          22.163588390501317,
          25.329815303430077,
          27.440633245382585,
          23.218997361477573,
          35.88390501319261,
          22.163588390501317,
          27.440633245382585,
          25.329815303430077,
          27.440633245382585,
          26.385224274406333,
          33.773087071240106,
          40.105540897097626,
          40.105540897097626,
          35.88390501319261,
          33.773087071240106,
          35.88390501319261,
          36.93931398416886,
          36.93931398416886,
          25.329815303430077,
          34.82849604221636,
          21.108179419525065,
          63.324538258575195,
          26.385224274406333,
          25.329815303430077,
          30.606860158311346,
          36.93931398416886,
          31.662269129287598,
          35.88390501319261,
          36.93931398416886,
          36.93931398416886,
          31.662269129287598,
          16.886543535620053,
          33.773087071240106,
          26.385224274406333,
          26.385224274406333,
          41.16094986807388,
          23.218997361477573,
          27.440633245382585,
          24.274406332453825,
          33.773087071240106,
          29.551451187335093,
          63.324538258575195,
          26.385224274406333,
          18.99736147757256,
          25.329815303430077,
          24.274406332453825,
          21.108179419525065,
          34.82849604221636,
          40.105540897097626,
          28.496042216358838,
          36.93931398416886,
          22.163588390501317,
          34.82849604221636,
          45.382585751978894,
          36.93931398416886,
          25.329815303430077,
          34.82849604221636,
          25.329815303430077,
          21.108179419525065,
          36.93931398416886,
          40.105540897097626,
          36.93931398416886,
          26.385224274406333,
          36.93931398416886,
          34.82849604221636,
          21.108179419525065,
          47.4934036939314,
          36.93931398416886,
          35.88390501319261,
          29.551451187335093,
          22.163588390501317,
          63.324538258575195,
          23.218997361477573,
          26.385224274406333,
          30.606860158311346,
          36.93931398416886,
          36.93931398416886,
          26.385224274406333,
          52.770448548812666,
          30.606860158311346,
          30.606860158311346,
          36.93931398416886,
          15.831134564643799,
          27.440633245382585,
          31.662269129287598,
          52.770448548812666,
          18.99736147757256,
          28.496042216358838,
          20.052770448548813,
          24.274406332453825,
          26.385224274406333,
          35.88390501319261,
          25.329815303430077,
          21.108179419525065,
          22.163588390501317,
          40.105540897097626,
          17.941952506596305,
          23.218997361477573,
          36.93931398416886,
          27.440633245382585,
          36.93931398416886,
          40.105540897097626,
          36.93931398416886,
          23.218997361477573,
          18.99736147757256,
          33.773087071240106,
          35.88390501319261,
          25.329815303430077,
          22.163588390501317,
          36.93931398416886,
          31.662269129287598,
          23.218997361477573,
          35.88390501319261,
          33.773087071240106,
          22.163588390501317,
          27.440633245382585,
          48.54881266490765,
          36.93931398416886,
          52.770448548812666,
          23.218997361477573,
          26.385224274406333,
          36.93931398416886,
          26.385224274406333,
          24.274406332453825,
          24.274406332453825,
          26.385224274406333,
          20.052770448548813,
          36.93931398416886,
          18.99736147757256,
          39.050131926121374,
          43.27176781002638,
          35.88390501319261,
          33.773087071240106,
          36.93931398416886,
          36.93931398416886,
          36.93931398416886,
          46.437994722955146,
          15.831134564643799,
          29.551451187335093,
          31.662269129287598,
          20.052770448548813,
          35.88390501319261,
          36.93931398416886,
          35.88390501319261,
          21.108179419525065,
          36.93931398416886,
          20.052770448548813,
          28.496042216358838,
          30.606860158311346,
          44.327176781002635,
          28.496042216358838,
          28.496042216358838,
          23.218997361477573,
          28.496042216358838,
          36.93931398416886,
          21.108179419525065,
          26.385224274406333,
          36.93931398416886,
          31.662269129287598,
          36.93931398416886,
          35.88390501319261,
          21.108179419525065,
          36.93931398416886,
          26.385224274406333,
          36.93931398416886,
          33.773087071240106,
          33.773087071240106,
          40.105540897097626,
          26.385224274406333,
          35.88390501319261,
          34.82849604221636,
          26.385224274406333,
          36.93931398416886,
          36.93931398416886,
          21.108179419525065,
          33.773087071240106,
          17.941952506596305,
          23.218997361477573,
          18.99736147757256,
          18.99736147757256,
          25.329815303430077,
          36.93931398416886,
          21.108179419525065,
          26.385224274406333,
          33.773087071240106,
          36.93931398416886,
          36.93931398416886,
          40.105540897097626,
          36.93931398416886,
          35.88390501319261,
          35.88390501319261,
          36.93931398416886,
          17.941952506596305,
          35.88390501319261,
          36.93931398416886,
          29.551451187335093,
          36.93931398416886,
          36.93931398416886,
          24.274406332453825,
          28.496042216358838,
          33.773087071240106,
          41.16094986807388,
          36.93931398416886,
          22.163588390501317,
          36.93931398416886,
          30.606860158311346,
          26.385224274406333,
          29.551451187335093,
          33.773087071240106,
          25.329815303430077,
          36.93931398416886,
          36.93931398416886,
          24.274406332453825,
          40.105540897097626,
          23.218997361477573,
          36.93931398416886,
          26.385224274406333,
          46.437994722955146,
          33.773087071240106,
          42.21635883905013,
          21.108179419525065,
          33.773087071240106,
          30.606860158311346,
          33.773087071240106,
          52.770448548812666,
          26.385224274406333,
          33.773087071240106,
          35.88390501319261,
          26.385224274406333,
          28.496042216358838,
          35.88390501319261,
          35.88390501319261,
          34.82849604221636,
          23.218997361477573,
          36.93931398416886,
          23.218997361477573,
          21.108179419525065,
          35.88390501319261,
          27.440633245382585,
          20.052770448548813,
          47.4934036939314,
          20.052770448548813,
          60.15831134564644,
          25.329815303430077,
          25.329815303430077,
          26.385224274406333,
          25.329815303430077,
          27.440633245382585,
          23.218997361477573,
          36.93931398416886,
          23.218997361477573,
          34.82849604221636,
          23.218997361477573,
          31.662269129287598,
          63.324538258575195,
          21.108179419525065,
          25.329815303430077,
          36.93931398416886,
          26.385224274406333,
          25.329815303430077,
          36.93931398416886,
          25.329815303430077,
          24.274406332453825,
          36.93931398416886,
          36.93931398416886,
          36.93931398416886,
          34.82849604221636,
          21.108179419525065,
          33.773087071240106,
          35.88390501319261,
          29.551451187335093,
          44.327176781002635,
          34.82849604221636,
          26.385224274406333,
          28.496042216358838,
          22.163588390501317,
          25.329815303430077,
          23.218997361477573,
          46.437994722955146,
          30.606860158311346,
          36.93931398416886,
          29.551451187335093,
          23.218997361477573,
          20.052770448548813,
          35.88390501319261,
          35.88390501319261,
          26.385224274406333,
          21.108179419525065,
          24.274406332453825,
          35.88390501319261,
          33.773087071240106,
          36.93931398416886,
          36.93931398416886,
          36.93931398416886,
          25.329815303430077,
          29.551451187335093,
          34.82849604221636,
          36.93931398416886,
          35.88390501319261,
          52.770448548812666,
          31.662269129287598,
          41.16094986807388,
          30.606860158311346,
          35.88390501319261,
          36.93931398416886,
          23.218997361477573,
          26.385224274406333,
          37.99472295514512,
          18.99736147757256,
          47.4934036939314,
          33.773087071240106,
          30.606860158311346,
          22.163588390501317,
          20.052770448548813,
          25.329815303430077,
          33.773087071240106,
          30.606860158311346,
          26.385224274406333,
          37.99472295514512,
          36.93931398416886,
          36.93931398416886,
          41.16094986807388,
          64.37994722955145,
          40.105540897097626,
          42.21635883905013,
          26.385224274406333,
          26.385224274406333,
          30.606860158311346,
          34.82849604221636,
          35.88390501319261,
          34.82849604221636,
          35.88390501319261,
          41.16094986807388,
          26.385224274406333,
          35.88390501319261,
          39.050131926121374,
          32.71767810026385,
          26.385224274406333,
          28.496042216358838,
          47.4934036939314,
          35.88390501319261,
          33.773087071240106,
          36.93931398416886,
          29.551451187335093,
          20.052770448548813,
          39.050131926121374,
          35.88390501319261,
          35.88390501319261,
          29.551451187335093,
          23.218997361477573,
          36.93931398416886,
          33.773087071240106,
          23.218997361477573,
          47.4934036939314,
          35.88390501319261,
          36.93931398416886,
          25.329815303430077,
          23.218997361477573,
          31.662269129287598,
          27.440633245382585,
          27.440633245382585,
          30.606860158311346,
          28.496042216358838,
          16.886543535620053,
          39.050131926121374,
          36.93931398416886,
          20.052770448548813,
          35.88390501319261,
          20.052770448548813,
          36.93931398416886,
          25.329815303430077,
          28.496042216358838,
          22.163588390501317,
          35.88390501319261,
          29.551451187335093,
          40.105540897097626,
          35.88390501319261,
          31.662269129287598,
          40.105540897097626,
          24.274406332453825,
          26.385224274406333,
          33.773087071240106,
          33.773087071240106,
          24.274406332453825,
          36.93931398416886,
          23.218997361477573,
          22.163588390501317,
          20.052770448548813,
          36.93931398416886,
          34.82849604221636,
          23.218997361477573,
          24.274406332453825,
          35.88390501319261,
          36.93931398416886,
          34.82849604221636,
          33.773087071240106,
          29.551451187335093,
          33.773087071240106,
          36.93931398416886,
          30.606860158311346,
          26.385224274406333,
          18.99736147757256,
          36.93931398416886,
          40.105540897097626,
          23.218997361477573,
          28.496042216358838,
          36.93931398416886,
          43.27176781002638,
          18.99736147757256,
          41.16094986807388,
          52.770448548812666,
          41.16094986807388,
          17.941952506596305,
          26.385224274406333,
          22.163588390501317,
          21.108179419525065,
          23.218997361477573,
          35.88390501319261,
          37.99472295514512,
          34.82849604221636,
          18.99736147757256,
          41.16094986807388,
          41.16094986807388,
          41.16094986807388,
          17.941952506596305,
          41.16094986807388,
          41.16094986807388,
          16.886543535620053,
          18.99736147757256,
          24.274406332453825,
          34.82849604221636,
          41.16094986807388,
          24.274406332453825,
          31.662269129287598,
          41.16094986807388,
          52.770448548812666,
          31.662269129287598,
          31.662269129287598,
          41.16094986807388,
          29.551451187335093,
          30.606860158311346,
          20.052770448548813,
          22.163588390501317,
          41.16094986807388,
          26.385224274406333,
          34.82849604221636,
          31.662269129287598,
          41.16094986807388,
          63.324538258575195,
          31.662269129287598,
          34.82849604221636,
          43.27176781002638,
          21.108179419525065,
          73.87862796833772,
          36.93931398416886,
          39.050131926121374,
          23.218997361477573,
          24.274406332453825,
          24.274406332453825,
          14.775725593667547,
          63.324538258575195,
          36.93931398416886,
          31.662269129287598,
          58.04749340369393,
          41.16094986807388,
          39.050131926121374,
          41.16094986807388,
          39.050131926121374,
          30.606860158311346,
          15.831134564643799,
          34.82849604221636,
          41.16094986807388,
          44.327176781002635,
          15.831134564643799,
          27.440633245382585,
          58.04749340369393,
          18.99736147757256,
          41.16094986807388,
          18.99736147757256,
          22.163588390501317,
          41.16094986807388,
          39.050131926121374,
          15.831134564643799,
          26.385224274406333,
          26.385224274406333,
          41.16094986807388,
          27.440633245382585,
          21.108179419525065,
          25.329815303430077,
          41.16094986807388,
          41.16094986807388,
          41.16094986807388,
          26.385224274406333,
          37.99472295514512,
          41.16094986807388,
          41.16094986807388,
          40.105540897097626,
          47.4934036939314,
          63.324538258575195,
          20.052770448548813,
          41.16094986807388,
          41.16094986807388,
          41.16094986807388,
          36.93931398416886,
          30.606860158311346,
          26.385224274406333,
          47.4934036939314,
          41.16094986807388,
          26.385224274406333,
          13.720316622691293,
          18.99736147757256,
          41.16094986807388,
          12.664907651715039,
          25.329815303430077,
          41.16094986807388,
          26.385224274406333,
          31.662269129287598,
          24.274406332453825,
          41.16094986807388,
          45.382585751978894,
          41.16094986807388,
          35.88390501319261,
          31.662269129287598,
          29.551451187335093,
          39.050131926121374,
          20.052770448548813,
          68.60158311345647,
          47.4934036939314,
          27.440633245382585,
          32.71767810026385,
          34.82849604221636,
          41.16094986807388,
          28.496042216358838,
          41.16094986807388,
          28.496042216358838,
          28.496042216358838,
          41.16094986807388,
          23.218997361477573,
          29.551451187335093,
          41.16094986807388,
          26.385224274406333,
          39.050131926121374,
          63.324538258575195,
          24.274406332453825,
          31.662269129287598,
          47.4934036939314,
          51.715039577836414,
          16.886543535620053,
          43.27176781002638,
          41.16094986807388,
          27.440633245382585,
          25.329815303430077,
          30.606860158311346,
          40.105540897097626,
          18.99736147757256,
          31.662269129287598,
          31.662269129287598,
          30.606860158311346,
          41.16094986807388,
          26.385224274406333,
          20.052770448548813,
          27.440633245382585,
          31.662269129287598,
          41.16094986807388,
          31.662269129287598,
          34.82849604221636,
          41.16094986807388,
          73.87862796833772,
          28.496042216358838,
          33.773087071240106,
          41.16094986807388,
          36.93931398416886,
          37.09271225816528,
          29.283720203814692,
          23.426976163051755,
          10.737364074732055,
          37.09271225816528,
          37.09271225816528,
          8.199441657068114,
          9.566015266579466,
          9.175565663861937,
          5.856744040762939,
          21.47472814946411,
          14.056185697831053,
          21.47472814946411,
          7.61376725299182,
          27.331472190227046,
          23.426976163051755,
          21.47472814946411,
          29.283720203814692,
          29.283720203814692,
          8.199441657068114,
          28.307596197020867,
          34.750014641860105,
          9.175565663861937,
          9.370790465220702,
          9.76124006793823,
          10.542139273373289,
          11.127813677449582,
          39.04496027175292,
          25.3792241766394,
          7.808992054350584,
          9.566015266579466,
          16.789332916853756,
          23.426976163051755,
          35.14046424457763,
          8.980340862503173,
          25.3792241766394,
          14.056185697831053,
          42.94945629892822,
          9.566015266579466,
          40.49129437171008,
          39.36653619471814,
          9.223017051333963,
          52.86363431862149,
          35.092455122148735
         ],
         "x0": " ",
         "xaxis": "x",
         "y0": " ",
         "yaxis": "y"
        }
       ],
       "layout": {
        "boxmode": "group",
        "legend": {
         "tracegroupgap": 0
        },
        "template": {
         "data": {
          "bar": [
           {
            "error_x": {
             "color": "#2a3f5f"
            },
            "error_y": {
             "color": "#2a3f5f"
            },
            "marker": {
             "line": {
              "color": "#E5ECF6",
              "width": 0.5
             },
             "pattern": {
              "fillmode": "overlay",
              "size": 10,
              "solidity": 0.2
             }
            },
            "type": "bar"
           }
          ],
          "barpolar": [
           {
            "marker": {
             "line": {
              "color": "#E5ECF6",
              "width": 0.5
             },
             "pattern": {
              "fillmode": "overlay",
              "size": 10,
              "solidity": 0.2
             }
            },
            "type": "barpolar"
           }
          ],
          "carpet": [
           {
            "aaxis": {
             "endlinecolor": "#2a3f5f",
             "gridcolor": "white",
             "linecolor": "white",
             "minorgridcolor": "white",
             "startlinecolor": "#2a3f5f"
            },
            "baxis": {
             "endlinecolor": "#2a3f5f",
             "gridcolor": "white",
             "linecolor": "white",
             "minorgridcolor": "white",
             "startlinecolor": "#2a3f5f"
            },
            "type": "carpet"
           }
          ],
          "choropleth": [
           {
            "colorbar": {
             "outlinewidth": 0,
             "ticks": ""
            },
            "type": "choropleth"
           }
          ],
          "contour": [
           {
            "colorbar": {
             "outlinewidth": 0,
             "ticks": ""
            },
            "colorscale": [
             [
              0,
              "#0d0887"
             ],
             [
              0.1111111111111111,
              "#46039f"
             ],
             [
              0.2222222222222222,
              "#7201a8"
             ],
             [
              0.3333333333333333,
              "#9c179e"
             ],
             [
              0.4444444444444444,
              "#bd3786"
             ],
             [
              0.5555555555555556,
              "#d8576b"
             ],
             [
              0.6666666666666666,
              "#ed7953"
             ],
             [
              0.7777777777777778,
              "#fb9f3a"
             ],
             [
              0.8888888888888888,
              "#fdca26"
             ],
             [
              1,
              "#f0f921"
             ]
            ],
            "type": "contour"
           }
          ],
          "contourcarpet": [
           {
            "colorbar": {
             "outlinewidth": 0,
             "ticks": ""
            },
            "type": "contourcarpet"
           }
          ],
          "heatmap": [
           {
            "colorbar": {
             "outlinewidth": 0,
             "ticks": ""
            },
            "colorscale": [
             [
              0,
              "#0d0887"
             ],
             [
              0.1111111111111111,
              "#46039f"
             ],
             [
              0.2222222222222222,
              "#7201a8"
             ],
             [
              0.3333333333333333,
              "#9c179e"
             ],
             [
              0.4444444444444444,
              "#bd3786"
             ],
             [
              0.5555555555555556,
              "#d8576b"
             ],
             [
              0.6666666666666666,
              "#ed7953"
             ],
             [
              0.7777777777777778,
              "#fb9f3a"
             ],
             [
              0.8888888888888888,
              "#fdca26"
             ],
             [
              1,
              "#f0f921"
             ]
            ],
            "type": "heatmap"
           }
          ],
          "heatmapgl": [
           {
            "colorbar": {
             "outlinewidth": 0,
             "ticks": ""
            },
            "colorscale": [
             [
              0,
              "#0d0887"
             ],
             [
              0.1111111111111111,
              "#46039f"
             ],
             [
              0.2222222222222222,
              "#7201a8"
             ],
             [
              0.3333333333333333,
              "#9c179e"
             ],
             [
              0.4444444444444444,
              "#bd3786"
             ],
             [
              0.5555555555555556,
              "#d8576b"
             ],
             [
              0.6666666666666666,
              "#ed7953"
             ],
             [
              0.7777777777777778,
              "#fb9f3a"
             ],
             [
              0.8888888888888888,
              "#fdca26"
             ],
             [
              1,
              "#f0f921"
             ]
            ],
            "type": "heatmapgl"
           }
          ],
          "histogram": [
           {
            "marker": {
             "pattern": {
              "fillmode": "overlay",
              "size": 10,
              "solidity": 0.2
             }
            },
            "type": "histogram"
           }
          ],
          "histogram2d": [
           {
            "colorbar": {
             "outlinewidth": 0,
             "ticks": ""
            },
            "colorscale": [
             [
              0,
              "#0d0887"
             ],
             [
              0.1111111111111111,
              "#46039f"
             ],
             [
              0.2222222222222222,
              "#7201a8"
             ],
             [
              0.3333333333333333,
              "#9c179e"
             ],
             [
              0.4444444444444444,
              "#bd3786"
             ],
             [
              0.5555555555555556,
              "#d8576b"
             ],
             [
              0.6666666666666666,
              "#ed7953"
             ],
             [
              0.7777777777777778,
              "#fb9f3a"
             ],
             [
              0.8888888888888888,
              "#fdca26"
             ],
             [
              1,
              "#f0f921"
             ]
            ],
            "type": "histogram2d"
           }
          ],
          "histogram2dcontour": [
           {
            "colorbar": {
             "outlinewidth": 0,
             "ticks": ""
            },
            "colorscale": [
             [
              0,
              "#0d0887"
             ],
             [
              0.1111111111111111,
              "#46039f"
             ],
             [
              0.2222222222222222,
              "#7201a8"
             ],
             [
              0.3333333333333333,
              "#9c179e"
             ],
             [
              0.4444444444444444,
              "#bd3786"
             ],
             [
              0.5555555555555556,
              "#d8576b"
             ],
             [
              0.6666666666666666,
              "#ed7953"
             ],
             [
              0.7777777777777778,
              "#fb9f3a"
             ],
             [
              0.8888888888888888,
              "#fdca26"
             ],
             [
              1,
              "#f0f921"
             ]
            ],
            "type": "histogram2dcontour"
           }
          ],
          "mesh3d": [
           {
            "colorbar": {
             "outlinewidth": 0,
             "ticks": ""
            },
            "type": "mesh3d"
           }
          ],
          "parcoords": [
           {
            "line": {
             "colorbar": {
              "outlinewidth": 0,
              "ticks": ""
             }
            },
            "type": "parcoords"
           }
          ],
          "pie": [
           {
            "automargin": true,
            "type": "pie"
           }
          ],
          "scatter": [
           {
            "marker": {
             "colorbar": {
              "outlinewidth": 0,
              "ticks": ""
             }
            },
            "type": "scatter"
           }
          ],
          "scatter3d": [
           {
            "line": {
             "colorbar": {
              "outlinewidth": 0,
              "ticks": ""
             }
            },
            "marker": {
             "colorbar": {
              "outlinewidth": 0,
              "ticks": ""
             }
            },
            "type": "scatter3d"
           }
          ],
          "scattercarpet": [
           {
            "marker": {
             "colorbar": {
              "outlinewidth": 0,
              "ticks": ""
             }
            },
            "type": "scattercarpet"
           }
          ],
          "scattergeo": [
           {
            "marker": {
             "colorbar": {
              "outlinewidth": 0,
              "ticks": ""
             }
            },
            "type": "scattergeo"
           }
          ],
          "scattergl": [
           {
            "marker": {
             "colorbar": {
              "outlinewidth": 0,
              "ticks": ""
             }
            },
            "type": "scattergl"
           }
          ],
          "scattermapbox": [
           {
            "marker": {
             "colorbar": {
              "outlinewidth": 0,
              "ticks": ""
             }
            },
            "type": "scattermapbox"
           }
          ],
          "scatterpolar": [
           {
            "marker": {
             "colorbar": {
              "outlinewidth": 0,
              "ticks": ""
             }
            },
            "type": "scatterpolar"
           }
          ],
          "scatterpolargl": [
           {
            "marker": {
             "colorbar": {
              "outlinewidth": 0,
              "ticks": ""
             }
            },
            "type": "scatterpolargl"
           }
          ],
          "scatterternary": [
           {
            "marker": {
             "colorbar": {
              "outlinewidth": 0,
              "ticks": ""
             }
            },
            "type": "scatterternary"
           }
          ],
          "surface": [
           {
            "colorbar": {
             "outlinewidth": 0,
             "ticks": ""
            },
            "colorscale": [
             [
              0,
              "#0d0887"
             ],
             [
              0.1111111111111111,
              "#46039f"
             ],
             [
              0.2222222222222222,
              "#7201a8"
             ],
             [
              0.3333333333333333,
              "#9c179e"
             ],
             [
              0.4444444444444444,
              "#bd3786"
             ],
             [
              0.5555555555555556,
              "#d8576b"
             ],
             [
              0.6666666666666666,
              "#ed7953"
             ],
             [
              0.7777777777777778,
              "#fb9f3a"
             ],
             [
              0.8888888888888888,
              "#fdca26"
             ],
             [
              1,
              "#f0f921"
             ]
            ],
            "type": "surface"
           }
          ],
          "table": [
           {
            "cells": {
             "fill": {
              "color": "#EBF0F8"
             },
             "line": {
              "color": "white"
             }
            },
            "header": {
             "fill": {
              "color": "#C8D4E3"
             },
             "line": {
              "color": "white"
             }
            },
            "type": "table"
           }
          ]
         },
         "layout": {
          "annotationdefaults": {
           "arrowcolor": "#2a3f5f",
           "arrowhead": 0,
           "arrowwidth": 1
          },
          "autotypenumbers": "strict",
          "coloraxis": {
           "colorbar": {
            "outlinewidth": 0,
            "ticks": ""
           }
          },
          "colorscale": {
           "diverging": [
            [
             0,
             "#8e0152"
            ],
            [
             0.1,
             "#c51b7d"
            ],
            [
             0.2,
             "#de77ae"
            ],
            [
             0.3,
             "#f1b6da"
            ],
            [
             0.4,
             "#fde0ef"
            ],
            [
             0.5,
             "#f7f7f7"
            ],
            [
             0.6,
             "#e6f5d0"
            ],
            [
             0.7,
             "#b8e186"
            ],
            [
             0.8,
             "#7fbc41"
            ],
            [
             0.9,
             "#4d9221"
            ],
            [
             1,
             "#276419"
            ]
           ],
           "sequential": [
            [
             0,
             "#0d0887"
            ],
            [
             0.1111111111111111,
             "#46039f"
            ],
            [
             0.2222222222222222,
             "#7201a8"
            ],
            [
             0.3333333333333333,
             "#9c179e"
            ],
            [
             0.4444444444444444,
             "#bd3786"
            ],
            [
             0.5555555555555556,
             "#d8576b"
            ],
            [
             0.6666666666666666,
             "#ed7953"
            ],
            [
             0.7777777777777778,
             "#fb9f3a"
            ],
            [
             0.8888888888888888,
             "#fdca26"
            ],
            [
             1,
             "#f0f921"
            ]
           ],
           "sequentialminus": [
            [
             0,
             "#0d0887"
            ],
            [
             0.1111111111111111,
             "#46039f"
            ],
            [
             0.2222222222222222,
             "#7201a8"
            ],
            [
             0.3333333333333333,
             "#9c179e"
            ],
            [
             0.4444444444444444,
             "#bd3786"
            ],
            [
             0.5555555555555556,
             "#d8576b"
            ],
            [
             0.6666666666666666,
             "#ed7953"
            ],
            [
             0.7777777777777778,
             "#fb9f3a"
            ],
            [
             0.8888888888888888,
             "#fdca26"
            ],
            [
             1,
             "#f0f921"
            ]
           ]
          },
          "colorway": [
           "#636efa",
           "#EF553B",
           "#00cc96",
           "#ab63fa",
           "#FFA15A",
           "#19d3f3",
           "#FF6692",
           "#B6E880",
           "#FF97FF",
           "#FECB52"
          ],
          "font": {
           "color": "#2a3f5f"
          },
          "geo": {
           "bgcolor": "white",
           "lakecolor": "white",
           "landcolor": "#E5ECF6",
           "showlakes": true,
           "showland": true,
           "subunitcolor": "white"
          },
          "hoverlabel": {
           "align": "left"
          },
          "hovermode": "closest",
          "mapbox": {
           "style": "light"
          },
          "paper_bgcolor": "white",
          "plot_bgcolor": "#E5ECF6",
          "polar": {
           "angularaxis": {
            "gridcolor": "white",
            "linecolor": "white",
            "ticks": ""
           },
           "bgcolor": "#E5ECF6",
           "radialaxis": {
            "gridcolor": "white",
            "linecolor": "white",
            "ticks": ""
           }
          },
          "scene": {
           "xaxis": {
            "backgroundcolor": "#E5ECF6",
            "gridcolor": "white",
            "gridwidth": 2,
            "linecolor": "white",
            "showbackground": true,
            "ticks": "",
            "zerolinecolor": "white"
           },
           "yaxis": {
            "backgroundcolor": "#E5ECF6",
            "gridcolor": "white",
            "gridwidth": 2,
            "linecolor": "white",
            "showbackground": true,
            "ticks": "",
            "zerolinecolor": "white"
           },
           "zaxis": {
            "backgroundcolor": "#E5ECF6",
            "gridcolor": "white",
            "gridwidth": 2,
            "linecolor": "white",
            "showbackground": true,
            "ticks": "",
            "zerolinecolor": "white"
           }
          },
          "shapedefaults": {
           "line": {
            "color": "#2a3f5f"
           }
          },
          "ternary": {
           "aaxis": {
            "gridcolor": "white",
            "linecolor": "white",
            "ticks": ""
           },
           "baxis": {
            "gridcolor": "white",
            "linecolor": "white",
            "ticks": ""
           },
           "bgcolor": "#E5ECF6",
           "caxis": {
            "gridcolor": "white",
            "linecolor": "white",
            "ticks": ""
           }
          },
          "title": {
           "x": 0.05
          },
          "xaxis": {
           "automargin": true,
           "gridcolor": "white",
           "linecolor": "white",
           "ticks": "",
           "title": {
            "standoff": 15
           },
           "zerolinecolor": "white",
           "zerolinewidth": 2
          },
          "yaxis": {
           "automargin": true,
           "gridcolor": "white",
           "linecolor": "white",
           "ticks": "",
           "title": {
            "standoff": 15
           },
           "zerolinecolor": "white",
           "zerolinewidth": 2
          }
         }
        },
        "title": {
         "text": "Range of MinPrice"
        },
        "xaxis": {
         "anchor": "y",
         "domain": [
          0,
          1
         ],
         "title": {
          "text": "MinPrice"
         }
        },
        "yaxis": {
         "anchor": "x",
         "domain": [
          0,
          1
         ]
        }
       }
      },
      "text/html": [
       "<div>                            <div id=\"2ba75cb5-11ea-4f76-bdb0-c9b8ca65b360\" class=\"plotly-graph-div\" style=\"height:525px; width:100%;\"></div>            <script type=\"text/javascript\">                require([\"plotly\"], function(Plotly) {                    window.PLOTLYENV=window.PLOTLYENV || {};                                    if (document.getElementById(\"2ba75cb5-11ea-4f76-bdb0-c9b8ca65b360\")) {                    Plotly.newPlot(                        \"2ba75cb5-11ea-4f76-bdb0-c9b8ca65b360\",                        [{\"alignmentgroup\":\"True\",\"hovertemplate\":\"MinPrice=%{x}<extra></extra>\",\"legendgroup\":\"\",\"marker\":{\"color\":\"#636efa\"},\"name\":\"\",\"notched\":false,\"offsetgroup\":\"\",\"orientation\":\"h\",\"showlegend\":false,\"x\":[237.46701846965698,242.74406332453825,273.3509234828496,216.35883905013193,208.97097625329815,158.31134564643799,226.91292875989447,121.37203166226912,237.46701846965698,97.44665104230911,339.21302578019,209.6953250277538,148.02022943135563,104.8476625138769,154.18773899099543,154.18773899099543,117.18268163315653,279.6833773087071,148.5928259383637,103.86638533091622,108.79240431213529,122.14419938680643,346.1576500840668,89.13563897519482,178.27127795038965,254.67325421484236,94.86578719502877,254.67325421484236,96.7758366016401,86.5889064330464,263.85224274406335,232.1899736147757,226.91292875989447,200.52770448548813,221.6358839050132,207.9155672823219,385.2242744063324,242.74406332453825,253.29815303430078,184.69656992084433,263.85224274406335,99.65725569982007,260.6420533687602,329.63553808402025,283.6398816071802,260.6420533687602,268.3079961149002,199.31451139964014,176.31668316122014,375.6311945608603,291.30582435332025,329.63553808402025,206.98045414578016,102.04183354104079,85.55815273825728,158.31134564643799,158.31134564643799,179.41952506596306,337.73087071240104,232.1899736147757,295.5145118733509,211.08179419525067,158.31134564643799,284.96042216358836,211.08179419525067,263.85224274406335,276.0854705934797,594.3713037534548,99.65725569982007,306.6377098456002,153.3188549228001,199.31451139964014,130.3210266843801,61.32754196912005,383.2971373070003,199.31451139964014,375.6311945608603,350.0,375.0,325.0,298.0,350.0,360.0,377.5422002762019,363.51173104286323,396.1068356722499,396.1068356722499,214.28057812612352,161.78902710865032,323.57805421730063,168.40857266998322,125.0,355.0,595.0,93.0,395.0,210.0,238.0,174.1424802110818,244.85488126649076,216.58104160370706,196.43396796615292,217.58839528558477,200.52770448548813,153.03430079155672,279.6833773087071,263.85224274406335,327.1767810026385,401.05540897097626,252.24274406332452,295.5145118733509,374.6701846965699,184.69656992084433,369.39313984168865,137.20316622691294,126.64907651715039,158.31134564643799,348.2849604221636,327.1767810026385,274.4063324538259,89.70976253298153,221.6358839050132,401.05540897097626,263.85224274406335,205.8047493403694,195.25065963060686,89.70976253298153,174.1424802110818,200.52770448548813,189.9736147757256,189.9736147757256,156.2005277044855,205.8047493403694,311.34564643799473,153.03430079155672,158.31134564643799,199.47229551451187,258.57519788918205,115.03957783641161,142.48021108179418,104.48548812664907,225.8575197889182,153.03430079155672,221.6358839050132,163.58839050131925,110.8179419525066,200.52770448548813,253.29815303430078,157.25593667546173,92.87598944591029,103.43007915567283,104.48548812664907,153.03430079155672,188.91820580474933,150.92348284960423,116.09498680738785,93.93139841688654,151.9788918205805,200.52770448548813,153.03430079155672,200.52770448548813,189.9736147757256,153.03430079155672,158.31134564643799,126.64907651715039,137.20316622691294,199.47229551451187,125.59366754617415,155.14511873350924,50.659630606860155,82.32189973614776,65.4353562005277,214.24802110817942,113.98416886543535,208.97097625329815,205.8047493403694,178.3641160949868,216.35883905013193,105.54089709762533,216.35883905013193,68.60158311345647,221.6358839050132,84.43271767810026,68.60158311345647,370.05057357838905,302.2079684223511,141.8527198717158,215.86283458739362,191.19279634883435,160.35524855063525,117.18268163315653,187.49229061305044,152.95423707906747,135.68521031207598,111.01517207351672,74.01011471567782,160.35524855063525,148.02022943135563,148.02022943135563,80.17762427531763,308.37547798199085,141.8527198717158,89.70976253298153,147.75725593667545,168.86543535620052,142.48021108179418,153.03430079155672,59.10290237467019,222.88923890754555,148.5928259383637,87.37258165175786,208.68361190782315,108.79240431213529,271.98101078033824,98.90218573830481,247.25546434576202,100.34126216064789,86.5889064330464,37.94631487801151,125.80858758213212,71.30851118015586,63.413640299495746,101.6146284317221,138.54225029287423,63.413640299495746,150.25721998675698,328.52849793714665,87.60759944990576,178.31139112603643,101.2461960357775,228.52712819504066,35.26260370503222,188.02864978072967,101.2461960357775,92.5679506612823,116.09498680738785,221.6358839050132,189.9736147757256,137.20316622691294,163.58839050131925,147.75725593667545,105.54089709762533,126.64907651715039,94.9868073878628,110.8179419525066,59.10290237467019,94.9868073878628,163.58839050131925,142.48021108179418,116.09498680738785,243.7994722955145,100.26385224274406,137.20316622691294,158.31134564643799,158.31134564643799,158.31134564643799,89.70976253298153,58.04749340369393,94.9868073878628,208.97097625329815,195.25065963060686,153.03430079155672,100.26385224274406,205.8047493403694,174.1424802110818,103.43007915567283,100.26385224274406,179.41952506596306,174.1424802110818,221.6358839050132,125.59366754617415,158.31134564643799,184.69656992084433,101.31926121372031,195.25065963060686,91.99131295368007,145.65291217666012,237.64422513034017,145.65291217666012,114.98914119210009,122.6550839382401,107.32319844596009,145.65291217666012,283.6398816071802,68.99348471526005,321.96959533788026,49.828627849910035,176.31668316122014,65.16051334219004,30.663770984560024,114.98914119210009,283.6398816071802,49.828627849910035,145.65291217666012,72.82645608833006,222.31233963806017,291.30582435332025,137.9869694305201,191.64856865350015,191.64856865350015,68.99348471526005,99.65725569982007,107.32319844596009,199.31451139964014,191.64856865350015,252.97611062262018,145.65291217666012,84.32537020754006,214.64639689192018,84.32537020754006,145.65291217666012,237.64422513034017,237.64422513034017,160.98479766894013,153.3188549228001,229.97828238420018,156.98743621698583,60.44016294353955,61.225100124624475,109.89120535189008,82.41840401391757,70.64434629764362,94.1924617301915,105.54089709762533,116.09498680738785,187.86279683377307,100.26385224274406,126.64907651715039,147.75725593667545,168.86543535620052,137.20316622691294,195.25065963060686,79.15567282321899,73.87862796833772,189.9736147757256,158.31134564643799,168.86543535620052,137.20316622691294,168.86543535620052,68.60158311345647,116.09498680738785,94.9868073878628,105.54089709762533,116.09498680738785,263.85224274406335,158.31134564643799,145.64643799472296,189.9736147757256,126.64907651715039,158.31134564643799,137.20316622691294,63.324538258575195,94.9868073878628,232.1899736147757,100.26385224274406,188.91820580474933,115.03957783641161,68.60158311345647,105.54089709762533,147.75725593667545,184.69656992084433,126.64907651715039,74.29641296918184,102.23186424559422,102.23186424559422,103.71779250497787,74.29641296918184,44.57784778150911,48.73844690778329,148.5928259383637,145.65291217666012,61.32754196912005,283.6398816071802,237.64422513034017,130.3210266843801,168.65074041508012,214.64639689192018,191.64856865350015,122.6550839382401,168.65074041508012,252.97611062262018,91.99131295368007,145.65291217666012,114.98914119210009,84.32537020754006,99.65725569982007,84.32537020754006,214.64639689192018,49.828627849910035,383.2971373070003,68.99348471526005,183.98262590736013,76.65942746140006,145.65291217666012,68.99348471526005,168.65074041508012,229.97828238420018,53.661599222980044,245.3101678764802,199.31451139964014,180.0,295.0,225.0,300.0,175.0,189.0,295.0,295.0,245.0,199.0,255.0,248.0,65.0,150.0,250.0,223.0,237.46701846965698,221.1061249962852,74.29641296918184,148.5928259383637,273.2213291472514,208.6417422579011,278.18898967720145,248.38302649750128,301.1954342926581,268.7867813490267,91.95337256677229,353.6668175645088,353.6668175645088,381.9601629696695,240.493435943866,495.13354459031234,230.099949665636,107.85935140576687,113.61185014740778,395.48428848781185,84.84935643920328,151.56771540298487,126.3064295024874,127.99051522918724,202.09028720397984,56.585280417114355,103.73968076470965,90.266994951111,62.311171887893785,138.0,195.0,225.0,36.0,285.0,148.0,198.0,165.0,90.0,295.0,145.0,158.0,78.0,285.0,265.0,285.0,285.0,305.0,150.0,295.0,89.70976253298153,79.15567282321899,131.92612137203167,125.59366754617415,83.37730870712402,100.26385224274406,158.31134564643799,216.35883905013193,153.03430079155672,110.8179419525066,89.70976253298153,105.54089709762533,65.4353562005277,79.15567282321899,88.65435356200527,137.20316622691294,68.60158311345647,51.715039577836414,88.64712400523824,125.9192102347134,251.8384204694268,226.65457842248412,161.17658910043315,186.36043114737583,271.985494106981,89.65447768711594,226.65457842248412,166.2133575098217,277.0222625163695,98.72066082401531,112.82361237030321,251.8384204694268,166.2133575098217,230.68399314999496,221.61781001309558,161.17658910043315,149.08834491790068,159.16188173667774,206.50750478492998,146.06628387226755,66.48534300392868,86.54353562005277,174.1424802110818,137.20316622691294,248.0211081794195,83.37730870712402,242.74406332453825,137.20316622691294,84.43271767810026,184.69656992084433,91.82058047493403,174.1424802110818,311.34564643799473,93.93139841688654,107.65171503957784,79.15567282321899,263.85224274406335,79.15567282321899,94.9868073878628,79.15567282321899,47.4934036939314,89.70976253298153,94.9868073878628,94.9868073878628,205.8047493403694,143.53562005277044,126.64907651715039,195.25065963060686,137.20316622691294,146.70184696569922,156.2005277044855,73.87862796833772,94.9868073878628,103.43007915567283,52.770448548812666,116.09498680738785,94.9868073878628,41.16094986807388,121.37203166226912,52.770448548812666,94.9868073878628,263.85224274406335,205.8047493403694,72.82321899736148,163.58839050131925,200.52770448548813,84.43271767810026,163.58839050131925,89.70976253298153,82.32189973614776,100.26385224274406,79.15567282321899,177.30870712401054,50.659630606860155,100.26385224274406,61.21372031662269,189.9736147757256,147.75725593667545,179.41952506596306,68.60158311345647,126.64907651715039,65.4353562005277,83.37730870712402,79.15567282321899,68.60158311345647,179.41952506596306,168.86543535620052,79.15567282321899,142.48021108179418,60.15831134564644,94.9868073878628,174.1424802110818,121.37203166226912,105.54089709762533,63.324538258575195,248.0211081794195,79.15567282321899,89.70976253298153,63.324538258575195,72.82321899736148,79.15567282321899,105.54089709762533,100.26385224274406,83.37730870712402,221.6358839050132,72.82321899736148,242.74406332453825,137.20316622691294,73.87862796833772,72.82321899736148,105.54089709762533,84.43271767810026,58.04749340369393,58.04749340369393,89.70976253298153,100.26385224274406,184.69656992084433,110.8179419525066,81.01829256388731,31.235968217402338,85.89891259785644,86.87503660465025,105.54089709762533,100.26385224274406,110.8179419525066,93.93139841688654,126.64907651715039,93.93139841688654,103.43007915567283,126.64907651715039,79.15567282321899,47.4934036939314,105.54089709762533,79.15567282321899,111.87335092348285,121.37203166226912,104.48548812664907,79.15567282321899,79.15567282321899,125.59366754617415,72.82321899736148,137.20316622691294,115.03957783641161,101.31926121372031,100.26385224274406,93.93139841688654,142.48021108179418,116.09498680738785,83.37730870712402,90.76517150395779,178.3641160949868,113.98416886543535,142.48021108179418,58.04749340369393,93.93139841688654,137.20316622691294,167.81002638522426,69.65699208443272,136.14775725593668,79.15567282321899,93.93139841688654,98.15303430079156,100.26385224274406,72.82321899736148,62.26912928759894,100.26385224274406,121.37203166226912,42.21635883905013,126.64907651715039,158.31134564643799,100.26385224274406,167.81002638522426,93.93139841688654,90.76517150395779,89.70976253298153,89.70976253298153,41.16094986807388,115.03957783641161,92.87598944591029,142.48021108179418,89.70976253298153,61.21372031662269,68.60158311345647,58.04749340369393,73.87862796833772,136.14775725593668,100.26385224274406,88.65435356200527,44.327176781002635,137.20316622691294,56.992084432717675,68.60158311345647,131.92612137203167,163.58839050131925,41.16094986807388,110.8179419525066,126.64907651715039,142.48021108179418,83.37730870712402,75.98944591029024,75.98944591029024,184.69656992084433,163.58839050131925,85.48812664907652,110.8179419525066,93.93139841688654,37.99472295514512,103.43007915567283,126.64907651715039,79.15567282321899,129.81530343007915,51.715039577836414,47.4934036939314,89.70976253298153,104.48548812664907,93.93139841688654,36.93931398416886,137.20316622691294,125.59366754617415,116.09498680738785,147.75725593667545,54.88126649076517,116.09498680738785,93.93139841688654,69.65699208443272,79.15567282321899,146.70184696569922,125.59366754617415,107.65171503957784,62.26912928759894,89.70976253298153,62.26912928759894,187.86279683377307,68.60158311345647,89.70976253298153,110.8179419525066,41.16094986807388,121.37203166226912,55.93667546174142,68.60158311345647,104.48548812664907,115.03957783641161,87.59894459102902,128.7598944591029,127.70448548812665,131.92612137203167,68.60158311345647,100.26385224274406,70.71240105540898,89.70976253298153,68.60158311345647,131.92612137203167,82.32189973614776,83.37730870712402,237.46701846965698,125.59366754617415,104.48548812664907,83.37730870712402,83.37730870712402,71.76781002638522,62.26912928759894,110.8179419525066,83.37730870712402,94.9868073878628,96.04221635883906,131.92612137203167,72.82321899736148,128.7598944591029,92.87598944591029,100.26385224274406,131.92612137203167,104.48548812664907,79.15567282321899,130.8707124010554,131.92612137203167,79.15567282321899,89.70976253298153,60.15831134564644,82.32189973614776,58.04749340369393,115.03957783641161,56.992084432717675,116.09498680738785,103.43007915567283,112.9287598944591,126.64907651715039,100.26385224274406,89.70976253298153,93.93139841688654,142.48021108179418,130.8707124010554,136.14775725593668,127.70448548812665,104.48548812664907,89.70976253298153,116.09498680738785,157.25593667546173,94.9868073878628,37.99472295514512,99.2084432717678,104.48548812664907,163.58839050131925,65.4353562005277,71.76781002638522,128.7598944591029,86.54353562005277,103.43007915567283,67.54617414248021,137.20316622691294,35.88390501319261,44.327176781002635,104.48548812664907,102.37467018469657,147.75725593667545,51.715039577836414,73.87862796833772,121.37203166226912,106.59630606860158,42.21635883905013,83.37730870712402,147.75725593667545,195.25065963060686,145.64643799472296,83.37730870712402,187.86279683377307,72.82321899736148,56.992084432717675,68.60158311345647,30.606860158311346,104.48548812664907,93.93139841688654,58.04749340369393,104.48548812664907,110.8179419525066,82.32189973614776,80.21108179419525,89.70976253298153,89.70976253298153,131.92612137203167,94.9868073878628,104.48548812664907,41.16094986807388,120.31662269129288,79.15567282321899,137.20316622691294,92.87598944591029,126.64907651715039,109.76253298153034,125.59366754617415,83.37730870712402,151.9788918205805,100.26385224274406,92.87598944591029,51.715039577836414,51.715039577836414,89.70976253298153,58.04749340369393,154.08970976253298,103.43007915567283,136.14775725593668,66.49076517150395,115.03957783641161,83.37730870712402,137.20316622691294,100.26385224274406,118.20580474934037,27.440633245382585,110.8179419525066,73.87862796833772,92.87598944591029,79.15567282321899,58.04749340369393,80.21108179419525,100.26385224274406,116.09498680738785,51.715039577836414,83.37730870712402,126.64907651715039,88.65435356200527,93.93139841688654,62.26912928759894,103.43007915567283,61.21372031662269,131.92612137203167,99.2084432717678,163.58839050131925,79.15567282321899,110.8179419525066,72.82321899736148,115.03957783641161,88.65435356200527,56.992084432717675,31.662269129287598,73.87862796833772,68.60158311345647,73.87862796833772,73.87862796833772,89.70976253298153,105.54089709762533,137.20316622691294,100.26385224274406,126.64907651715039,47.4934036939314,126.64907651715039,104.48548812664907,105.54089709762533,116.09498680738785,89.70976253298153,52.770448548812666,73.87862796833772,79.15567282321899,89.70976253298153,83.87813001110152,67.84260515603799,72.77661280374984,80.17762427531763,60.44159368447021,178.8577772295547,61.67509559639818,55.50758603675836,67.84260515603799,148.02022943135563,117.18268163315653,67.84260515603799,61.67509559639818,80.17762427531763,141.8527198717158,59.20809177254225,135.68521031207598,91.2791414826693,71.54311089182188,67.84260515603799,78.94412236338967,41.93906500555076,59.20809177254225,117.18268163315653,49.340076477118544,215.86283458739362,117.18268163315653,80.17762427531763,135.68521031207598,35.77155544591094,104.8476625138769,117.18268163315653,166.52275811027508,93.74614530652522,55.50758603675836,87.57863574688541,71.54311089182188,92.51264339459726,59.20809177254225,92.51264339459726,86.34513383495745,61.67509559639818,55.50758603675836,111.01517207351672,37.00505735783891,48.10657456519058,92.51264339459726,92.51264339459726,37.00505735783891,98.68015295423709,98.68015295423709,106.08116442580486,49.340076477118544,55.50758603675836,104.8476625138769,61.67509559639818,148.02022943135563,41.93906500555076,135.68521031207598,30.83754779819909,43.172566917478726,80.17762427531763,74.01011471567782,61.67509559639818,53.04058221290243,86.34513383495745,49.340076477118544,80.17762427531763,191.19279634883435,117.18268163315653,135.68521031207598,67.84260515603799,55.50758603675836,55.50758603675836,111.01517207351672,67.84260515603799,104.8476625138769,67.84260515603799,117.18268163315653,86.34513383495745,35.77155544591094,43.172566917478726,43.172566917478726,98.68015295423709,106.08116442580486,135.68521031207598,75.24361662760577,154.18773899099543,51.80708030097447,74.01011471567782,80.17762427531763,222.03034414703345,66.60910324411003,98.68015295423709,92.51264339459726,172.6902676699149,86.34513383495745,67.84260515603799,129.51770075243618,123.35019119279636,67.84260515603799,37.00505735783891,209.6953250277538,39.47206118169483,55.50758603675836,43.172566917478726,67.84260515603799,55.50758603675836,61.67509559639818,123.35019119279636,119.64968545701247,104.8476625138769,92.51264339459726,240.5328728259529,67.84260515603799,96.21314913038115,60.44159368447021,35.77155544591094,96.21314913038115,53.04058221290243,80.17762427531763,59.20809177254225,48.10657456519058,108.54816824966079,50.5735783890465,74.01011471567782,49.340076477118544,92.51264339459726,33.304551622055016,80.17762427531763,133.21820648822006,61.67509559639818,55.50758603675836,123.35019119279636,96.21314913038115,154.18773899099543,43.172566917478726,74.01011471567782,117.18268163315653,86.34513383495745,46.87307265326261,67.84260515603799,80.17762427531763,61.67509559639818,65.37560133218207,109.78167016158875,77.71062045146171,37.00505735783891,55.50758603675836,61.67509559639818,47.4934036939314,66.49076517150395,68.60158311345647,104.48548812664907,62.26912928759894,126.64907651715039,121.37203166226912,105.54089709762533,163.58839050131925,116.09498680738785,69.5414425391542,53.1962316859342,74.29641296918184,148.5928259383637,148.5928259383637,89.15569556301821,39.82287735148147,44.28066212963238,148.5928259383637,42.79473387024874,74.29641296918184,102.23186424559422,148.5928259383637,133.73354334452733,71.32455645041458,74.29641296918184,68.05551427977058,44.28066212963238,148.5928259383637,27.935451276412376,74.29641296918184,104.01497815685458,148.5928259383637,44.57784778150911,44.57784778150911,118.87426075069095,59.437130375345475,74.29641296918184,37.14820648459092,166.89743843338937,247.25546434576202,59.341311442982885,65.27544258728118,53.15992483433883,65.27544258728118,123.62773217288101,38.20098813222635,239.39285896195182,164.26424896857333,63.413640299495746,12.478989456527275,101.86930168593695,85.06086690775734,178.27127795038965,62.14027402842154,51.95334385982784,99.32256914378851,73.85524372230428,127.33662710742118,100.34126216064789,62.14027402842154,96.52116334742526,48.38791830082005,76.14730301023786,63.66831355371059,62.14027402842154,93.97443080527682,76.4019762644527,76.14730301023786,191.00494066113177,63.66831355371059,213.92553354046757,40.747720674374776,8.276880761982376,127.33662710742118,45.84118575867162,264.86018438343604,50.93465084296847,41.76641369123415,50.93465084296847,81.24076809453472,50.93465084296847,99.32256914378851,101.86930168593695,61.121581011562164,99.32256914378851,63.66831355371059,318.3415677685529,25.467325421484237,318.3415677685529,191.00494066113177,44.31314623338257,87.60759944990576,162.9908826974991,509.3465084296847,152.8039525289054,229.2059287933581,87.60759944990576,24.9635947576451,222.88923890754555,148.5928259383637,222.88923890754555,59.437130375345475,88.8585099111415,237.7485215013819,118.87426075069095,21.695613436238038,36.15935572706339,57.27641947166842,56.4085949342189,52.06947224697129,69.42596299596173,21.40633859042153,53.515846476053824,34.71298149798086,33.266607268898326,27.48111035256818,138.85192599192345,46.28397533064115,86.78245374495215,130.17368061742823,13.017368061742822,115.70993832660287,72.31871145412678,80.996956828622,43.391226872476075,92.5679506612823,54.96222070513636,43.391226872476075,86.78245374495215,83.88970528678708,130.17368061742823,116.09498680738785,94.9868073878628,89.70976253298153,47.4934036939314,174.1424802110818,131.92612137203167,82.32189973614776,110.8179419525066,47.4934036939314,63.324538258575195,121.37203166226912,121.37203166226912,79.15567282321899,94.9868073878628,126.64907651715039,126.64907651715039,72.82321899736148,47.4934036939314,126.64907651715039,73.87862796833772,126.64907651715039,116.09498680738785,100.26385224274406,131.92612137203167,40.105540897097626,168.86543535620052,89.70976253298153,81.2664907651715,52.770448548812666,79.15567282321899,103.43007915567283,100.26385224274406,47.4934036939314,52.770448548812666,79.15567282321899,89.70976253298153,73.87862796833772,44.327176781002635,89.70976253298153,79.15567282321899,78.10026385224275,139.31398416886543,99.2084432717678,83.37730870712402,68.60158311345647,58.04749340369393,36.93931398416886,168.86543535620052,84.43271767810026,37.99472295514512,67.54617414248021,100.26385224274406,84.43271767810026,63.324538258575195,62.26912928759894,79.15567282321899,75.98944591029024,131.92612137203167,49.6042216358839,126.64907651715039,131.92612137203167,121.37203166226912,35.88390501319261,105.54089709762533,68.60158311345647,52.770448548812666,36.93931398416886,103.43007915567283,137.20316622691294,84.43271767810026,121.37203166226912,71.76781002638522,80.21108179419525,62.26912928759894,58.04749340369393,94.9868073878628,52.770448548812666,82.32189973614776,75.98944591029024,94.9868073878628,67.54617414248021,77.04485488126649,142.48021108179418,63.324538258575195,84.43271767810026,131.92612137203167,142.48021108179418,36.93931398416886,84.43271767810026,158.31134564643799,68.60158311345647,47.4934036939314,44.327176781002635,73.87862796833772,75.98944591029024,50.659630606860155,73.87862796833772,147.75725593667545,65.4353562005277,68.60158311345647,88.65435356200527,63.324538258575195,83.37730870712402,81.2664907651715,68.60158311345647,85.48812664907652,89.70976253298153,89.70976253298153,103.43007915567283,84.43271767810026,63.324538258575195,105.54089709762533,52.770448548812666,52.770448548812666,73.87862796833772,35.88390501319261,105.54089709762533,63.324538258575195,68.60158311345647,142.48021108179418,137.20316622691294,89.70976253298153,84.43271767810026,116.09498680738785,79.15567282321899,73.87862796833772,131.92612137203167,105.54089709762533,58.04749340369393,91.82058047493403,68.60158311345647,54.88126649076517,63.324538258575195,84.43271767810026,52.770448548812666,79.15567282321899,68.60158311345647,89.70976253298153,52.770448548812666,68.60158311345647,89.70976253298153,158.31134564643799,68.60158311345647,79.15567282321899,137.20316622691294,105.54089709762533,58.04749340369393,60.15831134564644,47.4934036939314,63.324538258575195,116.09498680738785,58.04749340369393,21.108179419525065,94.9868073878628,142.48021108179418,48.54881266490765,89.70976253298153,42.21635883905013,58.04749340369393,84.43271767810026,68.60158311345647,116.09498680738785,47.4934036939314,100.26385224274406,94.9868073878628,47.4934036939314,142.48021108179418,79.15567282321899,63.324538258575195,63.324538258575195,62.26912928759894,105.54089709762533,116.09498680738785,116.09498680738785,205.8047493403694,121.37203166226912,68.60158311345647,73.87862796833772,47.4934036939314,58.04749340369393,79.15567282321899,100.26385224274406,79.15567282321899,51.715039577836414,79.15567282321899,73.87862796833772,56.992084432717675,100.26385224274406,66.49076517150395,71.76781002638522,82.32189973614776,26.385224274406333,94.9868073878628,94.9868073878628,92.87598944591029,73.87862796833772,100.26385224274406,84.43271767810026,89.70976253298153,100.26385224274406,52.770448548812666,177.30870712401054,103.43007915567283,116.09498680738785,47.4934036939314,116.09498680738785,75.98944591029024,44.327176781002635,105.54089709762533,126.64907651715039,51.715039577836414,114.98914119210009,65.16051334219004,252.97611062262018,26.830799611490022,130.3210266843801,42.16268510377003,68.99348471526005,7.665942746140006,168.65074041508012,214.64639689192018,61.32754196912005,65.16051334219004,68.99348471526005,61.32754196912005,145.65291217666012,214.64639689192018,61.32754196912005,68.99348471526005,214.64639689192018,72.82645608833006,153.3188549228001,260.6420533687602,99.65725569982007,283.6398816071802,153.3188549228001,68.99348471526005,45.99565647684003,114.98914119210009,168.65074041508012,38.32971373070003,137.9869694305201,237.64422513034017,99.65725569982007,229.97828238420018,183.98262590736013,130.3210266843801,99.65725569982007,145.65291217666012,84.32537020754006,53.661599222980044,76.65942746140006,206.98045414578016,76.65942746140006,42.16268510377003,61.32754196912005,130.3210266843801,57.494570596050046,114.98914119210009,65.16051334219004,237.64422513034017,237.64422513034017,107.32319844596009,84.32537020754006,344.96742357630023,122.6550839382401,65.16051334219004,49.828627849910035,57.494570596050046,114.98914119210009,34.496742357630026,22.997828238420016,99.65725569982007,57.494570596050046,183.98262590736013,57.494570596050046,72.82645608833006,57.494570596050046,145.65291217666012,122.6550839382401,168.65074041508012,199.31451139964014,76.65942746140006,7.665942746140006,130.3210266843801,65.16051334219004,130.3210266843801,15.331885492280012,122.6550839382401,145.65291217666012,237.64422513034017,45.99565647684003,72.82645608833006,191.64856865350015,84.32537020754006,34.496742357630026,168.65074041508012,22.997828238420016,19.164856865350014,76.65942746140006,76.65942746140006,38.32971373070003,160.98479766894013,283.6398816071802,99.65725569982007,229.97828238420018,65.16051334219004,99.65725569982007,145.65291217666012,229.97828238420018,38.32971373070003,99.65725569982007,42.16268510377003,45.99565647684003,107.32319844596009,237.64422513034017,168.65074041508012,72.82645608833006,107.32319844596009,76.65942746140006,145.65291217666012,72.82645608833006,45.99565647684003,168.65074041508012,72.82645608833006,76.65942746140006,153.3188549228001,199.31451139964014,168.65074041508012,34.496742357630026,15.331885492280012,61.32754196912005,214.64639689192018,61.32754196912005,145.65291217666012,153.3188549228001,65.16051334219004,168.65074041508012,76.65942746140006,11.498914119210008,76.65942746140006,191.64856865350015,252.97611062262018,15.331885492280012,68.99348471526005,145.65291217666012,42.16268510377003,22.997828238420016,130.3210266843801,84.32537020754006,114.98914119210009,49.828627849910035,61.32754196912005,107.32319844596009,329.63553808402025,57.494570596050046,260.6420533687602,22.997828238420016,76.65942746140006,237.64422513034017,49.828627849910035,117.74057716273937,78.49371810849291,47.09623086509575,141.28869259528724,78.49371810849291,78.49371810849291,47.09623086509575,66.71966039221898,86.3430899193422,141.28869259528724,62.79497448679433,66.71966039221898,76.92384374632306,94.1924617301915,102.04183354104079,54.94560267594504,102.04183354104079,70.64434629764362,54.94560267594504,86.3430899193422,117.74057716273937,156.98743621698583,70.64434629764362,44.327176781002635,116.09498680738785,68.60158311345647,21.108179419525065,116.09498680738785,121.37203166226912,89.70976253298153,163.58839050131925,94.9868073878628,63.324538258575195,94.9868073878628,94.9868073878628,82.32189973614776,113.98416886543535,86.54353562005277,79.15567282321899,116.09498680738785,63.324538258575195,116.09498680738785,52.770448548812666,84.43271767810026,68.60158311345647,108.70712401055408,147.75725593667545,79.15567282321899,89.70976253298153,89.70976253298153,94.9868073878628,84.43271767810026,58.04749340369393,158.31134564643799,104.48548812664907,36.93931398416886,68.60158311345647,100.26385224274406,94.9868073878628,105.54089709762533,100.26385224274406,79.15567282321899,63.324538258575195,126.64907651715039,41.16094986807388,89.70976253298153,108.70712401055408,79.15567282321899,68.60158311345647,31.662269129287598,100.26385224274406,158.31134564643799,110.8179419525066,63.324538258575195,94.9868073878628,232.1899736147757,73.87862796833772,94.9868073878628,73.87862796833772,137.20316622691294,72.82321899736148,63.324538258575195,63.324538258575195,31.662269129287598,52.770448548812666,79.15567282321899,75.98944591029024,100.26385224274406,63.324538258575195,36.93931398416886,56.992084432717675,131.92612137203167,105.54089709762533,94.9868073878628,116.09498680738785,126.64907651715039,79.15567282321899,104.48548812664907,89.70976253298153,79.15567282321899,18.99736147757256,94.9868073878628,42.21635883905013,105.54089709762533,105.54089709762533,100.26385224274406,63.324538258575195,137.20316622691294,84.43271767810026,105.54089709762533,116.09498680738785,84.43271767810026,121.37203166226912,84.43271767810026,58.04749340369393,63.324538258575195,63.324538258575195,100.26385224274406,79.15567282321899,79.15567282321899,84.43271767810026,94.9868073878628,47.4934036939314,79.15567282321899,84.43271767810026,116.09498680738785,100.26385224274406,73.87862796833772,68.60158311345647,68.60158311345647,58.04749340369393,52.770448548812666,58.04749340369393,47.4934036939314,147.75725593667545,79.15567282321899,84.43271767810026,116.09498680738785,84.43271767810026,68.60158311345647,52.770448548812666,68.60158311345647,116.09498680738785,35.88390501319261,104.48548812664907,73.87862796833772,47.4934036939314,84.43271767810026,73.87862796833772,26.385224274406333,94.9868073878628,73.87862796833772,63.324538258575195,68.60158311345647,68.60158311345647,137.20316622691294,20.052770448548813,68.60158311345647,153.03430079155672,89.70976253298153,126.64907651715039,137.20316622691294,100.26385224274406,93.93139841688654,47.4934036939314,52.770448548812666,79.15567282321899,89.70976253298153,47.4934036939314,105.54089709762533,116.09498680738785,42.21635883905013,92.87598944591029,89.70976253298153,58.04749340369393,79.15567282321899,94.9868073878628,79.15567282321899,91.82058047493403,68.60158311345647,84.43271767810026,26.385224274406333,89.70976253298153,84.43271767810026,84.43271767810026,116.09498680738785,63.324538258575195,105.54089709762533,126.64907651715039,65.4353562005277,105.54089709762533,63.324538258575195,79.15567282321899,94.9868073878628,42.21635883905013,42.21635883905013,68.60158311345647,105.54089709762533,137.20316622691294,137.20316622691294,89.70976253298153,73.87862796833772,84.43271767810026,84.43271767810026,137.20316622691294,126.64907651715039,116.09498680738785,100.26385224274406,137.20316622691294,116.09498680738785,116.09498680738785,105.54089709762533,84.43271767810026,52.770448548812666,121.37203166226912,84.43271767810026,58.04749340369393,100.26385224274406,50.659630606860155,116.09498680738785,158.31134564643799,105.54089709762533,63.324538258575195,137.20316622691294,63.324538258575195,98.15303430079156,31.662269129287598,84.43271767810026,73.87862796833772,115.03957783641161,84.43271767810026,105.54089709762533,26.385224274406333,94.9868073878628,153.03430079155672,92.87598944591029,94.9868073878628,89.70976253298153,89.70976253298153,105.54089709762533,94.9868073878628,52.770448548812666,105.54089709762533,63.324538258575195,94.9868073878628,116.09498680738785,79.15567282321899,131.92612137203167,147.75725593667545,147.75725593667545,31.662269129287598,88.65435356200527,94.9868073878628,105.54089709762533,84.43271767810026,103.43007915567283,84.43271767810026,63.324538258575195,47.4934036939314,63.324538258575195,63.324538258575195,73.87862796833772,94.9868073878628,116.09498680738785,126.64907651715039,58.04749340369393,89.70976253298153,71.76781002638522,105.54089709762533,126.64907651715039,89.70976253298153,116.09498680738785,79.15567282321899,73.87862796833772,84.43271767810026,94.9868073878628,84.43271767810026,168.86543535620052,31.662269129287598,63.324538258575195,116.09498680738785,80.21108179419525,73.87862796833772,36.93931398416886,121.37203166226912,131.92612137203167,179.41952506596306,58.04749340369393,205.8047493403694,84.43271767810026,58.04749340369393,84.43271767810026,84.43271767810026,100.26385224274406,116.09498680738785,94.9868073878628,94.9868073878628,126.64907651715039,116.09498680738785,116.09498680738785,147.75725593667545,105.54089709762533,126.64907651715039,126.64907651715039,94.9868073878628,52.770448548812666,100.26385224274406,89.70976253298153,100.26385224274406,100.26385224274406,73.87862796833772,92.87598944591029,105.54089709762533,94.9868073878628,110.8179419525066,116.09498680738785,137.20316622691294,94.9868073878628,147.75725593667545,89.70976253298153,147.75725593667545,116.09498680738785,37.99472295514512,84.43271767810026,84.43271767810026,105.54089709762533,84.43271767810026,110.8179419525066,126.64907651715039,79.15567282321899,14.775725593667547,100.26385224274406,94.9868073878628,126.64907651715039,105.54089709762533,94.9868073878628,26.385224274406333,116.09498680738785,47.4934036939314,158.31134564643799,263.85224274406335,103.43007915567283,73.87862796833772,73.87862796833772,126.64907651715039,100.26385224274406,189.9736147757256,105.54089709762533,137.20316622691294,94.9868073878628,63.324538258575195,75.98944591029024,94.9868073878628,100.26385224274406,58.04749340369393,27.384909650863467,40.02409872049276,72.51329905792149,163.45210853220007,72.51329905792149,74.29641296918184,44.57784778150911,29.42137953579601,118.87426075069095,50.224375167166926,118.87426075069095,191.38755980861245,297.1856518767274,89.15569556301821,74.29641296918184,118.87426075069095,191.38755980861245,74.29641296918184,118.87426075069095,29.42137953579601,130.76168682576005,44.57784778150911,133.73354334452733,178.31139112603643,118.87426075069095,57.65401646408512,89.15569556301821,102.23186424559422,66.86677167226367,44.28066212963238,74.29641296918184,59.13994472346875,178.31139112603643,118.87426075069095,81.72605426610004,148.5928259383637,118.87426075069095,59.437130375345475,148.5928259383637,45.99565647684003,168.65074041508012,153.3188549228001,229.97828238420018,49.828627849910035,65.16051334219004,130.3210266843801,168.65074041508012,38.32971373070003,145.65291217666012,26.830799611490022,222.31233963806017,214.64639689192018,122.6550839382401,42.16268510377003,130.3210266843801,107.32319844596009,53.661599222980044,68.99348471526005,84.32537020754006,84.32537020754006,49.828627849910035,114.98914119210009,76.65942746140006,91.99131295368007,107.32319844596009,114.98914119210009,22.997828238420016,45.99565647684003,53.661599222980044,84.32537020754006,72.82645608833006,68.99348471526005,122.6550839382401,42.16268510377003,206.98045414578016,122.6550839382401,30.663770984560024,137.9869694305201,68.99348471526005,68.99348471526005,130.3210266843801,168.65074041508012,53.661599222980044,72.82645608833006,145.65291217666012,168.65074041508012,160.98479766894013,76.65942746140006,53.661599222980044,153.3188549228001,72.82645608833006,38.32971373070003,99.65725569982007,153.3188549228001,53.661599222980044,7.665942746140006,84.32537020754006,49.828627849910035,30.663770984560024,153.3188549228001,114.98914119210009,26.830799611490022,42.16268510377003,38.32971373070003,168.65074041508012,114.98914119210009,76.65942746140006,57.494570596050046,57.494570596050046,53.661599222980044,183.98262590736013,53.661599222980044,91.99131295368007,107.32319844596009,183.98262590736013,84.32537020754006,53.661599222980044,42.16268510377003,53.661599222980044,183.98262590736013,45.99565647684003,26.830799611490022,107.32319844596009,84.32537020754006,84.32537020754006,76.65942746140006,45.99565647684003,153.3188549228001,145.65291217666012,130.3210266843801,137.9869694305201,49.828627849910035,99.65725569982007,42.16268510377003,61.32754196912005,84.32537020754006,76.65942746140006,30.663770984560024,145.65291217666012,76.65942746140006,68.99348471526005,91.99131295368007,45.99565647684003,191.64856865350015,42.16268510377003,306.6377098456002,176.31668316122014,61.32754196912005,99.65725569982007,53.661599222980044,122.6550839382401,107.32319844596009,145.65291217666012,145.65291217666012,61.32754196912005,65.16051334219004,84.32537020754006,45.99565647684003,65.16051334219004,191.64856865350015,168.65074041508012,61.32754196912005,130.3210266843801,38.32971373070003,122.6550839382401,61.32754196912005,49.828627849910035,57.494570596050046,337.30148083016024,168.65074041508012,38.32971373070003,206.98045414578016,65.16051334219004,61.32754196912005,68.99348471526005,49.828627849910035,30.663770984560024,72.82645608833006,191.64856865350015,49.828627849910035,65.16051334219004,34.496742357630026,42.16268510377003,42.16268510377003,107.32319844596009,99.65725569982007,107.32319844596009,76.65942746140006,49.828627849910035,99.65725569982007,237.64422513034017,99.65725569982007,84.32537020754006,45.99565647684003,65.16051334219004,42.16268510377003,53.661599222980044,137.9869694305201,84.32537020754006,99.65725569982007,367.96525181472026,22.997828238420016,84.32537020754006,85.0,134.0,88.0,45.0,165.0,130.0,199.0,210.0,95.0,37.0,200.0,225.0,55.0,50.0,115.0,155.0,110.0,50.0,50.0,74.0,285.0,148.0,65.0,37.0,145.0,150.0,250.0,195.0,130.0,200.0,97.0,205.0,78.0,125.0,150.0,115.0,158.0,95.0,100.0,150.0,175.0,90.0,78.0,225.0,95.0,165.0,75.0,83.0,110.0,150.0,402.0,175.0,76.0,600.0,55.0,95.0,39.0,89.0,85.0,175.0,75.0,65.0,155.0,89.0,80.0,200.0,150.0,47.4934036939314,84.43271767810026,79.15567282321899,70.71240105540898,25.329815303430077,41.60599126274183,89.15569556301821,72.51329905792149,52.00748907842729,148.5928259383637,148.5928259383637,74.29641296918184,44.57784778150911,118.87426075069095,44.57784778150911,52.00748907842729,29.718565187672738,66.86677167226367,59.437130375345475,118.72708666580561,69.54724741930036,129.15917377870068,81.96639874417542,88.92112348610546,109.28853165890057,158.96513695840082,128.66240772570566,188.77110013810096,64.57958688935034,77.4955042672204,88.92112348610546,65.57311899534034,67.56018320732035,254.45821173000428,202.52796443816666,83.08839566694017,134.4993404858594,186.9488902506154,124.63259350041025,150.59771714632905,192.14191497979914,130.34492070251238,120.43319593344815,105.54089709762533,115.03957783641161,189.9736147757256,90.76517150395779,99.2084432717678,82.32189973614776,93.93139841688654,169.76007243096421,198.05341783612494,134.39339067451334,325.3734721593481,226.34676324128563,84.88003621548211,253.93277501131732,127.32005432322318,282.93345405160704,91.24603893164327,63.66002716161159,77.09936622906292,91.95337256677229,140.75939339067452,63.66002716161159,127.32005432322318,77.80669986419194,254.64010864644635,82.64462809917354,55.32987813419246,124.66732035299061,111.22005883176915,106.45748704300321,39.22117943689592,116.2627819022272,76.34122426110099,63.03403838072559,95.25143577531867,45.995890476258175,15.331963492086057,35.542279004381314,83.35012880243147,73.87218773459645,80.84126204918103,22.022274834087245,56.086862730998774,71.90623427051125,179.76558567627814,48.89623930394765,92.0399798662544,75.50154598403681,251.67181994678938,129.43122168692025,156.75559070971454,7.190623427051125,41.70561587689652,70.46810958510103,71.90623427051125,56.086862730998774,71.90623427051125,129.43122168692025,192.70870784497015,63.2774861580499,163.94621413676566,106.42122672035666,34.5149924498454,56.086862730998774,149.5649672826634,77.65873301215215,41.70561587689652,35.953117135255624,34.5149924498454,77.65873301215215,89.88279283813907,113.61185014740778,127.99309700151002,142.37434385561227,125.83590997339469,48.89623930394765,106.42122672035666,84.84935643920328,56.086862730998774,86.2874811246135,64.71561084346013,56.086862730998774,92.0399798662544,86.89882349771133,62.311171887893785,40.41805744079597,67.36342906799328,62.311171887893785,83.53065204431167,117.88600086898825,107.78148650878924,101.04514360198992,66.68979477731335,84.20428633499161,218.93114447097815,67.36342906799328,134.72685813598656,161.67222976318388,117.88600086898825,117.88600086898825,84.20428633499161,101.04514360198992,67.36342906799328,40.41805744079597,84.20428633499161,168.40857266998322,56.585280417114355,151.56771540298487,60.0,75.0,60.0,75.0,250.0,50.0,195.0,103.0,150.0,150.0,90.0,75.0,85.0,100.0,315.0,75.0,45.0,175.0,95.0,120.0,66.0,150.0,40.0,50.0,130.0,60.0,54.0,63.0,125.0,150.0,75.0,84.0,54.0,60.0,69.0,150.0,89.0,185.0,100.0,40.0,99.0,60.0,100.0,50.0,75.0,65.0,145.0,150.0,175.0,175.0,95.0,75.0,150.0,150.0,165.0,90.0,100.0,175.0,75.0,150.0,160.0,76.0,175.0,200.0,300.0,120.0,50.0,50.0,150.0,85.0,106.0,165.0,168.0,65.0,65.0,195.0,84.0,60.0,75.0,60.0,80.0,145.0,39.050131926121374,68.60158311345647,63.324538258575195,72.82321899736148,47.4934036939314,58.04749340369393,31.662269129287598,42.21635883905013,63.324538258575195,63.324538258575195,79.15567282321899,58.04749340369393,60.15831134564644,79.15567282321899,62.26912928759894,73.87862796833772,82.32189973614776,94.9868073878628,40.105540897097626,51.715039577836414,89.70976253298153,70.71240105540898,42.21635883905013,66.49076517150395,58.04749340369393,58.04749340369393,47.4934036939314,75.98944591029024,89.70976253298153,49.6042216358839,56.992084432717675,71.76781002638522,55.93667546174142,131.92612137203167,63.324538258575195,73.87862796833772,100.26385224274406,51.715039577836414,50.659630606860155,51.715039577836414,52.770448548812666,83.37730870712402,54.88126649076517,78.10026385224275,51.715039577836414,70.71240105540898,50.659630606860155,79.15567282321899,89.70976253298153,104.48548812664907,79.15567282321899,52.770448548812666,47.4934036939314,79.15567282321899,84.43271767810026,48.54881266490765,110.8179419525066,45.382585751978894,59.10290237467019,52.770448548812666,51.715039577836414,68.60158311345647,51.715039577836414,40.105540897097626,105.54089709762533,39.050131926121374,63.324538258575195,31.662269129287598,58.04749340369393,58.04749340369393,142.48021108179418,41.16094986807388,94.9868073878628,64.37994722955145,66.49076517150395,73.87862796833772,63.324538258575195,73.87862796833772,39.050131926121374,51.715039577836414,47.4934036939314,47.4934036939314,131.92612137203167,66.49076517150395,158.31134564643799,37.99472295514512,52.770448548812666,163.58839050131925,73.87862796833772,47.4934036939314,68.60158311345647,116.09498680738785,84.61770927772741,169.23541855545483,115.84567341593633,115.84567341593633,79.58094086833887,50.36768409388536,98.72066082401531,82.603001913972,78.57358718646117,141.029515462879,135.9927470534905,95.69859977838219,82.603001913972,76.55887982270575,76.55887982270575,93.68389241462677,115.84567341593633,50.36768409388536,68.5000503676841,50.36768409388536,75.55152614082805,135.9927470534905,196.43396796615292,120.88244182532488,88.64712400523824,59.43386723078473,110.80890500654779,125.9192102347134,59.43386723078473,60.44122091266244,219.60310264934017,75.55152614082805,110.80890500654779,68.5000503676841,70.5147577314395,68.5000503676841,125.9192102347134,79.58094086833887,176.28689432859878,118.86773446156946,46.33826936637453,69.5074040495618,69.5074040495618,52.38239145764078,78.57358718646117,156.13982069104463,85.62506295960512,105.77213659715926,55.404452503273895,141.029515462879,78.57358718646117,76.55887982270575,97.71330714213761,177.29424801047648,115.84567341593633,146.06628387226755,118.86773446156946,120.88244182532488,75.55152614082805,95.69859977838219,65.47798932205097,44.32356200261912,160.16923541855544,115.84567341593633,56.411806185151605,201.47073637554143,64.47063564017326,95.69859977838219,161.17658910043315,95.69859977838219,95.69859977838219,115.84567341593633,78.57358718646117,46.33826936637453,62.45592827641785,80.58829455021657,110.80890500654779,76.55887982270575,105.77213659715926,125.9192102347134,110.80890500654779,151.1030522816561,282.059030925758,85.62506295960512,62.45592827641785,110.80890500654779,55.404452503273895,146.06628387226755,75.55152614082805,77.56623350458345,153.03430079155672,71.76781002638522,147.75725593667545,56.992084432717675,73.87862796833772,62.26912928759894,68.60158311345647,58.04749340369393,84.43271767810026,71.76781002638522,50.659630606860155,82.32189973614776,36.93931398416886,58.04749340369393,29.551451187335093,147.75725593667545,52.770448548812666,142.48021108179418,47.4934036939314,41.16094986807388,63.324538258575195,42.21635883905013,52.770448548812666,32.71767810026385,50.659630606860155,58.04749340369393,92.87598944591029,50.659630606860155,41.16094986807388,44.327176781002635,74.93403693931398,84.43271767810026,94.9868073878628,75.98944591029024,84.43271767810026,47.4934036939314,83.37730870712402,67.54617414248021,142.48021108179418,116.09498680738785,47.4934036939314,58.04749340369393,65.4353562005277,68.60158311345647,105.54089709762533,44.327176781002635,42.21635883905013,61.21372031662269,39.050131926121374,29.551451187335093,41.16094986807388,29.551451187335093,44.327176781002635,46.437994722955146,131.92612137203167,22.163588390501317,44.327176781002635,52.770448548812666,58.04749340369393,65.4353562005277,116.09498680738785,29.551451187335093,79.15567282321899,31.662269129287598,52.770448548812666,36.93931398416886,63.324538258575195,42.21635883905013,37.99472295514512,295.5145118733509,40.105540897097626,58.04749340369393,92.87598944591029,51.715039577836414,84.43271767810026,82.32189973614776,44.327176781002635,58.04749340369393,62.26912928759894,94.9868073878628,116.09498680738785,58.04749340369393,42.21635883905013,97.0976253298153,52.770448548812666,58.04749340369393,163.58839050131925,62.26912928759894,36.93931398416886,47.4934036939314,87.59894459102902,80.21108179419525,41.16094986807388,28.496042216358838,36.93931398416886,75.98944591029024,54.88126649076517,100.26385224274406,29.551451187335093,43.27176781002638,184.69656992084433,62.26912928759894,100.26385224274406,35.88390501319261,73.87862796833772,44.327176781002635,54.88126649076517,93.93139841688654,54.88126649076517,36.93931398416886,40.105540897097626,29.551451187335093,72.82321899736148,47.4934036939314,36.93931398416886,58.04749340369393,71.76781002638522,25.329815303430077,44.327176781002635,47.4934036939314,37.99472295514512,68.60158311345647,84.43271767810026,44.327176781002635,28.496042216358838,103.43007915567283,40.105540897097626,86.54353562005277,58.04749340369393,51.715039577836414,83.37730870712402,89.70976253298153,82.32189973614776,36.93931398416886,59.10290237467019,51.715039577836414,137.20316622691294,92.87598944591029,92.87598944591029,39.050131926121374,27.440633245382585,83.37730870712402,58.04749340369393,101.31926121372031,42.21635883905013,126.64907651715039,37.99472295514512,104.48548812664907,58.04749340369393,65.4353562005277,100.26385224274406,65.4353562005277,54.88126649076517,153.03430079155672,72.82321899736148,79.15567282321899,67.54617414248021,82.32189973614776,83.37730870712402,100.26385224274406,34.82849604221636,68.60158311345647,126.64907651715039,53.82585751978892,41.16094986807388,47.4934036939314,54.88126649076517,36.93931398416886,40.105540897097626,58.04749340369393,63.324538258575195,41.16094986807388,58.04749340369393,121.37203166226912,27.440633245382585,41.16094986807388,27.440633245382585,40.105540897097626,58.04749340369393,109.76253298153034,68.60158311345647,67.54617414248021,100.26385224274406,103.43007915567283,56.992084432717675,47.4934036939314,62.26912928759894,52.770448548812666,47.4934036939314,79.15567282321899,41.16094986807388,83.37730870712402,55.93667546174142,126.64907651715039,58.04749340369393,205.8047493403694,61.21372031662269,53.82585751978892,67.54617414248021,35.88390501319261,35.88390501319261,179.41952506596306,45.382585751978894,79.15567282321899,54.88126649076517,36.93931398416886,51.715039577836414,59.10290237467019,47.4934036939314,30.606860158311346,89.70976253298153,100.26385224274406,72.82321899736148,41.16094986807388,68.60158311345647,58.04749340369393,47.4934036939314,79.15567282321899,82.32189973614776,47.4934036939314,63.324538258575195,51.715039577836414,47.4934036939314,47.4934036939314,79.15567282321899,71.76781002638522,79.15567282321899,61.21372031662269,168.86543535620052,47.4934036939314,47.4934036939314,31.662269129287598,75.98944591029024,147.75725593667545,56.992084432717675,68.60158311345647,62.26912928759894,158.31134564643799,52.770448548812666,51.715039577836414,36.93931398416886,63.324538258575195,33.773087071240106,137.20316622691294,73.87862796833772,37.99472295514512,89.70976253298153,100.26385224274406,37.99472295514512,56.992084432717675,51.715039577836414,179.41952506596306,53.82585751978892,47.4934036939314,42.21635883905013,58.04749340369393,137.20316622691294,137.20316622691294,51.715039577836414,52.770448548812666,96.04221635883906,84.43271767810026,67.54617414248021,105.54089709762533,61.21372031662269,34.82849604221636,179.41952506596306,50.659630606860155,51.715039577836414,47.4934036939314,31.662269129287598,58.04749340369393,54.88126649076517,79.15567282321899,58.04749340369393,84.43271767810026,31.662269129287598,41.16094986807388,51.715039577836414,60.15831134564644,54.88126649076517,56.992084432717675,63.324538258575195,36.93931398416886,158.31134564643799,137.20316622691294,58.04749340369393,68.60158311345647,29.551451187335093,100.26385224274406,42.21635883905013,62.26912928759894,42.21635883905013,79.15567282321899,62.26912928759894,33.773087071240106,72.82321899736148,158.31134564643799,37.99472295514512,166.75461741424803,137.20316622691294,84.43271767810026,82.32189973614776,40.105540897097626,30.606860158311346,39.050131926121374,50.659630606860155,35.88390501319261,51.715039577836414,44.327176781002635,62.26912928759894,51.715039577836414,50.659630606860155,89.70976253298153,94.9868073878628,27.440633245382585,79.15567282321899,75.98944591029024,82.32189973614776,42.21635883905013,51.715039577836414,67.54617414248021,47.4934036939314,89.70976253298153,50.659630606860155,65.4353562005277,42.21635883905013,61.21372031662269,89.70976253298153,71.76781002638522,50.659630606860155,47.4934036939314,44.327176781002635,52.770448548812666,103.43007915567283,58.04749340369393,63.324538258575195,46.437994722955146,47.4934036939314,68.60158311345647,157.25593667546173,82.32189973614776,89.70976253298153,122.42744063324538,48.54881266490765,41.16094986807388,121.37203166226912,72.82321899736148,103.43007915567283,211.08179419525067,59.10290237467019,68.60158311345647,79.15567282321899,61.21372031662269,35.88390501319261,121.37203166226912,89.70976253298153,63.324538258575195,168.86543535620052,67.54617414248021,36.93931398416886,47.4934036939314,31.662269129287598,116.09498680738785,27.440633245382585,62.26912928759894,79.15567282321899,63.324538258575195,104.48548812664907,71.76781002638522,36.93931398416886,79.15567282321899,40.105540897097626,51.715039577836414,72.82321899736148,67.54617414248021,50.659630606860155,45.382585751978894,68.60158311345647,63.324538258575195,68.60158311345647,47.4934036939314,42.21635883905013,121.37203166226912,184.69656992084433,87.59894459102902,68.60158311345647,83.37730870712402,72.82321899736148,63.324538258575195,42.21635883905013,36.93931398416886,44.327176781002635,59.10290237467019,36.93931398416886,71.76781002638522,51.715039577836414,35.88390501319261,58.04749340369393,52.770448548812666,64.37994722955145,97.0976253298153,110.8179419525066,50.659630606860155,65.4353562005277,30.606860158311346,47.4934036939314,111.87335092348285,73.87862796833772,75.98944591029024,41.16094986807388,89.70976253298153,36.93931398416886,55.93667546174142,126.64907651715039,58.04749340369393,36.93931398416886,110.8179419525066,36.93931398416886,100.26385224274406,105.54089709762533,73.87862796833772,58.04749340369393,321.89973614775727,63.324538258575195,48.54881266490765,42.21635883905013,79.15567282321899,40.105540897097626,47.4934036939314,31.662269129287598,93.93139841688654,92.87598944591029,73.87862796833772,62.26912928759894,58.04749340369393,40.105540897097626,79.15567282321899,189.9736147757256,100.26385224274406,59.10290237467019,40.105540897097626,34.82849604221636,62.26912928759894,135.09234828496042,36.93931398416886,31.662269129287598,37.99472295514512,27.440633245382585,58.04749340369393,142.48021108179418,79.15567282321899,41.16094986807388,83.37730870712402,49.6042216358839,79.15567282321899,128.7598944591029,33.773087071240106,58.04749340369393,103.43007915567283,103.43007915567283,62.26912928759894,84.43271767810026,51.715039577836414,29.551451187335093,100.26385224274406,232.1899736147757,40.105540897097626,49.6042216358839,41.16094986807388,55.93667546174142,37.99472295514512,36.93931398416886,41.16094986807388,79.15567282321899,137.20316622691294,100.26385224274406,40.105540897097626,48.54881266490765,46.437994722955146,63.324538258575195,47.4934036939314,88.65435356200527,84.43271767810026,102.37467018469657,50.659630606860155,79.15567282321899,87.59894459102902,40.105540897097626,73.87862796833772,35.88390501319261,72.82321899736148,44.327176781002635,82.32189973614776,42.21635883905013,58.04749340369393,80.21108179419525,79.15567282321899,29.551451187335093,68.60158311345647,84.43271767810026,73.87862796833772,41.16094986807388,47.4934036939314,232.1899736147757,35.88390501319261,52.770448548812666,147.75725593667545,142.48021108179418,73.87862796833772,36.93931398416886,68.60158311345647,73.87862796833772,40.105540897097626,71.76781002638522,79.15567282321899,146.70184696569922,58.04749340369393,153.03430079155672,61.21372031662269,61.21372031662269,62.26912928759894,41.16094986807388,62.26912928759894,31.662269129287598,71.76781002638522,158.31134564643799,58.04749340369393,50.659630606860155,46.437994722955146,61.21372031662269,39.050131926121374,77.04485488126649,58.04749340369393,81.2664907651715,68.60158311345647,41.16094986807388,153.03430079155672,50.659630606860155,121.37203166226912,58.04749340369393,50.659630606860155,60.15831134564644,47.4934036939314,51.715039577836414,61.21372031662269,47.4934036939314,58.04749340369393,58.04749340369393,44.327176781002635,51.715039577836414,47.4934036939314,47.4934036939314,68.60158311345647,52.770448548812666,51.715039577836414,104.48548812664907,41.16094986807388,61.21372031662269,47.4934036939314,36.93931398416886,71.76781002638522,41.16094986807388,73.87862796833772,43.27176781002638,46.437994722955146,44.327176781002635,58.04749340369393,47.4934036939314,89.70976253298153,52.770448548812666,52.770448548812666,52.770448548812666,126.64907651715039,40.105540897097626,28.496042216358838,100.26385224274406,100.26385224274406,47.4934036939314,63.324538258575195,51.715039577836414,158.31134564643799,45.382585751978894,116.09498680738785,42.21635883905013,41.16094986807388,63.324538258575195,79.15567282321899,50.659630606860155,54.88126649076517,87.59894459102902,47.4934036939314,58.04749340369393,28.496042216358838,105.54089709762533,110.8179419525066,84.43271767810026,54.88126649076517,100.26385224274406,47.4934036939314,67.54617414248021,44.327176781002635,73.87862796833772,63.324538258575195,52.770448548812666,51.715039577836414,50.659630606860155,44.327176781002635,50.659630606860155,50.659630606860155,47.4934036939314,51.715039577836414,34.82849604221636,47.4934036939314,94.9868073878628,68.60158311345647,51.715039577836414,50.659630606860155,41.16094986807388,153.03430079155672,72.82321899736148,63.324538258575195,60.15831134564644,63.324538258575195,16.203658512777462,36.89748745680651,62.471936434804675,42.94945629892822,40.99720828534057,58.567440407629384,50.36799875056127,13.665736095113523,37.09271225816528,67.3525564687738,65.2359742655329,44.327176781002635,50.659630606860155,73.87862796833772,56.992084432717675,26.385224274406333,39.050131926121374,79.15567282321899,65.4353562005277,59.10290237467019,68.60158311345647,47.4934036939314,58.04749340369393,42.21635883905013,26.385224274406333,41.16094986807388,89.70976253298153,53.82585751978892,33.773087071240106,54.88126649076517,64.37994722955145,34.82849604221636,41.16094986807388,41.16094986807388,30.606860158311346,40.105540897097626,47.4934036939314,42.21635883905013,26.385224274406333,60.15831134564644,61.21372031662269,17.941952506596305,36.93931398416886,41.16094986807388,42.21635883905013,41.16094986807388,21.108179419525065,63.324538258575195,41.16094986807388,29.551451187335093,62.26912928759894,70.71240105540898,34.82849604221636,46.437994722955146,40.105540897097626,29.551451187335093,28.496042216358838,29.551451187335093,61.21372031662269,59.10290237467019,21.108179419525065,48.54881266490765,59.10290237467019,36.93931398416886,36.93931398416886,37.99472295514512,26.385224274406333,28.496042216358838,77.04485488126649,36.93931398416886,34.82849604221636,27.440633245382585,40.105540897097626,46.437994722955146,42.21635883905013,44.327176781002635,41.16094986807388,33.773087071240106,40.105540897097626,41.16094986807388,41.16094986807388,29.551451187335093,70.71240105540898,63.324538258575195,58.04749340369393,36.93931398416886,44.327176781002635,104.48548812664907,39.050131926121374,34.82849604221636,39.050131926121374,33.773087071240106,23.218997361477573,30.606860158311346,36.93931398416886,41.16094986807388,40.105540897097626,67.54617414248021,31.662269129287598,41.16094986807388,70.71240105540898,39.050131926121374,30.606860158311346,44.327176781002635,30.606860158311346,52.770448548812666,42.21635883905013,31.662269129287598,26.385224274406333,50.659630606860155,36.93931398416886,50.659630606860155,45.382585751978894,50.659630606860155,36.93931398416886,27.440633245382585,26.385224274406333,49.6042216358839,63.324538258575195,33.773087071240106,60.15831134564644,52.770448548812666,52.770448548812666,25.329815303430077,31.662269129287598,39.050131926121374,37.99472295514512,29.551451187335093,29.551451187335093,32.71767810026385,30.606860158311346,63.324538258575195,52.770448548812666,25.329815303430077,40.105540897097626,51.715039577836414,44.327176781002635,65.4353562005277,36.93931398416886,39.050131926121374,41.16094986807388,47.4934036939314,26.385224274406333,49.6042216358839,73.87862796833772,58.04749340369393,58.04749340369393,41.16094986807388,34.82849604221636,39.050131926121374,31.662269129287598,58.04749340369393,30.606860158311346,73.87862796833772,65.4353562005277,26.385224274406333,40.105540897097626,45.382585751978894,50.659630606860155,64.37994722955145,41.16094986807388,39.050131926121374,37.99472295514512,59.10290237467019,58.04749340369393,62.26912928759894,44.327176781002635,31.662269129287598,41.16094986807388,40.105540897097626,39.050131926121374,42.21635883905013,46.437994722955146,45.382585751978894,44.327176781002635,39.050131926121374,71.76781002638522,29.551451187335093,42.21635883905013,37.99472295514512,40.105540897097626,37.99472295514512,68.60158311345647,59.10290237467019,31.662269129287598,59.10290237467019,52.770448548812666,34.82849604221636,64.37994722955145,36.93931398416886,60.15831134564644,35.88390501319261,42.21635883905013,44.327176781002635,48.54881266490765,36.93931398416886,41.16094986807388,20.052770448548813,39.050131926121374,47.4934036939314,36.93931398416886,46.437994722955146,42.21635883905013,37.99472295514512,39.050131926121374,63.324538258575195,56.992084432717675,48.54881266490765,39.050131926121374,51.715039577836414,41.16094986807388,40.105540897097626,40.105540897097626,41.16094986807388,56.992084432717675,41.16094986807388,41.16094986807388,68.60158311345647,32.71767810026385,72.82321899736148,39.050131926121374,43.27176781002638,47.4934036939314,62.26912928759894,48.54881266490765,39.050131926121374,39.050131926121374,33.773087071240106,33.773087071240106,48.54881266490765,56.992084432717675,54.88126649076517,44.327176781002635,35.88390501319261,39.050131926121374,41.16094986807388,26.385224274406333,44.327176781002635,20.052770448548813,59.10290237467019,23.218997361477573,29.551451187335093,58.04749340369393,41.16094986807388,42.21635883905013,37.99472295514512,37.99472295514512,41.16094986807388,48.54881266490765,42.21635883905013,58.04749340369393,36.93931398416886,63.324538258575195,54.88126649076517,39.050131926121374,39.050131926121374,47.4934036939314,44.327176781002635,51.715039577836414,39.050131926121374,34.82849604221636,89.70976253298153,36.93931398416886,33.773087071240106,25.329815303430077,42.21635883905013,31.662269129287598,17.941952506596305,39.050131926121374,66.49076517150395,54.88126649076517,27.440633245382585,31.662269129287598,41.16094986807388,30.606860158311346,50.659630606860155,37.99472295514512,42.21635883905013,46.437994722955146,21.108179419525065,41.16094986807388,51.715039577836414,69.65699208443272,40.105540897097626,50.659630606860155,68.60158311345647,28.496042216358838,41.16094986807388,39.050131926121374,27.440633245382585,49.6042216358839,27.440633245382585,35.88390501319261,63.324538258575195,34.82849604221636,29.551451187335093,39.050131926121374,29.551451187335093,34.82849604221636,77.04485488126649,42.21635883905013,72.82321899736148,36.93931398416886,36.93931398416886,44.327176781002635,55.93667546174142,33.773087071240106,50.659630606860155,26.385224274406333,49.6042216358839,51.715039577836414,48.54881266490765,42.21635883905013,31.662269129287598,37.99472295514512,45.382585751978894,52.770448548812666,47.4934036939314,40.105540897097626,35.88390501319261,46.437994722955146,37.99472295514512,40.105540897097626,31.662269129287598,33.773087071240106,32.71767810026385,28.496042216358838,56.992084432717675,41.16094986807388,51.715039577836414,35.88390501319261,40.70556309362279,24.670038238559272,34.53805353398298,34.53805353398298,50.5735783890465,29.604045886271123,86.34513383495745,49.340076477118544,37.00505735783891,34.53805353398298,69.07610706796596,34.53805353398298,49.340076477118544,45.63957074133465,34.53805353398298,40.70556309362279,54.274084124830395,67.84260515603799,32.07104971012705,43.172566917478726,75.24361662760577,30.83754779819909,30.83754779819909,43.172566917478726,62.90859750832614,37.00505735783891,51.80708030097447,45.63957074133465,34.53805353398298,30.83754779819909,64.1420994202541,29.604045886271123,56.74108794868632,18.502528678919454,61.67509559639818,37.00505735783891,57.97458986061429,30.83754779819909,49.340076477118544,43.172566917478726,25.903540150487235,37.00505735783891,44.406068829406685,24.670038238559272,71.54311089182188,67.84260515603799,43.172566917478726,18.502528678919454,51.80708030097447,64.1420994202541,59.20809177254225,44.406068829406685,44.406068829406685,32.07104971012705,22.203034414703342,32.07104971012705,39.47206118169483,49.340076477118544,44.406068829406685,41.93906500555076,43.172566917478726,49.340076477118544,39.47206118169483,39.47206118169483,22.203034414703342,50.5735783890465,39.47206118169483,43.172566917478726,18.502528678919454,40.70556309362279,43.172566917478726,30.83754779819909,43.172566917478726,18.502528678919454,46.87307265326261,46.87307265326261,23.436536326631305,27.137042062415198,46.87307265326261,59.20809177254225,38.23855926976687,43.172566917478726,43.172566917478726,37.00505735783891,56.74108794868632,49.340076477118544,46.87307265326261,40.70556309362279,28.37054397434316,55.50758603675836,55.50758603675836,61.67509559639818,86.34513383495745,48.10657456519058,54.274084124830395,34.53805353398298,39.47206118169483,37.00505735783891,22.203034414703342,28.37054397434316,39.47206118169483,56.74108794868632,59.20809177254225,79.15567282321899,33.773087071240106,32.71767810026385,30.606860158311346,45.382585751978894,34.82849604221636,49.6042216358839,52.770448548812666,31.662269129287598,41.16094986807388,29.718565187672738,44.57784778150911,17.831139112603644,29.718565187672738,8.915569556301822,14.859282593836369,29.718565187672738,44.57784778150911,29.718565187672738,3.714820648459092,29.718565187672738,29.718565187672738,22.288923890754553,29.718565187672738,1.485928259383637,29.718565187672738,11.887426075069095,14.859282593836369,8.65394125210167,21.016714469389772,27.198101078033822,43.26970626050835,30.906933043220253,30.906933043220253,6.1813866086440505,12.733662710742118,12.733662710742118,19.100494066113175,25.467325421484237,28.01405796363266,38.20098813222635,19.100494066113175,9.932256914378852,10.186930168593694,7.258187745123007,14.00702898181633,25.467325421484237,10.186930168593694,11.205623185453064,8.65889064330464,50.93465084296847,12.733662710742118,19.100494066113175,12.733662710742118,10.186930168593694,6.366831355371059,7.003514490908165,25.467325421484237,12.733662710742118,8.913563897519483,3.8200988132226352,12.733662710742118,50.93465084296847,29.03275098049203,12.733662710742118,50.93465084296847,25.467325421484237,9.422910405949168,6.112158101156217,25.467325421484237,8.913563897519483,12.733662710742118,50.93465084296847,44.56781948759741,8.65889064330464,50.93465084296847,19.100494066113175,6.621504609585901,10.186930168593694,12.733662710742118,19.100494066113175,50.93465084296847,4.456781948759741,16.29908826974991,38.20098813222635,50.93465084296847,31.834156776855295,5.093465084296847,8.786227270412061,70.03514490908165,50.93465084296847,12.733662710742118,25.467325421484237,12.733662710742118,14.00702898181633,5.730148219833953,19.100494066113175,25.467325421484237,19.100494066113175,27.935451276412376,29.718565187672738,29.718565187672738,29.718565187672738,44.57784778150911,4.457784778150911,11.887426075069095,29.718565187672738,29.718565187672738,7.429641296918184,44.57784778150911,4.457784778150911,14.859282593836369,2.748111035256818,43.391226872476075,16.199391365724402,18.802864978072964,0.5785496916330143,28.927484581650717,21.695613436238038,20.2492392071555,23.141987665320574,18.802864978072964,17.35649074899043,20.2492392071555,1.4463742290825359,1.735649074899043,23.141987665320574,1.4463742290825359,14.463742290825358,37.60572995614593,21.695613436238038,14.463742290825358,2.8927484581650718,27.48111035256818,11.570993832660287,11.570993832660287,9.256795066128229,1.1570993832660286,3.471298149798086,1.1570993832660286,24.588361894403107,27.770385198384687,0.5785496916330143,14.463742290825358,11.570993832660287,0.8678245374495215,23.141987665320574,2.8927484581650718,1.4463742290825359,17.35649074899043,26.034736123485644,1.735649074899043,2.8927484581650718,28.927484581650717,26.034736123485644,4.339122687247608,0.8678245374495215,17.35649074899043,17.35649074899043,2.8927484581650718,8.678245374495216,1.735649074899043,34.71298149798086,1.4463742290825359,3.471298149798086,34.71298149798086,34.71298149798086,2.314198766532057,6.364046607963157,28.927484581650717,26.034736123485644,2.314198766532057,10.12461960357775,4.339122687247608,34.71298149798086,3.1820233039815786,10.12461960357775,6.942596299596172,13.885192599192344,2.8927484581650718,23.141987665320574,21.695613436238038,26.034736123485644,26.034736123485644,11.570993832660287,23.141987665320574,19.959964361338994,5.206947224697129,2.0249239207155503,10.12461960357775,5.7854969163301435,2.8927484581650718,1.0124619603577751,31.820233039815786,1.4463742290825359,5.7854969163301435,2.8927484581650718,7.231871145412679,24.009812202770096,8.678245374495216,2.8927484581650718,2.0249239207155503,20.2492392071555,2.8927484581650718,8.388970528678708,47.730349559723685,2.8927484581650718,18.22431528643995,34.71298149798086,2.8927484581650718,14.463742290825358,26.034736123485644,17.35649074899043,4.0498478414311005,3.471298149798086,26.034736123485644,13.017368061742822,18.802864978072964,23.141987665320574,34.71298149798086,0.5785496916330143,18.802864978072964,23.141987665320574,23.141987665320574,5.7854969163301435,2.0249239207155503,20.2492392071555,15.910116519907893,0.5785496916330143,43.391226872476075,9.256795066128229,28.927484581650717,13.017368061742822,28.927484581650717,11.570993832660287,3.471298149798086,14.463742290825358,2.314198766532057,20.2492392071555,28.927484581650717,2.0249239207155503,23.141987665320574,34.71298149798086,11.570993832660287,1.735649074899043,75.98944591029024,42.21635883905013,36.93931398416886,42.21635883905013,47.4934036939314,36.93931398416886,36.93931398416886,15.831134564643799,36.93931398416886,33.773087071240106,36.93931398416886,10.554089709762533,16.886543535620053,42.21635883905013,55.93667546174142,36.93931398416886,20.052770448548813,26.385224274406333,21.108179419525065,10.554089709762533,21.108179419525065,36.93931398416886,26.385224274406333,42.21635883905013,52.770448548812666,58.04749340369393,72.82321899736148,10.554089709762533,26.385224274406333,42.21635883905013,36.93931398416886,47.4934036939314,52.770448548812666,44.327176781002635,79.15567282321899,14.775725593667547,52.770448548812666,47.4934036939314,40.105540897097626,16.886543535620053,58.04749340369393,39.050131926121374,47.4934036939314,47.4934036939314,47.4934036939314,47.4934036939314,23.218997361477573,42.21635883905013,42.21635883905013,40.105540897097626,36.93931398416886,37.99472295514512,26.385224274406333,20.052770448548813,21.108179419525065,10.554089709762533,36.93931398416886,42.21635883905013,24.274406332453825,20.052770448548813,36.93931398416886,13.720316622691293,42.21635883905013,52.770448548812666,47.4934036939314,26.385224274406333,15.831134564643799,26.385224274406333,52.770448548812666,47.4934036939314,31.662269129287598,29.551451187335093,34.82849604221636,36.93931398416886,42.21635883905013,45.382585751978894,25.329815303430077,36.93931398416886,52.770448548812666,15.831134564643799,18.99736147757256,52.770448548812666,41.16094986807388,21.108179419525065,41.16094986807388,15.831134564643799,26.385224274406333,36.93931398416886,36.93931398416886,21.108179419525065,29.551451187335093,26.385224274406333,47.4934036939314,12.664907651715039,20.052770448548813,36.93931398416886,20.052770448548813,26.385224274406333,16.886543535620053,34.82849604221636,31.662269129287598,17.941952506596305,36.93931398416886,28.496042216358838,36.93931398416886,36.93931398416886,31.662269129287598,41.16094986807388,15.831134564643799,25.329815303430077,20.052770448548813,36.93931398416886,40.105540897097626,26.385224274406333,23.218997361477573,39.050131926121374,21.108179419525065,33.773087071240106,47.4934036939314,36.93931398416886,31.662269129287598,26.385224274406333,41.16094986807388,17.941952506596305,16.886543535620053,15.831134564643799,14.775725593667547,36.93931398416886,31.662269129287598,16.886543535620053,36.93931398416886,40.105540897097626,36.93931398416886,21.108179419525065,28.496042216358838,26.385224274406333,20.052770448548813,47.4934036939314,51.715039577836414,58.04749340369393,36.93931398416886,11.609498680738787,47.4934036939314,36.93931398416886,23.218997361477573,52.770448548812666,35.88390501319261,33.773087071240106,47.4934036939314,15.831134564643799,21.108179419525065,31.662269129287598,30.606860158311346,31.662269129287598,15.831134564643799,63.324538258575195,26.385224274406333,26.385224274406333,36.93931398416886,15.831134564643799,26.385224274406333,47.4934036939314,47.4934036939314,31.662269129287598,28.496042216358838,42.21635883905013,16.886543535620053,47.4934036939314,20.052770448548813,44.327176781002635,36.93931398416886,21.108179419525065,25.329815303430077,26.385224274406333,16.886543535620053,13.720316622691293,36.93931398416886,26.385224274406333,33.773087071240106,18.99736147757256,42.21635883905013,47.4934036939314,23.218997361477573,42.21635883905013,42.21635883905013,52.770448548812666,36.93931398416886,37.99472295514512,40.105540897097626,47.4934036939314,42.21635883905013,36.93931398416886,47.4934036939314,52.770448548812666,15.831134564643799,13.720316622691293,39.050131926121374,31.662269129287598,21.108179419525065,36.93931398416886,47.4934036939314,44.327176781002635,27.440633245382585,47.4934036939314,34.82849604221636,24.274406332453825,23.218997361477573,33.773087071240106,23.218997361477573,52.770448548812666,26.385224274406333,36.93931398416886,41.16094986807388,47.4934036939314,47.4934036939314,18.99736147757256,52.770448548812666,40.105540897097626,42.21635883905013,21.108179419525065,51.715039577836414,36.93931398416886,21.108179419525065,42.21635883905013,36.93931398416886,47.4934036939314,52.770448548812666,14.775725593667547,35.88390501319261,33.773087071240106,36.93931398416886,50.659630606860155,52.770448548812666,49.6042216358839,47.4934036939314,42.21635883905013,25.329815303430077,45.382585751978894,36.93931398416886,15.831134564643799,47.4934036939314,21.108179419525065,14.775725593667547,36.93931398416886,37.99472295514512,52.770448548812666,47.4934036939314,26.385224274406333,36.93931398416886,22.163588390501317,33.773087071240106,47.4934036939314,11.609498680738787,42.21635883905013,36.93931398416886,59.10290237467019,42.21635883905013,44.327176781002635,47.4934036939314,47.4934036939314,21.108179419525065,47.4934036939314,58.04749340369393,36.93931398416886,21.108179419525065,42.21635883905013,63.324538258575195,47.4934036939314,33.773087071240106,39.050131926121374,47.4934036939314,30.606860158311346,42.21635883905013,42.21635883905013,28.496042216358838,40.105540897097626,41.16094986807388,42.21635883905013,52.770448548812666,36.93931398416886,52.770448548812666,24.274406332453825,30.606860158311346,18.844153466785833,30.663770984560024,30.663770984560024,15.331885492280012,11.498914119210008,30.663770984560024,30.663770984560024,15.331885492280012,30.663770984560024,38.32971373070003,22.997828238420016,11.498914119210008,7.665942746140006,7.665942746140006,22.997828238420016,7.665942746140006,11.498914119210008,7.665942746140006,34.496742357630026,15.331885492280012,45.99565647684003,22.997828238420016,7.665942746140006,11.498914119210008,45.99565647684003,26.830799611490022,15.331885492280012,7.665942746140006,15.331885492280012,30.663770984560024,45.99565647684003,11.498914119210008,7.665942746140006,38.32971373070003,7.665942746140006,45.99565647684003,38.32971373070003,45.99565647684003,15.331885492280012,22.997828238420016,22.997828238420016,11.498914119210008,11.498914119210008,45.99565647684003,7.665942746140006,11.498914119210008,38.32971373070003,38.32971373070003,22.997828238420016,19.164856865350014,30.663770984560024,34.496742357630026,22.997828238420016,22.997828238420016,7.665942746140006,45.99565647684003,30.663770984560024,7.665942746140006,22.997828238420016,26.830799611490022,11.498914119210008,38.32971373070003,45.99565647684003,11.498914119210008,30.663770984560024,7.665942746140006,11.498914119210008,15.331885492280012,15.331885492280012,15.331885492280012,11.498914119210008,7.665942746140006,30.663770984560024,7.665942746140006,11.498914119210008,30.663770984560024,22.997828238420016,30.663770984560024,30.663770984560024,26.830799611490022,7.665942746140006,22.997828238420016,42.16268510377003,7.665942746140006,11.498914119210008,30.663770984560024,38.32971373070003,7.665942746140006,22.997828238420016,45.99565647684003,7.665942746140006,34.496742357630026,30.663770984560024,38.32971373070003,11.498914119210008,15.331885492280012,7.665942746140006,45.99565647684003,45.99565647684003,42.16268510377003,7.665942746140006,38.32971373070003,7.665942746140006,7.665942746140006,38.32971373070003,11.498914119210008,38.32971373070003,11.498914119210008,7.665942746140006,38.32971373070003,7.665942746140006,26.830799611490022,7.665942746140006,38.32971373070003,11.498914119210008,15.331885492280012,22.997828238420016,38.32971373070003,11.498914119210008,38.32971373070003,38.32971373070003,7.665942746140006,30.663770984560024,26.830799611490022,26.830799611490022,30.663770984560024,26.830799611490022,7.665942746140006,7.665942746140006,38.32971373070003,38.32971373070003,26.830799611490022,45.99565647684003,7.665942746140006,11.498914119210008,26.830799611490022,30.663770984560024,38.32971373070003,30.663770984560024,7.665942746140006,45.99565647684003,38.32971373070003,30.663770984560024,11.498914119210008,22.997828238420016,7.665942746140006,26.830799611490022,45.99565647684003,26.830799611490022,38.32971373070003,38.32971373070003,7.665942746140006,7.665942746140006,30.663770984560024,38.32971373070003,7.665942746140006,38.32971373070003,45.99565647684003,15.331885492280012,7.665942746140006,11.498914119210008,11.498914119210008,7.665942746140006,38.32971373070003,30.663770984560024,11.498914119210008,22.997828238420016,19.164856865350014,42.16268510377003,7.665942746140006,11.498914119210008,38.32971373070003,45.99565647684003,7.665942746140006,7.665942746140006,30.663770984560024,30.663770984560024,19.164856865350014,38.32971373070003,15.331885492280012,7.665942746140006,45.99565647684003,30.663770984560024,7.665942746140006,45.99565647684003,7.665942746140006,11.498914119210008,22.997828238420016,34.496742357630026,15.331885492280012,11.498914119210008,45.99565647684003,22.997828238420016,30.663770984560024,7.665942746140006,30.663770984560024,11.498914119210008,30.663770984560024,26.830799611490022,15.331885492280012,30.663770984560024,45.99565647684003,26.830799611490022,38.32971373070003,30.663770984560024,19.164856865350014,45.99565647684003,30.663770984560024,30.663770984560024,38.32971373070003,7.665942746140006,11.498914119210008,22.997828238420016,11.498914119210008,15.331885492280012,30.663770984560024,7.665942746140006,11.498914119210008,7.665942746140006,22.997828238420016,45.99565647684003,45.99565647684003,7.665942746140006,26.830799611490022,7.665942746140006,11.498914119210008,22.997828238420016,7.665942746140006,19.62342952712323,7.849371810849291,39.24685905424646,32.96736160556703,21.97824107037802,19.62342952712323,33.752298786651956,23.548115432547874,30.612550062312238,38.46192187316153,47.09623086509575,27.47280133797252,46.31129368401082,15.698743621698583,25.902926975802664,29.04267570014238,9.41924617301915,19.62342952712323,21.97824107037802,41.60167059750125,41.60167059750125,10.98912053518901,25.117989794717733,9.811714763561614,7.849371810849291,66.71966039221898,8.63430899193422,39.24685905424646,35.32217314882181,32.96736160556703,31.397487243397165,59.65522576245462,10.98912053518901,35.32217314882181,25.902926975802664,35.32217314882181,14.913806440613655,7.849371810849291,35.32217314882181,5.494560267594505,32.96736160556703,43.1715449596711,30.612550062312238,47.09623086509575,35.32217314882181,41.60167059750125,27.47280133797252,62.79497448679433,10.98912053518901,51.020916770520394,35.32217314882181,19.62342952712323,33.752298786651956,19.62342952712323,15.698743621698583,21.97824107037802,13.343932078443796,15.698743621698583,45.52635650292589,45.382585751978894,21.108179419525065,31.662269129287598,52.770448548812666,21.108179419525065,20.052770448548813,15.831134564643799,52.770448548812666,15.831134564643799,42.21635883905013,42.21635883905013,21.108179419525065,42.21635883905013,36.93931398416886,26.385224274406333,50.659630606860155,36.93931398416886,26.385224274406333,39.050131926121374,36.93931398416886,50.659630606860155,26.385224274406333,52.770448548812666,42.21635883905013,21.108179419525065,26.385224274406333,31.662269129287598,36.93931398416886,29.551451187335093,47.4934036939314,29.551451187335093,31.662269129287598,26.385224274406333,15.831134564643799,26.385224274406333,18.99736147757256,27.440633245382585,29.551451187335093,21.108179419525065,15.831134564643799,15.831134564643799,26.385224274406333,15.831134564643799,49.6042216358839,33.773087071240106,36.93931398416886,26.385224274406333,50.659630606860155,43.27176781002638,23.218997361477573,26.385224274406333,31.662269129287598,63.324538258575195,31.662269129287598,31.662269129287598,31.662269129287598,26.385224274406333,29.551451187335093,36.93931398416886,21.108179419525065,73.87862796833772,31.662269129287598,31.662269129287598,26.385224274406333,42.21635883905013,26.385224274406333,18.99736147757256,64.37994722955145,33.773087071240106,47.4934036939314,63.324538258575195,33.773087071240106,68.60158311345647,31.662269129287598,47.4934036939314,26.385224274406333,44.327176781002635,52.770448548812666,52.770448548812666,47.4934036939314,26.385224274406333,14.775725593667547,31.662269129287598,26.385224274406333,42.21635883905013,35.88390501319261,70.71240105540898,29.551451187335093,44.327176781002635,46.437994722955146,36.93931398416886,26.385224274406333,26.385224274406333,50.659630606860155,41.16094986807388,42.21635883905013,36.93931398416886,21.108179419525065,37.99472295514512,36.93931398416886,47.4934036939314,25.329815303430077,36.93931398416886,26.385224274406333,42.21635883905013,26.385224274406333,21.108179419525065,58.04749340369393,23.218997361477573,42.21635883905013,63.324538258575195,26.385224274406333,40.105540897097626,41.16094986807388,36.93931398416886,18.99736147757256,36.93931398416886,45.382585751978894,36.93931398416886,47.4934036939314,33.773087071240106,15.831134564643799,21.108179419525065,26.385224274406333,21.108179419525065,36.93931398416886,52.770448548812666,63.324538258575195,13.720316622691293,42.21635883905013,42.21635883905013,29.551451187335093,52.770448548812666,63.324538258575195,12.664907651715039,31.662269129287598,21.108179419525065,15.831134564643799,26.385224274406333,42.21635883905013,31.662269129287598,26.385224274406333,15.831134564643799,52.770448548812666,15.831134564643799,45.382585751978894,42.21635883905013,18.99736147757256,34.82849604221636,47.4934036939314,28.496042216358838,47.4934036939314,61.21372031662269,47.4934036939314,31.662269129287598,26.385224274406333,42.21635883905013,26.385224274406333,21.108179419525065,47.4934036939314,26.385224274406333,40.105540897097626,31.662269129287598,26.385224274406333,26.385224274406333,36.93931398416886,16.886543535620053,47.4934036939314,26.385224274406333,36.93931398416886,12.664907651715039,21.108179419525065,42.21635883905013,31.662269129287598,50.659630606860155,36.93931398416886,25.329815303430077,15.831134564643799,55.93667546174142,21.108179419525065,36.93931398416886,52.770448548812666,40.105540897097626,58.04749340369393,52.770448548812666,33.773087071240106,52.770448548812666,21.108179419525065,40.105540897097626,40.105540897097626,70.71240105540898,51.715039577836414,21.108179419525065,26.385224274406333,36.93931398416886,26.385224274406333,43.27176781002638,35.88390501319261,31.662269129287598,40.105540897097626,55.93667546174142,42.21635883905013,48.54881266490765,22.163588390501317,21.108179419525065,50.659630606860155,42.21635883905013,47.4934036939314,47.4934036939314,47.4934036939314,68.60158311345647,23.218997361477573,15.831134564643799,21.108179419525065,14.775725593667547,52.770448548812666,15.831134564643799,12.664907651715039,31.662269129287598,52.770448548812666,47.4934036939314,40.105540897097626,36.93931398416886,44.327176781002635,31.662269129287598,68.60158311345647,60.15831134564644,42.21635883905013,75.98944591029024,47.4934036939314,15.831134564643799,42.21635883905013,55.93667546174142,47.4934036939314,53.82585751978892,47.4934036939314,33.773087071240106,84.43271767810026,21.108179419525065,31.662269129287598,26.385224274406333,40.105540897097626,42.21635883905013,15.831134564643799,47.4934036939314,42.21635883905013,31.662269129287598,42.21635883905013,18.99736147757256,21.108179419525065,30.606860158311346,31.662269129287598,47.4934036939314,29.551451187335093,36.93931398416886,52.770448548812666,50.34610312735668,16.641598941678566,27.384909650863467,34.757769941480554,28.143260995041224,44.57784778150911,29.718565187672738,14.859282593836369,23.77485215013819,29.718565187672738,5.943713037534548,14.859282593836369,14.562096941959641,37.14820648459092,44.57784778150911,14.859282593836369,29.718565187672738,17.831139112603644,44.57784778150911,37.14820648459092,14.859282593836369,22.288923890754553,14.859282593836369,44.57784778150911,7.429641296918184,7.665942746140006,38.32971373070003,38.32971373070003,7.665942746140006,15.331885492280012,7.665942746140006,38.32971373070003,11.498914119210008,7.665942746140006,38.32971373070003,19.164856865350014,45.99565647684003,11.498914119210008,22.997828238420016,7.665942746140006,7.665942746140006,38.32971373070003,38.32971373070003,30.663770984560024,7.665942746140006,15.331885492280012,15.331885492280012,11.498914119210008,38.32971373070003,7.665942746140006,7.665942746140006,22.997828238420016,7.665942746140006,7.665942746140006,19.164856865350014,42.16268510377003,30.663770984560024,7.665942746140006,30.663770984560024,34.496742357630026,30.663770984560024,7.665942746140006,34.496742357630026,7.665942746140006,30.663770984560024,30.663770984560024,7.665942746140006,7.665942746140006,30.663770984560024,30.663770984560024,38.32971373070003,38.32971373070003,30.663770984560024,7.665942746140006,22.997828238420016,7.665942746140006,7.665942746140006,15.331885492280012,45.99565647684003,15.331885492280012,30.663770984560024,30.663770984560024,45.99565647684003,22.997828238420016,11.498914119210008,38.32971373070003,30.663770984560024,7.665942746140006,11.498914119210008,22.997828238420016,15.331885492280012,30.663770984560024,15.331885492280012,34.496742357630026,7.665942746140006,7.665942746140006,26.830799611490022,30.663770984560024,7.665942746140006,19.164856865350014,22.997828238420016,38.32971373070003,7.665942746140006,15.331885492280012,7.665942746140006,7.665942746140006,22.997828238420016,30.663770984560024,22.997828238420016,7.665942746140006,7.665942746140006,7.665942746140006,7.665942746140006,38.32971373070003,45.99565647684003,11.498914119210008,7.665942746140006,26.830799611490022,22.997828238420016,38.32971373070003,7.665942746140006,7.665942746140006,7.665942746140006,11.498914119210008,22.997828238420016,7.665942746140006,7.665942746140006,42.16268510377003,7.665942746140006,7.665942746140006,7.665942746140006,7.665942746140006,7.665942746140006,7.665942746140006,22.997828238420016,11.498914119210008,11.498914119210008,15.331885492280012,30.663770984560024,7.665942746140006,11.498914119210008,22.997828238420016,7.665942746140006,7.665942746140006,42.16268510377003,45.99565647684003,38.32971373070003,38.32971373070003,38.32971373070003,45.99565647684003,30.663770984560024,11.498914119210008,7.665942746140006,15.331885492280012,19.164856865350014,26.830799611490022,22.997828238420016,7.665942746140006,45.99565647684003,7.665942746140006,7.665942746140006,11.498914119210008,22.997828238420016,30.663770984560024,22.997828238420016,7.665942746140006,45.99565647684003,30.663770984560024,15.331885492280012,7.665942746140006,38.32971373070003,45.99565647684003,42.16268510377003,15.331885492280012,30.663770984560024,26.830799611490022,7.665942746140006,15.331885492280012,11.498914119210008,38.32971373070003,15.331885492280012,7.665942746140006,7.665942746140006,7.665942746140006,30.663770984560024,30.663770984560024,45.99565647684003,22.997828238420016,30.663770984560024,11.498914119210008,11.498914119210008,45.99565647684003,7.665942746140006,15.331885492280012,30.663770984560024,15.331885492280012,15.331885492280012,7.665942746140006,7.665942746140006,22.997828238420016,7.665942746140006,11.498914119210008,7.665942746140006,15.331885492280012,26.830799611490022,7.665942746140006,7.665942746140006,45.99565647684003,11.498914119210008,15.331885492280012,11.498914119210008,11.498914119210008,34.496742357630026,42.16268510377003,22.997828238420016,22.997828238420016,7.665942746140006,30.663770984560024,38.32971373070003,45.99565647684003,7.665942746140006,42.16268510377003,11.498914119210008,45.99565647684003,38.32971373070003,11.498914119210008,45.99565647684003,30.663770984560024,38.32971373070003,38.32971373070003,30.663770984560024,7.665942746140006,45.99565647684003,22.997828238420016,11.498914119210008,50.0,50.0,25.0,18.0,50.0,25.0,25.0,30.0,25.0,30.0,50.0,50.0,44.0,60.0,45.0,50.0,25.0,50.0,50.0,45.0,44.0,55.0,20.0,32.0,60.0,35.0,50.0,40.0,60.0,50.0,50.0,50.0,50.0,50.0,42.0,20.0,44.0,44.0,39.0,50.0,50.0,44.0,25.0,45.0,50.0,44.0,55.0,50.0,50.0,50.0,50.0,50.0,50.0,30.0,40.0,35.0,12.0,44.0,44.0,65.0,50.0,50.0,50.0,25.0,50.0,60.0,42.0,25.0,50.0,25.0,25.0,35.0,50.0,15.0,31.0,27.0,50.0,25.0,50.0,50.0,38.0,45.0,58.0,25.0,25.0,30.0,6.0,50.0,55.0,50.0,45.0,60.0,50.0,50.0,50.0,60.0,44.0,25.0,24.0,30.0,20.0,50.0,50.0,50.0,30.0,44.0,30.0,50.0,50.0,60.0,50.0,15.0,25.0,50.0,50.0,16.0,75.0,40.0,50.0,40.0,50.0,50.0,50.0,65.0,58.0,30.0,33.0,50.0,50.0,78.0,80.0,55.0,70.0,38.0,35.0,39.0,41.0,25.0,49.0,63.0,50.0,50.0,24.0,42.0,42.21635883905013,50.659630606860155,42.21635883905013,51.715039577836414,42.21635883905013,21.108179419525065,42.21635883905013,29.718565187672738,11.887426075069095,37.14820648459092,22.288923890754553,44.57784778150911,16.04802520134328,4.457784778150911,29.718565187672738,29.718565187672738,17.831139112603644,4.457784778150911,4.457784778150911,29.718565187672738,4.457784778150911,29.718565187672738,5.943713037534548,3.714820648459092,17.831139112603644,22.288923890754553,29.718565187672738,22.288923890754553,14.859282593836369,3.714820648459092,4.7549704300276385,8.172605426610003,29.718565187672738,19.31706737198728,22.288923890754553,29.718565187672738,44.57784778150911,29.718565187672738,29.569972361734376,54.64426582945028,72.03107768427537,54.14749977645528,30.79949528569016,47.68954108752025,49.67660529950026,49.17983924650525,45.702476875540235,42.22511450457522,35.27038976264518,39.244518186605205,39.244518186605205,57.123272021021364,18.175586552143162,68.60158311345647,59.10290237467019,99.02670891806247,49.513354459031234,60.1233589859665,70.02602987777274,70.73336351290176,37.488682661837935,89.83137166138523,60.1233589859665,50.22068809416025,56.58669081032141,55.17202354006337,60.1233589859665,43.14735174287007,70.73336351290176,41.73268447261204,11.206051267684549,28.435355091749543,49.0264742961199,28.015128169211373,40.62193584535649,50.427230704580474,56.030256338422745,21.711724331138814,23.812858943829667,52.94859223980949,42.02269225381706,56.030256338422745,18.209833309987392,1.438124685410225,3.5953117135255623,32.35780542173006,2.87624937082045,1.438124685410225,21.571870281153377,17.976558567627812,32.35780542173006,17.976558567627812,4.314374056230675,21.571870281153377,7.190623427051125,7.190623427051125,17.976558567627812,4.314374056230675,4.314374056230675,3.5953117135255623,25.167181994678938,20.13374559574315,28.7624937082045,10.785935140576688,3.5953117135255623,5.0334363989357875,7.190623427051125,27.324369022794276,3.5953117135255623,60.40123678722945,2.1571870281153376,27.324369022794276,13.662184511397138,15.100309196807363,2.87624937082045,17.976558567627812,2.87624937082045,21.571870281153377,14.38124685410225,5.0334363989357875,21.571870281153377,64.71561084346013,7.190623427051125,2.87624937082045,5.7524987416409,28.7624937082045,3.5953117135255623,3.5953117135255623,10.785935140576688,7.190623427051125,64.71561084346013,5.7524987416409,4.314374056230675,10.785935140576688,4.314374056230675,53.929675702883436,5.7524987416409,71.90623427051125,7.909685769756238,17.2574962249227,10.785935140576688,21.571870281153377,7.190623427051125,2.87624937082045,32.35780542173006,8.62874811246135,3.5953117135255623,4.314374056230675,7.190623427051125,17.976558567627812,4.314374056230675,7.190623427051125,13.472685813598655,10.104514360198992,20.209028720397985,5.052257180099496,33.68171453399664,33.68171453399664,10.104514360198992,10.104514360198992,0.5052257180099496,26.94537162719731,10.104514360198992,15.493588685638455,13.472685813598655,6.736342906799328,26.94537162719731,1.8524942993698152,6.736342906799328,16.84085726699832,16.84085726699832,3.7049885987396305,5.052257180099496,13.472685813598655,33.68171453399664,26.94537162719731,13.068505239190696,20.209028720397985,9.430880069519059,16.84085726699832,16.84085726699832,10.104514360198992,16.84085726699832,10.104514360198992,16.84085726699832,3.199762880729681,13.472685813598655,33.68171453399664,16.84085726699832,26.94537162719731,23.57720017379765,6.736342906799328,20.209028720397985,3.0313543080596976,33.68171453399664,10.104514360198992,13.472685813598655,3.368171453399664,20.209028720397985,3.873397171409614,5.894300043449412,0.471544003475953,3.368171453399664,16.84085726699832,12.799051522918724,33.68171453399664,26.94537162719731,10.104514360198992,39.744423150116035,5.052257180099496,6.736342906799328,16.84085726699832,5.052257180099496,15.156771540298488,33.68171453399664,10.104514360198992,4.041805744079597,26.94537162719731,2.1893114447097815,6.736342906799328,4.041805744079597,26.94537162719731,13.472685813598655,6.736342906799328,26.94537162719731,33.68171453399664,33.68171453399664,10.104514360198992,5.725891470779429,6.736342906799328,20.209028720397985,3.368171453399664,4.041805744079597,33.68171453399664,13.472685813598655,26.94537162719731,23.57720017379765,8.42042863349916,20.209028720397985,26.94537162719731,8.42042863349916,16.84085726699832,35.0,50.0,50.0,25.0,40.0,20.0,50.0,50.0,50.0,50.0,45.0,30.0,50.0,50.0,50.0,25.0,50.0,25.0,50.0,50.0,25.0,25.0,40.0,50.0,50.0,50.0,25.0,70.0,22.0,40.0,50.0,25.0,50.0,25.0,50.0,50.0,40.0,50.0,50.0,45.0,50.0,12.0,50.0,50.0,130.0,15.0,45.0,25.0,49.0,100.0,25.0,52.0,19.0,50.0,50.0,25.0,25.0,30.0,30.0,30.0,22.0,50.0,50.0,50.0,50.0,50.0,30.0,40.0,25.0,25.0,25.0,50.0,44.0,40.0,25.0,25.0,25.0,65.0,50.0,50.0,50.0,50.0,28.0,26.0,50.0,50.0,50.0,45.0,50.0,25.0,30.0,60.0,30.0,50.0,50.0,25.0,50.0,20.0,50.0,50.0,50.0,50.0,50.0,50.0,25.0,40.0,40.0,18.0,30.0,50.0,65.0,50.0,30.0,25.0,50.0,50.0,50.0,30.0,25.0,50.0,50.0,38.0,50.0,30.0,50.0,50.0,50.0,40.0,48.0,50.0,50.0,45.0,38.0,25.0,30.0,44.0,50.0,40.0,40.0,22.0,215.0,40.0,50.0,20.0,50.0,30.0,50.0,50.0,25.0,75.0,25.0,50.0,40.0,50.0,50.0,70.0,50.0,65.0,40.0,52.0,50.0,50.0,41.0,35.0,50.0,50.0,50.0,50.0,50.0,50.0,40.0,30.0,50.0,25.0,50.0,35.0,45.0,31.0,55.0,50.0,50.0,50.0,50.0,25.0,50.0,50.0,50.0,50.0,50.0,20.0,30.0,30.0,36.0,50.0,38.0,50.0,60.0,50.0,25.0,50.0,50.0,25.0,25.0,50.0,25.0,50.0,50.0,50.0,60.0,50.0,30.0,50.0,25.0,25.0,50.0,25.0,50.0,40.0,50.0,13.0,50.0,41.16094986807388,36.93931398416886,36.93931398416886,41.16094986807388,41.16094986807388,41.16094986807388,39.050131926121374,41.16094986807388,59.10290237467019,39.050131926121374,39.050131926121374,42.21635883905013,41.16094986807388,41.16094986807388,41.16094986807388,31.662269129287598,41.16094986807388,41.16094986807388,41.16094986807388,30.606860158311346,35.88390501319261,41.16094986807388,41.16094986807388,22.163588390501317,40.105540897097626,41.16094986807388,41.16094986807388,26.385224274406333,21.108179419525065,37.99472295514512,39.050131926121374,35.88390501319261,41.16094986807388,39.050131926121374,31.662269129287598,33.773087071240106,41.16094986807388,41.16094986807388,36.93931398416886,40.105540897097626,29.551451187335093,31.662269129287598,41.16094986807388,30.606860158311346,41.16094986807388,26.385224274406333,41.16094986807388,41.16094986807388,40.105540897097626,41.16094986807388,41.16094986807388,41.16094986807388,41.16094986807388,47.4934036939314,33.773087071240106,35.88390501319261,34.82849604221636,41.16094986807388,41.16094986807388,40.105540897097626,40.105540897097626,36.93931398416886,31.662269129287598,41.16094986807388,15.831134564643799,41.16094986807388,39.050131926121374,41.16094986807388,33.773087071240106,41.16094986807388,41.16094986807388,32.71767810026385,31.662269129287598,33.773087071240106,41.16094986807388,41.16094986807388,41.16094986807388,31.662269129287598,41.16094986807388,39.050131926121374,31.662269129287598,29.551451187335093,45.382585751978894,39.050131926121374,41.16094986807388,36.93931398416886,33.773087071240106,41.16094986807388,21.108179419525065,41.16094986807388,21.108179419525065,79.15567282321899,41.16094986807388,42.21635883905013,41.16094986807388,41.16094986807388,41.16094986807388,34.82849604221636,40.105540897097626,41.16094986807388,39.050131926121374,26.385224274406333,32.71767810026385,63.324538258575195,41.16094986807388,45.382585751978894,41.16094986807388,39.050131926121374,29.551451187335093,31.662269129287598,41.16094986807388,36.93931398416886,36.93931398416886,41.16094986807388,34.82849604221636,41.16094986807388,41.16094986807388,51.37503777576307,74.54417245895034,35.25737886571975,89.65447768711594,46.33826936637453,33.24267150196434,38.279439911352874,50.36768409388536,29.21325677445351,68.5000503676841,98.72066082401531,52.38239145764078,34.25002518384205,99.72801450589301,52.38239145764078,68.5000503676841,35.25737886571975,48.352976730129946,117.86038077969175,37.27208622947517,73.53681877707263,49.360330412007656,55.404452503273895,32.23531782008663,95.69859977838219,74.54417245895034,96.70595346025989,55.404452503273895,70.5147577314395,84.61770927772741,74.54417245895034,65.47798932205097,39.286793593230584,70.5147577314395,102.75007555152614,50.36768409388536,78.57358718646117,48.352976730129946,29.21325677445351,50.36768409388536,93.68389241462677,28.205903092575802,52.38239145764078,69.5074040495618,99.72801450589301,24.176488365064973,64.47063564017326,35.25737886571975,38.279439911352874,104.76478291528156,65.47798932205097,27.198549410698096,55.404452503273895,65.47798932205097,125.9192102347134,50.36768409388536,37.27208622947517,32.23531782008663,52.38239145764078,48.352976730129946,45.33091568449682,85.62506295960512,60.44122091266244,95.69859977838219,45.33091568449682,75.55152614082805,63.46328195829555,64.47063564017326,39.286793593230584,32.23531782008663,59.43386723078473,59.43386723078473,40.29414727510829,84.61770927772741,42.30885463886371,71.52211141331722,68.5000503676841,58.42651354890702,65.47798932205097,38.279439911352874,116.85302709781404,55.404452503273895,78.57358718646117,54.39709882139619,65.47798932205097,56.411806185151605,30.22061045633122,49.360330412007656,90.66183136899365,51.37503777576307,36.26473254759746,84.61770927772741,68.5000503676841,84.61770927772741,32.23531782008663,65.47798932205097,62.45592827641785,75.55152614082805,32.23531782008663,45.33091568449682,94.69124609650449,50.36768409388536,68.5000503676841,42.30885463886371,38.279439911352874,79.58094086833887,25.18384204694268,50.36768409388536,34.25002518384205,57.419159867029315,86.63241664148282,39.286793593230584,89.65447768711594,69.5074040495618,33.24267150196434,77.56623350458345,65.47798932205097,86.63241664148282,55.404452503273895,89.65447768711594,37.27208622947517,70.5147577314395,30.22061045633122,49.360330412007656,119.87508814344716,36.26473254759746,88.64712400523824,69.5074040495618,74.54417245895034,21.154427319431854,52.38239145764078,74.54417245895034,20.147073637554143,85.62506295960512,85.62506295960512,55.404452503273895,36.93931398416886,27.440633245382585,18.99736147757256,41.16094986807388,36.93931398416886,30.606860158311346,36.93931398416886,21.108179419525065,36.93931398416886,34.82849604221636,34.82849604221636,36.93931398416886,29.551451187335093,28.496042216358838,52.770448548812666,34.82849604221636,36.93931398416886,30.606860158311346,35.88390501319261,21.108179419525065,23.218997361477573,33.773087071240106,32.71767810026385,26.385224274406333,28.496042216358838,24.274406332453825,28.496042216358838,35.88390501319261,36.93931398416886,29.551451187335093,36.93931398416886,35.88390501319261,36.93931398416886,42.21635883905013,23.218997361477573,27.440633245382585,21.108179419525065,36.93931398416886,35.88390501319261,25.329815303430077,35.88390501319261,34.82849604221636,23.218997361477573,34.82849604221636,35.88390501319261,26.385224274406333,40.105540897097626,35.88390501319261,47.4934036939314,36.93931398416886,21.108179419525065,36.93931398416886,26.385224274406333,36.93931398416886,25.329815303430077,33.773087071240106,59.10290237467019,36.93931398416886,26.385224274406333,23.218997361477573,34.82849604221636,36.93931398416886,30.606860158311346,31.662269129287598,35.88390501319261,36.93931398416886,28.496042216358838,36.93931398416886,46.437994722955146,23.218997361477573,26.385224274406333,31.662269129287598,39.050131926121374,23.218997361477573,68.60158311345647,26.385224274406333,39.050131926121374,41.16094986807388,32.71767810026385,26.385224274406333,25.329815303430077,22.163588390501317,25.329815303430077,27.440633245382585,23.218997361477573,35.88390501319261,22.163588390501317,27.440633245382585,25.329815303430077,27.440633245382585,26.385224274406333,33.773087071240106,40.105540897097626,40.105540897097626,35.88390501319261,33.773087071240106,35.88390501319261,36.93931398416886,36.93931398416886,25.329815303430077,34.82849604221636,21.108179419525065,63.324538258575195,26.385224274406333,25.329815303430077,30.606860158311346,36.93931398416886,31.662269129287598,35.88390501319261,36.93931398416886,36.93931398416886,31.662269129287598,16.886543535620053,33.773087071240106,26.385224274406333,26.385224274406333,41.16094986807388,23.218997361477573,27.440633245382585,24.274406332453825,33.773087071240106,29.551451187335093,63.324538258575195,26.385224274406333,18.99736147757256,25.329815303430077,24.274406332453825,21.108179419525065,34.82849604221636,40.105540897097626,28.496042216358838,36.93931398416886,22.163588390501317,34.82849604221636,45.382585751978894,36.93931398416886,25.329815303430077,34.82849604221636,25.329815303430077,21.108179419525065,36.93931398416886,40.105540897097626,36.93931398416886,26.385224274406333,36.93931398416886,34.82849604221636,21.108179419525065,47.4934036939314,36.93931398416886,35.88390501319261,29.551451187335093,22.163588390501317,63.324538258575195,23.218997361477573,26.385224274406333,30.606860158311346,36.93931398416886,36.93931398416886,26.385224274406333,52.770448548812666,30.606860158311346,30.606860158311346,36.93931398416886,15.831134564643799,27.440633245382585,31.662269129287598,52.770448548812666,18.99736147757256,28.496042216358838,20.052770448548813,24.274406332453825,26.385224274406333,35.88390501319261,25.329815303430077,21.108179419525065,22.163588390501317,40.105540897097626,17.941952506596305,23.218997361477573,36.93931398416886,27.440633245382585,36.93931398416886,40.105540897097626,36.93931398416886,23.218997361477573,18.99736147757256,33.773087071240106,35.88390501319261,25.329815303430077,22.163588390501317,36.93931398416886,31.662269129287598,23.218997361477573,35.88390501319261,33.773087071240106,22.163588390501317,27.440633245382585,48.54881266490765,36.93931398416886,52.770448548812666,23.218997361477573,26.385224274406333,36.93931398416886,26.385224274406333,24.274406332453825,24.274406332453825,26.385224274406333,20.052770448548813,36.93931398416886,18.99736147757256,39.050131926121374,43.27176781002638,35.88390501319261,33.773087071240106,36.93931398416886,36.93931398416886,36.93931398416886,46.437994722955146,15.831134564643799,29.551451187335093,31.662269129287598,20.052770448548813,35.88390501319261,36.93931398416886,35.88390501319261,21.108179419525065,36.93931398416886,20.052770448548813,28.496042216358838,30.606860158311346,44.327176781002635,28.496042216358838,28.496042216358838,23.218997361477573,28.496042216358838,36.93931398416886,21.108179419525065,26.385224274406333,36.93931398416886,31.662269129287598,36.93931398416886,35.88390501319261,21.108179419525065,36.93931398416886,26.385224274406333,36.93931398416886,33.773087071240106,33.773087071240106,40.105540897097626,26.385224274406333,35.88390501319261,34.82849604221636,26.385224274406333,36.93931398416886,36.93931398416886,21.108179419525065,33.773087071240106,17.941952506596305,23.218997361477573,18.99736147757256,18.99736147757256,25.329815303430077,36.93931398416886,21.108179419525065,26.385224274406333,33.773087071240106,36.93931398416886,36.93931398416886,40.105540897097626,36.93931398416886,35.88390501319261,35.88390501319261,36.93931398416886,17.941952506596305,35.88390501319261,36.93931398416886,29.551451187335093,36.93931398416886,36.93931398416886,24.274406332453825,28.496042216358838,33.773087071240106,41.16094986807388,36.93931398416886,22.163588390501317,36.93931398416886,30.606860158311346,26.385224274406333,29.551451187335093,33.773087071240106,25.329815303430077,36.93931398416886,36.93931398416886,24.274406332453825,40.105540897097626,23.218997361477573,36.93931398416886,26.385224274406333,46.437994722955146,33.773087071240106,42.21635883905013,21.108179419525065,33.773087071240106,30.606860158311346,33.773087071240106,52.770448548812666,26.385224274406333,33.773087071240106,35.88390501319261,26.385224274406333,28.496042216358838,35.88390501319261,35.88390501319261,34.82849604221636,23.218997361477573,36.93931398416886,23.218997361477573,21.108179419525065,35.88390501319261,27.440633245382585,20.052770448548813,47.4934036939314,20.052770448548813,60.15831134564644,25.329815303430077,25.329815303430077,26.385224274406333,25.329815303430077,27.440633245382585,23.218997361477573,36.93931398416886,23.218997361477573,34.82849604221636,23.218997361477573,31.662269129287598,63.324538258575195,21.108179419525065,25.329815303430077,36.93931398416886,26.385224274406333,25.329815303430077,36.93931398416886,25.329815303430077,24.274406332453825,36.93931398416886,36.93931398416886,36.93931398416886,34.82849604221636,21.108179419525065,33.773087071240106,35.88390501319261,29.551451187335093,44.327176781002635,34.82849604221636,26.385224274406333,28.496042216358838,22.163588390501317,25.329815303430077,23.218997361477573,46.437994722955146,30.606860158311346,36.93931398416886,29.551451187335093,23.218997361477573,20.052770448548813,35.88390501319261,35.88390501319261,26.385224274406333,21.108179419525065,24.274406332453825,35.88390501319261,33.773087071240106,36.93931398416886,36.93931398416886,36.93931398416886,25.329815303430077,29.551451187335093,34.82849604221636,36.93931398416886,35.88390501319261,52.770448548812666,31.662269129287598,41.16094986807388,30.606860158311346,35.88390501319261,36.93931398416886,23.218997361477573,26.385224274406333,37.99472295514512,18.99736147757256,47.4934036939314,33.773087071240106,30.606860158311346,22.163588390501317,20.052770448548813,25.329815303430077,33.773087071240106,30.606860158311346,26.385224274406333,37.99472295514512,36.93931398416886,36.93931398416886,41.16094986807388,64.37994722955145,40.105540897097626,42.21635883905013,26.385224274406333,26.385224274406333,30.606860158311346,34.82849604221636,35.88390501319261,34.82849604221636,35.88390501319261,41.16094986807388,26.385224274406333,35.88390501319261,39.050131926121374,32.71767810026385,26.385224274406333,28.496042216358838,47.4934036939314,35.88390501319261,33.773087071240106,36.93931398416886,29.551451187335093,20.052770448548813,39.050131926121374,35.88390501319261,35.88390501319261,29.551451187335093,23.218997361477573,36.93931398416886,33.773087071240106,23.218997361477573,47.4934036939314,35.88390501319261,36.93931398416886,25.329815303430077,23.218997361477573,31.662269129287598,27.440633245382585,27.440633245382585,30.606860158311346,28.496042216358838,16.886543535620053,39.050131926121374,36.93931398416886,20.052770448548813,35.88390501319261,20.052770448548813,36.93931398416886,25.329815303430077,28.496042216358838,22.163588390501317,35.88390501319261,29.551451187335093,40.105540897097626,35.88390501319261,31.662269129287598,40.105540897097626,24.274406332453825,26.385224274406333,33.773087071240106,33.773087071240106,24.274406332453825,36.93931398416886,23.218997361477573,22.163588390501317,20.052770448548813,36.93931398416886,34.82849604221636,23.218997361477573,24.274406332453825,35.88390501319261,36.93931398416886,34.82849604221636,33.773087071240106,29.551451187335093,33.773087071240106,36.93931398416886,30.606860158311346,26.385224274406333,18.99736147757256,36.93931398416886,40.105540897097626,23.218997361477573,28.496042216358838,36.93931398416886,43.27176781002638,18.99736147757256,41.16094986807388,52.770448548812666,41.16094986807388,17.941952506596305,26.385224274406333,22.163588390501317,21.108179419525065,23.218997361477573,35.88390501319261,37.99472295514512,34.82849604221636,18.99736147757256,41.16094986807388,41.16094986807388,41.16094986807388,17.941952506596305,41.16094986807388,41.16094986807388,16.886543535620053,18.99736147757256,24.274406332453825,34.82849604221636,41.16094986807388,24.274406332453825,31.662269129287598,41.16094986807388,52.770448548812666,31.662269129287598,31.662269129287598,41.16094986807388,29.551451187335093,30.606860158311346,20.052770448548813,22.163588390501317,41.16094986807388,26.385224274406333,34.82849604221636,31.662269129287598,41.16094986807388,63.324538258575195,31.662269129287598,34.82849604221636,43.27176781002638,21.108179419525065,73.87862796833772,36.93931398416886,39.050131926121374,23.218997361477573,24.274406332453825,24.274406332453825,14.775725593667547,63.324538258575195,36.93931398416886,31.662269129287598,58.04749340369393,41.16094986807388,39.050131926121374,41.16094986807388,39.050131926121374,30.606860158311346,15.831134564643799,34.82849604221636,41.16094986807388,44.327176781002635,15.831134564643799,27.440633245382585,58.04749340369393,18.99736147757256,41.16094986807388,18.99736147757256,22.163588390501317,41.16094986807388,39.050131926121374,15.831134564643799,26.385224274406333,26.385224274406333,41.16094986807388,27.440633245382585,21.108179419525065,25.329815303430077,41.16094986807388,41.16094986807388,41.16094986807388,26.385224274406333,37.99472295514512,41.16094986807388,41.16094986807388,40.105540897097626,47.4934036939314,63.324538258575195,20.052770448548813,41.16094986807388,41.16094986807388,41.16094986807388,36.93931398416886,30.606860158311346,26.385224274406333,47.4934036939314,41.16094986807388,26.385224274406333,13.720316622691293,18.99736147757256,41.16094986807388,12.664907651715039,25.329815303430077,41.16094986807388,26.385224274406333,31.662269129287598,24.274406332453825,41.16094986807388,45.382585751978894,41.16094986807388,35.88390501319261,31.662269129287598,29.551451187335093,39.050131926121374,20.052770448548813,68.60158311345647,47.4934036939314,27.440633245382585,32.71767810026385,34.82849604221636,41.16094986807388,28.496042216358838,41.16094986807388,28.496042216358838,28.496042216358838,41.16094986807388,23.218997361477573,29.551451187335093,41.16094986807388,26.385224274406333,39.050131926121374,63.324538258575195,24.274406332453825,31.662269129287598,47.4934036939314,51.715039577836414,16.886543535620053,43.27176781002638,41.16094986807388,27.440633245382585,25.329815303430077,30.606860158311346,40.105540897097626,18.99736147757256,31.662269129287598,31.662269129287598,30.606860158311346,41.16094986807388,26.385224274406333,20.052770448548813,27.440633245382585,31.662269129287598,41.16094986807388,31.662269129287598,34.82849604221636,41.16094986807388,73.87862796833772,28.496042216358838,33.773087071240106,41.16094986807388,36.93931398416886,37.09271225816528,29.283720203814692,23.426976163051755,10.737364074732055,37.09271225816528,37.09271225816528,8.199441657068114,9.566015266579466,9.175565663861937,5.856744040762939,21.47472814946411,14.056185697831053,21.47472814946411,7.61376725299182,27.331472190227046,23.426976163051755,21.47472814946411,29.283720203814692,29.283720203814692,8.199441657068114,28.307596197020867,34.750014641860105,9.175565663861937,9.370790465220702,9.76124006793823,10.542139273373289,11.127813677449582,39.04496027175292,25.3792241766394,7.808992054350584,9.566015266579466,16.789332916853756,23.426976163051755,35.14046424457763,8.980340862503173,25.3792241766394,14.056185697831053,42.94945629892822,9.566015266579466,40.49129437171008,39.36653619471814,9.223017051333963,52.86363431862149,35.092455122148735],\"x0\":\" \",\"xaxis\":\"x\",\"y0\":\" \",\"yaxis\":\"y\",\"type\":\"box\"}],                        {\"template\":{\"data\":{\"bar\":[{\"error_x\":{\"color\":\"#2a3f5f\"},\"error_y\":{\"color\":\"#2a3f5f\"},\"marker\":{\"line\":{\"color\":\"#E5ECF6\",\"width\":0.5},\"pattern\":{\"fillmode\":\"overlay\",\"size\":10,\"solidity\":0.2}},\"type\":\"bar\"}],\"barpolar\":[{\"marker\":{\"line\":{\"color\":\"#E5ECF6\",\"width\":0.5},\"pattern\":{\"fillmode\":\"overlay\",\"size\":10,\"solidity\":0.2}},\"type\":\"barpolar\"}],\"carpet\":[{\"aaxis\":{\"endlinecolor\":\"#2a3f5f\",\"gridcolor\":\"white\",\"linecolor\":\"white\",\"minorgridcolor\":\"white\",\"startlinecolor\":\"#2a3f5f\"},\"baxis\":{\"endlinecolor\":\"#2a3f5f\",\"gridcolor\":\"white\",\"linecolor\":\"white\",\"minorgridcolor\":\"white\",\"startlinecolor\":\"#2a3f5f\"},\"type\":\"carpet\"}],\"choropleth\":[{\"colorbar\":{\"outlinewidth\":0,\"ticks\":\"\"},\"type\":\"choropleth\"}],\"contour\":[{\"colorbar\":{\"outlinewidth\":0,\"ticks\":\"\"},\"colorscale\":[[0.0,\"#0d0887\"],[0.1111111111111111,\"#46039f\"],[0.2222222222222222,\"#7201a8\"],[0.3333333333333333,\"#9c179e\"],[0.4444444444444444,\"#bd3786\"],[0.5555555555555556,\"#d8576b\"],[0.6666666666666666,\"#ed7953\"],[0.7777777777777778,\"#fb9f3a\"],[0.8888888888888888,\"#fdca26\"],[1.0,\"#f0f921\"]],\"type\":\"contour\"}],\"contourcarpet\":[{\"colorbar\":{\"outlinewidth\":0,\"ticks\":\"\"},\"type\":\"contourcarpet\"}],\"heatmap\":[{\"colorbar\":{\"outlinewidth\":0,\"ticks\":\"\"},\"colorscale\":[[0.0,\"#0d0887\"],[0.1111111111111111,\"#46039f\"],[0.2222222222222222,\"#7201a8\"],[0.3333333333333333,\"#9c179e\"],[0.4444444444444444,\"#bd3786\"],[0.5555555555555556,\"#d8576b\"],[0.6666666666666666,\"#ed7953\"],[0.7777777777777778,\"#fb9f3a\"],[0.8888888888888888,\"#fdca26\"],[1.0,\"#f0f921\"]],\"type\":\"heatmap\"}],\"heatmapgl\":[{\"colorbar\":{\"outlinewidth\":0,\"ticks\":\"\"},\"colorscale\":[[0.0,\"#0d0887\"],[0.1111111111111111,\"#46039f\"],[0.2222222222222222,\"#7201a8\"],[0.3333333333333333,\"#9c179e\"],[0.4444444444444444,\"#bd3786\"],[0.5555555555555556,\"#d8576b\"],[0.6666666666666666,\"#ed7953\"],[0.7777777777777778,\"#fb9f3a\"],[0.8888888888888888,\"#fdca26\"],[1.0,\"#f0f921\"]],\"type\":\"heatmapgl\"}],\"histogram\":[{\"marker\":{\"pattern\":{\"fillmode\":\"overlay\",\"size\":10,\"solidity\":0.2}},\"type\":\"histogram\"}],\"histogram2d\":[{\"colorbar\":{\"outlinewidth\":0,\"ticks\":\"\"},\"colorscale\":[[0.0,\"#0d0887\"],[0.1111111111111111,\"#46039f\"],[0.2222222222222222,\"#7201a8\"],[0.3333333333333333,\"#9c179e\"],[0.4444444444444444,\"#bd3786\"],[0.5555555555555556,\"#d8576b\"],[0.6666666666666666,\"#ed7953\"],[0.7777777777777778,\"#fb9f3a\"],[0.8888888888888888,\"#fdca26\"],[1.0,\"#f0f921\"]],\"type\":\"histogram2d\"}],\"histogram2dcontour\":[{\"colorbar\":{\"outlinewidth\":0,\"ticks\":\"\"},\"colorscale\":[[0.0,\"#0d0887\"],[0.1111111111111111,\"#46039f\"],[0.2222222222222222,\"#7201a8\"],[0.3333333333333333,\"#9c179e\"],[0.4444444444444444,\"#bd3786\"],[0.5555555555555556,\"#d8576b\"],[0.6666666666666666,\"#ed7953\"],[0.7777777777777778,\"#fb9f3a\"],[0.8888888888888888,\"#fdca26\"],[1.0,\"#f0f921\"]],\"type\":\"histogram2dcontour\"}],\"mesh3d\":[{\"colorbar\":{\"outlinewidth\":0,\"ticks\":\"\"},\"type\":\"mesh3d\"}],\"parcoords\":[{\"line\":{\"colorbar\":{\"outlinewidth\":0,\"ticks\":\"\"}},\"type\":\"parcoords\"}],\"pie\":[{\"automargin\":true,\"type\":\"pie\"}],\"scatter\":[{\"marker\":{\"colorbar\":{\"outlinewidth\":0,\"ticks\":\"\"}},\"type\":\"scatter\"}],\"scatter3d\":[{\"line\":{\"colorbar\":{\"outlinewidth\":0,\"ticks\":\"\"}},\"marker\":{\"colorbar\":{\"outlinewidth\":0,\"ticks\":\"\"}},\"type\":\"scatter3d\"}],\"scattercarpet\":[{\"marker\":{\"colorbar\":{\"outlinewidth\":0,\"ticks\":\"\"}},\"type\":\"scattercarpet\"}],\"scattergeo\":[{\"marker\":{\"colorbar\":{\"outlinewidth\":0,\"ticks\":\"\"}},\"type\":\"scattergeo\"}],\"scattergl\":[{\"marker\":{\"colorbar\":{\"outlinewidth\":0,\"ticks\":\"\"}},\"type\":\"scattergl\"}],\"scattermapbox\":[{\"marker\":{\"colorbar\":{\"outlinewidth\":0,\"ticks\":\"\"}},\"type\":\"scattermapbox\"}],\"scatterpolar\":[{\"marker\":{\"colorbar\":{\"outlinewidth\":0,\"ticks\":\"\"}},\"type\":\"scatterpolar\"}],\"scatterpolargl\":[{\"marker\":{\"colorbar\":{\"outlinewidth\":0,\"ticks\":\"\"}},\"type\":\"scatterpolargl\"}],\"scatterternary\":[{\"marker\":{\"colorbar\":{\"outlinewidth\":0,\"ticks\":\"\"}},\"type\":\"scatterternary\"}],\"surface\":[{\"colorbar\":{\"outlinewidth\":0,\"ticks\":\"\"},\"colorscale\":[[0.0,\"#0d0887\"],[0.1111111111111111,\"#46039f\"],[0.2222222222222222,\"#7201a8\"],[0.3333333333333333,\"#9c179e\"],[0.4444444444444444,\"#bd3786\"],[0.5555555555555556,\"#d8576b\"],[0.6666666666666666,\"#ed7953\"],[0.7777777777777778,\"#fb9f3a\"],[0.8888888888888888,\"#fdca26\"],[1.0,\"#f0f921\"]],\"type\":\"surface\"}],\"table\":[{\"cells\":{\"fill\":{\"color\":\"#EBF0F8\"},\"line\":{\"color\":\"white\"}},\"header\":{\"fill\":{\"color\":\"#C8D4E3\"},\"line\":{\"color\":\"white\"}},\"type\":\"table\"}]},\"layout\":{\"annotationdefaults\":{\"arrowcolor\":\"#2a3f5f\",\"arrowhead\":0,\"arrowwidth\":1},\"autotypenumbers\":\"strict\",\"coloraxis\":{\"colorbar\":{\"outlinewidth\":0,\"ticks\":\"\"}},\"colorscale\":{\"diverging\":[[0,\"#8e0152\"],[0.1,\"#c51b7d\"],[0.2,\"#de77ae\"],[0.3,\"#f1b6da\"],[0.4,\"#fde0ef\"],[0.5,\"#f7f7f7\"],[0.6,\"#e6f5d0\"],[0.7,\"#b8e186\"],[0.8,\"#7fbc41\"],[0.9,\"#4d9221\"],[1,\"#276419\"]],\"sequential\":[[0.0,\"#0d0887\"],[0.1111111111111111,\"#46039f\"],[0.2222222222222222,\"#7201a8\"],[0.3333333333333333,\"#9c179e\"],[0.4444444444444444,\"#bd3786\"],[0.5555555555555556,\"#d8576b\"],[0.6666666666666666,\"#ed7953\"],[0.7777777777777778,\"#fb9f3a\"],[0.8888888888888888,\"#fdca26\"],[1.0,\"#f0f921\"]],\"sequentialminus\":[[0.0,\"#0d0887\"],[0.1111111111111111,\"#46039f\"],[0.2222222222222222,\"#7201a8\"],[0.3333333333333333,\"#9c179e\"],[0.4444444444444444,\"#bd3786\"],[0.5555555555555556,\"#d8576b\"],[0.6666666666666666,\"#ed7953\"],[0.7777777777777778,\"#fb9f3a\"],[0.8888888888888888,\"#fdca26\"],[1.0,\"#f0f921\"]]},\"colorway\":[\"#636efa\",\"#EF553B\",\"#00cc96\",\"#ab63fa\",\"#FFA15A\",\"#19d3f3\",\"#FF6692\",\"#B6E880\",\"#FF97FF\",\"#FECB52\"],\"font\":{\"color\":\"#2a3f5f\"},\"geo\":{\"bgcolor\":\"white\",\"lakecolor\":\"white\",\"landcolor\":\"#E5ECF6\",\"showlakes\":true,\"showland\":true,\"subunitcolor\":\"white\"},\"hoverlabel\":{\"align\":\"left\"},\"hovermode\":\"closest\",\"mapbox\":{\"style\":\"light\"},\"paper_bgcolor\":\"white\",\"plot_bgcolor\":\"#E5ECF6\",\"polar\":{\"angularaxis\":{\"gridcolor\":\"white\",\"linecolor\":\"white\",\"ticks\":\"\"},\"bgcolor\":\"#E5ECF6\",\"radialaxis\":{\"gridcolor\":\"white\",\"linecolor\":\"white\",\"ticks\":\"\"}},\"scene\":{\"xaxis\":{\"backgroundcolor\":\"#E5ECF6\",\"gridcolor\":\"white\",\"gridwidth\":2,\"linecolor\":\"white\",\"showbackground\":true,\"ticks\":\"\",\"zerolinecolor\":\"white\"},\"yaxis\":{\"backgroundcolor\":\"#E5ECF6\",\"gridcolor\":\"white\",\"gridwidth\":2,\"linecolor\":\"white\",\"showbackground\":true,\"ticks\":\"\",\"zerolinecolor\":\"white\"},\"zaxis\":{\"backgroundcolor\":\"#E5ECF6\",\"gridcolor\":\"white\",\"gridwidth\":2,\"linecolor\":\"white\",\"showbackground\":true,\"ticks\":\"\",\"zerolinecolor\":\"white\"}},\"shapedefaults\":{\"line\":{\"color\":\"#2a3f5f\"}},\"ternary\":{\"aaxis\":{\"gridcolor\":\"white\",\"linecolor\":\"white\",\"ticks\":\"\"},\"baxis\":{\"gridcolor\":\"white\",\"linecolor\":\"white\",\"ticks\":\"\"},\"bgcolor\":\"#E5ECF6\",\"caxis\":{\"gridcolor\":\"white\",\"linecolor\":\"white\",\"ticks\":\"\"}},\"title\":{\"x\":0.05},\"xaxis\":{\"automargin\":true,\"gridcolor\":\"white\",\"linecolor\":\"white\",\"ticks\":\"\",\"title\":{\"standoff\":15},\"zerolinecolor\":\"white\",\"zerolinewidth\":2},\"yaxis\":{\"automargin\":true,\"gridcolor\":\"white\",\"linecolor\":\"white\",\"ticks\":\"\",\"title\":{\"standoff\":15},\"zerolinecolor\":\"white\",\"zerolinewidth\":2}}},\"xaxis\":{\"anchor\":\"y\",\"domain\":[0.0,1.0],\"title\":{\"text\":\"MinPrice\"}},\"yaxis\":{\"anchor\":\"x\",\"domain\":[0.0,1.0]},\"legend\":{\"tracegroupgap\":0},\"title\":{\"text\":\"Range of MinPrice\"},\"boxmode\":\"group\"},                        {\"responsive\": true}                    ).then(function(){\n",
       "                            \n",
       "var gd = document.getElementById('2ba75cb5-11ea-4f76-bdb0-c9b8ca65b360');\n",
       "var x = new MutationObserver(function (mutations, observer) {{\n",
       "        var display = window.getComputedStyle(gd).display;\n",
       "        if (!display || display === 'none') {{\n",
       "            console.log([gd, 'removed!']);\n",
       "            Plotly.purge(gd);\n",
       "            observer.disconnect();\n",
       "        }}\n",
       "}});\n",
       "\n",
       "// Listen for the removal of the full notebook cells\n",
       "var notebookContainer = gd.closest('#notebook-container');\n",
       "if (notebookContainer) {{\n",
       "    x.observe(notebookContainer, {childList: true});\n",
       "}}\n",
       "\n",
       "// Listen for the clearing of the current output cell\n",
       "var outputEl = gd.closest('.output');\n",
       "if (outputEl) {{\n",
       "    x.observe(outputEl, {childList: true});\n",
       "}}\n",
       "\n",
       "                        })                };                });            </script>        </div>"
      ]
     },
     "metadata": {},
     "output_type": "display_data"
    }
   ],
   "source": [
    "fig = px.box(michelin,\n",
    "             x='MinPrice',\n",
    "             orientation='h',\n",
    "             title='Range of MinPrice')\n",
    "fig.show()"
   ]
  },
  {
   "cell_type": "markdown",
   "metadata": {},
   "source": [
    "The lowest minimum price is about \\\\$0.5 while the highest is \\\\$600. There are many outliers, which makes sense, the minimum price of some 3-Star Michelins can be extremely high."
   ]
  },
  {
   "cell_type": "code",
   "execution_count": 92,
   "metadata": {},
   "outputs": [
    {
     "data": {
      "application/vnd.plotly.v1+json": {
       "config": {
        "plotlyServerURL": "https://plot.ly"
       },
       "data": [
        {
         "alignmentgroup": "True",
         "hovertemplate": "MaxPrice=%{x}<extra></extra>",
         "legendgroup": "",
         "marker": {
          "color": "#636efa"
         },
         "name": "",
         "notched": false,
         "offsetgroup": "",
         "orientation": "h",
         "showlegend": false,
         "type": "box",
         "x": [
          237.46701846965698,
          242.74406332453825,
          336.6754617414248,
          311.34564643799473,
          258.57519788918205,
          353.5620052770449,
          279.6833773087071,
          187.86279683377307,
          262.7968337730871,
          215.86283458739362,
          462.5632169729863,
          231.89835944245715,
          271.37042062415196,
          228.19785370667324,
          240.5328728259529,
          308.37547798199085,
          240.5328728259529,
          279.6833773087071,
          297.1856518767274,
          207.8813634877708,
          247.25546434576202,
          432.69706260508354,
          370.88319651864305,
          264.86018438343604,
          233.02602760658075,
          445.6781948759741,
          331.07523047929504,
          254.67325421484236,
          379.4631487801151,
          331.07523047929504,
          263.85224274406335,
          306.06860158311343,
          226.91292875989447,
          369.39313984168865,
          221.6358839050132,
          248.0211081794195,
          385.2242744063324,
          274.4063324538259,
          253.29815303430078,
          263.85224274406335,
          263.85224274406335,
          337.30148083016024,
          559.6138204682204,
          329.63553808402025,
          329.63553808402025,
          260.6420533687602,
          268.3079961149002,
          536.6159922298004,
          413.9609082915603,
          375.6311945608603,
          291.30582435332025,
          329.63553808402025,
          206.98045414578016,
          204.08366708208158,
          219.78241070378016,
          316.62269129287597,
          237.46701846965698,
          232.1899736147757,
          337.73087071240104,
          401.05540897097626,
          327.1767810026385,
          316.62269129287597,
          364.1160949868074,
          316.62269129287597,
          232.1899736147757,
          306.06860158311343,
          325.12110315313976,
          1320.6930369401766,
          329.63553808402025,
          413.9609082915603,
          153.3188549228001,
          291.30582435332025,
          490.6203357529604,
          283.6398816071802,
          383.2971373070003,
          490.6203357529604,
          375.6311945608603,
          450,
          375,
          325,
          298,
          350,
          360,
          377.5422002762019,
          363.51173104286323,
          396.1068356722499,
          396.1068356722499,
          271.8055655425325,
          366.72179477960736,
          323.57805421730063,
          168.40857266998322,
          285,
          355,
          595,
          228,
          395,
          365,
          238,
          401.05540897097626,
          244.85488126649076,
          392.86793593230584,
          271.985494106981,
          332.4267150196434,
          401.05540897097626,
          353.5620052770449,
          311.34564643799473,
          337.73087071240104,
          395.77836411609496,
          401.05540897097626,
          410.55408970976254,
          416.88654353562004,
          416.88654353562004,
          406.3324538258575,
          369.39313984168865,
          348.2849604221636,
          422.16358839050133,
          348.2849604221636,
          348.2849604221636,
          401.05540897097626,
          311.34564643799473,
          274.4063324538259,
          295.5145118733509,
          401.05540897097626,
          559.3667546174142,
          237.46701846965698,
          485.4881266490765,
          358.8390501319261,
          253.29815303430078,
          279.6833773087071,
          453.82585751978894,
          253.29815303430078,
          251.1873350923483,
          348.2849604221636,
          559.3667546174142,
          205.8047493403694,
          216.35883905013193,
          241.68865435356201,
          258.57519788918205,
          195.25065963060686,
          263.85224274406335,
          276.51715039577834,
          299.73614775725594,
          222.69129287598943,
          221.6358839050132,
          205.8047493403694,
          221.6358839050132,
          263.85224274406335,
          300.7915567282322,
          199.47229551451187,
          261.7414248021108,
          174.1424802110818,
          167.81002638522426,
          168.86543535620052,
          221.6358839050132,
          199.47229551451187,
          174.1424802110818,
          185.75197889182058,
          151.9788918205805,
          200.52770448548813,
          242.74406332453825,
          253.29815303430078,
          290.23746701846966,
          195.25065963060686,
          311.34564643799473,
          174.1424802110818,
          200.52770448548813,
          231.13456464379948,
          178.3641160949868,
          237.46701846965698,
          157.25593667546173,
          184.69656992084433,
          230.07915567282322,
          311.34564643799473,
          187.86279683377307,
          230.07915567282322,
          258.57519788918205,
          231.13456464379948,
          248.0211081794195,
          189.9736147757256,
          237.46701846965698,
          137.20316622691294,
          221.6358839050132,
          237.46701846965698,
          179.41952506596306,
          370.05057357838905,
          302.2079684223511,
          160.35524855063525,
          271.37042062415196,
          240.5328728259529,
          308.37547798199085,
          240.5328728259529,
          187.49229061305044,
          219.5633403231775,
          240.5328728259529,
          215.86283458739362,
          209.6953250277538,
          228.19785370667324,
          148.02022943135563,
          197.36030590847417,
          178.8577772295547,
          308.37547798199085,
          240.5328728259529,
          216.35883905013193,
          221.6358839050132,
          189.9736147757256,
          195.25065963060686,
          153.03430079155672,
          199.47229551451187,
          297.1856518767274,
          148.5928259383637,
          297.1856518767274,
          404.01542874097515,
          296.7065572149144,
          332.31134408070415,
          98.90218573830481,
          247.25546434576202,
          469.6174807721693,
          239.39285896195182,
          152.8039525289054,
          264.86018438343604,
          240.4115519788112,
          152.8039525289054,
          322.1616665817756,
          229.2059287933581,
          254.67325421484236,
          252.12652167269394,
          328.52849793714665,
          253.14521468955328,
          297.1856518767274,
          101.2461960357775,
          228.52712819504066,
          84.23683510176689,
          188.02864978072967,
          159.10116519907893,
          237.20537356953588,
          221.6358839050132,
          221.6358839050132,
          189.9736147757256,
          211.08179419525067,
          205.8047493403694,
          205.8047493403694,
          153.03430079155672,
          147.75725593667545,
          189.9736147757256,
          147.75725593667545,
          101.31926121372031,
          168.86543535620052,
          163.58839050131925,
          174.1424802110818,
          147.75725593667545,
          243.7994722955145,
          158.31134564643799,
          189.9736147757256,
          205.8047493403694,
          179.41952506596306,
          174.1424802110818,
          153.03430079155672,
          153.03430079155672,
          174.1424802110818,
          242.74406332453825,
          195.25065963060686,
          179.41952506596306,
          221.6358839050132,
          205.8047493403694,
          205.8047493403694,
          168.86543535620052,
          200.52770448548813,
          179.41952506596306,
          199.47229551451187,
          221.6358839050132,
          146.70184696569922,
          199.47229551451187,
          184.69656992084433,
          205.8047493403694,
          195.25065963060686,
          229.97828238420018,
          283.6398816071802,
          283.6398816071802,
          191.64856865350015,
          214.64639689192018,
          214.64639689192018,
          206.98045414578016,
          160.98479766894013,
          467.62250751454036,
          183.98262590736013,
          321.96959533788026,
          160.98479766894013,
          176.31668316122014,
          329.63553808402025,
          168.65074041508012,
          206.98045414578016,
          283.6398816071802,
          237.64422513034017,
          145.65291217666012,
          145.65291217666012,
          314.3036525917402,
          329.63553808402025,
          383.2971373070003,
          344.96742357630023,
          298.97176709946024,
          291.30582435332025,
          237.64422513034017,
          283.6398816071802,
          252.97611062262018,
          329.63553808402025,
          252.97611062262018,
          406.2949655454203,
          245.3101678764802,
          291.30582435332025,
          214.64639689192018,
          559.6138204682204,
          260.6420533687602,
          237.64422513034017,
          160.98479766894013,
          406.2949655454203,
          344.96742357630023,
          298.2761288122731,
          156.98743621698583,
          180.53555164953372,
          211.93303889293088,
          188.384923460383,
          156.98743621698583,
          172.6861798386844,
          147.75725593667545,
          279.6833773087071,
          219.52506596306068,
          211.08179419525067,
          179.41952506596306,
          147.75725593667545,
          200.52770448548813,
          200.52770448548813,
          200.52770448548813,
          211.08179419525067,
          263.85224274406335,
          232.1899736147757,
          158.31134564643799,
          200.52770448548813,
          211.08179419525067,
          189.9736147757256,
          208.97097625329815,
          316.62269129287597,
          158.31134564643799,
          158.31134564643799,
          189.9736147757256,
          263.85224274406335,
          263.85224274406335,
          232.1899736147757,
          189.9736147757256,
          147.75725593667545,
          242.74406332453825,
          174.1424802110818,
          200.52770448548813,
          137.20316622691294,
          295.5145118733509,
          295.5145118733509,
          188.91820580474933,
          211.08179419525067,
          184.69656992084433,
          200.52770448548813,
          221.6358839050132,
          237.46701846965698,
          174.1424802110818,
          148.5928259383637,
          429.1360813099944,
          267.1699010371779,
          353.6509257333056,
          148.5928259383637,
          74.29641296918184,
          191.38755980861245,
          371.48206484590924,
          145.65291217666012,
          183.98262590736013,
          375.6311945608603,
          237.64422513034017,
          130.3210266843801,
          168.65074041508012,
          214.64639689192018,
          191.64856865350015,
          214.64639689192018,
          168.65074041508012,
          252.97611062262018,
          283.6398816071802,
          206.98045414578016,
          298.97176709946024,
          490.6203357529604,
          291.30582435332025,
          490.6203357529604,
          383.2971373070003,
          237.64422513034017,
          459.95656476840037,
          245.3101678764802,
          268.3079961149002,
          160.98479766894013,
          245.3101678764802,
          199.31451139964014,
          168.65074041508012,
          268.3079961149002,
          222.31233963806017,
          245.3101678764802,
          199.31451139964014,
          180,
          295,
          475,
          300,
          275,
          189,
          295,
          295,
          285,
          221,
          255,
          306,
          167,
          250,
          250,
          223,
          237.46701846965698,
          351.8678118220452,
          148.5928259383637,
          190.19881720110553,
          273.2213291472514,
          208.6417422579011,
          278.18898967720145,
          248.38302649750128,
          301.1954342926581,
          268.7867813490267,
          211.49275690357626,
          353.6668175645088,
          353.6668175645088,
          381.9601629696695,
          240.493435943866,
          495.13354459031234,
          467.39052275832313,
          107.85935140576687,
          278.99618896958367,
          503.34363989357877,
          207.0899546990724,
          218.93114447097815,
          126.3064295024874,
          127.99051522918724,
          202.09028720397984,
          231.7301959938969,
          164.36676692590362,
          191.3121385531009,
          117.88600086898825,
          188,
          278,
          225,
          325,
          285,
          248,
          198,
          235,
          245,
          295,
          235,
          250,
          155,
          285,
          265,
          285,
          330,
          305,
          325,
          295,
          146.70184696569922,
          174.1424802110818,
          158.31134564643799,
          198.4168865435356,
          157.25593667546173,
          179.41952506596306,
          205.8047493403694,
          627.9683377308708,
          263.85224274406335,
          184.69656992084433,
          205.8047493403694,
          221.6358839050132,
          237.46701846965698,
          163.58839050131925,
          198.4168865435356,
          189.9736147757256,
          153.03430079155672,
          179.41952506596306,
          241.76488365064975,
          277.0222625163695,
          453.30915684496824,
          266.9487256975924,
          289.110506698902,
          241.76488365064975,
          397.90470434169436,
          221.61781001309558,
          302.2061045633122,
          216.58104160370706,
          277.0222625163695,
          322.3531782008663,
          300.1913971995568,
          251.8384204694268,
          186.36043114737583,
          331.4193613377657,
          282.059030925758,
          261.9119572882039,
          196.43396796615292,
          249.8237131056714,
          277.0222625163695,
          196.43396796615292,
          261.9119572882039,
          153.03430079155672,
          253.29815303430078,
          200.52770448548813,
          290.23746701846966,
          215.30343007915567,
          327.1767810026385,
          226.91292875989447,
          216.35883905013193,
          263.85224274406335,
          131.92612137203167,
          269.1292875989446,
          416.88654353562004,
          184.69656992084433,
          235.3562005277045,
          226.91292875989447,
          369.39313984168865,
          311.34564643799473,
          214.24802110817942,
          263.85224274406335,
          189.9736147757256,
          251.1873350923483,
          337.73087071240104,
          369.39313984168865,
          311.34564643799473,
          365.1715039577836,
          200.52770448548813,
          263.85224274406335,
          232.1899736147757,
          195.25065963060686,
          232.1899736147757,
          158.31134564643799,
          263.85224274406335,
          337.73087071240104,
          179.41952506596306,
          284.96042216358836,
          232.1899736147757,
          150.92348284960423,
          189.9736147757256,
          168.86543535620052,
          242.74406332453825,
          337.73087071240104,
          364.1160949868074,
          204.74934036939314,
          226.91292875989447,
          284.96042216358836,
          153.03430079155672,
          258.57519788918205,
          205.8047493403694,
          103.43007915567283,
          443.2717678100264,
          205.8047493403694,
          274.4063324538259,
          142.48021108179418,
          174.1424802110818,
          221.6358839050132,
          348.2849604221636,
          263.85224274406335,
          221.6358839050132,
          189.9736147757256,
          260.68601583113457,
          181.53034300791558,
          165.69920844327177,
          200.52770448548813,
          163.58839050131925,
          258.57519788918205,
          221.6358839050132,
          242.74406332453825,
          295.5145118733509,
          230.07915567282322,
          316.62269129287597,
          216.35883905013193,
          205.8047493403694,
          211.08179419525067,
          168.86543535620052,
          258.57519788918205,
          332.4538258575198,
          179.41952506596306,
          174.1424802110818,
          189.9736147757256,
          226.91292875989447,
          244.85488126649076,
          221.6358839050132,
          218.46965699208442,
          221.6358839050132,
          214.24802110817942,
          242.74406332453825,
          258.57519788918205,
          176.2532981530343,
          314.51187335092345,
          168.86543535620052,
          195.25065963060686,
          205.8047493403694,
          169.92084432717678,
          205.8047493403694,
          284.96042216358836,
          226.91292875989447,
          248.0211081794195,
          136.65736095113522,
          126.896120883197,
          85.89891259785644,
          108.34976475411436,
          105.54089709762533,
          126.64907651715039,
          195.25065963060686,
          121.37203166226912,
          147.75725593667545,
          126.64907651715039,
          161.47757255936676,
          158.31134564643799,
          131.92612137203167,
          168.86543535620052,
          168.86543535620052,
          89.70976253298153,
          166.75461741424803,
          158.31134564643799,
          136.14775725593668,
          195.25065963060686,
          168.86543535620052,
          167.81002638522426,
          83.37730870712402,
          204.74934036939314,
          178.3641160949868,
          168.86543535620052,
          116.09498680738785,
          93.93139841688654,
          142.48021108179418,
          200.52770448548813,
          157.25593667546173,
          132.9815303430079,
          200.52770448548813,
          181.53034300791558,
          153.03430079155672,
          195.25065963060686,
          157.25593667546173,
          158.31134564643799,
          199.47229551451187,
          113.98416886543535,
          167.81002638522426,
          126.64907651715039,
          104.48548812664907,
          126.64907651715039,
          188.91820580474933,
          216.35883905013193,
          158.31134564643799,
          147.75725593667545,
          173.08707124010553,
          166.75461741424803,
          139.31398416886543,
          158.31134564643799,
          100.26385224274406,
          262.7968337730871,
          208.97097625329815,
          103.43007915567283,
          136.14775725593668,
          178.3641160949868,
          136.14775725593668,
          146.70184696569922,
          134.03693931398416,
          158.31134564643799,
          125.59366754617415,
          131.92612137203167,
          163.58839050131925,
          62.26912928759894,
          105.54089709762533,
          166.75461741424803,
          158.31134564643799,
          188.91820580474933,
          110.8179419525066,
          208.97097625329815,
          103.43007915567283,
          153.03430079155672,
          147.75725593667545,
          195.25065963060686,
          124.53825857519789,
          147.75725593667545,
          147.75725593667545,
          147.75725593667545,
          116.09498680738785,
          143.53562005277044,
          157.25593667546173,
          216.35883905013193,
          163.58839050131925,
          119.26121372031662,
          163.58839050131925,
          146.70184696569922,
          115.03957783641161,
          126.64907651715039,
          147.75725593667545,
          121.37203166226912,
          160.4221635883905,
          136.14775725593668,
          121.37203166226912,
          131.92612137203167,
          199.47229551451187,
          132.9815303430079,
          137.20316622691294,
          200.52770448548813,
          125.59366754617415,
          168.86543535620052,
          147.75725593667545,
          146.70184696569922,
          168.86543535620052,
          131.92612137203167,
          111.87335092348285,
          124.53825857519789,
          184.69656992084433,
          197.36147757255935,
          145.64643799472296,
          142.48021108179418,
          205.8047493403694,
          93.93139841688654,
          230.07915567282322,
          68.60158311345647,
          163.58839050131925,
          167.81002638522426,
          131.92612137203167,
          142.48021108179418,
          118.20580474934037,
          131.92612137203167,
          136.14775725593668,
          188.91820580474933,
          87.59894459102902,
          131.92612137203167,
          191.02902374670185,
          179.41952506596306,
          89.70976253298153,
          163.58839050131925,
          83.37730870712402,
          144.5910290237467,
          189.9736147757256,
          142.48021108179418,
          269.1292875989446,
          156.2005277044855,
          237.46701846965698,
          142.48021108179418,
          314.51187335092345,
          189.9736147757256,
          157.25593667546173,
          163.58839050131925,
          143.53562005277044,
          131.92612137203167,
          115.03957783641161,
          147.75725593667545,
          96.04221635883906,
          210.0263852242744,
          121.37203166226912,
          199.47229551451187,
          113.98416886543535,
          153.03430079155672,
          131.92612137203167,
          195.25065963060686,
          153.03430079155672,
          181.53034300791558,
          179.41952506596306,
          156.2005277044855,
          147.75725593667545,
          112.9287598944591,
          131.92612137203167,
          174.1424802110818,
          155.14511873350924,
          153.03430079155672,
          184.69656992084433,
          142.48021108179418,
          131.92612137203167,
          153.03430079155672,
          137.20316622691294,
          146.70184696569922,
          174.1424802110818,
          142.48021108179418,
          156.2005277044855,
          136.14775725593668,
          151.9788918205805,
          163.58839050131925,
          121.37203166226912,
          116.09498680738785,
          199.47229551451187,
          121.37203166226912,
          168.86543535620052,
          125.59366754617415,
          130.8707124010554,
          184.69656992084433,
          121.37203166226912,
          120.31662269129288,
          168.86543535620052,
          116.09498680738785,
          118.20580474934037,
          88.65435356200527,
          179.41952506596306,
          131.92612137203167,
          135.09234828496042,
          146.70184696569922,
          178.3641160949868,
          200.52770448548813,
          113.98416886543535,
          105.54089709762533,
          184.69656992084433,
          131.92612137203167,
          137.20316622691294,
          110.8179419525066,
          204.74934036939314,
          195.25065963060686,
          230.07915567282322,
          163.58839050131925,
          187.86279683377307,
          157.25593667546173,
          126.64907651715039,
          120.31662269129288,
          86.54353562005277,
          146.70184696569922,
          93.93139841688654,
          100.26385224274406,
          179.41952506596306,
          136.14775725593668,
          157.25593667546173,
          103.43007915567283,
          195.25065963060686,
          158.31134564643799,
          163.58839050131925,
          179.41952506596306,
          174.1424802110818,
          188.91820580474933,
          151.9788918205805,
          125.59366754617415,
          174.1424802110818,
          147.75725593667545,
          158.31134564643799,
          146.70184696569922,
          156.2005277044855,
          112.9287598944591,
          208.97097625329815,
          195.25065963060686,
          163.58839050131925,
          158.31134564643799,
          131.92612137203167,
          100.26385224274406,
          128.7598944591029,
          192.0844327176781,
          167.81002638522426,
          136.14775725593668,
          174.1424802110818,
          153.03430079155672,
          142.48021108179418,
          168.86543535620052,
          139.31398416886543,
          160.4221635883905,
          168.86543535620052,
          142.48021108179418,
          126.64907651715039,
          135.09234828496042,
          156.2005277044855,
          158.31134564643799,
          116.09498680738785,
          131.92612137203167,
          153.03430079155672,
          104.48548812664907,
          153.03430079155672,
          147.75725593667545,
          88.65435356200527,
          136.14775725593668,
          131.92612137203167,
          156.2005277044855,
          104.48548812664907,
          168.86543535620052,
          145.64643799472296,
          189.9736147757256,
          177.30870712401054,
          163.58839050131925,
          157.25593667546173,
          166.75461741424803,
          142.48021108179418,
          103.43007915567283,
          131.92612137203167,
          105.54089709762533,
          184.69656992084433,
          100.26385224274406,
          101.31926121372031,
          110.8179419525066,
          105.54089709762533,
          137.20316622691294,
          100.26385224274406,
          168.86543535620052,
          73.87862796833772,
          142.48021108179418,
          142.48021108179418,
          105.54089709762533,
          116.09498680738785,
          110.8179419525066,
          121.37203166226912,
          73.87862796833772,
          79.15567282321899,
          89.70976253298153,
          104.8476625138769,
          104.8476625138769,
          178.8577772295547,
          197.36030590847417,
          135.68521031207598,
          178.8577772295547,
          135.68521031207598,
          129.51770075243618,
          148.02022943135563,
          148.02022943135563,
          117.18268163315653,
          67.84260515603799,
          129.51770075243618,
          80.17762427531763,
          141.8527198717158,
          74.01011471567782,
          135.68521031207598,
          98.68015295423709,
          141.8527198717158,
          98.68015295423709,
          78.94412236338967,
          104.8476625138769,
          109.78167016158875,
          117.18268163315653,
          74.01011471567782,
          215.86283458739362,
          117.18268163315653,
          80.17762427531763,
          135.68521031207598,
          67.84260515603799,
          160.35524855063525,
          117.18268163315653,
          185.02528678919452,
          120.88318736894043,
          92.51264339459726,
          234.36536326631307,
          104.8476625138769,
          92.51264339459726,
          111.01517207351672,
          135.68521031207598,
          160.35524855063525,
          117.18268163315653,
          117.18268163315653,
          111.01517207351672,
          104.8476625138769,
          122.11668928086839,
          92.51264339459726,
          117.18268163315653,
          74.01011471567782,
          98.68015295423709,
          98.68015295423709,
          117.18268163315653,
          74.01011471567782,
          117.18268163315653,
          135.68521031207598,
          111.01517207351672,
          148.02022943135563,
          82.64462809917356,
          135.68521031207598,
          76.47711853953373,
          94.9796472184532,
          117.18268163315653,
          117.18268163315653,
          209.6953250277538,
          135.68521031207598,
          117.18268163315653,
          148.02022943135563,
          120.88318736894043,
          191.19279634883435,
          135.68521031207598,
          135.68521031207598,
          141.8527198717158,
          122.11668928086839,
          154.18773899099543,
          160.35524855063525,
          141.8527198717158,
          135.68521031207598,
          104.8476625138769,
          178.8577772295547,
          86.34513383495745,
          104.8476625138769,
          80.17762427531763,
          111.01517207351672,
          141.8527198717158,
          106.08116442580486,
          135.68521031207598,
          75.24361662760577,
          154.18773899099543,
          96.21314913038115,
          74.01011471567782,
          86.34513383495745,
          222.03034414703345,
          135.68521031207598,
          98.68015295423709,
          154.18773899099543,
          172.6902676699149,
          86.34513383495745,
          86.34513383495745,
          129.51770075243618,
          185.02528678919452,
          67.84260515603799,
          104.8476625138769,
          209.6953250277538,
          135.68521031207598,
          123.35019119279636,
          87.57863574688541,
          129.51770075243618,
          148.02022943135563,
          86.34513383495745,
          123.35019119279636,
          119.64968545701247,
          104.8476625138769,
          92.51264339459726,
          240.5328728259529,
          117.18268163315653,
          197.36030590847417,
          60.44159368447021,
          111.01517207351672,
          96.21314913038115,
          135.68521031207598,
          185.02528678919452,
          96.21314913038115,
          104.8476625138769,
          108.54816824966079,
          120.88318736894043,
          370.05057357838905,
          129.51770075243618,
          139.3857160478599,
          64.1420994202541,
          178.8577772295547,
          148.02022943135563,
          61.67509559639818,
          104.8476625138769,
          185.02528678919452,
          197.36030590847417,
          185.02528678919452,
          92.51264339459726,
          98.68015295423709,
          160.35524855063525,
          86.34513383495745,
          172.6902676699149,
          172.6902676699149,
          92.51264339459726,
          86.34513383495745,
          97.44665104230911,
          171.45676575798694,
          83.87813001110152,
          111.01517207351672,
          129.51770075243618,
          117.18268163315653,
          135.09234828496042,
          172.0316622691293,
          199.47229551451187,
          142.48021108179418,
          83.37730870712402,
          147.75725593667545,
          153.03430079155672,
          145.64643799472296,
          186.80738786279684,
          137.20316622691294,
          193.1706737198728,
          280.54325537163066,
          74.29641296918184,
          148.5928259383637,
          148.5928259383637,
          191.38755980861245,
          131.95042943326698,
          426.16422479122707,
          148.5928259383637,
          206.2468424024488,
          74.29641296918184,
          161.6689946209397,
          148.5928259383637,
          280.54325537163066,
          190.19881720110553,
          74.29641296918184,
          282.326369282891,
          250.82469018395793,
          148.5928259383637,
          89.15569556301821,
          89.15569556301821,
          104.01497815685458,
          148.5928259383637,
          44.57784778150911,
          89.15569556301821,
          148.5928259383637,
          89.15569556301821,
          74.29641296918184,
          37.14820648459092,
          281.8712293541687,
          247.25546434576202,
          207.6945900504401,
          332.31134408070415,
          222.5299179111858,
          171.59529225595884,
          247.25546434576202,
          95.50247033056588,
          290.3275098049203,
          164.26424896857333,
          240.4115519788112,
          63.66831355371059,
          101.86930168593695,
          418.6828299292008,
          178.27127795038965,
          178.27127795038965,
          176.7432384251006,
          191.00494066113177,
          315.79483522640453,
          127.33662710742118,
          240.4115519788112,
          201.19187082972545,
          202.21056384658482,
          290.3275098049203,
          280.1405796363266,
          63.66831355371059,
          152.8039525289054,
          278.61254011103756,
          127.33662710742118,
          253.14521468955328,
          191.00494066113177,
          63.66831355371059,
          417.66413691234146,
          137.52355727601486,
          25.467325421484237,
          254.67325421484236,
          45.84118575867162,
          264.86018438343604,
          191.00494066113177,
          152.8039525289054,
          50.93465084296847,
          240.4115519788112,
          101.86930168593695,
          239.39285896195182,
          101.86930168593695,
          239.39285896195182,
          239.39285896195182,
          101.86930168593695,
          318.3415677685529,
          25.467325421484237,
          318.3415677685529,
          191.00494066113177,
          101.86930168593695,
          265.87887740029544,
          162.9908826974991,
          509.3465084296847,
          152.8039525289054,
          318.3415677685529,
          191.00494066113177,
          44.57784778150911,
          222.88923890754555,
          148.5928259383637,
          222.88923890754555,
          59.437130375345475,
          192.87348806799608,
          297.1856518767274,
          118.87426075069095,
          43.391226872476075,
          36.15935572706339,
          57.27641947166842,
          212.61701167513277,
          202.492392071555,
          101.2461960357775,
          101.2461960357775,
          92.5679506612823,
          92.5679506612823,
          92.5679506612823,
          286.3820973583421,
          138.85192599192345,
          156.20841674091386,
          103.84966964812607,
          130.17368061742823,
          83.88970528678708,
          147.53017136641864,
          72.31871145412678,
          80.996956828622,
          43.391226872476075,
          150.42291982458372,
          231.41987665320573,
          176.45765594806937,
          179.35040440623445,
          231.41987665320573,
          159.10116519907893,
          153.03430079155672,
          121.37203166226912,
          153.03430079155672,
          147.75725593667545,
          174.1424802110818,
          184.69656992084433,
          131.92612137203167,
          168.86543535620052,
          68.60158311345647,
          105.54089709762533,
          153.03430079155672,
          153.03430079155672,
          126.64907651715039,
          168.86543535620052,
          158.31134564643799,
          179.41952506596306,
          116.09498680738785,
          131.92612137203167,
          147.75725593667545,
          131.92612137203167,
          147.75725593667545,
          131.92612137203167,
          147.75725593667545,
          131.92612137203167,
          125.59366754617415,
          200.52770448548813,
          137.20316622691294,
          84.43271767810026,
          105.54089709762533,
          116.09498680738785,
          147.75725593667545,
          131.92612137203167,
          81.2664907651715,
          84.43271767810026,
          116.09498680738785,
          89.70976253298153,
          104.48548812664907,
          90.76517150395779,
          126.64907651715039,
          189.9736147757256,
          84.43271767810026,
          139.31398416886543,
          131.92612137203167,
          103.43007915567283,
          89.70976253298153,
          200.52770448548813,
          68.60158311345647,
          255.4089709762533,
          147.75725593667545,
          126.64907651715039,
          116.09498680738785,
          126.64907651715039,
          100.26385224274406,
          189.9736147757256,
          102.37467018469657,
          103.43007915567283,
          100.26385224274406,
          153.03430079155672,
          92.87598944591029,
          158.31134564643799,
          158.31134564643799,
          174.1424802110818,
          97.0976253298153,
          126.64907651715039,
          100.26385224274406,
          137.20316622691294,
          68.60158311345647,
          126.64907651715039,
          158.31134564643799,
          91.82058047493403,
          137.20316622691294,
          103.43007915567283,
          124.53825857519789,
          104.48548812664907,
          79.15567282321899,
          100.26385224274406,
          131.92612137203167,
          115.03957783641161,
          100.26385224274406,
          137.20316622691294,
          82.32189973614776,
          125.59366754617415,
          184.69656992084433,
          82.32189973614776,
          100.26385224274406,
          174.1424802110818,
          174.1424802110818,
          84.43271767810026,
          126.64907651715039,
          158.31134564643799,
          100.26385224274406,
          94.9868073878628,
          54.88126649076517,
          73.87862796833772,
          116.09498680738785,
          68.60158311345647,
          110.8179419525066,
          147.75725593667545,
          126.64907651715039,
          94.9868073878628,
          128.7598944591029,
          94.9868073878628,
          100.26385224274406,
          81.2664907651715,
          89.70976253298153,
          85.48812664907652,
          131.92612137203167,
          131.92612137203167,
          153.03430079155672,
          103.43007915567283,
          131.92612137203167,
          147.75725593667545,
          73.87862796833772,
          75.98944591029024,
          94.9868073878628,
          75.98944591029024,
          131.92612137203167,
          94.9868073878628,
          89.70976253298153,
          163.58839050131925,
          137.20316622691294,
          131.92612137203167,
          110.8179419525066,
          147.75725593667545,
          121.37203166226912,
          84.43271767810026,
          158.31134564643799,
          126.64907651715039,
          78.10026385224275,
          158.31134564643799,
          89.70976253298153,
          94.9868073878628,
          94.9868073878628,
          105.54089709762533,
          105.54089709762533,
          79.15567282321899,
          89.70976253298153,
          121.37203166226912,
          89.70976253298153,
          105.54089709762533,
          89.70976253298153,
          158.31134564643799,
          94.9868073878628,
          100.26385224274406,
          137.20316622691294,
          226.91292875989447,
          118.20580474934037,
          141.42480211081795,
          84.43271767810026,
          79.15567282321899,
          116.09498680738785,
          84.43271767810026,
          52.770448548812666,
          153.03430079155672,
          158.31134564643799,
          126.64907651715039,
          137.20316622691294,
          68.60158311345647,
          58.04749340369393,
          110.8179419525066,
          126.64907651715039,
          126.64907651715039,
          94.9868073878628,
          158.31134564643799,
          100.26385224274406,
          79.15567282321899,
          192.0844327176781,
          158.31134564643799,
          100.26385224274406,
          68.60158311345647,
          79.15567282321899,
          126.64907651715039,
          126.64907651715039,
          137.20316622691294,
          205.8047493403694,
          142.48021108179418,
          131.92612137203167,
          82.32189973614776,
          116.09498680738785,
          100.26385224274406,
          79.15567282321899,
          100.26385224274406,
          105.54089709762533,
          83.37730870712402,
          94.9868073878628,
          86.54353562005277,
          82.32189973614776,
          131.92612137203167,
          66.49076517150395,
          71.76781002638522,
          103.43007915567283,
          92.87598944591029,
          126.64907651715039,
          158.31134564643799,
          131.92612137203167,
          98.15303430079156,
          137.20316622691294,
          94.9868073878628,
          110.8179419525066,
          163.58839050131925,
          121.37203166226912,
          177.30870712401054,
          155.14511873350924,
          116.09498680738785,
          142.48021108179418,
          158.31134564643799,
          79.15567282321899,
          142.48021108179418,
          126.64907651715039,
          126.64907651715039,
          100.26385224274406,
          114.98914119210009,
          145.65291217666012,
          252.97611062262018,
          99.65725569982007,
          130.3210266843801,
          84.32537020754006,
          214.64639689192018,
          11.498914119210008,
          168.65074041508012,
          214.64639689192018,
          283.6398816071802,
          229.97828238420018,
          168.65074041508012,
          61.32754196912005,
          168.65074041508012,
          214.64639689192018,
          329.63553808402025,
          107.32319844596009,
          214.64639689192018,
          176.31668316122014,
          153.3188549228001,
          260.6420533687602,
          191.64856865350015,
          283.6398816071802,
          199.31451139964014,
          153.3188549228001,
          137.9869694305201,
          153.3188549228001,
          168.65074041508012,
          99.65725569982007,
          137.9869694305201,
          237.64422513034017,
          176.31668316122014,
          229.97828238420018,
          183.98262590736013,
          130.3210266843801,
          283.6398816071802,
          145.65291217666012,
          191.64856865350015,
          107.32319844596009,
          260.6420533687602,
          206.98045414578016,
          76.65942746140006,
          145.65291217666012,
          122.6550839382401,
          229.97828238420018,
          122.6550839382401,
          114.98914119210009,
          191.64856865350015,
          237.64422513034017,
          283.6398816071802,
          237.64422513034017,
          153.3188549228001,
          344.96742357630023,
          160.98479766894013,
          65.16051334219004,
          168.65074041508012,
          130.3210266843801,
          114.98914119210009,
          122.6550839382401,
          375.6311945608603,
          237.64422513034017,
          191.64856865350015,
          183.98262590736013,
          122.6550839382401,
          72.82645608833006,
          237.64422513034017,
          145.65291217666012,
          122.6550839382401,
          252.97611062262018,
          275.9739388610402,
          153.3188549228001,
          11.498914119210008,
          214.64639689192018,
          168.65074041508012,
          130.3210266843801,
          76.65942746140006,
          122.6550839382401,
          283.6398816071802,
          237.64422513034017,
          68.99348471526005,
          367.96525181472026,
          252.97611062262018,
          283.6398816071802,
          57.494570596050046,
          168.65074041508012,
          137.9869694305201,
          130.3210266843801,
          122.6550839382401,
          76.65942746140006,
          153.3188549228001,
          160.98479766894013,
          283.6398816071802,
          283.6398816071802,
          536.6159922298004,
          99.65725569982007,
          283.6398816071802,
          505.95222124524037,
          229.97828238420018,
          145.65291217666012,
          237.64422513034017,
          126.48805531131009,
          191.64856865350015,
          214.64639689192018,
          283.6398816071802,
          168.65074041508012,
          84.32537020754006,
          122.6550839382401,
          99.65725569982007,
          145.65291217666012,
          145.65291217666012,
          76.65942746140006,
          168.65074041508012,
          191.64856865350015,
          99.65725569982007,
          153.3188549228001,
          199.31451139964014,
          298.97176709946024,
          337.30148083016024,
          130.3210266843801,
          114.98914119210009,
          252.97611062262018,
          145.65291217666012,
          145.65291217666012,
          153.3188549228001,
          130.3210266843801,
          168.65074041508012,
          91.99131295368007,
          15.331885492280012,
          130.3210266843801,
          191.64856865350015,
          252.97611062262018,
          145.65291217666012,
          168.65074041508012,
          237.64422513034017,
          191.64856865350015,
          91.99131295368007,
          130.3210266843801,
          153.3188549228001,
          191.64856865350015,
          421.6268510377003,
          76.65942746140006,
          168.65074041508012,
          467.62250751454036,
          91.99131295368007,
          306.6377098456002,
          160.98479766894013,
          283.6398816071802,
          237.64422513034017,
          145.65291217666012,
          235.48115432547874,
          141.28869259528724,
          94.1924617301915,
          196.2342952712323,
          156.98743621698583,
          160.9121221224105,
          113.81589125731473,
          164.83680802783513,
          138.14894387094753,
          180.53555164953372,
          149.13806440613655,
          117.74057716273937,
          208.00835298750624,
          196.2342952712323,
          196.2342952712323,
          117.74057716273937,
          196.2342952712323,
          266.87864156887593,
          125.58994897358866,
          192.30960936580766,
          259.02926975802666,
          156.98743621698583,
          70.64434629764362,
          105.54089709762533,
          137.20316622691294,
          110.8179419525066,
          116.09498680738785,
          158.31134564643799,
          158.31134564643799,
          126.64907651715039,
          205.8047493403694,
          147.75725593667545,
          116.09498680738785,
          116.09498680738785,
          105.54089709762533,
          82.32189973614776,
          137.20316622691294,
          116.09498680738785,
          88.65435356200527,
          158.31134564643799,
          84.43271767810026,
          168.86543535620052,
          79.15567282321899,
          116.09498680738785,
          158.31134564643799,
          147.75725593667545,
          211.08179419525067,
          126.64907651715039,
          121.37203166226912,
          142.48021108179418,
          126.64907651715039,
          84.43271767810026,
          126.64907651715039,
          158.31134564643799,
          131.92612137203167,
          137.20316622691294,
          126.64907651715039,
          116.09498680738785,
          137.20316622691294,
          211.08179419525067,
          105.54089709762533,
          168.86543535620052,
          137.20316622691294,
          179.41952506596306,
          137.20316622691294,
          116.09498680738785,
          108.70712401055408,
          94.9868073878628,
          100.26385224274406,
          103.43007915567283,
          189.9736147757256,
          158.31134564643799,
          137.20316622691294,
          105.54089709762533,
          137.20316622691294,
          263.85224274406335,
          131.92612137203167,
          137.20316622691294,
          158.31134564643799,
          137.20316622691294,
          116.09498680738785,
          116.09498680738785,
          100.26385224274406,
          89.70976253298153,
          147.75725593667545,
          131.92612137203167,
          147.75725593667545,
          101.31926121372031,
          116.09498680738785,
          89.70976253298153,
          94.9868073878628,
          131.92612137203167,
          147.75725593667545,
          126.64907651715039,
          126.64907651715039,
          158.31134564643799,
          143.53562005277044,
          136.14775725593668,
          189.9736147757256,
          121.37203166226912,
          86.54353562005277,
          137.20316622691294,
          68.60158311345647,
          137.20316622691294,
          137.20316622691294,
          131.92612137203167,
          126.64907651715039,
          137.20316622691294,
          100.26385224274406,
          121.37203166226912,
          168.86543535620052,
          158.31134564643799,
          184.69656992084433,
          126.64907651715039,
          174.1424802110818,
          126.64907651715039,
          84.43271767810026,
          168.86543535620052,
          116.09498680738785,
          116.09498680738785,
          142.48021108179418,
          116.09498680738785,
          65.4353562005277,
          89.70976253298153,
          94.9868073878628,
          126.64907651715039,
          179.41952506596306,
          153.03430079155672,
          116.09498680738785,
          126.64907651715039,
          116.09498680738785,
          126.64907651715039,
          79.15567282321899,
          94.9868073878628,
          168.86543535620052,
          89.70976253298153,
          163.58839050131925,
          137.20316622691294,
          105.54089709762533,
          94.9868073878628,
          94.9868073878628,
          84.43271767810026,
          147.75725593667545,
          84.43271767810026,
          105.54089709762533,
          97.0976253298153,
          65.4353562005277,
          110.8179419525066,
          116.09498680738785,
          116.09498680738785,
          137.20316622691294,
          158.31134564643799,
          89.70976253298153,
          110.8179419525066,
          105.54089709762533,
          189.9736147757256,
          142.48021108179418,
          126.64907651715039,
          179.41952506596306,
          110.8179419525066,
          158.31134564643799,
          189.9736147757256,
          126.64907651715039,
          125.59366754617415,
          121.37203166226912,
          82.32189973614776,
          121.37203166226912,
          124.53825857519789,
          116.09498680738785,
          137.20316622691294,
          126.64907651715039,
          110.8179419525066,
          116.09498680738785,
          147.75725593667545,
          97.0976253298153,
          100.26385224274406,
          94.9868073878628,
          116.09498680738785,
          121.37203166226912,
          126.64907651715039,
          126.64907651715039,
          105.54089709762533,
          122.42744063324538,
          137.20316622691294,
          158.31134564643799,
          168.86543535620052,
          158.31134564643799,
          126.64907651715039,
          168.86543535620052,
          89.70976253298153,
          179.41952506596306,
          189.9736147757256,
          126.64907651715039,
          131.92612137203167,
          137.20316622691294,
          84.43271767810026,
          91.82058047493403,
          147.75725593667545,
          189.9736147757256,
          211.08179419525067,
          168.86543535620052,
          116.09498680738785,
          142.48021108179418,
          89.70976253298153,
          189.9736147757256,
          189.9736147757256,
          200.52770448548813,
          121.37203166226912,
          158.31134564643799,
          158.31134564643799,
          137.20316622691294,
          147.75725593667545,
          147.75725593667545,
          100.26385224274406,
          147.75725593667545,
          200.52770448548813,
          100.26385224274406,
          147.75725593667545,
          79.15567282321899,
          179.41952506596306,
          211.08179419525067,
          179.41952506596306,
          100.26385224274406,
          200.52770448548813,
          89.70976253298153,
          126.64907651715039,
          126.64907651715039,
          126.64907651715039,
          131.92612137203167,
          155.14511873350924,
          137.20316622691294,
          153.03430079155672,
          94.9868073878628,
          126.64907651715039,
          153.03430079155672,
          103.43007915567283,
          142.48021108179418,
          105.54089709762533,
          158.31134564643799,
          189.9736147757256,
          126.64907651715039,
          89.70976253298153,
          158.31134564643799,
          142.48021108179418,
          211.08179419525067,
          158.31134564643799,
          97.0976253298153,
          189.9736147757256,
          168.86543535620052,
          211.08179419525067,
          131.92612137203167,
          94.9868073878628,
          137.20316622691294,
          153.03430079155672,
          147.75725593667545,
          103.43007915567283,
          126.64907651715039,
          89.70976253298153,
          84.43271767810026,
          116.09498680738785,
          100.26385224274406,
          116.09498680738785,
          137.20316622691294,
          147.75725593667545,
          147.75725593667545,
          100.26385224274406,
          137.20316622691294,
          116.09498680738785,
          263.85224274406335,
          189.9736147757256,
          105.54089709762533,
          153.03430079155672,
          116.09498680738785,
          100.26385224274406,
          158.31134564643799,
          126.64907651715039,
          147.75725593667545,
          168.86543535620052,
          131.92612137203167,
          100.26385224274406,
          168.86543535620052,
          103.43007915567283,
          179.41952506596306,
          153.03430079155672,
          158.31134564643799,
          137.20316622691294,
          179.41952506596306,
          158.31134564643799,
          248.0211081794195,
          105.54089709762533,
          116.09498680738785,
          126.64907651715039,
          105.54089709762533,
          184.69656992084433,
          158.31134564643799,
          126.64907651715039,
          158.31134564643799,
          168.86543535620052,
          163.58839050131925,
          158.31134564643799,
          147.75725593667545,
          158.31134564643799,
          165.69920844327177,
          179.41952506596306,
          147.75725593667545,
          73.87862796833772,
          158.31134564643799,
          116.09498680738785,
          168.86543535620052,
          116.09498680738785,
          94.9868073878628,
          158.31134564643799,
          147.75725593667545,
          179.41952506596306,
          147.75725593667545,
          179.41952506596306,
          221.6358839050132,
          116.09498680738785,
          226.91292875989447,
          147.75725593667545,
          179.41952506596306,
          158.31134564643799,
          158.31134564643799,
          137.20316622691294,
          147.75725593667545,
          116.09498680738785,
          105.54089709762533,
          226.91292875989447,
          168.86543535620052,
          110.8179419525066,
          126.64907651715039,
          100.26385224274406,
          94.9868073878628,
          168.86543535620052,
          158.31134564643799,
          121.37203166226912,
          105.54089709762533,
          168.86543535620052,
          158.31134564643799,
          226.91292875989447,
          263.85224274406335,
          126.64907651715039,
          126.64907651715039,
          105.54089709762533,
          168.86543535620052,
          163.58839050131925,
          189.9736147757256,
          122.42744063324538,
          168.86543535620052,
          126.64907651715039,
          63.324538258575195,
          89.70976253298153,
          126.64907651715039,
          163.58839050131925,
          94.9868073878628,
          134.81801674271244,
          88.47432348740504,
          354.8396683408125,
          222.88923890754555,
          473.7139290915035,
          148.5928259383637,
          44.57784778150911,
          237.7485215013819,
          118.87426075069095,
          294.2137953579601,
          178.31139112603643,
          280.54325537163066,
          297.1856518767274,
          148.5928259383637,
          118.87426075069095,
          118.87426075069095,
          289.7560105798092,
          74.29641296918184,
          118.87426075069095,
          146.80971202710333,
          172.3676780885019,
          44.57784778150911,
          191.38755980861245,
          178.31139112603643,
          148.5928259383637,
          146.80971202710333,
          89.15569556301821,
          148.5928259383637,
          312.04493447056376,
          222.59205325566882,
          74.29641296918184,
          221.1061249962852,
          178.31139112603643,
          118.87426075069095,
          81.72605426610004,
          148.5928259383637,
          148.5928259383637,
          59.437130375345475,
          148.5928259383637,
          137.9869694305201,
          168.65074041508012,
          153.3188549228001,
          283.6398816071802,
          130.3210266843801,
          130.3210266843801,
          191.64856865350015,
          168.65074041508012,
          114.98914119210009,
          191.64856865350015,
          114.98914119210009,
          222.31233963806017,
          214.64639689192018,
          122.6550839382401,
          137.9869694305201,
          145.65291217666012,
          107.32319844596009,
          137.9869694305201,
          206.98045414578016,
          260.6420533687602,
          229.97828238420018,
          122.6550839382401,
          114.98914119210009,
          76.65942746140006,
          183.98262590736013,
          153.3188549228001,
          153.3188549228001,
          91.99131295368007,
          114.98914119210009,
          252.97611062262018,
          84.32537020754006,
          160.98479766894013,
          206.98045414578016,
          153.3188549228001,
          126.48805531131009,
          206.98045414578016,
          122.6550839382401,
          53.661599222980044,
          153.3188549228001,
          107.32319844596009,
          122.6550839382401,
          130.3210266843801,
          214.64639689192018,
          130.3210266843801,
          199.31451139964014,
          352.6333663224403,
          183.98262590736013,
          206.98045414578016,
          229.97828238420018,
          122.6550839382401,
          153.3188549228001,
          72.82645608833006,
          153.3188549228001,
          283.6398816071802,
          191.64856865350015,
          130.3210266843801,
          30.663770984560024,
          130.3210266843801,
          329.63553808402025,
          191.64856865350015,
          252.97611062262018,
          114.98914119210009,
          137.9869694305201,
          107.32319844596009,
          114.98914119210009,
          168.65074041508012,
          130.3210266843801,
          114.98914119210009,
          122.6550839382401,
          122.6550839382401,
          99.65725569982007,
          260.6420533687602,
          160.98479766894013,
          126.48805531131009,
          107.32319844596009,
          183.98262590736013,
          107.32319844596009,
          191.64856865350015,
          283.6398816071802,
          168.65074041508012,
          183.98262590736013,
          114.98914119210009,
          114.98914119210009,
          107.32319844596009,
          337.30148083016024,
          298.97176709946024,
          153.3188549228001,
          122.6550839382401,
          206.98045414578016,
          283.6398816071802,
          168.65074041508012,
          275.9739388610402,
          237.64422513034017,
          283.6398816071802,
          130.3210266843801,
          168.65074041508012,
          252.97611062262018,
          229.97828238420018,
          84.32537020754006,
          145.65291217666012,
          191.64856865350015,
          145.65291217666012,
          137.9869694305201,
          252.97611062262018,
          214.64639689192018,
          84.32537020754006,
          306.6377098456002,
          306.6377098456002,
          183.98262590736013,
          329.63553808402025,
          99.65725569982007,
          199.31451139964014,
          107.32319844596009,
          490.6203357529604,
          283.6398816071802,
          114.98914119210009,
          199.31451139964014,
          168.65074041508012,
          137.9869694305201,
          237.64422513034017,
          191.64856865350015,
          168.65074041508012,
          168.65074041508012,
          130.3210266843801,
          114.98914119210009,
          436.95873652998034,
          130.3210266843801,
          168.65074041508012,
          122.6550839382401,
          337.30148083016024,
          168.65074041508012,
          191.64856865350015,
          298.97176709946024,
          65.16051334219004,
          490.6203357529604,
          191.64856865350015,
          153.3188549228001,
          130.3210266843801,
          107.32319844596009,
          229.97828238420018,
          191.64856865350015,
          168.65074041508012,
          168.65074041508012,
          145.65291217666012,
          252.97611062262018,
          168.65074041508012,
          191.64856865350015,
          168.65074041508012,
          130.3210266843801,
          245.3101678764802,
          237.64422513034017,
          237.64422513034017,
          191.64856865350015,
          214.64639689192018,
          130.3210266843801,
          145.65291217666012,
          122.6550839382401,
          168.65074041508012,
          137.9869694305201,
          168.65074041508012,
          130.3210266843801,
          367.96525181472026,
          130.3210266843801,
          160.98479766894013,
          85,
          195,
          88,
          89,
          165,
          160,
          199,
          210,
          225,
          145,
          200,
          225,
          90,
          50,
          190,
          185,
          110,
          220,
          300,
          90,
          285,
          148,
          135,
          120,
          145,
          150,
          250,
          195,
          195,
          200,
          97,
          205,
          129,
          125,
          300,
          115,
          158,
          195,
          300,
          150,
          175,
          90,
          78,
          225,
          135,
          165,
          75,
          88,
          148,
          150,
          402,
          250,
          155,
          600,
          70,
          139,
          120,
          189,
          165,
          175,
          75,
          110,
          155,
          89,
          135,
          300,
          210,
          89.70976253298153,
          126.64907651715039,
          100.26385224274406,
          116.09498680738785,
          126.64907651715039,
          178.31139112603643,
          118.87426075069095,
          445.7784778150911,
          59.437130375345475,
          148.5928259383637,
          148.5928259383637,
          74.29641296918184,
          44.57784778150911,
          118.87426075069095,
          44.57784778150911,
          191.38755980861245,
          29.718565187672738,
          249.635947576451,
          118.87426075069095,
          168.40369196530588,
          124.19151324875064,
          129.15917377870068,
          81.96639874417542,
          148.53304984550576,
          178.83577907820091,
          188.77110013810096,
          273.2213291472514,
          188.77110013810096,
          89.41788953910046,
          118.72708666580561,
          88.92112348610546,
          98.8564445460055,
          81.96639874417542,
          254.45821173000428,
          202.52796443816666,
          332.3535826677607,
          233.68611281326923,
          186.9488902506154,
          192.14191497979914,
          202.52796443816666,
          192.14191497979914,
          207.20168669443206,
          120.43319593344815,
          158.31134564643799,
          167.81002638522426,
          211.08179419525067,
          130.8707124010554,
          99.2084432717678,
          110.8179419525066,
          109.76253298153034,
          169.76007243096421,
          226.34676324128563,
          466.8401991851516,
          325.3734721593481,
          275.8601177003169,
          212.2000905387053,
          253.93277501131732,
          254.64010864644635,
          282.93345405160704,
          212.2000905387053,
          212.2000905387053,
          253.93277501131732,
          140.75939339067452,
          140.75939339067452,
          444.9128564961521,
          169.76007243096421,
          190.98008148483476,
          254.64010864644635,
          124.66732035299061,
          82.64462809917354,
          175.0945510575711,
          146.23896904328336,
          133.7722370079843,
          133.07185880375403,
          147.07942288835972,
          109.25899985992436,
          135.87337162067516,
          137.27412802913574,
          96.17322554126709,
          116.80168551243742,
          64.11548369417805,
          83.35012880243147,
          82.23507691209794,
          115.68663362210388,
          87.8103363637656,
          163.94621413676566,
          179.76558567627814,
          179.76558567627814,
          163.94621413676566,
          163.94621413676566,
          204.93276767095708,
          251.67181994678938,
          287.624937082045,
          228.6618249802258,
          7.190623427051125,
          127.99309700151002,
          192.70870784497015,
          71.90623427051125,
          185.51808441791903,
          86.2874811246135,
          359.53117135255627,
          243.04307183432803,
          127.99309700151002,
          163.94621413676566,
          156.75559070971454,
          135.18372042856114,
          235.8524484072769,
          207.0899546990724,
          278.99618896958367,
          149.5649672826634,
          92.0399798662544,
          156.75559070971454,
          192.70870784497015,
          395.48428848781185,
          178.3274609908679,
          127.99309700151002,
          142.37434385561227,
          214.28057812612352,
          120.8024735744589,
          158.19371539512474,
          178.3274609908679,
          70.46810958510103,
          309.1968073631984,
          467.39052275832313,
          143.8124685410225,
          293.3774358236859,
          134.05322384530663,
          87.57245778839126,
          255.98103045837448,
          296.3990878991704,
          202.09028720397984,
          100.37150931130999,
          185.24942993698153,
          107.78148650878924,
          336.81714533996643,
          127.99051522918724,
          84.20428633499161,
          218.93114447097815,
          67.36342906799328,
          134.72685813598656,
          242.5083446447758,
          198.04848145990024,
          141.4632010427859,
          84.20428633499161,
          235.7720017379765,
          67.36342906799328,
          168.40857266998322,
          127.99051522918724,
          168.40857266998322,
          296.3990878991704,
          235.7720017379765,
          85,
          160,
          100,
          75,
          250,
          50,
          195,
          103,
          150,
          150,
          90,
          75,
          115,
          445,
          315,
          75,
          90,
          325,
          108,
          120,
          98,
          150,
          105,
          75,
          130,
          75,
          175,
          150,
          200,
          185,
          75,
          180,
          150,
          90,
          94,
          150,
          89,
          185,
          400,
          230,
          189,
          60,
          150,
          50,
          75,
          100,
          155,
          150,
          255,
          175,
          165,
          75,
          150,
          150,
          165,
          115,
          140,
          175,
          85,
          150,
          160,
          95,
          175,
          255,
          300,
          150,
          50,
          50,
          225,
          85,
          120,
          165,
          350,
          75,
          65,
          228,
          130,
          100,
          85,
          130,
          150,
          145,
          92.87598944591029,
          126.64907651715039,
          158.31134564643799,
          117.15039577836411,
          94.9868073878628,
          126.64907651715039,
          110.8179419525066,
          135.09234828496042,
          137.20316622691294,
          110.8179419525066,
          110.8179419525066,
          126.64907651715039,
          128.7598944591029,
          131.92612137203167,
          137.20316622691294,
          105.54089709762533,
          110.8179419525066,
          189.9736147757256,
          142.48021108179418,
          136.14775725593668,
          116.09498680738785,
          116.09498680738785,
          158.31134564643799,
          105.54089709762533,
          100.26385224274406,
          169.92084432717678,
          116.09498680738785,
          137.20316622691294,
          160.4221635883905,
          118.20580474934037,
          104.48548812664907,
          103.43007915567283,
          98.15303430079156,
          205.8047493403694,
          105.54089709762533,
          158.31134564643799,
          126.64907651715039,
          147.75725593667545,
          103.43007915567283,
          158.31134564643799,
          142.48021108179418,
          146.70184696569922,
          134.03693931398416,
          131.92612137203167,
          137.20316622691294,
          158.31134564643799,
          137.20316622691294,
          123.48284960422164,
          142.48021108179418,
          125.59366754617415,
          263.85224274406335,
          121.37203166226912,
          158.31134564643799,
          142.48021108179418,
          105.54089709762533,
          200.52770448548813,
          236.41160949868075,
          127.70448548812665,
          121.37203166226912,
          136.14775725593668,
          104.48548812664907,
          110.8179419525066,
          131.92612137203167,
          131.92612137203167,
          126.64907651715039,
          104.48548812664907,
          153.03430079155672,
          200.52770448548813,
          153.03430079155672,
          89.70976253298153,
          142.48021108179418,
          92.87598944591029,
          147.75725593667545,
          92.87598944591029,
          131.92612137203167,
          105.54089709762533,
          110.8179419525066,
          94.9868073878628,
          94.9868073878628,
          147.75725593667545,
          94.9868073878628,
          105.54089709762533,
          195.25065963060686,
          184.69656992084433,
          205.8047493403694,
          83.37730870712402,
          147.75725593667545,
          163.58839050131925,
          119.26121372031662,
          131.92612137203167,
          121.37203166226912,
          147.75725593667545,
          139.0148080991236,
          211.54427319431852,
          156.13982069104463,
          176.28689432859878,
          176.28689432859878,
          125.9192102347134,
          190.38984587488667,
          221.61781001309558,
          189.38249219300897,
          205.50015110305227,
          196.43396796615292,
          135.9927470534905,
          216.58104160370706,
          179.30895537423189,
          264.934018333837,
          135.9927470534905,
          135.9927470534905,
          125.9192102347134,
          157.14717437292234,
          135.9927470534905,
          146.06628387226755,
          181.3236627379873,
          196.43396796615292,
          120.88244182532488,
          191.39719955676438,
          190.38984587488667,
          191.39719955676438,
          166.2133575098217,
          139.0148080991236,
          176.28689432859878,
          453.30915684496824,
          221.61781001309558,
          146.06628387226755,
          145.05893019038984,
          171.25012591921023,
          181.3236627379873,
          161.17658910043315,
          190.38984587488667,
          251.8384204694268,
          133.97803968973506,
          211.54427319431852,
          201.47073637554143,
          135.9927470534905,
          143.04422282663444,
          199.45602901178603,
          206.50750478492998,
          186.36043114737583,
          181.3236627379873,
          125.9192102347134,
          181.3236627379873,
          189.38249219300897,
          130.95597864410195,
          148.08099123602295,
          177.29424801047648,
          141.029515462879,
          206.50750478492998,
          165.206003827944,
          181.3236627379873,
          175.27954064672105,
          161.17658910043315,
          141.029515462879,
          166.2133575098217,
          200.46338269366373,
          171.25012591921023,
          166.2133575098217,
          251.8384204694268,
          191.39719955676438,
          146.06628387226755,
          221.61781001309558,
          141.029515462879,
          141.029515462879,
          186.36043114737583,
          170.24277223733253,
          161.17658910043315,
          199.45602901178603,
          199.45602901178603,
          171.25012591921023,
          249.8237131056714,
          146.06628387226755,
          301.1987508814345,
          122.89714918908028,
          181.3236627379873,
          362.6473254759746,
          287.0957993351466,
          149.08834491790068,
          151.1030522816561,
          190.38984587488667,
          166.2133575098217,
          191.39719955676438,
          176.28689432859878,
          232.1899736147757,
          248.0211081794195,
          189.9736147757256,
          253.29815303430078,
          221.6358839050132,
          130.8707124010554,
          232.1899736147757,
          174.1424802110818,
          157.25593667546173,
          124.53825857519789,
          110.8179419525066,
          142.48021108179418,
          100.26385224274406,
          94.9868073878628,
          79.15567282321899,
          195.25065963060686,
          126.64907651715039,
          195.25065963060686,
          73.87862796833772,
          121.37203166226912,
          147.75725593667545,
          137.20316622691294,
          158.31134564643799,
          75.98944591029024,
          88.65435356200527,
          116.09498680738785,
          107.65171503957784,
          147.75725593667545,
          151.9788918205805,
          110.8179419525066,
          142.48021108179418,
          126.64907651715039,
          200.52770448548813,
          121.37203166226912,
          163.58839050131925,
          120.31662269129288,
          115.03957783641161,
          101.31926121372031,
          189.9736147757256,
          200.52770448548813,
          100.26385224274406,
          179.41952506596306,
          92.87598944591029,
          79.15567282321899,
          263.85224274406335,
          113.98416886543535,
          126.64907651715039,
          103.43007915567283,
          98.15303430079156,
          126.64907651715039,
          109.76253298153034,
          86.54353562005277,
          72.82321899736148,
          100.26385224274406,
          131.92612137203167,
          89.70976253298153,
          87.59894459102902,
          116.09498680738785,
          137.20316622691294,
          89.70976253298153,
          401.05540897097626,
          122.42744063324538,
          100.26385224274406,
          94.9868073878628,
          116.09498680738785,
          121.37203166226912,
          147.75725593667545,
          60.15831134564644,
          113.98416886543535,
          295.5145118733509,
          126.64907651715039,
          137.20316622691294,
          142.48021108179418,
          103.43007915567283,
          153.03430079155672,
          174.1424802110818,
          128.7598944591029,
          100.26385224274406,
          115.03957783641161,
          126.64907651715039,
          116.09498680738785,
          126.64907651715039,
          97.0976253298153,
          118.20580474934037,
          147.75725593667545,
          147.75725593667545,
          205.8047493403694,
          163.58839050131925,
          116.09498680738785,
          147.75725593667545,
          179.41952506596306,
          131.92612137203167,
          116.09498680738785,
          176.2532981530343,
          110.8179419525066,
          87.59894459102902,
          137.20316622691294,
          348.2849604221636,
          73.87862796833772,
          94.9868073878628,
          775.7255936675461,
          195.25065963060686,
          174.1424802110818,
          100.26385224274406,
          103.43007915567283,
          189.9736147757256,
          110.8179419525066,
          179.41952506596306,
          123.48284960422164,
          189.9736147757256,
          83.37730870712402,
          102.37467018469657,
          102.37467018469657,
          131.92612137203167,
          97.0976253298153,
          200.52770448548813,
          116.09498680738785,
          84.43271767810026,
          100.26385224274406,
          63.324538258575195,
          89.70976253298153,
          131.92612137203167,
          158.31134564643799,
          116.09498680738785,
          158.31134564643799,
          158.31134564643799,
          110.8179419525066,
          86.54353562005277,
          121.37203166226912,
          110.8179419525066,
          121.37203166226912,
          126.64907651715039,
          166.75461741424803,
          116.09498680738785,
          139.31398416886543,
          146.70184696569922,
          163.58839050131925,
          143.53562005277044,
          153.03430079155672,
          131.92612137203167,
          88.65435356200527,
          177.30870712401054,
          71.76781002638522,
          101.31926121372031,
          116.09498680738785,
          163.58839050131925,
          100.26385224274406,
          146.70184696569922,
          100.26385224274406,
          126.64907651715039,
          157.25593667546173,
          103.43007915567283,
          131.92612137203167,
          287.0712401055409,
          146.70184696569922,
          174.1424802110818,
          103.43007915567283,
          200.52770448548813,
          174.1424802110818,
          121.37203166226912,
          168.86543535620052,
          116.09498680738785,
          232.1899736147757,
          103.43007915567283,
          158.31134564643799,
          137.20316622691294,
          200.52770448548813,
          148.8126649076517,
          84.43271767810026,
          103.43007915567283,
          126.64907651715039,
          98.15303430079156,
          116.09498680738785,
          142.48021108179418,
          111.87335092348285,
          137.20316622691294,
          72.82321899736148,
          116.09498680738785,
          126.64907651715039,
          116.09498680738785,
          100.26385224274406,
          122.42744063324538,
          157.25593667546173,
          103.43007915567283,
          163.58839050131925,
          110.8179419525066,
          168.86543535620052,
          200.52770448548813,
          158.31134564643799,
          116.09498680738785,
          168.86543535620052,
          83.37730870712402,
          116.09498680738785,
          168.86543535620052,
          211.08179419525067,
          258.57519788918205,
          110.8179419525066,
          125.59366754617415,
          179.41952506596306,
          124.53825857519789,
          79.15567282321899,
          527.7044854881267,
          101.31926121372031,
          103.43007915567283,
          126.64907651715039,
          103.43007915567283,
          131.92612137203167,
          137.20316622691294,
          143.53562005277044,
          86.54353562005277,
          153.03430079155672,
          126.64907651715039,
          136.14775725593668,
          120.31662269129288,
          195.25065963060686,
          94.9868073878628,
          88.65435356200527,
          179.41952506596306,
          158.31134564643799,
          120.31662269129288,
          105.54089709762533,
          242.74406332453825,
          94.9868073878628,
          178.3641160949868,
          168.86543535620052,
          248.0211081794195,
          89.70976253298153,
          116.09498680738785,
          184.69656992084433,
          158.31134564643799,
          113.98416886543535,
          84.43271767810026,
          110.8179419525066,
          295.5145118733509,
          205.8047493403694,
          94.9868073878628,
          179.41952506596306,
          158.31134564643799,
          156.2005277044855,
          99.2084432717678,
          100.26385224274406,
          200.52770448548813,
          116.09498680738785,
          158.31134564643799,
          110.8179419525066,
          126.64907651715039,
          126.64907651715039,
          237.46701846965698,
          97.0976253298153,
          102.37467018469657,
          104.48548812664907,
          179.41952506596306,
          98.15303430079156,
          89.70976253298153,
          94.9868073878628,
          121.37203166226912,
          200.52770448548813,
          242.74406332453825,
          147.75725593667545,
          101.31926121372031,
          153.03430079155672,
          157.25593667546173,
          269.1292875989446,
          137.20316622691294,
          135.09234828496042,
          126.64907651715039,
          179.41952506596306,
          147.75725593667545,
          121.37203166226912,
          163.58839050131925,
          105.54089709762533,
          100.26385224274406,
          126.64907651715039,
          79.15567282321899,
          135.09234828496042,
          84.43271767810026,
          103.43007915567283,
          84.43271767810026,
          125.59366754617415,
          118.20580474934037,
          100.26385224274406,
          126.64907651715039,
          168.86543535620052,
          100.26385224274406,
          211.08179419525067,
          184.69656992084433,
          105.54089709762533,
          131.92612137203167,
          116.09498680738785,
          189.9736147757256,
          94.9868073878628,
          115.03957783641161,
          116.09498680738785,
          184.69656992084433,
          126.64907651715039,
          86.54353562005277,
          125.59366754617415,
          158.31134564643799,
          121.37203166226912,
          211.08179419525067,
          137.20316622691294,
          153.03430079155672,
          131.92612137203167,
          103.43007915567283,
          129.81530343007915,
          100.26385224274406,
          179.41952506596306,
          105.54089709762533,
          116.09498680738785,
          132.9815303430079,
          124.53825857519789,
          126.64907651715039,
          126.64907651715039,
          168.86543535620052,
          174.1424802110818,
          99.2084432717678,
          126.64907651715039,
          203.69393139841688,
          109.76253298153034,
          131.92612137203167,
          168.86543535620052,
          100.26385224274406,
          131.92612137203167,
          174.1424802110818,
          124.53825857519789,
          100.26385224274406,
          105.54089709762533,
          116.09498680738785,
          221.6358839050132,
          116.09498680738785,
          126.64907651715039,
          168.86543535620052,
          110.8179419525066,
          163.58839050131925,
          156.2005277044855,
          89.70976253298153,
          126.64907651715039,
          110.8179419525066,
          121.37203166226912,
          131.92612137203167,
          199.47229551451187,
          126.64907651715039,
          174.1424802110818,
          122.42744063324538,
          142.48021108179418,
          158.31134564643799,
          142.48021108179418,
          139.31398416886543,
          145.64643799472296,
          211.08179419525067,
          104.48548812664907,
          174.1424802110818,
          195.25065963060686,
          93.93139841688654,
          105.54089709762533,
          226.91292875989447,
          163.58839050131925,
          158.31134564643799,
          216.35883905013193,
          126.64907651715039,
          82.32189973614776,
          91.82058047493403,
          89.70976253298153,
          116.09498680738785,
          75.98944591029024,
          126.64907651715039,
          189.9736147757256,
          153.03430079155672,
          146.70184696569922,
          103.43007915567283,
          116.09498680738785,
          126.64907651715039,
          124.53825857519789,
          146.70184696569922,
          157.25593667546173,
          116.09498680738785,
          121.37203166226912,
          82.32189973614776,
          110.8179419525066,
          128.7598944591029,
          142.48021108179418,
          131.92612137203167,
          121.37203166226912,
          121.37203166226912,
          253.29815303430078,
          205.8047493403694,
          147.75725593667545,
          137.20316622691294,
          137.20316622691294,
          126.64907651715039,
          94.9868073878628,
          104.48548812664907,
          142.48021108179418,
          128.7598944591029,
          83.37730870712402,
          153.03430079155672,
          168.86543535620052,
          80.21108179419525,
          170.97625329815304,
          168.86543535620052,
          81.2664907651715,
          97.0976253298153,
          226.91292875989447,
          63.324538258575195,
          158.31134564643799,
          79.15567282321899,
          137.20316622691294,
          154.08970976253298,
          105.54089709762533,
          131.92612137203167,
          103.43007915567283,
          185.75197889182058,
          84.43271767810026,
          153.03430079155672,
          274.4063324538259,
          121.37203166226912,
          116.09498680738785,
          153.03430079155672,
          116.09498680738785,
          158.31134564643799,
          158.31134564643799,
          137.20316622691294,
          116.09498680738785,
          321.89973614775727,
          131.92612137203167,
          125.59366754617415,
          89.70976253298153,
          167.81002638522426,
          107.65171503957784,
          116.09498680738785,
          103.43007915567283,
          167.81002638522426,
          142.48021108179418,
          142.48021108179418,
          205.8047493403694,
          170.97625329815304,
          116.09498680738785,
          168.86543535620052,
          422.16358839050133,
          100.26385224274406,
          137.20316622691294,
          103.43007915567283,
          93.93139841688654,
          94.9868073878628,
          160.4221635883905,
          79.15567282321899,
          79.15567282321899,
          137.20316622691294,
          92.87598944591029,
          131.92612137203167,
          258.57519788918205,
          126.64907651715039,
          126.64907651715039,
          153.03430079155672,
          92.87598944591029,
          121.37203166226912,
          205.8047493403694,
          110.8179419525066,
          73.87862796833772,
          137.20316622691294,
          142.48021108179418,
          112.9287598944591,
          147.75725593667545,
          83.37730870712402,
          75.98944591029024,
          174.1424802110818,
          295.5145118733509,
          135.09234828496042,
          123.48284960422164,
          126.64907651715039,
          153.03430079155672,
          116.09498680738785,
          116.09498680738785,
          136.14775725593668,
          246.96569920844328,
          142.48021108179418,
          189.9736147757256,
          121.37203166226912,
          94.9868073878628,
          110.8179419525066,
          170.97625329815304,
          85.48812664907652,
          170.97625329815304,
          147.75725593667545,
          195.25065963060686,
          100.26385224274406,
          131.92612137203167,
          126.64907651715039,
          126.64907651715039,
          112.9287598944591,
          126.64907651715039,
          199.47229551451187,
          103.43007915567283,
          147.75725593667545,
          121.37203166226912,
          126.64907651715039,
          142.48021108179418,
          94.9868073878628,
          68.60158311345647,
          116.09498680738785,
          126.64907651715039,
          121.37203166226912,
          174.1424802110818,
          105.54089709762533,
          253.29815303430078,
          94.9868073878628,
          143.53562005277044,
          200.52770448548813,
          195.25065963060686,
          116.09498680738785,
          109.76253298153034,
          137.20316622691294,
          168.86543535620052,
          81.2664907651715,
          137.20316622691294,
          189.9736147757256,
          174.1424802110818,
          158.31134564643799,
          153.03430079155672,
          187.86279683377307,
          189.9736147757256,
          110.8179419525066,
          105.54089709762533,
          167.81002638522426,
          79.15567282321899,
          99.2084432717678,
          158.31134564643799,
          147.75725593667545,
          184.69656992084433,
          110.8179419525066,
          131.92612137203167,
          92.87598944591029,
          155.14511873350924,
          131.92612137203167,
          123.48284960422164,
          142.48021108179418,
          99.2084432717678,
          153.03430079155672,
          168.86543535620052,
          121.37203166226912,
          137.20316622691294,
          130.8707124010554,
          172.0316622691293,
          100.26385224274406,
          121.37203166226912,
          93.93139841688654,
          110.8179419525066,
          100.26385224274406,
          147.75725593667545,
          110.8179419525066,
          116.09498680738785,
          105.54089709762533,
          126.64907651715039,
          136.14775725593668,
          137.20316622691294,
          136.14775725593668,
          136.14775725593668,
          100.26385224274406,
          153.03430079155672,
          131.92612137203167,
          89.70976253298153,
          147.75725593667545,
          47.4934036939314,
          137.20316622691294,
          106.59630606860158,
          116.09498680738785,
          97.0976253298153,
          174.1424802110818,
          127.70448548812665,
          126.64907651715039,
          142.48021108179418,
          110.8179419525066,
          174.1424802110818,
          126.64907651715039,
          97.0976253298153,
          84.43271767810026,
          158.31134564643799,
          100.26385224274406,
          142.48021108179418,
          166.75461741424803,
          99.2084432717678,
          158.31134564643799,
          122.42744063324538,
          116.09498680738785,
          100.26385224274406,
          103.43007915567283,
          137.20316622691294,
          116.09498680738785,
          131.92612137203167,
          195.25065963060686,
          141.42480211081795,
          128.7598944591029,
          158.31134564643799,
          82.32189973614776,
          184.69656992084433,
          110.8179419525066,
          126.64907651715039,
          158.31134564643799,
          100.26385224274406,
          116.09498680738785,
          142.48021108179418,
          126.64907651715039,
          116.09498680738785,
          126.64907651715039,
          237.46701846965698,
          126.64907651715039,
          132.9815303430079,
          100.26385224274406,
          126.64907651715039,
          125.59366754617415,
          131.92612137203167,
          116.09498680738785,
          81.2664907651715,
          126.64907651715039,
          248.0211081794195,
          195.25065963060686,
          177.30870712401054,
          124.53825857519789,
          160.4221635883905,
          221.6358839050132,
          98.15303430079156,
          219.52506596306068,
          104.48548812664907,
          168.86543535620052,
          74.77109892040684,
          75.94244772855943,
          101.5168967065576,
          85.89891259785644,
          91.75565663861937,
          77.11379653671202,
          61.49581242801085,
          66.37643246197997,
          89.80340862503172,
          75.16154852312438,
          80.98258874342017,
          63.324538258575195,
          50.659630606860155,
          73.87862796833772,
          56.992084432717675,
          50.659630606860155,
          60.15831134564644,
          79.15567282321899,
          65.4353562005277,
          59.10290237467019,
          71.76781002638522,
          59.10290237467019,
          58.04749340369393,
          65.4353562005277,
          79.15567282321899,
          89.70976253298153,
          89.70976253298153,
          79.15567282321899,
          69.65699208443272,
          59.10290237467019,
          89.70976253298153,
          79.15567282321899,
          100.26385224274406,
          68.60158311345647,
          51.715039577836414,
          58.04749340369393,
          104.48548812664907,
          61.21372031662269,
          75.98944591029024,
          60.15831134564644,
          116.09498680738785,
          58.04749340369393,
          77.04485488126649,
          104.48548812664907,
          94.9868073878628,
          59.10290237467019,
          93.93139841688654,
          63.324538258575195,
          83.37730870712402,
          58.04749340369393,
          62.26912928759894,
          70.71240105540898,
          56.992084432717675,
          60.15831134564644,
          94.9868073878628,
          56.992084432717675,
          82.32189973614776,
          48.54881266490765,
          61.21372031662269,
          59.10290237467019,
          63.324538258575195,
          61.21372031662269,
          59.10290237467019,
          61.21372031662269,
          65.4353562005277,
          61.21372031662269,
          59.10290237467019,
          94.9868073878628,
          77.04485488126649,
          59.10290237467019,
          65.4353562005277,
          52.770448548812666,
          65.4353562005277,
          75.98944591029024,
          63.324538258575195,
          44.327176781002635,
          52.770448548812666,
          47.4934036939314,
          75.98944591029024,
          66.49076517150395,
          74.93403693931398,
          64.37994722955145,
          70.71240105540898,
          65.4353562005277,
          58.04749340369393,
          55.93667546174142,
          66.49076517150395,
          104.48548812664907,
          68.60158311345647,
          58.04749340369393,
          62.26912928759894,
          59.10290237467019,
          44.327176781002635,
          79.15567282321899,
          78.10026385224275,
          52.770448548812666,
          72.82321899736148,
          75.98944591029024,
          68.60158311345647,
          68.60158311345647,
          70.71240105540898,
          60.15831134564644,
          51.715039577836414,
          52.770448548812666,
          79.15567282321899,
          131.92612137203167,
          72.82321899736148,
          89.70976253298153,
          46.437994722955146,
          55.93667546174142,
          63.324538258575195,
          60.15831134564644,
          74.93403693931398,
          72.82321899736148,
          49.6042216358839,
          65.4353562005277,
          52.770448548812666,
          63.324538258575195,
          63.324538258575195,
          75.98944591029024,
          83.37730870712402,
          52.770448548812666,
          52.770448548812666,
          68.60158311345647,
          54.88126649076517,
          71.76781002638522,
          79.15567282321899,
          63.324538258575195,
          58.04749340369393,
          66.49076517150395,
          64.37994722955145,
          63.324538258575195,
          65.4353562005277,
          72.82321899736148,
          56.992084432717675,
          68.60158311345647,
          49.6042216358839,
          71.76781002638522,
          54.88126649076517,
          89.70976253298153,
          63.324538258575195,
          79.15567282321899,
          55.93667546174142,
          73.87862796833772,
          73.87862796833772,
          89.70976253298153,
          58.04749340369393,
          88.65435356200527,
          49.6042216358839,
          84.43271767810026,
          43.27176781002638,
          58.04749340369393,
          82.32189973614776,
          73.87862796833772,
          65.4353562005277,
          72.82321899736148,
          89.70976253298153,
          85.48812664907652,
          61.21372031662269,
          82.32189973614776,
          66.49076517150395,
          93.93139841688654,
          63.324538258575195,
          59.10290237467019,
          58.04749340369393,
          73.87862796833772,
          65.4353562005277,
          58.04749340369393,
          68.60158311345647,
          72.82321899736148,
          60.15831134564644,
          68.60158311345647,
          59.10290237467019,
          67.54617414248021,
          69.65699208443272,
          72.82321899736148,
          71.76781002638522,
          56.992084432717675,
          56.992084432717675,
          62.26912928759894,
          68.60158311345647,
          54.88126649076517,
          68.60158311345647,
          59.10290237467019,
          70.71240105540898,
          59.10290237467019,
          67.54617414248021,
          56.992084432717675,
          64.37994722955145,
          47.4934036939314,
          60.15831134564644,
          104.48548812664907,
          63.324538258575195,
          71.76781002638522,
          58.04749340369393,
          104.48548812664907,
          60.15831134564644,
          83.37730870712402,
          39.050131926121374,
          74.93403693931398,
          54.88126649076517,
          87.59894459102902,
          102.37467018469657,
          69.65699208443272,
          46.437994722955146,
          63.324538258575195,
          56.992084432717675,
          73.87862796833772,
          55.93667546174142,
          54.88126649076517,
          66.49076517150395,
          46.437994722955146,
          79.15567282321899,
          63.324538258575195,
          56.992084432717675,
          68.60158311345647,
          110.8179419525066,
          94.9868073878628,
          63.324538258575195,
          72.82321899736148,
          72.82321899736148,
          62.26912928759894,
          82.32189973614776,
          66.49076517150395,
          100.26385224274406,
          48.54881266490765,
          103.43007915567283,
          59.10290237467019,
          86.54353562005277,
          67.54617414248021,
          56.992084432717675,
          54.88126649076517,
          93.93139841688654,
          68.60158311345647,
          68.60158311345647,
          136.14775725593668,
          94.9868073878628,
          71.76781002638522,
          63.324538258575195,
          75.98944591029024,
          73.87862796833772,
          81.2664907651715,
          67.54617414248021,
          62.26912928759894,
          60.15831134564644,
          65.4353562005277,
          58.04749340369393,
          66.49076517150395,
          68.60158311345647,
          59.10290237467019,
          58.04749340369393,
          63.324538258575195,
          63.324538258575195,
          54.88126649076517,
          67.54617414248021,
          89.70976253298153,
          68.60158311345647,
          83.37730870712402,
          51.715039577836414,
          82.32189973614776,
          59.10290237467019,
          89.70976253298153,
          71.76781002638522,
          68.60158311345647,
          66.49076517150395,
          71.76781002638522,
          68.60158311345647,
          60.15831134564644,
          58.04749340369393,
          85.48812664907652,
          54.88126649076517,
          50.659630606860155,
          97.0976253298153,
          55.93667546174142,
          80.21108179419525,
          50.659630606860155,
          48.54881266490765,
          75.98944591029024,
          75.98944591029024,
          55.93667546174142,
          84.43271767810026,
          58.04749340369393,
          69.65699208443272,
          100.26385224274406,
          63.324538258575195,
          68.60158311345647,
          62.26912928759894,
          58.04749340369393,
          67.54617414248021,
          69.65699208443272,
          49.6042216358839,
          73.87862796833772,
          72.82321899736148,
          63.324538258575195,
          81.2664907651715,
          80.21108179419525,
          89.70976253298153,
          69.65699208443272,
          50.659630606860155,
          79.15567282321899,
          84.43271767810026,
          72.82321899736148,
          63.324538258575195,
          68.60158311345647,
          44.327176781002635,
          71.76781002638522,
          82.32189973614776,
          65.4353562005277,
          45.382585751978894,
          49.6042216358839,
          51.715039577836414,
          48.54881266490765,
          42.21635883905013,
          48.54881266490765,
          48.54881266490765,
          45.382585751978894,
          52.770448548812666,
          47.4934036939314,
          54.88126649076517,
          52.770448548812666,
          46.437994722955146,
          58.04749340369393,
          61.21372031662269,
          40.105540897097626,
          33.773087071240106,
          51.715039577836414,
          45.382585751978894,
          56.992084432717675,
          54.88126649076517,
          51.715039577836414,
          61.21372031662269,
          40.70556309362279,
          53.04058221290243,
          80.17762427531763,
          49.340076477118544,
          50.5735783890465,
          57.97458986061429,
          86.34513383495745,
          49.340076477118544,
          37.00505735783891,
          49.340076477118544,
          69.07610706796596,
          83.87813001110152,
          49.340076477118544,
          45.63957074133465,
          43.172566917478726,
          40.70556309362279,
          54.274084124830395,
          67.84260515603799,
          55.50758603675836,
          43.172566917478726,
          75.24361662760577,
          57.97458986061429,
          50.5735783890465,
          50.5735783890465,
          62.90859750832614,
          37.00505735783891,
          60.44159368447021,
          45.63957074133465,
          55.50758603675836,
          60.44159368447021,
          64.1420994202541,
          85.11163192302948,
          56.74108794868632,
          37.00505735783891,
          61.67509559639818,
          37.00505735783891,
          57.97458986061429,
          55.50758603675836,
          49.340076477118544,
          49.340076477118544,
          48.10657456519058,
          40.70556309362279,
          44.406068829406685,
          55.50758603675836,
          71.54311089182188,
          74.01011471567782,
          43.172566917478726,
          43.172566917478726,
          51.80708030097447,
          64.1420994202541,
          59.20809177254225,
          44.406068829406685,
          44.406068829406685,
          57.97458986061429,
          39.47206118169483,
          48.10657456519058,
          39.47206118169483,
          49.340076477118544,
          44.406068829406685,
          41.93906500555076,
          43.172566917478726,
          49.340076477118544,
          39.47206118169483,
          39.47206118169483,
          34.53805353398298,
          50.5735783890465,
          39.47206118169483,
          43.172566917478726,
          59.20809177254225,
          50.5735783890465,
          43.172566917478726,
          61.67509559639818,
          43.172566917478726,
          37.00505735783891,
          46.87307265326261,
          46.87307265326261,
          44.406068829406685,
          56.74108794868632,
          46.87307265326261,
          59.20809177254225,
          38.23855926976687,
          43.172566917478726,
          43.172566917478726,
          55.50758603675836,
          56.74108794868632,
          49.340076477118544,
          66.60910324411003,
          40.70556309362279,
          48.10657456519058,
          55.50758603675836,
          55.50758603675836,
          61.67509559639818,
          86.34513383495745,
          48.10657456519058,
          54.274084124830395,
          80.17762427531763,
          39.47206118169483,
          37.00505735783891,
          49.340076477118544,
          57.97458986061429,
          46.87307265326261,
          56.74108794868632,
          59.20809177254225,
          79.15567282321899,
          67.54617414248021,
          88.65435356200527,
          121.37203166226912,
          72.82321899736148,
          93.93139841688654,
          49.6042216358839,
          73.87862796833772,
          63.324538258575195,
          62.26912928759894,
          29.718565187672738,
          44.57784778150911,
          17.831139112603644,
          29.718565187672738,
          8.915569556301822,
          14.859282593836369,
          29.718565187672738,
          44.57784778150911,
          29.718565187672738,
          3.714820648459092,
          29.718565187672738,
          29.718565187672738,
          22.288923890754553,
          29.718565187672738,
          1.485928259383637,
          29.718565187672738,
          11.887426075069095,
          44.57784778150911,
          8.65394125210167,
          43.26970626050835,
          123.62773217288101,
          43.26970626050835,
          30.906933043220253,
          30.906933043220253,
          6.1813866086440505,
          12.733662710742118,
          12.733662710742118,
          38.20098813222635,
          25.467325421484237,
          28.01405796363266,
          38.20098813222635,
          19.100494066113175,
          50.93465084296847,
          10.186930168593694,
          12.733662710742118,
          14.00702898181633,
          50.93465084296847,
          10.186930168593694,
          50.93465084296847,
          38.20098813222635,
          50.93465084296847,
          12.733662710742118,
          19.100494066113175,
          12.733662710742118,
          10.186930168593694,
          12.733662710742118,
          7.003514490908165,
          50.93465084296847,
          12.733662710742118,
          8.913563897519483,
          3.8200988132226352,
          12.733662710742118,
          50.93465084296847,
          50.93465084296847,
          12.733662710742118,
          50.93465084296847,
          38.20098813222635,
          20.119187082972545,
          10.8236133041308,
          50.93465084296847,
          8.913563897519483,
          12.733662710742118,
          50.93465084296847,
          44.56781948759741,
          38.20098813222635,
          50.93465084296847,
          44.56781948759741,
          63.66831355371059,
          15.280395252890541,
          12.733662710742118,
          31.834156776855295,
          50.93465084296847,
          19.100494066113175,
          50.93465084296847,
          50.93465084296847,
          50.93465084296847,
          31.834156776855295,
          5.093465084296847,
          63.66831355371059,
          70.03514490908165,
          76.4019762644527,
          12.733662710742118,
          25.467325421484237,
          12.733662710742118,
          50.93465084296847,
          50.93465084296847,
          19.100494066113175,
          25.467325421484237,
          19.100494066113175,
          27.935451276412376,
          29.718565187672738,
          29.718565187672738,
          29.718565187672738,
          44.57784778150911,
          4.457784778150911,
          11.887426075069095,
          29.718565187672738,
          29.718565187672738,
          7.429641296918184,
          44.57784778150911,
          4.457784778150911,
          14.859282593836369,
          2.748111035256818,
          43.391226872476075,
          16.199391365724402,
          18.802864978072964,
          0.5785496916330143,
          28.927484581650717,
          21.695613436238038,
          20.2492392071555,
          23.141987665320574,
          18.802864978072964,
          17.35649074899043,
          20.2492392071555,
          1.4463742290825359,
          1.735649074899043,
          23.141987665320574,
          1.4463742290825359,
          14.463742290825358,
          37.60572995614593,
          21.695613436238038,
          14.463742290825358,
          2.8927484581650718,
          27.48111035256818,
          11.570993832660287,
          11.570993832660287,
          9.256795066128229,
          1.1570993832660286,
          3.471298149798086,
          1.1570993832660286,
          24.588361894403107,
          27.770385198384687,
          0.5785496916330143,
          14.463742290825358,
          11.570993832660287,
          0.8678245374495215,
          23.141987665320574,
          2.8927484581650718,
          1.4463742290825359,
          17.35649074899043,
          26.034736123485644,
          1.735649074899043,
          2.8927484581650718,
          28.927484581650717,
          26.034736123485644,
          4.339122687247608,
          0.8678245374495215,
          17.35649074899043,
          17.35649074899043,
          2.8927484581650718,
          8.678245374495216,
          1.735649074899043,
          34.71298149798086,
          1.4463742290825359,
          3.471298149798086,
          34.71298149798086,
          34.71298149798086,
          2.314198766532057,
          6.364046607963157,
          28.927484581650717,
          47.730349559723685,
          2.314198766532057,
          10.12461960357775,
          4.339122687247608,
          34.71298149798086,
          3.1820233039815786,
          10.12461960357775,
          6.942596299596172,
          13.885192599192344,
          2.8927484581650718,
          23.141987665320574,
          21.695613436238038,
          26.034736123485644,
          26.034736123485644,
          11.570993832660287,
          23.141987665320574,
          19.959964361338994,
          5.206947224697129,
          2.0249239207155503,
          10.12461960357775,
          5.7854969163301435,
          2.8927484581650718,
          1.0124619603577751,
          31.820233039815786,
          1.4463742290825359,
          5.7854969163301435,
          2.8927484581650718,
          7.231871145412679,
          24.009812202770096,
          8.678245374495216,
          2.8927484581650718,
          2.0249239207155503,
          20.2492392071555,
          2.8927484581650718,
          8.388970528678708,
          47.730349559723685,
          2.8927484581650718,
          18.22431528643995,
          34.71298149798086,
          2.8927484581650718,
          14.463742290825358,
          26.034736123485644,
          17.35649074899043,
          4.0498478414311005,
          3.471298149798086,
          26.034736123485644,
          13.017368061742822,
          18.802864978072964,
          23.141987665320574,
          49.176723788806214,
          0.5785496916330143,
          18.802864978072964,
          23.141987665320574,
          23.141987665320574,
          26.034736123485644,
          2.0249239207155503,
          20.2492392071555,
          15.910116519907893,
          0.5785496916330143,
          43.391226872476075,
          9.256795066128229,
          28.927484581650717,
          13.017368061742822,
          28.927484581650717,
          11.570993832660287,
          3.471298149798086,
          14.463742290825358,
          2.314198766532057,
          20.2492392071555,
          28.927484581650717,
          2.0249239207155503,
          23.141987665320574,
          34.71298149798086,
          11.570993832660287,
          1.735649074899043,
          75.98944591029024,
          42.21635883905013,
          36.93931398416886,
          42.21635883905013,
          47.4934036939314,
          36.93931398416886,
          36.93931398416886,
          26.385224274406333,
          36.93931398416886,
          36.93931398416886,
          36.93931398416886,
          42.21635883905013,
          34.82849604221636,
          42.21635883905013,
          84.43271767810026,
          47.4934036939314,
          36.93931398416886,
          50.659630606860155,
          31.662269129287598,
          36.93931398416886,
          47.4934036939314,
          36.93931398416886,
          36.93931398416886,
          73.87862796833772,
          52.770448548812666,
          58.04749340369393,
          72.82321899736148,
          42.21635883905013,
          63.324538258575195,
          52.770448548812666,
          36.93931398416886,
          79.15567282321899,
          63.324538258575195,
          44.327176781002635,
          79.15567282321899,
          36.93931398416886,
          52.770448548812666,
          47.4934036939314,
          50.659630606860155,
          52.770448548812666,
          58.04749340369393,
          49.6042216358839,
          47.4934036939314,
          47.4934036939314,
          79.15567282321899,
          47.4934036939314,
          58.04749340369393,
          42.21635883905013,
          42.21635883905013,
          42.21635883905013,
          47.4934036939314,
          63.324538258575195,
          54.88126649076517,
          63.324538258575195,
          42.21635883905013,
          50.659630606860155,
          52.770448548812666,
          47.4934036939314,
          24.274406332453825,
          68.60158311345647,
          94.9868073878628,
          52.770448548812666,
          42.21635883905013,
          79.15567282321899,
          47.4934036939314,
          42.21635883905013,
          52.770448548812666,
          63.324538258575195,
          52.770448548812666,
          47.4934036939314,
          58.04749340369393,
          39.050131926121374,
          34.82849604221636,
          36.93931398416886,
          42.21635883905013,
          63.324538258575195,
          52.770448548812666,
          52.770448548812666,
          52.770448548812666,
          63.324538258575195,
          34.82849604221636,
          52.770448548812666,
          47.4934036939314,
          39.050131926121374,
          52.770448548812666,
          45.382585751978894,
          36.93931398416886,
          58.04749340369393,
          52.770448548812666,
          67.54617414248021,
          36.93931398416886,
          47.4934036939314,
          47.4934036939314,
          52.770448548812666,
          59.10290237467019,
          47.4934036939314,
          51.715039577836414,
          47.4934036939314,
          44.327176781002635,
          52.770448548812666,
          47.4934036939314,
          36.93931398416886,
          94.9868073878628,
          37.99472295514512,
          71.76781002638522,
          63.324538258575195,
          42.21635883905013,
          58.04749340369393,
          36.93931398416886,
          39.050131926121374,
          52.770448548812666,
          58.04749340369393,
          40.105540897097626,
          42.21635883905013,
          58.04749340369393,
          39.050131926121374,
          47.4934036939314,
          47.4934036939314,
          63.324538258575195,
          47.4934036939314,
          52.770448548812666,
          63.324538258575195,
          58.04749340369393,
          53.82585751978892,
          42.21635883905013,
          40.105540897097626,
          45.382585751978894,
          47.4934036939314,
          44.327176781002635,
          73.87862796833772,
          36.93931398416886,
          46.437994722955146,
          36.93931398416886,
          47.4934036939314,
          45.382585751978894,
          63.324538258575195,
          47.4934036939314,
          47.4934036939314,
          63.324538258575195,
          58.04749340369393,
          36.93931398416886,
          42.21635883905013,
          52.770448548812666,
          58.04749340369393,
          73.87862796833772,
          52.770448548812666,
          58.04749340369393,
          52.770448548812666,
          47.4934036939314,
          47.4934036939314,
          42.21635883905013,
          46.437994722955146,
          49.6042216358839,
          42.21635883905013,
          58.04749340369393,
          88.65435356200527,
          46.437994722955146,
          58.04749340369393,
          47.4934036939314,
          40.105540897097626,
          42.21635883905013,
          47.4934036939314,
          47.4934036939314,
          52.770448548812666,
          58.04749340369393,
          84.43271767810026,
          52.770448548812666,
          47.4934036939314,
          36.93931398416886,
          51.715039577836414,
          36.93931398416886,
          52.770448548812666,
          42.21635883905013,
          36.93931398416886,
          47.4934036939314,
          47.4934036939314,
          42.21635883905013,
          44.327176781002635,
          47.4934036939314,
          36.93931398416886,
          61.21372031662269,
          47.4934036939314,
          58.04749340369393,
          42.21635883905013,
          52.770448548812666,
          73.87862796833772,
          36.93931398416886,
          50.659630606860155,
          73.87862796833772,
          47.4934036939314,
          42.21635883905013,
          44.327176781002635,
          47.4934036939314,
          52.770448548812666,
          42.21635883905013,
          47.4934036939314,
          58.04749340369393,
          47.4934036939314,
          47.4934036939314,
          49.6042216358839,
          52.770448548812666,
          44.327176781002635,
          52.770448548812666,
          47.4934036939314,
          34.82849604221636,
          47.4934036939314,
          58.04749340369393,
          47.4934036939314,
          41.16094986807388,
          52.770448548812666,
          68.60158311345647,
          42.21635883905013,
          47.4934036939314,
          47.4934036939314,
          47.4934036939314,
          52.770448548812666,
          52.770448548812666,
          46.437994722955146,
          42.21635883905013,
          47.4934036939314,
          52.770448548812666,
          52.770448548812666,
          50.659630606860155,
          42.21635883905013,
          36.93931398416886,
          47.4934036939314,
          84.43271767810026,
          42.21635883905013,
          72.82321899736148,
          36.93931398416886,
          63.324538258575195,
          68.60158311345647,
          52.770448548812666,
          49.6042216358839,
          47.4934036939314,
          42.21635883905013,
          36.93931398416886,
          45.382585751978894,
          47.4934036939314,
          47.4934036939314,
          47.4934036939314,
          47.4934036939314,
          68.60158311345647,
          51.715039577836414,
          50.659630606860155,
          52.770448548812666,
          47.4934036939314,
          58.04749340369393,
          58.04749340369393,
          52.770448548812666,
          58.04749340369393,
          47.4934036939314,
          42.21635883905013,
          47.4934036939314,
          36.93931398416886,
          59.10290237467019,
          63.324538258575195,
          44.327176781002635,
          47.4934036939314,
          47.4934036939314,
          21.108179419525065,
          47.4934036939314,
          58.04749340369393,
          44.327176781002635,
          50.659630606860155,
          84.43271767810026,
          63.324538258575195,
          47.4934036939314,
          52.770448548812666,
          39.050131926121374,
          47.4934036939314,
          41.16094986807388,
          44.327176781002635,
          42.21635883905013,
          62.26912928759894,
          40.105540897097626,
          50.659630606860155,
          42.21635883905013,
          52.770448548812666,
          41.16094986807388,
          52.770448548812666,
          66.49076517150395,
          71.76781002638522,
          18.844153466785833,
          38.32971373070003,
          45.99565647684003,
          38.32971373070003,
          22.997828238420016,
          38.32971373070003,
          49.828627849910035,
          38.32971373070003,
          45.99565647684003,
          53.661599222980044,
          38.32971373070003,
          38.32971373070003,
          19.164856865350014,
          38.32971373070003,
          68.99348471526005,
          68.99348471526005,
          45.99565647684003,
          19.164856865350014,
          53.661599222980044,
          45.99565647684003,
          61.32754196912005,
          61.32754196912005,
          30.663770984560024,
          68.99348471526005,
          61.32754196912005,
          45.99565647684003,
          53.661599222980044,
          45.99565647684003,
          61.32754196912005,
          45.99565647684003,
          61.32754196912005,
          45.99565647684003,
          15.331885492280012,
          53.661599222980044,
          38.32971373070003,
          61.32754196912005,
          53.661599222980044,
          68.99348471526005,
          30.663770984560024,
          38.32971373070003,
          45.99565647684003,
          61.32754196912005,
          68.99348471526005,
          68.99348471526005,
          11.498914119210008,
          45.99565647684003,
          72.82645608833006,
          61.32754196912005,
          38.32971373070003,
          57.494570596050046,
          68.99348471526005,
          61.32754196912005,
          61.32754196912005,
          45.99565647684003,
          11.498914119210008,
          68.99348471526005,
          45.99565647684003,
          11.498914119210008,
          68.99348471526005,
          53.661599222980044,
          45.99565647684003,
          61.32754196912005,
          61.32754196912005,
          45.99565647684003,
          45.99565647684003,
          11.498914119210008,
          22.997828238420016,
          61.32754196912005,
          57.494570596050046,
          68.99348471526005,
          45.99565647684003,
          61.32754196912005,
          61.32754196912005,
          11.498914119210008,
          30.663770984560024,
          38.32971373070003,
          38.32971373070003,
          53.661599222980044,
          45.99565647684003,
          61.32754196912005,
          11.498914119210008,
          38.32971373070003,
          53.661599222980044,
          11.498914119210008,
          30.663770984560024,
          45.99565647684003,
          61.32754196912005,
          30.663770984560024,
          30.663770984560024,
          68.99348471526005,
          22.997828238420016,
          53.661599222980044,
          68.99348471526005,
          53.661599222980044,
          22.997828238420016,
          30.663770984560024,
          38.32971373070003,
          68.99348471526005,
          68.99348471526005,
          72.82645608833006,
          11.498914119210008,
          45.99565647684003,
          45.99565647684003,
          53.661599222980044,
          53.661599222980044,
          53.661599222980044,
          61.32754196912005,
          19.164856865350014,
          15.331885492280012,
          61.32754196912005,
          15.331885492280012,
          38.32971373070003,
          68.99348471526005,
          61.32754196912005,
          45.99565647684003,
          38.32971373070003,
          61.32754196912005,
          53.661599222980044,
          42.16268510377003,
          61.32754196912005,
          53.661599222980044,
          38.32971373070003,
          45.99565647684003,
          65.16051334219004,
          61.32754196912005,
          38.32971373070003,
          53.661599222980044,
          15.331885492280012,
          11.498914119210008,
          68.99348471526005,
          61.32754196912005,
          61.32754196912005,
          68.99348471526005,
          22.997828238420016,
          38.32971373070003,
          45.99565647684003,
          45.99565647684003,
          53.661599222980044,
          68.99348471526005,
          19.164856865350014,
          61.32754196912005,
          61.32754196912005,
          61.32754196912005,
          61.32754196912005,
          34.496742357630026,
          22.997828238420016,
          53.661599222980044,
          61.32754196912005,
          65.16051334219004,
          53.661599222980044,
          61.32754196912005,
          22.997828238420016,
          15.331885492280012,
          45.99565647684003,
          53.661599222980044,
          11.498914119210008,
          53.661599222980044,
          61.32754196912005,
          22.997828238420016,
          30.663770984560024,
          61.32754196912005,
          30.663770984560024,
          11.498914119210008,
          61.32754196912005,
          61.32754196912005,
          61.32754196912005,
          38.32971373070003,
          45.99565647684003,
          49.828627849910035,
          53.661599222980044,
          61.32754196912005,
          53.661599222980044,
          61.32754196912005,
          15.331885492280012,
          61.32754196912005,
          45.99565647684003,
          53.661599222980044,
          68.99348471526005,
          53.661599222980044,
          72.82645608833006,
          7.665942746140006,
          68.99348471526005,
          68.99348471526005,
          45.99565647684003,
          61.32754196912005,
          38.32971373070003,
          19.164856865350014,
          61.32754196912005,
          45.99565647684003,
          61.32754196912005,
          45.99565647684003,
          68.99348471526005,
          30.663770984560024,
          61.32754196912005,
          22.997828238420016,
          45.99565647684003,
          30.663770984560024,
          45.99565647684003,
          68.99348471526005,
          30.663770984560024,
          45.99565647684003,
          61.32754196912005,
          45.99565647684003,
          72.82645608833006,
          53.661599222980044,
          53.661599222980044,
          61.32754196912005,
          57.494570596050046,
          45.99565647684003,
          49.828627849910035,
          11.498914119210008,
          61.32754196912005,
          68.99348471526005,
          22.997828238420016,
          30.663770984560024,
          45.99565647684003,
          38.32971373070003,
          38.32971373070003,
          30.663770984560024,
          22.997828238420016,
          61.32754196912005,
          68.99348471526005,
          53.661599222980044,
          38.32971373070003,
          22.997828238420016,
          30.663770984560024,
          38.32971373070003,
          11.498914119210008,
          19.62342952712323,
          7.849371810849291,
          39.24685905424646,
          32.96736160556703,
          21.97824107037802,
          29.04267570014238,
          33.752298786651956,
          23.548115432547874,
          30.612550062312238,
          38.46192187316153,
          47.09623086509575,
          27.47280133797252,
          46.31129368401082,
          15.698743621698583,
          25.902926975802664,
          29.04267570014238,
          9.41924617301915,
          19.62342952712323,
          21.97824107037802,
          72.21422065981348,
          41.60167059750125,
          10.98912053518901,
          25.117989794717733,
          47.09623086509575,
          7.849371810849291,
          66.71966039221898,
          8.63430899193422,
          39.24685905424646,
          35.32217314882181,
          32.96736160556703,
          31.397487243397165,
          59.65522576245462,
          10.98912053518901,
          35.32217314882181,
          25.902926975802664,
          35.32217314882181,
          14.913806440613655,
          7.849371810849291,
          35.32217314882181,
          5.494560267594505,
          39.24685905424646,
          43.1715449596711,
          37.6769846920766,
          47.09623086509575,
          35.32217314882181,
          51.80585395160533,
          27.47280133797252,
          62.79497448679433,
          10.98912053518901,
          51.020916770520394,
          35.32217314882181,
          19.62342952712323,
          33.752298786651956,
          19.62342952712323,
          15.698743621698583,
          21.97824107037802,
          13.343932078443796,
          15.698743621698583,
          45.52635650292589,
          45.382585751978894,
          58.04749340369393,
          63.324538258575195,
          63.324538258575195,
          61.21372031662269,
          52.770448548812666,
          61.21372031662269,
          63.324538258575195,
          31.662269129287598,
          63.324538258575195,
          42.21635883905013,
          63.324538258575195,
          42.21635883905013,
          42.21635883905013,
          42.21635883905013,
          50.659630606860155,
          52.770448548812666,
          47.4934036939314,
          39.050131926121374,
          50.659630606860155,
          50.659630606860155,
          68.60158311345647,
          52.770448548812666,
          47.4934036939314,
          36.93931398416886,
          73.87862796833772,
          42.21635883905013,
          52.770448548812666,
          47.4934036939314,
          58.04749340369393,
          44.327176781002635,
          52.770448548812666,
          42.21635883905013,
          26.385224274406333,
          42.21635883905013,
          52.770448548812666,
          44.327176781002635,
          63.324538258575195,
          42.21635883905013,
          47.4934036939314,
          36.93931398416886,
          42.21635883905013,
          47.4934036939314,
          49.6042216358839,
          36.93931398416886,
          36.93931398416886,
          52.770448548812666,
          70.71240105540898,
          43.27176781002638,
          42.21635883905013,
          52.770448548812666,
          47.4934036939314,
          63.324538258575195,
          52.770448548812666,
          66.49076517150395,
          52.770448548812666,
          44.327176781002635,
          50.659630606860155,
          49.6042216358839,
          42.21635883905013,
          73.87862796833772,
          52.770448548812666,
          65.4353562005277,
          47.4934036939314,
          73.87862796833772,
          58.04749340369393,
          42.21635883905013,
          64.37994722955145,
          42.21635883905013,
          47.4934036939314,
          63.324538258575195,
          60.15831134564644,
          68.60158311345647,
          36.93931398416886,
          47.4934036939314,
          47.4934036939314,
          44.327176781002635,
          52.770448548812666,
          52.770448548812666,
          47.4934036939314,
          52.770448548812666,
          52.770448548812666,
          58.04749340369393,
          36.93931398416886,
          47.4934036939314,
          46.437994722955146,
          70.71240105540898,
          42.21635883905013,
          44.327176781002635,
          46.437994722955146,
          52.770448548812666,
          63.324538258575195,
          45.382585751978894,
          50.659630606860155,
          41.16094986807388,
          42.21635883905013,
          52.770448548812666,
          47.4934036939314,
          37.99472295514512,
          36.93931398416886,
          47.4934036939314,
          51.715039577836414,
          58.04749340369393,
          52.770448548812666,
          47.4934036939314,
          47.4934036939314,
          42.21635883905013,
          58.04749340369393,
          52.770448548812666,
          52.770448548812666,
          63.324538258575195,
          52.770448548812666,
          63.324538258575195,
          42.21635883905013,
          63.324538258575195,
          52.770448548812666,
          36.93931398416886,
          45.382585751978894,
          63.324538258575195,
          47.4934036939314,
          47.4934036939314,
          63.324538258575195,
          66.49076517150395,
          42.21635883905013,
          36.93931398416886,
          52.770448548812666,
          52.770448548812666,
          63.324538258575195,
          43.27176781002638,
          42.21635883905013,
          42.21635883905013,
          42.21635883905013,
          52.770448548812666,
          63.324538258575195,
          47.4934036939314,
          47.4934036939314,
          68.60158311345647,
          47.4934036939314,
          47.4934036939314,
          42.21635883905013,
          45.382585751978894,
          47.4934036939314,
          58.04749340369393,
          52.770448548812666,
          36.93931398416886,
          45.382585751978894,
          48.54881266490765,
          47.4934036939314,
          61.21372031662269,
          47.4934036939314,
          42.21635883905013,
          47.4934036939314,
          61.21372031662269,
          47.4934036939314,
          47.4934036939314,
          42.21635883905013,
          42.21635883905013,
          52.770448548812666,
          84.43271767810026,
          47.4934036939314,
          52.770448548812666,
          40.105540897097626,
          58.04749340369393,
          36.93931398416886,
          58.04749340369393,
          63.324538258575195,
          54.88126649076517,
          47.4934036939314,
          41.16094986807388,
          63.324538258575195,
          36.93931398416886,
          52.770448548812666,
          58.04749340369393,
          52.770448548812666,
          50.659630606860155,
          52.770448548812666,
          63.324538258575195,
          31.662269129287598,
          55.93667546174142,
          52.770448548812666,
          94.9868073878628,
          52.770448548812666,
          60.15831134564644,
          58.04749340369393,
          52.770448548812666,
          46.437994722955146,
          73.87862796833772,
          63.324538258575195,
          40.105540897097626,
          40.105540897097626,
          70.71240105540898,
          51.715039577836414,
          52.770448548812666,
          50.659630606860155,
          36.93931398416886,
          68.60158311345647,
          82.32189973614776,
          42.21635883905013,
          73.87862796833772,
          52.770448548812666,
          55.93667546174142,
          63.324538258575195,
          48.54881266490765,
          30.606860158311346,
          36.93931398416886,
          58.04749340369393,
          42.21635883905013,
          47.4934036939314,
          47.4934036939314,
          47.4934036939314,
          68.60158311345647,
          42.21635883905013,
          45.382585751978894,
          42.21635883905013,
          39.050131926121374,
          52.770448548812666,
          47.4934036939314,
          47.4934036939314,
          31.662269129287598,
          52.770448548812666,
          47.4934036939314,
          40.105540897097626,
          48.54881266490765,
          44.327176781002635,
          47.4934036939314,
          68.60158311345647,
          60.15831134564644,
          42.21635883905013,
          75.98944591029024,
          47.4934036939314,
          52.770448548812666,
          84.43271767810026,
          55.93667546174142,
          68.60158311345647,
          53.82585751978892,
          58.04749340369393,
          47.4934036939314,
          84.43271767810026,
          45.382585751978894,
          63.324538258575195,
          47.4934036939314,
          58.04749340369393,
          42.21635883905013,
          47.4934036939314,
          47.4934036939314,
          42.21635883905013,
          40.105540897097626,
          42.21635883905013,
          42.21635883905013,
          36.93931398416886,
          52.770448548812666,
          52.770448548812666,
          47.4934036939314,
          29.551451187335093,
          36.93931398416886,
          52.770448548812666,
          50.34610312735668,
          42.13063023209764,
          37.917567208887874,
          44.23716174370252,
          33.70450418567811,
          44.57784778150911,
          29.718565187672738,
          14.859282593836369,
          52.00748907842729,
          29.718565187672738,
          5.943713037534548,
          22.288923890754553,
          44.57784778150911,
          37.14820648459092,
          44.57784778150911,
          14.859282593836369,
          29.718565187672738,
          17.831139112603644,
          44.57784778150911,
          44.57784778150911,
          14.859282593836369,
          22.288923890754553,
          14.859282593836369,
          44.57784778150911,
          7.429641296918184,
          11.498914119210008,
          61.32754196912005,
          61.32754196912005,
          22.997828238420016,
          22.997828238420016,
          53.661599222980044,
          49.828627849910035,
          45.99565647684003,
          11.498914119210008,
          61.32754196912005,
          61.32754196912005,
          68.99348471526005,
          68.99348471526005,
          30.663770984560024,
          22.997828238420016,
          65.16051334219004,
          53.661599222980044,
          53.661599222980044,
          61.32754196912005,
          11.498914119210008,
          61.32754196912005,
          72.82645608833006,
          53.661599222980044,
          53.661599222980044,
          11.498914119210008,
          68.99348471526005,
          45.99565647684003,
          11.498914119210008,
          38.32971373070003,
          61.32754196912005,
          61.32754196912005,
          68.99348471526005,
          22.997828238420016,
          49.828627849910035,
          53.661599222980044,
          45.99565647684003,
          22.997828238420016,
          45.99565647684003,
          11.498914119210008,
          53.661599222980044,
          68.99348471526005,
          15.331885492280012,
          61.32754196912005,
          45.99565647684003,
          45.99565647684003,
          61.32754196912005,
          53.661599222980044,
          45.99565647684003,
          22.997828238420016,
          30.663770984560024,
          22.997828238420016,
          11.498914119210008,
          22.997828238420016,
          68.99348471526005,
          22.997828238420016,
          53.661599222980044,
          45.99565647684003,
          53.661599222980044,
          30.663770984560024,
          61.32754196912005,
          61.32754196912005,
          53.661599222980044,
          45.99565647684003,
          22.997828238420016,
          38.32971373070003,
          61.32754196912005,
          45.99565647684003,
          38.32971373070003,
          68.99348471526005,
          38.32971373070003,
          15.331885492280012,
          57.494570596050046,
          45.99565647684003,
          11.498914119210008,
          53.661599222980044,
          61.32754196912005,
          61.32754196912005,
          45.99565647684003,
          30.663770984560024,
          30.663770984560024,
          11.498914119210008,
          38.32971373070003,
          45.99565647684003,
          61.32754196912005,
          19.164856865350014,
          11.498914119210008,
          38.32971373070003,
          15.331885492280012,
          61.32754196912005,
          68.99348471526005,
          53.661599222980044,
          11.498914119210008,
          84.32537020754006,
          45.99565647684003,
          61.32754196912005,
          15.331885492280012,
          11.498914119210008,
          38.32971373070003,
          30.663770984560024,
          38.32971373070003,
          22.997828238420016,
          15.331885492280012,
          42.16268510377003,
          15.331885492280012,
          11.498914119210008,
          22.997828238420016,
          15.331885492280012,
          15.331885492280012,
          38.32971373070003,
          38.32971373070003,
          38.32971373070003,
          38.32971373070003,
          22.997828238420016,
          38.32971373070003,
          11.498914119210008,
          19.164856865350014,
          61.32754196912005,
          15.331885492280012,
          15.331885492280012,
          68.99348471526005,
          61.32754196912005,
          53.661599222980044,
          61.32754196912005,
          45.99565647684003,
          68.99348471526005,
          65.16051334219004,
          11.498914119210008,
          11.498914119210008,
          38.32971373070003,
          61.32754196912005,
          61.32754196912005,
          53.661599222980044,
          11.498914119210008,
          68.99348471526005,
          45.99565647684003,
          11.498914119210008,
          19.164856865350014,
          53.661599222980044,
          38.32971373070003,
          30.663770984560024,
          11.498914119210008,
          68.99348471526005,
          53.661599222980044,
          45.99565647684003,
          38.32971373070003,
          53.661599222980044,
          61.32754196912005,
          42.16268510377003,
          15.331885492280012,
          38.32971373070003,
          45.99565647684003,
          15.331885492280012,
          38.32971373070003,
          30.663770984560024,
          53.661599222980044,
          30.663770984560024,
          15.331885492280012,
          19.164856865350014,
          11.498914119210008,
          61.32754196912005,
          53.661599222980044,
          61.32754196912005,
          68.99348471526005,
          45.99565647684003,
          61.32754196912005,
          68.99348471526005,
          61.32754196912005,
          30.663770984560024,
          38.32971373070003,
          72.82645608833006,
          68.99348471526005,
          38.32971373070003,
          11.498914119210008,
          11.498914119210008,
          45.99565647684003,
          45.99565647684003,
          45.99565647684003,
          15.331885492280012,
          45.99565647684003,
          68.99348471526005,
          15.331885492280012,
          15.331885492280012,
          68.99348471526005,
          19.164856865350014,
          61.32754196912005,
          19.164856865350014,
          34.496742357630026,
          53.661599222980044,
          61.32754196912005,
          30.663770984560024,
          57.494570596050046,
          11.498914119210008,
          45.99565647684003,
          38.32971373070003,
          61.32754196912005,
          15.331885492280012,
          57.494570596050046,
          68.99348471526005,
          68.99348471526005,
          38.32971373070003,
          22.997828238420016,
          68.99348471526005,
          45.99565647684003,
          53.661599222980044,
          61.32754196912005,
          61.32754196912005,
          11.498914119210008,
          61.32754196912005,
          53.661599222980044,
          53.661599222980044,
          50,
          50,
          25,
          58,
          50,
          25,
          25,
          30,
          40,
          44,
          50,
          50,
          44,
          60,
          50,
          50,
          25,
          50,
          50,
          60,
          44,
          55,
          20,
          44,
          60,
          40,
          50,
          40,
          60,
          50,
          50,
          50,
          50,
          50,
          42,
          25,
          44,
          44,
          44,
          50,
          50,
          44,
          26,
          45,
          50,
          44,
          55,
          50,
          50,
          50,
          50,
          50,
          50,
          30,
          42,
          70,
          44,
          44,
          44,
          77,
          50,
          50,
          50,
          25,
          50,
          60,
          42,
          25,
          50,
          25,
          25,
          35,
          50,
          20,
          48,
          52,
          50,
          25,
          50,
          50,
          38,
          45,
          58,
          25,
          25,
          44,
          45,
          55,
          55,
          50,
          75,
          75,
          60,
          50,
          75,
          60,
          44,
          25,
          39,
          75,
          20,
          50,
          50,
          60,
          30,
          44,
          30,
          50,
          50,
          60,
          50,
          44,
          25,
          50,
          50,
          44,
          75,
          50,
          50,
          40,
          50,
          50,
          50,
          65,
          110,
          30,
          63,
          50,
          50,
          78,
          80,
          81,
          70,
          48,
          45,
          39,
          73,
          60,
          85,
          95,
          50,
          50,
          49,
          42,
          62.26912928759894,
          50.659630606860155,
          73.87862796833772,
          51.715039577836414,
          83.37730870712402,
          52.770448548812666,
          47.4934036939314,
          29.718565187672738,
          11.887426075069095,
          37.14820648459092,
          22.288923890754553,
          44.57784778150911,
          29.718565187672738,
          4.457784778150911,
          29.718565187672738,
          29.718565187672738,
          17.831139112603644,
          4.457784778150911,
          4.457784778150911,
          29.718565187672738,
          4.457784778150911,
          29.718565187672738,
          13.373354334452733,
          3.714820648459092,
          17.831139112603644,
          22.288923890754553,
          29.718565187672738,
          22.288923890754553,
          14.859282593836369,
          3.714820648459092,
          4.7549704300276385,
          8.172605426610003,
          29.718565187672738,
          19.31706737198728,
          22.288923890754553,
          29.718565187672738,
          44.57784778150911,
          29.718565187672738,
          59.13994472346875,
          64.08282083635532,
          72.03107768427537,
          66.56665110133035,
          60.108692412395314,
          47.68954108752025,
          49.67660529950026,
          54.14749977645528,
          45.702476875540235,
          60.108692412395314,
          67.06341715432535,
          56.13456398843529,
          59.11516030640531,
          77.89537093775641,
          72.18304373565428,
          72.82321899736148,
          59.10290237467019,
          99.02670891806247,
          56.58669081032141,
          67.19669533725667,
          70.02602987777274,
          77.80669986419194,
          49.513354459031234,
          89.83137166138523,
          63.66002716161159,
          78.51403349932096,
          84.88003621548211,
          63.66002716161159,
          63.66002716161159,
          74.27003168854685,
          91.95337256677229,
          55.17202354006337,
          39.22117943689592,
          28.435355091749543,
          49.0264742961199,
          70.03782042302844,
          40.62193584535649,
          50.427230704580474,
          56.030256338422745,
          46.22496147919877,
          56.030256338422745,
          52.94859223980949,
          63.03403838072559,
          56.030256338422745,
          35.01891021151422,
          1.438124685410225,
          5.0334363989357875,
          32.35780542173006,
          3.5953117135255623,
          1.438124685410225,
          21.571870281153377,
          17.976558567627812,
          32.35780542173006,
          17.976558567627812,
          4.314374056230675,
          21.571870281153377,
          7.190623427051125,
          7.190623427051125,
          17.976558567627812,
          4.314374056230675,
          4.314374056230675,
          3.5953117135255623,
          25.167181994678938,
          20.13374559574315,
          28.7624937082045,
          10.785935140576688,
          3.5953117135255623,
          5.0334363989357875,
          7.190623427051125,
          57.524987416409,
          3.5953117135255623,
          60.40123678722945,
          3.5953117135255623,
          64.71561084346013,
          50.334363989357875,
          51.7724886747681,
          2.87624937082045,
          17.976558567627812,
          2.87624937082045,
          21.571870281153377,
          14.38124685410225,
          5.0334363989357875,
          21.571870281153377,
          64.71561084346013,
          7.190623427051125,
          2.87624937082045,
          5.7524987416409,
          28.7624937082045,
          3.5953117135255623,
          3.5953117135255623,
          10.785935140576688,
          7.190623427051125,
          64.71561084346013,
          5.7524987416409,
          4.314374056230675,
          57.524987416409,
          4.314374056230675,
          53.929675702883436,
          5.7524987416409,
          71.90623427051125,
          7.909685769756238,
          17.2574962249227,
          14.38124685410225,
          21.571870281153377,
          7.190623427051125,
          2.87624937082045,
          32.35780542173006,
          8.62874811246135,
          3.5953117135255623,
          4.314374056230675,
          7.190623427051125,
          17.976558567627812,
          4.314374056230675,
          7.190623427051125,
          13.472685813598655,
          10.104514360198992,
          20.209028720397985,
          5.052257180099496,
          33.68171453399664,
          33.68171453399664,
          10.104514360198992,
          10.104514360198992,
          0.5052257180099496,
          26.94537162719731,
          10.104514360198992,
          20.209028720397985,
          13.472685813598655,
          6.736342906799328,
          26.94537162719731,
          1.8524942993698152,
          6.736342906799328,
          16.84085726699832,
          16.84085726699832,
          3.7049885987396305,
          5.052257180099496,
          13.472685813598655,
          33.68171453399664,
          26.94537162719731,
          33.68171453399664,
          20.209028720397985,
          26.94537162719731,
          16.84085726699832,
          33.68171453399664,
          10.104514360198992,
          16.84085726699832,
          10.104514360198992,
          16.84085726699832,
          3.199762880729681,
          16.84085726699832,
          33.68171453399664,
          26.94537162719731,
          26.94537162719731,
          23.57720017379765,
          6.736342906799328,
          20.209028720397985,
          3.0313543080596976,
          33.68171453399664,
          10.104514360198992,
          13.472685813598655,
          3.368171453399664,
          20.209028720397985,
          3.873397171409614,
          5.894300043449412,
          0.471544003475953,
          3.368171453399664,
          16.84085726699832,
          33.68171453399664,
          33.68171453399664,
          26.94537162719731,
          16.84085726699832,
          49.848937510315025,
          5.052257180099496,
          6.736342906799328,
          16.84085726699832,
          5.052257180099496,
          15.156771540298488,
          33.68171453399664,
          10.104514360198992,
          4.041805744079597,
          26.94537162719731,
          2.1893114447097815,
          6.736342906799328,
          4.041805744079597,
          26.94537162719731,
          13.472685813598655,
          6.736342906799328,
          26.94537162719731,
          33.68171453399664,
          33.68171453399664,
          10.104514360198992,
          5.725891470779429,
          6.736342906799328,
          20.209028720397985,
          3.368171453399664,
          4.041805744079597,
          33.68171453399664,
          13.472685813598655,
          26.94537162719731,
          30.313543080596975,
          8.42042863349916,
          20.209028720397985,
          33.68171453399664,
          8.42042863349916,
          26.94537162719731,
          45,
          50,
          50,
          56,
          50,
          25,
          50,
          50,
          55,
          50,
          50,
          50,
          50,
          50,
          50,
          25,
          50,
          49,
          50,
          50,
          25,
          50,
          40,
          50,
          50,
          50,
          25,
          70,
          50,
          50,
          50,
          25,
          50,
          35,
          50,
          50,
          40,
          50,
          50,
          45,
          50,
          50,
          50,
          50,
          130,
          30,
          45,
          25,
          57,
          100,
          25,
          52,
          40,
          50,
          50,
          50,
          25,
          30,
          30,
          50,
          45,
          50,
          50,
          55,
          50,
          50,
          74,
          40,
          25,
          40,
          25,
          50,
          44,
          60,
          25,
          35,
          25,
          65,
          50,
          50,
          50,
          50,
          32,
          69,
          50,
          50,
          50,
          45,
          50,
          25,
          50,
          60,
          30,
          50,
          50,
          25,
          50,
          50,
          50,
          50,
          50,
          50,
          50,
          50,
          50,
          40,
          40,
          50,
          30,
          50,
          65,
          50,
          44,
          50,
          56,
          50,
          50,
          50,
          45,
          50,
          50,
          42,
          50,
          30,
          50,
          50,
          50,
          50,
          48,
          50,
          50,
          47,
          38,
          60,
          30,
          44,
          50,
          55,
          40,
          50,
          215,
          40,
          50,
          50,
          69,
          50,
          65,
          50,
          25,
          75,
          30,
          50,
          40,
          58,
          50,
          70,
          50,
          130,
          55,
          52,
          50,
          50,
          41,
          60,
          50,
          50,
          50,
          85,
          50,
          50,
          40,
          50,
          50,
          25,
          50,
          40,
          67,
          31,
          55,
          50,
          50,
          50,
          50,
          55,
          50,
          65,
          50,
          50,
          55,
          60,
          90,
          30,
          69,
          50,
          38,
          50,
          60,
          50,
          50,
          50,
          50,
          50,
          60,
          50,
          45,
          50,
          50,
          50,
          80,
          50,
          44,
          50,
          25,
          25,
          50,
          50,
          50,
          45,
          50,
          85,
          75,
          44.327176781002635,
          41.16094986807388,
          62.26912928759894,
          71.76781002638522,
          79.15567282321899,
          73.87862796833772,
          77.04485488126649,
          63.324538258575195,
          59.10290237467019,
          69.65699208443272,
          82.32189973614776,
          63.324538258575195,
          79.15567282321899,
          79.15567282321899,
          79.15567282321899,
          81.2664907651715,
          84.43271767810026,
          62.26912928759894,
          73.87862796833772,
          65.4353562005277,
          59.10290237467019,
          78.10026385224275,
          63.324538258575195,
          52.770448548812666,
          93.93139841688654,
          77.04485488126649,
          67.54617414248021,
          79.15567282321899,
          37.99472295514512,
          47.4934036939314,
          49.6042216358839,
          68.60158311345647,
          51.715039577836414,
          103.43007915567283,
          63.324538258575195,
          58.04749340369393,
          73.87862796833772,
          55.93667546174142,
          51.715039577836414,
          79.15567282321899,
          52.770448548812666,
          63.324538258575195,
          100.26385224274406,
          44.327176781002635,
          61.21372031662269,
          47.4934036939314,
          137.20316622691294,
          75.98944591029024,
          68.60158311345647,
          73.87862796833772,
          73.87862796833772,
          100.26385224274406,
          68.60158311345647,
          47.4934036939314,
          68.60158311345647,
          73.87862796833772,
          68.60158311345647,
          104.48548812664907,
          93.93139841688654,
          83.37730870712402,
          68.60158311345647,
          81.2664907651715,
          51.715039577836414,
          68.60158311345647,
          47.4934036939314,
          105.54089709762533,
          88.65435356200527,
          74.93403693931398,
          89.70976253298153,
          41.16094986807388,
          70.71240105540898,
          88.65435356200527,
          55.93667546174142,
          65.4353562005277,
          79.15567282321899,
          79.15567282321899,
          62.26912928759894,
          73.87862796833772,
          86.54353562005277,
          61.21372031662269,
          63.324538258575195,
          134.03693931398416,
          79.15567282321899,
          68.60158311345647,
          79.15567282321899,
          73.87862796833772,
          63.324538258575195,
          104.48548812664907,
          47.4934036939314,
          72.82321899736148,
          50.659630606860155,
          79.15567282321899,
          63.324538258575195,
          79.15567282321899,
          66.49076517150395,
          63.324538258575195,
          79.15567282321899,
          34.82849604221636,
          40.105540897097626,
          86.54353562005277,
          73.87862796833772,
          58.04749340369393,
          88.65435356200527,
          94.9868073878628,
          79.15567282321899,
          115.03957783641161,
          68.60158311345647,
          68.60158311345647,
          72.82321899736148,
          84.43271767810026,
          61.21372031662269,
          68.60158311345647,
          71.76781002638522,
          55.93667546174142,
          89.70976253298153,
          62.26912928759894,
          100.26385224274406,
          72.52946509519492,
          108.79419764279238,
          96.70595346025989,
          102.75007555152614,
          102.75007555152614,
          125.9192102347134,
          100.73536818777072,
          123.90450287095798,
          102.75007555152614,
          119.87508814344716,
          98.72066082401531,
          98.72066082401531,
          81.59564823209429,
          99.72801450589301,
          95.69859977838219,
          120.88244182532488,
          120.88244182532488,
          89.65447768711594,
          117.86038077969175,
          125.9192102347134,
          91.66918505087136,
          115.84567341593633,
          125.9192102347134,
          92.67653873274907,
          100.73536818777072,
          105.77213659715926,
          96.70595346025989,
          105.77213659715926,
          89.65447768711594,
          84.61770927772741,
          110.80890500654779,
          95.69859977838219,
          108.79419764279238,
          85.62506295960512,
          102.75007555152614,
          110.80890500654779,
          78.57358718646117,
          98.72066082401531,
          79.58094086833887,
          140.0221617810013,
          93.68389241462677,
          85.62506295960512,
          130.95597864410195,
          93.68389241462677,
          125.9192102347134,
          119.87508814344716,
          133.97803968973506,
          99.72801450589301,
          98.72066082401531,
          104.76478291528156,
          99.72801450589301,
          80.58829455021657,
          120.88244182532488,
          120.88244182532488,
          125.9192102347134,
          103.75742923340384,
          99.72801450589301,
          115.84567341593633,
          88.64712400523824,
          96.70595346025989,
          109.80155132467009,
          85.62506295960512,
          90.66183136899365,
          95.69859977838219,
          111.8162586884255,
          106.77949027903696,
          103.75742923340384,
          140.0221617810013,
          162.18394278231085,
          120.88244182532488,
          133.97803968973506,
          69.5074040495618,
          102.75007555152614,
          118.86773446156946,
          93.68389241462677,
          112.82361237030321,
          107.78684396091468,
          118.86773446156946,
          96.70595346025989,
          89.65447768711594,
          120.88244182532488,
          87.63977032336052,
          93.68389241462677,
          137.0001007353682,
          98.72066082401531,
          79.58094086833887,
          90.66183136899365,
          110.80890500654779,
          90.66183136899365,
          107.78684396091468,
          130.95597864410195,
          125.9192102347134,
          124.9118565528357,
          84.61770927772741,
          106.77949027903696,
          146.06628387226755,
          90.66183136899365,
          105.77213659715926,
          146.06628387226755,
          86.63241664148282,
          124.9118565528357,
          143.04422282663444,
          93.68389241462677,
          120.88244182532488,
          90.66183136899365,
          87.63977032336052,
          82.603001913972,
          90.66183136899365,
          80.58829455021657,
          99.72801450589301,
          97.71330714213761,
          104.76478291528156,
          89.65447768711594,
          75.55152614082805,
          98.72066082401531,
          116.85302709781404,
          109.80155132467009,
          86.63241664148282,
          65.47798932205097,
          129.94862496222424,
          118.86773446156946,
          110.80890500654779,
          87.63977032336052,
          106.77949027903696,
          119.87508814344716,
          98.72066082401531,
          88.64712400523824,
          135.9927470534905,
          105.77213659715926,
          90.66183136899365,
          109.80155132467009,
          96.70595346025989,
          71.52211141331722,
          85.62506295960512,
          112.82361237030321,
          103.75742923340384,
          51.715039577836414,
          54.88126649076517,
          55.93667546174142,
          105.54089709762533,
          50.659630606860155,
          49.6042216358839,
          88.65435356200527,
          42.21635883905013,
          82.32189973614776,
          91.82058047493403,
          84.43271767810026,
          54.88126649076517,
          61.21372031662269,
          71.76781002638522,
          52.770448548812666,
          51.715039577836414,
          67.54617414248021,
          39.050131926121374,
          35.88390501319261,
          63.324538258575195,
          61.21372031662269,
          92.87598944591029,
          56.992084432717675,
          61.21372031662269,
          63.324538258575195,
          56.992084432717675,
          37.99472295514512,
          35.88390501319261,
          36.93931398416886,
          67.54617414248021,
          52.770448548812666,
          84.43271767810026,
          63.324538258575195,
          42.21635883905013,
          32.71767810026385,
          43.27176781002638,
          73.87862796833772,
          42.21635883905013,
          73.87862796833772,
          47.4934036939314,
          71.76781002638522,
          88.65435356200527,
          47.4934036939314,
          63.324538258575195,
          79.15567282321899,
          52.770448548812666,
          82.32189973614776,
          73.87862796833772,
          47.4934036939314,
          92.87598944591029,
          58.04749340369393,
          73.87862796833772,
          45.382585751978894,
          47.4934036939314,
          52.770448548812666,
          50.659630606860155,
          59.10290237467019,
          68.60158311345647,
          63.324538258575195,
          74.93403693931398,
          68.60158311345647,
          36.93931398416886,
          41.16094986807388,
          52.770448548812666,
          92.87598944591029,
          36.93931398416886,
          78.10026385224275,
          79.15567282321899,
          46.437994722955146,
          61.21372031662269,
          72.82321899736148,
          46.437994722955146,
          70.71240105540898,
          58.04749340369393,
          71.76781002638522,
          45.382585751978894,
          39.050131926121374,
          41.16094986807388,
          68.60158311345647,
          54.88126649076517,
          75.98944591029024,
          65.4353562005277,
          79.15567282321899,
          73.87862796833772,
          52.770448548812666,
          67.54617414248021,
          79.15567282321899,
          61.21372031662269,
          33.773087071240106,
          63.324538258575195,
          55.93667546174142,
          99.2084432717678,
          58.04749340369393,
          51.715039577836414,
          72.82321899736148,
          47.4934036939314,
          72.82321899736148,
          73.87862796833772,
          56.992084432717675,
          50.659630606860155,
          63.324538258575195,
          67.54617414248021,
          63.324538258575195,
          73.87862796833772,
          82.32189973614776,
          62.26912928759894,
          63.324538258575195,
          31.662269129287598,
          73.87862796833772,
          54.88126649076517,
          88.65435356200527,
          44.327176781002635,
          35.88390501319261,
          67.54617414248021,
          62.26912928759894,
          54.88126649076517,
          41.16094986807388,
          34.82849604221636,
          89.70976253298153,
          63.324538258575195,
          59.10290237467019,
          85.48812664907652,
          63.324538258575195,
          56.992084432717675,
          58.04749340369393,
          56.992084432717675,
          44.327176781002635,
          158.31134564643799,
          37.99472295514512,
          50.659630606860155,
          33.773087071240106,
          50.659630606860155,
          32.71767810026385,
          82.32189973614776,
          100.26385224274406,
          72.82321899736148,
          100.26385224274406,
          71.76781002638522,
          73.87862796833772,
          52.770448548812666,
          36.93931398416886,
          81.2664907651715,
          36.93931398416886,
          61.21372031662269,
          86.54353562005277,
          97.0976253298153,
          66.49076517150395,
          47.4934036939314,
          69.65699208443272,
          46.437994722955146,
          70.71240105540898,
          42.21635883905013,
          63.324538258575195,
          71.76781002638522,
          63.324538258575195,
          60.15831134564644,
          54.88126649076517,
          61.21372031662269,
          69.65699208443272,
          52.770448548812666,
          84.43271767810026,
          105.54089709762533,
          44.327176781002635,
          47.4934036939314,
          35.88390501319261,
          82.32189973614776,
          62.26912928759894,
          41.16094986807388,
          73.87862796833772,
          68.60158311345647,
          104.48548812664907,
          52.770448548812666,
          67.54617414248021,
          49.6042216358839,
          68.60158311345647,
          45.382585751978894,
          40.105540897097626,
          61.21372031662269,
          58.04749340369393,
          68.60158311345647,
          35.88390501319261,
          75.98944591029024,
          40.105540897097626,
          77.04485488126649,
          61.21372031662269,
          44.327176781002635,
          60.15831134564644,
          35.88390501319261,
          79.15567282321899,
          49.6042216358839,
          51.715039577836414,
          50.659630606860155,
          73.87862796833772,
          62.26912928759894,
          63.324538258575195,
          36.93931398416886,
          62.26912928759894,
          48.54881266490765,
          86.54353562005277,
          52.770448548812666,
          69.65699208443272,
          41.16094986807388,
          73.87862796833772,
          63.324538258575195,
          100.26385224274406,
          58.04749340369393,
          90.76517150395779,
          73.87862796833772,
          68.60158311345647,
          52.770448548812666,
          89.70976253298153,
          43.27176781002638,
          67.54617414248021,
          33.773087071240106,
          73.87862796833772,
          89.70976253298153,
          104.48548812664907,
          46.437994722955146,
          58.04749340369393,
          68.60158311345647,
          31.662269129287598,
          26.385224274406333,
          58.04749340369393,
          46.437994722955146,
          82.32189973614776,
          58.04749340369393,
          36.93931398416886,
          50.659630606860155,
          59.10290237467019,
          37.99472295514512,
          44.327176781002635,
          63.324538258575195,
          61.21372031662269,
          61.21372031662269,
          79.15567282321899,
          126.64907651715039,
          68.60158311345647,
          54.88126649076517,
          74.93403693931398,
          39.050131926121374,
          61.21372031662269,
          58.04749340369393,
          46.437994722955146,
          46.437994722955146,
          58.04749340369393,
          55.93667546174142,
          72.82321899736148,
          40.105540897097626,
          40.105540897097626,
          71.76781002638522,
          62.26912928759894,
          49.6042216358839,
          69.65699208443272,
          63.324538258575195,
          84.43271767810026,
          63.324538258575195,
          47.4934036939314,
          55.93667546174142,
          73.87862796833772,
          60.15831134564644,
          63.324538258575195,
          58.04749340369393,
          72.82321899736148,
          34.82849604221636,
          56.992084432717675,
          58.04749340369393,
          83.37730870712402,
          50.659630606860155,
          81.2664907651715,
          51.715039577836414,
          68.60158311345647,
          68.60158311345647,
          52.770448548812666,
          37.99472295514512,
          72.82321899736148,
          52.770448548812666,
          41.16094986807388,
          68.60158311345647,
          47.4934036939314,
          66.49076517150395,
          51.715039577836414,
          60.15831134564644,
          79.15567282321899,
          89.70976253298153,
          63.324538258575195,
          68.60158311345647,
          43.27176781002638,
          58.04749340369393,
          46.437994722955146,
          44.327176781002635,
          69.65699208443272,
          58.04749340369393,
          63.324538258575195,
          62.26912928759894,
          79.15567282321899,
          47.4934036939314,
          82.32189973614776,
          44.327176781002635,
          46.437994722955146,
          52.770448548812666,
          42.21635883905013,
          51.715039577836414,
          44.327176781002635,
          87.59894459102902,
          33.773087071240106,
          52.770448548812666,
          51.715039577836414,
          45.382585751978894,
          73.87862796833772,
          62.26912928759894,
          50.659630606860155,
          59.10290237467019,
          35.88390501319261,
          100.26385224274406,
          51.715039577836414,
          117.15039577836411,
          52.770448548812666,
          52.770448548812666,
          100.26385224274406,
          68.60158311345647,
          70.71240105540898,
          47.4934036939314,
          54.88126649076517,
          60.15831134564644,
          121.37203166226912,
          49.6042216358839,
          50.659630606860155,
          63.324538258575195,
          54.88126649076517,
          42.21635883905013,
          49.6042216358839,
          73.87862796833772,
          46.437994722955146,
          63.324538258575195,
          47.4934036939314,
          63.324538258575195,
          58.04749340369393,
          58.04749340369393,
          52.770448548812666,
          83.37730870712402,
          62.26912928759894,
          40.105540897097626,
          56.992084432717675,
          71.76781002638522,
          52.770448548812666,
          58.04749340369393,
          64.37994722955145,
          69.65699208443272,
          58.04749340369393,
          33.773087071240106,
          75.98944591029024,
          86.54353562005277,
          44.327176781002635,
          73.87862796833772,
          84.43271767810026,
          60.15831134564644,
          51.715039577836414,
          86.54353562005277,
          63.324538258575195,
          46.437994722955146,
          44.327176781002635,
          65.4353562005277,
          68.60158311345647,
          56.992084432717675,
          73.87862796833772,
          60.15831134564644,
          100.26385224274406,
          44.327176781002635,
          50.659630606860155,
          89.70976253298153,
          52.770448548812666,
          36.93931398416886,
          68.60158311345647,
          61.21372031662269,
          63.324538258575195,
          69.65699208443272,
          58.04749340369393,
          52.770448548812666,
          68.60158311345647,
          58.04749340369393,
          52.770448548812666,
          116.09498680738785,
          56.992084432717675,
          52.770448548812666,
          35.88390501319261,
          36.93931398416886,
          71.76781002638522,
          67.54617414248021,
          64.37994722955145,
          49.6042216358839,
          47.4934036939314,
          51.715039577836414,
          89.70976253298153,
          56.992084432717675,
          47.4934036939314,
          36.93931398416886,
          56.992084432717675,
          52.770448548812666,
          36.93931398416886,
          63.324538258575195,
          61.21372031662269,
          68.60158311345647,
          52.770448548812666,
          64.37994722955145,
          40.105540897097626,
          42.21635883905013,
          34.82849604221636,
          68.60158311345647,
          60.15831134564644,
          61.21372031662269,
          59.10290237467019,
          54.88126649076517,
          73.87862796833772,
          62.26912928759894,
          75.98944591029024,
          63.324538258575195,
          89.70976253298153,
          37.99472295514512,
          52.770448548812666,
          64.37994722955145,
          105.54089709762533,
          78.10026385224275,
          33.773087071240106,
          51.715039577836414,
          73.87862796833772,
          42.21635883905013,
          94.9868073878628,
          59.10290237467019,
          47.4934036939314,
          77.04485488126649,
          63.324538258575195,
          50.659630606860155,
          46.437994722955146,
          73.87862796833772,
          47.4934036939314,
          126.64907651715039,
          84.43271767810026,
          50.659630606860155,
          104.48548812664907,
          60.15831134564644,
          54.88126649076517,
          68.60158311345647,
          52.770448548812666,
          73.87862796833772,
          93.93139841688654,
          41.16094986807388,
          79.15567282321899,
          47.4934036939314,
          69.65699208443272,
          115.03957783641161,
          68.60158311345647,
          58.04749340369393,
          48.54881266490765,
          72.82321899736148,
          61.21372031662269,
          61.21372031662269,
          46.437994722955146,
          41.16094986807388,
          47.4934036939314,
          53.82585751978892,
          69.65699208443272,
          73.87862796833772,
          58.04749340369393,
          100.26385224274406,
          58.04749340369393,
          74.93403693931398,
          58.04749340369393,
          53.82585751978892,
          51.715039577836414,
          48.54881266490765,
          58.04749340369393,
          36.93931398416886,
          47.4934036939314,
          63.324538258575195,
          116.09498680738785,
          47.4934036939314,
          47.4934036939314,
          92.87598944591029,
          52.770448548812666,
          73.87862796833772,
          68.60158311345647,
          58.04749340369393,
          68.60158311345647,
          45.382585751978894,
          40.105540897097626,
          84.43271767810026,
          74.93403693931398,
          73.87862796833772,
          53.82585751978892,
          53.82585751978892,
          53.82585751978892,
          52.770448548812666,
          68.60158311345647,
          61.21372031662269,
          79.15567282321899,
          75.98944591029024,
          68.60158311345647,
          33.773087071240106,
          78.10026385224275,
          75.98944591029024,
          79.15567282321899,
          79.15567282321899,
          116.09498680738785,
          63.324538258575195,
          89.70976253298153,
          90.76517150395779,
          111.87335092348285,
          79.15567282321899,
          78.10026385224275,
          89.70976253298153,
          83.37730870712402,
          110.8179419525066,
          62.26912928759894,
          68.60158311345647,
          73.87862796833772,
          94.9868073878628,
          52.770448548812666,
          80.21108179419525,
          79.15567282321899,
          63.324538258575195,
          62.26912928759894,
          79.15567282321899,
          42.21635883905013,
          63.324538258575195,
          75.98944591029024,
          84.43271767810026,
          85.48812664907652,
          90.76517150395779,
          73.87862796833772,
          63.324538258575195,
          68.60158311345647,
          55.93667546174142,
          63.324538258575195,
          53.82585751978892,
          73.87862796833772,
          67.54617414248021,
          83.37730870712402,
          40.105540897097626,
          67.54617414248021,
          73.87862796833772,
          63.324538258575195,
          63.324538258575195,
          63.324538258575195,
          41.16094986807388,
          58.04749340369393,
          63.324538258575195,
          47.4934036939314,
          52.770448548812666,
          68.60158311345647,
          93.93139841688654,
          63.324538258575195,
          71.76781002638522,
          60.15831134564644,
          79.15567282321899,
          42.21635883905013,
          84.43271767810026,
          58.04749340369393,
          41.16094986807388,
          73.87862796833772,
          59.10290237467019,
          69.65699208443272,
          107.65171503957784,
          103.43007915567283,
          42.21635883905013,
          63.324538258575195,
          79.15567282321899,
          68.60158311345647,
          79.15567282321899,
          79.15567282321899,
          66.49076517150395,
          73.87862796833772,
          73.87862796833772,
          70.71240105540898,
          79.15567282321899,
          94.9868073878628,
          63.324538258575195,
          63.324538258575195,
          88.65435356200527,
          65.4353562005277,
          63.324538258575195,
          58.04749340369393,
          86.54353562005277,
          68.60158311345647,
          77.04485488126649,
          105.54089709762533,
          63.324538258575195,
          50.659630606860155,
          47.4934036939314,
          96.04221635883906,
          61.21372031662269,
          105.54089709762533,
          61.21372031662269,
          73.87862796833772,
          58.04749340369393,
          63.324538258575195,
          79.15567282321899,
          84.43271767810026,
          56.992084432717675,
          69.65699208443272,
          93.93139841688654,
          45.382585751978894,
          89.70976253298153,
          44.327176781002635,
          36.93931398416886,
          52.770448548812666,
          51.715039577836414,
          41.16094986807388,
          110.8179419525066,
          153.03430079155672,
          68.60158311345647,
          41.16094986807388,
          86.54353562005277,
          163.58839050131925,
          65.4353562005277,
          77.04485488126649,
          73.87862796833772,
          73.87862796833772,
          65.4353562005277,
          65.4353562005277,
          47.4934036939314,
          68.60158311345647,
          80.21108179419525,
          68.60158311345647,
          63.324538258575195,
          73.87862796833772,
          63.324538258575195,
          70.71240105540898,
          75.98944591029024,
          66.49076517150395,
          49.6042216358839,
          79.15567282321899,
          36.93931398416886,
          58.04749340369393,
          68.60158311345647,
          66.49076517150395,
          54.88126649076517,
          73.87862796833772,
          80.21108179419525,
          52.770448548812666,
          73.87862796833772,
          62.26912928759894,
          58.04749340369393,
          84.43271767810026,
          73.87862796833772,
          63.324538258575195,
          68.60158311345647,
          58.04749340369393,
          79.15567282321899,
          73.87862796833772,
          62.26912928759894,
          126.64907651715039,
          68.60158311345647,
          79.15567282321899,
          37.09271225816528,
          29.283720203814692,
          23.426976163051755,
          29.283720203814692,
          37.09271225816528,
          37.09271225816528,
          37.09271225816528,
          31.235968217402338,
          9.76124006793823,
          23.426976163051755,
          21.47472814946411,
          35.14046424457763,
          23.426976163051755,
          32.21209222419616,
          27.331472190227046,
          58.567440407629384,
          21.47472814946411,
          29.283720203814692,
          29.283720203814692,
          35.14046424457763,
          28.307596197020867,
          34.750014641860105,
          9.76124006793823,
          25.3792241766394,
          34.164340237783804,
          10.542139273373289,
          48.80620033969115,
          39.04496027175292,
          25.3792241766394,
          39.04496027175292,
          48.80620033969115,
          58.17699080491185,
          23.426976163051755,
          35.14046424457763,
          44.90170431251586,
          25.3792241766394,
          35.14046424457763,
          42.94945629892822,
          23.036526560334224,
          40.49129437171008,
          65.2359742655329,
          21.370405362846988,
          52.86363431862149,
          35.092455122148735
         ],
         "x0": " ",
         "xaxis": "x",
         "y0": " ",
         "yaxis": "y"
        }
       ],
       "layout": {
        "boxmode": "group",
        "legend": {
         "tracegroupgap": 0
        },
        "template": {
         "data": {
          "bar": [
           {
            "error_x": {
             "color": "#2a3f5f"
            },
            "error_y": {
             "color": "#2a3f5f"
            },
            "marker": {
             "line": {
              "color": "#E5ECF6",
              "width": 0.5
             },
             "pattern": {
              "fillmode": "overlay",
              "size": 10,
              "solidity": 0.2
             }
            },
            "type": "bar"
           }
          ],
          "barpolar": [
           {
            "marker": {
             "line": {
              "color": "#E5ECF6",
              "width": 0.5
             },
             "pattern": {
              "fillmode": "overlay",
              "size": 10,
              "solidity": 0.2
             }
            },
            "type": "barpolar"
           }
          ],
          "carpet": [
           {
            "aaxis": {
             "endlinecolor": "#2a3f5f",
             "gridcolor": "white",
             "linecolor": "white",
             "minorgridcolor": "white",
             "startlinecolor": "#2a3f5f"
            },
            "baxis": {
             "endlinecolor": "#2a3f5f",
             "gridcolor": "white",
             "linecolor": "white",
             "minorgridcolor": "white",
             "startlinecolor": "#2a3f5f"
            },
            "type": "carpet"
           }
          ],
          "choropleth": [
           {
            "colorbar": {
             "outlinewidth": 0,
             "ticks": ""
            },
            "type": "choropleth"
           }
          ],
          "contour": [
           {
            "colorbar": {
             "outlinewidth": 0,
             "ticks": ""
            },
            "colorscale": [
             [
              0,
              "#0d0887"
             ],
             [
              0.1111111111111111,
              "#46039f"
             ],
             [
              0.2222222222222222,
              "#7201a8"
             ],
             [
              0.3333333333333333,
              "#9c179e"
             ],
             [
              0.4444444444444444,
              "#bd3786"
             ],
             [
              0.5555555555555556,
              "#d8576b"
             ],
             [
              0.6666666666666666,
              "#ed7953"
             ],
             [
              0.7777777777777778,
              "#fb9f3a"
             ],
             [
              0.8888888888888888,
              "#fdca26"
             ],
             [
              1,
              "#f0f921"
             ]
            ],
            "type": "contour"
           }
          ],
          "contourcarpet": [
           {
            "colorbar": {
             "outlinewidth": 0,
             "ticks": ""
            },
            "type": "contourcarpet"
           }
          ],
          "heatmap": [
           {
            "colorbar": {
             "outlinewidth": 0,
             "ticks": ""
            },
            "colorscale": [
             [
              0,
              "#0d0887"
             ],
             [
              0.1111111111111111,
              "#46039f"
             ],
             [
              0.2222222222222222,
              "#7201a8"
             ],
             [
              0.3333333333333333,
              "#9c179e"
             ],
             [
              0.4444444444444444,
              "#bd3786"
             ],
             [
              0.5555555555555556,
              "#d8576b"
             ],
             [
              0.6666666666666666,
              "#ed7953"
             ],
             [
              0.7777777777777778,
              "#fb9f3a"
             ],
             [
              0.8888888888888888,
              "#fdca26"
             ],
             [
              1,
              "#f0f921"
             ]
            ],
            "type": "heatmap"
           }
          ],
          "heatmapgl": [
           {
            "colorbar": {
             "outlinewidth": 0,
             "ticks": ""
            },
            "colorscale": [
             [
              0,
              "#0d0887"
             ],
             [
              0.1111111111111111,
              "#46039f"
             ],
             [
              0.2222222222222222,
              "#7201a8"
             ],
             [
              0.3333333333333333,
              "#9c179e"
             ],
             [
              0.4444444444444444,
              "#bd3786"
             ],
             [
              0.5555555555555556,
              "#d8576b"
             ],
             [
              0.6666666666666666,
              "#ed7953"
             ],
             [
              0.7777777777777778,
              "#fb9f3a"
             ],
             [
              0.8888888888888888,
              "#fdca26"
             ],
             [
              1,
              "#f0f921"
             ]
            ],
            "type": "heatmapgl"
           }
          ],
          "histogram": [
           {
            "marker": {
             "pattern": {
              "fillmode": "overlay",
              "size": 10,
              "solidity": 0.2
             }
            },
            "type": "histogram"
           }
          ],
          "histogram2d": [
           {
            "colorbar": {
             "outlinewidth": 0,
             "ticks": ""
            },
            "colorscale": [
             [
              0,
              "#0d0887"
             ],
             [
              0.1111111111111111,
              "#46039f"
             ],
             [
              0.2222222222222222,
              "#7201a8"
             ],
             [
              0.3333333333333333,
              "#9c179e"
             ],
             [
              0.4444444444444444,
              "#bd3786"
             ],
             [
              0.5555555555555556,
              "#d8576b"
             ],
             [
              0.6666666666666666,
              "#ed7953"
             ],
             [
              0.7777777777777778,
              "#fb9f3a"
             ],
             [
              0.8888888888888888,
              "#fdca26"
             ],
             [
              1,
              "#f0f921"
             ]
            ],
            "type": "histogram2d"
           }
          ],
          "histogram2dcontour": [
           {
            "colorbar": {
             "outlinewidth": 0,
             "ticks": ""
            },
            "colorscale": [
             [
              0,
              "#0d0887"
             ],
             [
              0.1111111111111111,
              "#46039f"
             ],
             [
              0.2222222222222222,
              "#7201a8"
             ],
             [
              0.3333333333333333,
              "#9c179e"
             ],
             [
              0.4444444444444444,
              "#bd3786"
             ],
             [
              0.5555555555555556,
              "#d8576b"
             ],
             [
              0.6666666666666666,
              "#ed7953"
             ],
             [
              0.7777777777777778,
              "#fb9f3a"
             ],
             [
              0.8888888888888888,
              "#fdca26"
             ],
             [
              1,
              "#f0f921"
             ]
            ],
            "type": "histogram2dcontour"
           }
          ],
          "mesh3d": [
           {
            "colorbar": {
             "outlinewidth": 0,
             "ticks": ""
            },
            "type": "mesh3d"
           }
          ],
          "parcoords": [
           {
            "line": {
             "colorbar": {
              "outlinewidth": 0,
              "ticks": ""
             }
            },
            "type": "parcoords"
           }
          ],
          "pie": [
           {
            "automargin": true,
            "type": "pie"
           }
          ],
          "scatter": [
           {
            "marker": {
             "colorbar": {
              "outlinewidth": 0,
              "ticks": ""
             }
            },
            "type": "scatter"
           }
          ],
          "scatter3d": [
           {
            "line": {
             "colorbar": {
              "outlinewidth": 0,
              "ticks": ""
             }
            },
            "marker": {
             "colorbar": {
              "outlinewidth": 0,
              "ticks": ""
             }
            },
            "type": "scatter3d"
           }
          ],
          "scattercarpet": [
           {
            "marker": {
             "colorbar": {
              "outlinewidth": 0,
              "ticks": ""
             }
            },
            "type": "scattercarpet"
           }
          ],
          "scattergeo": [
           {
            "marker": {
             "colorbar": {
              "outlinewidth": 0,
              "ticks": ""
             }
            },
            "type": "scattergeo"
           }
          ],
          "scattergl": [
           {
            "marker": {
             "colorbar": {
              "outlinewidth": 0,
              "ticks": ""
             }
            },
            "type": "scattergl"
           }
          ],
          "scattermapbox": [
           {
            "marker": {
             "colorbar": {
              "outlinewidth": 0,
              "ticks": ""
             }
            },
            "type": "scattermapbox"
           }
          ],
          "scatterpolar": [
           {
            "marker": {
             "colorbar": {
              "outlinewidth": 0,
              "ticks": ""
             }
            },
            "type": "scatterpolar"
           }
          ],
          "scatterpolargl": [
           {
            "marker": {
             "colorbar": {
              "outlinewidth": 0,
              "ticks": ""
             }
            },
            "type": "scatterpolargl"
           }
          ],
          "scatterternary": [
           {
            "marker": {
             "colorbar": {
              "outlinewidth": 0,
              "ticks": ""
             }
            },
            "type": "scatterternary"
           }
          ],
          "surface": [
           {
            "colorbar": {
             "outlinewidth": 0,
             "ticks": ""
            },
            "colorscale": [
             [
              0,
              "#0d0887"
             ],
             [
              0.1111111111111111,
              "#46039f"
             ],
             [
              0.2222222222222222,
              "#7201a8"
             ],
             [
              0.3333333333333333,
              "#9c179e"
             ],
             [
              0.4444444444444444,
              "#bd3786"
             ],
             [
              0.5555555555555556,
              "#d8576b"
             ],
             [
              0.6666666666666666,
              "#ed7953"
             ],
             [
              0.7777777777777778,
              "#fb9f3a"
             ],
             [
              0.8888888888888888,
              "#fdca26"
             ],
             [
              1,
              "#f0f921"
             ]
            ],
            "type": "surface"
           }
          ],
          "table": [
           {
            "cells": {
             "fill": {
              "color": "#EBF0F8"
             },
             "line": {
              "color": "white"
             }
            },
            "header": {
             "fill": {
              "color": "#C8D4E3"
             },
             "line": {
              "color": "white"
             }
            },
            "type": "table"
           }
          ]
         },
         "layout": {
          "annotationdefaults": {
           "arrowcolor": "#2a3f5f",
           "arrowhead": 0,
           "arrowwidth": 1
          },
          "autotypenumbers": "strict",
          "coloraxis": {
           "colorbar": {
            "outlinewidth": 0,
            "ticks": ""
           }
          },
          "colorscale": {
           "diverging": [
            [
             0,
             "#8e0152"
            ],
            [
             0.1,
             "#c51b7d"
            ],
            [
             0.2,
             "#de77ae"
            ],
            [
             0.3,
             "#f1b6da"
            ],
            [
             0.4,
             "#fde0ef"
            ],
            [
             0.5,
             "#f7f7f7"
            ],
            [
             0.6,
             "#e6f5d0"
            ],
            [
             0.7,
             "#b8e186"
            ],
            [
             0.8,
             "#7fbc41"
            ],
            [
             0.9,
             "#4d9221"
            ],
            [
             1,
             "#276419"
            ]
           ],
           "sequential": [
            [
             0,
             "#0d0887"
            ],
            [
             0.1111111111111111,
             "#46039f"
            ],
            [
             0.2222222222222222,
             "#7201a8"
            ],
            [
             0.3333333333333333,
             "#9c179e"
            ],
            [
             0.4444444444444444,
             "#bd3786"
            ],
            [
             0.5555555555555556,
             "#d8576b"
            ],
            [
             0.6666666666666666,
             "#ed7953"
            ],
            [
             0.7777777777777778,
             "#fb9f3a"
            ],
            [
             0.8888888888888888,
             "#fdca26"
            ],
            [
             1,
             "#f0f921"
            ]
           ],
           "sequentialminus": [
            [
             0,
             "#0d0887"
            ],
            [
             0.1111111111111111,
             "#46039f"
            ],
            [
             0.2222222222222222,
             "#7201a8"
            ],
            [
             0.3333333333333333,
             "#9c179e"
            ],
            [
             0.4444444444444444,
             "#bd3786"
            ],
            [
             0.5555555555555556,
             "#d8576b"
            ],
            [
             0.6666666666666666,
             "#ed7953"
            ],
            [
             0.7777777777777778,
             "#fb9f3a"
            ],
            [
             0.8888888888888888,
             "#fdca26"
            ],
            [
             1,
             "#f0f921"
            ]
           ]
          },
          "colorway": [
           "#636efa",
           "#EF553B",
           "#00cc96",
           "#ab63fa",
           "#FFA15A",
           "#19d3f3",
           "#FF6692",
           "#B6E880",
           "#FF97FF",
           "#FECB52"
          ],
          "font": {
           "color": "#2a3f5f"
          },
          "geo": {
           "bgcolor": "white",
           "lakecolor": "white",
           "landcolor": "#E5ECF6",
           "showlakes": true,
           "showland": true,
           "subunitcolor": "white"
          },
          "hoverlabel": {
           "align": "left"
          },
          "hovermode": "closest",
          "mapbox": {
           "style": "light"
          },
          "paper_bgcolor": "white",
          "plot_bgcolor": "#E5ECF6",
          "polar": {
           "angularaxis": {
            "gridcolor": "white",
            "linecolor": "white",
            "ticks": ""
           },
           "bgcolor": "#E5ECF6",
           "radialaxis": {
            "gridcolor": "white",
            "linecolor": "white",
            "ticks": ""
           }
          },
          "scene": {
           "xaxis": {
            "backgroundcolor": "#E5ECF6",
            "gridcolor": "white",
            "gridwidth": 2,
            "linecolor": "white",
            "showbackground": true,
            "ticks": "",
            "zerolinecolor": "white"
           },
           "yaxis": {
            "backgroundcolor": "#E5ECF6",
            "gridcolor": "white",
            "gridwidth": 2,
            "linecolor": "white",
            "showbackground": true,
            "ticks": "",
            "zerolinecolor": "white"
           },
           "zaxis": {
            "backgroundcolor": "#E5ECF6",
            "gridcolor": "white",
            "gridwidth": 2,
            "linecolor": "white",
            "showbackground": true,
            "ticks": "",
            "zerolinecolor": "white"
           }
          },
          "shapedefaults": {
           "line": {
            "color": "#2a3f5f"
           }
          },
          "ternary": {
           "aaxis": {
            "gridcolor": "white",
            "linecolor": "white",
            "ticks": ""
           },
           "baxis": {
            "gridcolor": "white",
            "linecolor": "white",
            "ticks": ""
           },
           "bgcolor": "#E5ECF6",
           "caxis": {
            "gridcolor": "white",
            "linecolor": "white",
            "ticks": ""
           }
          },
          "title": {
           "x": 0.05
          },
          "xaxis": {
           "automargin": true,
           "gridcolor": "white",
           "linecolor": "white",
           "ticks": "",
           "title": {
            "standoff": 15
           },
           "zerolinecolor": "white",
           "zerolinewidth": 2
          },
          "yaxis": {
           "automargin": true,
           "gridcolor": "white",
           "linecolor": "white",
           "ticks": "",
           "title": {
            "standoff": 15
           },
           "zerolinecolor": "white",
           "zerolinewidth": 2
          }
         }
        },
        "title": {
         "text": "Range of MaxPrice"
        },
        "xaxis": {
         "anchor": "y",
         "domain": [
          0,
          1
         ],
         "title": {
          "text": "MaxPrice"
         }
        },
        "yaxis": {
         "anchor": "x",
         "domain": [
          0,
          1
         ]
        }
       }
      },
      "text/html": [
       "<div>                            <div id=\"907c49df-8beb-4ff6-ba0f-16ed3bca3fb0\" class=\"plotly-graph-div\" style=\"height:525px; width:100%;\"></div>            <script type=\"text/javascript\">                require([\"plotly\"], function(Plotly) {                    window.PLOTLYENV=window.PLOTLYENV || {};                                    if (document.getElementById(\"907c49df-8beb-4ff6-ba0f-16ed3bca3fb0\")) {                    Plotly.newPlot(                        \"907c49df-8beb-4ff6-ba0f-16ed3bca3fb0\",                        [{\"alignmentgroup\":\"True\",\"hovertemplate\":\"MaxPrice=%{x}<extra></extra>\",\"legendgroup\":\"\",\"marker\":{\"color\":\"#636efa\"},\"name\":\"\",\"notched\":false,\"offsetgroup\":\"\",\"orientation\":\"h\",\"showlegend\":false,\"x\":[237.46701846965698,242.74406332453825,336.6754617414248,311.34564643799473,258.57519788918205,353.5620052770449,279.6833773087071,187.86279683377307,262.7968337730871,215.86283458739362,462.5632169729863,231.89835944245715,271.37042062415196,228.19785370667324,240.5328728259529,308.37547798199085,240.5328728259529,279.6833773087071,297.1856518767274,207.8813634877708,247.25546434576202,432.69706260508354,370.88319651864305,264.86018438343604,233.02602760658075,445.6781948759741,331.07523047929504,254.67325421484236,379.4631487801151,331.07523047929504,263.85224274406335,306.06860158311343,226.91292875989447,369.39313984168865,221.6358839050132,248.0211081794195,385.2242744063324,274.4063324538259,253.29815303430078,263.85224274406335,263.85224274406335,337.30148083016024,559.6138204682204,329.63553808402025,329.63553808402025,260.6420533687602,268.3079961149002,536.6159922298004,413.9609082915603,375.6311945608603,291.30582435332025,329.63553808402025,206.98045414578016,204.08366708208158,219.78241070378016,316.62269129287597,237.46701846965698,232.1899736147757,337.73087071240104,401.05540897097626,327.1767810026385,316.62269129287597,364.1160949868074,316.62269129287597,232.1899736147757,306.06860158311343,325.12110315313976,1320.6930369401766,329.63553808402025,413.9609082915603,153.3188549228001,291.30582435332025,490.6203357529604,283.6398816071802,383.2971373070003,490.6203357529604,375.6311945608603,450.0,375.0,325.0,298.0,350.0,360.0,377.5422002762019,363.51173104286323,396.1068356722499,396.1068356722499,271.8055655425325,366.72179477960736,323.57805421730063,168.40857266998322,285.0,355.0,595.0,228.0,395.0,365.0,238.0,401.05540897097626,244.85488126649076,392.86793593230584,271.985494106981,332.4267150196434,401.05540897097626,353.5620052770449,311.34564643799473,337.73087071240104,395.77836411609496,401.05540897097626,410.55408970976254,416.88654353562004,416.88654353562004,406.3324538258575,369.39313984168865,348.2849604221636,422.16358839050133,348.2849604221636,348.2849604221636,401.05540897097626,311.34564643799473,274.4063324538259,295.5145118733509,401.05540897097626,559.3667546174142,237.46701846965698,485.4881266490765,358.8390501319261,253.29815303430078,279.6833773087071,453.82585751978894,253.29815303430078,251.1873350923483,348.2849604221636,559.3667546174142,205.8047493403694,216.35883905013193,241.68865435356201,258.57519788918205,195.25065963060686,263.85224274406335,276.51715039577834,299.73614775725594,222.69129287598943,221.6358839050132,205.8047493403694,221.6358839050132,263.85224274406335,300.7915567282322,199.47229551451187,261.7414248021108,174.1424802110818,167.81002638522426,168.86543535620052,221.6358839050132,199.47229551451187,174.1424802110818,185.75197889182058,151.9788918205805,200.52770448548813,242.74406332453825,253.29815303430078,290.23746701846966,195.25065963060686,311.34564643799473,174.1424802110818,200.52770448548813,231.13456464379948,178.3641160949868,237.46701846965698,157.25593667546173,184.69656992084433,230.07915567282322,311.34564643799473,187.86279683377307,230.07915567282322,258.57519788918205,231.13456464379948,248.0211081794195,189.9736147757256,237.46701846965698,137.20316622691294,221.6358839050132,237.46701846965698,179.41952506596306,370.05057357838905,302.2079684223511,160.35524855063525,271.37042062415196,240.5328728259529,308.37547798199085,240.5328728259529,187.49229061305044,219.5633403231775,240.5328728259529,215.86283458739362,209.6953250277538,228.19785370667324,148.02022943135563,197.36030590847417,178.8577772295547,308.37547798199085,240.5328728259529,216.35883905013193,221.6358839050132,189.9736147757256,195.25065963060686,153.03430079155672,199.47229551451187,297.1856518767274,148.5928259383637,297.1856518767274,404.01542874097515,296.7065572149144,332.31134408070415,98.90218573830481,247.25546434576202,469.6174807721693,239.39285896195182,152.8039525289054,264.86018438343604,240.4115519788112,152.8039525289054,322.1616665817756,229.2059287933581,254.67325421484236,252.12652167269394,328.52849793714665,253.14521468955328,297.1856518767274,101.2461960357775,228.52712819504066,84.23683510176689,188.02864978072967,159.10116519907893,237.20537356953588,221.6358839050132,221.6358839050132,189.9736147757256,211.08179419525067,205.8047493403694,205.8047493403694,153.03430079155672,147.75725593667545,189.9736147757256,147.75725593667545,101.31926121372031,168.86543535620052,163.58839050131925,174.1424802110818,147.75725593667545,243.7994722955145,158.31134564643799,189.9736147757256,205.8047493403694,179.41952506596306,174.1424802110818,153.03430079155672,153.03430079155672,174.1424802110818,242.74406332453825,195.25065963060686,179.41952506596306,221.6358839050132,205.8047493403694,205.8047493403694,168.86543535620052,200.52770448548813,179.41952506596306,199.47229551451187,221.6358839050132,146.70184696569922,199.47229551451187,184.69656992084433,205.8047493403694,195.25065963060686,229.97828238420018,283.6398816071802,283.6398816071802,191.64856865350015,214.64639689192018,214.64639689192018,206.98045414578016,160.98479766894013,467.62250751454036,183.98262590736013,321.96959533788026,160.98479766894013,176.31668316122014,329.63553808402025,168.65074041508012,206.98045414578016,283.6398816071802,237.64422513034017,145.65291217666012,145.65291217666012,314.3036525917402,329.63553808402025,383.2971373070003,344.96742357630023,298.97176709946024,291.30582435332025,237.64422513034017,283.6398816071802,252.97611062262018,329.63553808402025,252.97611062262018,406.2949655454203,245.3101678764802,291.30582435332025,214.64639689192018,559.6138204682204,260.6420533687602,237.64422513034017,160.98479766894013,406.2949655454203,344.96742357630023,298.2761288122731,156.98743621698583,180.53555164953372,211.93303889293088,188.384923460383,156.98743621698583,172.6861798386844,147.75725593667545,279.6833773087071,219.52506596306068,211.08179419525067,179.41952506596306,147.75725593667545,200.52770448548813,200.52770448548813,200.52770448548813,211.08179419525067,263.85224274406335,232.1899736147757,158.31134564643799,200.52770448548813,211.08179419525067,189.9736147757256,208.97097625329815,316.62269129287597,158.31134564643799,158.31134564643799,189.9736147757256,263.85224274406335,263.85224274406335,232.1899736147757,189.9736147757256,147.75725593667545,242.74406332453825,174.1424802110818,200.52770448548813,137.20316622691294,295.5145118733509,295.5145118733509,188.91820580474933,211.08179419525067,184.69656992084433,200.52770448548813,221.6358839050132,237.46701846965698,174.1424802110818,148.5928259383637,429.1360813099944,267.1699010371779,353.6509257333056,148.5928259383637,74.29641296918184,191.38755980861245,371.48206484590924,145.65291217666012,183.98262590736013,375.6311945608603,237.64422513034017,130.3210266843801,168.65074041508012,214.64639689192018,191.64856865350015,214.64639689192018,168.65074041508012,252.97611062262018,283.6398816071802,206.98045414578016,298.97176709946024,490.6203357529604,291.30582435332025,490.6203357529604,383.2971373070003,237.64422513034017,459.95656476840037,245.3101678764802,268.3079961149002,160.98479766894013,245.3101678764802,199.31451139964014,168.65074041508012,268.3079961149002,222.31233963806017,245.3101678764802,199.31451139964014,180.0,295.0,475.0,300.0,275.0,189.0,295.0,295.0,285.0,221.0,255.0,306.0,167.0,250.0,250.0,223.0,237.46701846965698,351.8678118220452,148.5928259383637,190.19881720110553,273.2213291472514,208.6417422579011,278.18898967720145,248.38302649750128,301.1954342926581,268.7867813490267,211.49275690357626,353.6668175645088,353.6668175645088,381.9601629696695,240.493435943866,495.13354459031234,467.39052275832313,107.85935140576687,278.99618896958367,503.34363989357877,207.0899546990724,218.93114447097815,126.3064295024874,127.99051522918724,202.09028720397984,231.7301959938969,164.36676692590362,191.3121385531009,117.88600086898825,188.0,278.0,225.0,325.0,285.0,248.0,198.0,235.0,245.0,295.0,235.0,250.0,155.0,285.0,265.0,285.0,330.0,305.0,325.0,295.0,146.70184696569922,174.1424802110818,158.31134564643799,198.4168865435356,157.25593667546173,179.41952506596306,205.8047493403694,627.9683377308708,263.85224274406335,184.69656992084433,205.8047493403694,221.6358839050132,237.46701846965698,163.58839050131925,198.4168865435356,189.9736147757256,153.03430079155672,179.41952506596306,241.76488365064975,277.0222625163695,453.30915684496824,266.9487256975924,289.110506698902,241.76488365064975,397.90470434169436,221.61781001309558,302.2061045633122,216.58104160370706,277.0222625163695,322.3531782008663,300.1913971995568,251.8384204694268,186.36043114737583,331.4193613377657,282.059030925758,261.9119572882039,196.43396796615292,249.8237131056714,277.0222625163695,196.43396796615292,261.9119572882039,153.03430079155672,253.29815303430078,200.52770448548813,290.23746701846966,215.30343007915567,327.1767810026385,226.91292875989447,216.35883905013193,263.85224274406335,131.92612137203167,269.1292875989446,416.88654353562004,184.69656992084433,235.3562005277045,226.91292875989447,369.39313984168865,311.34564643799473,214.24802110817942,263.85224274406335,189.9736147757256,251.1873350923483,337.73087071240104,369.39313984168865,311.34564643799473,365.1715039577836,200.52770448548813,263.85224274406335,232.1899736147757,195.25065963060686,232.1899736147757,158.31134564643799,263.85224274406335,337.73087071240104,179.41952506596306,284.96042216358836,232.1899736147757,150.92348284960423,189.9736147757256,168.86543535620052,242.74406332453825,337.73087071240104,364.1160949868074,204.74934036939314,226.91292875989447,284.96042216358836,153.03430079155672,258.57519788918205,205.8047493403694,103.43007915567283,443.2717678100264,205.8047493403694,274.4063324538259,142.48021108179418,174.1424802110818,221.6358839050132,348.2849604221636,263.85224274406335,221.6358839050132,189.9736147757256,260.68601583113457,181.53034300791558,165.69920844327177,200.52770448548813,163.58839050131925,258.57519788918205,221.6358839050132,242.74406332453825,295.5145118733509,230.07915567282322,316.62269129287597,216.35883905013193,205.8047493403694,211.08179419525067,168.86543535620052,258.57519788918205,332.4538258575198,179.41952506596306,174.1424802110818,189.9736147757256,226.91292875989447,244.85488126649076,221.6358839050132,218.46965699208442,221.6358839050132,214.24802110817942,242.74406332453825,258.57519788918205,176.2532981530343,314.51187335092345,168.86543535620052,195.25065963060686,205.8047493403694,169.92084432717678,205.8047493403694,284.96042216358836,226.91292875989447,248.0211081794195,136.65736095113522,126.896120883197,85.89891259785644,108.34976475411436,105.54089709762533,126.64907651715039,195.25065963060686,121.37203166226912,147.75725593667545,126.64907651715039,161.47757255936676,158.31134564643799,131.92612137203167,168.86543535620052,168.86543535620052,89.70976253298153,166.75461741424803,158.31134564643799,136.14775725593668,195.25065963060686,168.86543535620052,167.81002638522426,83.37730870712402,204.74934036939314,178.3641160949868,168.86543535620052,116.09498680738785,93.93139841688654,142.48021108179418,200.52770448548813,157.25593667546173,132.9815303430079,200.52770448548813,181.53034300791558,153.03430079155672,195.25065963060686,157.25593667546173,158.31134564643799,199.47229551451187,113.98416886543535,167.81002638522426,126.64907651715039,104.48548812664907,126.64907651715039,188.91820580474933,216.35883905013193,158.31134564643799,147.75725593667545,173.08707124010553,166.75461741424803,139.31398416886543,158.31134564643799,100.26385224274406,262.7968337730871,208.97097625329815,103.43007915567283,136.14775725593668,178.3641160949868,136.14775725593668,146.70184696569922,134.03693931398416,158.31134564643799,125.59366754617415,131.92612137203167,163.58839050131925,62.26912928759894,105.54089709762533,166.75461741424803,158.31134564643799,188.91820580474933,110.8179419525066,208.97097625329815,103.43007915567283,153.03430079155672,147.75725593667545,195.25065963060686,124.53825857519789,147.75725593667545,147.75725593667545,147.75725593667545,116.09498680738785,143.53562005277044,157.25593667546173,216.35883905013193,163.58839050131925,119.26121372031662,163.58839050131925,146.70184696569922,115.03957783641161,126.64907651715039,147.75725593667545,121.37203166226912,160.4221635883905,136.14775725593668,121.37203166226912,131.92612137203167,199.47229551451187,132.9815303430079,137.20316622691294,200.52770448548813,125.59366754617415,168.86543535620052,147.75725593667545,146.70184696569922,168.86543535620052,131.92612137203167,111.87335092348285,124.53825857519789,184.69656992084433,197.36147757255935,145.64643799472296,142.48021108179418,205.8047493403694,93.93139841688654,230.07915567282322,68.60158311345647,163.58839050131925,167.81002638522426,131.92612137203167,142.48021108179418,118.20580474934037,131.92612137203167,136.14775725593668,188.91820580474933,87.59894459102902,131.92612137203167,191.02902374670185,179.41952506596306,89.70976253298153,163.58839050131925,83.37730870712402,144.5910290237467,189.9736147757256,142.48021108179418,269.1292875989446,156.2005277044855,237.46701846965698,142.48021108179418,314.51187335092345,189.9736147757256,157.25593667546173,163.58839050131925,143.53562005277044,131.92612137203167,115.03957783641161,147.75725593667545,96.04221635883906,210.0263852242744,121.37203166226912,199.47229551451187,113.98416886543535,153.03430079155672,131.92612137203167,195.25065963060686,153.03430079155672,181.53034300791558,179.41952506596306,156.2005277044855,147.75725593667545,112.9287598944591,131.92612137203167,174.1424802110818,155.14511873350924,153.03430079155672,184.69656992084433,142.48021108179418,131.92612137203167,153.03430079155672,137.20316622691294,146.70184696569922,174.1424802110818,142.48021108179418,156.2005277044855,136.14775725593668,151.9788918205805,163.58839050131925,121.37203166226912,116.09498680738785,199.47229551451187,121.37203166226912,168.86543535620052,125.59366754617415,130.8707124010554,184.69656992084433,121.37203166226912,120.31662269129288,168.86543535620052,116.09498680738785,118.20580474934037,88.65435356200527,179.41952506596306,131.92612137203167,135.09234828496042,146.70184696569922,178.3641160949868,200.52770448548813,113.98416886543535,105.54089709762533,184.69656992084433,131.92612137203167,137.20316622691294,110.8179419525066,204.74934036939314,195.25065963060686,230.07915567282322,163.58839050131925,187.86279683377307,157.25593667546173,126.64907651715039,120.31662269129288,86.54353562005277,146.70184696569922,93.93139841688654,100.26385224274406,179.41952506596306,136.14775725593668,157.25593667546173,103.43007915567283,195.25065963060686,158.31134564643799,163.58839050131925,179.41952506596306,174.1424802110818,188.91820580474933,151.9788918205805,125.59366754617415,174.1424802110818,147.75725593667545,158.31134564643799,146.70184696569922,156.2005277044855,112.9287598944591,208.97097625329815,195.25065963060686,163.58839050131925,158.31134564643799,131.92612137203167,100.26385224274406,128.7598944591029,192.0844327176781,167.81002638522426,136.14775725593668,174.1424802110818,153.03430079155672,142.48021108179418,168.86543535620052,139.31398416886543,160.4221635883905,168.86543535620052,142.48021108179418,126.64907651715039,135.09234828496042,156.2005277044855,158.31134564643799,116.09498680738785,131.92612137203167,153.03430079155672,104.48548812664907,153.03430079155672,147.75725593667545,88.65435356200527,136.14775725593668,131.92612137203167,156.2005277044855,104.48548812664907,168.86543535620052,145.64643799472296,189.9736147757256,177.30870712401054,163.58839050131925,157.25593667546173,166.75461741424803,142.48021108179418,103.43007915567283,131.92612137203167,105.54089709762533,184.69656992084433,100.26385224274406,101.31926121372031,110.8179419525066,105.54089709762533,137.20316622691294,100.26385224274406,168.86543535620052,73.87862796833772,142.48021108179418,142.48021108179418,105.54089709762533,116.09498680738785,110.8179419525066,121.37203166226912,73.87862796833772,79.15567282321899,89.70976253298153,104.8476625138769,104.8476625138769,178.8577772295547,197.36030590847417,135.68521031207598,178.8577772295547,135.68521031207598,129.51770075243618,148.02022943135563,148.02022943135563,117.18268163315653,67.84260515603799,129.51770075243618,80.17762427531763,141.8527198717158,74.01011471567782,135.68521031207598,98.68015295423709,141.8527198717158,98.68015295423709,78.94412236338967,104.8476625138769,109.78167016158875,117.18268163315653,74.01011471567782,215.86283458739362,117.18268163315653,80.17762427531763,135.68521031207598,67.84260515603799,160.35524855063525,117.18268163315653,185.02528678919452,120.88318736894043,92.51264339459726,234.36536326631307,104.8476625138769,92.51264339459726,111.01517207351672,135.68521031207598,160.35524855063525,117.18268163315653,117.18268163315653,111.01517207351672,104.8476625138769,122.11668928086839,92.51264339459726,117.18268163315653,74.01011471567782,98.68015295423709,98.68015295423709,117.18268163315653,74.01011471567782,117.18268163315653,135.68521031207598,111.01517207351672,148.02022943135563,82.64462809917356,135.68521031207598,76.47711853953373,94.9796472184532,117.18268163315653,117.18268163315653,209.6953250277538,135.68521031207598,117.18268163315653,148.02022943135563,120.88318736894043,191.19279634883435,135.68521031207598,135.68521031207598,141.8527198717158,122.11668928086839,154.18773899099543,160.35524855063525,141.8527198717158,135.68521031207598,104.8476625138769,178.8577772295547,86.34513383495745,104.8476625138769,80.17762427531763,111.01517207351672,141.8527198717158,106.08116442580486,135.68521031207598,75.24361662760577,154.18773899099543,96.21314913038115,74.01011471567782,86.34513383495745,222.03034414703345,135.68521031207598,98.68015295423709,154.18773899099543,172.6902676699149,86.34513383495745,86.34513383495745,129.51770075243618,185.02528678919452,67.84260515603799,104.8476625138769,209.6953250277538,135.68521031207598,123.35019119279636,87.57863574688541,129.51770075243618,148.02022943135563,86.34513383495745,123.35019119279636,119.64968545701247,104.8476625138769,92.51264339459726,240.5328728259529,117.18268163315653,197.36030590847417,60.44159368447021,111.01517207351672,96.21314913038115,135.68521031207598,185.02528678919452,96.21314913038115,104.8476625138769,108.54816824966079,120.88318736894043,370.05057357838905,129.51770075243618,139.3857160478599,64.1420994202541,178.8577772295547,148.02022943135563,61.67509559639818,104.8476625138769,185.02528678919452,197.36030590847417,185.02528678919452,92.51264339459726,98.68015295423709,160.35524855063525,86.34513383495745,172.6902676699149,172.6902676699149,92.51264339459726,86.34513383495745,97.44665104230911,171.45676575798694,83.87813001110152,111.01517207351672,129.51770075243618,117.18268163315653,135.09234828496042,172.0316622691293,199.47229551451187,142.48021108179418,83.37730870712402,147.75725593667545,153.03430079155672,145.64643799472296,186.80738786279684,137.20316622691294,193.1706737198728,280.54325537163066,74.29641296918184,148.5928259383637,148.5928259383637,191.38755980861245,131.95042943326698,426.16422479122707,148.5928259383637,206.2468424024488,74.29641296918184,161.6689946209397,148.5928259383637,280.54325537163066,190.19881720110553,74.29641296918184,282.326369282891,250.82469018395793,148.5928259383637,89.15569556301821,89.15569556301821,104.01497815685458,148.5928259383637,44.57784778150911,89.15569556301821,148.5928259383637,89.15569556301821,74.29641296918184,37.14820648459092,281.8712293541687,247.25546434576202,207.6945900504401,332.31134408070415,222.5299179111858,171.59529225595884,247.25546434576202,95.50247033056588,290.3275098049203,164.26424896857333,240.4115519788112,63.66831355371059,101.86930168593695,418.6828299292008,178.27127795038965,178.27127795038965,176.7432384251006,191.00494066113177,315.79483522640453,127.33662710742118,240.4115519788112,201.19187082972545,202.21056384658482,290.3275098049203,280.1405796363266,63.66831355371059,152.8039525289054,278.61254011103756,127.33662710742118,253.14521468955328,191.00494066113177,63.66831355371059,417.66413691234146,137.52355727601486,25.467325421484237,254.67325421484236,45.84118575867162,264.86018438343604,191.00494066113177,152.8039525289054,50.93465084296847,240.4115519788112,101.86930168593695,239.39285896195182,101.86930168593695,239.39285896195182,239.39285896195182,101.86930168593695,318.3415677685529,25.467325421484237,318.3415677685529,191.00494066113177,101.86930168593695,265.87887740029544,162.9908826974991,509.3465084296847,152.8039525289054,318.3415677685529,191.00494066113177,44.57784778150911,222.88923890754555,148.5928259383637,222.88923890754555,59.437130375345475,192.87348806799608,297.1856518767274,118.87426075069095,43.391226872476075,36.15935572706339,57.27641947166842,212.61701167513277,202.492392071555,101.2461960357775,101.2461960357775,92.5679506612823,92.5679506612823,92.5679506612823,286.3820973583421,138.85192599192345,156.20841674091386,103.84966964812607,130.17368061742823,83.88970528678708,147.53017136641864,72.31871145412678,80.996956828622,43.391226872476075,150.42291982458372,231.41987665320573,176.45765594806937,179.35040440623445,231.41987665320573,159.10116519907893,153.03430079155672,121.37203166226912,153.03430079155672,147.75725593667545,174.1424802110818,184.69656992084433,131.92612137203167,168.86543535620052,68.60158311345647,105.54089709762533,153.03430079155672,153.03430079155672,126.64907651715039,168.86543535620052,158.31134564643799,179.41952506596306,116.09498680738785,131.92612137203167,147.75725593667545,131.92612137203167,147.75725593667545,131.92612137203167,147.75725593667545,131.92612137203167,125.59366754617415,200.52770448548813,137.20316622691294,84.43271767810026,105.54089709762533,116.09498680738785,147.75725593667545,131.92612137203167,81.2664907651715,84.43271767810026,116.09498680738785,89.70976253298153,104.48548812664907,90.76517150395779,126.64907651715039,189.9736147757256,84.43271767810026,139.31398416886543,131.92612137203167,103.43007915567283,89.70976253298153,200.52770448548813,68.60158311345647,255.4089709762533,147.75725593667545,126.64907651715039,116.09498680738785,126.64907651715039,100.26385224274406,189.9736147757256,102.37467018469657,103.43007915567283,100.26385224274406,153.03430079155672,92.87598944591029,158.31134564643799,158.31134564643799,174.1424802110818,97.0976253298153,126.64907651715039,100.26385224274406,137.20316622691294,68.60158311345647,126.64907651715039,158.31134564643799,91.82058047493403,137.20316622691294,103.43007915567283,124.53825857519789,104.48548812664907,79.15567282321899,100.26385224274406,131.92612137203167,115.03957783641161,100.26385224274406,137.20316622691294,82.32189973614776,125.59366754617415,184.69656992084433,82.32189973614776,100.26385224274406,174.1424802110818,174.1424802110818,84.43271767810026,126.64907651715039,158.31134564643799,100.26385224274406,94.9868073878628,54.88126649076517,73.87862796833772,116.09498680738785,68.60158311345647,110.8179419525066,147.75725593667545,126.64907651715039,94.9868073878628,128.7598944591029,94.9868073878628,100.26385224274406,81.2664907651715,89.70976253298153,85.48812664907652,131.92612137203167,131.92612137203167,153.03430079155672,103.43007915567283,131.92612137203167,147.75725593667545,73.87862796833772,75.98944591029024,94.9868073878628,75.98944591029024,131.92612137203167,94.9868073878628,89.70976253298153,163.58839050131925,137.20316622691294,131.92612137203167,110.8179419525066,147.75725593667545,121.37203166226912,84.43271767810026,158.31134564643799,126.64907651715039,78.10026385224275,158.31134564643799,89.70976253298153,94.9868073878628,94.9868073878628,105.54089709762533,105.54089709762533,79.15567282321899,89.70976253298153,121.37203166226912,89.70976253298153,105.54089709762533,89.70976253298153,158.31134564643799,94.9868073878628,100.26385224274406,137.20316622691294,226.91292875989447,118.20580474934037,141.42480211081795,84.43271767810026,79.15567282321899,116.09498680738785,84.43271767810026,52.770448548812666,153.03430079155672,158.31134564643799,126.64907651715039,137.20316622691294,68.60158311345647,58.04749340369393,110.8179419525066,126.64907651715039,126.64907651715039,94.9868073878628,158.31134564643799,100.26385224274406,79.15567282321899,192.0844327176781,158.31134564643799,100.26385224274406,68.60158311345647,79.15567282321899,126.64907651715039,126.64907651715039,137.20316622691294,205.8047493403694,142.48021108179418,131.92612137203167,82.32189973614776,116.09498680738785,100.26385224274406,79.15567282321899,100.26385224274406,105.54089709762533,83.37730870712402,94.9868073878628,86.54353562005277,82.32189973614776,131.92612137203167,66.49076517150395,71.76781002638522,103.43007915567283,92.87598944591029,126.64907651715039,158.31134564643799,131.92612137203167,98.15303430079156,137.20316622691294,94.9868073878628,110.8179419525066,163.58839050131925,121.37203166226912,177.30870712401054,155.14511873350924,116.09498680738785,142.48021108179418,158.31134564643799,79.15567282321899,142.48021108179418,126.64907651715039,126.64907651715039,100.26385224274406,114.98914119210009,145.65291217666012,252.97611062262018,99.65725569982007,130.3210266843801,84.32537020754006,214.64639689192018,11.498914119210008,168.65074041508012,214.64639689192018,283.6398816071802,229.97828238420018,168.65074041508012,61.32754196912005,168.65074041508012,214.64639689192018,329.63553808402025,107.32319844596009,214.64639689192018,176.31668316122014,153.3188549228001,260.6420533687602,191.64856865350015,283.6398816071802,199.31451139964014,153.3188549228001,137.9869694305201,153.3188549228001,168.65074041508012,99.65725569982007,137.9869694305201,237.64422513034017,176.31668316122014,229.97828238420018,183.98262590736013,130.3210266843801,283.6398816071802,145.65291217666012,191.64856865350015,107.32319844596009,260.6420533687602,206.98045414578016,76.65942746140006,145.65291217666012,122.6550839382401,229.97828238420018,122.6550839382401,114.98914119210009,191.64856865350015,237.64422513034017,283.6398816071802,237.64422513034017,153.3188549228001,344.96742357630023,160.98479766894013,65.16051334219004,168.65074041508012,130.3210266843801,114.98914119210009,122.6550839382401,375.6311945608603,237.64422513034017,191.64856865350015,183.98262590736013,122.6550839382401,72.82645608833006,237.64422513034017,145.65291217666012,122.6550839382401,252.97611062262018,275.9739388610402,153.3188549228001,11.498914119210008,214.64639689192018,168.65074041508012,130.3210266843801,76.65942746140006,122.6550839382401,283.6398816071802,237.64422513034017,68.99348471526005,367.96525181472026,252.97611062262018,283.6398816071802,57.494570596050046,168.65074041508012,137.9869694305201,130.3210266843801,122.6550839382401,76.65942746140006,153.3188549228001,160.98479766894013,283.6398816071802,283.6398816071802,536.6159922298004,99.65725569982007,283.6398816071802,505.95222124524037,229.97828238420018,145.65291217666012,237.64422513034017,126.48805531131009,191.64856865350015,214.64639689192018,283.6398816071802,168.65074041508012,84.32537020754006,122.6550839382401,99.65725569982007,145.65291217666012,145.65291217666012,76.65942746140006,168.65074041508012,191.64856865350015,99.65725569982007,153.3188549228001,199.31451139964014,298.97176709946024,337.30148083016024,130.3210266843801,114.98914119210009,252.97611062262018,145.65291217666012,145.65291217666012,153.3188549228001,130.3210266843801,168.65074041508012,91.99131295368007,15.331885492280012,130.3210266843801,191.64856865350015,252.97611062262018,145.65291217666012,168.65074041508012,237.64422513034017,191.64856865350015,91.99131295368007,130.3210266843801,153.3188549228001,191.64856865350015,421.6268510377003,76.65942746140006,168.65074041508012,467.62250751454036,91.99131295368007,306.6377098456002,160.98479766894013,283.6398816071802,237.64422513034017,145.65291217666012,235.48115432547874,141.28869259528724,94.1924617301915,196.2342952712323,156.98743621698583,160.9121221224105,113.81589125731473,164.83680802783513,138.14894387094753,180.53555164953372,149.13806440613655,117.74057716273937,208.00835298750624,196.2342952712323,196.2342952712323,117.74057716273937,196.2342952712323,266.87864156887593,125.58994897358866,192.30960936580766,259.02926975802666,156.98743621698583,70.64434629764362,105.54089709762533,137.20316622691294,110.8179419525066,116.09498680738785,158.31134564643799,158.31134564643799,126.64907651715039,205.8047493403694,147.75725593667545,116.09498680738785,116.09498680738785,105.54089709762533,82.32189973614776,137.20316622691294,116.09498680738785,88.65435356200527,158.31134564643799,84.43271767810026,168.86543535620052,79.15567282321899,116.09498680738785,158.31134564643799,147.75725593667545,211.08179419525067,126.64907651715039,121.37203166226912,142.48021108179418,126.64907651715039,84.43271767810026,126.64907651715039,158.31134564643799,131.92612137203167,137.20316622691294,126.64907651715039,116.09498680738785,137.20316622691294,211.08179419525067,105.54089709762533,168.86543535620052,137.20316622691294,179.41952506596306,137.20316622691294,116.09498680738785,108.70712401055408,94.9868073878628,100.26385224274406,103.43007915567283,189.9736147757256,158.31134564643799,137.20316622691294,105.54089709762533,137.20316622691294,263.85224274406335,131.92612137203167,137.20316622691294,158.31134564643799,137.20316622691294,116.09498680738785,116.09498680738785,100.26385224274406,89.70976253298153,147.75725593667545,131.92612137203167,147.75725593667545,101.31926121372031,116.09498680738785,89.70976253298153,94.9868073878628,131.92612137203167,147.75725593667545,126.64907651715039,126.64907651715039,158.31134564643799,143.53562005277044,136.14775725593668,189.9736147757256,121.37203166226912,86.54353562005277,137.20316622691294,68.60158311345647,137.20316622691294,137.20316622691294,131.92612137203167,126.64907651715039,137.20316622691294,100.26385224274406,121.37203166226912,168.86543535620052,158.31134564643799,184.69656992084433,126.64907651715039,174.1424802110818,126.64907651715039,84.43271767810026,168.86543535620052,116.09498680738785,116.09498680738785,142.48021108179418,116.09498680738785,65.4353562005277,89.70976253298153,94.9868073878628,126.64907651715039,179.41952506596306,153.03430079155672,116.09498680738785,126.64907651715039,116.09498680738785,126.64907651715039,79.15567282321899,94.9868073878628,168.86543535620052,89.70976253298153,163.58839050131925,137.20316622691294,105.54089709762533,94.9868073878628,94.9868073878628,84.43271767810026,147.75725593667545,84.43271767810026,105.54089709762533,97.0976253298153,65.4353562005277,110.8179419525066,116.09498680738785,116.09498680738785,137.20316622691294,158.31134564643799,89.70976253298153,110.8179419525066,105.54089709762533,189.9736147757256,142.48021108179418,126.64907651715039,179.41952506596306,110.8179419525066,158.31134564643799,189.9736147757256,126.64907651715039,125.59366754617415,121.37203166226912,82.32189973614776,121.37203166226912,124.53825857519789,116.09498680738785,137.20316622691294,126.64907651715039,110.8179419525066,116.09498680738785,147.75725593667545,97.0976253298153,100.26385224274406,94.9868073878628,116.09498680738785,121.37203166226912,126.64907651715039,126.64907651715039,105.54089709762533,122.42744063324538,137.20316622691294,158.31134564643799,168.86543535620052,158.31134564643799,126.64907651715039,168.86543535620052,89.70976253298153,179.41952506596306,189.9736147757256,126.64907651715039,131.92612137203167,137.20316622691294,84.43271767810026,91.82058047493403,147.75725593667545,189.9736147757256,211.08179419525067,168.86543535620052,116.09498680738785,142.48021108179418,89.70976253298153,189.9736147757256,189.9736147757256,200.52770448548813,121.37203166226912,158.31134564643799,158.31134564643799,137.20316622691294,147.75725593667545,147.75725593667545,100.26385224274406,147.75725593667545,200.52770448548813,100.26385224274406,147.75725593667545,79.15567282321899,179.41952506596306,211.08179419525067,179.41952506596306,100.26385224274406,200.52770448548813,89.70976253298153,126.64907651715039,126.64907651715039,126.64907651715039,131.92612137203167,155.14511873350924,137.20316622691294,153.03430079155672,94.9868073878628,126.64907651715039,153.03430079155672,103.43007915567283,142.48021108179418,105.54089709762533,158.31134564643799,189.9736147757256,126.64907651715039,89.70976253298153,158.31134564643799,142.48021108179418,211.08179419525067,158.31134564643799,97.0976253298153,189.9736147757256,168.86543535620052,211.08179419525067,131.92612137203167,94.9868073878628,137.20316622691294,153.03430079155672,147.75725593667545,103.43007915567283,126.64907651715039,89.70976253298153,84.43271767810026,116.09498680738785,100.26385224274406,116.09498680738785,137.20316622691294,147.75725593667545,147.75725593667545,100.26385224274406,137.20316622691294,116.09498680738785,263.85224274406335,189.9736147757256,105.54089709762533,153.03430079155672,116.09498680738785,100.26385224274406,158.31134564643799,126.64907651715039,147.75725593667545,168.86543535620052,131.92612137203167,100.26385224274406,168.86543535620052,103.43007915567283,179.41952506596306,153.03430079155672,158.31134564643799,137.20316622691294,179.41952506596306,158.31134564643799,248.0211081794195,105.54089709762533,116.09498680738785,126.64907651715039,105.54089709762533,184.69656992084433,158.31134564643799,126.64907651715039,158.31134564643799,168.86543535620052,163.58839050131925,158.31134564643799,147.75725593667545,158.31134564643799,165.69920844327177,179.41952506596306,147.75725593667545,73.87862796833772,158.31134564643799,116.09498680738785,168.86543535620052,116.09498680738785,94.9868073878628,158.31134564643799,147.75725593667545,179.41952506596306,147.75725593667545,179.41952506596306,221.6358839050132,116.09498680738785,226.91292875989447,147.75725593667545,179.41952506596306,158.31134564643799,158.31134564643799,137.20316622691294,147.75725593667545,116.09498680738785,105.54089709762533,226.91292875989447,168.86543535620052,110.8179419525066,126.64907651715039,100.26385224274406,94.9868073878628,168.86543535620052,158.31134564643799,121.37203166226912,105.54089709762533,168.86543535620052,158.31134564643799,226.91292875989447,263.85224274406335,126.64907651715039,126.64907651715039,105.54089709762533,168.86543535620052,163.58839050131925,189.9736147757256,122.42744063324538,168.86543535620052,126.64907651715039,63.324538258575195,89.70976253298153,126.64907651715039,163.58839050131925,94.9868073878628,134.81801674271244,88.47432348740504,354.8396683408125,222.88923890754555,473.7139290915035,148.5928259383637,44.57784778150911,237.7485215013819,118.87426075069095,294.2137953579601,178.31139112603643,280.54325537163066,297.1856518767274,148.5928259383637,118.87426075069095,118.87426075069095,289.7560105798092,74.29641296918184,118.87426075069095,146.80971202710333,172.3676780885019,44.57784778150911,191.38755980861245,178.31139112603643,148.5928259383637,146.80971202710333,89.15569556301821,148.5928259383637,312.04493447056376,222.59205325566882,74.29641296918184,221.1061249962852,178.31139112603643,118.87426075069095,81.72605426610004,148.5928259383637,148.5928259383637,59.437130375345475,148.5928259383637,137.9869694305201,168.65074041508012,153.3188549228001,283.6398816071802,130.3210266843801,130.3210266843801,191.64856865350015,168.65074041508012,114.98914119210009,191.64856865350015,114.98914119210009,222.31233963806017,214.64639689192018,122.6550839382401,137.9869694305201,145.65291217666012,107.32319844596009,137.9869694305201,206.98045414578016,260.6420533687602,229.97828238420018,122.6550839382401,114.98914119210009,76.65942746140006,183.98262590736013,153.3188549228001,153.3188549228001,91.99131295368007,114.98914119210009,252.97611062262018,84.32537020754006,160.98479766894013,206.98045414578016,153.3188549228001,126.48805531131009,206.98045414578016,122.6550839382401,53.661599222980044,153.3188549228001,107.32319844596009,122.6550839382401,130.3210266843801,214.64639689192018,130.3210266843801,199.31451139964014,352.6333663224403,183.98262590736013,206.98045414578016,229.97828238420018,122.6550839382401,153.3188549228001,72.82645608833006,153.3188549228001,283.6398816071802,191.64856865350015,130.3210266843801,30.663770984560024,130.3210266843801,329.63553808402025,191.64856865350015,252.97611062262018,114.98914119210009,137.9869694305201,107.32319844596009,114.98914119210009,168.65074041508012,130.3210266843801,114.98914119210009,122.6550839382401,122.6550839382401,99.65725569982007,260.6420533687602,160.98479766894013,126.48805531131009,107.32319844596009,183.98262590736013,107.32319844596009,191.64856865350015,283.6398816071802,168.65074041508012,183.98262590736013,114.98914119210009,114.98914119210009,107.32319844596009,337.30148083016024,298.97176709946024,153.3188549228001,122.6550839382401,206.98045414578016,283.6398816071802,168.65074041508012,275.9739388610402,237.64422513034017,283.6398816071802,130.3210266843801,168.65074041508012,252.97611062262018,229.97828238420018,84.32537020754006,145.65291217666012,191.64856865350015,145.65291217666012,137.9869694305201,252.97611062262018,214.64639689192018,84.32537020754006,306.6377098456002,306.6377098456002,183.98262590736013,329.63553808402025,99.65725569982007,199.31451139964014,107.32319844596009,490.6203357529604,283.6398816071802,114.98914119210009,199.31451139964014,168.65074041508012,137.9869694305201,237.64422513034017,191.64856865350015,168.65074041508012,168.65074041508012,130.3210266843801,114.98914119210009,436.95873652998034,130.3210266843801,168.65074041508012,122.6550839382401,337.30148083016024,168.65074041508012,191.64856865350015,298.97176709946024,65.16051334219004,490.6203357529604,191.64856865350015,153.3188549228001,130.3210266843801,107.32319844596009,229.97828238420018,191.64856865350015,168.65074041508012,168.65074041508012,145.65291217666012,252.97611062262018,168.65074041508012,191.64856865350015,168.65074041508012,130.3210266843801,245.3101678764802,237.64422513034017,237.64422513034017,191.64856865350015,214.64639689192018,130.3210266843801,145.65291217666012,122.6550839382401,168.65074041508012,137.9869694305201,168.65074041508012,130.3210266843801,367.96525181472026,130.3210266843801,160.98479766894013,85.0,195.0,88.0,89.0,165.0,160.0,199.0,210.0,225.0,145.0,200.0,225.0,90.0,50.0,190.0,185.0,110.0,220.0,300.0,90.0,285.0,148.0,135.0,120.0,145.0,150.0,250.0,195.0,195.0,200.0,97.0,205.0,129.0,125.0,300.0,115.0,158.0,195.0,300.0,150.0,175.0,90.0,78.0,225.0,135.0,165.0,75.0,88.0,148.0,150.0,402.0,250.0,155.0,600.0,70.0,139.0,120.0,189.0,165.0,175.0,75.0,110.0,155.0,89.0,135.0,300.0,210.0,89.70976253298153,126.64907651715039,100.26385224274406,116.09498680738785,126.64907651715039,178.31139112603643,118.87426075069095,445.7784778150911,59.437130375345475,148.5928259383637,148.5928259383637,74.29641296918184,44.57784778150911,118.87426075069095,44.57784778150911,191.38755980861245,29.718565187672738,249.635947576451,118.87426075069095,168.40369196530588,124.19151324875064,129.15917377870068,81.96639874417542,148.53304984550576,178.83577907820091,188.77110013810096,273.2213291472514,188.77110013810096,89.41788953910046,118.72708666580561,88.92112348610546,98.8564445460055,81.96639874417542,254.45821173000428,202.52796443816666,332.3535826677607,233.68611281326923,186.9488902506154,192.14191497979914,202.52796443816666,192.14191497979914,207.20168669443206,120.43319593344815,158.31134564643799,167.81002638522426,211.08179419525067,130.8707124010554,99.2084432717678,110.8179419525066,109.76253298153034,169.76007243096421,226.34676324128563,466.8401991851516,325.3734721593481,275.8601177003169,212.2000905387053,253.93277501131732,254.64010864644635,282.93345405160704,212.2000905387053,212.2000905387053,253.93277501131732,140.75939339067452,140.75939339067452,444.9128564961521,169.76007243096421,190.98008148483476,254.64010864644635,124.66732035299061,82.64462809917354,175.0945510575711,146.23896904328336,133.7722370079843,133.07185880375403,147.07942288835972,109.25899985992436,135.87337162067516,137.27412802913574,96.17322554126709,116.80168551243742,64.11548369417805,83.35012880243147,82.23507691209794,115.68663362210388,87.8103363637656,163.94621413676566,179.76558567627814,179.76558567627814,163.94621413676566,163.94621413676566,204.93276767095708,251.67181994678938,287.624937082045,228.6618249802258,7.190623427051125,127.99309700151002,192.70870784497015,71.90623427051125,185.51808441791903,86.2874811246135,359.53117135255627,243.04307183432803,127.99309700151002,163.94621413676566,156.75559070971454,135.18372042856114,235.8524484072769,207.0899546990724,278.99618896958367,149.5649672826634,92.0399798662544,156.75559070971454,192.70870784497015,395.48428848781185,178.3274609908679,127.99309700151002,142.37434385561227,214.28057812612352,120.8024735744589,158.19371539512474,178.3274609908679,70.46810958510103,309.1968073631984,467.39052275832313,143.8124685410225,293.3774358236859,134.05322384530663,87.57245778839126,255.98103045837448,296.3990878991704,202.09028720397984,100.37150931130999,185.24942993698153,107.78148650878924,336.81714533996643,127.99051522918724,84.20428633499161,218.93114447097815,67.36342906799328,134.72685813598656,242.5083446447758,198.04848145990024,141.4632010427859,84.20428633499161,235.7720017379765,67.36342906799328,168.40857266998322,127.99051522918724,168.40857266998322,296.3990878991704,235.7720017379765,85.0,160.0,100.0,75.0,250.0,50.0,195.0,103.0,150.0,150.0,90.0,75.0,115.0,445.0,315.0,75.0,90.0,325.0,108.0,120.0,98.0,150.0,105.0,75.0,130.0,75.0,175.0,150.0,200.0,185.0,75.0,180.0,150.0,90.0,94.0,150.0,89.0,185.0,400.0,230.0,189.0,60.0,150.0,50.0,75.0,100.0,155.0,150.0,255.0,175.0,165.0,75.0,150.0,150.0,165.0,115.0,140.0,175.0,85.0,150.0,160.0,95.0,175.0,255.0,300.0,150.0,50.0,50.0,225.0,85.0,120.0,165.0,350.0,75.0,65.0,228.0,130.0,100.0,85.0,130.0,150.0,145.0,92.87598944591029,126.64907651715039,158.31134564643799,117.15039577836411,94.9868073878628,126.64907651715039,110.8179419525066,135.09234828496042,137.20316622691294,110.8179419525066,110.8179419525066,126.64907651715039,128.7598944591029,131.92612137203167,137.20316622691294,105.54089709762533,110.8179419525066,189.9736147757256,142.48021108179418,136.14775725593668,116.09498680738785,116.09498680738785,158.31134564643799,105.54089709762533,100.26385224274406,169.92084432717678,116.09498680738785,137.20316622691294,160.4221635883905,118.20580474934037,104.48548812664907,103.43007915567283,98.15303430079156,205.8047493403694,105.54089709762533,158.31134564643799,126.64907651715039,147.75725593667545,103.43007915567283,158.31134564643799,142.48021108179418,146.70184696569922,134.03693931398416,131.92612137203167,137.20316622691294,158.31134564643799,137.20316622691294,123.48284960422164,142.48021108179418,125.59366754617415,263.85224274406335,121.37203166226912,158.31134564643799,142.48021108179418,105.54089709762533,200.52770448548813,236.41160949868075,127.70448548812665,121.37203166226912,136.14775725593668,104.48548812664907,110.8179419525066,131.92612137203167,131.92612137203167,126.64907651715039,104.48548812664907,153.03430079155672,200.52770448548813,153.03430079155672,89.70976253298153,142.48021108179418,92.87598944591029,147.75725593667545,92.87598944591029,131.92612137203167,105.54089709762533,110.8179419525066,94.9868073878628,94.9868073878628,147.75725593667545,94.9868073878628,105.54089709762533,195.25065963060686,184.69656992084433,205.8047493403694,83.37730870712402,147.75725593667545,163.58839050131925,119.26121372031662,131.92612137203167,121.37203166226912,147.75725593667545,139.0148080991236,211.54427319431852,156.13982069104463,176.28689432859878,176.28689432859878,125.9192102347134,190.38984587488667,221.61781001309558,189.38249219300897,205.50015110305227,196.43396796615292,135.9927470534905,216.58104160370706,179.30895537423189,264.934018333837,135.9927470534905,135.9927470534905,125.9192102347134,157.14717437292234,135.9927470534905,146.06628387226755,181.3236627379873,196.43396796615292,120.88244182532488,191.39719955676438,190.38984587488667,191.39719955676438,166.2133575098217,139.0148080991236,176.28689432859878,453.30915684496824,221.61781001309558,146.06628387226755,145.05893019038984,171.25012591921023,181.3236627379873,161.17658910043315,190.38984587488667,251.8384204694268,133.97803968973506,211.54427319431852,201.47073637554143,135.9927470534905,143.04422282663444,199.45602901178603,206.50750478492998,186.36043114737583,181.3236627379873,125.9192102347134,181.3236627379873,189.38249219300897,130.95597864410195,148.08099123602295,177.29424801047648,141.029515462879,206.50750478492998,165.206003827944,181.3236627379873,175.27954064672105,161.17658910043315,141.029515462879,166.2133575098217,200.46338269366373,171.25012591921023,166.2133575098217,251.8384204694268,191.39719955676438,146.06628387226755,221.61781001309558,141.029515462879,141.029515462879,186.36043114737583,170.24277223733253,161.17658910043315,199.45602901178603,199.45602901178603,171.25012591921023,249.8237131056714,146.06628387226755,301.1987508814345,122.89714918908028,181.3236627379873,362.6473254759746,287.0957993351466,149.08834491790068,151.1030522816561,190.38984587488667,166.2133575098217,191.39719955676438,176.28689432859878,232.1899736147757,248.0211081794195,189.9736147757256,253.29815303430078,221.6358839050132,130.8707124010554,232.1899736147757,174.1424802110818,157.25593667546173,124.53825857519789,110.8179419525066,142.48021108179418,100.26385224274406,94.9868073878628,79.15567282321899,195.25065963060686,126.64907651715039,195.25065963060686,73.87862796833772,121.37203166226912,147.75725593667545,137.20316622691294,158.31134564643799,75.98944591029024,88.65435356200527,116.09498680738785,107.65171503957784,147.75725593667545,151.9788918205805,110.8179419525066,142.48021108179418,126.64907651715039,200.52770448548813,121.37203166226912,163.58839050131925,120.31662269129288,115.03957783641161,101.31926121372031,189.9736147757256,200.52770448548813,100.26385224274406,179.41952506596306,92.87598944591029,79.15567282321899,263.85224274406335,113.98416886543535,126.64907651715039,103.43007915567283,98.15303430079156,126.64907651715039,109.76253298153034,86.54353562005277,72.82321899736148,100.26385224274406,131.92612137203167,89.70976253298153,87.59894459102902,116.09498680738785,137.20316622691294,89.70976253298153,401.05540897097626,122.42744063324538,100.26385224274406,94.9868073878628,116.09498680738785,121.37203166226912,147.75725593667545,60.15831134564644,113.98416886543535,295.5145118733509,126.64907651715039,137.20316622691294,142.48021108179418,103.43007915567283,153.03430079155672,174.1424802110818,128.7598944591029,100.26385224274406,115.03957783641161,126.64907651715039,116.09498680738785,126.64907651715039,97.0976253298153,118.20580474934037,147.75725593667545,147.75725593667545,205.8047493403694,163.58839050131925,116.09498680738785,147.75725593667545,179.41952506596306,131.92612137203167,116.09498680738785,176.2532981530343,110.8179419525066,87.59894459102902,137.20316622691294,348.2849604221636,73.87862796833772,94.9868073878628,775.7255936675461,195.25065963060686,174.1424802110818,100.26385224274406,103.43007915567283,189.9736147757256,110.8179419525066,179.41952506596306,123.48284960422164,189.9736147757256,83.37730870712402,102.37467018469657,102.37467018469657,131.92612137203167,97.0976253298153,200.52770448548813,116.09498680738785,84.43271767810026,100.26385224274406,63.324538258575195,89.70976253298153,131.92612137203167,158.31134564643799,116.09498680738785,158.31134564643799,158.31134564643799,110.8179419525066,86.54353562005277,121.37203166226912,110.8179419525066,121.37203166226912,126.64907651715039,166.75461741424803,116.09498680738785,139.31398416886543,146.70184696569922,163.58839050131925,143.53562005277044,153.03430079155672,131.92612137203167,88.65435356200527,177.30870712401054,71.76781002638522,101.31926121372031,116.09498680738785,163.58839050131925,100.26385224274406,146.70184696569922,100.26385224274406,126.64907651715039,157.25593667546173,103.43007915567283,131.92612137203167,287.0712401055409,146.70184696569922,174.1424802110818,103.43007915567283,200.52770448548813,174.1424802110818,121.37203166226912,168.86543535620052,116.09498680738785,232.1899736147757,103.43007915567283,158.31134564643799,137.20316622691294,200.52770448548813,148.8126649076517,84.43271767810026,103.43007915567283,126.64907651715039,98.15303430079156,116.09498680738785,142.48021108179418,111.87335092348285,137.20316622691294,72.82321899736148,116.09498680738785,126.64907651715039,116.09498680738785,100.26385224274406,122.42744063324538,157.25593667546173,103.43007915567283,163.58839050131925,110.8179419525066,168.86543535620052,200.52770448548813,158.31134564643799,116.09498680738785,168.86543535620052,83.37730870712402,116.09498680738785,168.86543535620052,211.08179419525067,258.57519788918205,110.8179419525066,125.59366754617415,179.41952506596306,124.53825857519789,79.15567282321899,527.7044854881267,101.31926121372031,103.43007915567283,126.64907651715039,103.43007915567283,131.92612137203167,137.20316622691294,143.53562005277044,86.54353562005277,153.03430079155672,126.64907651715039,136.14775725593668,120.31662269129288,195.25065963060686,94.9868073878628,88.65435356200527,179.41952506596306,158.31134564643799,120.31662269129288,105.54089709762533,242.74406332453825,94.9868073878628,178.3641160949868,168.86543535620052,248.0211081794195,89.70976253298153,116.09498680738785,184.69656992084433,158.31134564643799,113.98416886543535,84.43271767810026,110.8179419525066,295.5145118733509,205.8047493403694,94.9868073878628,179.41952506596306,158.31134564643799,156.2005277044855,99.2084432717678,100.26385224274406,200.52770448548813,116.09498680738785,158.31134564643799,110.8179419525066,126.64907651715039,126.64907651715039,237.46701846965698,97.0976253298153,102.37467018469657,104.48548812664907,179.41952506596306,98.15303430079156,89.70976253298153,94.9868073878628,121.37203166226912,200.52770448548813,242.74406332453825,147.75725593667545,101.31926121372031,153.03430079155672,157.25593667546173,269.1292875989446,137.20316622691294,135.09234828496042,126.64907651715039,179.41952506596306,147.75725593667545,121.37203166226912,163.58839050131925,105.54089709762533,100.26385224274406,126.64907651715039,79.15567282321899,135.09234828496042,84.43271767810026,103.43007915567283,84.43271767810026,125.59366754617415,118.20580474934037,100.26385224274406,126.64907651715039,168.86543535620052,100.26385224274406,211.08179419525067,184.69656992084433,105.54089709762533,131.92612137203167,116.09498680738785,189.9736147757256,94.9868073878628,115.03957783641161,116.09498680738785,184.69656992084433,126.64907651715039,86.54353562005277,125.59366754617415,158.31134564643799,121.37203166226912,211.08179419525067,137.20316622691294,153.03430079155672,131.92612137203167,103.43007915567283,129.81530343007915,100.26385224274406,179.41952506596306,105.54089709762533,116.09498680738785,132.9815303430079,124.53825857519789,126.64907651715039,126.64907651715039,168.86543535620052,174.1424802110818,99.2084432717678,126.64907651715039,203.69393139841688,109.76253298153034,131.92612137203167,168.86543535620052,100.26385224274406,131.92612137203167,174.1424802110818,124.53825857519789,100.26385224274406,105.54089709762533,116.09498680738785,221.6358839050132,116.09498680738785,126.64907651715039,168.86543535620052,110.8179419525066,163.58839050131925,156.2005277044855,89.70976253298153,126.64907651715039,110.8179419525066,121.37203166226912,131.92612137203167,199.47229551451187,126.64907651715039,174.1424802110818,122.42744063324538,142.48021108179418,158.31134564643799,142.48021108179418,139.31398416886543,145.64643799472296,211.08179419525067,104.48548812664907,174.1424802110818,195.25065963060686,93.93139841688654,105.54089709762533,226.91292875989447,163.58839050131925,158.31134564643799,216.35883905013193,126.64907651715039,82.32189973614776,91.82058047493403,89.70976253298153,116.09498680738785,75.98944591029024,126.64907651715039,189.9736147757256,153.03430079155672,146.70184696569922,103.43007915567283,116.09498680738785,126.64907651715039,124.53825857519789,146.70184696569922,157.25593667546173,116.09498680738785,121.37203166226912,82.32189973614776,110.8179419525066,128.7598944591029,142.48021108179418,131.92612137203167,121.37203166226912,121.37203166226912,253.29815303430078,205.8047493403694,147.75725593667545,137.20316622691294,137.20316622691294,126.64907651715039,94.9868073878628,104.48548812664907,142.48021108179418,128.7598944591029,83.37730870712402,153.03430079155672,168.86543535620052,80.21108179419525,170.97625329815304,168.86543535620052,81.2664907651715,97.0976253298153,226.91292875989447,63.324538258575195,158.31134564643799,79.15567282321899,137.20316622691294,154.08970976253298,105.54089709762533,131.92612137203167,103.43007915567283,185.75197889182058,84.43271767810026,153.03430079155672,274.4063324538259,121.37203166226912,116.09498680738785,153.03430079155672,116.09498680738785,158.31134564643799,158.31134564643799,137.20316622691294,116.09498680738785,321.89973614775727,131.92612137203167,125.59366754617415,89.70976253298153,167.81002638522426,107.65171503957784,116.09498680738785,103.43007915567283,167.81002638522426,142.48021108179418,142.48021108179418,205.8047493403694,170.97625329815304,116.09498680738785,168.86543535620052,422.16358839050133,100.26385224274406,137.20316622691294,103.43007915567283,93.93139841688654,94.9868073878628,160.4221635883905,79.15567282321899,79.15567282321899,137.20316622691294,92.87598944591029,131.92612137203167,258.57519788918205,126.64907651715039,126.64907651715039,153.03430079155672,92.87598944591029,121.37203166226912,205.8047493403694,110.8179419525066,73.87862796833772,137.20316622691294,142.48021108179418,112.9287598944591,147.75725593667545,83.37730870712402,75.98944591029024,174.1424802110818,295.5145118733509,135.09234828496042,123.48284960422164,126.64907651715039,153.03430079155672,116.09498680738785,116.09498680738785,136.14775725593668,246.96569920844328,142.48021108179418,189.9736147757256,121.37203166226912,94.9868073878628,110.8179419525066,170.97625329815304,85.48812664907652,170.97625329815304,147.75725593667545,195.25065963060686,100.26385224274406,131.92612137203167,126.64907651715039,126.64907651715039,112.9287598944591,126.64907651715039,199.47229551451187,103.43007915567283,147.75725593667545,121.37203166226912,126.64907651715039,142.48021108179418,94.9868073878628,68.60158311345647,116.09498680738785,126.64907651715039,121.37203166226912,174.1424802110818,105.54089709762533,253.29815303430078,94.9868073878628,143.53562005277044,200.52770448548813,195.25065963060686,116.09498680738785,109.76253298153034,137.20316622691294,168.86543535620052,81.2664907651715,137.20316622691294,189.9736147757256,174.1424802110818,158.31134564643799,153.03430079155672,187.86279683377307,189.9736147757256,110.8179419525066,105.54089709762533,167.81002638522426,79.15567282321899,99.2084432717678,158.31134564643799,147.75725593667545,184.69656992084433,110.8179419525066,131.92612137203167,92.87598944591029,155.14511873350924,131.92612137203167,123.48284960422164,142.48021108179418,99.2084432717678,153.03430079155672,168.86543535620052,121.37203166226912,137.20316622691294,130.8707124010554,172.0316622691293,100.26385224274406,121.37203166226912,93.93139841688654,110.8179419525066,100.26385224274406,147.75725593667545,110.8179419525066,116.09498680738785,105.54089709762533,126.64907651715039,136.14775725593668,137.20316622691294,136.14775725593668,136.14775725593668,100.26385224274406,153.03430079155672,131.92612137203167,89.70976253298153,147.75725593667545,47.4934036939314,137.20316622691294,106.59630606860158,116.09498680738785,97.0976253298153,174.1424802110818,127.70448548812665,126.64907651715039,142.48021108179418,110.8179419525066,174.1424802110818,126.64907651715039,97.0976253298153,84.43271767810026,158.31134564643799,100.26385224274406,142.48021108179418,166.75461741424803,99.2084432717678,158.31134564643799,122.42744063324538,116.09498680738785,100.26385224274406,103.43007915567283,137.20316622691294,116.09498680738785,131.92612137203167,195.25065963060686,141.42480211081795,128.7598944591029,158.31134564643799,82.32189973614776,184.69656992084433,110.8179419525066,126.64907651715039,158.31134564643799,100.26385224274406,116.09498680738785,142.48021108179418,126.64907651715039,116.09498680738785,126.64907651715039,237.46701846965698,126.64907651715039,132.9815303430079,100.26385224274406,126.64907651715039,125.59366754617415,131.92612137203167,116.09498680738785,81.2664907651715,126.64907651715039,248.0211081794195,195.25065963060686,177.30870712401054,124.53825857519789,160.4221635883905,221.6358839050132,98.15303430079156,219.52506596306068,104.48548812664907,168.86543535620052,74.77109892040684,75.94244772855943,101.5168967065576,85.89891259785644,91.75565663861937,77.11379653671202,61.49581242801085,66.37643246197997,89.80340862503172,75.16154852312438,80.98258874342017,63.324538258575195,50.659630606860155,73.87862796833772,56.992084432717675,50.659630606860155,60.15831134564644,79.15567282321899,65.4353562005277,59.10290237467019,71.76781002638522,59.10290237467019,58.04749340369393,65.4353562005277,79.15567282321899,89.70976253298153,89.70976253298153,79.15567282321899,69.65699208443272,59.10290237467019,89.70976253298153,79.15567282321899,100.26385224274406,68.60158311345647,51.715039577836414,58.04749340369393,104.48548812664907,61.21372031662269,75.98944591029024,60.15831134564644,116.09498680738785,58.04749340369393,77.04485488126649,104.48548812664907,94.9868073878628,59.10290237467019,93.93139841688654,63.324538258575195,83.37730870712402,58.04749340369393,62.26912928759894,70.71240105540898,56.992084432717675,60.15831134564644,94.9868073878628,56.992084432717675,82.32189973614776,48.54881266490765,61.21372031662269,59.10290237467019,63.324538258575195,61.21372031662269,59.10290237467019,61.21372031662269,65.4353562005277,61.21372031662269,59.10290237467019,94.9868073878628,77.04485488126649,59.10290237467019,65.4353562005277,52.770448548812666,65.4353562005277,75.98944591029024,63.324538258575195,44.327176781002635,52.770448548812666,47.4934036939314,75.98944591029024,66.49076517150395,74.93403693931398,64.37994722955145,70.71240105540898,65.4353562005277,58.04749340369393,55.93667546174142,66.49076517150395,104.48548812664907,68.60158311345647,58.04749340369393,62.26912928759894,59.10290237467019,44.327176781002635,79.15567282321899,78.10026385224275,52.770448548812666,72.82321899736148,75.98944591029024,68.60158311345647,68.60158311345647,70.71240105540898,60.15831134564644,51.715039577836414,52.770448548812666,79.15567282321899,131.92612137203167,72.82321899736148,89.70976253298153,46.437994722955146,55.93667546174142,63.324538258575195,60.15831134564644,74.93403693931398,72.82321899736148,49.6042216358839,65.4353562005277,52.770448548812666,63.324538258575195,63.324538258575195,75.98944591029024,83.37730870712402,52.770448548812666,52.770448548812666,68.60158311345647,54.88126649076517,71.76781002638522,79.15567282321899,63.324538258575195,58.04749340369393,66.49076517150395,64.37994722955145,63.324538258575195,65.4353562005277,72.82321899736148,56.992084432717675,68.60158311345647,49.6042216358839,71.76781002638522,54.88126649076517,89.70976253298153,63.324538258575195,79.15567282321899,55.93667546174142,73.87862796833772,73.87862796833772,89.70976253298153,58.04749340369393,88.65435356200527,49.6042216358839,84.43271767810026,43.27176781002638,58.04749340369393,82.32189973614776,73.87862796833772,65.4353562005277,72.82321899736148,89.70976253298153,85.48812664907652,61.21372031662269,82.32189973614776,66.49076517150395,93.93139841688654,63.324538258575195,59.10290237467019,58.04749340369393,73.87862796833772,65.4353562005277,58.04749340369393,68.60158311345647,72.82321899736148,60.15831134564644,68.60158311345647,59.10290237467019,67.54617414248021,69.65699208443272,72.82321899736148,71.76781002638522,56.992084432717675,56.992084432717675,62.26912928759894,68.60158311345647,54.88126649076517,68.60158311345647,59.10290237467019,70.71240105540898,59.10290237467019,67.54617414248021,56.992084432717675,64.37994722955145,47.4934036939314,60.15831134564644,104.48548812664907,63.324538258575195,71.76781002638522,58.04749340369393,104.48548812664907,60.15831134564644,83.37730870712402,39.050131926121374,74.93403693931398,54.88126649076517,87.59894459102902,102.37467018469657,69.65699208443272,46.437994722955146,63.324538258575195,56.992084432717675,73.87862796833772,55.93667546174142,54.88126649076517,66.49076517150395,46.437994722955146,79.15567282321899,63.324538258575195,56.992084432717675,68.60158311345647,110.8179419525066,94.9868073878628,63.324538258575195,72.82321899736148,72.82321899736148,62.26912928759894,82.32189973614776,66.49076517150395,100.26385224274406,48.54881266490765,103.43007915567283,59.10290237467019,86.54353562005277,67.54617414248021,56.992084432717675,54.88126649076517,93.93139841688654,68.60158311345647,68.60158311345647,136.14775725593668,94.9868073878628,71.76781002638522,63.324538258575195,75.98944591029024,73.87862796833772,81.2664907651715,67.54617414248021,62.26912928759894,60.15831134564644,65.4353562005277,58.04749340369393,66.49076517150395,68.60158311345647,59.10290237467019,58.04749340369393,63.324538258575195,63.324538258575195,54.88126649076517,67.54617414248021,89.70976253298153,68.60158311345647,83.37730870712402,51.715039577836414,82.32189973614776,59.10290237467019,89.70976253298153,71.76781002638522,68.60158311345647,66.49076517150395,71.76781002638522,68.60158311345647,60.15831134564644,58.04749340369393,85.48812664907652,54.88126649076517,50.659630606860155,97.0976253298153,55.93667546174142,80.21108179419525,50.659630606860155,48.54881266490765,75.98944591029024,75.98944591029024,55.93667546174142,84.43271767810026,58.04749340369393,69.65699208443272,100.26385224274406,63.324538258575195,68.60158311345647,62.26912928759894,58.04749340369393,67.54617414248021,69.65699208443272,49.6042216358839,73.87862796833772,72.82321899736148,63.324538258575195,81.2664907651715,80.21108179419525,89.70976253298153,69.65699208443272,50.659630606860155,79.15567282321899,84.43271767810026,72.82321899736148,63.324538258575195,68.60158311345647,44.327176781002635,71.76781002638522,82.32189973614776,65.4353562005277,45.382585751978894,49.6042216358839,51.715039577836414,48.54881266490765,42.21635883905013,48.54881266490765,48.54881266490765,45.382585751978894,52.770448548812666,47.4934036939314,54.88126649076517,52.770448548812666,46.437994722955146,58.04749340369393,61.21372031662269,40.105540897097626,33.773087071240106,51.715039577836414,45.382585751978894,56.992084432717675,54.88126649076517,51.715039577836414,61.21372031662269,40.70556309362279,53.04058221290243,80.17762427531763,49.340076477118544,50.5735783890465,57.97458986061429,86.34513383495745,49.340076477118544,37.00505735783891,49.340076477118544,69.07610706796596,83.87813001110152,49.340076477118544,45.63957074133465,43.172566917478726,40.70556309362279,54.274084124830395,67.84260515603799,55.50758603675836,43.172566917478726,75.24361662760577,57.97458986061429,50.5735783890465,50.5735783890465,62.90859750832614,37.00505735783891,60.44159368447021,45.63957074133465,55.50758603675836,60.44159368447021,64.1420994202541,85.11163192302948,56.74108794868632,37.00505735783891,61.67509559639818,37.00505735783891,57.97458986061429,55.50758603675836,49.340076477118544,49.340076477118544,48.10657456519058,40.70556309362279,44.406068829406685,55.50758603675836,71.54311089182188,74.01011471567782,43.172566917478726,43.172566917478726,51.80708030097447,64.1420994202541,59.20809177254225,44.406068829406685,44.406068829406685,57.97458986061429,39.47206118169483,48.10657456519058,39.47206118169483,49.340076477118544,44.406068829406685,41.93906500555076,43.172566917478726,49.340076477118544,39.47206118169483,39.47206118169483,34.53805353398298,50.5735783890465,39.47206118169483,43.172566917478726,59.20809177254225,50.5735783890465,43.172566917478726,61.67509559639818,43.172566917478726,37.00505735783891,46.87307265326261,46.87307265326261,44.406068829406685,56.74108794868632,46.87307265326261,59.20809177254225,38.23855926976687,43.172566917478726,43.172566917478726,55.50758603675836,56.74108794868632,49.340076477118544,66.60910324411003,40.70556309362279,48.10657456519058,55.50758603675836,55.50758603675836,61.67509559639818,86.34513383495745,48.10657456519058,54.274084124830395,80.17762427531763,39.47206118169483,37.00505735783891,49.340076477118544,57.97458986061429,46.87307265326261,56.74108794868632,59.20809177254225,79.15567282321899,67.54617414248021,88.65435356200527,121.37203166226912,72.82321899736148,93.93139841688654,49.6042216358839,73.87862796833772,63.324538258575195,62.26912928759894,29.718565187672738,44.57784778150911,17.831139112603644,29.718565187672738,8.915569556301822,14.859282593836369,29.718565187672738,44.57784778150911,29.718565187672738,3.714820648459092,29.718565187672738,29.718565187672738,22.288923890754553,29.718565187672738,1.485928259383637,29.718565187672738,11.887426075069095,44.57784778150911,8.65394125210167,43.26970626050835,123.62773217288101,43.26970626050835,30.906933043220253,30.906933043220253,6.1813866086440505,12.733662710742118,12.733662710742118,38.20098813222635,25.467325421484237,28.01405796363266,38.20098813222635,19.100494066113175,50.93465084296847,10.186930168593694,12.733662710742118,14.00702898181633,50.93465084296847,10.186930168593694,50.93465084296847,38.20098813222635,50.93465084296847,12.733662710742118,19.100494066113175,12.733662710742118,10.186930168593694,12.733662710742118,7.003514490908165,50.93465084296847,12.733662710742118,8.913563897519483,3.8200988132226352,12.733662710742118,50.93465084296847,50.93465084296847,12.733662710742118,50.93465084296847,38.20098813222635,20.119187082972545,10.8236133041308,50.93465084296847,8.913563897519483,12.733662710742118,50.93465084296847,44.56781948759741,38.20098813222635,50.93465084296847,44.56781948759741,63.66831355371059,15.280395252890541,12.733662710742118,31.834156776855295,50.93465084296847,19.100494066113175,50.93465084296847,50.93465084296847,50.93465084296847,31.834156776855295,5.093465084296847,63.66831355371059,70.03514490908165,76.4019762644527,12.733662710742118,25.467325421484237,12.733662710742118,50.93465084296847,50.93465084296847,19.100494066113175,25.467325421484237,19.100494066113175,27.935451276412376,29.718565187672738,29.718565187672738,29.718565187672738,44.57784778150911,4.457784778150911,11.887426075069095,29.718565187672738,29.718565187672738,7.429641296918184,44.57784778150911,4.457784778150911,14.859282593836369,2.748111035256818,43.391226872476075,16.199391365724402,18.802864978072964,0.5785496916330143,28.927484581650717,21.695613436238038,20.2492392071555,23.141987665320574,18.802864978072964,17.35649074899043,20.2492392071555,1.4463742290825359,1.735649074899043,23.141987665320574,1.4463742290825359,14.463742290825358,37.60572995614593,21.695613436238038,14.463742290825358,2.8927484581650718,27.48111035256818,11.570993832660287,11.570993832660287,9.256795066128229,1.1570993832660286,3.471298149798086,1.1570993832660286,24.588361894403107,27.770385198384687,0.5785496916330143,14.463742290825358,11.570993832660287,0.8678245374495215,23.141987665320574,2.8927484581650718,1.4463742290825359,17.35649074899043,26.034736123485644,1.735649074899043,2.8927484581650718,28.927484581650717,26.034736123485644,4.339122687247608,0.8678245374495215,17.35649074899043,17.35649074899043,2.8927484581650718,8.678245374495216,1.735649074899043,34.71298149798086,1.4463742290825359,3.471298149798086,34.71298149798086,34.71298149798086,2.314198766532057,6.364046607963157,28.927484581650717,47.730349559723685,2.314198766532057,10.12461960357775,4.339122687247608,34.71298149798086,3.1820233039815786,10.12461960357775,6.942596299596172,13.885192599192344,2.8927484581650718,23.141987665320574,21.695613436238038,26.034736123485644,26.034736123485644,11.570993832660287,23.141987665320574,19.959964361338994,5.206947224697129,2.0249239207155503,10.12461960357775,5.7854969163301435,2.8927484581650718,1.0124619603577751,31.820233039815786,1.4463742290825359,5.7854969163301435,2.8927484581650718,7.231871145412679,24.009812202770096,8.678245374495216,2.8927484581650718,2.0249239207155503,20.2492392071555,2.8927484581650718,8.388970528678708,47.730349559723685,2.8927484581650718,18.22431528643995,34.71298149798086,2.8927484581650718,14.463742290825358,26.034736123485644,17.35649074899043,4.0498478414311005,3.471298149798086,26.034736123485644,13.017368061742822,18.802864978072964,23.141987665320574,49.176723788806214,0.5785496916330143,18.802864978072964,23.141987665320574,23.141987665320574,26.034736123485644,2.0249239207155503,20.2492392071555,15.910116519907893,0.5785496916330143,43.391226872476075,9.256795066128229,28.927484581650717,13.017368061742822,28.927484581650717,11.570993832660287,3.471298149798086,14.463742290825358,2.314198766532057,20.2492392071555,28.927484581650717,2.0249239207155503,23.141987665320574,34.71298149798086,11.570993832660287,1.735649074899043,75.98944591029024,42.21635883905013,36.93931398416886,42.21635883905013,47.4934036939314,36.93931398416886,36.93931398416886,26.385224274406333,36.93931398416886,36.93931398416886,36.93931398416886,42.21635883905013,34.82849604221636,42.21635883905013,84.43271767810026,47.4934036939314,36.93931398416886,50.659630606860155,31.662269129287598,36.93931398416886,47.4934036939314,36.93931398416886,36.93931398416886,73.87862796833772,52.770448548812666,58.04749340369393,72.82321899736148,42.21635883905013,63.324538258575195,52.770448548812666,36.93931398416886,79.15567282321899,63.324538258575195,44.327176781002635,79.15567282321899,36.93931398416886,52.770448548812666,47.4934036939314,50.659630606860155,52.770448548812666,58.04749340369393,49.6042216358839,47.4934036939314,47.4934036939314,79.15567282321899,47.4934036939314,58.04749340369393,42.21635883905013,42.21635883905013,42.21635883905013,47.4934036939314,63.324538258575195,54.88126649076517,63.324538258575195,42.21635883905013,50.659630606860155,52.770448548812666,47.4934036939314,24.274406332453825,68.60158311345647,94.9868073878628,52.770448548812666,42.21635883905013,79.15567282321899,47.4934036939314,42.21635883905013,52.770448548812666,63.324538258575195,52.770448548812666,47.4934036939314,58.04749340369393,39.050131926121374,34.82849604221636,36.93931398416886,42.21635883905013,63.324538258575195,52.770448548812666,52.770448548812666,52.770448548812666,63.324538258575195,34.82849604221636,52.770448548812666,47.4934036939314,39.050131926121374,52.770448548812666,45.382585751978894,36.93931398416886,58.04749340369393,52.770448548812666,67.54617414248021,36.93931398416886,47.4934036939314,47.4934036939314,52.770448548812666,59.10290237467019,47.4934036939314,51.715039577836414,47.4934036939314,44.327176781002635,52.770448548812666,47.4934036939314,36.93931398416886,94.9868073878628,37.99472295514512,71.76781002638522,63.324538258575195,42.21635883905013,58.04749340369393,36.93931398416886,39.050131926121374,52.770448548812666,58.04749340369393,40.105540897097626,42.21635883905013,58.04749340369393,39.050131926121374,47.4934036939314,47.4934036939314,63.324538258575195,47.4934036939314,52.770448548812666,63.324538258575195,58.04749340369393,53.82585751978892,42.21635883905013,40.105540897097626,45.382585751978894,47.4934036939314,44.327176781002635,73.87862796833772,36.93931398416886,46.437994722955146,36.93931398416886,47.4934036939314,45.382585751978894,63.324538258575195,47.4934036939314,47.4934036939314,63.324538258575195,58.04749340369393,36.93931398416886,42.21635883905013,52.770448548812666,58.04749340369393,73.87862796833772,52.770448548812666,58.04749340369393,52.770448548812666,47.4934036939314,47.4934036939314,42.21635883905013,46.437994722955146,49.6042216358839,42.21635883905013,58.04749340369393,88.65435356200527,46.437994722955146,58.04749340369393,47.4934036939314,40.105540897097626,42.21635883905013,47.4934036939314,47.4934036939314,52.770448548812666,58.04749340369393,84.43271767810026,52.770448548812666,47.4934036939314,36.93931398416886,51.715039577836414,36.93931398416886,52.770448548812666,42.21635883905013,36.93931398416886,47.4934036939314,47.4934036939314,42.21635883905013,44.327176781002635,47.4934036939314,36.93931398416886,61.21372031662269,47.4934036939314,58.04749340369393,42.21635883905013,52.770448548812666,73.87862796833772,36.93931398416886,50.659630606860155,73.87862796833772,47.4934036939314,42.21635883905013,44.327176781002635,47.4934036939314,52.770448548812666,42.21635883905013,47.4934036939314,58.04749340369393,47.4934036939314,47.4934036939314,49.6042216358839,52.770448548812666,44.327176781002635,52.770448548812666,47.4934036939314,34.82849604221636,47.4934036939314,58.04749340369393,47.4934036939314,41.16094986807388,52.770448548812666,68.60158311345647,42.21635883905013,47.4934036939314,47.4934036939314,47.4934036939314,52.770448548812666,52.770448548812666,46.437994722955146,42.21635883905013,47.4934036939314,52.770448548812666,52.770448548812666,50.659630606860155,42.21635883905013,36.93931398416886,47.4934036939314,84.43271767810026,42.21635883905013,72.82321899736148,36.93931398416886,63.324538258575195,68.60158311345647,52.770448548812666,49.6042216358839,47.4934036939314,42.21635883905013,36.93931398416886,45.382585751978894,47.4934036939314,47.4934036939314,47.4934036939314,47.4934036939314,68.60158311345647,51.715039577836414,50.659630606860155,52.770448548812666,47.4934036939314,58.04749340369393,58.04749340369393,52.770448548812666,58.04749340369393,47.4934036939314,42.21635883905013,47.4934036939314,36.93931398416886,59.10290237467019,63.324538258575195,44.327176781002635,47.4934036939314,47.4934036939314,21.108179419525065,47.4934036939314,58.04749340369393,44.327176781002635,50.659630606860155,84.43271767810026,63.324538258575195,47.4934036939314,52.770448548812666,39.050131926121374,47.4934036939314,41.16094986807388,44.327176781002635,42.21635883905013,62.26912928759894,40.105540897097626,50.659630606860155,42.21635883905013,52.770448548812666,41.16094986807388,52.770448548812666,66.49076517150395,71.76781002638522,18.844153466785833,38.32971373070003,45.99565647684003,38.32971373070003,22.997828238420016,38.32971373070003,49.828627849910035,38.32971373070003,45.99565647684003,53.661599222980044,38.32971373070003,38.32971373070003,19.164856865350014,38.32971373070003,68.99348471526005,68.99348471526005,45.99565647684003,19.164856865350014,53.661599222980044,45.99565647684003,61.32754196912005,61.32754196912005,30.663770984560024,68.99348471526005,61.32754196912005,45.99565647684003,53.661599222980044,45.99565647684003,61.32754196912005,45.99565647684003,61.32754196912005,45.99565647684003,15.331885492280012,53.661599222980044,38.32971373070003,61.32754196912005,53.661599222980044,68.99348471526005,30.663770984560024,38.32971373070003,45.99565647684003,61.32754196912005,68.99348471526005,68.99348471526005,11.498914119210008,45.99565647684003,72.82645608833006,61.32754196912005,38.32971373070003,57.494570596050046,68.99348471526005,61.32754196912005,61.32754196912005,45.99565647684003,11.498914119210008,68.99348471526005,45.99565647684003,11.498914119210008,68.99348471526005,53.661599222980044,45.99565647684003,61.32754196912005,61.32754196912005,45.99565647684003,45.99565647684003,11.498914119210008,22.997828238420016,61.32754196912005,57.494570596050046,68.99348471526005,45.99565647684003,61.32754196912005,61.32754196912005,11.498914119210008,30.663770984560024,38.32971373070003,38.32971373070003,53.661599222980044,45.99565647684003,61.32754196912005,11.498914119210008,38.32971373070003,53.661599222980044,11.498914119210008,30.663770984560024,45.99565647684003,61.32754196912005,30.663770984560024,30.663770984560024,68.99348471526005,22.997828238420016,53.661599222980044,68.99348471526005,53.661599222980044,22.997828238420016,30.663770984560024,38.32971373070003,68.99348471526005,68.99348471526005,72.82645608833006,11.498914119210008,45.99565647684003,45.99565647684003,53.661599222980044,53.661599222980044,53.661599222980044,61.32754196912005,19.164856865350014,15.331885492280012,61.32754196912005,15.331885492280012,38.32971373070003,68.99348471526005,61.32754196912005,45.99565647684003,38.32971373070003,61.32754196912005,53.661599222980044,42.16268510377003,61.32754196912005,53.661599222980044,38.32971373070003,45.99565647684003,65.16051334219004,61.32754196912005,38.32971373070003,53.661599222980044,15.331885492280012,11.498914119210008,68.99348471526005,61.32754196912005,61.32754196912005,68.99348471526005,22.997828238420016,38.32971373070003,45.99565647684003,45.99565647684003,53.661599222980044,68.99348471526005,19.164856865350014,61.32754196912005,61.32754196912005,61.32754196912005,61.32754196912005,34.496742357630026,22.997828238420016,53.661599222980044,61.32754196912005,65.16051334219004,53.661599222980044,61.32754196912005,22.997828238420016,15.331885492280012,45.99565647684003,53.661599222980044,11.498914119210008,53.661599222980044,61.32754196912005,22.997828238420016,30.663770984560024,61.32754196912005,30.663770984560024,11.498914119210008,61.32754196912005,61.32754196912005,61.32754196912005,38.32971373070003,45.99565647684003,49.828627849910035,53.661599222980044,61.32754196912005,53.661599222980044,61.32754196912005,15.331885492280012,61.32754196912005,45.99565647684003,53.661599222980044,68.99348471526005,53.661599222980044,72.82645608833006,7.665942746140006,68.99348471526005,68.99348471526005,45.99565647684003,61.32754196912005,38.32971373070003,19.164856865350014,61.32754196912005,45.99565647684003,61.32754196912005,45.99565647684003,68.99348471526005,30.663770984560024,61.32754196912005,22.997828238420016,45.99565647684003,30.663770984560024,45.99565647684003,68.99348471526005,30.663770984560024,45.99565647684003,61.32754196912005,45.99565647684003,72.82645608833006,53.661599222980044,53.661599222980044,61.32754196912005,57.494570596050046,45.99565647684003,49.828627849910035,11.498914119210008,61.32754196912005,68.99348471526005,22.997828238420016,30.663770984560024,45.99565647684003,38.32971373070003,38.32971373070003,30.663770984560024,22.997828238420016,61.32754196912005,68.99348471526005,53.661599222980044,38.32971373070003,22.997828238420016,30.663770984560024,38.32971373070003,11.498914119210008,19.62342952712323,7.849371810849291,39.24685905424646,32.96736160556703,21.97824107037802,29.04267570014238,33.752298786651956,23.548115432547874,30.612550062312238,38.46192187316153,47.09623086509575,27.47280133797252,46.31129368401082,15.698743621698583,25.902926975802664,29.04267570014238,9.41924617301915,19.62342952712323,21.97824107037802,72.21422065981348,41.60167059750125,10.98912053518901,25.117989794717733,47.09623086509575,7.849371810849291,66.71966039221898,8.63430899193422,39.24685905424646,35.32217314882181,32.96736160556703,31.397487243397165,59.65522576245462,10.98912053518901,35.32217314882181,25.902926975802664,35.32217314882181,14.913806440613655,7.849371810849291,35.32217314882181,5.494560267594505,39.24685905424646,43.1715449596711,37.6769846920766,47.09623086509575,35.32217314882181,51.80585395160533,27.47280133797252,62.79497448679433,10.98912053518901,51.020916770520394,35.32217314882181,19.62342952712323,33.752298786651956,19.62342952712323,15.698743621698583,21.97824107037802,13.343932078443796,15.698743621698583,45.52635650292589,45.382585751978894,58.04749340369393,63.324538258575195,63.324538258575195,61.21372031662269,52.770448548812666,61.21372031662269,63.324538258575195,31.662269129287598,63.324538258575195,42.21635883905013,63.324538258575195,42.21635883905013,42.21635883905013,42.21635883905013,50.659630606860155,52.770448548812666,47.4934036939314,39.050131926121374,50.659630606860155,50.659630606860155,68.60158311345647,52.770448548812666,47.4934036939314,36.93931398416886,73.87862796833772,42.21635883905013,52.770448548812666,47.4934036939314,58.04749340369393,44.327176781002635,52.770448548812666,42.21635883905013,26.385224274406333,42.21635883905013,52.770448548812666,44.327176781002635,63.324538258575195,42.21635883905013,47.4934036939314,36.93931398416886,42.21635883905013,47.4934036939314,49.6042216358839,36.93931398416886,36.93931398416886,52.770448548812666,70.71240105540898,43.27176781002638,42.21635883905013,52.770448548812666,47.4934036939314,63.324538258575195,52.770448548812666,66.49076517150395,52.770448548812666,44.327176781002635,50.659630606860155,49.6042216358839,42.21635883905013,73.87862796833772,52.770448548812666,65.4353562005277,47.4934036939314,73.87862796833772,58.04749340369393,42.21635883905013,64.37994722955145,42.21635883905013,47.4934036939314,63.324538258575195,60.15831134564644,68.60158311345647,36.93931398416886,47.4934036939314,47.4934036939314,44.327176781002635,52.770448548812666,52.770448548812666,47.4934036939314,52.770448548812666,52.770448548812666,58.04749340369393,36.93931398416886,47.4934036939314,46.437994722955146,70.71240105540898,42.21635883905013,44.327176781002635,46.437994722955146,52.770448548812666,63.324538258575195,45.382585751978894,50.659630606860155,41.16094986807388,42.21635883905013,52.770448548812666,47.4934036939314,37.99472295514512,36.93931398416886,47.4934036939314,51.715039577836414,58.04749340369393,52.770448548812666,47.4934036939314,47.4934036939314,42.21635883905013,58.04749340369393,52.770448548812666,52.770448548812666,63.324538258575195,52.770448548812666,63.324538258575195,42.21635883905013,63.324538258575195,52.770448548812666,36.93931398416886,45.382585751978894,63.324538258575195,47.4934036939314,47.4934036939314,63.324538258575195,66.49076517150395,42.21635883905013,36.93931398416886,52.770448548812666,52.770448548812666,63.324538258575195,43.27176781002638,42.21635883905013,42.21635883905013,42.21635883905013,52.770448548812666,63.324538258575195,47.4934036939314,47.4934036939314,68.60158311345647,47.4934036939314,47.4934036939314,42.21635883905013,45.382585751978894,47.4934036939314,58.04749340369393,52.770448548812666,36.93931398416886,45.382585751978894,48.54881266490765,47.4934036939314,61.21372031662269,47.4934036939314,42.21635883905013,47.4934036939314,61.21372031662269,47.4934036939314,47.4934036939314,42.21635883905013,42.21635883905013,52.770448548812666,84.43271767810026,47.4934036939314,52.770448548812666,40.105540897097626,58.04749340369393,36.93931398416886,58.04749340369393,63.324538258575195,54.88126649076517,47.4934036939314,41.16094986807388,63.324538258575195,36.93931398416886,52.770448548812666,58.04749340369393,52.770448548812666,50.659630606860155,52.770448548812666,63.324538258575195,31.662269129287598,55.93667546174142,52.770448548812666,94.9868073878628,52.770448548812666,60.15831134564644,58.04749340369393,52.770448548812666,46.437994722955146,73.87862796833772,63.324538258575195,40.105540897097626,40.105540897097626,70.71240105540898,51.715039577836414,52.770448548812666,50.659630606860155,36.93931398416886,68.60158311345647,82.32189973614776,42.21635883905013,73.87862796833772,52.770448548812666,55.93667546174142,63.324538258575195,48.54881266490765,30.606860158311346,36.93931398416886,58.04749340369393,42.21635883905013,47.4934036939314,47.4934036939314,47.4934036939314,68.60158311345647,42.21635883905013,45.382585751978894,42.21635883905013,39.050131926121374,52.770448548812666,47.4934036939314,47.4934036939314,31.662269129287598,52.770448548812666,47.4934036939314,40.105540897097626,48.54881266490765,44.327176781002635,47.4934036939314,68.60158311345647,60.15831134564644,42.21635883905013,75.98944591029024,47.4934036939314,52.770448548812666,84.43271767810026,55.93667546174142,68.60158311345647,53.82585751978892,58.04749340369393,47.4934036939314,84.43271767810026,45.382585751978894,63.324538258575195,47.4934036939314,58.04749340369393,42.21635883905013,47.4934036939314,47.4934036939314,42.21635883905013,40.105540897097626,42.21635883905013,42.21635883905013,36.93931398416886,52.770448548812666,52.770448548812666,47.4934036939314,29.551451187335093,36.93931398416886,52.770448548812666,50.34610312735668,42.13063023209764,37.917567208887874,44.23716174370252,33.70450418567811,44.57784778150911,29.718565187672738,14.859282593836369,52.00748907842729,29.718565187672738,5.943713037534548,22.288923890754553,44.57784778150911,37.14820648459092,44.57784778150911,14.859282593836369,29.718565187672738,17.831139112603644,44.57784778150911,44.57784778150911,14.859282593836369,22.288923890754553,14.859282593836369,44.57784778150911,7.429641296918184,11.498914119210008,61.32754196912005,61.32754196912005,22.997828238420016,22.997828238420016,53.661599222980044,49.828627849910035,45.99565647684003,11.498914119210008,61.32754196912005,61.32754196912005,68.99348471526005,68.99348471526005,30.663770984560024,22.997828238420016,65.16051334219004,53.661599222980044,53.661599222980044,61.32754196912005,11.498914119210008,61.32754196912005,72.82645608833006,53.661599222980044,53.661599222980044,11.498914119210008,68.99348471526005,45.99565647684003,11.498914119210008,38.32971373070003,61.32754196912005,61.32754196912005,68.99348471526005,22.997828238420016,49.828627849910035,53.661599222980044,45.99565647684003,22.997828238420016,45.99565647684003,11.498914119210008,53.661599222980044,68.99348471526005,15.331885492280012,61.32754196912005,45.99565647684003,45.99565647684003,61.32754196912005,53.661599222980044,45.99565647684003,22.997828238420016,30.663770984560024,22.997828238420016,11.498914119210008,22.997828238420016,68.99348471526005,22.997828238420016,53.661599222980044,45.99565647684003,53.661599222980044,30.663770984560024,61.32754196912005,61.32754196912005,53.661599222980044,45.99565647684003,22.997828238420016,38.32971373070003,61.32754196912005,45.99565647684003,38.32971373070003,68.99348471526005,38.32971373070003,15.331885492280012,57.494570596050046,45.99565647684003,11.498914119210008,53.661599222980044,61.32754196912005,61.32754196912005,45.99565647684003,30.663770984560024,30.663770984560024,11.498914119210008,38.32971373070003,45.99565647684003,61.32754196912005,19.164856865350014,11.498914119210008,38.32971373070003,15.331885492280012,61.32754196912005,68.99348471526005,53.661599222980044,11.498914119210008,84.32537020754006,45.99565647684003,61.32754196912005,15.331885492280012,11.498914119210008,38.32971373070003,30.663770984560024,38.32971373070003,22.997828238420016,15.331885492280012,42.16268510377003,15.331885492280012,11.498914119210008,22.997828238420016,15.331885492280012,15.331885492280012,38.32971373070003,38.32971373070003,38.32971373070003,38.32971373070003,22.997828238420016,38.32971373070003,11.498914119210008,19.164856865350014,61.32754196912005,15.331885492280012,15.331885492280012,68.99348471526005,61.32754196912005,53.661599222980044,61.32754196912005,45.99565647684003,68.99348471526005,65.16051334219004,11.498914119210008,11.498914119210008,38.32971373070003,61.32754196912005,61.32754196912005,53.661599222980044,11.498914119210008,68.99348471526005,45.99565647684003,11.498914119210008,19.164856865350014,53.661599222980044,38.32971373070003,30.663770984560024,11.498914119210008,68.99348471526005,53.661599222980044,45.99565647684003,38.32971373070003,53.661599222980044,61.32754196912005,42.16268510377003,15.331885492280012,38.32971373070003,45.99565647684003,15.331885492280012,38.32971373070003,30.663770984560024,53.661599222980044,30.663770984560024,15.331885492280012,19.164856865350014,11.498914119210008,61.32754196912005,53.661599222980044,61.32754196912005,68.99348471526005,45.99565647684003,61.32754196912005,68.99348471526005,61.32754196912005,30.663770984560024,38.32971373070003,72.82645608833006,68.99348471526005,38.32971373070003,11.498914119210008,11.498914119210008,45.99565647684003,45.99565647684003,45.99565647684003,15.331885492280012,45.99565647684003,68.99348471526005,15.331885492280012,15.331885492280012,68.99348471526005,19.164856865350014,61.32754196912005,19.164856865350014,34.496742357630026,53.661599222980044,61.32754196912005,30.663770984560024,57.494570596050046,11.498914119210008,45.99565647684003,38.32971373070003,61.32754196912005,15.331885492280012,57.494570596050046,68.99348471526005,68.99348471526005,38.32971373070003,22.997828238420016,68.99348471526005,45.99565647684003,53.661599222980044,61.32754196912005,61.32754196912005,11.498914119210008,61.32754196912005,53.661599222980044,53.661599222980044,50.0,50.0,25.0,58.0,50.0,25.0,25.0,30.0,40.0,44.0,50.0,50.0,44.0,60.0,50.0,50.0,25.0,50.0,50.0,60.0,44.0,55.0,20.0,44.0,60.0,40.0,50.0,40.0,60.0,50.0,50.0,50.0,50.0,50.0,42.0,25.0,44.0,44.0,44.0,50.0,50.0,44.0,26.0,45.0,50.0,44.0,55.0,50.0,50.0,50.0,50.0,50.0,50.0,30.0,42.0,70.0,44.0,44.0,44.0,77.0,50.0,50.0,50.0,25.0,50.0,60.0,42.0,25.0,50.0,25.0,25.0,35.0,50.0,20.0,48.0,52.0,50.0,25.0,50.0,50.0,38.0,45.0,58.0,25.0,25.0,44.0,45.0,55.0,55.0,50.0,75.0,75.0,60.0,50.0,75.0,60.0,44.0,25.0,39.0,75.0,20.0,50.0,50.0,60.0,30.0,44.0,30.0,50.0,50.0,60.0,50.0,44.0,25.0,50.0,50.0,44.0,75.0,50.0,50.0,40.0,50.0,50.0,50.0,65.0,110.0,30.0,63.0,50.0,50.0,78.0,80.0,81.0,70.0,48.0,45.0,39.0,73.0,60.0,85.0,95.0,50.0,50.0,49.0,42.0,62.26912928759894,50.659630606860155,73.87862796833772,51.715039577836414,83.37730870712402,52.770448548812666,47.4934036939314,29.718565187672738,11.887426075069095,37.14820648459092,22.288923890754553,44.57784778150911,29.718565187672738,4.457784778150911,29.718565187672738,29.718565187672738,17.831139112603644,4.457784778150911,4.457784778150911,29.718565187672738,4.457784778150911,29.718565187672738,13.373354334452733,3.714820648459092,17.831139112603644,22.288923890754553,29.718565187672738,22.288923890754553,14.859282593836369,3.714820648459092,4.7549704300276385,8.172605426610003,29.718565187672738,19.31706737198728,22.288923890754553,29.718565187672738,44.57784778150911,29.718565187672738,59.13994472346875,64.08282083635532,72.03107768427537,66.56665110133035,60.108692412395314,47.68954108752025,49.67660529950026,54.14749977645528,45.702476875540235,60.108692412395314,67.06341715432535,56.13456398843529,59.11516030640531,77.89537093775641,72.18304373565428,72.82321899736148,59.10290237467019,99.02670891806247,56.58669081032141,67.19669533725667,70.02602987777274,77.80669986419194,49.513354459031234,89.83137166138523,63.66002716161159,78.51403349932096,84.88003621548211,63.66002716161159,63.66002716161159,74.27003168854685,91.95337256677229,55.17202354006337,39.22117943689592,28.435355091749543,49.0264742961199,70.03782042302844,40.62193584535649,50.427230704580474,56.030256338422745,46.22496147919877,56.030256338422745,52.94859223980949,63.03403838072559,56.030256338422745,35.01891021151422,1.438124685410225,5.0334363989357875,32.35780542173006,3.5953117135255623,1.438124685410225,21.571870281153377,17.976558567627812,32.35780542173006,17.976558567627812,4.314374056230675,21.571870281153377,7.190623427051125,7.190623427051125,17.976558567627812,4.314374056230675,4.314374056230675,3.5953117135255623,25.167181994678938,20.13374559574315,28.7624937082045,10.785935140576688,3.5953117135255623,5.0334363989357875,7.190623427051125,57.524987416409,3.5953117135255623,60.40123678722945,3.5953117135255623,64.71561084346013,50.334363989357875,51.7724886747681,2.87624937082045,17.976558567627812,2.87624937082045,21.571870281153377,14.38124685410225,5.0334363989357875,21.571870281153377,64.71561084346013,7.190623427051125,2.87624937082045,5.7524987416409,28.7624937082045,3.5953117135255623,3.5953117135255623,10.785935140576688,7.190623427051125,64.71561084346013,5.7524987416409,4.314374056230675,57.524987416409,4.314374056230675,53.929675702883436,5.7524987416409,71.90623427051125,7.909685769756238,17.2574962249227,14.38124685410225,21.571870281153377,7.190623427051125,2.87624937082045,32.35780542173006,8.62874811246135,3.5953117135255623,4.314374056230675,7.190623427051125,17.976558567627812,4.314374056230675,7.190623427051125,13.472685813598655,10.104514360198992,20.209028720397985,5.052257180099496,33.68171453399664,33.68171453399664,10.104514360198992,10.104514360198992,0.5052257180099496,26.94537162719731,10.104514360198992,20.209028720397985,13.472685813598655,6.736342906799328,26.94537162719731,1.8524942993698152,6.736342906799328,16.84085726699832,16.84085726699832,3.7049885987396305,5.052257180099496,13.472685813598655,33.68171453399664,26.94537162719731,33.68171453399664,20.209028720397985,26.94537162719731,16.84085726699832,33.68171453399664,10.104514360198992,16.84085726699832,10.104514360198992,16.84085726699832,3.199762880729681,16.84085726699832,33.68171453399664,26.94537162719731,26.94537162719731,23.57720017379765,6.736342906799328,20.209028720397985,3.0313543080596976,33.68171453399664,10.104514360198992,13.472685813598655,3.368171453399664,20.209028720397985,3.873397171409614,5.894300043449412,0.471544003475953,3.368171453399664,16.84085726699832,33.68171453399664,33.68171453399664,26.94537162719731,16.84085726699832,49.848937510315025,5.052257180099496,6.736342906799328,16.84085726699832,5.052257180099496,15.156771540298488,33.68171453399664,10.104514360198992,4.041805744079597,26.94537162719731,2.1893114447097815,6.736342906799328,4.041805744079597,26.94537162719731,13.472685813598655,6.736342906799328,26.94537162719731,33.68171453399664,33.68171453399664,10.104514360198992,5.725891470779429,6.736342906799328,20.209028720397985,3.368171453399664,4.041805744079597,33.68171453399664,13.472685813598655,26.94537162719731,30.313543080596975,8.42042863349916,20.209028720397985,33.68171453399664,8.42042863349916,26.94537162719731,45.0,50.0,50.0,56.0,50.0,25.0,50.0,50.0,55.0,50.0,50.0,50.0,50.0,50.0,50.0,25.0,50.0,49.0,50.0,50.0,25.0,50.0,40.0,50.0,50.0,50.0,25.0,70.0,50.0,50.0,50.0,25.0,50.0,35.0,50.0,50.0,40.0,50.0,50.0,45.0,50.0,50.0,50.0,50.0,130.0,30.0,45.0,25.0,57.0,100.0,25.0,52.0,40.0,50.0,50.0,50.0,25.0,30.0,30.0,50.0,45.0,50.0,50.0,55.0,50.0,50.0,74.0,40.0,25.0,40.0,25.0,50.0,44.0,60.0,25.0,35.0,25.0,65.0,50.0,50.0,50.0,50.0,32.0,69.0,50.0,50.0,50.0,45.0,50.0,25.0,50.0,60.0,30.0,50.0,50.0,25.0,50.0,50.0,50.0,50.0,50.0,50.0,50.0,50.0,50.0,40.0,40.0,50.0,30.0,50.0,65.0,50.0,44.0,50.0,56.0,50.0,50.0,50.0,45.0,50.0,50.0,42.0,50.0,30.0,50.0,50.0,50.0,50.0,48.0,50.0,50.0,47.0,38.0,60.0,30.0,44.0,50.0,55.0,40.0,50.0,215.0,40.0,50.0,50.0,69.0,50.0,65.0,50.0,25.0,75.0,30.0,50.0,40.0,58.0,50.0,70.0,50.0,130.0,55.0,52.0,50.0,50.0,41.0,60.0,50.0,50.0,50.0,85.0,50.0,50.0,40.0,50.0,50.0,25.0,50.0,40.0,67.0,31.0,55.0,50.0,50.0,50.0,50.0,55.0,50.0,65.0,50.0,50.0,55.0,60.0,90.0,30.0,69.0,50.0,38.0,50.0,60.0,50.0,50.0,50.0,50.0,50.0,60.0,50.0,45.0,50.0,50.0,50.0,80.0,50.0,44.0,50.0,25.0,25.0,50.0,50.0,50.0,45.0,50.0,85.0,75.0,44.327176781002635,41.16094986807388,62.26912928759894,71.76781002638522,79.15567282321899,73.87862796833772,77.04485488126649,63.324538258575195,59.10290237467019,69.65699208443272,82.32189973614776,63.324538258575195,79.15567282321899,79.15567282321899,79.15567282321899,81.2664907651715,84.43271767810026,62.26912928759894,73.87862796833772,65.4353562005277,59.10290237467019,78.10026385224275,63.324538258575195,52.770448548812666,93.93139841688654,77.04485488126649,67.54617414248021,79.15567282321899,37.99472295514512,47.4934036939314,49.6042216358839,68.60158311345647,51.715039577836414,103.43007915567283,63.324538258575195,58.04749340369393,73.87862796833772,55.93667546174142,51.715039577836414,79.15567282321899,52.770448548812666,63.324538258575195,100.26385224274406,44.327176781002635,61.21372031662269,47.4934036939314,137.20316622691294,75.98944591029024,68.60158311345647,73.87862796833772,73.87862796833772,100.26385224274406,68.60158311345647,47.4934036939314,68.60158311345647,73.87862796833772,68.60158311345647,104.48548812664907,93.93139841688654,83.37730870712402,68.60158311345647,81.2664907651715,51.715039577836414,68.60158311345647,47.4934036939314,105.54089709762533,88.65435356200527,74.93403693931398,89.70976253298153,41.16094986807388,70.71240105540898,88.65435356200527,55.93667546174142,65.4353562005277,79.15567282321899,79.15567282321899,62.26912928759894,73.87862796833772,86.54353562005277,61.21372031662269,63.324538258575195,134.03693931398416,79.15567282321899,68.60158311345647,79.15567282321899,73.87862796833772,63.324538258575195,104.48548812664907,47.4934036939314,72.82321899736148,50.659630606860155,79.15567282321899,63.324538258575195,79.15567282321899,66.49076517150395,63.324538258575195,79.15567282321899,34.82849604221636,40.105540897097626,86.54353562005277,73.87862796833772,58.04749340369393,88.65435356200527,94.9868073878628,79.15567282321899,115.03957783641161,68.60158311345647,68.60158311345647,72.82321899736148,84.43271767810026,61.21372031662269,68.60158311345647,71.76781002638522,55.93667546174142,89.70976253298153,62.26912928759894,100.26385224274406,72.52946509519492,108.79419764279238,96.70595346025989,102.75007555152614,102.75007555152614,125.9192102347134,100.73536818777072,123.90450287095798,102.75007555152614,119.87508814344716,98.72066082401531,98.72066082401531,81.59564823209429,99.72801450589301,95.69859977838219,120.88244182532488,120.88244182532488,89.65447768711594,117.86038077969175,125.9192102347134,91.66918505087136,115.84567341593633,125.9192102347134,92.67653873274907,100.73536818777072,105.77213659715926,96.70595346025989,105.77213659715926,89.65447768711594,84.61770927772741,110.80890500654779,95.69859977838219,108.79419764279238,85.62506295960512,102.75007555152614,110.80890500654779,78.57358718646117,98.72066082401531,79.58094086833887,140.0221617810013,93.68389241462677,85.62506295960512,130.95597864410195,93.68389241462677,125.9192102347134,119.87508814344716,133.97803968973506,99.72801450589301,98.72066082401531,104.76478291528156,99.72801450589301,80.58829455021657,120.88244182532488,120.88244182532488,125.9192102347134,103.75742923340384,99.72801450589301,115.84567341593633,88.64712400523824,96.70595346025989,109.80155132467009,85.62506295960512,90.66183136899365,95.69859977838219,111.8162586884255,106.77949027903696,103.75742923340384,140.0221617810013,162.18394278231085,120.88244182532488,133.97803968973506,69.5074040495618,102.75007555152614,118.86773446156946,93.68389241462677,112.82361237030321,107.78684396091468,118.86773446156946,96.70595346025989,89.65447768711594,120.88244182532488,87.63977032336052,93.68389241462677,137.0001007353682,98.72066082401531,79.58094086833887,90.66183136899365,110.80890500654779,90.66183136899365,107.78684396091468,130.95597864410195,125.9192102347134,124.9118565528357,84.61770927772741,106.77949027903696,146.06628387226755,90.66183136899365,105.77213659715926,146.06628387226755,86.63241664148282,124.9118565528357,143.04422282663444,93.68389241462677,120.88244182532488,90.66183136899365,87.63977032336052,82.603001913972,90.66183136899365,80.58829455021657,99.72801450589301,97.71330714213761,104.76478291528156,89.65447768711594,75.55152614082805,98.72066082401531,116.85302709781404,109.80155132467009,86.63241664148282,65.47798932205097,129.94862496222424,118.86773446156946,110.80890500654779,87.63977032336052,106.77949027903696,119.87508814344716,98.72066082401531,88.64712400523824,135.9927470534905,105.77213659715926,90.66183136899365,109.80155132467009,96.70595346025989,71.52211141331722,85.62506295960512,112.82361237030321,103.75742923340384,51.715039577836414,54.88126649076517,55.93667546174142,105.54089709762533,50.659630606860155,49.6042216358839,88.65435356200527,42.21635883905013,82.32189973614776,91.82058047493403,84.43271767810026,54.88126649076517,61.21372031662269,71.76781002638522,52.770448548812666,51.715039577836414,67.54617414248021,39.050131926121374,35.88390501319261,63.324538258575195,61.21372031662269,92.87598944591029,56.992084432717675,61.21372031662269,63.324538258575195,56.992084432717675,37.99472295514512,35.88390501319261,36.93931398416886,67.54617414248021,52.770448548812666,84.43271767810026,63.324538258575195,42.21635883905013,32.71767810026385,43.27176781002638,73.87862796833772,42.21635883905013,73.87862796833772,47.4934036939314,71.76781002638522,88.65435356200527,47.4934036939314,63.324538258575195,79.15567282321899,52.770448548812666,82.32189973614776,73.87862796833772,47.4934036939314,92.87598944591029,58.04749340369393,73.87862796833772,45.382585751978894,47.4934036939314,52.770448548812666,50.659630606860155,59.10290237467019,68.60158311345647,63.324538258575195,74.93403693931398,68.60158311345647,36.93931398416886,41.16094986807388,52.770448548812666,92.87598944591029,36.93931398416886,78.10026385224275,79.15567282321899,46.437994722955146,61.21372031662269,72.82321899736148,46.437994722955146,70.71240105540898,58.04749340369393,71.76781002638522,45.382585751978894,39.050131926121374,41.16094986807388,68.60158311345647,54.88126649076517,75.98944591029024,65.4353562005277,79.15567282321899,73.87862796833772,52.770448548812666,67.54617414248021,79.15567282321899,61.21372031662269,33.773087071240106,63.324538258575195,55.93667546174142,99.2084432717678,58.04749340369393,51.715039577836414,72.82321899736148,47.4934036939314,72.82321899736148,73.87862796833772,56.992084432717675,50.659630606860155,63.324538258575195,67.54617414248021,63.324538258575195,73.87862796833772,82.32189973614776,62.26912928759894,63.324538258575195,31.662269129287598,73.87862796833772,54.88126649076517,88.65435356200527,44.327176781002635,35.88390501319261,67.54617414248021,62.26912928759894,54.88126649076517,41.16094986807388,34.82849604221636,89.70976253298153,63.324538258575195,59.10290237467019,85.48812664907652,63.324538258575195,56.992084432717675,58.04749340369393,56.992084432717675,44.327176781002635,158.31134564643799,37.99472295514512,50.659630606860155,33.773087071240106,50.659630606860155,32.71767810026385,82.32189973614776,100.26385224274406,72.82321899736148,100.26385224274406,71.76781002638522,73.87862796833772,52.770448548812666,36.93931398416886,81.2664907651715,36.93931398416886,61.21372031662269,86.54353562005277,97.0976253298153,66.49076517150395,47.4934036939314,69.65699208443272,46.437994722955146,70.71240105540898,42.21635883905013,63.324538258575195,71.76781002638522,63.324538258575195,60.15831134564644,54.88126649076517,61.21372031662269,69.65699208443272,52.770448548812666,84.43271767810026,105.54089709762533,44.327176781002635,47.4934036939314,35.88390501319261,82.32189973614776,62.26912928759894,41.16094986807388,73.87862796833772,68.60158311345647,104.48548812664907,52.770448548812666,67.54617414248021,49.6042216358839,68.60158311345647,45.382585751978894,40.105540897097626,61.21372031662269,58.04749340369393,68.60158311345647,35.88390501319261,75.98944591029024,40.105540897097626,77.04485488126649,61.21372031662269,44.327176781002635,60.15831134564644,35.88390501319261,79.15567282321899,49.6042216358839,51.715039577836414,50.659630606860155,73.87862796833772,62.26912928759894,63.324538258575195,36.93931398416886,62.26912928759894,48.54881266490765,86.54353562005277,52.770448548812666,69.65699208443272,41.16094986807388,73.87862796833772,63.324538258575195,100.26385224274406,58.04749340369393,90.76517150395779,73.87862796833772,68.60158311345647,52.770448548812666,89.70976253298153,43.27176781002638,67.54617414248021,33.773087071240106,73.87862796833772,89.70976253298153,104.48548812664907,46.437994722955146,58.04749340369393,68.60158311345647,31.662269129287598,26.385224274406333,58.04749340369393,46.437994722955146,82.32189973614776,58.04749340369393,36.93931398416886,50.659630606860155,59.10290237467019,37.99472295514512,44.327176781002635,63.324538258575195,61.21372031662269,61.21372031662269,79.15567282321899,126.64907651715039,68.60158311345647,54.88126649076517,74.93403693931398,39.050131926121374,61.21372031662269,58.04749340369393,46.437994722955146,46.437994722955146,58.04749340369393,55.93667546174142,72.82321899736148,40.105540897097626,40.105540897097626,71.76781002638522,62.26912928759894,49.6042216358839,69.65699208443272,63.324538258575195,84.43271767810026,63.324538258575195,47.4934036939314,55.93667546174142,73.87862796833772,60.15831134564644,63.324538258575195,58.04749340369393,72.82321899736148,34.82849604221636,56.992084432717675,58.04749340369393,83.37730870712402,50.659630606860155,81.2664907651715,51.715039577836414,68.60158311345647,68.60158311345647,52.770448548812666,37.99472295514512,72.82321899736148,52.770448548812666,41.16094986807388,68.60158311345647,47.4934036939314,66.49076517150395,51.715039577836414,60.15831134564644,79.15567282321899,89.70976253298153,63.324538258575195,68.60158311345647,43.27176781002638,58.04749340369393,46.437994722955146,44.327176781002635,69.65699208443272,58.04749340369393,63.324538258575195,62.26912928759894,79.15567282321899,47.4934036939314,82.32189973614776,44.327176781002635,46.437994722955146,52.770448548812666,42.21635883905013,51.715039577836414,44.327176781002635,87.59894459102902,33.773087071240106,52.770448548812666,51.715039577836414,45.382585751978894,73.87862796833772,62.26912928759894,50.659630606860155,59.10290237467019,35.88390501319261,100.26385224274406,51.715039577836414,117.15039577836411,52.770448548812666,52.770448548812666,100.26385224274406,68.60158311345647,70.71240105540898,47.4934036939314,54.88126649076517,60.15831134564644,121.37203166226912,49.6042216358839,50.659630606860155,63.324538258575195,54.88126649076517,42.21635883905013,49.6042216358839,73.87862796833772,46.437994722955146,63.324538258575195,47.4934036939314,63.324538258575195,58.04749340369393,58.04749340369393,52.770448548812666,83.37730870712402,62.26912928759894,40.105540897097626,56.992084432717675,71.76781002638522,52.770448548812666,58.04749340369393,64.37994722955145,69.65699208443272,58.04749340369393,33.773087071240106,75.98944591029024,86.54353562005277,44.327176781002635,73.87862796833772,84.43271767810026,60.15831134564644,51.715039577836414,86.54353562005277,63.324538258575195,46.437994722955146,44.327176781002635,65.4353562005277,68.60158311345647,56.992084432717675,73.87862796833772,60.15831134564644,100.26385224274406,44.327176781002635,50.659630606860155,89.70976253298153,52.770448548812666,36.93931398416886,68.60158311345647,61.21372031662269,63.324538258575195,69.65699208443272,58.04749340369393,52.770448548812666,68.60158311345647,58.04749340369393,52.770448548812666,116.09498680738785,56.992084432717675,52.770448548812666,35.88390501319261,36.93931398416886,71.76781002638522,67.54617414248021,64.37994722955145,49.6042216358839,47.4934036939314,51.715039577836414,89.70976253298153,56.992084432717675,47.4934036939314,36.93931398416886,56.992084432717675,52.770448548812666,36.93931398416886,63.324538258575195,61.21372031662269,68.60158311345647,52.770448548812666,64.37994722955145,40.105540897097626,42.21635883905013,34.82849604221636,68.60158311345647,60.15831134564644,61.21372031662269,59.10290237467019,54.88126649076517,73.87862796833772,62.26912928759894,75.98944591029024,63.324538258575195,89.70976253298153,37.99472295514512,52.770448548812666,64.37994722955145,105.54089709762533,78.10026385224275,33.773087071240106,51.715039577836414,73.87862796833772,42.21635883905013,94.9868073878628,59.10290237467019,47.4934036939314,77.04485488126649,63.324538258575195,50.659630606860155,46.437994722955146,73.87862796833772,47.4934036939314,126.64907651715039,84.43271767810026,50.659630606860155,104.48548812664907,60.15831134564644,54.88126649076517,68.60158311345647,52.770448548812666,73.87862796833772,93.93139841688654,41.16094986807388,79.15567282321899,47.4934036939314,69.65699208443272,115.03957783641161,68.60158311345647,58.04749340369393,48.54881266490765,72.82321899736148,61.21372031662269,61.21372031662269,46.437994722955146,41.16094986807388,47.4934036939314,53.82585751978892,69.65699208443272,73.87862796833772,58.04749340369393,100.26385224274406,58.04749340369393,74.93403693931398,58.04749340369393,53.82585751978892,51.715039577836414,48.54881266490765,58.04749340369393,36.93931398416886,47.4934036939314,63.324538258575195,116.09498680738785,47.4934036939314,47.4934036939314,92.87598944591029,52.770448548812666,73.87862796833772,68.60158311345647,58.04749340369393,68.60158311345647,45.382585751978894,40.105540897097626,84.43271767810026,74.93403693931398,73.87862796833772,53.82585751978892,53.82585751978892,53.82585751978892,52.770448548812666,68.60158311345647,61.21372031662269,79.15567282321899,75.98944591029024,68.60158311345647,33.773087071240106,78.10026385224275,75.98944591029024,79.15567282321899,79.15567282321899,116.09498680738785,63.324538258575195,89.70976253298153,90.76517150395779,111.87335092348285,79.15567282321899,78.10026385224275,89.70976253298153,83.37730870712402,110.8179419525066,62.26912928759894,68.60158311345647,73.87862796833772,94.9868073878628,52.770448548812666,80.21108179419525,79.15567282321899,63.324538258575195,62.26912928759894,79.15567282321899,42.21635883905013,63.324538258575195,75.98944591029024,84.43271767810026,85.48812664907652,90.76517150395779,73.87862796833772,63.324538258575195,68.60158311345647,55.93667546174142,63.324538258575195,53.82585751978892,73.87862796833772,67.54617414248021,83.37730870712402,40.105540897097626,67.54617414248021,73.87862796833772,63.324538258575195,63.324538258575195,63.324538258575195,41.16094986807388,58.04749340369393,63.324538258575195,47.4934036939314,52.770448548812666,68.60158311345647,93.93139841688654,63.324538258575195,71.76781002638522,60.15831134564644,79.15567282321899,42.21635883905013,84.43271767810026,58.04749340369393,41.16094986807388,73.87862796833772,59.10290237467019,69.65699208443272,107.65171503957784,103.43007915567283,42.21635883905013,63.324538258575195,79.15567282321899,68.60158311345647,79.15567282321899,79.15567282321899,66.49076517150395,73.87862796833772,73.87862796833772,70.71240105540898,79.15567282321899,94.9868073878628,63.324538258575195,63.324538258575195,88.65435356200527,65.4353562005277,63.324538258575195,58.04749340369393,86.54353562005277,68.60158311345647,77.04485488126649,105.54089709762533,63.324538258575195,50.659630606860155,47.4934036939314,96.04221635883906,61.21372031662269,105.54089709762533,61.21372031662269,73.87862796833772,58.04749340369393,63.324538258575195,79.15567282321899,84.43271767810026,56.992084432717675,69.65699208443272,93.93139841688654,45.382585751978894,89.70976253298153,44.327176781002635,36.93931398416886,52.770448548812666,51.715039577836414,41.16094986807388,110.8179419525066,153.03430079155672,68.60158311345647,41.16094986807388,86.54353562005277,163.58839050131925,65.4353562005277,77.04485488126649,73.87862796833772,73.87862796833772,65.4353562005277,65.4353562005277,47.4934036939314,68.60158311345647,80.21108179419525,68.60158311345647,63.324538258575195,73.87862796833772,63.324538258575195,70.71240105540898,75.98944591029024,66.49076517150395,49.6042216358839,79.15567282321899,36.93931398416886,58.04749340369393,68.60158311345647,66.49076517150395,54.88126649076517,73.87862796833772,80.21108179419525,52.770448548812666,73.87862796833772,62.26912928759894,58.04749340369393,84.43271767810026,73.87862796833772,63.324538258575195,68.60158311345647,58.04749340369393,79.15567282321899,73.87862796833772,62.26912928759894,126.64907651715039,68.60158311345647,79.15567282321899,37.09271225816528,29.283720203814692,23.426976163051755,29.283720203814692,37.09271225816528,37.09271225816528,37.09271225816528,31.235968217402338,9.76124006793823,23.426976163051755,21.47472814946411,35.14046424457763,23.426976163051755,32.21209222419616,27.331472190227046,58.567440407629384,21.47472814946411,29.283720203814692,29.283720203814692,35.14046424457763,28.307596197020867,34.750014641860105,9.76124006793823,25.3792241766394,34.164340237783804,10.542139273373289,48.80620033969115,39.04496027175292,25.3792241766394,39.04496027175292,48.80620033969115,58.17699080491185,23.426976163051755,35.14046424457763,44.90170431251586,25.3792241766394,35.14046424457763,42.94945629892822,23.036526560334224,40.49129437171008,65.2359742655329,21.370405362846988,52.86363431862149,35.092455122148735],\"x0\":\" \",\"xaxis\":\"x\",\"y0\":\" \",\"yaxis\":\"y\",\"type\":\"box\"}],                        {\"template\":{\"data\":{\"bar\":[{\"error_x\":{\"color\":\"#2a3f5f\"},\"error_y\":{\"color\":\"#2a3f5f\"},\"marker\":{\"line\":{\"color\":\"#E5ECF6\",\"width\":0.5},\"pattern\":{\"fillmode\":\"overlay\",\"size\":10,\"solidity\":0.2}},\"type\":\"bar\"}],\"barpolar\":[{\"marker\":{\"line\":{\"color\":\"#E5ECF6\",\"width\":0.5},\"pattern\":{\"fillmode\":\"overlay\",\"size\":10,\"solidity\":0.2}},\"type\":\"barpolar\"}],\"carpet\":[{\"aaxis\":{\"endlinecolor\":\"#2a3f5f\",\"gridcolor\":\"white\",\"linecolor\":\"white\",\"minorgridcolor\":\"white\",\"startlinecolor\":\"#2a3f5f\"},\"baxis\":{\"endlinecolor\":\"#2a3f5f\",\"gridcolor\":\"white\",\"linecolor\":\"white\",\"minorgridcolor\":\"white\",\"startlinecolor\":\"#2a3f5f\"},\"type\":\"carpet\"}],\"choropleth\":[{\"colorbar\":{\"outlinewidth\":0,\"ticks\":\"\"},\"type\":\"choropleth\"}],\"contour\":[{\"colorbar\":{\"outlinewidth\":0,\"ticks\":\"\"},\"colorscale\":[[0.0,\"#0d0887\"],[0.1111111111111111,\"#46039f\"],[0.2222222222222222,\"#7201a8\"],[0.3333333333333333,\"#9c179e\"],[0.4444444444444444,\"#bd3786\"],[0.5555555555555556,\"#d8576b\"],[0.6666666666666666,\"#ed7953\"],[0.7777777777777778,\"#fb9f3a\"],[0.8888888888888888,\"#fdca26\"],[1.0,\"#f0f921\"]],\"type\":\"contour\"}],\"contourcarpet\":[{\"colorbar\":{\"outlinewidth\":0,\"ticks\":\"\"},\"type\":\"contourcarpet\"}],\"heatmap\":[{\"colorbar\":{\"outlinewidth\":0,\"ticks\":\"\"},\"colorscale\":[[0.0,\"#0d0887\"],[0.1111111111111111,\"#46039f\"],[0.2222222222222222,\"#7201a8\"],[0.3333333333333333,\"#9c179e\"],[0.4444444444444444,\"#bd3786\"],[0.5555555555555556,\"#d8576b\"],[0.6666666666666666,\"#ed7953\"],[0.7777777777777778,\"#fb9f3a\"],[0.8888888888888888,\"#fdca26\"],[1.0,\"#f0f921\"]],\"type\":\"heatmap\"}],\"heatmapgl\":[{\"colorbar\":{\"outlinewidth\":0,\"ticks\":\"\"},\"colorscale\":[[0.0,\"#0d0887\"],[0.1111111111111111,\"#46039f\"],[0.2222222222222222,\"#7201a8\"],[0.3333333333333333,\"#9c179e\"],[0.4444444444444444,\"#bd3786\"],[0.5555555555555556,\"#d8576b\"],[0.6666666666666666,\"#ed7953\"],[0.7777777777777778,\"#fb9f3a\"],[0.8888888888888888,\"#fdca26\"],[1.0,\"#f0f921\"]],\"type\":\"heatmapgl\"}],\"histogram\":[{\"marker\":{\"pattern\":{\"fillmode\":\"overlay\",\"size\":10,\"solidity\":0.2}},\"type\":\"histogram\"}],\"histogram2d\":[{\"colorbar\":{\"outlinewidth\":0,\"ticks\":\"\"},\"colorscale\":[[0.0,\"#0d0887\"],[0.1111111111111111,\"#46039f\"],[0.2222222222222222,\"#7201a8\"],[0.3333333333333333,\"#9c179e\"],[0.4444444444444444,\"#bd3786\"],[0.5555555555555556,\"#d8576b\"],[0.6666666666666666,\"#ed7953\"],[0.7777777777777778,\"#fb9f3a\"],[0.8888888888888888,\"#fdca26\"],[1.0,\"#f0f921\"]],\"type\":\"histogram2d\"}],\"histogram2dcontour\":[{\"colorbar\":{\"outlinewidth\":0,\"ticks\":\"\"},\"colorscale\":[[0.0,\"#0d0887\"],[0.1111111111111111,\"#46039f\"],[0.2222222222222222,\"#7201a8\"],[0.3333333333333333,\"#9c179e\"],[0.4444444444444444,\"#bd3786\"],[0.5555555555555556,\"#d8576b\"],[0.6666666666666666,\"#ed7953\"],[0.7777777777777778,\"#fb9f3a\"],[0.8888888888888888,\"#fdca26\"],[1.0,\"#f0f921\"]],\"type\":\"histogram2dcontour\"}],\"mesh3d\":[{\"colorbar\":{\"outlinewidth\":0,\"ticks\":\"\"},\"type\":\"mesh3d\"}],\"parcoords\":[{\"line\":{\"colorbar\":{\"outlinewidth\":0,\"ticks\":\"\"}},\"type\":\"parcoords\"}],\"pie\":[{\"automargin\":true,\"type\":\"pie\"}],\"scatter\":[{\"marker\":{\"colorbar\":{\"outlinewidth\":0,\"ticks\":\"\"}},\"type\":\"scatter\"}],\"scatter3d\":[{\"line\":{\"colorbar\":{\"outlinewidth\":0,\"ticks\":\"\"}},\"marker\":{\"colorbar\":{\"outlinewidth\":0,\"ticks\":\"\"}},\"type\":\"scatter3d\"}],\"scattercarpet\":[{\"marker\":{\"colorbar\":{\"outlinewidth\":0,\"ticks\":\"\"}},\"type\":\"scattercarpet\"}],\"scattergeo\":[{\"marker\":{\"colorbar\":{\"outlinewidth\":0,\"ticks\":\"\"}},\"type\":\"scattergeo\"}],\"scattergl\":[{\"marker\":{\"colorbar\":{\"outlinewidth\":0,\"ticks\":\"\"}},\"type\":\"scattergl\"}],\"scattermapbox\":[{\"marker\":{\"colorbar\":{\"outlinewidth\":0,\"ticks\":\"\"}},\"type\":\"scattermapbox\"}],\"scatterpolar\":[{\"marker\":{\"colorbar\":{\"outlinewidth\":0,\"ticks\":\"\"}},\"type\":\"scatterpolar\"}],\"scatterpolargl\":[{\"marker\":{\"colorbar\":{\"outlinewidth\":0,\"ticks\":\"\"}},\"type\":\"scatterpolargl\"}],\"scatterternary\":[{\"marker\":{\"colorbar\":{\"outlinewidth\":0,\"ticks\":\"\"}},\"type\":\"scatterternary\"}],\"surface\":[{\"colorbar\":{\"outlinewidth\":0,\"ticks\":\"\"},\"colorscale\":[[0.0,\"#0d0887\"],[0.1111111111111111,\"#46039f\"],[0.2222222222222222,\"#7201a8\"],[0.3333333333333333,\"#9c179e\"],[0.4444444444444444,\"#bd3786\"],[0.5555555555555556,\"#d8576b\"],[0.6666666666666666,\"#ed7953\"],[0.7777777777777778,\"#fb9f3a\"],[0.8888888888888888,\"#fdca26\"],[1.0,\"#f0f921\"]],\"type\":\"surface\"}],\"table\":[{\"cells\":{\"fill\":{\"color\":\"#EBF0F8\"},\"line\":{\"color\":\"white\"}},\"header\":{\"fill\":{\"color\":\"#C8D4E3\"},\"line\":{\"color\":\"white\"}},\"type\":\"table\"}]},\"layout\":{\"annotationdefaults\":{\"arrowcolor\":\"#2a3f5f\",\"arrowhead\":0,\"arrowwidth\":1},\"autotypenumbers\":\"strict\",\"coloraxis\":{\"colorbar\":{\"outlinewidth\":0,\"ticks\":\"\"}},\"colorscale\":{\"diverging\":[[0,\"#8e0152\"],[0.1,\"#c51b7d\"],[0.2,\"#de77ae\"],[0.3,\"#f1b6da\"],[0.4,\"#fde0ef\"],[0.5,\"#f7f7f7\"],[0.6,\"#e6f5d0\"],[0.7,\"#b8e186\"],[0.8,\"#7fbc41\"],[0.9,\"#4d9221\"],[1,\"#276419\"]],\"sequential\":[[0.0,\"#0d0887\"],[0.1111111111111111,\"#46039f\"],[0.2222222222222222,\"#7201a8\"],[0.3333333333333333,\"#9c179e\"],[0.4444444444444444,\"#bd3786\"],[0.5555555555555556,\"#d8576b\"],[0.6666666666666666,\"#ed7953\"],[0.7777777777777778,\"#fb9f3a\"],[0.8888888888888888,\"#fdca26\"],[1.0,\"#f0f921\"]],\"sequentialminus\":[[0.0,\"#0d0887\"],[0.1111111111111111,\"#46039f\"],[0.2222222222222222,\"#7201a8\"],[0.3333333333333333,\"#9c179e\"],[0.4444444444444444,\"#bd3786\"],[0.5555555555555556,\"#d8576b\"],[0.6666666666666666,\"#ed7953\"],[0.7777777777777778,\"#fb9f3a\"],[0.8888888888888888,\"#fdca26\"],[1.0,\"#f0f921\"]]},\"colorway\":[\"#636efa\",\"#EF553B\",\"#00cc96\",\"#ab63fa\",\"#FFA15A\",\"#19d3f3\",\"#FF6692\",\"#B6E880\",\"#FF97FF\",\"#FECB52\"],\"font\":{\"color\":\"#2a3f5f\"},\"geo\":{\"bgcolor\":\"white\",\"lakecolor\":\"white\",\"landcolor\":\"#E5ECF6\",\"showlakes\":true,\"showland\":true,\"subunitcolor\":\"white\"},\"hoverlabel\":{\"align\":\"left\"},\"hovermode\":\"closest\",\"mapbox\":{\"style\":\"light\"},\"paper_bgcolor\":\"white\",\"plot_bgcolor\":\"#E5ECF6\",\"polar\":{\"angularaxis\":{\"gridcolor\":\"white\",\"linecolor\":\"white\",\"ticks\":\"\"},\"bgcolor\":\"#E5ECF6\",\"radialaxis\":{\"gridcolor\":\"white\",\"linecolor\":\"white\",\"ticks\":\"\"}},\"scene\":{\"xaxis\":{\"backgroundcolor\":\"#E5ECF6\",\"gridcolor\":\"white\",\"gridwidth\":2,\"linecolor\":\"white\",\"showbackground\":true,\"ticks\":\"\",\"zerolinecolor\":\"white\"},\"yaxis\":{\"backgroundcolor\":\"#E5ECF6\",\"gridcolor\":\"white\",\"gridwidth\":2,\"linecolor\":\"white\",\"showbackground\":true,\"ticks\":\"\",\"zerolinecolor\":\"white\"},\"zaxis\":{\"backgroundcolor\":\"#E5ECF6\",\"gridcolor\":\"white\",\"gridwidth\":2,\"linecolor\":\"white\",\"showbackground\":true,\"ticks\":\"\",\"zerolinecolor\":\"white\"}},\"shapedefaults\":{\"line\":{\"color\":\"#2a3f5f\"}},\"ternary\":{\"aaxis\":{\"gridcolor\":\"white\",\"linecolor\":\"white\",\"ticks\":\"\"},\"baxis\":{\"gridcolor\":\"white\",\"linecolor\":\"white\",\"ticks\":\"\"},\"bgcolor\":\"#E5ECF6\",\"caxis\":{\"gridcolor\":\"white\",\"linecolor\":\"white\",\"ticks\":\"\"}},\"title\":{\"x\":0.05},\"xaxis\":{\"automargin\":true,\"gridcolor\":\"white\",\"linecolor\":\"white\",\"ticks\":\"\",\"title\":{\"standoff\":15},\"zerolinecolor\":\"white\",\"zerolinewidth\":2},\"yaxis\":{\"automargin\":true,\"gridcolor\":\"white\",\"linecolor\":\"white\",\"ticks\":\"\",\"title\":{\"standoff\":15},\"zerolinecolor\":\"white\",\"zerolinewidth\":2}}},\"xaxis\":{\"anchor\":\"y\",\"domain\":[0.0,1.0],\"title\":{\"text\":\"MaxPrice\"}},\"yaxis\":{\"anchor\":\"x\",\"domain\":[0.0,1.0]},\"legend\":{\"tracegroupgap\":0},\"title\":{\"text\":\"Range of MaxPrice\"},\"boxmode\":\"group\"},                        {\"responsive\": true}                    ).then(function(){\n",
       "                            \n",
       "var gd = document.getElementById('907c49df-8beb-4ff6-ba0f-16ed3bca3fb0');\n",
       "var x = new MutationObserver(function (mutations, observer) {{\n",
       "        var display = window.getComputedStyle(gd).display;\n",
       "        if (!display || display === 'none') {{\n",
       "            console.log([gd, 'removed!']);\n",
       "            Plotly.purge(gd);\n",
       "            observer.disconnect();\n",
       "        }}\n",
       "}});\n",
       "\n",
       "// Listen for the removal of the full notebook cells\n",
       "var notebookContainer = gd.closest('#notebook-container');\n",
       "if (notebookContainer) {{\n",
       "    x.observe(notebookContainer, {childList: true});\n",
       "}}\n",
       "\n",
       "// Listen for the clearing of the current output cell\n",
       "var outputEl = gd.closest('.output');\n",
       "if (outputEl) {{\n",
       "    x.observe(outputEl, {childList: true});\n",
       "}}\n",
       "\n",
       "                        })                };                });            </script>        </div>"
      ]
     },
     "metadata": {},
     "output_type": "display_data"
    }
   ],
   "source": [
    "fig = px.box(michelin,\n",
    "             x='MaxPrice',\n",
    "             orientation='h',\n",
    "             title='Range of MaxPrice')\n",
    "fig.show()"
   ]
  },
  {
   "cell_type": "markdown",
   "metadata": {},
   "source": [
    "The lowest maximum price is about \\\\$0.5, which is same as the minimum price, a possible interpretation maybe it is a stand that only sell one streetfood. The highest maximum price is about \\\\$1320.7. There are many outliers, too. "
   ]
  },
  {
   "cell_type": "markdown",
   "metadata": {},
   "source": [
    "Let's check the top 10 cuisines. There are 1045 Michelin restaurants are in Mordern Cuisine. Creative Cuisine is the second highest, 438 Michelin restaurants are in Creative cuisine. As expected, the number of Michelin restaurants making Japanese cuisine is as high as 272."
   ]
  },
  {
   "cell_type": "code",
   "execution_count": 93,
   "metadata": {},
   "outputs": [
    {
     "data": {
      "text/html": [
       "<div>\n",
       "<style scoped>\n",
       "    .dataframe tbody tr th:only-of-type {\n",
       "        vertical-align: middle;\n",
       "    }\n",
       "\n",
       "    .dataframe tbody tr th {\n",
       "        vertical-align: top;\n",
       "    }\n",
       "\n",
       "    .dataframe thead th {\n",
       "        text-align: right;\n",
       "    }\n",
       "</style>\n",
       "<table border=\"1\" class=\"dataframe\">\n",
       "  <thead>\n",
       "    <tr style=\"text-align: right;\">\n",
       "      <th></th>\n",
       "      <th>Cuisine</th>\n",
       "      <th>Count</th>\n",
       "    </tr>\n",
       "  </thead>\n",
       "  <tbody>\n",
       "    <tr>\n",
       "      <th>514</th>\n",
       "      <td>Modern Cuisine</td>\n",
       "      <td>1045</td>\n",
       "    </tr>\n",
       "    <tr>\n",
       "      <th>196</th>\n",
       "      <td>Creative</td>\n",
       "      <td>438</td>\n",
       "    </tr>\n",
       "    <tr>\n",
       "      <th>409</th>\n",
       "      <td>Japanese</td>\n",
       "      <td>272</td>\n",
       "    </tr>\n",
       "    <tr>\n",
       "      <th>748</th>\n",
       "      <td>Traditional Cuisine</td>\n",
       "      <td>260</td>\n",
       "    </tr>\n",
       "    <tr>\n",
       "      <th>277</th>\n",
       "      <td>French</td>\n",
       "      <td>169</td>\n",
       "    </tr>\n",
       "    <tr>\n",
       "      <th>722</th>\n",
       "      <td>Street Food</td>\n",
       "      <td>142</td>\n",
       "    </tr>\n",
       "    <tr>\n",
       "      <th>378</th>\n",
       "      <td>Italian</td>\n",
       "      <td>131</td>\n",
       "    </tr>\n",
       "    <tr>\n",
       "      <th>105</th>\n",
       "      <td>Classic Cuisine</td>\n",
       "      <td>108</td>\n",
       "    </tr>\n",
       "    <tr>\n",
       "      <th>621</th>\n",
       "      <td>Regional Cuisine</td>\n",
       "      <td>107</td>\n",
       "    </tr>\n",
       "    <tr>\n",
       "      <th>74</th>\n",
       "      <td>Cantonese</td>\n",
       "      <td>101</td>\n",
       "    </tr>\n",
       "  </tbody>\n",
       "</table>\n",
       "</div>"
      ],
      "text/plain": [
       "                 Cuisine  Count\n",
       "514       Modern Cuisine   1045\n",
       "196             Creative    438\n",
       "409             Japanese    272\n",
       "748  Traditional Cuisine    260\n",
       "277               French    169\n",
       "722          Street Food    142\n",
       "378              Italian    131\n",
       "105      Classic Cuisine    108\n",
       "621     Regional Cuisine    107\n",
       "74             Cantonese    101"
      ]
     },
     "execution_count": 93,
     "metadata": {},
     "output_type": "execute_result"
    }
   ],
   "source": [
    "by_cuisine = michelin.groupby('Cuisine', as_index=False).agg({'Name': 'count'})\n",
    "by_cuisine.rename(columns={'Name': 'Count'}, inplace=True)\n",
    "by_cuisine.sort_values('Count', ascending=False, inplace=True)\n",
    "by_cuisine.head(10)"
   ]
  },
  {
   "cell_type": "code",
   "execution_count": 72,
   "metadata": {},
   "outputs": [
    {
     "data": {
      "application/vnd.plotly.v1+json": {
       "config": {
        "plotlyServerURL": "https://plot.ly"
       },
       "data": [
        {
         "alignmentgroup": "True",
         "hovertemplate": "Cuisine=%{x}<br>Count=%{y}<extra></extra>",
         "legendgroup": "Modern Cuisine",
         "marker": {
          "color": "#636efa",
          "pattern": {
           "shape": ""
          }
         },
         "name": "Modern Cuisine",
         "offsetgroup": "Modern Cuisine",
         "orientation": "v",
         "showlegend": true,
         "textposition": "auto",
         "type": "bar",
         "x": [
          "Modern Cuisine"
         ],
         "xaxis": "x",
         "y": [
          1045
         ],
         "yaxis": "y"
        },
        {
         "alignmentgroup": "True",
         "hovertemplate": "Cuisine=%{x}<br>Count=%{y}<extra></extra>",
         "legendgroup": "Creative",
         "marker": {
          "color": "#EF553B",
          "pattern": {
           "shape": ""
          }
         },
         "name": "Creative",
         "offsetgroup": "Creative",
         "orientation": "v",
         "showlegend": true,
         "textposition": "auto",
         "type": "bar",
         "x": [
          "Creative"
         ],
         "xaxis": "x",
         "y": [
          438
         ],
         "yaxis": "y"
        },
        {
         "alignmentgroup": "True",
         "hovertemplate": "Cuisine=%{x}<br>Count=%{y}<extra></extra>",
         "legendgroup": "Japanese",
         "marker": {
          "color": "#00cc96",
          "pattern": {
           "shape": ""
          }
         },
         "name": "Japanese",
         "offsetgroup": "Japanese",
         "orientation": "v",
         "showlegend": true,
         "textposition": "auto",
         "type": "bar",
         "x": [
          "Japanese"
         ],
         "xaxis": "x",
         "y": [
          272
         ],
         "yaxis": "y"
        },
        {
         "alignmentgroup": "True",
         "hovertemplate": "Cuisine=%{x}<br>Count=%{y}<extra></extra>",
         "legendgroup": "Traditional Cuisine",
         "marker": {
          "color": "#ab63fa",
          "pattern": {
           "shape": ""
          }
         },
         "name": "Traditional Cuisine",
         "offsetgroup": "Traditional Cuisine",
         "orientation": "v",
         "showlegend": true,
         "textposition": "auto",
         "type": "bar",
         "x": [
          "Traditional Cuisine"
         ],
         "xaxis": "x",
         "y": [
          260
         ],
         "yaxis": "y"
        },
        {
         "alignmentgroup": "True",
         "hovertemplate": "Cuisine=%{x}<br>Count=%{y}<extra></extra>",
         "legendgroup": "French",
         "marker": {
          "color": "#FFA15A",
          "pattern": {
           "shape": ""
          }
         },
         "name": "French",
         "offsetgroup": "French",
         "orientation": "v",
         "showlegend": true,
         "textposition": "auto",
         "type": "bar",
         "x": [
          "French"
         ],
         "xaxis": "x",
         "y": [
          169
         ],
         "yaxis": "y"
        },
        {
         "alignmentgroup": "True",
         "hovertemplate": "Cuisine=%{x}<br>Count=%{y}<extra></extra>",
         "legendgroup": "Street Food",
         "marker": {
          "color": "#19d3f3",
          "pattern": {
           "shape": ""
          }
         },
         "name": "Street Food",
         "offsetgroup": "Street Food",
         "orientation": "v",
         "showlegend": true,
         "textposition": "auto",
         "type": "bar",
         "x": [
          "Street Food"
         ],
         "xaxis": "x",
         "y": [
          142
         ],
         "yaxis": "y"
        },
        {
         "alignmentgroup": "True",
         "hovertemplate": "Cuisine=%{x}<br>Count=%{y}<extra></extra>",
         "legendgroup": "Italian",
         "marker": {
          "color": "#FF6692",
          "pattern": {
           "shape": ""
          }
         },
         "name": "Italian",
         "offsetgroup": "Italian",
         "orientation": "v",
         "showlegend": true,
         "textposition": "auto",
         "type": "bar",
         "x": [
          "Italian"
         ],
         "xaxis": "x",
         "y": [
          131
         ],
         "yaxis": "y"
        },
        {
         "alignmentgroup": "True",
         "hovertemplate": "Cuisine=%{x}<br>Count=%{y}<extra></extra>",
         "legendgroup": "Classic Cuisine",
         "marker": {
          "color": "#B6E880",
          "pattern": {
           "shape": ""
          }
         },
         "name": "Classic Cuisine",
         "offsetgroup": "Classic Cuisine",
         "orientation": "v",
         "showlegend": true,
         "textposition": "auto",
         "type": "bar",
         "x": [
          "Classic Cuisine"
         ],
         "xaxis": "x",
         "y": [
          108
         ],
         "yaxis": "y"
        },
        {
         "alignmentgroup": "True",
         "hovertemplate": "Cuisine=%{x}<br>Count=%{y}<extra></extra>",
         "legendgroup": "Regional Cuisine",
         "marker": {
          "color": "#FF97FF",
          "pattern": {
           "shape": ""
          }
         },
         "name": "Regional Cuisine",
         "offsetgroup": "Regional Cuisine",
         "orientation": "v",
         "showlegend": true,
         "textposition": "auto",
         "type": "bar",
         "x": [
          "Regional Cuisine"
         ],
         "xaxis": "x",
         "y": [
          107
         ],
         "yaxis": "y"
        },
        {
         "alignmentgroup": "True",
         "hovertemplate": "Cuisine=%{x}<br>Count=%{y}<extra></extra>",
         "legendgroup": "Cantonese",
         "marker": {
          "color": "#FECB52",
          "pattern": {
           "shape": ""
          }
         },
         "name": "Cantonese",
         "offsetgroup": "Cantonese",
         "orientation": "v",
         "showlegend": true,
         "textposition": "auto",
         "type": "bar",
         "x": [
          "Cantonese"
         ],
         "xaxis": "x",
         "y": [
          101
         ],
         "yaxis": "y"
        }
       ],
       "layout": {
        "barmode": "relative",
        "height": 500,
        "legend": {
         "title": {
          "text": "Cuisine"
         },
         "tracegroupgap": 0
        },
        "template": {
         "data": {
          "bar": [
           {
            "error_x": {
             "color": "#2a3f5f"
            },
            "error_y": {
             "color": "#2a3f5f"
            },
            "marker": {
             "line": {
              "color": "#E5ECF6",
              "width": 0.5
             },
             "pattern": {
              "fillmode": "overlay",
              "size": 10,
              "solidity": 0.2
             }
            },
            "type": "bar"
           }
          ],
          "barpolar": [
           {
            "marker": {
             "line": {
              "color": "#E5ECF6",
              "width": 0.5
             },
             "pattern": {
              "fillmode": "overlay",
              "size": 10,
              "solidity": 0.2
             }
            },
            "type": "barpolar"
           }
          ],
          "carpet": [
           {
            "aaxis": {
             "endlinecolor": "#2a3f5f",
             "gridcolor": "white",
             "linecolor": "white",
             "minorgridcolor": "white",
             "startlinecolor": "#2a3f5f"
            },
            "baxis": {
             "endlinecolor": "#2a3f5f",
             "gridcolor": "white",
             "linecolor": "white",
             "minorgridcolor": "white",
             "startlinecolor": "#2a3f5f"
            },
            "type": "carpet"
           }
          ],
          "choropleth": [
           {
            "colorbar": {
             "outlinewidth": 0,
             "ticks": ""
            },
            "type": "choropleth"
           }
          ],
          "contour": [
           {
            "colorbar": {
             "outlinewidth": 0,
             "ticks": ""
            },
            "colorscale": [
             [
              0,
              "#0d0887"
             ],
             [
              0.1111111111111111,
              "#46039f"
             ],
             [
              0.2222222222222222,
              "#7201a8"
             ],
             [
              0.3333333333333333,
              "#9c179e"
             ],
             [
              0.4444444444444444,
              "#bd3786"
             ],
             [
              0.5555555555555556,
              "#d8576b"
             ],
             [
              0.6666666666666666,
              "#ed7953"
             ],
             [
              0.7777777777777778,
              "#fb9f3a"
             ],
             [
              0.8888888888888888,
              "#fdca26"
             ],
             [
              1,
              "#f0f921"
             ]
            ],
            "type": "contour"
           }
          ],
          "contourcarpet": [
           {
            "colorbar": {
             "outlinewidth": 0,
             "ticks": ""
            },
            "type": "contourcarpet"
           }
          ],
          "heatmap": [
           {
            "colorbar": {
             "outlinewidth": 0,
             "ticks": ""
            },
            "colorscale": [
             [
              0,
              "#0d0887"
             ],
             [
              0.1111111111111111,
              "#46039f"
             ],
             [
              0.2222222222222222,
              "#7201a8"
             ],
             [
              0.3333333333333333,
              "#9c179e"
             ],
             [
              0.4444444444444444,
              "#bd3786"
             ],
             [
              0.5555555555555556,
              "#d8576b"
             ],
             [
              0.6666666666666666,
              "#ed7953"
             ],
             [
              0.7777777777777778,
              "#fb9f3a"
             ],
             [
              0.8888888888888888,
              "#fdca26"
             ],
             [
              1,
              "#f0f921"
             ]
            ],
            "type": "heatmap"
           }
          ],
          "heatmapgl": [
           {
            "colorbar": {
             "outlinewidth": 0,
             "ticks": ""
            },
            "colorscale": [
             [
              0,
              "#0d0887"
             ],
             [
              0.1111111111111111,
              "#46039f"
             ],
             [
              0.2222222222222222,
              "#7201a8"
             ],
             [
              0.3333333333333333,
              "#9c179e"
             ],
             [
              0.4444444444444444,
              "#bd3786"
             ],
             [
              0.5555555555555556,
              "#d8576b"
             ],
             [
              0.6666666666666666,
              "#ed7953"
             ],
             [
              0.7777777777777778,
              "#fb9f3a"
             ],
             [
              0.8888888888888888,
              "#fdca26"
             ],
             [
              1,
              "#f0f921"
             ]
            ],
            "type": "heatmapgl"
           }
          ],
          "histogram": [
           {
            "marker": {
             "pattern": {
              "fillmode": "overlay",
              "size": 10,
              "solidity": 0.2
             }
            },
            "type": "histogram"
           }
          ],
          "histogram2d": [
           {
            "colorbar": {
             "outlinewidth": 0,
             "ticks": ""
            },
            "colorscale": [
             [
              0,
              "#0d0887"
             ],
             [
              0.1111111111111111,
              "#46039f"
             ],
             [
              0.2222222222222222,
              "#7201a8"
             ],
             [
              0.3333333333333333,
              "#9c179e"
             ],
             [
              0.4444444444444444,
              "#bd3786"
             ],
             [
              0.5555555555555556,
              "#d8576b"
             ],
             [
              0.6666666666666666,
              "#ed7953"
             ],
             [
              0.7777777777777778,
              "#fb9f3a"
             ],
             [
              0.8888888888888888,
              "#fdca26"
             ],
             [
              1,
              "#f0f921"
             ]
            ],
            "type": "histogram2d"
           }
          ],
          "histogram2dcontour": [
           {
            "colorbar": {
             "outlinewidth": 0,
             "ticks": ""
            },
            "colorscale": [
             [
              0,
              "#0d0887"
             ],
             [
              0.1111111111111111,
              "#46039f"
             ],
             [
              0.2222222222222222,
              "#7201a8"
             ],
             [
              0.3333333333333333,
              "#9c179e"
             ],
             [
              0.4444444444444444,
              "#bd3786"
             ],
             [
              0.5555555555555556,
              "#d8576b"
             ],
             [
              0.6666666666666666,
              "#ed7953"
             ],
             [
              0.7777777777777778,
              "#fb9f3a"
             ],
             [
              0.8888888888888888,
              "#fdca26"
             ],
             [
              1,
              "#f0f921"
             ]
            ],
            "type": "histogram2dcontour"
           }
          ],
          "mesh3d": [
           {
            "colorbar": {
             "outlinewidth": 0,
             "ticks": ""
            },
            "type": "mesh3d"
           }
          ],
          "parcoords": [
           {
            "line": {
             "colorbar": {
              "outlinewidth": 0,
              "ticks": ""
             }
            },
            "type": "parcoords"
           }
          ],
          "pie": [
           {
            "automargin": true,
            "type": "pie"
           }
          ],
          "scatter": [
           {
            "marker": {
             "colorbar": {
              "outlinewidth": 0,
              "ticks": ""
             }
            },
            "type": "scatter"
           }
          ],
          "scatter3d": [
           {
            "line": {
             "colorbar": {
              "outlinewidth": 0,
              "ticks": ""
             }
            },
            "marker": {
             "colorbar": {
              "outlinewidth": 0,
              "ticks": ""
             }
            },
            "type": "scatter3d"
           }
          ],
          "scattercarpet": [
           {
            "marker": {
             "colorbar": {
              "outlinewidth": 0,
              "ticks": ""
             }
            },
            "type": "scattercarpet"
           }
          ],
          "scattergeo": [
           {
            "marker": {
             "colorbar": {
              "outlinewidth": 0,
              "ticks": ""
             }
            },
            "type": "scattergeo"
           }
          ],
          "scattergl": [
           {
            "marker": {
             "colorbar": {
              "outlinewidth": 0,
              "ticks": ""
             }
            },
            "type": "scattergl"
           }
          ],
          "scattermapbox": [
           {
            "marker": {
             "colorbar": {
              "outlinewidth": 0,
              "ticks": ""
             }
            },
            "type": "scattermapbox"
           }
          ],
          "scatterpolar": [
           {
            "marker": {
             "colorbar": {
              "outlinewidth": 0,
              "ticks": ""
             }
            },
            "type": "scatterpolar"
           }
          ],
          "scatterpolargl": [
           {
            "marker": {
             "colorbar": {
              "outlinewidth": 0,
              "ticks": ""
             }
            },
            "type": "scatterpolargl"
           }
          ],
          "scatterternary": [
           {
            "marker": {
             "colorbar": {
              "outlinewidth": 0,
              "ticks": ""
             }
            },
            "type": "scatterternary"
           }
          ],
          "surface": [
           {
            "colorbar": {
             "outlinewidth": 0,
             "ticks": ""
            },
            "colorscale": [
             [
              0,
              "#0d0887"
             ],
             [
              0.1111111111111111,
              "#46039f"
             ],
             [
              0.2222222222222222,
              "#7201a8"
             ],
             [
              0.3333333333333333,
              "#9c179e"
             ],
             [
              0.4444444444444444,
              "#bd3786"
             ],
             [
              0.5555555555555556,
              "#d8576b"
             ],
             [
              0.6666666666666666,
              "#ed7953"
             ],
             [
              0.7777777777777778,
              "#fb9f3a"
             ],
             [
              0.8888888888888888,
              "#fdca26"
             ],
             [
              1,
              "#f0f921"
             ]
            ],
            "type": "surface"
           }
          ],
          "table": [
           {
            "cells": {
             "fill": {
              "color": "#EBF0F8"
             },
             "line": {
              "color": "white"
             }
            },
            "header": {
             "fill": {
              "color": "#C8D4E3"
             },
             "line": {
              "color": "white"
             }
            },
            "type": "table"
           }
          ]
         },
         "layout": {
          "annotationdefaults": {
           "arrowcolor": "#2a3f5f",
           "arrowhead": 0,
           "arrowwidth": 1
          },
          "autotypenumbers": "strict",
          "coloraxis": {
           "colorbar": {
            "outlinewidth": 0,
            "ticks": ""
           }
          },
          "colorscale": {
           "diverging": [
            [
             0,
             "#8e0152"
            ],
            [
             0.1,
             "#c51b7d"
            ],
            [
             0.2,
             "#de77ae"
            ],
            [
             0.3,
             "#f1b6da"
            ],
            [
             0.4,
             "#fde0ef"
            ],
            [
             0.5,
             "#f7f7f7"
            ],
            [
             0.6,
             "#e6f5d0"
            ],
            [
             0.7,
             "#b8e186"
            ],
            [
             0.8,
             "#7fbc41"
            ],
            [
             0.9,
             "#4d9221"
            ],
            [
             1,
             "#276419"
            ]
           ],
           "sequential": [
            [
             0,
             "#0d0887"
            ],
            [
             0.1111111111111111,
             "#46039f"
            ],
            [
             0.2222222222222222,
             "#7201a8"
            ],
            [
             0.3333333333333333,
             "#9c179e"
            ],
            [
             0.4444444444444444,
             "#bd3786"
            ],
            [
             0.5555555555555556,
             "#d8576b"
            ],
            [
             0.6666666666666666,
             "#ed7953"
            ],
            [
             0.7777777777777778,
             "#fb9f3a"
            ],
            [
             0.8888888888888888,
             "#fdca26"
            ],
            [
             1,
             "#f0f921"
            ]
           ],
           "sequentialminus": [
            [
             0,
             "#0d0887"
            ],
            [
             0.1111111111111111,
             "#46039f"
            ],
            [
             0.2222222222222222,
             "#7201a8"
            ],
            [
             0.3333333333333333,
             "#9c179e"
            ],
            [
             0.4444444444444444,
             "#bd3786"
            ],
            [
             0.5555555555555556,
             "#d8576b"
            ],
            [
             0.6666666666666666,
             "#ed7953"
            ],
            [
             0.7777777777777778,
             "#fb9f3a"
            ],
            [
             0.8888888888888888,
             "#fdca26"
            ],
            [
             1,
             "#f0f921"
            ]
           ]
          },
          "colorway": [
           "#636efa",
           "#EF553B",
           "#00cc96",
           "#ab63fa",
           "#FFA15A",
           "#19d3f3",
           "#FF6692",
           "#B6E880",
           "#FF97FF",
           "#FECB52"
          ],
          "font": {
           "color": "#2a3f5f"
          },
          "geo": {
           "bgcolor": "white",
           "lakecolor": "white",
           "landcolor": "#E5ECF6",
           "showlakes": true,
           "showland": true,
           "subunitcolor": "white"
          },
          "hoverlabel": {
           "align": "left"
          },
          "hovermode": "closest",
          "mapbox": {
           "style": "light"
          },
          "paper_bgcolor": "white",
          "plot_bgcolor": "#E5ECF6",
          "polar": {
           "angularaxis": {
            "gridcolor": "white",
            "linecolor": "white",
            "ticks": ""
           },
           "bgcolor": "#E5ECF6",
           "radialaxis": {
            "gridcolor": "white",
            "linecolor": "white",
            "ticks": ""
           }
          },
          "scene": {
           "xaxis": {
            "backgroundcolor": "#E5ECF6",
            "gridcolor": "white",
            "gridwidth": 2,
            "linecolor": "white",
            "showbackground": true,
            "ticks": "",
            "zerolinecolor": "white"
           },
           "yaxis": {
            "backgroundcolor": "#E5ECF6",
            "gridcolor": "white",
            "gridwidth": 2,
            "linecolor": "white",
            "showbackground": true,
            "ticks": "",
            "zerolinecolor": "white"
           },
           "zaxis": {
            "backgroundcolor": "#E5ECF6",
            "gridcolor": "white",
            "gridwidth": 2,
            "linecolor": "white",
            "showbackground": true,
            "ticks": "",
            "zerolinecolor": "white"
           }
          },
          "shapedefaults": {
           "line": {
            "color": "#2a3f5f"
           }
          },
          "ternary": {
           "aaxis": {
            "gridcolor": "white",
            "linecolor": "white",
            "ticks": ""
           },
           "baxis": {
            "gridcolor": "white",
            "linecolor": "white",
            "ticks": ""
           },
           "bgcolor": "#E5ECF6",
           "caxis": {
            "gridcolor": "white",
            "linecolor": "white",
            "ticks": ""
           }
          },
          "title": {
           "x": 0.05
          },
          "xaxis": {
           "automargin": true,
           "gridcolor": "white",
           "linecolor": "white",
           "ticks": "",
           "title": {
            "standoff": 15
           },
           "zerolinecolor": "white",
           "zerolinewidth": 2
          },
          "yaxis": {
           "automargin": true,
           "gridcolor": "white",
           "linecolor": "white",
           "ticks": "",
           "title": {
            "standoff": 15
           },
           "zerolinecolor": "white",
           "zerolinewidth": 2
          }
         }
        },
        "title": {
         "text": "Top 10 cuisines with the highest number of Michelin restaurants"
        },
        "width": 800,
        "xaxis": {
         "anchor": "y",
         "categoryarray": [
          "Modern Cuisine",
          "Creative",
          "Japanese",
          "Traditional Cuisine",
          "French",
          "Street Food",
          "Italian",
          "Classic Cuisine",
          "Regional Cuisine",
          "Cantonese"
         ],
         "categoryorder": "array",
         "domain": [
          0,
          1
         ],
         "title": {
          "text": "Cuisine"
         }
        },
        "yaxis": {
         "anchor": "x",
         "domain": [
          0,
          1
         ],
         "title": {
          "text": "Count"
         }
        }
       }
      },
      "text/html": [
       "<div>                            <div id=\"97e19e0d-bc19-4bac-a08a-3b92de009e90\" class=\"plotly-graph-div\" style=\"height:500px; width:800px;\"></div>            <script type=\"text/javascript\">                require([\"plotly\"], function(Plotly) {                    window.PLOTLYENV=window.PLOTLYENV || {};                                    if (document.getElementById(\"97e19e0d-bc19-4bac-a08a-3b92de009e90\")) {                    Plotly.newPlot(                        \"97e19e0d-bc19-4bac-a08a-3b92de009e90\",                        [{\"alignmentgroup\":\"True\",\"hovertemplate\":\"Cuisine=%{x}<br>Count=%{y}<extra></extra>\",\"legendgroup\":\"Modern Cuisine\",\"marker\":{\"color\":\"#636efa\",\"pattern\":{\"shape\":\"\"}},\"name\":\"Modern Cuisine\",\"offsetgroup\":\"Modern Cuisine\",\"orientation\":\"v\",\"showlegend\":true,\"textposition\":\"auto\",\"x\":[\"Modern Cuisine\"],\"xaxis\":\"x\",\"y\":[1045],\"yaxis\":\"y\",\"type\":\"bar\"},{\"alignmentgroup\":\"True\",\"hovertemplate\":\"Cuisine=%{x}<br>Count=%{y}<extra></extra>\",\"legendgroup\":\"Creative\",\"marker\":{\"color\":\"#EF553B\",\"pattern\":{\"shape\":\"\"}},\"name\":\"Creative\",\"offsetgroup\":\"Creative\",\"orientation\":\"v\",\"showlegend\":true,\"textposition\":\"auto\",\"x\":[\"Creative\"],\"xaxis\":\"x\",\"y\":[438],\"yaxis\":\"y\",\"type\":\"bar\"},{\"alignmentgroup\":\"True\",\"hovertemplate\":\"Cuisine=%{x}<br>Count=%{y}<extra></extra>\",\"legendgroup\":\"Japanese\",\"marker\":{\"color\":\"#00cc96\",\"pattern\":{\"shape\":\"\"}},\"name\":\"Japanese\",\"offsetgroup\":\"Japanese\",\"orientation\":\"v\",\"showlegend\":true,\"textposition\":\"auto\",\"x\":[\"Japanese\"],\"xaxis\":\"x\",\"y\":[272],\"yaxis\":\"y\",\"type\":\"bar\"},{\"alignmentgroup\":\"True\",\"hovertemplate\":\"Cuisine=%{x}<br>Count=%{y}<extra></extra>\",\"legendgroup\":\"Traditional Cuisine\",\"marker\":{\"color\":\"#ab63fa\",\"pattern\":{\"shape\":\"\"}},\"name\":\"Traditional Cuisine\",\"offsetgroup\":\"Traditional Cuisine\",\"orientation\":\"v\",\"showlegend\":true,\"textposition\":\"auto\",\"x\":[\"Traditional Cuisine\"],\"xaxis\":\"x\",\"y\":[260],\"yaxis\":\"y\",\"type\":\"bar\"},{\"alignmentgroup\":\"True\",\"hovertemplate\":\"Cuisine=%{x}<br>Count=%{y}<extra></extra>\",\"legendgroup\":\"French\",\"marker\":{\"color\":\"#FFA15A\",\"pattern\":{\"shape\":\"\"}},\"name\":\"French\",\"offsetgroup\":\"French\",\"orientation\":\"v\",\"showlegend\":true,\"textposition\":\"auto\",\"x\":[\"French\"],\"xaxis\":\"x\",\"y\":[169],\"yaxis\":\"y\",\"type\":\"bar\"},{\"alignmentgroup\":\"True\",\"hovertemplate\":\"Cuisine=%{x}<br>Count=%{y}<extra></extra>\",\"legendgroup\":\"Street Food\",\"marker\":{\"color\":\"#19d3f3\",\"pattern\":{\"shape\":\"\"}},\"name\":\"Street Food\",\"offsetgroup\":\"Street Food\",\"orientation\":\"v\",\"showlegend\":true,\"textposition\":\"auto\",\"x\":[\"Street Food\"],\"xaxis\":\"x\",\"y\":[142],\"yaxis\":\"y\",\"type\":\"bar\"},{\"alignmentgroup\":\"True\",\"hovertemplate\":\"Cuisine=%{x}<br>Count=%{y}<extra></extra>\",\"legendgroup\":\"Italian\",\"marker\":{\"color\":\"#FF6692\",\"pattern\":{\"shape\":\"\"}},\"name\":\"Italian\",\"offsetgroup\":\"Italian\",\"orientation\":\"v\",\"showlegend\":true,\"textposition\":\"auto\",\"x\":[\"Italian\"],\"xaxis\":\"x\",\"y\":[131],\"yaxis\":\"y\",\"type\":\"bar\"},{\"alignmentgroup\":\"True\",\"hovertemplate\":\"Cuisine=%{x}<br>Count=%{y}<extra></extra>\",\"legendgroup\":\"Classic Cuisine\",\"marker\":{\"color\":\"#B6E880\",\"pattern\":{\"shape\":\"\"}},\"name\":\"Classic Cuisine\",\"offsetgroup\":\"Classic Cuisine\",\"orientation\":\"v\",\"showlegend\":true,\"textposition\":\"auto\",\"x\":[\"Classic Cuisine\"],\"xaxis\":\"x\",\"y\":[108],\"yaxis\":\"y\",\"type\":\"bar\"},{\"alignmentgroup\":\"True\",\"hovertemplate\":\"Cuisine=%{x}<br>Count=%{y}<extra></extra>\",\"legendgroup\":\"Regional Cuisine\",\"marker\":{\"color\":\"#FF97FF\",\"pattern\":{\"shape\":\"\"}},\"name\":\"Regional Cuisine\",\"offsetgroup\":\"Regional Cuisine\",\"orientation\":\"v\",\"showlegend\":true,\"textposition\":\"auto\",\"x\":[\"Regional Cuisine\"],\"xaxis\":\"x\",\"y\":[107],\"yaxis\":\"y\",\"type\":\"bar\"},{\"alignmentgroup\":\"True\",\"hovertemplate\":\"Cuisine=%{x}<br>Count=%{y}<extra></extra>\",\"legendgroup\":\"Cantonese\",\"marker\":{\"color\":\"#FECB52\",\"pattern\":{\"shape\":\"\"}},\"name\":\"Cantonese\",\"offsetgroup\":\"Cantonese\",\"orientation\":\"v\",\"showlegend\":true,\"textposition\":\"auto\",\"x\":[\"Cantonese\"],\"xaxis\":\"x\",\"y\":[101],\"yaxis\":\"y\",\"type\":\"bar\"}],                        {\"template\":{\"data\":{\"bar\":[{\"error_x\":{\"color\":\"#2a3f5f\"},\"error_y\":{\"color\":\"#2a3f5f\"},\"marker\":{\"line\":{\"color\":\"#E5ECF6\",\"width\":0.5},\"pattern\":{\"fillmode\":\"overlay\",\"size\":10,\"solidity\":0.2}},\"type\":\"bar\"}],\"barpolar\":[{\"marker\":{\"line\":{\"color\":\"#E5ECF6\",\"width\":0.5},\"pattern\":{\"fillmode\":\"overlay\",\"size\":10,\"solidity\":0.2}},\"type\":\"barpolar\"}],\"carpet\":[{\"aaxis\":{\"endlinecolor\":\"#2a3f5f\",\"gridcolor\":\"white\",\"linecolor\":\"white\",\"minorgridcolor\":\"white\",\"startlinecolor\":\"#2a3f5f\"},\"baxis\":{\"endlinecolor\":\"#2a3f5f\",\"gridcolor\":\"white\",\"linecolor\":\"white\",\"minorgridcolor\":\"white\",\"startlinecolor\":\"#2a3f5f\"},\"type\":\"carpet\"}],\"choropleth\":[{\"colorbar\":{\"outlinewidth\":0,\"ticks\":\"\"},\"type\":\"choropleth\"}],\"contour\":[{\"colorbar\":{\"outlinewidth\":0,\"ticks\":\"\"},\"colorscale\":[[0.0,\"#0d0887\"],[0.1111111111111111,\"#46039f\"],[0.2222222222222222,\"#7201a8\"],[0.3333333333333333,\"#9c179e\"],[0.4444444444444444,\"#bd3786\"],[0.5555555555555556,\"#d8576b\"],[0.6666666666666666,\"#ed7953\"],[0.7777777777777778,\"#fb9f3a\"],[0.8888888888888888,\"#fdca26\"],[1.0,\"#f0f921\"]],\"type\":\"contour\"}],\"contourcarpet\":[{\"colorbar\":{\"outlinewidth\":0,\"ticks\":\"\"},\"type\":\"contourcarpet\"}],\"heatmap\":[{\"colorbar\":{\"outlinewidth\":0,\"ticks\":\"\"},\"colorscale\":[[0.0,\"#0d0887\"],[0.1111111111111111,\"#46039f\"],[0.2222222222222222,\"#7201a8\"],[0.3333333333333333,\"#9c179e\"],[0.4444444444444444,\"#bd3786\"],[0.5555555555555556,\"#d8576b\"],[0.6666666666666666,\"#ed7953\"],[0.7777777777777778,\"#fb9f3a\"],[0.8888888888888888,\"#fdca26\"],[1.0,\"#f0f921\"]],\"type\":\"heatmap\"}],\"heatmapgl\":[{\"colorbar\":{\"outlinewidth\":0,\"ticks\":\"\"},\"colorscale\":[[0.0,\"#0d0887\"],[0.1111111111111111,\"#46039f\"],[0.2222222222222222,\"#7201a8\"],[0.3333333333333333,\"#9c179e\"],[0.4444444444444444,\"#bd3786\"],[0.5555555555555556,\"#d8576b\"],[0.6666666666666666,\"#ed7953\"],[0.7777777777777778,\"#fb9f3a\"],[0.8888888888888888,\"#fdca26\"],[1.0,\"#f0f921\"]],\"type\":\"heatmapgl\"}],\"histogram\":[{\"marker\":{\"pattern\":{\"fillmode\":\"overlay\",\"size\":10,\"solidity\":0.2}},\"type\":\"histogram\"}],\"histogram2d\":[{\"colorbar\":{\"outlinewidth\":0,\"ticks\":\"\"},\"colorscale\":[[0.0,\"#0d0887\"],[0.1111111111111111,\"#46039f\"],[0.2222222222222222,\"#7201a8\"],[0.3333333333333333,\"#9c179e\"],[0.4444444444444444,\"#bd3786\"],[0.5555555555555556,\"#d8576b\"],[0.6666666666666666,\"#ed7953\"],[0.7777777777777778,\"#fb9f3a\"],[0.8888888888888888,\"#fdca26\"],[1.0,\"#f0f921\"]],\"type\":\"histogram2d\"}],\"histogram2dcontour\":[{\"colorbar\":{\"outlinewidth\":0,\"ticks\":\"\"},\"colorscale\":[[0.0,\"#0d0887\"],[0.1111111111111111,\"#46039f\"],[0.2222222222222222,\"#7201a8\"],[0.3333333333333333,\"#9c179e\"],[0.4444444444444444,\"#bd3786\"],[0.5555555555555556,\"#d8576b\"],[0.6666666666666666,\"#ed7953\"],[0.7777777777777778,\"#fb9f3a\"],[0.8888888888888888,\"#fdca26\"],[1.0,\"#f0f921\"]],\"type\":\"histogram2dcontour\"}],\"mesh3d\":[{\"colorbar\":{\"outlinewidth\":0,\"ticks\":\"\"},\"type\":\"mesh3d\"}],\"parcoords\":[{\"line\":{\"colorbar\":{\"outlinewidth\":0,\"ticks\":\"\"}},\"type\":\"parcoords\"}],\"pie\":[{\"automargin\":true,\"type\":\"pie\"}],\"scatter\":[{\"marker\":{\"colorbar\":{\"outlinewidth\":0,\"ticks\":\"\"}},\"type\":\"scatter\"}],\"scatter3d\":[{\"line\":{\"colorbar\":{\"outlinewidth\":0,\"ticks\":\"\"}},\"marker\":{\"colorbar\":{\"outlinewidth\":0,\"ticks\":\"\"}},\"type\":\"scatter3d\"}],\"scattercarpet\":[{\"marker\":{\"colorbar\":{\"outlinewidth\":0,\"ticks\":\"\"}},\"type\":\"scattercarpet\"}],\"scattergeo\":[{\"marker\":{\"colorbar\":{\"outlinewidth\":0,\"ticks\":\"\"}},\"type\":\"scattergeo\"}],\"scattergl\":[{\"marker\":{\"colorbar\":{\"outlinewidth\":0,\"ticks\":\"\"}},\"type\":\"scattergl\"}],\"scattermapbox\":[{\"marker\":{\"colorbar\":{\"outlinewidth\":0,\"ticks\":\"\"}},\"type\":\"scattermapbox\"}],\"scatterpolar\":[{\"marker\":{\"colorbar\":{\"outlinewidth\":0,\"ticks\":\"\"}},\"type\":\"scatterpolar\"}],\"scatterpolargl\":[{\"marker\":{\"colorbar\":{\"outlinewidth\":0,\"ticks\":\"\"}},\"type\":\"scatterpolargl\"}],\"scatterternary\":[{\"marker\":{\"colorbar\":{\"outlinewidth\":0,\"ticks\":\"\"}},\"type\":\"scatterternary\"}],\"surface\":[{\"colorbar\":{\"outlinewidth\":0,\"ticks\":\"\"},\"colorscale\":[[0.0,\"#0d0887\"],[0.1111111111111111,\"#46039f\"],[0.2222222222222222,\"#7201a8\"],[0.3333333333333333,\"#9c179e\"],[0.4444444444444444,\"#bd3786\"],[0.5555555555555556,\"#d8576b\"],[0.6666666666666666,\"#ed7953\"],[0.7777777777777778,\"#fb9f3a\"],[0.8888888888888888,\"#fdca26\"],[1.0,\"#f0f921\"]],\"type\":\"surface\"}],\"table\":[{\"cells\":{\"fill\":{\"color\":\"#EBF0F8\"},\"line\":{\"color\":\"white\"}},\"header\":{\"fill\":{\"color\":\"#C8D4E3\"},\"line\":{\"color\":\"white\"}},\"type\":\"table\"}]},\"layout\":{\"annotationdefaults\":{\"arrowcolor\":\"#2a3f5f\",\"arrowhead\":0,\"arrowwidth\":1},\"autotypenumbers\":\"strict\",\"coloraxis\":{\"colorbar\":{\"outlinewidth\":0,\"ticks\":\"\"}},\"colorscale\":{\"diverging\":[[0,\"#8e0152\"],[0.1,\"#c51b7d\"],[0.2,\"#de77ae\"],[0.3,\"#f1b6da\"],[0.4,\"#fde0ef\"],[0.5,\"#f7f7f7\"],[0.6,\"#e6f5d0\"],[0.7,\"#b8e186\"],[0.8,\"#7fbc41\"],[0.9,\"#4d9221\"],[1,\"#276419\"]],\"sequential\":[[0.0,\"#0d0887\"],[0.1111111111111111,\"#46039f\"],[0.2222222222222222,\"#7201a8\"],[0.3333333333333333,\"#9c179e\"],[0.4444444444444444,\"#bd3786\"],[0.5555555555555556,\"#d8576b\"],[0.6666666666666666,\"#ed7953\"],[0.7777777777777778,\"#fb9f3a\"],[0.8888888888888888,\"#fdca26\"],[1.0,\"#f0f921\"]],\"sequentialminus\":[[0.0,\"#0d0887\"],[0.1111111111111111,\"#46039f\"],[0.2222222222222222,\"#7201a8\"],[0.3333333333333333,\"#9c179e\"],[0.4444444444444444,\"#bd3786\"],[0.5555555555555556,\"#d8576b\"],[0.6666666666666666,\"#ed7953\"],[0.7777777777777778,\"#fb9f3a\"],[0.8888888888888888,\"#fdca26\"],[1.0,\"#f0f921\"]]},\"colorway\":[\"#636efa\",\"#EF553B\",\"#00cc96\",\"#ab63fa\",\"#FFA15A\",\"#19d3f3\",\"#FF6692\",\"#B6E880\",\"#FF97FF\",\"#FECB52\"],\"font\":{\"color\":\"#2a3f5f\"},\"geo\":{\"bgcolor\":\"white\",\"lakecolor\":\"white\",\"landcolor\":\"#E5ECF6\",\"showlakes\":true,\"showland\":true,\"subunitcolor\":\"white\"},\"hoverlabel\":{\"align\":\"left\"},\"hovermode\":\"closest\",\"mapbox\":{\"style\":\"light\"},\"paper_bgcolor\":\"white\",\"plot_bgcolor\":\"#E5ECF6\",\"polar\":{\"angularaxis\":{\"gridcolor\":\"white\",\"linecolor\":\"white\",\"ticks\":\"\"},\"bgcolor\":\"#E5ECF6\",\"radialaxis\":{\"gridcolor\":\"white\",\"linecolor\":\"white\",\"ticks\":\"\"}},\"scene\":{\"xaxis\":{\"backgroundcolor\":\"#E5ECF6\",\"gridcolor\":\"white\",\"gridwidth\":2,\"linecolor\":\"white\",\"showbackground\":true,\"ticks\":\"\",\"zerolinecolor\":\"white\"},\"yaxis\":{\"backgroundcolor\":\"#E5ECF6\",\"gridcolor\":\"white\",\"gridwidth\":2,\"linecolor\":\"white\",\"showbackground\":true,\"ticks\":\"\",\"zerolinecolor\":\"white\"},\"zaxis\":{\"backgroundcolor\":\"#E5ECF6\",\"gridcolor\":\"white\",\"gridwidth\":2,\"linecolor\":\"white\",\"showbackground\":true,\"ticks\":\"\",\"zerolinecolor\":\"white\"}},\"shapedefaults\":{\"line\":{\"color\":\"#2a3f5f\"}},\"ternary\":{\"aaxis\":{\"gridcolor\":\"white\",\"linecolor\":\"white\",\"ticks\":\"\"},\"baxis\":{\"gridcolor\":\"white\",\"linecolor\":\"white\",\"ticks\":\"\"},\"bgcolor\":\"#E5ECF6\",\"caxis\":{\"gridcolor\":\"white\",\"linecolor\":\"white\",\"ticks\":\"\"}},\"title\":{\"x\":0.05},\"xaxis\":{\"automargin\":true,\"gridcolor\":\"white\",\"linecolor\":\"white\",\"ticks\":\"\",\"title\":{\"standoff\":15},\"zerolinecolor\":\"white\",\"zerolinewidth\":2},\"yaxis\":{\"automargin\":true,\"gridcolor\":\"white\",\"linecolor\":\"white\",\"ticks\":\"\",\"title\":{\"standoff\":15},\"zerolinecolor\":\"white\",\"zerolinewidth\":2}}},\"xaxis\":{\"anchor\":\"y\",\"domain\":[0.0,1.0],\"title\":{\"text\":\"Cuisine\"},\"categoryorder\":\"array\",\"categoryarray\":[\"Modern Cuisine\",\"Creative\",\"Japanese\",\"Traditional Cuisine\",\"French\",\"Street Food\",\"Italian\",\"Classic Cuisine\",\"Regional Cuisine\",\"Cantonese\"]},\"yaxis\":{\"anchor\":\"x\",\"domain\":[0.0,1.0],\"title\":{\"text\":\"Count\"}},\"legend\":{\"title\":{\"text\":\"Cuisine\"},\"tracegroupgap\":0},\"title\":{\"text\":\"Top 10 cuisines with the highest number of Michelin restaurants\"},\"barmode\":\"relative\",\"height\":500,\"width\":800},                        {\"responsive\": true}                    ).then(function(){\n",
       "                            \n",
       "var gd = document.getElementById('97e19e0d-bc19-4bac-a08a-3b92de009e90');\n",
       "var x = new MutationObserver(function (mutations, observer) {{\n",
       "        var display = window.getComputedStyle(gd).display;\n",
       "        if (!display || display === 'none') {{\n",
       "            console.log([gd, 'removed!']);\n",
       "            Plotly.purge(gd);\n",
       "            observer.disconnect();\n",
       "        }}\n",
       "}});\n",
       "\n",
       "// Listen for the removal of the full notebook cells\n",
       "var notebookContainer = gd.closest('#notebook-container');\n",
       "if (notebookContainer) {{\n",
       "    x.observe(notebookContainer, {childList: true});\n",
       "}}\n",
       "\n",
       "// Listen for the clearing of the current output cell\n",
       "var outputEl = gd.closest('.output');\n",
       "if (outputEl) {{\n",
       "    x.observe(outputEl, {childList: true});\n",
       "}}\n",
       "\n",
       "                        })                };                });            </script>        </div>"
      ]
     },
     "metadata": {},
     "output_type": "display_data"
    }
   ],
   "source": [
    "fig = px.bar(by_cuisine[0:10], \n",
    "             x=\"Cuisine\", \n",
    "             y=\"Count\", \n",
    "             title=\"Top 10 cuisines with the highest number of Michelin restaurants\",\n",
    "             color=\"Cuisine\", \n",
    "             width=800,height=500)\n",
    "fig.show()"
   ]
  },
  {
   "cell_type": "markdown",
   "metadata": {},
   "source": [
    "Then, let's check top 10 cities with Michelin restaurants. If you are a gourmet, the cities below are the recommend place for you to travel. "
   ]
  },
  {
   "cell_type": "code",
   "execution_count": 94,
   "metadata": {},
   "outputs": [
    {
     "data": {
      "text/html": [
       "<div>\n",
       "<style scoped>\n",
       "    .dataframe tbody tr th:only-of-type {\n",
       "        vertical-align: middle;\n",
       "    }\n",
       "\n",
       "    .dataframe tbody tr th {\n",
       "        vertical-align: top;\n",
       "    }\n",
       "\n",
       "    .dataframe thead th {\n",
       "        text-align: right;\n",
       "    }\n",
       "</style>\n",
       "<table border=\"1\" class=\"dataframe\">\n",
       "  <thead>\n",
       "    <tr style=\"text-align: right;\">\n",
       "      <th></th>\n",
       "      <th>Location</th>\n",
       "      <th>Count</th>\n",
       "    </tr>\n",
       "  </thead>\n",
       "  <tbody>\n",
       "    <tr>\n",
       "      <th>2403</th>\n",
       "      <td>Tokyo</td>\n",
       "      <td>430</td>\n",
       "    </tr>\n",
       "    <tr>\n",
       "      <th>1165</th>\n",
       "      <td>Kyoto</td>\n",
       "      <td>207</td>\n",
       "    </tr>\n",
       "    <tr>\n",
       "      <th>1714</th>\n",
       "      <td>Osaka</td>\n",
       "      <td>206</td>\n",
       "    </tr>\n",
       "    <tr>\n",
       "      <th>1623</th>\n",
       "      <td>New York</td>\n",
       "      <td>180</td>\n",
       "    </tr>\n",
       "    <tr>\n",
       "      <th>1760</th>\n",
       "      <td>Paris</td>\n",
       "      <td>159</td>\n",
       "    </tr>\n",
       "    <tr>\n",
       "      <th>1049</th>\n",
       "      <td>Hong Kong</td>\n",
       "      <td>135</td>\n",
       "    </tr>\n",
       "    <tr>\n",
       "      <th>2256</th>\n",
       "      <td>Singapore</td>\n",
       "      <td>118</td>\n",
       "    </tr>\n",
       "    <tr>\n",
       "      <th>1351</th>\n",
       "      <td>London</td>\n",
       "      <td>106</td>\n",
       "    </tr>\n",
       "    <tr>\n",
       "      <th>215</th>\n",
       "      <td>Bangkok</td>\n",
       "      <td>94</td>\n",
       "    </tr>\n",
       "    <tr>\n",
       "      <th>2019</th>\n",
       "      <td>SEOUL</td>\n",
       "      <td>91</td>\n",
       "    </tr>\n",
       "  </tbody>\n",
       "</table>\n",
       "</div>"
      ],
      "text/plain": [
       "       Location  Count\n",
       "2403      Tokyo    430\n",
       "1165      Kyoto    207\n",
       "1714      Osaka    206\n",
       "1623   New York    180\n",
       "1760      Paris    159\n",
       "1049  Hong Kong    135\n",
       "2256  Singapore    118\n",
       "1351     London    106\n",
       "215     Bangkok     94\n",
       "2019      SEOUL     91"
      ]
     },
     "execution_count": 94,
     "metadata": {},
     "output_type": "execute_result"
    }
   ],
   "source": [
    "by_city = michelin.groupby('Location', as_index=False).agg({'Name': 'count'})\n",
    "by_city.rename(columns={'Name': 'Count'}, inplace=True)\n",
    "by_city.sort_values('Count', ascending=False, inplace=True)\n",
    "by_city.head(10)"
   ]
  },
  {
   "cell_type": "code",
   "execution_count": 73,
   "metadata": {},
   "outputs": [
    {
     "data": {
      "application/vnd.plotly.v1+json": {
       "config": {
        "plotlyServerURL": "https://plot.ly"
       },
       "data": [
        {
         "alignmentgroup": "True",
         "hovertemplate": "Location=%{x}<br>Count=%{y}<extra></extra>",
         "legendgroup": "Tokyo",
         "marker": {
          "color": "#636efa",
          "pattern": {
           "shape": ""
          }
         },
         "name": "Tokyo",
         "offsetgroup": "Tokyo",
         "orientation": "v",
         "showlegend": true,
         "textposition": "auto",
         "type": "bar",
         "x": [
          "Tokyo"
         ],
         "xaxis": "x",
         "y": [
          430
         ],
         "yaxis": "y"
        },
        {
         "alignmentgroup": "True",
         "hovertemplate": "Location=%{x}<br>Count=%{y}<extra></extra>",
         "legendgroup": "Kyoto",
         "marker": {
          "color": "#EF553B",
          "pattern": {
           "shape": ""
          }
         },
         "name": "Kyoto",
         "offsetgroup": "Kyoto",
         "orientation": "v",
         "showlegend": true,
         "textposition": "auto",
         "type": "bar",
         "x": [
          "Kyoto"
         ],
         "xaxis": "x",
         "y": [
          207
         ],
         "yaxis": "y"
        },
        {
         "alignmentgroup": "True",
         "hovertemplate": "Location=%{x}<br>Count=%{y}<extra></extra>",
         "legendgroup": "Osaka",
         "marker": {
          "color": "#00cc96",
          "pattern": {
           "shape": ""
          }
         },
         "name": "Osaka",
         "offsetgroup": "Osaka",
         "orientation": "v",
         "showlegend": true,
         "textposition": "auto",
         "type": "bar",
         "x": [
          "Osaka"
         ],
         "xaxis": "x",
         "y": [
          206
         ],
         "yaxis": "y"
        },
        {
         "alignmentgroup": "True",
         "hovertemplate": "Location=%{x}<br>Count=%{y}<extra></extra>",
         "legendgroup": "New York",
         "marker": {
          "color": "#ab63fa",
          "pattern": {
           "shape": ""
          }
         },
         "name": "New York",
         "offsetgroup": "New York",
         "orientation": "v",
         "showlegend": true,
         "textposition": "auto",
         "type": "bar",
         "x": [
          "New York"
         ],
         "xaxis": "x",
         "y": [
          180
         ],
         "yaxis": "y"
        },
        {
         "alignmentgroup": "True",
         "hovertemplate": "Location=%{x}<br>Count=%{y}<extra></extra>",
         "legendgroup": "Paris",
         "marker": {
          "color": "#FFA15A",
          "pattern": {
           "shape": ""
          }
         },
         "name": "Paris",
         "offsetgroup": "Paris",
         "orientation": "v",
         "showlegend": true,
         "textposition": "auto",
         "type": "bar",
         "x": [
          "Paris"
         ],
         "xaxis": "x",
         "y": [
          159
         ],
         "yaxis": "y"
        },
        {
         "alignmentgroup": "True",
         "hovertemplate": "Location=%{x}<br>Count=%{y}<extra></extra>",
         "legendgroup": "Hong Kong",
         "marker": {
          "color": "#19d3f3",
          "pattern": {
           "shape": ""
          }
         },
         "name": "Hong Kong",
         "offsetgroup": "Hong Kong",
         "orientation": "v",
         "showlegend": true,
         "textposition": "auto",
         "type": "bar",
         "x": [
          "Hong Kong"
         ],
         "xaxis": "x",
         "y": [
          135
         ],
         "yaxis": "y"
        },
        {
         "alignmentgroup": "True",
         "hovertemplate": "Location=%{x}<br>Count=%{y}<extra></extra>",
         "legendgroup": "Singapore",
         "marker": {
          "color": "#FF6692",
          "pattern": {
           "shape": ""
          }
         },
         "name": "Singapore",
         "offsetgroup": "Singapore",
         "orientation": "v",
         "showlegend": true,
         "textposition": "auto",
         "type": "bar",
         "x": [
          "Singapore"
         ],
         "xaxis": "x",
         "y": [
          118
         ],
         "yaxis": "y"
        },
        {
         "alignmentgroup": "True",
         "hovertemplate": "Location=%{x}<br>Count=%{y}<extra></extra>",
         "legendgroup": "London",
         "marker": {
          "color": "#B6E880",
          "pattern": {
           "shape": ""
          }
         },
         "name": "London",
         "offsetgroup": "London",
         "orientation": "v",
         "showlegend": true,
         "textposition": "auto",
         "type": "bar",
         "x": [
          "London"
         ],
         "xaxis": "x",
         "y": [
          106
         ],
         "yaxis": "y"
        },
        {
         "alignmentgroup": "True",
         "hovertemplate": "Location=%{x}<br>Count=%{y}<extra></extra>",
         "legendgroup": "Bangkok",
         "marker": {
          "color": "#FF97FF",
          "pattern": {
           "shape": ""
          }
         },
         "name": "Bangkok",
         "offsetgroup": "Bangkok",
         "orientation": "v",
         "showlegend": true,
         "textposition": "auto",
         "type": "bar",
         "x": [
          "Bangkok"
         ],
         "xaxis": "x",
         "y": [
          94
         ],
         "yaxis": "y"
        },
        {
         "alignmentgroup": "True",
         "hovertemplate": "Location=%{x}<br>Count=%{y}<extra></extra>",
         "legendgroup": "SEOUL",
         "marker": {
          "color": "#FECB52",
          "pattern": {
           "shape": ""
          }
         },
         "name": "SEOUL",
         "offsetgroup": "SEOUL",
         "orientation": "v",
         "showlegend": true,
         "textposition": "auto",
         "type": "bar",
         "x": [
          "SEOUL"
         ],
         "xaxis": "x",
         "y": [
          91
         ],
         "yaxis": "y"
        }
       ],
       "layout": {
        "barmode": "relative",
        "height": 500,
        "legend": {
         "title": {
          "text": "Location"
         },
         "tracegroupgap": 0
        },
        "template": {
         "data": {
          "bar": [
           {
            "error_x": {
             "color": "#2a3f5f"
            },
            "error_y": {
             "color": "#2a3f5f"
            },
            "marker": {
             "line": {
              "color": "#E5ECF6",
              "width": 0.5
             },
             "pattern": {
              "fillmode": "overlay",
              "size": 10,
              "solidity": 0.2
             }
            },
            "type": "bar"
           }
          ],
          "barpolar": [
           {
            "marker": {
             "line": {
              "color": "#E5ECF6",
              "width": 0.5
             },
             "pattern": {
              "fillmode": "overlay",
              "size": 10,
              "solidity": 0.2
             }
            },
            "type": "barpolar"
           }
          ],
          "carpet": [
           {
            "aaxis": {
             "endlinecolor": "#2a3f5f",
             "gridcolor": "white",
             "linecolor": "white",
             "minorgridcolor": "white",
             "startlinecolor": "#2a3f5f"
            },
            "baxis": {
             "endlinecolor": "#2a3f5f",
             "gridcolor": "white",
             "linecolor": "white",
             "minorgridcolor": "white",
             "startlinecolor": "#2a3f5f"
            },
            "type": "carpet"
           }
          ],
          "choropleth": [
           {
            "colorbar": {
             "outlinewidth": 0,
             "ticks": ""
            },
            "type": "choropleth"
           }
          ],
          "contour": [
           {
            "colorbar": {
             "outlinewidth": 0,
             "ticks": ""
            },
            "colorscale": [
             [
              0,
              "#0d0887"
             ],
             [
              0.1111111111111111,
              "#46039f"
             ],
             [
              0.2222222222222222,
              "#7201a8"
             ],
             [
              0.3333333333333333,
              "#9c179e"
             ],
             [
              0.4444444444444444,
              "#bd3786"
             ],
             [
              0.5555555555555556,
              "#d8576b"
             ],
             [
              0.6666666666666666,
              "#ed7953"
             ],
             [
              0.7777777777777778,
              "#fb9f3a"
             ],
             [
              0.8888888888888888,
              "#fdca26"
             ],
             [
              1,
              "#f0f921"
             ]
            ],
            "type": "contour"
           }
          ],
          "contourcarpet": [
           {
            "colorbar": {
             "outlinewidth": 0,
             "ticks": ""
            },
            "type": "contourcarpet"
           }
          ],
          "heatmap": [
           {
            "colorbar": {
             "outlinewidth": 0,
             "ticks": ""
            },
            "colorscale": [
             [
              0,
              "#0d0887"
             ],
             [
              0.1111111111111111,
              "#46039f"
             ],
             [
              0.2222222222222222,
              "#7201a8"
             ],
             [
              0.3333333333333333,
              "#9c179e"
             ],
             [
              0.4444444444444444,
              "#bd3786"
             ],
             [
              0.5555555555555556,
              "#d8576b"
             ],
             [
              0.6666666666666666,
              "#ed7953"
             ],
             [
              0.7777777777777778,
              "#fb9f3a"
             ],
             [
              0.8888888888888888,
              "#fdca26"
             ],
             [
              1,
              "#f0f921"
             ]
            ],
            "type": "heatmap"
           }
          ],
          "heatmapgl": [
           {
            "colorbar": {
             "outlinewidth": 0,
             "ticks": ""
            },
            "colorscale": [
             [
              0,
              "#0d0887"
             ],
             [
              0.1111111111111111,
              "#46039f"
             ],
             [
              0.2222222222222222,
              "#7201a8"
             ],
             [
              0.3333333333333333,
              "#9c179e"
             ],
             [
              0.4444444444444444,
              "#bd3786"
             ],
             [
              0.5555555555555556,
              "#d8576b"
             ],
             [
              0.6666666666666666,
              "#ed7953"
             ],
             [
              0.7777777777777778,
              "#fb9f3a"
             ],
             [
              0.8888888888888888,
              "#fdca26"
             ],
             [
              1,
              "#f0f921"
             ]
            ],
            "type": "heatmapgl"
           }
          ],
          "histogram": [
           {
            "marker": {
             "pattern": {
              "fillmode": "overlay",
              "size": 10,
              "solidity": 0.2
             }
            },
            "type": "histogram"
           }
          ],
          "histogram2d": [
           {
            "colorbar": {
             "outlinewidth": 0,
             "ticks": ""
            },
            "colorscale": [
             [
              0,
              "#0d0887"
             ],
             [
              0.1111111111111111,
              "#46039f"
             ],
             [
              0.2222222222222222,
              "#7201a8"
             ],
             [
              0.3333333333333333,
              "#9c179e"
             ],
             [
              0.4444444444444444,
              "#bd3786"
             ],
             [
              0.5555555555555556,
              "#d8576b"
             ],
             [
              0.6666666666666666,
              "#ed7953"
             ],
             [
              0.7777777777777778,
              "#fb9f3a"
             ],
             [
              0.8888888888888888,
              "#fdca26"
             ],
             [
              1,
              "#f0f921"
             ]
            ],
            "type": "histogram2d"
           }
          ],
          "histogram2dcontour": [
           {
            "colorbar": {
             "outlinewidth": 0,
             "ticks": ""
            },
            "colorscale": [
             [
              0,
              "#0d0887"
             ],
             [
              0.1111111111111111,
              "#46039f"
             ],
             [
              0.2222222222222222,
              "#7201a8"
             ],
             [
              0.3333333333333333,
              "#9c179e"
             ],
             [
              0.4444444444444444,
              "#bd3786"
             ],
             [
              0.5555555555555556,
              "#d8576b"
             ],
             [
              0.6666666666666666,
              "#ed7953"
             ],
             [
              0.7777777777777778,
              "#fb9f3a"
             ],
             [
              0.8888888888888888,
              "#fdca26"
             ],
             [
              1,
              "#f0f921"
             ]
            ],
            "type": "histogram2dcontour"
           }
          ],
          "mesh3d": [
           {
            "colorbar": {
             "outlinewidth": 0,
             "ticks": ""
            },
            "type": "mesh3d"
           }
          ],
          "parcoords": [
           {
            "line": {
             "colorbar": {
              "outlinewidth": 0,
              "ticks": ""
             }
            },
            "type": "parcoords"
           }
          ],
          "pie": [
           {
            "automargin": true,
            "type": "pie"
           }
          ],
          "scatter": [
           {
            "marker": {
             "colorbar": {
              "outlinewidth": 0,
              "ticks": ""
             }
            },
            "type": "scatter"
           }
          ],
          "scatter3d": [
           {
            "line": {
             "colorbar": {
              "outlinewidth": 0,
              "ticks": ""
             }
            },
            "marker": {
             "colorbar": {
              "outlinewidth": 0,
              "ticks": ""
             }
            },
            "type": "scatter3d"
           }
          ],
          "scattercarpet": [
           {
            "marker": {
             "colorbar": {
              "outlinewidth": 0,
              "ticks": ""
             }
            },
            "type": "scattercarpet"
           }
          ],
          "scattergeo": [
           {
            "marker": {
             "colorbar": {
              "outlinewidth": 0,
              "ticks": ""
             }
            },
            "type": "scattergeo"
           }
          ],
          "scattergl": [
           {
            "marker": {
             "colorbar": {
              "outlinewidth": 0,
              "ticks": ""
             }
            },
            "type": "scattergl"
           }
          ],
          "scattermapbox": [
           {
            "marker": {
             "colorbar": {
              "outlinewidth": 0,
              "ticks": ""
             }
            },
            "type": "scattermapbox"
           }
          ],
          "scatterpolar": [
           {
            "marker": {
             "colorbar": {
              "outlinewidth": 0,
              "ticks": ""
             }
            },
            "type": "scatterpolar"
           }
          ],
          "scatterpolargl": [
           {
            "marker": {
             "colorbar": {
              "outlinewidth": 0,
              "ticks": ""
             }
            },
            "type": "scatterpolargl"
           }
          ],
          "scatterternary": [
           {
            "marker": {
             "colorbar": {
              "outlinewidth": 0,
              "ticks": ""
             }
            },
            "type": "scatterternary"
           }
          ],
          "surface": [
           {
            "colorbar": {
             "outlinewidth": 0,
             "ticks": ""
            },
            "colorscale": [
             [
              0,
              "#0d0887"
             ],
             [
              0.1111111111111111,
              "#46039f"
             ],
             [
              0.2222222222222222,
              "#7201a8"
             ],
             [
              0.3333333333333333,
              "#9c179e"
             ],
             [
              0.4444444444444444,
              "#bd3786"
             ],
             [
              0.5555555555555556,
              "#d8576b"
             ],
             [
              0.6666666666666666,
              "#ed7953"
             ],
             [
              0.7777777777777778,
              "#fb9f3a"
             ],
             [
              0.8888888888888888,
              "#fdca26"
             ],
             [
              1,
              "#f0f921"
             ]
            ],
            "type": "surface"
           }
          ],
          "table": [
           {
            "cells": {
             "fill": {
              "color": "#EBF0F8"
             },
             "line": {
              "color": "white"
             }
            },
            "header": {
             "fill": {
              "color": "#C8D4E3"
             },
             "line": {
              "color": "white"
             }
            },
            "type": "table"
           }
          ]
         },
         "layout": {
          "annotationdefaults": {
           "arrowcolor": "#2a3f5f",
           "arrowhead": 0,
           "arrowwidth": 1
          },
          "autotypenumbers": "strict",
          "coloraxis": {
           "colorbar": {
            "outlinewidth": 0,
            "ticks": ""
           }
          },
          "colorscale": {
           "diverging": [
            [
             0,
             "#8e0152"
            ],
            [
             0.1,
             "#c51b7d"
            ],
            [
             0.2,
             "#de77ae"
            ],
            [
             0.3,
             "#f1b6da"
            ],
            [
             0.4,
             "#fde0ef"
            ],
            [
             0.5,
             "#f7f7f7"
            ],
            [
             0.6,
             "#e6f5d0"
            ],
            [
             0.7,
             "#b8e186"
            ],
            [
             0.8,
             "#7fbc41"
            ],
            [
             0.9,
             "#4d9221"
            ],
            [
             1,
             "#276419"
            ]
           ],
           "sequential": [
            [
             0,
             "#0d0887"
            ],
            [
             0.1111111111111111,
             "#46039f"
            ],
            [
             0.2222222222222222,
             "#7201a8"
            ],
            [
             0.3333333333333333,
             "#9c179e"
            ],
            [
             0.4444444444444444,
             "#bd3786"
            ],
            [
             0.5555555555555556,
             "#d8576b"
            ],
            [
             0.6666666666666666,
             "#ed7953"
            ],
            [
             0.7777777777777778,
             "#fb9f3a"
            ],
            [
             0.8888888888888888,
             "#fdca26"
            ],
            [
             1,
             "#f0f921"
            ]
           ],
           "sequentialminus": [
            [
             0,
             "#0d0887"
            ],
            [
             0.1111111111111111,
             "#46039f"
            ],
            [
             0.2222222222222222,
             "#7201a8"
            ],
            [
             0.3333333333333333,
             "#9c179e"
            ],
            [
             0.4444444444444444,
             "#bd3786"
            ],
            [
             0.5555555555555556,
             "#d8576b"
            ],
            [
             0.6666666666666666,
             "#ed7953"
            ],
            [
             0.7777777777777778,
             "#fb9f3a"
            ],
            [
             0.8888888888888888,
             "#fdca26"
            ],
            [
             1,
             "#f0f921"
            ]
           ]
          },
          "colorway": [
           "#636efa",
           "#EF553B",
           "#00cc96",
           "#ab63fa",
           "#FFA15A",
           "#19d3f3",
           "#FF6692",
           "#B6E880",
           "#FF97FF",
           "#FECB52"
          ],
          "font": {
           "color": "#2a3f5f"
          },
          "geo": {
           "bgcolor": "white",
           "lakecolor": "white",
           "landcolor": "#E5ECF6",
           "showlakes": true,
           "showland": true,
           "subunitcolor": "white"
          },
          "hoverlabel": {
           "align": "left"
          },
          "hovermode": "closest",
          "mapbox": {
           "style": "light"
          },
          "paper_bgcolor": "white",
          "plot_bgcolor": "#E5ECF6",
          "polar": {
           "angularaxis": {
            "gridcolor": "white",
            "linecolor": "white",
            "ticks": ""
           },
           "bgcolor": "#E5ECF6",
           "radialaxis": {
            "gridcolor": "white",
            "linecolor": "white",
            "ticks": ""
           }
          },
          "scene": {
           "xaxis": {
            "backgroundcolor": "#E5ECF6",
            "gridcolor": "white",
            "gridwidth": 2,
            "linecolor": "white",
            "showbackground": true,
            "ticks": "",
            "zerolinecolor": "white"
           },
           "yaxis": {
            "backgroundcolor": "#E5ECF6",
            "gridcolor": "white",
            "gridwidth": 2,
            "linecolor": "white",
            "showbackground": true,
            "ticks": "",
            "zerolinecolor": "white"
           },
           "zaxis": {
            "backgroundcolor": "#E5ECF6",
            "gridcolor": "white",
            "gridwidth": 2,
            "linecolor": "white",
            "showbackground": true,
            "ticks": "",
            "zerolinecolor": "white"
           }
          },
          "shapedefaults": {
           "line": {
            "color": "#2a3f5f"
           }
          },
          "ternary": {
           "aaxis": {
            "gridcolor": "white",
            "linecolor": "white",
            "ticks": ""
           },
           "baxis": {
            "gridcolor": "white",
            "linecolor": "white",
            "ticks": ""
           },
           "bgcolor": "#E5ECF6",
           "caxis": {
            "gridcolor": "white",
            "linecolor": "white",
            "ticks": ""
           }
          },
          "title": {
           "x": 0.05
          },
          "xaxis": {
           "automargin": true,
           "gridcolor": "white",
           "linecolor": "white",
           "ticks": "",
           "title": {
            "standoff": 15
           },
           "zerolinecolor": "white",
           "zerolinewidth": 2
          },
          "yaxis": {
           "automargin": true,
           "gridcolor": "white",
           "linecolor": "white",
           "ticks": "",
           "title": {
            "standoff": 15
           },
           "zerolinecolor": "white",
           "zerolinewidth": 2
          }
         }
        },
        "title": {
         "text": "Top 10 cities with the highest number of Michelin restaurants"
        },
        "width": 800,
        "xaxis": {
         "anchor": "y",
         "categoryarray": [
          "Tokyo",
          "Kyoto",
          "Osaka",
          "New York",
          "Paris",
          "Hong Kong",
          "Singapore",
          "London",
          "Bangkok",
          "SEOUL"
         ],
         "categoryorder": "array",
         "domain": [
          0,
          1
         ],
         "title": {
          "text": "Location"
         }
        },
        "yaxis": {
         "anchor": "x",
         "domain": [
          0,
          1
         ],
         "title": {
          "text": "Count"
         }
        }
       }
      },
      "text/html": [
       "<div>                            <div id=\"0f61e78e-9cff-4192-b639-a485efddc9b0\" class=\"plotly-graph-div\" style=\"height:500px; width:800px;\"></div>            <script type=\"text/javascript\">                require([\"plotly\"], function(Plotly) {                    window.PLOTLYENV=window.PLOTLYENV || {};                                    if (document.getElementById(\"0f61e78e-9cff-4192-b639-a485efddc9b0\")) {                    Plotly.newPlot(                        \"0f61e78e-9cff-4192-b639-a485efddc9b0\",                        [{\"alignmentgroup\":\"True\",\"hovertemplate\":\"Location=%{x}<br>Count=%{y}<extra></extra>\",\"legendgroup\":\"Tokyo\",\"marker\":{\"color\":\"#636efa\",\"pattern\":{\"shape\":\"\"}},\"name\":\"Tokyo\",\"offsetgroup\":\"Tokyo\",\"orientation\":\"v\",\"showlegend\":true,\"textposition\":\"auto\",\"x\":[\"Tokyo\"],\"xaxis\":\"x\",\"y\":[430],\"yaxis\":\"y\",\"type\":\"bar\"},{\"alignmentgroup\":\"True\",\"hovertemplate\":\"Location=%{x}<br>Count=%{y}<extra></extra>\",\"legendgroup\":\"Kyoto\",\"marker\":{\"color\":\"#EF553B\",\"pattern\":{\"shape\":\"\"}},\"name\":\"Kyoto\",\"offsetgroup\":\"Kyoto\",\"orientation\":\"v\",\"showlegend\":true,\"textposition\":\"auto\",\"x\":[\"Kyoto\"],\"xaxis\":\"x\",\"y\":[207],\"yaxis\":\"y\",\"type\":\"bar\"},{\"alignmentgroup\":\"True\",\"hovertemplate\":\"Location=%{x}<br>Count=%{y}<extra></extra>\",\"legendgroup\":\"Osaka\",\"marker\":{\"color\":\"#00cc96\",\"pattern\":{\"shape\":\"\"}},\"name\":\"Osaka\",\"offsetgroup\":\"Osaka\",\"orientation\":\"v\",\"showlegend\":true,\"textposition\":\"auto\",\"x\":[\"Osaka\"],\"xaxis\":\"x\",\"y\":[206],\"yaxis\":\"y\",\"type\":\"bar\"},{\"alignmentgroup\":\"True\",\"hovertemplate\":\"Location=%{x}<br>Count=%{y}<extra></extra>\",\"legendgroup\":\"New York\",\"marker\":{\"color\":\"#ab63fa\",\"pattern\":{\"shape\":\"\"}},\"name\":\"New York\",\"offsetgroup\":\"New York\",\"orientation\":\"v\",\"showlegend\":true,\"textposition\":\"auto\",\"x\":[\"New York\"],\"xaxis\":\"x\",\"y\":[180],\"yaxis\":\"y\",\"type\":\"bar\"},{\"alignmentgroup\":\"True\",\"hovertemplate\":\"Location=%{x}<br>Count=%{y}<extra></extra>\",\"legendgroup\":\"Paris\",\"marker\":{\"color\":\"#FFA15A\",\"pattern\":{\"shape\":\"\"}},\"name\":\"Paris\",\"offsetgroup\":\"Paris\",\"orientation\":\"v\",\"showlegend\":true,\"textposition\":\"auto\",\"x\":[\"Paris\"],\"xaxis\":\"x\",\"y\":[159],\"yaxis\":\"y\",\"type\":\"bar\"},{\"alignmentgroup\":\"True\",\"hovertemplate\":\"Location=%{x}<br>Count=%{y}<extra></extra>\",\"legendgroup\":\"Hong Kong\",\"marker\":{\"color\":\"#19d3f3\",\"pattern\":{\"shape\":\"\"}},\"name\":\"Hong Kong\",\"offsetgroup\":\"Hong Kong\",\"orientation\":\"v\",\"showlegend\":true,\"textposition\":\"auto\",\"x\":[\"Hong Kong\"],\"xaxis\":\"x\",\"y\":[135],\"yaxis\":\"y\",\"type\":\"bar\"},{\"alignmentgroup\":\"True\",\"hovertemplate\":\"Location=%{x}<br>Count=%{y}<extra></extra>\",\"legendgroup\":\"Singapore\",\"marker\":{\"color\":\"#FF6692\",\"pattern\":{\"shape\":\"\"}},\"name\":\"Singapore\",\"offsetgroup\":\"Singapore\",\"orientation\":\"v\",\"showlegend\":true,\"textposition\":\"auto\",\"x\":[\"Singapore\"],\"xaxis\":\"x\",\"y\":[118],\"yaxis\":\"y\",\"type\":\"bar\"},{\"alignmentgroup\":\"True\",\"hovertemplate\":\"Location=%{x}<br>Count=%{y}<extra></extra>\",\"legendgroup\":\"London\",\"marker\":{\"color\":\"#B6E880\",\"pattern\":{\"shape\":\"\"}},\"name\":\"London\",\"offsetgroup\":\"London\",\"orientation\":\"v\",\"showlegend\":true,\"textposition\":\"auto\",\"x\":[\"London\"],\"xaxis\":\"x\",\"y\":[106],\"yaxis\":\"y\",\"type\":\"bar\"},{\"alignmentgroup\":\"True\",\"hovertemplate\":\"Location=%{x}<br>Count=%{y}<extra></extra>\",\"legendgroup\":\"Bangkok\",\"marker\":{\"color\":\"#FF97FF\",\"pattern\":{\"shape\":\"\"}},\"name\":\"Bangkok\",\"offsetgroup\":\"Bangkok\",\"orientation\":\"v\",\"showlegend\":true,\"textposition\":\"auto\",\"x\":[\"Bangkok\"],\"xaxis\":\"x\",\"y\":[94],\"yaxis\":\"y\",\"type\":\"bar\"},{\"alignmentgroup\":\"True\",\"hovertemplate\":\"Location=%{x}<br>Count=%{y}<extra></extra>\",\"legendgroup\":\"SEOUL\",\"marker\":{\"color\":\"#FECB52\",\"pattern\":{\"shape\":\"\"}},\"name\":\"SEOUL\",\"offsetgroup\":\"SEOUL\",\"orientation\":\"v\",\"showlegend\":true,\"textposition\":\"auto\",\"x\":[\"SEOUL\"],\"xaxis\":\"x\",\"y\":[91],\"yaxis\":\"y\",\"type\":\"bar\"}],                        {\"template\":{\"data\":{\"bar\":[{\"error_x\":{\"color\":\"#2a3f5f\"},\"error_y\":{\"color\":\"#2a3f5f\"},\"marker\":{\"line\":{\"color\":\"#E5ECF6\",\"width\":0.5},\"pattern\":{\"fillmode\":\"overlay\",\"size\":10,\"solidity\":0.2}},\"type\":\"bar\"}],\"barpolar\":[{\"marker\":{\"line\":{\"color\":\"#E5ECF6\",\"width\":0.5},\"pattern\":{\"fillmode\":\"overlay\",\"size\":10,\"solidity\":0.2}},\"type\":\"barpolar\"}],\"carpet\":[{\"aaxis\":{\"endlinecolor\":\"#2a3f5f\",\"gridcolor\":\"white\",\"linecolor\":\"white\",\"minorgridcolor\":\"white\",\"startlinecolor\":\"#2a3f5f\"},\"baxis\":{\"endlinecolor\":\"#2a3f5f\",\"gridcolor\":\"white\",\"linecolor\":\"white\",\"minorgridcolor\":\"white\",\"startlinecolor\":\"#2a3f5f\"},\"type\":\"carpet\"}],\"choropleth\":[{\"colorbar\":{\"outlinewidth\":0,\"ticks\":\"\"},\"type\":\"choropleth\"}],\"contour\":[{\"colorbar\":{\"outlinewidth\":0,\"ticks\":\"\"},\"colorscale\":[[0.0,\"#0d0887\"],[0.1111111111111111,\"#46039f\"],[0.2222222222222222,\"#7201a8\"],[0.3333333333333333,\"#9c179e\"],[0.4444444444444444,\"#bd3786\"],[0.5555555555555556,\"#d8576b\"],[0.6666666666666666,\"#ed7953\"],[0.7777777777777778,\"#fb9f3a\"],[0.8888888888888888,\"#fdca26\"],[1.0,\"#f0f921\"]],\"type\":\"contour\"}],\"contourcarpet\":[{\"colorbar\":{\"outlinewidth\":0,\"ticks\":\"\"},\"type\":\"contourcarpet\"}],\"heatmap\":[{\"colorbar\":{\"outlinewidth\":0,\"ticks\":\"\"},\"colorscale\":[[0.0,\"#0d0887\"],[0.1111111111111111,\"#46039f\"],[0.2222222222222222,\"#7201a8\"],[0.3333333333333333,\"#9c179e\"],[0.4444444444444444,\"#bd3786\"],[0.5555555555555556,\"#d8576b\"],[0.6666666666666666,\"#ed7953\"],[0.7777777777777778,\"#fb9f3a\"],[0.8888888888888888,\"#fdca26\"],[1.0,\"#f0f921\"]],\"type\":\"heatmap\"}],\"heatmapgl\":[{\"colorbar\":{\"outlinewidth\":0,\"ticks\":\"\"},\"colorscale\":[[0.0,\"#0d0887\"],[0.1111111111111111,\"#46039f\"],[0.2222222222222222,\"#7201a8\"],[0.3333333333333333,\"#9c179e\"],[0.4444444444444444,\"#bd3786\"],[0.5555555555555556,\"#d8576b\"],[0.6666666666666666,\"#ed7953\"],[0.7777777777777778,\"#fb9f3a\"],[0.8888888888888888,\"#fdca26\"],[1.0,\"#f0f921\"]],\"type\":\"heatmapgl\"}],\"histogram\":[{\"marker\":{\"pattern\":{\"fillmode\":\"overlay\",\"size\":10,\"solidity\":0.2}},\"type\":\"histogram\"}],\"histogram2d\":[{\"colorbar\":{\"outlinewidth\":0,\"ticks\":\"\"},\"colorscale\":[[0.0,\"#0d0887\"],[0.1111111111111111,\"#46039f\"],[0.2222222222222222,\"#7201a8\"],[0.3333333333333333,\"#9c179e\"],[0.4444444444444444,\"#bd3786\"],[0.5555555555555556,\"#d8576b\"],[0.6666666666666666,\"#ed7953\"],[0.7777777777777778,\"#fb9f3a\"],[0.8888888888888888,\"#fdca26\"],[1.0,\"#f0f921\"]],\"type\":\"histogram2d\"}],\"histogram2dcontour\":[{\"colorbar\":{\"outlinewidth\":0,\"ticks\":\"\"},\"colorscale\":[[0.0,\"#0d0887\"],[0.1111111111111111,\"#46039f\"],[0.2222222222222222,\"#7201a8\"],[0.3333333333333333,\"#9c179e\"],[0.4444444444444444,\"#bd3786\"],[0.5555555555555556,\"#d8576b\"],[0.6666666666666666,\"#ed7953\"],[0.7777777777777778,\"#fb9f3a\"],[0.8888888888888888,\"#fdca26\"],[1.0,\"#f0f921\"]],\"type\":\"histogram2dcontour\"}],\"mesh3d\":[{\"colorbar\":{\"outlinewidth\":0,\"ticks\":\"\"},\"type\":\"mesh3d\"}],\"parcoords\":[{\"line\":{\"colorbar\":{\"outlinewidth\":0,\"ticks\":\"\"}},\"type\":\"parcoords\"}],\"pie\":[{\"automargin\":true,\"type\":\"pie\"}],\"scatter\":[{\"marker\":{\"colorbar\":{\"outlinewidth\":0,\"ticks\":\"\"}},\"type\":\"scatter\"}],\"scatter3d\":[{\"line\":{\"colorbar\":{\"outlinewidth\":0,\"ticks\":\"\"}},\"marker\":{\"colorbar\":{\"outlinewidth\":0,\"ticks\":\"\"}},\"type\":\"scatter3d\"}],\"scattercarpet\":[{\"marker\":{\"colorbar\":{\"outlinewidth\":0,\"ticks\":\"\"}},\"type\":\"scattercarpet\"}],\"scattergeo\":[{\"marker\":{\"colorbar\":{\"outlinewidth\":0,\"ticks\":\"\"}},\"type\":\"scattergeo\"}],\"scattergl\":[{\"marker\":{\"colorbar\":{\"outlinewidth\":0,\"ticks\":\"\"}},\"type\":\"scattergl\"}],\"scattermapbox\":[{\"marker\":{\"colorbar\":{\"outlinewidth\":0,\"ticks\":\"\"}},\"type\":\"scattermapbox\"}],\"scatterpolar\":[{\"marker\":{\"colorbar\":{\"outlinewidth\":0,\"ticks\":\"\"}},\"type\":\"scatterpolar\"}],\"scatterpolargl\":[{\"marker\":{\"colorbar\":{\"outlinewidth\":0,\"ticks\":\"\"}},\"type\":\"scatterpolargl\"}],\"scatterternary\":[{\"marker\":{\"colorbar\":{\"outlinewidth\":0,\"ticks\":\"\"}},\"type\":\"scatterternary\"}],\"surface\":[{\"colorbar\":{\"outlinewidth\":0,\"ticks\":\"\"},\"colorscale\":[[0.0,\"#0d0887\"],[0.1111111111111111,\"#46039f\"],[0.2222222222222222,\"#7201a8\"],[0.3333333333333333,\"#9c179e\"],[0.4444444444444444,\"#bd3786\"],[0.5555555555555556,\"#d8576b\"],[0.6666666666666666,\"#ed7953\"],[0.7777777777777778,\"#fb9f3a\"],[0.8888888888888888,\"#fdca26\"],[1.0,\"#f0f921\"]],\"type\":\"surface\"}],\"table\":[{\"cells\":{\"fill\":{\"color\":\"#EBF0F8\"},\"line\":{\"color\":\"white\"}},\"header\":{\"fill\":{\"color\":\"#C8D4E3\"},\"line\":{\"color\":\"white\"}},\"type\":\"table\"}]},\"layout\":{\"annotationdefaults\":{\"arrowcolor\":\"#2a3f5f\",\"arrowhead\":0,\"arrowwidth\":1},\"autotypenumbers\":\"strict\",\"coloraxis\":{\"colorbar\":{\"outlinewidth\":0,\"ticks\":\"\"}},\"colorscale\":{\"diverging\":[[0,\"#8e0152\"],[0.1,\"#c51b7d\"],[0.2,\"#de77ae\"],[0.3,\"#f1b6da\"],[0.4,\"#fde0ef\"],[0.5,\"#f7f7f7\"],[0.6,\"#e6f5d0\"],[0.7,\"#b8e186\"],[0.8,\"#7fbc41\"],[0.9,\"#4d9221\"],[1,\"#276419\"]],\"sequential\":[[0.0,\"#0d0887\"],[0.1111111111111111,\"#46039f\"],[0.2222222222222222,\"#7201a8\"],[0.3333333333333333,\"#9c179e\"],[0.4444444444444444,\"#bd3786\"],[0.5555555555555556,\"#d8576b\"],[0.6666666666666666,\"#ed7953\"],[0.7777777777777778,\"#fb9f3a\"],[0.8888888888888888,\"#fdca26\"],[1.0,\"#f0f921\"]],\"sequentialminus\":[[0.0,\"#0d0887\"],[0.1111111111111111,\"#46039f\"],[0.2222222222222222,\"#7201a8\"],[0.3333333333333333,\"#9c179e\"],[0.4444444444444444,\"#bd3786\"],[0.5555555555555556,\"#d8576b\"],[0.6666666666666666,\"#ed7953\"],[0.7777777777777778,\"#fb9f3a\"],[0.8888888888888888,\"#fdca26\"],[1.0,\"#f0f921\"]]},\"colorway\":[\"#636efa\",\"#EF553B\",\"#00cc96\",\"#ab63fa\",\"#FFA15A\",\"#19d3f3\",\"#FF6692\",\"#B6E880\",\"#FF97FF\",\"#FECB52\"],\"font\":{\"color\":\"#2a3f5f\"},\"geo\":{\"bgcolor\":\"white\",\"lakecolor\":\"white\",\"landcolor\":\"#E5ECF6\",\"showlakes\":true,\"showland\":true,\"subunitcolor\":\"white\"},\"hoverlabel\":{\"align\":\"left\"},\"hovermode\":\"closest\",\"mapbox\":{\"style\":\"light\"},\"paper_bgcolor\":\"white\",\"plot_bgcolor\":\"#E5ECF6\",\"polar\":{\"angularaxis\":{\"gridcolor\":\"white\",\"linecolor\":\"white\",\"ticks\":\"\"},\"bgcolor\":\"#E5ECF6\",\"radialaxis\":{\"gridcolor\":\"white\",\"linecolor\":\"white\",\"ticks\":\"\"}},\"scene\":{\"xaxis\":{\"backgroundcolor\":\"#E5ECF6\",\"gridcolor\":\"white\",\"gridwidth\":2,\"linecolor\":\"white\",\"showbackground\":true,\"ticks\":\"\",\"zerolinecolor\":\"white\"},\"yaxis\":{\"backgroundcolor\":\"#E5ECF6\",\"gridcolor\":\"white\",\"gridwidth\":2,\"linecolor\":\"white\",\"showbackground\":true,\"ticks\":\"\",\"zerolinecolor\":\"white\"},\"zaxis\":{\"backgroundcolor\":\"#E5ECF6\",\"gridcolor\":\"white\",\"gridwidth\":2,\"linecolor\":\"white\",\"showbackground\":true,\"ticks\":\"\",\"zerolinecolor\":\"white\"}},\"shapedefaults\":{\"line\":{\"color\":\"#2a3f5f\"}},\"ternary\":{\"aaxis\":{\"gridcolor\":\"white\",\"linecolor\":\"white\",\"ticks\":\"\"},\"baxis\":{\"gridcolor\":\"white\",\"linecolor\":\"white\",\"ticks\":\"\"},\"bgcolor\":\"#E5ECF6\",\"caxis\":{\"gridcolor\":\"white\",\"linecolor\":\"white\",\"ticks\":\"\"}},\"title\":{\"x\":0.05},\"xaxis\":{\"automargin\":true,\"gridcolor\":\"white\",\"linecolor\":\"white\",\"ticks\":\"\",\"title\":{\"standoff\":15},\"zerolinecolor\":\"white\",\"zerolinewidth\":2},\"yaxis\":{\"automargin\":true,\"gridcolor\":\"white\",\"linecolor\":\"white\",\"ticks\":\"\",\"title\":{\"standoff\":15},\"zerolinecolor\":\"white\",\"zerolinewidth\":2}}},\"xaxis\":{\"anchor\":\"y\",\"domain\":[0.0,1.0],\"title\":{\"text\":\"Location\"},\"categoryorder\":\"array\",\"categoryarray\":[\"Tokyo\",\"Kyoto\",\"Osaka\",\"New York\",\"Paris\",\"Hong Kong\",\"Singapore\",\"London\",\"Bangkok\",\"SEOUL\"]},\"yaxis\":{\"anchor\":\"x\",\"domain\":[0.0,1.0],\"title\":{\"text\":\"Count\"}},\"legend\":{\"title\":{\"text\":\"Location\"},\"tracegroupgap\":0},\"title\":{\"text\":\"Top 10 cities with the highest number of Michelin restaurants\"},\"barmode\":\"relative\",\"height\":500,\"width\":800},                        {\"responsive\": true}                    ).then(function(){\n",
       "                            \n",
       "var gd = document.getElementById('0f61e78e-9cff-4192-b639-a485efddc9b0');\n",
       "var x = new MutationObserver(function (mutations, observer) {{\n",
       "        var display = window.getComputedStyle(gd).display;\n",
       "        if (!display || display === 'none') {{\n",
       "            console.log([gd, 'removed!']);\n",
       "            Plotly.purge(gd);\n",
       "            observer.disconnect();\n",
       "        }}\n",
       "}});\n",
       "\n",
       "// Listen for the removal of the full notebook cells\n",
       "var notebookContainer = gd.closest('#notebook-container');\n",
       "if (notebookContainer) {{\n",
       "    x.observe(notebookContainer, {childList: true});\n",
       "}}\n",
       "\n",
       "// Listen for the clearing of the current output cell\n",
       "var outputEl = gd.closest('.output');\n",
       "if (outputEl) {{\n",
       "    x.observe(outputEl, {childList: true});\n",
       "}}\n",
       "\n",
       "                        })                };                });            </script>        </div>"
      ]
     },
     "metadata": {},
     "output_type": "display_data"
    }
   ],
   "source": [
    "fig = px.bar(by_city[0:10], \n",
    "             x=\"Location\", \n",
    "             y=\"Count\", \n",
    "             title=\"Top 10 cities with the highest number of Michelin restaurants\",\n",
    "             color=\"Location\", \n",
    "             width=800,\n",
    "             height=500)\n",
    "fig.show()"
   ]
  },
  {
   "cell_type": "markdown",
   "metadata": {},
   "source": [
    "Next, let's explore the maximum price and minimum price differences between cuisines and cities."
   ]
  },
  {
   "cell_type": "code",
   "execution_count": 95,
   "metadata": {},
   "outputs": [
    {
     "data": {
      "text/html": [
       "<div>\n",
       "<style scoped>\n",
       "    .dataframe tbody tr th:only-of-type {\n",
       "        vertical-align: middle;\n",
       "    }\n",
       "\n",
       "    .dataframe tbody tr th {\n",
       "        vertical-align: top;\n",
       "    }\n",
       "\n",
       "    .dataframe thead tr th {\n",
       "        text-align: left;\n",
       "    }\n",
       "</style>\n",
       "<table border=\"1\" class=\"dataframe\">\n",
       "  <thead>\n",
       "    <tr>\n",
       "      <th></th>\n",
       "      <th>Cuisine</th>\n",
       "      <th>Name</th>\n",
       "      <th colspan=\"3\" halign=\"left\">MaxPrice</th>\n",
       "    </tr>\n",
       "    <tr>\n",
       "      <th></th>\n",
       "      <th></th>\n",
       "      <th>Number</th>\n",
       "      <th>Minimum</th>\n",
       "      <th>Maximum</th>\n",
       "      <th>Average</th>\n",
       "    </tr>\n",
       "  </thead>\n",
       "  <tbody>\n",
       "    <tr>\n",
       "      <th>195</th>\n",
       "      <td>Crab Specialities</td>\n",
       "      <td>1</td>\n",
       "      <td>536.615992</td>\n",
       "      <td>536.615992</td>\n",
       "      <td>536.615992</td>\n",
       "    </tr>\n",
       "    <tr>\n",
       "      <th>530</th>\n",
       "      <td>Modern Cuisine, French Contemporary</td>\n",
       "      <td>1</td>\n",
       "      <td>444.912856</td>\n",
       "      <td>444.912856</td>\n",
       "      <td>444.912856</td>\n",
       "    </tr>\n",
       "    <tr>\n",
       "      <th>173</th>\n",
       "      <td>Corsican, Modern Cuisine</td>\n",
       "      <td>1</td>\n",
       "      <td>321.899736</td>\n",
       "      <td>321.899736</td>\n",
       "      <td>321.899736</td>\n",
       "    </tr>\n",
       "    <tr>\n",
       "      <th>210</th>\n",
       "      <td>Creative, Classic French</td>\n",
       "      <td>1</td>\n",
       "      <td>300.791557</td>\n",
       "      <td>300.791557</td>\n",
       "      <td>300.791557</td>\n",
       "    </tr>\n",
       "    <tr>\n",
       "      <th>90</th>\n",
       "      <td>Chinese, Beijing Cuisine</td>\n",
       "      <td>1</td>\n",
       "      <td>300.000000</td>\n",
       "      <td>300.000000</td>\n",
       "      <td>300.000000</td>\n",
       "    </tr>\n",
       "    <tr>\n",
       "      <th>563</th>\n",
       "      <td>Modern French, French</td>\n",
       "      <td>2</td>\n",
       "      <td>277.022263</td>\n",
       "      <td>322.353178</td>\n",
       "      <td>299.687720</td>\n",
       "    </tr>\n",
       "    <tr>\n",
       "      <th>421</th>\n",
       "      <td>Japanese, Seafood</td>\n",
       "      <td>1</td>\n",
       "      <td>295.000000</td>\n",
       "      <td>295.000000</td>\n",
       "      <td>295.000000</td>\n",
       "    </tr>\n",
       "    <tr>\n",
       "      <th>155</th>\n",
       "      <td>Contemporary, French</td>\n",
       "      <td>5</td>\n",
       "      <td>68.601583</td>\n",
       "      <td>450.000000</td>\n",
       "      <td>289.320317</td>\n",
       "    </tr>\n",
       "    <tr>\n",
       "      <th>298</th>\n",
       "      <td>Fugu / Pufferfish</td>\n",
       "      <td>4</td>\n",
       "      <td>260.642053</td>\n",
       "      <td>314.303653</td>\n",
       "      <td>283.639882</td>\n",
       "    </tr>\n",
       "    <tr>\n",
       "      <th>167</th>\n",
       "      <td>Contemporary, Seafood</td>\n",
       "      <td>3</td>\n",
       "      <td>89.709763</td>\n",
       "      <td>600.000000</td>\n",
       "      <td>279.903254</td>\n",
       "    </tr>\n",
       "  </tbody>\n",
       "</table>\n",
       "</div>"
      ],
      "text/plain": [
       "                                 Cuisine   Name    MaxPrice              \\\n",
       "                                         Number     Minimum     Maximum   \n",
       "195                    Crab Specialities      1  536.615992  536.615992   \n",
       "530  Modern Cuisine, French Contemporary      1  444.912856  444.912856   \n",
       "173             Corsican, Modern Cuisine      1  321.899736  321.899736   \n",
       "210             Creative, Classic French      1  300.791557  300.791557   \n",
       "90              Chinese, Beijing Cuisine      1  300.000000  300.000000   \n",
       "563                Modern French, French      2  277.022263  322.353178   \n",
       "421                    Japanese, Seafood      1  295.000000  295.000000   \n",
       "155                 Contemporary, French      5   68.601583  450.000000   \n",
       "298                    Fugu / Pufferfish      4  260.642053  314.303653   \n",
       "167                Contemporary, Seafood      3   89.709763  600.000000   \n",
       "\n",
       "                 \n",
       "        Average  \n",
       "195  536.615992  \n",
       "530  444.912856  \n",
       "173  321.899736  \n",
       "210  300.791557  \n",
       "90   300.000000  \n",
       "563  299.687720  \n",
       "421  295.000000  \n",
       "155  289.320317  \n",
       "298  283.639882  \n",
       "167  279.903254  "
      ]
     },
     "execution_count": 95,
     "metadata": {},
     "output_type": "execute_result"
    }
   ],
   "source": [
    "max_by_cuisine = michelin.groupby('Cuisine', as_index=False).agg({'Name': 'count','MaxPrice': ['min', 'max', 'mean']})\n",
    "max_by_cuisine.rename(columns={'count': 'Number','min': 'Minimum', 'max': 'Maximum', 'mean': 'Average'}, inplace=True)\n",
    "max_by_cuisine.sort_values(('MaxPrice', 'Average'), ascending=False, inplace=True)\n",
    "max_by_cuisine.head(10)"
   ]
  },
  {
   "cell_type": "markdown",
   "metadata": {},
   "source": [
    "Sorted by average maximum price, cuisines above are the top 10 expensive. The average maximum prices are all over $250. If you plan to visit restaurants with these cuisines, maybe you need to increase your budget. "
   ]
  },
  {
   "cell_type": "code",
   "execution_count": 96,
   "metadata": {},
   "outputs": [
    {
     "data": {
      "text/html": [
       "<div>\n",
       "<style scoped>\n",
       "    .dataframe tbody tr th:only-of-type {\n",
       "        vertical-align: middle;\n",
       "    }\n",
       "\n",
       "    .dataframe tbody tr th {\n",
       "        vertical-align: top;\n",
       "    }\n",
       "\n",
       "    .dataframe thead tr th {\n",
       "        text-align: left;\n",
       "    }\n",
       "</style>\n",
       "<table border=\"1\" class=\"dataframe\">\n",
       "  <thead>\n",
       "    <tr>\n",
       "      <th></th>\n",
       "      <th>Cuisine</th>\n",
       "      <th>Name</th>\n",
       "      <th colspan=\"3\" halign=\"left\">MinPrice</th>\n",
       "    </tr>\n",
       "    <tr>\n",
       "      <th></th>\n",
       "      <th></th>\n",
       "      <th>Number</th>\n",
       "      <th>Minimum</th>\n",
       "      <th>Maximum</th>\n",
       "      <th>Average</th>\n",
       "    </tr>\n",
       "  </thead>\n",
       "  <tbody>\n",
       "    <tr>\n",
       "      <th>700</th>\n",
       "      <td>Small eats</td>\n",
       "      <td>5</td>\n",
       "      <td>1.485928</td>\n",
       "      <td>13.472686</td>\n",
       "      <td>5.820987</td>\n",
       "    </tr>\n",
       "    <tr>\n",
       "      <th>465</th>\n",
       "      <td>Market Cuisine, Home Cooking</td>\n",
       "      <td>1</td>\n",
       "      <td>5.856744</td>\n",
       "      <td>5.856744</td>\n",
       "      <td>5.856744</td>\n",
       "    </tr>\n",
       "    <tr>\n",
       "      <th>699</th>\n",
       "      <td>Singaporean and Malaysian</td>\n",
       "      <td>1</td>\n",
       "      <td>6.366831</td>\n",
       "      <td>6.366831</td>\n",
       "      <td>6.366831</td>\n",
       "    </tr>\n",
       "    <tr>\n",
       "      <th>722</th>\n",
       "      <td>Street Food</td>\n",
       "      <td>142</td>\n",
       "      <td>0.471544</td>\n",
       "      <td>64.715611</td>\n",
       "      <td>6.898714</td>\n",
       "    </tr>\n",
       "    <tr>\n",
       "      <th>586</th>\n",
       "      <td>Onigiri</td>\n",
       "      <td>1</td>\n",
       "      <td>7.665943</td>\n",
       "      <td>7.665943</td>\n",
       "      <td>7.665943</td>\n",
       "    </tr>\n",
       "    <tr>\n",
       "      <th>620</th>\n",
       "      <td>Ramen</td>\n",
       "      <td>37</td>\n",
       "      <td>7.665943</td>\n",
       "      <td>19.100494</td>\n",
       "      <td>8.604723</td>\n",
       "    </tr>\n",
       "    <tr>\n",
       "      <th>688</th>\n",
       "      <td>Shanghainese, Sichuan</td>\n",
       "      <td>1</td>\n",
       "      <td>8.658891</td>\n",
       "      <td>8.658891</td>\n",
       "      <td>8.658891</td>\n",
       "    </tr>\n",
       "    <tr>\n",
       "      <th>776</th>\n",
       "      <td>Udon</td>\n",
       "      <td>17</td>\n",
       "      <td>7.665943</td>\n",
       "      <td>22.997828</td>\n",
       "      <td>8.820262</td>\n",
       "    </tr>\n",
       "    <tr>\n",
       "      <th>252</th>\n",
       "      <td>Curry</td>\n",
       "      <td>18</td>\n",
       "      <td>7.665943</td>\n",
       "      <td>15.331885</td>\n",
       "      <td>8.943600</td>\n",
       "    </tr>\n",
       "    <tr>\n",
       "      <th>576</th>\n",
       "      <td>Noodles</td>\n",
       "      <td>38</td>\n",
       "      <td>3.368171</td>\n",
       "      <td>39.744423</td>\n",
       "      <td>10.793053</td>\n",
       "    </tr>\n",
       "  </tbody>\n",
       "</table>\n",
       "</div>"
      ],
      "text/plain": [
       "                          Cuisine   Name  MinPrice                      \n",
       "                                  Number   Minimum    Maximum    Average\n",
       "700                    Small eats      5  1.485928  13.472686   5.820987\n",
       "465  Market Cuisine, Home Cooking      1  5.856744   5.856744   5.856744\n",
       "699     Singaporean and Malaysian      1  6.366831   6.366831   6.366831\n",
       "722                   Street Food    142  0.471544  64.715611   6.898714\n",
       "586                       Onigiri      1  7.665943   7.665943   7.665943\n",
       "620                         Ramen     37  7.665943  19.100494   8.604723\n",
       "688         Shanghainese, Sichuan      1  8.658891   8.658891   8.658891\n",
       "776                          Udon     17  7.665943  22.997828   8.820262\n",
       "252                         Curry     18  7.665943  15.331885   8.943600\n",
       "576                       Noodles     38  3.368171  39.744423  10.793053"
      ]
     },
     "execution_count": 96,
     "metadata": {},
     "output_type": "execute_result"
    }
   ],
   "source": [
    "min_by_cuisine = michelin.groupby('Cuisine', as_index=False).agg({'Name': 'count','MinPrice': ['min', 'max', 'mean']})\n",
    "min_by_cuisine.rename(columns={'count': 'Number','min': 'Minimum', 'max': 'Maximum', 'mean': 'Average'}, inplace=True)\n",
    "min_by_cuisine.sort_values(('MinPrice', 'Average'), ascending=True, inplace=True)\n",
    "min_by_cuisine.head(10)"
   ]
  },
  {
   "cell_type": "markdown",
   "metadata": {},
   "source": [
    "Sorted by average minimum price, cuisines above are the top 10 affordable. Most of them have an average minimum price less than 10 dollars. If you have a tight budget, try them!"
   ]
  },
  {
   "cell_type": "markdown",
   "metadata": {},
   "source": [
    "Below is the top 10 cities with the highest average maximum price. If you plan to visit here, remember to prepare enough money."
   ]
  },
  {
   "cell_type": "code",
   "execution_count": 97,
   "metadata": {},
   "outputs": [
    {
     "data": {
      "text/html": [
       "<div>\n",
       "<style scoped>\n",
       "    .dataframe tbody tr th:only-of-type {\n",
       "        vertical-align: middle;\n",
       "    }\n",
       "\n",
       "    .dataframe tbody tr th {\n",
       "        vertical-align: top;\n",
       "    }\n",
       "\n",
       "    .dataframe thead tr th {\n",
       "        text-align: left;\n",
       "    }\n",
       "</style>\n",
       "<table border=\"1\" class=\"dataframe\">\n",
       "  <thead>\n",
       "    <tr>\n",
       "      <th></th>\n",
       "      <th>Location</th>\n",
       "      <th>Name</th>\n",
       "      <th colspan=\"3\" halign=\"left\">MaxPrice</th>\n",
       "    </tr>\n",
       "    <tr>\n",
       "      <th></th>\n",
       "      <th></th>\n",
       "      <th>Number</th>\n",
       "      <th>Minimum</th>\n",
       "      <th>Maximum</th>\n",
       "      <th>Average</th>\n",
       "    </tr>\n",
       "  </thead>\n",
       "  <tbody>\n",
       "    <tr>\n",
       "      <th>1163</th>\n",
       "      <td>Kruishoutem</td>\n",
       "      <td>1</td>\n",
       "      <td>559.366755</td>\n",
       "      <td>559.366755</td>\n",
       "      <td>559.366755</td>\n",
       "    </tr>\n",
       "    <tr>\n",
       "      <th>1416</th>\n",
       "      <td>Manigod</td>\n",
       "      <td>1</td>\n",
       "      <td>416.886544</td>\n",
       "      <td>416.886544</td>\n",
       "      <td>416.886544</td>\n",
       "    </tr>\n",
       "    <tr>\n",
       "      <th>1485</th>\n",
       "      <td>Menton</td>\n",
       "      <td>1</td>\n",
       "      <td>401.055409</td>\n",
       "      <td>401.055409</td>\n",
       "      <td>401.055409</td>\n",
       "    </tr>\n",
       "    <tr>\n",
       "      <th>1162</th>\n",
       "      <td>Kruiningen</td>\n",
       "      <td>1</td>\n",
       "      <td>401.055409</td>\n",
       "      <td>401.055409</td>\n",
       "      <td>401.055409</td>\n",
       "    </tr>\n",
       "    <tr>\n",
       "      <th>378</th>\n",
       "      <td>Brusaporto</td>\n",
       "      <td>1</td>\n",
       "      <td>401.055409</td>\n",
       "      <td>401.055409</td>\n",
       "      <td>401.055409</td>\n",
       "    </tr>\n",
       "    <tr>\n",
       "      <th>2506</th>\n",
       "      <td>Vejle</td>\n",
       "      <td>2</td>\n",
       "      <td>325.373472</td>\n",
       "      <td>466.840199</td>\n",
       "      <td>396.106836</td>\n",
       "    </tr>\n",
       "    <tr>\n",
       "      <th>643</th>\n",
       "      <td>Crissier</td>\n",
       "      <td>1</td>\n",
       "      <td>392.867936</td>\n",
       "      <td>392.867936</td>\n",
       "      <td>392.867936</td>\n",
       "    </tr>\n",
       "    <tr>\n",
       "      <th>1388</th>\n",
       "      <td>Machynlleth</td>\n",
       "      <td>1</td>\n",
       "      <td>370.050574</td>\n",
       "      <td>370.050574</td>\n",
       "      <td>370.050574</td>\n",
       "    </tr>\n",
       "    <tr>\n",
       "      <th>1723</th>\n",
       "      <td>Ouches</td>\n",
       "      <td>1</td>\n",
       "      <td>348.284960</td>\n",
       "      <td>348.284960</td>\n",
       "      <td>348.284960</td>\n",
       "    </tr>\n",
       "    <tr>\n",
       "      <th>2532</th>\n",
       "      <td>Veyrier-du-Lac</td>\n",
       "      <td>1</td>\n",
       "      <td>348.284960</td>\n",
       "      <td>348.284960</td>\n",
       "      <td>348.284960</td>\n",
       "    </tr>\n",
       "  </tbody>\n",
       "</table>\n",
       "</div>"
      ],
      "text/plain": [
       "            Location   Name    MaxPrice                        \n",
       "                     Number     Minimum     Maximum     Average\n",
       "1163     Kruishoutem      1  559.366755  559.366755  559.366755\n",
       "1416         Manigod      1  416.886544  416.886544  416.886544\n",
       "1485          Menton      1  401.055409  401.055409  401.055409\n",
       "1162      Kruiningen      1  401.055409  401.055409  401.055409\n",
       "378       Brusaporto      1  401.055409  401.055409  401.055409\n",
       "2506           Vejle      2  325.373472  466.840199  396.106836\n",
       "643         Crissier      1  392.867936  392.867936  392.867936\n",
       "1388     Machynlleth      1  370.050574  370.050574  370.050574\n",
       "1723          Ouches      1  348.284960  348.284960  348.284960\n",
       "2532  Veyrier-du-Lac      1  348.284960  348.284960  348.284960"
      ]
     },
     "execution_count": 97,
     "metadata": {},
     "output_type": "execute_result"
    }
   ],
   "source": [
    "max_by_city = michelin.groupby('Location', as_index=False).agg({'Name': 'count','MaxPrice': ['min', 'max', 'mean']})\n",
    "max_by_city.rename(columns={'count': 'Number','min': 'Minimum', 'max': 'Maximum', 'mean': 'Average'}, inplace=True)\n",
    "max_by_city.sort_values(('MaxPrice', 'Average'), ascending=False, inplace=True)\n",
    "max_by_city.head(10)"
   ]
  },
  {
   "cell_type": "markdown",
   "metadata": {},
   "source": [
    "So, what cities have the top 10 lowest average minimum price? It seems like Chiang Mai is a good place to visit for the number of Micheline restaurants it has and their prices."
   ]
  },
  {
   "cell_type": "code",
   "execution_count": 98,
   "metadata": {},
   "outputs": [
    {
     "data": {
      "text/html": [
       "<div>\n",
       "<style scoped>\n",
       "    .dataframe tbody tr th:only-of-type {\n",
       "        vertical-align: middle;\n",
       "    }\n",
       "\n",
       "    .dataframe tbody tr th {\n",
       "        vertical-align: top;\n",
       "    }\n",
       "\n",
       "    .dataframe thead tr th {\n",
       "        text-align: left;\n",
       "    }\n",
       "</style>\n",
       "<table border=\"1\" class=\"dataframe\">\n",
       "  <thead>\n",
       "    <tr>\n",
       "      <th></th>\n",
       "      <th>Location</th>\n",
       "      <th>Name</th>\n",
       "      <th colspan=\"3\" halign=\"left\">MinPrice</th>\n",
       "    </tr>\n",
       "    <tr>\n",
       "      <th></th>\n",
       "      <th></th>\n",
       "      <th>Number</th>\n",
       "      <th>Minimum</th>\n",
       "      <th>Maximum</th>\n",
       "      <th>Average</th>\n",
       "    </tr>\n",
       "  </thead>\n",
       "  <tbody>\n",
       "    <tr>\n",
       "      <th>1592</th>\n",
       "      <td>Nakhon Pathom</td>\n",
       "      <td>1</td>\n",
       "      <td>2.748111</td>\n",
       "      <td>2.748111</td>\n",
       "      <td>2.748111</td>\n",
       "    </tr>\n",
       "    <tr>\n",
       "      <th>1908</th>\n",
       "      <td>Quintanar de la Orden</td>\n",
       "      <td>1</td>\n",
       "      <td>10.554090</td>\n",
       "      <td>10.554090</td>\n",
       "      <td>10.554090</td>\n",
       "    </tr>\n",
       "    <tr>\n",
       "      <th>1772</th>\n",
       "      <td>Pedra Furada</td>\n",
       "      <td>1</td>\n",
       "      <td>10.554090</td>\n",
       "      <td>10.554090</td>\n",
       "      <td>10.554090</td>\n",
       "    </tr>\n",
       "    <tr>\n",
       "      <th>581</th>\n",
       "      <td>Coimbra</td>\n",
       "      <td>1</td>\n",
       "      <td>10.554090</td>\n",
       "      <td>10.554090</td>\n",
       "      <td>10.554090</td>\n",
       "    </tr>\n",
       "    <tr>\n",
       "      <th>9</th>\n",
       "      <td>Abrantes</td>\n",
       "      <td>1</td>\n",
       "      <td>10.554090</td>\n",
       "      <td>10.554090</td>\n",
       "      <td>10.554090</td>\n",
       "    </tr>\n",
       "    <tr>\n",
       "      <th>2305</th>\n",
       "      <td>Split</td>\n",
       "      <td>1</td>\n",
       "      <td>11.206051</td>\n",
       "      <td>11.206051</td>\n",
       "      <td>11.206051</td>\n",
       "    </tr>\n",
       "    <tr>\n",
       "      <th>2155</th>\n",
       "      <td>Sant Climent de Llobregat</td>\n",
       "      <td>1</td>\n",
       "      <td>11.609499</td>\n",
       "      <td>11.609499</td>\n",
       "      <td>11.609499</td>\n",
       "    </tr>\n",
       "    <tr>\n",
       "      <th>1887</th>\n",
       "      <td>Puente-Genil</td>\n",
       "      <td>1</td>\n",
       "      <td>11.609499</td>\n",
       "      <td>11.609499</td>\n",
       "      <td>11.609499</td>\n",
       "    </tr>\n",
       "    <tr>\n",
       "      <th>548</th>\n",
       "      <td>Chiang Mai</td>\n",
       "      <td>23</td>\n",
       "      <td>0.578550</td>\n",
       "      <td>37.605730</td>\n",
       "      <td>12.375933</td>\n",
       "    </tr>\n",
       "    <tr>\n",
       "      <th>796</th>\n",
       "      <td>Esteiro</td>\n",
       "      <td>1</td>\n",
       "      <td>12.664908</td>\n",
       "      <td>12.664908</td>\n",
       "      <td>12.664908</td>\n",
       "    </tr>\n",
       "  </tbody>\n",
       "</table>\n",
       "</div>"
      ],
      "text/plain": [
       "                       Location   Name   MinPrice                      \n",
       "                                Number    Minimum    Maximum    Average\n",
       "1592              Nakhon Pathom      1   2.748111   2.748111   2.748111\n",
       "1908      Quintanar de la Orden      1  10.554090  10.554090  10.554090\n",
       "1772               Pedra Furada      1  10.554090  10.554090  10.554090\n",
       "581                     Coimbra      1  10.554090  10.554090  10.554090\n",
       "9                      Abrantes      1  10.554090  10.554090  10.554090\n",
       "2305                      Split      1  11.206051  11.206051  11.206051\n",
       "2155  Sant Climent de Llobregat      1  11.609499  11.609499  11.609499\n",
       "1887               Puente-Genil      1  11.609499  11.609499  11.609499\n",
       "548                  Chiang Mai     23   0.578550  37.605730  12.375933\n",
       "796                     Esteiro      1  12.664908  12.664908  12.664908"
      ]
     },
     "execution_count": 98,
     "metadata": {},
     "output_type": "execute_result"
    }
   ],
   "source": [
    "min_by_city = michelin.groupby('Location', as_index=False).agg({'Name': 'count','MinPrice': ['min', 'max', 'mean']})\n",
    "min_by_city.rename(columns={'count': 'Number','min': 'Minimum', 'max': 'Maximum', 'mean': 'Average'}, inplace=True)\n",
    "min_by_city.sort_values(('MinPrice', 'Average'), ascending=True, inplace=True)\n",
    "min_by_city.head(10)"
   ]
  },
  {
   "cell_type": "markdown",
   "metadata": {},
   "source": [
    "As mentioned in data description. Stars are important for chefs. Let's check the 3-star Michelin restaurants cuisine break down."
   ]
  },
  {
   "cell_type": "code",
   "execution_count": 99,
   "metadata": {},
   "outputs": [
    {
     "data": {
      "application/vnd.plotly.v1+json": {
       "config": {
        "plotlyServerURL": "https://plot.ly"
       },
       "data": [
        {
         "domain": {
          "x": [
           0,
           1
          ],
          "y": [
           0,
           1
          ]
         },
         "hovertemplate": "Cuisine=%{label}<extra></extra>",
         "labels": [
          "Creative, Modern Cuisine",
          "Creative",
          "Creative",
          "Creative",
          "Modern Cuisine, Creative",
          "Classic French",
          "Classic French, Creative",
          "Modern French, Creative",
          "Classic French",
          "Creative",
          "Creative",
          "Classic French",
          "French",
          "Modern Cuisine",
          "Modern British",
          "Modern French",
          "French",
          "Creative, Contemporary",
          "Taizhou",
          "Vegetarian",
          "Cantonese",
          "French Contemporary",
          "Cantonese",
          "Italian",
          "Cantonese",
          "Sushi",
          "French Contemporary",
          "Cantonese",
          "Cantonese",
          "French Contemporary",
          "Creative",
          "Creative",
          "Creative, Innovative",
          "Creative",
          "Creative",
          "Modern Cuisine",
          "Creative",
          "Creative, Traditional Cuisine",
          "Creative, Traditional Cuisine",
          "Creative",
          "Creative",
          "French",
          "Chinese",
          "Japanese",
          "Japanese",
          "French",
          "French",
          "Japanese",
          "French",
          "Japanese",
          "Sushi",
          "Japanese",
          "Japanese",
          "Korean",
          "Korean",
          "Modern Cuisine, Italian",
          "Creative",
          "Creative, Contemporary",
          "Creative",
          "Modern Cuisine, Contemporary",
          "Creative, Alpine",
          "Creative, Innovative",
          "Modern Cuisine",
          "Creative, Modern Cuisine",
          "Creative, Seafood",
          "Modern Cuisine, Contemporary",
          "Innovative",
          "Innovative",
          "Japanese",
          "Innovative",
          "Japanese",
          "Japanese",
          "Japanese",
          "Japanese",
          "Japanese",
          "Japanese",
          "Japanese",
          "Contemporary, French",
          "Contemporary, Californian",
          "Contemporary, Californian",
          "Contemporary, French",
          "Asian, Contemporary",
          "Contemporary, Californian",
          "Modern Cuisine",
          "Modern Cuisine, Creative",
          "Creative, Contemporary",
          "Creative",
          "French Contemporary",
          "French",
          "European Contemporary",
          "Cantonese",
          "Contemporary, Innovative",
          "Contemporary, French",
          "Japanese, Sushi",
          "Seafood",
          "Contemporary",
          "Contemporary, Creative",
          "American, French",
          "Modern Cuisine",
          "Modern Cuisine",
          "Classic French",
          "Classic French",
          "Creative, Country cooking",
          "Mediterranean Cuisine, Modern Cuisine",
          "Creative",
          "Classic Cuisine",
          "Classic Cuisine",
          "Creative, Modern Cuisine",
          "Creative",
          "Creative, Regional Cuisine",
          "Creative",
          "Creative, Modern Cuisine",
          "Creative",
          "Creative",
          "Creative",
          "Creative",
          "Creative, Modern Cuisine",
          "Classic Cuisine",
          "Modern Cuisine",
          "Modern Cuisine",
          "Modern Cuisine",
          "Creative",
          "Modern Cuisine",
          "Creative",
          "Creative",
          "Creative",
          "Modern Cuisine",
          "Modern Cuisine",
          "Seafood",
          "Seafood",
          "Creative",
          "Creative",
          "Creative",
          "Creative"
         ],
         "legendgroup": "",
         "name": "",
         "showlegend": true,
         "type": "pie"
        }
       ],
       "layout": {
        "height": 700,
        "legend": {
         "tracegroupgap": 0
        },
        "template": {
         "data": {
          "bar": [
           {
            "error_x": {
             "color": "#2a3f5f"
            },
            "error_y": {
             "color": "#2a3f5f"
            },
            "marker": {
             "line": {
              "color": "#E5ECF6",
              "width": 0.5
             },
             "pattern": {
              "fillmode": "overlay",
              "size": 10,
              "solidity": 0.2
             }
            },
            "type": "bar"
           }
          ],
          "barpolar": [
           {
            "marker": {
             "line": {
              "color": "#E5ECF6",
              "width": 0.5
             },
             "pattern": {
              "fillmode": "overlay",
              "size": 10,
              "solidity": 0.2
             }
            },
            "type": "barpolar"
           }
          ],
          "carpet": [
           {
            "aaxis": {
             "endlinecolor": "#2a3f5f",
             "gridcolor": "white",
             "linecolor": "white",
             "minorgridcolor": "white",
             "startlinecolor": "#2a3f5f"
            },
            "baxis": {
             "endlinecolor": "#2a3f5f",
             "gridcolor": "white",
             "linecolor": "white",
             "minorgridcolor": "white",
             "startlinecolor": "#2a3f5f"
            },
            "type": "carpet"
           }
          ],
          "choropleth": [
           {
            "colorbar": {
             "outlinewidth": 0,
             "ticks": ""
            },
            "type": "choropleth"
           }
          ],
          "contour": [
           {
            "colorbar": {
             "outlinewidth": 0,
             "ticks": ""
            },
            "colorscale": [
             [
              0,
              "#0d0887"
             ],
             [
              0.1111111111111111,
              "#46039f"
             ],
             [
              0.2222222222222222,
              "#7201a8"
             ],
             [
              0.3333333333333333,
              "#9c179e"
             ],
             [
              0.4444444444444444,
              "#bd3786"
             ],
             [
              0.5555555555555556,
              "#d8576b"
             ],
             [
              0.6666666666666666,
              "#ed7953"
             ],
             [
              0.7777777777777778,
              "#fb9f3a"
             ],
             [
              0.8888888888888888,
              "#fdca26"
             ],
             [
              1,
              "#f0f921"
             ]
            ],
            "type": "contour"
           }
          ],
          "contourcarpet": [
           {
            "colorbar": {
             "outlinewidth": 0,
             "ticks": ""
            },
            "type": "contourcarpet"
           }
          ],
          "heatmap": [
           {
            "colorbar": {
             "outlinewidth": 0,
             "ticks": ""
            },
            "colorscale": [
             [
              0,
              "#0d0887"
             ],
             [
              0.1111111111111111,
              "#46039f"
             ],
             [
              0.2222222222222222,
              "#7201a8"
             ],
             [
              0.3333333333333333,
              "#9c179e"
             ],
             [
              0.4444444444444444,
              "#bd3786"
             ],
             [
              0.5555555555555556,
              "#d8576b"
             ],
             [
              0.6666666666666666,
              "#ed7953"
             ],
             [
              0.7777777777777778,
              "#fb9f3a"
             ],
             [
              0.8888888888888888,
              "#fdca26"
             ],
             [
              1,
              "#f0f921"
             ]
            ],
            "type": "heatmap"
           }
          ],
          "heatmapgl": [
           {
            "colorbar": {
             "outlinewidth": 0,
             "ticks": ""
            },
            "colorscale": [
             [
              0,
              "#0d0887"
             ],
             [
              0.1111111111111111,
              "#46039f"
             ],
             [
              0.2222222222222222,
              "#7201a8"
             ],
             [
              0.3333333333333333,
              "#9c179e"
             ],
             [
              0.4444444444444444,
              "#bd3786"
             ],
             [
              0.5555555555555556,
              "#d8576b"
             ],
             [
              0.6666666666666666,
              "#ed7953"
             ],
             [
              0.7777777777777778,
              "#fb9f3a"
             ],
             [
              0.8888888888888888,
              "#fdca26"
             ],
             [
              1,
              "#f0f921"
             ]
            ],
            "type": "heatmapgl"
           }
          ],
          "histogram": [
           {
            "marker": {
             "pattern": {
              "fillmode": "overlay",
              "size": 10,
              "solidity": 0.2
             }
            },
            "type": "histogram"
           }
          ],
          "histogram2d": [
           {
            "colorbar": {
             "outlinewidth": 0,
             "ticks": ""
            },
            "colorscale": [
             [
              0,
              "#0d0887"
             ],
             [
              0.1111111111111111,
              "#46039f"
             ],
             [
              0.2222222222222222,
              "#7201a8"
             ],
             [
              0.3333333333333333,
              "#9c179e"
             ],
             [
              0.4444444444444444,
              "#bd3786"
             ],
             [
              0.5555555555555556,
              "#d8576b"
             ],
             [
              0.6666666666666666,
              "#ed7953"
             ],
             [
              0.7777777777777778,
              "#fb9f3a"
             ],
             [
              0.8888888888888888,
              "#fdca26"
             ],
             [
              1,
              "#f0f921"
             ]
            ],
            "type": "histogram2d"
           }
          ],
          "histogram2dcontour": [
           {
            "colorbar": {
             "outlinewidth": 0,
             "ticks": ""
            },
            "colorscale": [
             [
              0,
              "#0d0887"
             ],
             [
              0.1111111111111111,
              "#46039f"
             ],
             [
              0.2222222222222222,
              "#7201a8"
             ],
             [
              0.3333333333333333,
              "#9c179e"
             ],
             [
              0.4444444444444444,
              "#bd3786"
             ],
             [
              0.5555555555555556,
              "#d8576b"
             ],
             [
              0.6666666666666666,
              "#ed7953"
             ],
             [
              0.7777777777777778,
              "#fb9f3a"
             ],
             [
              0.8888888888888888,
              "#fdca26"
             ],
             [
              1,
              "#f0f921"
             ]
            ],
            "type": "histogram2dcontour"
           }
          ],
          "mesh3d": [
           {
            "colorbar": {
             "outlinewidth": 0,
             "ticks": ""
            },
            "type": "mesh3d"
           }
          ],
          "parcoords": [
           {
            "line": {
             "colorbar": {
              "outlinewidth": 0,
              "ticks": ""
             }
            },
            "type": "parcoords"
           }
          ],
          "pie": [
           {
            "automargin": true,
            "type": "pie"
           }
          ],
          "scatter": [
           {
            "marker": {
             "colorbar": {
              "outlinewidth": 0,
              "ticks": ""
             }
            },
            "type": "scatter"
           }
          ],
          "scatter3d": [
           {
            "line": {
             "colorbar": {
              "outlinewidth": 0,
              "ticks": ""
             }
            },
            "marker": {
             "colorbar": {
              "outlinewidth": 0,
              "ticks": ""
             }
            },
            "type": "scatter3d"
           }
          ],
          "scattercarpet": [
           {
            "marker": {
             "colorbar": {
              "outlinewidth": 0,
              "ticks": ""
             }
            },
            "type": "scattercarpet"
           }
          ],
          "scattergeo": [
           {
            "marker": {
             "colorbar": {
              "outlinewidth": 0,
              "ticks": ""
             }
            },
            "type": "scattergeo"
           }
          ],
          "scattergl": [
           {
            "marker": {
             "colorbar": {
              "outlinewidth": 0,
              "ticks": ""
             }
            },
            "type": "scattergl"
           }
          ],
          "scattermapbox": [
           {
            "marker": {
             "colorbar": {
              "outlinewidth": 0,
              "ticks": ""
             }
            },
            "type": "scattermapbox"
           }
          ],
          "scatterpolar": [
           {
            "marker": {
             "colorbar": {
              "outlinewidth": 0,
              "ticks": ""
             }
            },
            "type": "scatterpolar"
           }
          ],
          "scatterpolargl": [
           {
            "marker": {
             "colorbar": {
              "outlinewidth": 0,
              "ticks": ""
             }
            },
            "type": "scatterpolargl"
           }
          ],
          "scatterternary": [
           {
            "marker": {
             "colorbar": {
              "outlinewidth": 0,
              "ticks": ""
             }
            },
            "type": "scatterternary"
           }
          ],
          "surface": [
           {
            "colorbar": {
             "outlinewidth": 0,
             "ticks": ""
            },
            "colorscale": [
             [
              0,
              "#0d0887"
             ],
             [
              0.1111111111111111,
              "#46039f"
             ],
             [
              0.2222222222222222,
              "#7201a8"
             ],
             [
              0.3333333333333333,
              "#9c179e"
             ],
             [
              0.4444444444444444,
              "#bd3786"
             ],
             [
              0.5555555555555556,
              "#d8576b"
             ],
             [
              0.6666666666666666,
              "#ed7953"
             ],
             [
              0.7777777777777778,
              "#fb9f3a"
             ],
             [
              0.8888888888888888,
              "#fdca26"
             ],
             [
              1,
              "#f0f921"
             ]
            ],
            "type": "surface"
           }
          ],
          "table": [
           {
            "cells": {
             "fill": {
              "color": "#EBF0F8"
             },
             "line": {
              "color": "white"
             }
            },
            "header": {
             "fill": {
              "color": "#C8D4E3"
             },
             "line": {
              "color": "white"
             }
            },
            "type": "table"
           }
          ]
         },
         "layout": {
          "annotationdefaults": {
           "arrowcolor": "#2a3f5f",
           "arrowhead": 0,
           "arrowwidth": 1
          },
          "autotypenumbers": "strict",
          "coloraxis": {
           "colorbar": {
            "outlinewidth": 0,
            "ticks": ""
           }
          },
          "colorscale": {
           "diverging": [
            [
             0,
             "#8e0152"
            ],
            [
             0.1,
             "#c51b7d"
            ],
            [
             0.2,
             "#de77ae"
            ],
            [
             0.3,
             "#f1b6da"
            ],
            [
             0.4,
             "#fde0ef"
            ],
            [
             0.5,
             "#f7f7f7"
            ],
            [
             0.6,
             "#e6f5d0"
            ],
            [
             0.7,
             "#b8e186"
            ],
            [
             0.8,
             "#7fbc41"
            ],
            [
             0.9,
             "#4d9221"
            ],
            [
             1,
             "#276419"
            ]
           ],
           "sequential": [
            [
             0,
             "#0d0887"
            ],
            [
             0.1111111111111111,
             "#46039f"
            ],
            [
             0.2222222222222222,
             "#7201a8"
            ],
            [
             0.3333333333333333,
             "#9c179e"
            ],
            [
             0.4444444444444444,
             "#bd3786"
            ],
            [
             0.5555555555555556,
             "#d8576b"
            ],
            [
             0.6666666666666666,
             "#ed7953"
            ],
            [
             0.7777777777777778,
             "#fb9f3a"
            ],
            [
             0.8888888888888888,
             "#fdca26"
            ],
            [
             1,
             "#f0f921"
            ]
           ],
           "sequentialminus": [
            [
             0,
             "#0d0887"
            ],
            [
             0.1111111111111111,
             "#46039f"
            ],
            [
             0.2222222222222222,
             "#7201a8"
            ],
            [
             0.3333333333333333,
             "#9c179e"
            ],
            [
             0.4444444444444444,
             "#bd3786"
            ],
            [
             0.5555555555555556,
             "#d8576b"
            ],
            [
             0.6666666666666666,
             "#ed7953"
            ],
            [
             0.7777777777777778,
             "#fb9f3a"
            ],
            [
             0.8888888888888888,
             "#fdca26"
            ],
            [
             1,
             "#f0f921"
            ]
           ]
          },
          "colorway": [
           "#636efa",
           "#EF553B",
           "#00cc96",
           "#ab63fa",
           "#FFA15A",
           "#19d3f3",
           "#FF6692",
           "#B6E880",
           "#FF97FF",
           "#FECB52"
          ],
          "font": {
           "color": "#2a3f5f"
          },
          "geo": {
           "bgcolor": "white",
           "lakecolor": "white",
           "landcolor": "#E5ECF6",
           "showlakes": true,
           "showland": true,
           "subunitcolor": "white"
          },
          "hoverlabel": {
           "align": "left"
          },
          "hovermode": "closest",
          "mapbox": {
           "style": "light"
          },
          "paper_bgcolor": "white",
          "plot_bgcolor": "#E5ECF6",
          "polar": {
           "angularaxis": {
            "gridcolor": "white",
            "linecolor": "white",
            "ticks": ""
           },
           "bgcolor": "#E5ECF6",
           "radialaxis": {
            "gridcolor": "white",
            "linecolor": "white",
            "ticks": ""
           }
          },
          "scene": {
           "xaxis": {
            "backgroundcolor": "#E5ECF6",
            "gridcolor": "white",
            "gridwidth": 2,
            "linecolor": "white",
            "showbackground": true,
            "ticks": "",
            "zerolinecolor": "white"
           },
           "yaxis": {
            "backgroundcolor": "#E5ECF6",
            "gridcolor": "white",
            "gridwidth": 2,
            "linecolor": "white",
            "showbackground": true,
            "ticks": "",
            "zerolinecolor": "white"
           },
           "zaxis": {
            "backgroundcolor": "#E5ECF6",
            "gridcolor": "white",
            "gridwidth": 2,
            "linecolor": "white",
            "showbackground": true,
            "ticks": "",
            "zerolinecolor": "white"
           }
          },
          "shapedefaults": {
           "line": {
            "color": "#2a3f5f"
           }
          },
          "ternary": {
           "aaxis": {
            "gridcolor": "white",
            "linecolor": "white",
            "ticks": ""
           },
           "baxis": {
            "gridcolor": "white",
            "linecolor": "white",
            "ticks": ""
           },
           "bgcolor": "#E5ECF6",
           "caxis": {
            "gridcolor": "white",
            "linecolor": "white",
            "ticks": ""
           }
          },
          "title": {
           "x": 0.05
          },
          "xaxis": {
           "automargin": true,
           "gridcolor": "white",
           "linecolor": "white",
           "ticks": "",
           "title": {
            "standoff": 15
           },
           "zerolinecolor": "white",
           "zerolinewidth": 2
          },
          "yaxis": {
           "automargin": true,
           "gridcolor": "white",
           "linecolor": "white",
           "ticks": "",
           "title": {
            "standoff": 15
           },
           "zerolinecolor": "white",
           "zerolinewidth": 2
          }
         }
        },
        "title": {
         "text": "Three star Michelin restaurant cuisine breakdown"
        },
        "width": 800
       }
      },
      "text/html": [
       "<div>                            <div id=\"d46da0f8-347d-4589-9293-21d54e937a22\" class=\"plotly-graph-div\" style=\"height:700px; width:800px;\"></div>            <script type=\"text/javascript\">                require([\"plotly\"], function(Plotly) {                    window.PLOTLYENV=window.PLOTLYENV || {};                                    if (document.getElementById(\"d46da0f8-347d-4589-9293-21d54e937a22\")) {                    Plotly.newPlot(                        \"d46da0f8-347d-4589-9293-21d54e937a22\",                        [{\"domain\":{\"x\":[0.0,1.0],\"y\":[0.0,1.0]},\"hovertemplate\":\"Cuisine=%{label}<extra></extra>\",\"labels\":[\"Creative, Modern Cuisine\",\"Creative\",\"Creative\",\"Creative\",\"Modern Cuisine, Creative\",\"Classic French\",\"Classic French, Creative\",\"Modern French, Creative\",\"Classic French\",\"Creative\",\"Creative\",\"Classic French\",\"French\",\"Modern Cuisine\",\"Modern British\",\"Modern French\",\"French\",\"Creative, Contemporary\",\"Taizhou\",\"Vegetarian\",\"Cantonese\",\"French Contemporary\",\"Cantonese\",\"Italian\",\"Cantonese\",\"Sushi\",\"French Contemporary\",\"Cantonese\",\"Cantonese\",\"French Contemporary\",\"Creative\",\"Creative\",\"Creative, Innovative\",\"Creative\",\"Creative\",\"Modern Cuisine\",\"Creative\",\"Creative, Traditional Cuisine\",\"Creative, Traditional Cuisine\",\"Creative\",\"Creative\",\"French\",\"Chinese\",\"Japanese\",\"Japanese\",\"French\",\"French\",\"Japanese\",\"French\",\"Japanese\",\"Sushi\",\"Japanese\",\"Japanese\",\"Korean\",\"Korean\",\"Modern Cuisine, Italian\",\"Creative\",\"Creative, Contemporary\",\"Creative\",\"Modern Cuisine, Contemporary\",\"Creative, Alpine\",\"Creative, Innovative\",\"Modern Cuisine\",\"Creative, Modern Cuisine\",\"Creative, Seafood\",\"Modern Cuisine, Contemporary\",\"Innovative\",\"Innovative\",\"Japanese\",\"Innovative\",\"Japanese\",\"Japanese\",\"Japanese\",\"Japanese\",\"Japanese\",\"Japanese\",\"Japanese\",\"Contemporary, French\",\"Contemporary, Californian\",\"Contemporary, Californian\",\"Contemporary, French\",\"Asian, Contemporary\",\"Contemporary, Californian\",\"Modern Cuisine\",\"Modern Cuisine, Creative\",\"Creative, Contemporary\",\"Creative\",\"French Contemporary\",\"French\",\"European Contemporary\",\"Cantonese\",\"Contemporary, Innovative\",\"Contemporary, French\",\"Japanese, Sushi\",\"Seafood\",\"Contemporary\",\"Contemporary, Creative\",\"American, French\",\"Modern Cuisine\",\"Modern Cuisine\",\"Classic French\",\"Classic French\",\"Creative, Country cooking\",\"Mediterranean Cuisine, Modern Cuisine\",\"Creative\",\"Classic Cuisine\",\"Classic Cuisine\",\"Creative, Modern Cuisine\",\"Creative\",\"Creative, Regional Cuisine\",\"Creative\",\"Creative, Modern Cuisine\",\"Creative\",\"Creative\",\"Creative\",\"Creative\",\"Creative, Modern Cuisine\",\"Classic Cuisine\",\"Modern Cuisine\",\"Modern Cuisine\",\"Modern Cuisine\",\"Creative\",\"Modern Cuisine\",\"Creative\",\"Creative\",\"Creative\",\"Modern Cuisine\",\"Modern Cuisine\",\"Seafood\",\"Seafood\",\"Creative\",\"Creative\",\"Creative\",\"Creative\"],\"legendgroup\":\"\",\"name\":\"\",\"showlegend\":true,\"type\":\"pie\"}],                        {\"template\":{\"data\":{\"bar\":[{\"error_x\":{\"color\":\"#2a3f5f\"},\"error_y\":{\"color\":\"#2a3f5f\"},\"marker\":{\"line\":{\"color\":\"#E5ECF6\",\"width\":0.5},\"pattern\":{\"fillmode\":\"overlay\",\"size\":10,\"solidity\":0.2}},\"type\":\"bar\"}],\"barpolar\":[{\"marker\":{\"line\":{\"color\":\"#E5ECF6\",\"width\":0.5},\"pattern\":{\"fillmode\":\"overlay\",\"size\":10,\"solidity\":0.2}},\"type\":\"barpolar\"}],\"carpet\":[{\"aaxis\":{\"endlinecolor\":\"#2a3f5f\",\"gridcolor\":\"white\",\"linecolor\":\"white\",\"minorgridcolor\":\"white\",\"startlinecolor\":\"#2a3f5f\"},\"baxis\":{\"endlinecolor\":\"#2a3f5f\",\"gridcolor\":\"white\",\"linecolor\":\"white\",\"minorgridcolor\":\"white\",\"startlinecolor\":\"#2a3f5f\"},\"type\":\"carpet\"}],\"choropleth\":[{\"colorbar\":{\"outlinewidth\":0,\"ticks\":\"\"},\"type\":\"choropleth\"}],\"contour\":[{\"colorbar\":{\"outlinewidth\":0,\"ticks\":\"\"},\"colorscale\":[[0.0,\"#0d0887\"],[0.1111111111111111,\"#46039f\"],[0.2222222222222222,\"#7201a8\"],[0.3333333333333333,\"#9c179e\"],[0.4444444444444444,\"#bd3786\"],[0.5555555555555556,\"#d8576b\"],[0.6666666666666666,\"#ed7953\"],[0.7777777777777778,\"#fb9f3a\"],[0.8888888888888888,\"#fdca26\"],[1.0,\"#f0f921\"]],\"type\":\"contour\"}],\"contourcarpet\":[{\"colorbar\":{\"outlinewidth\":0,\"ticks\":\"\"},\"type\":\"contourcarpet\"}],\"heatmap\":[{\"colorbar\":{\"outlinewidth\":0,\"ticks\":\"\"},\"colorscale\":[[0.0,\"#0d0887\"],[0.1111111111111111,\"#46039f\"],[0.2222222222222222,\"#7201a8\"],[0.3333333333333333,\"#9c179e\"],[0.4444444444444444,\"#bd3786\"],[0.5555555555555556,\"#d8576b\"],[0.6666666666666666,\"#ed7953\"],[0.7777777777777778,\"#fb9f3a\"],[0.8888888888888888,\"#fdca26\"],[1.0,\"#f0f921\"]],\"type\":\"heatmap\"}],\"heatmapgl\":[{\"colorbar\":{\"outlinewidth\":0,\"ticks\":\"\"},\"colorscale\":[[0.0,\"#0d0887\"],[0.1111111111111111,\"#46039f\"],[0.2222222222222222,\"#7201a8\"],[0.3333333333333333,\"#9c179e\"],[0.4444444444444444,\"#bd3786\"],[0.5555555555555556,\"#d8576b\"],[0.6666666666666666,\"#ed7953\"],[0.7777777777777778,\"#fb9f3a\"],[0.8888888888888888,\"#fdca26\"],[1.0,\"#f0f921\"]],\"type\":\"heatmapgl\"}],\"histogram\":[{\"marker\":{\"pattern\":{\"fillmode\":\"overlay\",\"size\":10,\"solidity\":0.2}},\"type\":\"histogram\"}],\"histogram2d\":[{\"colorbar\":{\"outlinewidth\":0,\"ticks\":\"\"},\"colorscale\":[[0.0,\"#0d0887\"],[0.1111111111111111,\"#46039f\"],[0.2222222222222222,\"#7201a8\"],[0.3333333333333333,\"#9c179e\"],[0.4444444444444444,\"#bd3786\"],[0.5555555555555556,\"#d8576b\"],[0.6666666666666666,\"#ed7953\"],[0.7777777777777778,\"#fb9f3a\"],[0.8888888888888888,\"#fdca26\"],[1.0,\"#f0f921\"]],\"type\":\"histogram2d\"}],\"histogram2dcontour\":[{\"colorbar\":{\"outlinewidth\":0,\"ticks\":\"\"},\"colorscale\":[[0.0,\"#0d0887\"],[0.1111111111111111,\"#46039f\"],[0.2222222222222222,\"#7201a8\"],[0.3333333333333333,\"#9c179e\"],[0.4444444444444444,\"#bd3786\"],[0.5555555555555556,\"#d8576b\"],[0.6666666666666666,\"#ed7953\"],[0.7777777777777778,\"#fb9f3a\"],[0.8888888888888888,\"#fdca26\"],[1.0,\"#f0f921\"]],\"type\":\"histogram2dcontour\"}],\"mesh3d\":[{\"colorbar\":{\"outlinewidth\":0,\"ticks\":\"\"},\"type\":\"mesh3d\"}],\"parcoords\":[{\"line\":{\"colorbar\":{\"outlinewidth\":0,\"ticks\":\"\"}},\"type\":\"parcoords\"}],\"pie\":[{\"automargin\":true,\"type\":\"pie\"}],\"scatter\":[{\"marker\":{\"colorbar\":{\"outlinewidth\":0,\"ticks\":\"\"}},\"type\":\"scatter\"}],\"scatter3d\":[{\"line\":{\"colorbar\":{\"outlinewidth\":0,\"ticks\":\"\"}},\"marker\":{\"colorbar\":{\"outlinewidth\":0,\"ticks\":\"\"}},\"type\":\"scatter3d\"}],\"scattercarpet\":[{\"marker\":{\"colorbar\":{\"outlinewidth\":0,\"ticks\":\"\"}},\"type\":\"scattercarpet\"}],\"scattergeo\":[{\"marker\":{\"colorbar\":{\"outlinewidth\":0,\"ticks\":\"\"}},\"type\":\"scattergeo\"}],\"scattergl\":[{\"marker\":{\"colorbar\":{\"outlinewidth\":0,\"ticks\":\"\"}},\"type\":\"scattergl\"}],\"scattermapbox\":[{\"marker\":{\"colorbar\":{\"outlinewidth\":0,\"ticks\":\"\"}},\"type\":\"scattermapbox\"}],\"scatterpolar\":[{\"marker\":{\"colorbar\":{\"outlinewidth\":0,\"ticks\":\"\"}},\"type\":\"scatterpolar\"}],\"scatterpolargl\":[{\"marker\":{\"colorbar\":{\"outlinewidth\":0,\"ticks\":\"\"}},\"type\":\"scatterpolargl\"}],\"scatterternary\":[{\"marker\":{\"colorbar\":{\"outlinewidth\":0,\"ticks\":\"\"}},\"type\":\"scatterternary\"}],\"surface\":[{\"colorbar\":{\"outlinewidth\":0,\"ticks\":\"\"},\"colorscale\":[[0.0,\"#0d0887\"],[0.1111111111111111,\"#46039f\"],[0.2222222222222222,\"#7201a8\"],[0.3333333333333333,\"#9c179e\"],[0.4444444444444444,\"#bd3786\"],[0.5555555555555556,\"#d8576b\"],[0.6666666666666666,\"#ed7953\"],[0.7777777777777778,\"#fb9f3a\"],[0.8888888888888888,\"#fdca26\"],[1.0,\"#f0f921\"]],\"type\":\"surface\"}],\"table\":[{\"cells\":{\"fill\":{\"color\":\"#EBF0F8\"},\"line\":{\"color\":\"white\"}},\"header\":{\"fill\":{\"color\":\"#C8D4E3\"},\"line\":{\"color\":\"white\"}},\"type\":\"table\"}]},\"layout\":{\"annotationdefaults\":{\"arrowcolor\":\"#2a3f5f\",\"arrowhead\":0,\"arrowwidth\":1},\"autotypenumbers\":\"strict\",\"coloraxis\":{\"colorbar\":{\"outlinewidth\":0,\"ticks\":\"\"}},\"colorscale\":{\"diverging\":[[0,\"#8e0152\"],[0.1,\"#c51b7d\"],[0.2,\"#de77ae\"],[0.3,\"#f1b6da\"],[0.4,\"#fde0ef\"],[0.5,\"#f7f7f7\"],[0.6,\"#e6f5d0\"],[0.7,\"#b8e186\"],[0.8,\"#7fbc41\"],[0.9,\"#4d9221\"],[1,\"#276419\"]],\"sequential\":[[0.0,\"#0d0887\"],[0.1111111111111111,\"#46039f\"],[0.2222222222222222,\"#7201a8\"],[0.3333333333333333,\"#9c179e\"],[0.4444444444444444,\"#bd3786\"],[0.5555555555555556,\"#d8576b\"],[0.6666666666666666,\"#ed7953\"],[0.7777777777777778,\"#fb9f3a\"],[0.8888888888888888,\"#fdca26\"],[1.0,\"#f0f921\"]],\"sequentialminus\":[[0.0,\"#0d0887\"],[0.1111111111111111,\"#46039f\"],[0.2222222222222222,\"#7201a8\"],[0.3333333333333333,\"#9c179e\"],[0.4444444444444444,\"#bd3786\"],[0.5555555555555556,\"#d8576b\"],[0.6666666666666666,\"#ed7953\"],[0.7777777777777778,\"#fb9f3a\"],[0.8888888888888888,\"#fdca26\"],[1.0,\"#f0f921\"]]},\"colorway\":[\"#636efa\",\"#EF553B\",\"#00cc96\",\"#ab63fa\",\"#FFA15A\",\"#19d3f3\",\"#FF6692\",\"#B6E880\",\"#FF97FF\",\"#FECB52\"],\"font\":{\"color\":\"#2a3f5f\"},\"geo\":{\"bgcolor\":\"white\",\"lakecolor\":\"white\",\"landcolor\":\"#E5ECF6\",\"showlakes\":true,\"showland\":true,\"subunitcolor\":\"white\"},\"hoverlabel\":{\"align\":\"left\"},\"hovermode\":\"closest\",\"mapbox\":{\"style\":\"light\"},\"paper_bgcolor\":\"white\",\"plot_bgcolor\":\"#E5ECF6\",\"polar\":{\"angularaxis\":{\"gridcolor\":\"white\",\"linecolor\":\"white\",\"ticks\":\"\"},\"bgcolor\":\"#E5ECF6\",\"radialaxis\":{\"gridcolor\":\"white\",\"linecolor\":\"white\",\"ticks\":\"\"}},\"scene\":{\"xaxis\":{\"backgroundcolor\":\"#E5ECF6\",\"gridcolor\":\"white\",\"gridwidth\":2,\"linecolor\":\"white\",\"showbackground\":true,\"ticks\":\"\",\"zerolinecolor\":\"white\"},\"yaxis\":{\"backgroundcolor\":\"#E5ECF6\",\"gridcolor\":\"white\",\"gridwidth\":2,\"linecolor\":\"white\",\"showbackground\":true,\"ticks\":\"\",\"zerolinecolor\":\"white\"},\"zaxis\":{\"backgroundcolor\":\"#E5ECF6\",\"gridcolor\":\"white\",\"gridwidth\":2,\"linecolor\":\"white\",\"showbackground\":true,\"ticks\":\"\",\"zerolinecolor\":\"white\"}},\"shapedefaults\":{\"line\":{\"color\":\"#2a3f5f\"}},\"ternary\":{\"aaxis\":{\"gridcolor\":\"white\",\"linecolor\":\"white\",\"ticks\":\"\"},\"baxis\":{\"gridcolor\":\"white\",\"linecolor\":\"white\",\"ticks\":\"\"},\"bgcolor\":\"#E5ECF6\",\"caxis\":{\"gridcolor\":\"white\",\"linecolor\":\"white\",\"ticks\":\"\"}},\"title\":{\"x\":0.05},\"xaxis\":{\"automargin\":true,\"gridcolor\":\"white\",\"linecolor\":\"white\",\"ticks\":\"\",\"title\":{\"standoff\":15},\"zerolinecolor\":\"white\",\"zerolinewidth\":2},\"yaxis\":{\"automargin\":true,\"gridcolor\":\"white\",\"linecolor\":\"white\",\"ticks\":\"\",\"title\":{\"standoff\":15},\"zerolinecolor\":\"white\",\"zerolinewidth\":2}}},\"legend\":{\"tracegroupgap\":0},\"title\":{\"text\":\"Three star Michelin restaurant cuisine breakdown\"},\"height\":700,\"width\":800},                        {\"responsive\": true}                    ).then(function(){\n",
       "                            \n",
       "var gd = document.getElementById('d46da0f8-347d-4589-9293-21d54e937a22');\n",
       "var x = new MutationObserver(function (mutations, observer) {{\n",
       "        var display = window.getComputedStyle(gd).display;\n",
       "        if (!display || display === 'none') {{\n",
       "            console.log([gd, 'removed!']);\n",
       "            Plotly.purge(gd);\n",
       "            observer.disconnect();\n",
       "        }}\n",
       "}});\n",
       "\n",
       "// Listen for the removal of the full notebook cells\n",
       "var notebookContainer = gd.closest('#notebook-container');\n",
       "if (notebookContainer) {{\n",
       "    x.observe(notebookContainer, {childList: true});\n",
       "}}\n",
       "\n",
       "// Listen for the clearing of the current output cell\n",
       "var outputEl = gd.closest('.output');\n",
       "if (outputEl) {{\n",
       "    x.observe(outputEl, {childList: true});\n",
       "}}\n",
       "\n",
       "                        })                };                });            </script>        </div>"
      ]
     },
     "metadata": {},
     "output_type": "display_data"
    }
   ],
   "source": [
    "threestar = michelin[michelin['Award'] == '3 MICHELIN Stars']\n",
    "fig = px.pie(\n",
    "    threestar,\n",
    "    names='Cuisine',\n",
    "    title='Three star Michelin restaurant cuisine breakdown',\n",
    "    width=800,\n",
    "    height=700\n",
    ")\n",
    "\n",
    "fig.show()"
   ]
  },
  {
   "cell_type": "markdown",
   "metadata": {},
   "source": [
    "Detailed Top 10 cuisines with the most 3-star Michelin restaurants is shown below."
   ]
  },
  {
   "cell_type": "code",
   "execution_count": 100,
   "metadata": {},
   "outputs": [
    {
     "data": {
      "application/vnd.plotly.v1+json": {
       "config": {
        "plotlyServerURL": "https://plot.ly"
       },
       "data": [
        {
         "alignmentgroup": "True",
         "hovertemplate": "Cuisine=%{x}<br>Count=%{y}<extra></extra>",
         "legendgroup": "Creative",
         "marker": {
          "color": "#636efa",
          "pattern": {
           "shape": ""
          }
         },
         "name": "Creative",
         "offsetgroup": "Creative",
         "orientation": "v",
         "showlegend": true,
         "textposition": "auto",
         "type": "bar",
         "x": [
          "Creative"
         ],
         "xaxis": "x",
         "y": [
          30
         ],
         "yaxis": "y"
        },
        {
         "alignmentgroup": "True",
         "hovertemplate": "Cuisine=%{x}<br>Count=%{y}<extra></extra>",
         "legendgroup": "Japanese",
         "marker": {
          "color": "#EF553B",
          "pattern": {
           "shape": ""
          }
         },
         "name": "Japanese",
         "offsetgroup": "Japanese",
         "orientation": "v",
         "showlegend": true,
         "textposition": "auto",
         "type": "bar",
         "x": [
          "Japanese"
         ],
         "xaxis": "x",
         "y": [
          14
         ],
         "yaxis": "y"
        },
        {
         "alignmentgroup": "True",
         "hovertemplate": "Cuisine=%{x}<br>Count=%{y}<extra></extra>",
         "legendgroup": "Modern Cuisine",
         "marker": {
          "color": "#00cc96",
          "pattern": {
           "shape": ""
          }
         },
         "name": "Modern Cuisine",
         "offsetgroup": "Modern Cuisine",
         "orientation": "v",
         "showlegend": true,
         "textposition": "auto",
         "type": "bar",
         "x": [
          "Modern Cuisine"
         ],
         "xaxis": "x",
         "y": [
          12
         ],
         "yaxis": "y"
        },
        {
         "alignmentgroup": "True",
         "hovertemplate": "Cuisine=%{x}<br>Count=%{y}<extra></extra>",
         "legendgroup": "French",
         "marker": {
          "color": "#ab63fa",
          "pattern": {
           "shape": ""
          }
         },
         "name": "French",
         "offsetgroup": "French",
         "orientation": "v",
         "showlegend": true,
         "textposition": "auto",
         "type": "bar",
         "x": [
          "French"
         ],
         "xaxis": "x",
         "y": [
          7
         ],
         "yaxis": "y"
        },
        {
         "alignmentgroup": "True",
         "hovertemplate": "Cuisine=%{x}<br>Count=%{y}<extra></extra>",
         "legendgroup": "Cantonese",
         "marker": {
          "color": "#FFA15A",
          "pattern": {
           "shape": ""
          }
         },
         "name": "Cantonese",
         "offsetgroup": "Cantonese",
         "orientation": "v",
         "showlegend": true,
         "textposition": "auto",
         "type": "bar",
         "x": [
          "Cantonese"
         ],
         "xaxis": "x",
         "y": [
          6
         ],
         "yaxis": "y"
        },
        {
         "alignmentgroup": "True",
         "hovertemplate": "Cuisine=%{x}<br>Count=%{y}<extra></extra>",
         "legendgroup": "Creative, Modern Cuisine",
         "marker": {
          "color": "#19d3f3",
          "pattern": {
           "shape": ""
          }
         },
         "name": "Creative, Modern Cuisine",
         "offsetgroup": "Creative, Modern Cuisine",
         "orientation": "v",
         "showlegend": true,
         "textposition": "auto",
         "type": "bar",
         "x": [
          "Creative, Modern Cuisine"
         ],
         "xaxis": "x",
         "y": [
          5
         ],
         "yaxis": "y"
        },
        {
         "alignmentgroup": "True",
         "hovertemplate": "Cuisine=%{x}<br>Count=%{y}<extra></extra>",
         "legendgroup": "Classic French",
         "marker": {
          "color": "#FF6692",
          "pattern": {
           "shape": ""
          }
         },
         "name": "Classic French",
         "offsetgroup": "Classic French",
         "orientation": "v",
         "showlegend": true,
         "textposition": "auto",
         "type": "bar",
         "x": [
          "Classic French"
         ],
         "xaxis": "x",
         "y": [
          5
         ],
         "yaxis": "y"
        },
        {
         "alignmentgroup": "True",
         "hovertemplate": "Cuisine=%{x}<br>Count=%{y}<extra></extra>",
         "legendgroup": "French Contemporary",
         "marker": {
          "color": "#B6E880",
          "pattern": {
           "shape": ""
          }
         },
         "name": "French Contemporary",
         "offsetgroup": "French Contemporary",
         "orientation": "v",
         "showlegend": true,
         "textposition": "auto",
         "type": "bar",
         "x": [
          "French Contemporary"
         ],
         "xaxis": "x",
         "y": [
          4
         ],
         "yaxis": "y"
        },
        {
         "alignmentgroup": "True",
         "hovertemplate": "Cuisine=%{x}<br>Count=%{y}<extra></extra>",
         "legendgroup": "Classic Cuisine",
         "marker": {
          "color": "#FF97FF",
          "pattern": {
           "shape": ""
          }
         },
         "name": "Classic Cuisine",
         "offsetgroup": "Classic Cuisine",
         "orientation": "v",
         "showlegend": true,
         "textposition": "auto",
         "type": "bar",
         "x": [
          "Classic Cuisine"
         ],
         "xaxis": "x",
         "y": [
          3
         ],
         "yaxis": "y"
        },
        {
         "alignmentgroup": "True",
         "hovertemplate": "Cuisine=%{x}<br>Count=%{y}<extra></extra>",
         "legendgroup": "Innovative",
         "marker": {
          "color": "#FECB52",
          "pattern": {
           "shape": ""
          }
         },
         "name": "Innovative",
         "offsetgroup": "Innovative",
         "orientation": "v",
         "showlegend": true,
         "textposition": "auto",
         "type": "bar",
         "x": [
          "Innovative"
         ],
         "xaxis": "x",
         "y": [
          3
         ],
         "yaxis": "y"
        }
       ],
       "layout": {
        "barmode": "relative",
        "height": 500,
        "legend": {
         "title": {
          "text": "Cuisine"
         },
         "tracegroupgap": 0
        },
        "template": {
         "data": {
          "bar": [
           {
            "error_x": {
             "color": "#2a3f5f"
            },
            "error_y": {
             "color": "#2a3f5f"
            },
            "marker": {
             "line": {
              "color": "#E5ECF6",
              "width": 0.5
             },
             "pattern": {
              "fillmode": "overlay",
              "size": 10,
              "solidity": 0.2
             }
            },
            "type": "bar"
           }
          ],
          "barpolar": [
           {
            "marker": {
             "line": {
              "color": "#E5ECF6",
              "width": 0.5
             },
             "pattern": {
              "fillmode": "overlay",
              "size": 10,
              "solidity": 0.2
             }
            },
            "type": "barpolar"
           }
          ],
          "carpet": [
           {
            "aaxis": {
             "endlinecolor": "#2a3f5f",
             "gridcolor": "white",
             "linecolor": "white",
             "minorgridcolor": "white",
             "startlinecolor": "#2a3f5f"
            },
            "baxis": {
             "endlinecolor": "#2a3f5f",
             "gridcolor": "white",
             "linecolor": "white",
             "minorgridcolor": "white",
             "startlinecolor": "#2a3f5f"
            },
            "type": "carpet"
           }
          ],
          "choropleth": [
           {
            "colorbar": {
             "outlinewidth": 0,
             "ticks": ""
            },
            "type": "choropleth"
           }
          ],
          "contour": [
           {
            "colorbar": {
             "outlinewidth": 0,
             "ticks": ""
            },
            "colorscale": [
             [
              0,
              "#0d0887"
             ],
             [
              0.1111111111111111,
              "#46039f"
             ],
             [
              0.2222222222222222,
              "#7201a8"
             ],
             [
              0.3333333333333333,
              "#9c179e"
             ],
             [
              0.4444444444444444,
              "#bd3786"
             ],
             [
              0.5555555555555556,
              "#d8576b"
             ],
             [
              0.6666666666666666,
              "#ed7953"
             ],
             [
              0.7777777777777778,
              "#fb9f3a"
             ],
             [
              0.8888888888888888,
              "#fdca26"
             ],
             [
              1,
              "#f0f921"
             ]
            ],
            "type": "contour"
           }
          ],
          "contourcarpet": [
           {
            "colorbar": {
             "outlinewidth": 0,
             "ticks": ""
            },
            "type": "contourcarpet"
           }
          ],
          "heatmap": [
           {
            "colorbar": {
             "outlinewidth": 0,
             "ticks": ""
            },
            "colorscale": [
             [
              0,
              "#0d0887"
             ],
             [
              0.1111111111111111,
              "#46039f"
             ],
             [
              0.2222222222222222,
              "#7201a8"
             ],
             [
              0.3333333333333333,
              "#9c179e"
             ],
             [
              0.4444444444444444,
              "#bd3786"
             ],
             [
              0.5555555555555556,
              "#d8576b"
             ],
             [
              0.6666666666666666,
              "#ed7953"
             ],
             [
              0.7777777777777778,
              "#fb9f3a"
             ],
             [
              0.8888888888888888,
              "#fdca26"
             ],
             [
              1,
              "#f0f921"
             ]
            ],
            "type": "heatmap"
           }
          ],
          "heatmapgl": [
           {
            "colorbar": {
             "outlinewidth": 0,
             "ticks": ""
            },
            "colorscale": [
             [
              0,
              "#0d0887"
             ],
             [
              0.1111111111111111,
              "#46039f"
             ],
             [
              0.2222222222222222,
              "#7201a8"
             ],
             [
              0.3333333333333333,
              "#9c179e"
             ],
             [
              0.4444444444444444,
              "#bd3786"
             ],
             [
              0.5555555555555556,
              "#d8576b"
             ],
             [
              0.6666666666666666,
              "#ed7953"
             ],
             [
              0.7777777777777778,
              "#fb9f3a"
             ],
             [
              0.8888888888888888,
              "#fdca26"
             ],
             [
              1,
              "#f0f921"
             ]
            ],
            "type": "heatmapgl"
           }
          ],
          "histogram": [
           {
            "marker": {
             "pattern": {
              "fillmode": "overlay",
              "size": 10,
              "solidity": 0.2
             }
            },
            "type": "histogram"
           }
          ],
          "histogram2d": [
           {
            "colorbar": {
             "outlinewidth": 0,
             "ticks": ""
            },
            "colorscale": [
             [
              0,
              "#0d0887"
             ],
             [
              0.1111111111111111,
              "#46039f"
             ],
             [
              0.2222222222222222,
              "#7201a8"
             ],
             [
              0.3333333333333333,
              "#9c179e"
             ],
             [
              0.4444444444444444,
              "#bd3786"
             ],
             [
              0.5555555555555556,
              "#d8576b"
             ],
             [
              0.6666666666666666,
              "#ed7953"
             ],
             [
              0.7777777777777778,
              "#fb9f3a"
             ],
             [
              0.8888888888888888,
              "#fdca26"
             ],
             [
              1,
              "#f0f921"
             ]
            ],
            "type": "histogram2d"
           }
          ],
          "histogram2dcontour": [
           {
            "colorbar": {
             "outlinewidth": 0,
             "ticks": ""
            },
            "colorscale": [
             [
              0,
              "#0d0887"
             ],
             [
              0.1111111111111111,
              "#46039f"
             ],
             [
              0.2222222222222222,
              "#7201a8"
             ],
             [
              0.3333333333333333,
              "#9c179e"
             ],
             [
              0.4444444444444444,
              "#bd3786"
             ],
             [
              0.5555555555555556,
              "#d8576b"
             ],
             [
              0.6666666666666666,
              "#ed7953"
             ],
             [
              0.7777777777777778,
              "#fb9f3a"
             ],
             [
              0.8888888888888888,
              "#fdca26"
             ],
             [
              1,
              "#f0f921"
             ]
            ],
            "type": "histogram2dcontour"
           }
          ],
          "mesh3d": [
           {
            "colorbar": {
             "outlinewidth": 0,
             "ticks": ""
            },
            "type": "mesh3d"
           }
          ],
          "parcoords": [
           {
            "line": {
             "colorbar": {
              "outlinewidth": 0,
              "ticks": ""
             }
            },
            "type": "parcoords"
           }
          ],
          "pie": [
           {
            "automargin": true,
            "type": "pie"
           }
          ],
          "scatter": [
           {
            "marker": {
             "colorbar": {
              "outlinewidth": 0,
              "ticks": ""
             }
            },
            "type": "scatter"
           }
          ],
          "scatter3d": [
           {
            "line": {
             "colorbar": {
              "outlinewidth": 0,
              "ticks": ""
             }
            },
            "marker": {
             "colorbar": {
              "outlinewidth": 0,
              "ticks": ""
             }
            },
            "type": "scatter3d"
           }
          ],
          "scattercarpet": [
           {
            "marker": {
             "colorbar": {
              "outlinewidth": 0,
              "ticks": ""
             }
            },
            "type": "scattercarpet"
           }
          ],
          "scattergeo": [
           {
            "marker": {
             "colorbar": {
              "outlinewidth": 0,
              "ticks": ""
             }
            },
            "type": "scattergeo"
           }
          ],
          "scattergl": [
           {
            "marker": {
             "colorbar": {
              "outlinewidth": 0,
              "ticks": ""
             }
            },
            "type": "scattergl"
           }
          ],
          "scattermapbox": [
           {
            "marker": {
             "colorbar": {
              "outlinewidth": 0,
              "ticks": ""
             }
            },
            "type": "scattermapbox"
           }
          ],
          "scatterpolar": [
           {
            "marker": {
             "colorbar": {
              "outlinewidth": 0,
              "ticks": ""
             }
            },
            "type": "scatterpolar"
           }
          ],
          "scatterpolargl": [
           {
            "marker": {
             "colorbar": {
              "outlinewidth": 0,
              "ticks": ""
             }
            },
            "type": "scatterpolargl"
           }
          ],
          "scatterternary": [
           {
            "marker": {
             "colorbar": {
              "outlinewidth": 0,
              "ticks": ""
             }
            },
            "type": "scatterternary"
           }
          ],
          "surface": [
           {
            "colorbar": {
             "outlinewidth": 0,
             "ticks": ""
            },
            "colorscale": [
             [
              0,
              "#0d0887"
             ],
             [
              0.1111111111111111,
              "#46039f"
             ],
             [
              0.2222222222222222,
              "#7201a8"
             ],
             [
              0.3333333333333333,
              "#9c179e"
             ],
             [
              0.4444444444444444,
              "#bd3786"
             ],
             [
              0.5555555555555556,
              "#d8576b"
             ],
             [
              0.6666666666666666,
              "#ed7953"
             ],
             [
              0.7777777777777778,
              "#fb9f3a"
             ],
             [
              0.8888888888888888,
              "#fdca26"
             ],
             [
              1,
              "#f0f921"
             ]
            ],
            "type": "surface"
           }
          ],
          "table": [
           {
            "cells": {
             "fill": {
              "color": "#EBF0F8"
             },
             "line": {
              "color": "white"
             }
            },
            "header": {
             "fill": {
              "color": "#C8D4E3"
             },
             "line": {
              "color": "white"
             }
            },
            "type": "table"
           }
          ]
         },
         "layout": {
          "annotationdefaults": {
           "arrowcolor": "#2a3f5f",
           "arrowhead": 0,
           "arrowwidth": 1
          },
          "autotypenumbers": "strict",
          "coloraxis": {
           "colorbar": {
            "outlinewidth": 0,
            "ticks": ""
           }
          },
          "colorscale": {
           "diverging": [
            [
             0,
             "#8e0152"
            ],
            [
             0.1,
             "#c51b7d"
            ],
            [
             0.2,
             "#de77ae"
            ],
            [
             0.3,
             "#f1b6da"
            ],
            [
             0.4,
             "#fde0ef"
            ],
            [
             0.5,
             "#f7f7f7"
            ],
            [
             0.6,
             "#e6f5d0"
            ],
            [
             0.7,
             "#b8e186"
            ],
            [
             0.8,
             "#7fbc41"
            ],
            [
             0.9,
             "#4d9221"
            ],
            [
             1,
             "#276419"
            ]
           ],
           "sequential": [
            [
             0,
             "#0d0887"
            ],
            [
             0.1111111111111111,
             "#46039f"
            ],
            [
             0.2222222222222222,
             "#7201a8"
            ],
            [
             0.3333333333333333,
             "#9c179e"
            ],
            [
             0.4444444444444444,
             "#bd3786"
            ],
            [
             0.5555555555555556,
             "#d8576b"
            ],
            [
             0.6666666666666666,
             "#ed7953"
            ],
            [
             0.7777777777777778,
             "#fb9f3a"
            ],
            [
             0.8888888888888888,
             "#fdca26"
            ],
            [
             1,
             "#f0f921"
            ]
           ],
           "sequentialminus": [
            [
             0,
             "#0d0887"
            ],
            [
             0.1111111111111111,
             "#46039f"
            ],
            [
             0.2222222222222222,
             "#7201a8"
            ],
            [
             0.3333333333333333,
             "#9c179e"
            ],
            [
             0.4444444444444444,
             "#bd3786"
            ],
            [
             0.5555555555555556,
             "#d8576b"
            ],
            [
             0.6666666666666666,
             "#ed7953"
            ],
            [
             0.7777777777777778,
             "#fb9f3a"
            ],
            [
             0.8888888888888888,
             "#fdca26"
            ],
            [
             1,
             "#f0f921"
            ]
           ]
          },
          "colorway": [
           "#636efa",
           "#EF553B",
           "#00cc96",
           "#ab63fa",
           "#FFA15A",
           "#19d3f3",
           "#FF6692",
           "#B6E880",
           "#FF97FF",
           "#FECB52"
          ],
          "font": {
           "color": "#2a3f5f"
          },
          "geo": {
           "bgcolor": "white",
           "lakecolor": "white",
           "landcolor": "#E5ECF6",
           "showlakes": true,
           "showland": true,
           "subunitcolor": "white"
          },
          "hoverlabel": {
           "align": "left"
          },
          "hovermode": "closest",
          "mapbox": {
           "style": "light"
          },
          "paper_bgcolor": "white",
          "plot_bgcolor": "#E5ECF6",
          "polar": {
           "angularaxis": {
            "gridcolor": "white",
            "linecolor": "white",
            "ticks": ""
           },
           "bgcolor": "#E5ECF6",
           "radialaxis": {
            "gridcolor": "white",
            "linecolor": "white",
            "ticks": ""
           }
          },
          "scene": {
           "xaxis": {
            "backgroundcolor": "#E5ECF6",
            "gridcolor": "white",
            "gridwidth": 2,
            "linecolor": "white",
            "showbackground": true,
            "ticks": "",
            "zerolinecolor": "white"
           },
           "yaxis": {
            "backgroundcolor": "#E5ECF6",
            "gridcolor": "white",
            "gridwidth": 2,
            "linecolor": "white",
            "showbackground": true,
            "ticks": "",
            "zerolinecolor": "white"
           },
           "zaxis": {
            "backgroundcolor": "#E5ECF6",
            "gridcolor": "white",
            "gridwidth": 2,
            "linecolor": "white",
            "showbackground": true,
            "ticks": "",
            "zerolinecolor": "white"
           }
          },
          "shapedefaults": {
           "line": {
            "color": "#2a3f5f"
           }
          },
          "ternary": {
           "aaxis": {
            "gridcolor": "white",
            "linecolor": "white",
            "ticks": ""
           },
           "baxis": {
            "gridcolor": "white",
            "linecolor": "white",
            "ticks": ""
           },
           "bgcolor": "#E5ECF6",
           "caxis": {
            "gridcolor": "white",
            "linecolor": "white",
            "ticks": ""
           }
          },
          "title": {
           "x": 0.05
          },
          "xaxis": {
           "automargin": true,
           "gridcolor": "white",
           "linecolor": "white",
           "ticks": "",
           "title": {
            "standoff": 15
           },
           "zerolinecolor": "white",
           "zerolinewidth": 2
          },
          "yaxis": {
           "automargin": true,
           "gridcolor": "white",
           "linecolor": "white",
           "ticks": "",
           "title": {
            "standoff": 15
           },
           "zerolinecolor": "white",
           "zerolinewidth": 2
          }
         }
        },
        "title": {
         "text": "Top 10 cuisines with the most 3-star Michelin Restaurants"
        },
        "width": 800,
        "xaxis": {
         "anchor": "y",
         "categoryarray": [
          "Creative",
          "Japanese",
          "Modern Cuisine",
          "French",
          "Cantonese",
          "Creative, Modern Cuisine",
          "Classic French",
          "French Contemporary",
          "Classic Cuisine",
          "Innovative"
         ],
         "categoryorder": "array",
         "domain": [
          0,
          1
         ],
         "title": {
          "text": "Cuisine"
         }
        },
        "yaxis": {
         "anchor": "x",
         "domain": [
          0,
          1
         ],
         "title": {
          "text": "Count"
         }
        }
       }
      },
      "text/html": [
       "<div>                            <div id=\"f065cc45-556e-4940-a6b3-807481fbdcb7\" class=\"plotly-graph-div\" style=\"height:500px; width:800px;\"></div>            <script type=\"text/javascript\">                require([\"plotly\"], function(Plotly) {                    window.PLOTLYENV=window.PLOTLYENV || {};                                    if (document.getElementById(\"f065cc45-556e-4940-a6b3-807481fbdcb7\")) {                    Plotly.newPlot(                        \"f065cc45-556e-4940-a6b3-807481fbdcb7\",                        [{\"alignmentgroup\":\"True\",\"hovertemplate\":\"Cuisine=%{x}<br>Count=%{y}<extra></extra>\",\"legendgroup\":\"Creative\",\"marker\":{\"color\":\"#636efa\",\"pattern\":{\"shape\":\"\"}},\"name\":\"Creative\",\"offsetgroup\":\"Creative\",\"orientation\":\"v\",\"showlegend\":true,\"textposition\":\"auto\",\"x\":[\"Creative\"],\"xaxis\":\"x\",\"y\":[30],\"yaxis\":\"y\",\"type\":\"bar\"},{\"alignmentgroup\":\"True\",\"hovertemplate\":\"Cuisine=%{x}<br>Count=%{y}<extra></extra>\",\"legendgroup\":\"Japanese\",\"marker\":{\"color\":\"#EF553B\",\"pattern\":{\"shape\":\"\"}},\"name\":\"Japanese\",\"offsetgroup\":\"Japanese\",\"orientation\":\"v\",\"showlegend\":true,\"textposition\":\"auto\",\"x\":[\"Japanese\"],\"xaxis\":\"x\",\"y\":[14],\"yaxis\":\"y\",\"type\":\"bar\"},{\"alignmentgroup\":\"True\",\"hovertemplate\":\"Cuisine=%{x}<br>Count=%{y}<extra></extra>\",\"legendgroup\":\"Modern Cuisine\",\"marker\":{\"color\":\"#00cc96\",\"pattern\":{\"shape\":\"\"}},\"name\":\"Modern Cuisine\",\"offsetgroup\":\"Modern Cuisine\",\"orientation\":\"v\",\"showlegend\":true,\"textposition\":\"auto\",\"x\":[\"Modern Cuisine\"],\"xaxis\":\"x\",\"y\":[12],\"yaxis\":\"y\",\"type\":\"bar\"},{\"alignmentgroup\":\"True\",\"hovertemplate\":\"Cuisine=%{x}<br>Count=%{y}<extra></extra>\",\"legendgroup\":\"French\",\"marker\":{\"color\":\"#ab63fa\",\"pattern\":{\"shape\":\"\"}},\"name\":\"French\",\"offsetgroup\":\"French\",\"orientation\":\"v\",\"showlegend\":true,\"textposition\":\"auto\",\"x\":[\"French\"],\"xaxis\":\"x\",\"y\":[7],\"yaxis\":\"y\",\"type\":\"bar\"},{\"alignmentgroup\":\"True\",\"hovertemplate\":\"Cuisine=%{x}<br>Count=%{y}<extra></extra>\",\"legendgroup\":\"Cantonese\",\"marker\":{\"color\":\"#FFA15A\",\"pattern\":{\"shape\":\"\"}},\"name\":\"Cantonese\",\"offsetgroup\":\"Cantonese\",\"orientation\":\"v\",\"showlegend\":true,\"textposition\":\"auto\",\"x\":[\"Cantonese\"],\"xaxis\":\"x\",\"y\":[6],\"yaxis\":\"y\",\"type\":\"bar\"},{\"alignmentgroup\":\"True\",\"hovertemplate\":\"Cuisine=%{x}<br>Count=%{y}<extra></extra>\",\"legendgroup\":\"Creative, Modern Cuisine\",\"marker\":{\"color\":\"#19d3f3\",\"pattern\":{\"shape\":\"\"}},\"name\":\"Creative, Modern Cuisine\",\"offsetgroup\":\"Creative, Modern Cuisine\",\"orientation\":\"v\",\"showlegend\":true,\"textposition\":\"auto\",\"x\":[\"Creative, Modern Cuisine\"],\"xaxis\":\"x\",\"y\":[5],\"yaxis\":\"y\",\"type\":\"bar\"},{\"alignmentgroup\":\"True\",\"hovertemplate\":\"Cuisine=%{x}<br>Count=%{y}<extra></extra>\",\"legendgroup\":\"Classic French\",\"marker\":{\"color\":\"#FF6692\",\"pattern\":{\"shape\":\"\"}},\"name\":\"Classic French\",\"offsetgroup\":\"Classic French\",\"orientation\":\"v\",\"showlegend\":true,\"textposition\":\"auto\",\"x\":[\"Classic French\"],\"xaxis\":\"x\",\"y\":[5],\"yaxis\":\"y\",\"type\":\"bar\"},{\"alignmentgroup\":\"True\",\"hovertemplate\":\"Cuisine=%{x}<br>Count=%{y}<extra></extra>\",\"legendgroup\":\"French Contemporary\",\"marker\":{\"color\":\"#B6E880\",\"pattern\":{\"shape\":\"\"}},\"name\":\"French Contemporary\",\"offsetgroup\":\"French Contemporary\",\"orientation\":\"v\",\"showlegend\":true,\"textposition\":\"auto\",\"x\":[\"French Contemporary\"],\"xaxis\":\"x\",\"y\":[4],\"yaxis\":\"y\",\"type\":\"bar\"},{\"alignmentgroup\":\"True\",\"hovertemplate\":\"Cuisine=%{x}<br>Count=%{y}<extra></extra>\",\"legendgroup\":\"Classic Cuisine\",\"marker\":{\"color\":\"#FF97FF\",\"pattern\":{\"shape\":\"\"}},\"name\":\"Classic Cuisine\",\"offsetgroup\":\"Classic Cuisine\",\"orientation\":\"v\",\"showlegend\":true,\"textposition\":\"auto\",\"x\":[\"Classic Cuisine\"],\"xaxis\":\"x\",\"y\":[3],\"yaxis\":\"y\",\"type\":\"bar\"},{\"alignmentgroup\":\"True\",\"hovertemplate\":\"Cuisine=%{x}<br>Count=%{y}<extra></extra>\",\"legendgroup\":\"Innovative\",\"marker\":{\"color\":\"#FECB52\",\"pattern\":{\"shape\":\"\"}},\"name\":\"Innovative\",\"offsetgroup\":\"Innovative\",\"orientation\":\"v\",\"showlegend\":true,\"textposition\":\"auto\",\"x\":[\"Innovative\"],\"xaxis\":\"x\",\"y\":[3],\"yaxis\":\"y\",\"type\":\"bar\"}],                        {\"template\":{\"data\":{\"bar\":[{\"error_x\":{\"color\":\"#2a3f5f\"},\"error_y\":{\"color\":\"#2a3f5f\"},\"marker\":{\"line\":{\"color\":\"#E5ECF6\",\"width\":0.5},\"pattern\":{\"fillmode\":\"overlay\",\"size\":10,\"solidity\":0.2}},\"type\":\"bar\"}],\"barpolar\":[{\"marker\":{\"line\":{\"color\":\"#E5ECF6\",\"width\":0.5},\"pattern\":{\"fillmode\":\"overlay\",\"size\":10,\"solidity\":0.2}},\"type\":\"barpolar\"}],\"carpet\":[{\"aaxis\":{\"endlinecolor\":\"#2a3f5f\",\"gridcolor\":\"white\",\"linecolor\":\"white\",\"minorgridcolor\":\"white\",\"startlinecolor\":\"#2a3f5f\"},\"baxis\":{\"endlinecolor\":\"#2a3f5f\",\"gridcolor\":\"white\",\"linecolor\":\"white\",\"minorgridcolor\":\"white\",\"startlinecolor\":\"#2a3f5f\"},\"type\":\"carpet\"}],\"choropleth\":[{\"colorbar\":{\"outlinewidth\":0,\"ticks\":\"\"},\"type\":\"choropleth\"}],\"contour\":[{\"colorbar\":{\"outlinewidth\":0,\"ticks\":\"\"},\"colorscale\":[[0.0,\"#0d0887\"],[0.1111111111111111,\"#46039f\"],[0.2222222222222222,\"#7201a8\"],[0.3333333333333333,\"#9c179e\"],[0.4444444444444444,\"#bd3786\"],[0.5555555555555556,\"#d8576b\"],[0.6666666666666666,\"#ed7953\"],[0.7777777777777778,\"#fb9f3a\"],[0.8888888888888888,\"#fdca26\"],[1.0,\"#f0f921\"]],\"type\":\"contour\"}],\"contourcarpet\":[{\"colorbar\":{\"outlinewidth\":0,\"ticks\":\"\"},\"type\":\"contourcarpet\"}],\"heatmap\":[{\"colorbar\":{\"outlinewidth\":0,\"ticks\":\"\"},\"colorscale\":[[0.0,\"#0d0887\"],[0.1111111111111111,\"#46039f\"],[0.2222222222222222,\"#7201a8\"],[0.3333333333333333,\"#9c179e\"],[0.4444444444444444,\"#bd3786\"],[0.5555555555555556,\"#d8576b\"],[0.6666666666666666,\"#ed7953\"],[0.7777777777777778,\"#fb9f3a\"],[0.8888888888888888,\"#fdca26\"],[1.0,\"#f0f921\"]],\"type\":\"heatmap\"}],\"heatmapgl\":[{\"colorbar\":{\"outlinewidth\":0,\"ticks\":\"\"},\"colorscale\":[[0.0,\"#0d0887\"],[0.1111111111111111,\"#46039f\"],[0.2222222222222222,\"#7201a8\"],[0.3333333333333333,\"#9c179e\"],[0.4444444444444444,\"#bd3786\"],[0.5555555555555556,\"#d8576b\"],[0.6666666666666666,\"#ed7953\"],[0.7777777777777778,\"#fb9f3a\"],[0.8888888888888888,\"#fdca26\"],[1.0,\"#f0f921\"]],\"type\":\"heatmapgl\"}],\"histogram\":[{\"marker\":{\"pattern\":{\"fillmode\":\"overlay\",\"size\":10,\"solidity\":0.2}},\"type\":\"histogram\"}],\"histogram2d\":[{\"colorbar\":{\"outlinewidth\":0,\"ticks\":\"\"},\"colorscale\":[[0.0,\"#0d0887\"],[0.1111111111111111,\"#46039f\"],[0.2222222222222222,\"#7201a8\"],[0.3333333333333333,\"#9c179e\"],[0.4444444444444444,\"#bd3786\"],[0.5555555555555556,\"#d8576b\"],[0.6666666666666666,\"#ed7953\"],[0.7777777777777778,\"#fb9f3a\"],[0.8888888888888888,\"#fdca26\"],[1.0,\"#f0f921\"]],\"type\":\"histogram2d\"}],\"histogram2dcontour\":[{\"colorbar\":{\"outlinewidth\":0,\"ticks\":\"\"},\"colorscale\":[[0.0,\"#0d0887\"],[0.1111111111111111,\"#46039f\"],[0.2222222222222222,\"#7201a8\"],[0.3333333333333333,\"#9c179e\"],[0.4444444444444444,\"#bd3786\"],[0.5555555555555556,\"#d8576b\"],[0.6666666666666666,\"#ed7953\"],[0.7777777777777778,\"#fb9f3a\"],[0.8888888888888888,\"#fdca26\"],[1.0,\"#f0f921\"]],\"type\":\"histogram2dcontour\"}],\"mesh3d\":[{\"colorbar\":{\"outlinewidth\":0,\"ticks\":\"\"},\"type\":\"mesh3d\"}],\"parcoords\":[{\"line\":{\"colorbar\":{\"outlinewidth\":0,\"ticks\":\"\"}},\"type\":\"parcoords\"}],\"pie\":[{\"automargin\":true,\"type\":\"pie\"}],\"scatter\":[{\"marker\":{\"colorbar\":{\"outlinewidth\":0,\"ticks\":\"\"}},\"type\":\"scatter\"}],\"scatter3d\":[{\"line\":{\"colorbar\":{\"outlinewidth\":0,\"ticks\":\"\"}},\"marker\":{\"colorbar\":{\"outlinewidth\":0,\"ticks\":\"\"}},\"type\":\"scatter3d\"}],\"scattercarpet\":[{\"marker\":{\"colorbar\":{\"outlinewidth\":0,\"ticks\":\"\"}},\"type\":\"scattercarpet\"}],\"scattergeo\":[{\"marker\":{\"colorbar\":{\"outlinewidth\":0,\"ticks\":\"\"}},\"type\":\"scattergeo\"}],\"scattergl\":[{\"marker\":{\"colorbar\":{\"outlinewidth\":0,\"ticks\":\"\"}},\"type\":\"scattergl\"}],\"scattermapbox\":[{\"marker\":{\"colorbar\":{\"outlinewidth\":0,\"ticks\":\"\"}},\"type\":\"scattermapbox\"}],\"scatterpolar\":[{\"marker\":{\"colorbar\":{\"outlinewidth\":0,\"ticks\":\"\"}},\"type\":\"scatterpolar\"}],\"scatterpolargl\":[{\"marker\":{\"colorbar\":{\"outlinewidth\":0,\"ticks\":\"\"}},\"type\":\"scatterpolargl\"}],\"scatterternary\":[{\"marker\":{\"colorbar\":{\"outlinewidth\":0,\"ticks\":\"\"}},\"type\":\"scatterternary\"}],\"surface\":[{\"colorbar\":{\"outlinewidth\":0,\"ticks\":\"\"},\"colorscale\":[[0.0,\"#0d0887\"],[0.1111111111111111,\"#46039f\"],[0.2222222222222222,\"#7201a8\"],[0.3333333333333333,\"#9c179e\"],[0.4444444444444444,\"#bd3786\"],[0.5555555555555556,\"#d8576b\"],[0.6666666666666666,\"#ed7953\"],[0.7777777777777778,\"#fb9f3a\"],[0.8888888888888888,\"#fdca26\"],[1.0,\"#f0f921\"]],\"type\":\"surface\"}],\"table\":[{\"cells\":{\"fill\":{\"color\":\"#EBF0F8\"},\"line\":{\"color\":\"white\"}},\"header\":{\"fill\":{\"color\":\"#C8D4E3\"},\"line\":{\"color\":\"white\"}},\"type\":\"table\"}]},\"layout\":{\"annotationdefaults\":{\"arrowcolor\":\"#2a3f5f\",\"arrowhead\":0,\"arrowwidth\":1},\"autotypenumbers\":\"strict\",\"coloraxis\":{\"colorbar\":{\"outlinewidth\":0,\"ticks\":\"\"}},\"colorscale\":{\"diverging\":[[0,\"#8e0152\"],[0.1,\"#c51b7d\"],[0.2,\"#de77ae\"],[0.3,\"#f1b6da\"],[0.4,\"#fde0ef\"],[0.5,\"#f7f7f7\"],[0.6,\"#e6f5d0\"],[0.7,\"#b8e186\"],[0.8,\"#7fbc41\"],[0.9,\"#4d9221\"],[1,\"#276419\"]],\"sequential\":[[0.0,\"#0d0887\"],[0.1111111111111111,\"#46039f\"],[0.2222222222222222,\"#7201a8\"],[0.3333333333333333,\"#9c179e\"],[0.4444444444444444,\"#bd3786\"],[0.5555555555555556,\"#d8576b\"],[0.6666666666666666,\"#ed7953\"],[0.7777777777777778,\"#fb9f3a\"],[0.8888888888888888,\"#fdca26\"],[1.0,\"#f0f921\"]],\"sequentialminus\":[[0.0,\"#0d0887\"],[0.1111111111111111,\"#46039f\"],[0.2222222222222222,\"#7201a8\"],[0.3333333333333333,\"#9c179e\"],[0.4444444444444444,\"#bd3786\"],[0.5555555555555556,\"#d8576b\"],[0.6666666666666666,\"#ed7953\"],[0.7777777777777778,\"#fb9f3a\"],[0.8888888888888888,\"#fdca26\"],[1.0,\"#f0f921\"]]},\"colorway\":[\"#636efa\",\"#EF553B\",\"#00cc96\",\"#ab63fa\",\"#FFA15A\",\"#19d3f3\",\"#FF6692\",\"#B6E880\",\"#FF97FF\",\"#FECB52\"],\"font\":{\"color\":\"#2a3f5f\"},\"geo\":{\"bgcolor\":\"white\",\"lakecolor\":\"white\",\"landcolor\":\"#E5ECF6\",\"showlakes\":true,\"showland\":true,\"subunitcolor\":\"white\"},\"hoverlabel\":{\"align\":\"left\"},\"hovermode\":\"closest\",\"mapbox\":{\"style\":\"light\"},\"paper_bgcolor\":\"white\",\"plot_bgcolor\":\"#E5ECF6\",\"polar\":{\"angularaxis\":{\"gridcolor\":\"white\",\"linecolor\":\"white\",\"ticks\":\"\"},\"bgcolor\":\"#E5ECF6\",\"radialaxis\":{\"gridcolor\":\"white\",\"linecolor\":\"white\",\"ticks\":\"\"}},\"scene\":{\"xaxis\":{\"backgroundcolor\":\"#E5ECF6\",\"gridcolor\":\"white\",\"gridwidth\":2,\"linecolor\":\"white\",\"showbackground\":true,\"ticks\":\"\",\"zerolinecolor\":\"white\"},\"yaxis\":{\"backgroundcolor\":\"#E5ECF6\",\"gridcolor\":\"white\",\"gridwidth\":2,\"linecolor\":\"white\",\"showbackground\":true,\"ticks\":\"\",\"zerolinecolor\":\"white\"},\"zaxis\":{\"backgroundcolor\":\"#E5ECF6\",\"gridcolor\":\"white\",\"gridwidth\":2,\"linecolor\":\"white\",\"showbackground\":true,\"ticks\":\"\",\"zerolinecolor\":\"white\"}},\"shapedefaults\":{\"line\":{\"color\":\"#2a3f5f\"}},\"ternary\":{\"aaxis\":{\"gridcolor\":\"white\",\"linecolor\":\"white\",\"ticks\":\"\"},\"baxis\":{\"gridcolor\":\"white\",\"linecolor\":\"white\",\"ticks\":\"\"},\"bgcolor\":\"#E5ECF6\",\"caxis\":{\"gridcolor\":\"white\",\"linecolor\":\"white\",\"ticks\":\"\"}},\"title\":{\"x\":0.05},\"xaxis\":{\"automargin\":true,\"gridcolor\":\"white\",\"linecolor\":\"white\",\"ticks\":\"\",\"title\":{\"standoff\":15},\"zerolinecolor\":\"white\",\"zerolinewidth\":2},\"yaxis\":{\"automargin\":true,\"gridcolor\":\"white\",\"linecolor\":\"white\",\"ticks\":\"\",\"title\":{\"standoff\":15},\"zerolinecolor\":\"white\",\"zerolinewidth\":2}}},\"xaxis\":{\"anchor\":\"y\",\"domain\":[0.0,1.0],\"title\":{\"text\":\"Cuisine\"},\"categoryorder\":\"array\",\"categoryarray\":[\"Creative\",\"Japanese\",\"Modern Cuisine\",\"French\",\"Cantonese\",\"Creative, Modern Cuisine\",\"Classic French\",\"French Contemporary\",\"Classic Cuisine\",\"Innovative\"]},\"yaxis\":{\"anchor\":\"x\",\"domain\":[0.0,1.0],\"title\":{\"text\":\"Count\"}},\"legend\":{\"title\":{\"text\":\"Cuisine\"},\"tracegroupgap\":0},\"title\":{\"text\":\"Top 10 cuisines with the most 3-star Michelin Restaurants\"},\"barmode\":\"relative\",\"height\":500,\"width\":800},                        {\"responsive\": true}                    ).then(function(){\n",
       "                            \n",
       "var gd = document.getElementById('f065cc45-556e-4940-a6b3-807481fbdcb7');\n",
       "var x = new MutationObserver(function (mutations, observer) {{\n",
       "        var display = window.getComputedStyle(gd).display;\n",
       "        if (!display || display === 'none') {{\n",
       "            console.log([gd, 'removed!']);\n",
       "            Plotly.purge(gd);\n",
       "            observer.disconnect();\n",
       "        }}\n",
       "}});\n",
       "\n",
       "// Listen for the removal of the full notebook cells\n",
       "var notebookContainer = gd.closest('#notebook-container');\n",
       "if (notebookContainer) {{\n",
       "    x.observe(notebookContainer, {childList: true});\n",
       "}}\n",
       "\n",
       "// Listen for the clearing of the current output cell\n",
       "var outputEl = gd.closest('.output');\n",
       "if (outputEl) {{\n",
       "    x.observe(outputEl, {childList: true});\n",
       "}}\n",
       "\n",
       "                        })                };                });            </script>        </div>"
      ]
     },
     "metadata": {},
     "output_type": "display_data"
    }
   ],
   "source": [
    "by_cuisine_star = threestar.groupby(['Cuisine'], as_index=False).agg({'Name': 'count'})\n",
    "by_cuisine_star.rename(columns={'Name':'Count'}, inplace = True)\n",
    "by_cuisine_star.sort_values('Count', ascending=False, inplace=True)\n",
    "\n",
    "fig = px.bar(\n",
    "    by_cuisine_star[0:10],\n",
    "    x = 'Cuisine',\n",
    "    y = 'Count',\n",
    "    title = 'Top 10 cuisines with the most 3-star Michelin Restaurants',\n",
    "    color=\"Cuisine\", \n",
    "    width=800,\n",
    "    height=500\n",
    ")\n",
    "\n",
    "fig.show()"
   ]
  },
  {
   "cell_type": "markdown",
   "metadata": {},
   "source": [
    "Creative cuisine and Japanese cuisine account for high proportion in both overall Michelin restaurants and 3-Star Micheline restaurants. Though the number of Michelin restaurant in Modern style is the highest, about two times higher than Creative cuisine restaurants, there are not many 3-Star Modern restaurants."
   ]
  },
  {
   "cell_type": "markdown",
   "metadata": {},
   "source": [
    "Similar to cuisines, we are also interested in  3-star Michelin restaurants city break down. Because cities with 1 three-star Michelin restaurant account for the most, which makes the plot messy, only cities with more than 2 three-star Michelin restaurants will be shown."
   ]
  },
  {
   "cell_type": "code",
   "execution_count": 101,
   "metadata": {},
   "outputs": [],
   "source": [
    "threestar2 = threestar.groupby(['Location'], as_index=False).agg({'Name': 'count'})\n",
    "threestar2 = threestar2[threestar2['Name']>=2]\n",
    "st2 = ','.join(set(list((threestar2['Location']))))\n",
    "unique_city = list(set(list(threestar2['Location'])))\n",
    "\n",
    "threestar3 = threestar[(threestar['Location'].isin(unique_city))]"
   ]
  },
  {
   "cell_type": "code",
   "execution_count": 102,
   "metadata": {},
   "outputs": [
    {
     "data": {
      "application/vnd.plotly.v1+json": {
       "config": {
        "plotlyServerURL": "https://plot.ly"
       },
       "data": [
        {
         "domain": {
          "x": [
           0,
           1
          ],
          "y": [
           0,
           1
          ]
         },
         "hovertemplate": "Location=%{label}<extra></extra>",
         "labels": [
          "Baiersbronn",
          "Baiersbronn",
          "Bray",
          "Bray",
          "London",
          "London",
          "London",
          "London",
          "London",
          "Beijing",
          "Beijing",
          "Macau",
          "Macau",
          "Macau",
          "Hong Kong",
          "Hong Kong",
          "Hong Kong",
          "Hong Kong",
          "Hong Kong",
          "Hong Kong",
          "Hong Kong",
          "Donostia / San Sebastián",
          "Donostia / San Sebastián",
          "Barcelona",
          "Barcelona",
          "Tokyo",
          "Tokyo",
          "Tokyo",
          "Tokyo",
          "Tokyo",
          "Tokyo",
          "Tokyo",
          "Tokyo",
          "Tokyo",
          "Tokyo",
          "Tokyo",
          "Tokyo",
          "SEOUL",
          "SEOUL",
          "Shanghai",
          "Shanghai",
          "Osaka",
          "Osaka",
          "Osaka",
          "Kyoto",
          "Kyoto",
          "Kyoto",
          "Kyoto",
          "Kyoto",
          "Kyoto",
          "San Francisco",
          "San Francisco",
          "San Francisco",
          "Copenhagen",
          "Copenhagen",
          "Singapore",
          "Singapore",
          "Singapore",
          "New York",
          "New York",
          "New York",
          "New York",
          "New York",
          "Paris",
          "Marseille",
          "Paris",
          "Paris",
          "Paris",
          "Paris",
          "Paris",
          "Paris",
          "Paris",
          "Paris",
          "Marseille"
         ],
         "legendgroup": "",
         "name": "",
         "showlegend": true,
         "type": "pie"
        }
       ],
       "layout": {
        "height": 700,
        "legend": {
         "tracegroupgap": 0
        },
        "template": {
         "data": {
          "bar": [
           {
            "error_x": {
             "color": "#2a3f5f"
            },
            "error_y": {
             "color": "#2a3f5f"
            },
            "marker": {
             "line": {
              "color": "#E5ECF6",
              "width": 0.5
             },
             "pattern": {
              "fillmode": "overlay",
              "size": 10,
              "solidity": 0.2
             }
            },
            "type": "bar"
           }
          ],
          "barpolar": [
           {
            "marker": {
             "line": {
              "color": "#E5ECF6",
              "width": 0.5
             },
             "pattern": {
              "fillmode": "overlay",
              "size": 10,
              "solidity": 0.2
             }
            },
            "type": "barpolar"
           }
          ],
          "carpet": [
           {
            "aaxis": {
             "endlinecolor": "#2a3f5f",
             "gridcolor": "white",
             "linecolor": "white",
             "minorgridcolor": "white",
             "startlinecolor": "#2a3f5f"
            },
            "baxis": {
             "endlinecolor": "#2a3f5f",
             "gridcolor": "white",
             "linecolor": "white",
             "minorgridcolor": "white",
             "startlinecolor": "#2a3f5f"
            },
            "type": "carpet"
           }
          ],
          "choropleth": [
           {
            "colorbar": {
             "outlinewidth": 0,
             "ticks": ""
            },
            "type": "choropleth"
           }
          ],
          "contour": [
           {
            "colorbar": {
             "outlinewidth": 0,
             "ticks": ""
            },
            "colorscale": [
             [
              0,
              "#0d0887"
             ],
             [
              0.1111111111111111,
              "#46039f"
             ],
             [
              0.2222222222222222,
              "#7201a8"
             ],
             [
              0.3333333333333333,
              "#9c179e"
             ],
             [
              0.4444444444444444,
              "#bd3786"
             ],
             [
              0.5555555555555556,
              "#d8576b"
             ],
             [
              0.6666666666666666,
              "#ed7953"
             ],
             [
              0.7777777777777778,
              "#fb9f3a"
             ],
             [
              0.8888888888888888,
              "#fdca26"
             ],
             [
              1,
              "#f0f921"
             ]
            ],
            "type": "contour"
           }
          ],
          "contourcarpet": [
           {
            "colorbar": {
             "outlinewidth": 0,
             "ticks": ""
            },
            "type": "contourcarpet"
           }
          ],
          "heatmap": [
           {
            "colorbar": {
             "outlinewidth": 0,
             "ticks": ""
            },
            "colorscale": [
             [
              0,
              "#0d0887"
             ],
             [
              0.1111111111111111,
              "#46039f"
             ],
             [
              0.2222222222222222,
              "#7201a8"
             ],
             [
              0.3333333333333333,
              "#9c179e"
             ],
             [
              0.4444444444444444,
              "#bd3786"
             ],
             [
              0.5555555555555556,
              "#d8576b"
             ],
             [
              0.6666666666666666,
              "#ed7953"
             ],
             [
              0.7777777777777778,
              "#fb9f3a"
             ],
             [
              0.8888888888888888,
              "#fdca26"
             ],
             [
              1,
              "#f0f921"
             ]
            ],
            "type": "heatmap"
           }
          ],
          "heatmapgl": [
           {
            "colorbar": {
             "outlinewidth": 0,
             "ticks": ""
            },
            "colorscale": [
             [
              0,
              "#0d0887"
             ],
             [
              0.1111111111111111,
              "#46039f"
             ],
             [
              0.2222222222222222,
              "#7201a8"
             ],
             [
              0.3333333333333333,
              "#9c179e"
             ],
             [
              0.4444444444444444,
              "#bd3786"
             ],
             [
              0.5555555555555556,
              "#d8576b"
             ],
             [
              0.6666666666666666,
              "#ed7953"
             ],
             [
              0.7777777777777778,
              "#fb9f3a"
             ],
             [
              0.8888888888888888,
              "#fdca26"
             ],
             [
              1,
              "#f0f921"
             ]
            ],
            "type": "heatmapgl"
           }
          ],
          "histogram": [
           {
            "marker": {
             "pattern": {
              "fillmode": "overlay",
              "size": 10,
              "solidity": 0.2
             }
            },
            "type": "histogram"
           }
          ],
          "histogram2d": [
           {
            "colorbar": {
             "outlinewidth": 0,
             "ticks": ""
            },
            "colorscale": [
             [
              0,
              "#0d0887"
             ],
             [
              0.1111111111111111,
              "#46039f"
             ],
             [
              0.2222222222222222,
              "#7201a8"
             ],
             [
              0.3333333333333333,
              "#9c179e"
             ],
             [
              0.4444444444444444,
              "#bd3786"
             ],
             [
              0.5555555555555556,
              "#d8576b"
             ],
             [
              0.6666666666666666,
              "#ed7953"
             ],
             [
              0.7777777777777778,
              "#fb9f3a"
             ],
             [
              0.8888888888888888,
              "#fdca26"
             ],
             [
              1,
              "#f0f921"
             ]
            ],
            "type": "histogram2d"
           }
          ],
          "histogram2dcontour": [
           {
            "colorbar": {
             "outlinewidth": 0,
             "ticks": ""
            },
            "colorscale": [
             [
              0,
              "#0d0887"
             ],
             [
              0.1111111111111111,
              "#46039f"
             ],
             [
              0.2222222222222222,
              "#7201a8"
             ],
             [
              0.3333333333333333,
              "#9c179e"
             ],
             [
              0.4444444444444444,
              "#bd3786"
             ],
             [
              0.5555555555555556,
              "#d8576b"
             ],
             [
              0.6666666666666666,
              "#ed7953"
             ],
             [
              0.7777777777777778,
              "#fb9f3a"
             ],
             [
              0.8888888888888888,
              "#fdca26"
             ],
             [
              1,
              "#f0f921"
             ]
            ],
            "type": "histogram2dcontour"
           }
          ],
          "mesh3d": [
           {
            "colorbar": {
             "outlinewidth": 0,
             "ticks": ""
            },
            "type": "mesh3d"
           }
          ],
          "parcoords": [
           {
            "line": {
             "colorbar": {
              "outlinewidth": 0,
              "ticks": ""
             }
            },
            "type": "parcoords"
           }
          ],
          "pie": [
           {
            "automargin": true,
            "type": "pie"
           }
          ],
          "scatter": [
           {
            "marker": {
             "colorbar": {
              "outlinewidth": 0,
              "ticks": ""
             }
            },
            "type": "scatter"
           }
          ],
          "scatter3d": [
           {
            "line": {
             "colorbar": {
              "outlinewidth": 0,
              "ticks": ""
             }
            },
            "marker": {
             "colorbar": {
              "outlinewidth": 0,
              "ticks": ""
             }
            },
            "type": "scatter3d"
           }
          ],
          "scattercarpet": [
           {
            "marker": {
             "colorbar": {
              "outlinewidth": 0,
              "ticks": ""
             }
            },
            "type": "scattercarpet"
           }
          ],
          "scattergeo": [
           {
            "marker": {
             "colorbar": {
              "outlinewidth": 0,
              "ticks": ""
             }
            },
            "type": "scattergeo"
           }
          ],
          "scattergl": [
           {
            "marker": {
             "colorbar": {
              "outlinewidth": 0,
              "ticks": ""
             }
            },
            "type": "scattergl"
           }
          ],
          "scattermapbox": [
           {
            "marker": {
             "colorbar": {
              "outlinewidth": 0,
              "ticks": ""
             }
            },
            "type": "scattermapbox"
           }
          ],
          "scatterpolar": [
           {
            "marker": {
             "colorbar": {
              "outlinewidth": 0,
              "ticks": ""
             }
            },
            "type": "scatterpolar"
           }
          ],
          "scatterpolargl": [
           {
            "marker": {
             "colorbar": {
              "outlinewidth": 0,
              "ticks": ""
             }
            },
            "type": "scatterpolargl"
           }
          ],
          "scatterternary": [
           {
            "marker": {
             "colorbar": {
              "outlinewidth": 0,
              "ticks": ""
             }
            },
            "type": "scatterternary"
           }
          ],
          "surface": [
           {
            "colorbar": {
             "outlinewidth": 0,
             "ticks": ""
            },
            "colorscale": [
             [
              0,
              "#0d0887"
             ],
             [
              0.1111111111111111,
              "#46039f"
             ],
             [
              0.2222222222222222,
              "#7201a8"
             ],
             [
              0.3333333333333333,
              "#9c179e"
             ],
             [
              0.4444444444444444,
              "#bd3786"
             ],
             [
              0.5555555555555556,
              "#d8576b"
             ],
             [
              0.6666666666666666,
              "#ed7953"
             ],
             [
              0.7777777777777778,
              "#fb9f3a"
             ],
             [
              0.8888888888888888,
              "#fdca26"
             ],
             [
              1,
              "#f0f921"
             ]
            ],
            "type": "surface"
           }
          ],
          "table": [
           {
            "cells": {
             "fill": {
              "color": "#EBF0F8"
             },
             "line": {
              "color": "white"
             }
            },
            "header": {
             "fill": {
              "color": "#C8D4E3"
             },
             "line": {
              "color": "white"
             }
            },
            "type": "table"
           }
          ]
         },
         "layout": {
          "annotationdefaults": {
           "arrowcolor": "#2a3f5f",
           "arrowhead": 0,
           "arrowwidth": 1
          },
          "autotypenumbers": "strict",
          "coloraxis": {
           "colorbar": {
            "outlinewidth": 0,
            "ticks": ""
           }
          },
          "colorscale": {
           "diverging": [
            [
             0,
             "#8e0152"
            ],
            [
             0.1,
             "#c51b7d"
            ],
            [
             0.2,
             "#de77ae"
            ],
            [
             0.3,
             "#f1b6da"
            ],
            [
             0.4,
             "#fde0ef"
            ],
            [
             0.5,
             "#f7f7f7"
            ],
            [
             0.6,
             "#e6f5d0"
            ],
            [
             0.7,
             "#b8e186"
            ],
            [
             0.8,
             "#7fbc41"
            ],
            [
             0.9,
             "#4d9221"
            ],
            [
             1,
             "#276419"
            ]
           ],
           "sequential": [
            [
             0,
             "#0d0887"
            ],
            [
             0.1111111111111111,
             "#46039f"
            ],
            [
             0.2222222222222222,
             "#7201a8"
            ],
            [
             0.3333333333333333,
             "#9c179e"
            ],
            [
             0.4444444444444444,
             "#bd3786"
            ],
            [
             0.5555555555555556,
             "#d8576b"
            ],
            [
             0.6666666666666666,
             "#ed7953"
            ],
            [
             0.7777777777777778,
             "#fb9f3a"
            ],
            [
             0.8888888888888888,
             "#fdca26"
            ],
            [
             1,
             "#f0f921"
            ]
           ],
           "sequentialminus": [
            [
             0,
             "#0d0887"
            ],
            [
             0.1111111111111111,
             "#46039f"
            ],
            [
             0.2222222222222222,
             "#7201a8"
            ],
            [
             0.3333333333333333,
             "#9c179e"
            ],
            [
             0.4444444444444444,
             "#bd3786"
            ],
            [
             0.5555555555555556,
             "#d8576b"
            ],
            [
             0.6666666666666666,
             "#ed7953"
            ],
            [
             0.7777777777777778,
             "#fb9f3a"
            ],
            [
             0.8888888888888888,
             "#fdca26"
            ],
            [
             1,
             "#f0f921"
            ]
           ]
          },
          "colorway": [
           "#636efa",
           "#EF553B",
           "#00cc96",
           "#ab63fa",
           "#FFA15A",
           "#19d3f3",
           "#FF6692",
           "#B6E880",
           "#FF97FF",
           "#FECB52"
          ],
          "font": {
           "color": "#2a3f5f"
          },
          "geo": {
           "bgcolor": "white",
           "lakecolor": "white",
           "landcolor": "#E5ECF6",
           "showlakes": true,
           "showland": true,
           "subunitcolor": "white"
          },
          "hoverlabel": {
           "align": "left"
          },
          "hovermode": "closest",
          "mapbox": {
           "style": "light"
          },
          "paper_bgcolor": "white",
          "plot_bgcolor": "#E5ECF6",
          "polar": {
           "angularaxis": {
            "gridcolor": "white",
            "linecolor": "white",
            "ticks": ""
           },
           "bgcolor": "#E5ECF6",
           "radialaxis": {
            "gridcolor": "white",
            "linecolor": "white",
            "ticks": ""
           }
          },
          "scene": {
           "xaxis": {
            "backgroundcolor": "#E5ECF6",
            "gridcolor": "white",
            "gridwidth": 2,
            "linecolor": "white",
            "showbackground": true,
            "ticks": "",
            "zerolinecolor": "white"
           },
           "yaxis": {
            "backgroundcolor": "#E5ECF6",
            "gridcolor": "white",
            "gridwidth": 2,
            "linecolor": "white",
            "showbackground": true,
            "ticks": "",
            "zerolinecolor": "white"
           },
           "zaxis": {
            "backgroundcolor": "#E5ECF6",
            "gridcolor": "white",
            "gridwidth": 2,
            "linecolor": "white",
            "showbackground": true,
            "ticks": "",
            "zerolinecolor": "white"
           }
          },
          "shapedefaults": {
           "line": {
            "color": "#2a3f5f"
           }
          },
          "ternary": {
           "aaxis": {
            "gridcolor": "white",
            "linecolor": "white",
            "ticks": ""
           },
           "baxis": {
            "gridcolor": "white",
            "linecolor": "white",
            "ticks": ""
           },
           "bgcolor": "#E5ECF6",
           "caxis": {
            "gridcolor": "white",
            "linecolor": "white",
            "ticks": ""
           }
          },
          "title": {
           "x": 0.05
          },
          "xaxis": {
           "automargin": true,
           "gridcolor": "white",
           "linecolor": "white",
           "ticks": "",
           "title": {
            "standoff": 15
           },
           "zerolinecolor": "white",
           "zerolinewidth": 2
          },
          "yaxis": {
           "automargin": true,
           "gridcolor": "white",
           "linecolor": "white",
           "ticks": "",
           "title": {
            "standoff": 15
           },
           "zerolinecolor": "white",
           "zerolinewidth": 2
          }
         }
        },
        "title": {
         "text": "Three star Michelin restaurant city breakdown(>=2 three-star Michelins)"
        },
        "width": 800
       }
      },
      "text/html": [
       "<div>                            <div id=\"b2e4d336-7c0a-4c06-9989-21353fe272c0\" class=\"plotly-graph-div\" style=\"height:700px; width:800px;\"></div>            <script type=\"text/javascript\">                require([\"plotly\"], function(Plotly) {                    window.PLOTLYENV=window.PLOTLYENV || {};                                    if (document.getElementById(\"b2e4d336-7c0a-4c06-9989-21353fe272c0\")) {                    Plotly.newPlot(                        \"b2e4d336-7c0a-4c06-9989-21353fe272c0\",                        [{\"domain\":{\"x\":[0.0,1.0],\"y\":[0.0,1.0]},\"hovertemplate\":\"Location=%{label}<extra></extra>\",\"labels\":[\"Baiersbronn\",\"Baiersbronn\",\"Bray\",\"Bray\",\"London\",\"London\",\"London\",\"London\",\"London\",\"Beijing\",\"Beijing\",\"Macau\",\"Macau\",\"Macau\",\"Hong Kong\",\"Hong Kong\",\"Hong Kong\",\"Hong Kong\",\"Hong Kong\",\"Hong Kong\",\"Hong Kong\",\"Donostia / San Sebasti\\u00e1n\",\"Donostia / San Sebasti\\u00e1n\",\"Barcelona\",\"Barcelona\",\"Tokyo\",\"Tokyo\",\"Tokyo\",\"Tokyo\",\"Tokyo\",\"Tokyo\",\"Tokyo\",\"Tokyo\",\"Tokyo\",\"Tokyo\",\"Tokyo\",\"Tokyo\",\"SEOUL\",\"SEOUL\",\"Shanghai\",\"Shanghai\",\"Osaka\",\"Osaka\",\"Osaka\",\"Kyoto\",\"Kyoto\",\"Kyoto\",\"Kyoto\",\"Kyoto\",\"Kyoto\",\"San Francisco\",\"San Francisco\",\"San Francisco\",\"Copenhagen\",\"Copenhagen\",\"Singapore\",\"Singapore\",\"Singapore\",\"New York\",\"New York\",\"New York\",\"New York\",\"New York\",\"Paris\",\"Marseille\",\"Paris\",\"Paris\",\"Paris\",\"Paris\",\"Paris\",\"Paris\",\"Paris\",\"Paris\",\"Marseille\"],\"legendgroup\":\"\",\"name\":\"\",\"showlegend\":true,\"type\":\"pie\"}],                        {\"template\":{\"data\":{\"bar\":[{\"error_x\":{\"color\":\"#2a3f5f\"},\"error_y\":{\"color\":\"#2a3f5f\"},\"marker\":{\"line\":{\"color\":\"#E5ECF6\",\"width\":0.5},\"pattern\":{\"fillmode\":\"overlay\",\"size\":10,\"solidity\":0.2}},\"type\":\"bar\"}],\"barpolar\":[{\"marker\":{\"line\":{\"color\":\"#E5ECF6\",\"width\":0.5},\"pattern\":{\"fillmode\":\"overlay\",\"size\":10,\"solidity\":0.2}},\"type\":\"barpolar\"}],\"carpet\":[{\"aaxis\":{\"endlinecolor\":\"#2a3f5f\",\"gridcolor\":\"white\",\"linecolor\":\"white\",\"minorgridcolor\":\"white\",\"startlinecolor\":\"#2a3f5f\"},\"baxis\":{\"endlinecolor\":\"#2a3f5f\",\"gridcolor\":\"white\",\"linecolor\":\"white\",\"minorgridcolor\":\"white\",\"startlinecolor\":\"#2a3f5f\"},\"type\":\"carpet\"}],\"choropleth\":[{\"colorbar\":{\"outlinewidth\":0,\"ticks\":\"\"},\"type\":\"choropleth\"}],\"contour\":[{\"colorbar\":{\"outlinewidth\":0,\"ticks\":\"\"},\"colorscale\":[[0.0,\"#0d0887\"],[0.1111111111111111,\"#46039f\"],[0.2222222222222222,\"#7201a8\"],[0.3333333333333333,\"#9c179e\"],[0.4444444444444444,\"#bd3786\"],[0.5555555555555556,\"#d8576b\"],[0.6666666666666666,\"#ed7953\"],[0.7777777777777778,\"#fb9f3a\"],[0.8888888888888888,\"#fdca26\"],[1.0,\"#f0f921\"]],\"type\":\"contour\"}],\"contourcarpet\":[{\"colorbar\":{\"outlinewidth\":0,\"ticks\":\"\"},\"type\":\"contourcarpet\"}],\"heatmap\":[{\"colorbar\":{\"outlinewidth\":0,\"ticks\":\"\"},\"colorscale\":[[0.0,\"#0d0887\"],[0.1111111111111111,\"#46039f\"],[0.2222222222222222,\"#7201a8\"],[0.3333333333333333,\"#9c179e\"],[0.4444444444444444,\"#bd3786\"],[0.5555555555555556,\"#d8576b\"],[0.6666666666666666,\"#ed7953\"],[0.7777777777777778,\"#fb9f3a\"],[0.8888888888888888,\"#fdca26\"],[1.0,\"#f0f921\"]],\"type\":\"heatmap\"}],\"heatmapgl\":[{\"colorbar\":{\"outlinewidth\":0,\"ticks\":\"\"},\"colorscale\":[[0.0,\"#0d0887\"],[0.1111111111111111,\"#46039f\"],[0.2222222222222222,\"#7201a8\"],[0.3333333333333333,\"#9c179e\"],[0.4444444444444444,\"#bd3786\"],[0.5555555555555556,\"#d8576b\"],[0.6666666666666666,\"#ed7953\"],[0.7777777777777778,\"#fb9f3a\"],[0.8888888888888888,\"#fdca26\"],[1.0,\"#f0f921\"]],\"type\":\"heatmapgl\"}],\"histogram\":[{\"marker\":{\"pattern\":{\"fillmode\":\"overlay\",\"size\":10,\"solidity\":0.2}},\"type\":\"histogram\"}],\"histogram2d\":[{\"colorbar\":{\"outlinewidth\":0,\"ticks\":\"\"},\"colorscale\":[[0.0,\"#0d0887\"],[0.1111111111111111,\"#46039f\"],[0.2222222222222222,\"#7201a8\"],[0.3333333333333333,\"#9c179e\"],[0.4444444444444444,\"#bd3786\"],[0.5555555555555556,\"#d8576b\"],[0.6666666666666666,\"#ed7953\"],[0.7777777777777778,\"#fb9f3a\"],[0.8888888888888888,\"#fdca26\"],[1.0,\"#f0f921\"]],\"type\":\"histogram2d\"}],\"histogram2dcontour\":[{\"colorbar\":{\"outlinewidth\":0,\"ticks\":\"\"},\"colorscale\":[[0.0,\"#0d0887\"],[0.1111111111111111,\"#46039f\"],[0.2222222222222222,\"#7201a8\"],[0.3333333333333333,\"#9c179e\"],[0.4444444444444444,\"#bd3786\"],[0.5555555555555556,\"#d8576b\"],[0.6666666666666666,\"#ed7953\"],[0.7777777777777778,\"#fb9f3a\"],[0.8888888888888888,\"#fdca26\"],[1.0,\"#f0f921\"]],\"type\":\"histogram2dcontour\"}],\"mesh3d\":[{\"colorbar\":{\"outlinewidth\":0,\"ticks\":\"\"},\"type\":\"mesh3d\"}],\"parcoords\":[{\"line\":{\"colorbar\":{\"outlinewidth\":0,\"ticks\":\"\"}},\"type\":\"parcoords\"}],\"pie\":[{\"automargin\":true,\"type\":\"pie\"}],\"scatter\":[{\"marker\":{\"colorbar\":{\"outlinewidth\":0,\"ticks\":\"\"}},\"type\":\"scatter\"}],\"scatter3d\":[{\"line\":{\"colorbar\":{\"outlinewidth\":0,\"ticks\":\"\"}},\"marker\":{\"colorbar\":{\"outlinewidth\":0,\"ticks\":\"\"}},\"type\":\"scatter3d\"}],\"scattercarpet\":[{\"marker\":{\"colorbar\":{\"outlinewidth\":0,\"ticks\":\"\"}},\"type\":\"scattercarpet\"}],\"scattergeo\":[{\"marker\":{\"colorbar\":{\"outlinewidth\":0,\"ticks\":\"\"}},\"type\":\"scattergeo\"}],\"scattergl\":[{\"marker\":{\"colorbar\":{\"outlinewidth\":0,\"ticks\":\"\"}},\"type\":\"scattergl\"}],\"scattermapbox\":[{\"marker\":{\"colorbar\":{\"outlinewidth\":0,\"ticks\":\"\"}},\"type\":\"scattermapbox\"}],\"scatterpolar\":[{\"marker\":{\"colorbar\":{\"outlinewidth\":0,\"ticks\":\"\"}},\"type\":\"scatterpolar\"}],\"scatterpolargl\":[{\"marker\":{\"colorbar\":{\"outlinewidth\":0,\"ticks\":\"\"}},\"type\":\"scatterpolargl\"}],\"scatterternary\":[{\"marker\":{\"colorbar\":{\"outlinewidth\":0,\"ticks\":\"\"}},\"type\":\"scatterternary\"}],\"surface\":[{\"colorbar\":{\"outlinewidth\":0,\"ticks\":\"\"},\"colorscale\":[[0.0,\"#0d0887\"],[0.1111111111111111,\"#46039f\"],[0.2222222222222222,\"#7201a8\"],[0.3333333333333333,\"#9c179e\"],[0.4444444444444444,\"#bd3786\"],[0.5555555555555556,\"#d8576b\"],[0.6666666666666666,\"#ed7953\"],[0.7777777777777778,\"#fb9f3a\"],[0.8888888888888888,\"#fdca26\"],[1.0,\"#f0f921\"]],\"type\":\"surface\"}],\"table\":[{\"cells\":{\"fill\":{\"color\":\"#EBF0F8\"},\"line\":{\"color\":\"white\"}},\"header\":{\"fill\":{\"color\":\"#C8D4E3\"},\"line\":{\"color\":\"white\"}},\"type\":\"table\"}]},\"layout\":{\"annotationdefaults\":{\"arrowcolor\":\"#2a3f5f\",\"arrowhead\":0,\"arrowwidth\":1},\"autotypenumbers\":\"strict\",\"coloraxis\":{\"colorbar\":{\"outlinewidth\":0,\"ticks\":\"\"}},\"colorscale\":{\"diverging\":[[0,\"#8e0152\"],[0.1,\"#c51b7d\"],[0.2,\"#de77ae\"],[0.3,\"#f1b6da\"],[0.4,\"#fde0ef\"],[0.5,\"#f7f7f7\"],[0.6,\"#e6f5d0\"],[0.7,\"#b8e186\"],[0.8,\"#7fbc41\"],[0.9,\"#4d9221\"],[1,\"#276419\"]],\"sequential\":[[0.0,\"#0d0887\"],[0.1111111111111111,\"#46039f\"],[0.2222222222222222,\"#7201a8\"],[0.3333333333333333,\"#9c179e\"],[0.4444444444444444,\"#bd3786\"],[0.5555555555555556,\"#d8576b\"],[0.6666666666666666,\"#ed7953\"],[0.7777777777777778,\"#fb9f3a\"],[0.8888888888888888,\"#fdca26\"],[1.0,\"#f0f921\"]],\"sequentialminus\":[[0.0,\"#0d0887\"],[0.1111111111111111,\"#46039f\"],[0.2222222222222222,\"#7201a8\"],[0.3333333333333333,\"#9c179e\"],[0.4444444444444444,\"#bd3786\"],[0.5555555555555556,\"#d8576b\"],[0.6666666666666666,\"#ed7953\"],[0.7777777777777778,\"#fb9f3a\"],[0.8888888888888888,\"#fdca26\"],[1.0,\"#f0f921\"]]},\"colorway\":[\"#636efa\",\"#EF553B\",\"#00cc96\",\"#ab63fa\",\"#FFA15A\",\"#19d3f3\",\"#FF6692\",\"#B6E880\",\"#FF97FF\",\"#FECB52\"],\"font\":{\"color\":\"#2a3f5f\"},\"geo\":{\"bgcolor\":\"white\",\"lakecolor\":\"white\",\"landcolor\":\"#E5ECF6\",\"showlakes\":true,\"showland\":true,\"subunitcolor\":\"white\"},\"hoverlabel\":{\"align\":\"left\"},\"hovermode\":\"closest\",\"mapbox\":{\"style\":\"light\"},\"paper_bgcolor\":\"white\",\"plot_bgcolor\":\"#E5ECF6\",\"polar\":{\"angularaxis\":{\"gridcolor\":\"white\",\"linecolor\":\"white\",\"ticks\":\"\"},\"bgcolor\":\"#E5ECF6\",\"radialaxis\":{\"gridcolor\":\"white\",\"linecolor\":\"white\",\"ticks\":\"\"}},\"scene\":{\"xaxis\":{\"backgroundcolor\":\"#E5ECF6\",\"gridcolor\":\"white\",\"gridwidth\":2,\"linecolor\":\"white\",\"showbackground\":true,\"ticks\":\"\",\"zerolinecolor\":\"white\"},\"yaxis\":{\"backgroundcolor\":\"#E5ECF6\",\"gridcolor\":\"white\",\"gridwidth\":2,\"linecolor\":\"white\",\"showbackground\":true,\"ticks\":\"\",\"zerolinecolor\":\"white\"},\"zaxis\":{\"backgroundcolor\":\"#E5ECF6\",\"gridcolor\":\"white\",\"gridwidth\":2,\"linecolor\":\"white\",\"showbackground\":true,\"ticks\":\"\",\"zerolinecolor\":\"white\"}},\"shapedefaults\":{\"line\":{\"color\":\"#2a3f5f\"}},\"ternary\":{\"aaxis\":{\"gridcolor\":\"white\",\"linecolor\":\"white\",\"ticks\":\"\"},\"baxis\":{\"gridcolor\":\"white\",\"linecolor\":\"white\",\"ticks\":\"\"},\"bgcolor\":\"#E5ECF6\",\"caxis\":{\"gridcolor\":\"white\",\"linecolor\":\"white\",\"ticks\":\"\"}},\"title\":{\"x\":0.05},\"xaxis\":{\"automargin\":true,\"gridcolor\":\"white\",\"linecolor\":\"white\",\"ticks\":\"\",\"title\":{\"standoff\":15},\"zerolinecolor\":\"white\",\"zerolinewidth\":2},\"yaxis\":{\"automargin\":true,\"gridcolor\":\"white\",\"linecolor\":\"white\",\"ticks\":\"\",\"title\":{\"standoff\":15},\"zerolinecolor\":\"white\",\"zerolinewidth\":2}}},\"legend\":{\"tracegroupgap\":0},\"title\":{\"text\":\"Three star Michelin restaurant city breakdown(>=2 three-star Michelins)\"},\"height\":700,\"width\":800},                        {\"responsive\": true}                    ).then(function(){\n",
       "                            \n",
       "var gd = document.getElementById('b2e4d336-7c0a-4c06-9989-21353fe272c0');\n",
       "var x = new MutationObserver(function (mutations, observer) {{\n",
       "        var display = window.getComputedStyle(gd).display;\n",
       "        if (!display || display === 'none') {{\n",
       "            console.log([gd, 'removed!']);\n",
       "            Plotly.purge(gd);\n",
       "            observer.disconnect();\n",
       "        }}\n",
       "}});\n",
       "\n",
       "// Listen for the removal of the full notebook cells\n",
       "var notebookContainer = gd.closest('#notebook-container');\n",
       "if (notebookContainer) {{\n",
       "    x.observe(notebookContainer, {childList: true});\n",
       "}}\n",
       "\n",
       "// Listen for the clearing of the current output cell\n",
       "var outputEl = gd.closest('.output');\n",
       "if (outputEl) {{\n",
       "    x.observe(outputEl, {childList: true});\n",
       "}}\n",
       "\n",
       "                        })                };                });            </script>        </div>"
      ]
     },
     "metadata": {},
     "output_type": "display_data"
    }
   ],
   "source": [
    "fig = px.pie(\n",
    "    threestar3,\n",
    "    names='Location',\n",
    "    title='Three star Michelin restaurant city breakdown(>=2 three-star Michelins)',\n",
    "    width=800,\n",
    "    height=700\n",
    ")\n",
    "\n",
    "fig.show()"
   ]
  },
  {
   "cell_type": "markdown",
   "metadata": {},
   "source": [
    "The top 10 cities with the most 3-star Michelin restaurants:"
   ]
  },
  {
   "cell_type": "code",
   "execution_count": 103,
   "metadata": {},
   "outputs": [
    {
     "data": {
      "application/vnd.plotly.v1+json": {
       "config": {
        "plotlyServerURL": "https://plot.ly"
       },
       "data": [
        {
         "alignmentgroup": "True",
         "hovertemplate": "Location=%{x}<br>Count=%{y}<extra></extra>",
         "legendgroup": "Paris",
         "marker": {
          "color": "#636efa",
          "pattern": {
           "shape": ""
          }
         },
         "name": "Paris",
         "offsetgroup": "Paris",
         "orientation": "v",
         "showlegend": true,
         "textposition": "auto",
         "type": "bar",
         "x": [
          "Paris"
         ],
         "xaxis": "x",
         "y": [
          9
         ],
         "yaxis": "y"
        },
        {
         "alignmentgroup": "True",
         "hovertemplate": "Location=%{x}<br>Count=%{y}<extra></extra>",
         "legendgroup": "Hong Kong",
         "marker": {
          "color": "#EF553B",
          "pattern": {
           "shape": ""
          }
         },
         "name": "Hong Kong",
         "offsetgroup": "Hong Kong",
         "orientation": "v",
         "showlegend": true,
         "textposition": "auto",
         "type": "bar",
         "x": [
          "Hong Kong"
         ],
         "xaxis": "x",
         "y": [
          7
         ],
         "yaxis": "y"
        },
        {
         "alignmentgroup": "True",
         "hovertemplate": "Location=%{x}<br>Count=%{y}<extra></extra>",
         "legendgroup": "Kyoto",
         "marker": {
          "color": "#00cc96",
          "pattern": {
           "shape": ""
          }
         },
         "name": "Kyoto",
         "offsetgroup": "Kyoto",
         "orientation": "v",
         "showlegend": true,
         "textposition": "auto",
         "type": "bar",
         "x": [
          "Kyoto"
         ],
         "xaxis": "x",
         "y": [
          6
         ],
         "yaxis": "y"
        },
        {
         "alignmentgroup": "True",
         "hovertemplate": "Location=%{x}<br>Count=%{y}<extra></extra>",
         "legendgroup": "London",
         "marker": {
          "color": "#ab63fa",
          "pattern": {
           "shape": ""
          }
         },
         "name": "London",
         "offsetgroup": "London",
         "orientation": "v",
         "showlegend": true,
         "textposition": "auto",
         "type": "bar",
         "x": [
          "London"
         ],
         "xaxis": "x",
         "y": [
          5
         ],
         "yaxis": "y"
        },
        {
         "alignmentgroup": "True",
         "hovertemplate": "Location=%{x}<br>Count=%{y}<extra></extra>",
         "legendgroup": "New York",
         "marker": {
          "color": "#FFA15A",
          "pattern": {
           "shape": ""
          }
         },
         "name": "New York",
         "offsetgroup": "New York",
         "orientation": "v",
         "showlegend": true,
         "textposition": "auto",
         "type": "bar",
         "x": [
          "New York"
         ],
         "xaxis": "x",
         "y": [
          5
         ],
         "yaxis": "y"
        },
        {
         "alignmentgroup": "True",
         "hovertemplate": "Location=%{x}<br>Count=%{y}<extra></extra>",
         "legendgroup": "San Francisco",
         "marker": {
          "color": "#19d3f3",
          "pattern": {
           "shape": ""
          }
         },
         "name": "San Francisco",
         "offsetgroup": "San Francisco",
         "orientation": "v",
         "showlegend": true,
         "textposition": "auto",
         "type": "bar",
         "x": [
          "San Francisco"
         ],
         "xaxis": "x",
         "y": [
          3
         ],
         "yaxis": "y"
        },
        {
         "alignmentgroup": "True",
         "hovertemplate": "Location=%{x}<br>Count=%{y}<extra></extra>",
         "legendgroup": "Singapore",
         "marker": {
          "color": "#FF6692",
          "pattern": {
           "shape": ""
          }
         },
         "name": "Singapore",
         "offsetgroup": "Singapore",
         "orientation": "v",
         "showlegend": true,
         "textposition": "auto",
         "type": "bar",
         "x": [
          "Singapore"
         ],
         "xaxis": "x",
         "y": [
          3
         ],
         "yaxis": "y"
        },
        {
         "alignmentgroup": "True",
         "hovertemplate": "Location=%{x}<br>Count=%{y}<extra></extra>",
         "legendgroup": "Macau",
         "marker": {
          "color": "#B6E880",
          "pattern": {
           "shape": ""
          }
         },
         "name": "Macau",
         "offsetgroup": "Macau",
         "orientation": "v",
         "showlegend": true,
         "textposition": "auto",
         "type": "bar",
         "x": [
          "Macau"
         ],
         "xaxis": "x",
         "y": [
          3
         ],
         "yaxis": "y"
        },
        {
         "alignmentgroup": "True",
         "hovertemplate": "Location=%{x}<br>Count=%{y}<extra></extra>",
         "legendgroup": "Osaka",
         "marker": {
          "color": "#FF97FF",
          "pattern": {
           "shape": ""
          }
         },
         "name": "Osaka",
         "offsetgroup": "Osaka",
         "orientation": "v",
         "showlegend": true,
         "textposition": "auto",
         "type": "bar",
         "x": [
          "Osaka"
         ],
         "xaxis": "x",
         "y": [
          3
         ],
         "yaxis": "y"
        }
       ],
       "layout": {
        "barmode": "relative",
        "height": 500,
        "legend": {
         "title": {
          "text": "Location"
         },
         "tracegroupgap": 0
        },
        "template": {
         "data": {
          "bar": [
           {
            "error_x": {
             "color": "#2a3f5f"
            },
            "error_y": {
             "color": "#2a3f5f"
            },
            "marker": {
             "line": {
              "color": "#E5ECF6",
              "width": 0.5
             },
             "pattern": {
              "fillmode": "overlay",
              "size": 10,
              "solidity": 0.2
             }
            },
            "type": "bar"
           }
          ],
          "barpolar": [
           {
            "marker": {
             "line": {
              "color": "#E5ECF6",
              "width": 0.5
             },
             "pattern": {
              "fillmode": "overlay",
              "size": 10,
              "solidity": 0.2
             }
            },
            "type": "barpolar"
           }
          ],
          "carpet": [
           {
            "aaxis": {
             "endlinecolor": "#2a3f5f",
             "gridcolor": "white",
             "linecolor": "white",
             "minorgridcolor": "white",
             "startlinecolor": "#2a3f5f"
            },
            "baxis": {
             "endlinecolor": "#2a3f5f",
             "gridcolor": "white",
             "linecolor": "white",
             "minorgridcolor": "white",
             "startlinecolor": "#2a3f5f"
            },
            "type": "carpet"
           }
          ],
          "choropleth": [
           {
            "colorbar": {
             "outlinewidth": 0,
             "ticks": ""
            },
            "type": "choropleth"
           }
          ],
          "contour": [
           {
            "colorbar": {
             "outlinewidth": 0,
             "ticks": ""
            },
            "colorscale": [
             [
              0,
              "#0d0887"
             ],
             [
              0.1111111111111111,
              "#46039f"
             ],
             [
              0.2222222222222222,
              "#7201a8"
             ],
             [
              0.3333333333333333,
              "#9c179e"
             ],
             [
              0.4444444444444444,
              "#bd3786"
             ],
             [
              0.5555555555555556,
              "#d8576b"
             ],
             [
              0.6666666666666666,
              "#ed7953"
             ],
             [
              0.7777777777777778,
              "#fb9f3a"
             ],
             [
              0.8888888888888888,
              "#fdca26"
             ],
             [
              1,
              "#f0f921"
             ]
            ],
            "type": "contour"
           }
          ],
          "contourcarpet": [
           {
            "colorbar": {
             "outlinewidth": 0,
             "ticks": ""
            },
            "type": "contourcarpet"
           }
          ],
          "heatmap": [
           {
            "colorbar": {
             "outlinewidth": 0,
             "ticks": ""
            },
            "colorscale": [
             [
              0,
              "#0d0887"
             ],
             [
              0.1111111111111111,
              "#46039f"
             ],
             [
              0.2222222222222222,
              "#7201a8"
             ],
             [
              0.3333333333333333,
              "#9c179e"
             ],
             [
              0.4444444444444444,
              "#bd3786"
             ],
             [
              0.5555555555555556,
              "#d8576b"
             ],
             [
              0.6666666666666666,
              "#ed7953"
             ],
             [
              0.7777777777777778,
              "#fb9f3a"
             ],
             [
              0.8888888888888888,
              "#fdca26"
             ],
             [
              1,
              "#f0f921"
             ]
            ],
            "type": "heatmap"
           }
          ],
          "heatmapgl": [
           {
            "colorbar": {
             "outlinewidth": 0,
             "ticks": ""
            },
            "colorscale": [
             [
              0,
              "#0d0887"
             ],
             [
              0.1111111111111111,
              "#46039f"
             ],
             [
              0.2222222222222222,
              "#7201a8"
             ],
             [
              0.3333333333333333,
              "#9c179e"
             ],
             [
              0.4444444444444444,
              "#bd3786"
             ],
             [
              0.5555555555555556,
              "#d8576b"
             ],
             [
              0.6666666666666666,
              "#ed7953"
             ],
             [
              0.7777777777777778,
              "#fb9f3a"
             ],
             [
              0.8888888888888888,
              "#fdca26"
             ],
             [
              1,
              "#f0f921"
             ]
            ],
            "type": "heatmapgl"
           }
          ],
          "histogram": [
           {
            "marker": {
             "pattern": {
              "fillmode": "overlay",
              "size": 10,
              "solidity": 0.2
             }
            },
            "type": "histogram"
           }
          ],
          "histogram2d": [
           {
            "colorbar": {
             "outlinewidth": 0,
             "ticks": ""
            },
            "colorscale": [
             [
              0,
              "#0d0887"
             ],
             [
              0.1111111111111111,
              "#46039f"
             ],
             [
              0.2222222222222222,
              "#7201a8"
             ],
             [
              0.3333333333333333,
              "#9c179e"
             ],
             [
              0.4444444444444444,
              "#bd3786"
             ],
             [
              0.5555555555555556,
              "#d8576b"
             ],
             [
              0.6666666666666666,
              "#ed7953"
             ],
             [
              0.7777777777777778,
              "#fb9f3a"
             ],
             [
              0.8888888888888888,
              "#fdca26"
             ],
             [
              1,
              "#f0f921"
             ]
            ],
            "type": "histogram2d"
           }
          ],
          "histogram2dcontour": [
           {
            "colorbar": {
             "outlinewidth": 0,
             "ticks": ""
            },
            "colorscale": [
             [
              0,
              "#0d0887"
             ],
             [
              0.1111111111111111,
              "#46039f"
             ],
             [
              0.2222222222222222,
              "#7201a8"
             ],
             [
              0.3333333333333333,
              "#9c179e"
             ],
             [
              0.4444444444444444,
              "#bd3786"
             ],
             [
              0.5555555555555556,
              "#d8576b"
             ],
             [
              0.6666666666666666,
              "#ed7953"
             ],
             [
              0.7777777777777778,
              "#fb9f3a"
             ],
             [
              0.8888888888888888,
              "#fdca26"
             ],
             [
              1,
              "#f0f921"
             ]
            ],
            "type": "histogram2dcontour"
           }
          ],
          "mesh3d": [
           {
            "colorbar": {
             "outlinewidth": 0,
             "ticks": ""
            },
            "type": "mesh3d"
           }
          ],
          "parcoords": [
           {
            "line": {
             "colorbar": {
              "outlinewidth": 0,
              "ticks": ""
             }
            },
            "type": "parcoords"
           }
          ],
          "pie": [
           {
            "automargin": true,
            "type": "pie"
           }
          ],
          "scatter": [
           {
            "marker": {
             "colorbar": {
              "outlinewidth": 0,
              "ticks": ""
             }
            },
            "type": "scatter"
           }
          ],
          "scatter3d": [
           {
            "line": {
             "colorbar": {
              "outlinewidth": 0,
              "ticks": ""
             }
            },
            "marker": {
             "colorbar": {
              "outlinewidth": 0,
              "ticks": ""
             }
            },
            "type": "scatter3d"
           }
          ],
          "scattercarpet": [
           {
            "marker": {
             "colorbar": {
              "outlinewidth": 0,
              "ticks": ""
             }
            },
            "type": "scattercarpet"
           }
          ],
          "scattergeo": [
           {
            "marker": {
             "colorbar": {
              "outlinewidth": 0,
              "ticks": ""
             }
            },
            "type": "scattergeo"
           }
          ],
          "scattergl": [
           {
            "marker": {
             "colorbar": {
              "outlinewidth": 0,
              "ticks": ""
             }
            },
            "type": "scattergl"
           }
          ],
          "scattermapbox": [
           {
            "marker": {
             "colorbar": {
              "outlinewidth": 0,
              "ticks": ""
             }
            },
            "type": "scattermapbox"
           }
          ],
          "scatterpolar": [
           {
            "marker": {
             "colorbar": {
              "outlinewidth": 0,
              "ticks": ""
             }
            },
            "type": "scatterpolar"
           }
          ],
          "scatterpolargl": [
           {
            "marker": {
             "colorbar": {
              "outlinewidth": 0,
              "ticks": ""
             }
            },
            "type": "scatterpolargl"
           }
          ],
          "scatterternary": [
           {
            "marker": {
             "colorbar": {
              "outlinewidth": 0,
              "ticks": ""
             }
            },
            "type": "scatterternary"
           }
          ],
          "surface": [
           {
            "colorbar": {
             "outlinewidth": 0,
             "ticks": ""
            },
            "colorscale": [
             [
              0,
              "#0d0887"
             ],
             [
              0.1111111111111111,
              "#46039f"
             ],
             [
              0.2222222222222222,
              "#7201a8"
             ],
             [
              0.3333333333333333,
              "#9c179e"
             ],
             [
              0.4444444444444444,
              "#bd3786"
             ],
             [
              0.5555555555555556,
              "#d8576b"
             ],
             [
              0.6666666666666666,
              "#ed7953"
             ],
             [
              0.7777777777777778,
              "#fb9f3a"
             ],
             [
              0.8888888888888888,
              "#fdca26"
             ],
             [
              1,
              "#f0f921"
             ]
            ],
            "type": "surface"
           }
          ],
          "table": [
           {
            "cells": {
             "fill": {
              "color": "#EBF0F8"
             },
             "line": {
              "color": "white"
             }
            },
            "header": {
             "fill": {
              "color": "#C8D4E3"
             },
             "line": {
              "color": "white"
             }
            },
            "type": "table"
           }
          ]
         },
         "layout": {
          "annotationdefaults": {
           "arrowcolor": "#2a3f5f",
           "arrowhead": 0,
           "arrowwidth": 1
          },
          "autotypenumbers": "strict",
          "coloraxis": {
           "colorbar": {
            "outlinewidth": 0,
            "ticks": ""
           }
          },
          "colorscale": {
           "diverging": [
            [
             0,
             "#8e0152"
            ],
            [
             0.1,
             "#c51b7d"
            ],
            [
             0.2,
             "#de77ae"
            ],
            [
             0.3,
             "#f1b6da"
            ],
            [
             0.4,
             "#fde0ef"
            ],
            [
             0.5,
             "#f7f7f7"
            ],
            [
             0.6,
             "#e6f5d0"
            ],
            [
             0.7,
             "#b8e186"
            ],
            [
             0.8,
             "#7fbc41"
            ],
            [
             0.9,
             "#4d9221"
            ],
            [
             1,
             "#276419"
            ]
           ],
           "sequential": [
            [
             0,
             "#0d0887"
            ],
            [
             0.1111111111111111,
             "#46039f"
            ],
            [
             0.2222222222222222,
             "#7201a8"
            ],
            [
             0.3333333333333333,
             "#9c179e"
            ],
            [
             0.4444444444444444,
             "#bd3786"
            ],
            [
             0.5555555555555556,
             "#d8576b"
            ],
            [
             0.6666666666666666,
             "#ed7953"
            ],
            [
             0.7777777777777778,
             "#fb9f3a"
            ],
            [
             0.8888888888888888,
             "#fdca26"
            ],
            [
             1,
             "#f0f921"
            ]
           ],
           "sequentialminus": [
            [
             0,
             "#0d0887"
            ],
            [
             0.1111111111111111,
             "#46039f"
            ],
            [
             0.2222222222222222,
             "#7201a8"
            ],
            [
             0.3333333333333333,
             "#9c179e"
            ],
            [
             0.4444444444444444,
             "#bd3786"
            ],
            [
             0.5555555555555556,
             "#d8576b"
            ],
            [
             0.6666666666666666,
             "#ed7953"
            ],
            [
             0.7777777777777778,
             "#fb9f3a"
            ],
            [
             0.8888888888888888,
             "#fdca26"
            ],
            [
             1,
             "#f0f921"
            ]
           ]
          },
          "colorway": [
           "#636efa",
           "#EF553B",
           "#00cc96",
           "#ab63fa",
           "#FFA15A",
           "#19d3f3",
           "#FF6692",
           "#B6E880",
           "#FF97FF",
           "#FECB52"
          ],
          "font": {
           "color": "#2a3f5f"
          },
          "geo": {
           "bgcolor": "white",
           "lakecolor": "white",
           "landcolor": "#E5ECF6",
           "showlakes": true,
           "showland": true,
           "subunitcolor": "white"
          },
          "hoverlabel": {
           "align": "left"
          },
          "hovermode": "closest",
          "mapbox": {
           "style": "light"
          },
          "paper_bgcolor": "white",
          "plot_bgcolor": "#E5ECF6",
          "polar": {
           "angularaxis": {
            "gridcolor": "white",
            "linecolor": "white",
            "ticks": ""
           },
           "bgcolor": "#E5ECF6",
           "radialaxis": {
            "gridcolor": "white",
            "linecolor": "white",
            "ticks": ""
           }
          },
          "scene": {
           "xaxis": {
            "backgroundcolor": "#E5ECF6",
            "gridcolor": "white",
            "gridwidth": 2,
            "linecolor": "white",
            "showbackground": true,
            "ticks": "",
            "zerolinecolor": "white"
           },
           "yaxis": {
            "backgroundcolor": "#E5ECF6",
            "gridcolor": "white",
            "gridwidth": 2,
            "linecolor": "white",
            "showbackground": true,
            "ticks": "",
            "zerolinecolor": "white"
           },
           "zaxis": {
            "backgroundcolor": "#E5ECF6",
            "gridcolor": "white",
            "gridwidth": 2,
            "linecolor": "white",
            "showbackground": true,
            "ticks": "",
            "zerolinecolor": "white"
           }
          },
          "shapedefaults": {
           "line": {
            "color": "#2a3f5f"
           }
          },
          "ternary": {
           "aaxis": {
            "gridcolor": "white",
            "linecolor": "white",
            "ticks": ""
           },
           "baxis": {
            "gridcolor": "white",
            "linecolor": "white",
            "ticks": ""
           },
           "bgcolor": "#E5ECF6",
           "caxis": {
            "gridcolor": "white",
            "linecolor": "white",
            "ticks": ""
           }
          },
          "title": {
           "x": 0.05
          },
          "xaxis": {
           "automargin": true,
           "gridcolor": "white",
           "linecolor": "white",
           "ticks": "",
           "title": {
            "standoff": 15
           },
           "zerolinecolor": "white",
           "zerolinewidth": 2
          },
          "yaxis": {
           "automargin": true,
           "gridcolor": "white",
           "linecolor": "white",
           "ticks": "",
           "title": {
            "standoff": 15
           },
           "zerolinecolor": "white",
           "zerolinewidth": 2
          }
         }
        },
        "title": {
         "text": "Top 10 cities with the most 3-star Michelin Restaurants"
        },
        "width": 800,
        "xaxis": {
         "anchor": "y",
         "categoryarray": [
          "Paris",
          "Hong Kong",
          "Kyoto",
          "London",
          "New York",
          "San Francisco",
          "Singapore",
          "Macau",
          "Osaka"
         ],
         "categoryorder": "array",
         "domain": [
          0,
          1
         ],
         "title": {
          "text": "Location"
         }
        },
        "yaxis": {
         "anchor": "x",
         "domain": [
          0,
          1
         ],
         "title": {
          "text": "Count"
         }
        }
       }
      },
      "text/html": [
       "<div>                            <div id=\"5580dc10-338a-4739-91e0-f5bbc3ca8adf\" class=\"plotly-graph-div\" style=\"height:500px; width:800px;\"></div>            <script type=\"text/javascript\">                require([\"plotly\"], function(Plotly) {                    window.PLOTLYENV=window.PLOTLYENV || {};                                    if (document.getElementById(\"5580dc10-338a-4739-91e0-f5bbc3ca8adf\")) {                    Plotly.newPlot(                        \"5580dc10-338a-4739-91e0-f5bbc3ca8adf\",                        [{\"alignmentgroup\":\"True\",\"hovertemplate\":\"Location=%{x}<br>Count=%{y}<extra></extra>\",\"legendgroup\":\"Paris\",\"marker\":{\"color\":\"#636efa\",\"pattern\":{\"shape\":\"\"}},\"name\":\"Paris\",\"offsetgroup\":\"Paris\",\"orientation\":\"v\",\"showlegend\":true,\"textposition\":\"auto\",\"x\":[\"Paris\"],\"xaxis\":\"x\",\"y\":[9],\"yaxis\":\"y\",\"type\":\"bar\"},{\"alignmentgroup\":\"True\",\"hovertemplate\":\"Location=%{x}<br>Count=%{y}<extra></extra>\",\"legendgroup\":\"Hong Kong\",\"marker\":{\"color\":\"#EF553B\",\"pattern\":{\"shape\":\"\"}},\"name\":\"Hong Kong\",\"offsetgroup\":\"Hong Kong\",\"orientation\":\"v\",\"showlegend\":true,\"textposition\":\"auto\",\"x\":[\"Hong Kong\"],\"xaxis\":\"x\",\"y\":[7],\"yaxis\":\"y\",\"type\":\"bar\"},{\"alignmentgroup\":\"True\",\"hovertemplate\":\"Location=%{x}<br>Count=%{y}<extra></extra>\",\"legendgroup\":\"Kyoto\",\"marker\":{\"color\":\"#00cc96\",\"pattern\":{\"shape\":\"\"}},\"name\":\"Kyoto\",\"offsetgroup\":\"Kyoto\",\"orientation\":\"v\",\"showlegend\":true,\"textposition\":\"auto\",\"x\":[\"Kyoto\"],\"xaxis\":\"x\",\"y\":[6],\"yaxis\":\"y\",\"type\":\"bar\"},{\"alignmentgroup\":\"True\",\"hovertemplate\":\"Location=%{x}<br>Count=%{y}<extra></extra>\",\"legendgroup\":\"London\",\"marker\":{\"color\":\"#ab63fa\",\"pattern\":{\"shape\":\"\"}},\"name\":\"London\",\"offsetgroup\":\"London\",\"orientation\":\"v\",\"showlegend\":true,\"textposition\":\"auto\",\"x\":[\"London\"],\"xaxis\":\"x\",\"y\":[5],\"yaxis\":\"y\",\"type\":\"bar\"},{\"alignmentgroup\":\"True\",\"hovertemplate\":\"Location=%{x}<br>Count=%{y}<extra></extra>\",\"legendgroup\":\"New York\",\"marker\":{\"color\":\"#FFA15A\",\"pattern\":{\"shape\":\"\"}},\"name\":\"New York\",\"offsetgroup\":\"New York\",\"orientation\":\"v\",\"showlegend\":true,\"textposition\":\"auto\",\"x\":[\"New York\"],\"xaxis\":\"x\",\"y\":[5],\"yaxis\":\"y\",\"type\":\"bar\"},{\"alignmentgroup\":\"True\",\"hovertemplate\":\"Location=%{x}<br>Count=%{y}<extra></extra>\",\"legendgroup\":\"San Francisco\",\"marker\":{\"color\":\"#19d3f3\",\"pattern\":{\"shape\":\"\"}},\"name\":\"San Francisco\",\"offsetgroup\":\"San Francisco\",\"orientation\":\"v\",\"showlegend\":true,\"textposition\":\"auto\",\"x\":[\"San Francisco\"],\"xaxis\":\"x\",\"y\":[3],\"yaxis\":\"y\",\"type\":\"bar\"},{\"alignmentgroup\":\"True\",\"hovertemplate\":\"Location=%{x}<br>Count=%{y}<extra></extra>\",\"legendgroup\":\"Singapore\",\"marker\":{\"color\":\"#FF6692\",\"pattern\":{\"shape\":\"\"}},\"name\":\"Singapore\",\"offsetgroup\":\"Singapore\",\"orientation\":\"v\",\"showlegend\":true,\"textposition\":\"auto\",\"x\":[\"Singapore\"],\"xaxis\":\"x\",\"y\":[3],\"yaxis\":\"y\",\"type\":\"bar\"},{\"alignmentgroup\":\"True\",\"hovertemplate\":\"Location=%{x}<br>Count=%{y}<extra></extra>\",\"legendgroup\":\"Macau\",\"marker\":{\"color\":\"#B6E880\",\"pattern\":{\"shape\":\"\"}},\"name\":\"Macau\",\"offsetgroup\":\"Macau\",\"orientation\":\"v\",\"showlegend\":true,\"textposition\":\"auto\",\"x\":[\"Macau\"],\"xaxis\":\"x\",\"y\":[3],\"yaxis\":\"y\",\"type\":\"bar\"},{\"alignmentgroup\":\"True\",\"hovertemplate\":\"Location=%{x}<br>Count=%{y}<extra></extra>\",\"legendgroup\":\"Osaka\",\"marker\":{\"color\":\"#FF97FF\",\"pattern\":{\"shape\":\"\"}},\"name\":\"Osaka\",\"offsetgroup\":\"Osaka\",\"orientation\":\"v\",\"showlegend\":true,\"textposition\":\"auto\",\"x\":[\"Osaka\"],\"xaxis\":\"x\",\"y\":[3],\"yaxis\":\"y\",\"type\":\"bar\"}],                        {\"template\":{\"data\":{\"bar\":[{\"error_x\":{\"color\":\"#2a3f5f\"},\"error_y\":{\"color\":\"#2a3f5f\"},\"marker\":{\"line\":{\"color\":\"#E5ECF6\",\"width\":0.5},\"pattern\":{\"fillmode\":\"overlay\",\"size\":10,\"solidity\":0.2}},\"type\":\"bar\"}],\"barpolar\":[{\"marker\":{\"line\":{\"color\":\"#E5ECF6\",\"width\":0.5},\"pattern\":{\"fillmode\":\"overlay\",\"size\":10,\"solidity\":0.2}},\"type\":\"barpolar\"}],\"carpet\":[{\"aaxis\":{\"endlinecolor\":\"#2a3f5f\",\"gridcolor\":\"white\",\"linecolor\":\"white\",\"minorgridcolor\":\"white\",\"startlinecolor\":\"#2a3f5f\"},\"baxis\":{\"endlinecolor\":\"#2a3f5f\",\"gridcolor\":\"white\",\"linecolor\":\"white\",\"minorgridcolor\":\"white\",\"startlinecolor\":\"#2a3f5f\"},\"type\":\"carpet\"}],\"choropleth\":[{\"colorbar\":{\"outlinewidth\":0,\"ticks\":\"\"},\"type\":\"choropleth\"}],\"contour\":[{\"colorbar\":{\"outlinewidth\":0,\"ticks\":\"\"},\"colorscale\":[[0.0,\"#0d0887\"],[0.1111111111111111,\"#46039f\"],[0.2222222222222222,\"#7201a8\"],[0.3333333333333333,\"#9c179e\"],[0.4444444444444444,\"#bd3786\"],[0.5555555555555556,\"#d8576b\"],[0.6666666666666666,\"#ed7953\"],[0.7777777777777778,\"#fb9f3a\"],[0.8888888888888888,\"#fdca26\"],[1.0,\"#f0f921\"]],\"type\":\"contour\"}],\"contourcarpet\":[{\"colorbar\":{\"outlinewidth\":0,\"ticks\":\"\"},\"type\":\"contourcarpet\"}],\"heatmap\":[{\"colorbar\":{\"outlinewidth\":0,\"ticks\":\"\"},\"colorscale\":[[0.0,\"#0d0887\"],[0.1111111111111111,\"#46039f\"],[0.2222222222222222,\"#7201a8\"],[0.3333333333333333,\"#9c179e\"],[0.4444444444444444,\"#bd3786\"],[0.5555555555555556,\"#d8576b\"],[0.6666666666666666,\"#ed7953\"],[0.7777777777777778,\"#fb9f3a\"],[0.8888888888888888,\"#fdca26\"],[1.0,\"#f0f921\"]],\"type\":\"heatmap\"}],\"heatmapgl\":[{\"colorbar\":{\"outlinewidth\":0,\"ticks\":\"\"},\"colorscale\":[[0.0,\"#0d0887\"],[0.1111111111111111,\"#46039f\"],[0.2222222222222222,\"#7201a8\"],[0.3333333333333333,\"#9c179e\"],[0.4444444444444444,\"#bd3786\"],[0.5555555555555556,\"#d8576b\"],[0.6666666666666666,\"#ed7953\"],[0.7777777777777778,\"#fb9f3a\"],[0.8888888888888888,\"#fdca26\"],[1.0,\"#f0f921\"]],\"type\":\"heatmapgl\"}],\"histogram\":[{\"marker\":{\"pattern\":{\"fillmode\":\"overlay\",\"size\":10,\"solidity\":0.2}},\"type\":\"histogram\"}],\"histogram2d\":[{\"colorbar\":{\"outlinewidth\":0,\"ticks\":\"\"},\"colorscale\":[[0.0,\"#0d0887\"],[0.1111111111111111,\"#46039f\"],[0.2222222222222222,\"#7201a8\"],[0.3333333333333333,\"#9c179e\"],[0.4444444444444444,\"#bd3786\"],[0.5555555555555556,\"#d8576b\"],[0.6666666666666666,\"#ed7953\"],[0.7777777777777778,\"#fb9f3a\"],[0.8888888888888888,\"#fdca26\"],[1.0,\"#f0f921\"]],\"type\":\"histogram2d\"}],\"histogram2dcontour\":[{\"colorbar\":{\"outlinewidth\":0,\"ticks\":\"\"},\"colorscale\":[[0.0,\"#0d0887\"],[0.1111111111111111,\"#46039f\"],[0.2222222222222222,\"#7201a8\"],[0.3333333333333333,\"#9c179e\"],[0.4444444444444444,\"#bd3786\"],[0.5555555555555556,\"#d8576b\"],[0.6666666666666666,\"#ed7953\"],[0.7777777777777778,\"#fb9f3a\"],[0.8888888888888888,\"#fdca26\"],[1.0,\"#f0f921\"]],\"type\":\"histogram2dcontour\"}],\"mesh3d\":[{\"colorbar\":{\"outlinewidth\":0,\"ticks\":\"\"},\"type\":\"mesh3d\"}],\"parcoords\":[{\"line\":{\"colorbar\":{\"outlinewidth\":0,\"ticks\":\"\"}},\"type\":\"parcoords\"}],\"pie\":[{\"automargin\":true,\"type\":\"pie\"}],\"scatter\":[{\"marker\":{\"colorbar\":{\"outlinewidth\":0,\"ticks\":\"\"}},\"type\":\"scatter\"}],\"scatter3d\":[{\"line\":{\"colorbar\":{\"outlinewidth\":0,\"ticks\":\"\"}},\"marker\":{\"colorbar\":{\"outlinewidth\":0,\"ticks\":\"\"}},\"type\":\"scatter3d\"}],\"scattercarpet\":[{\"marker\":{\"colorbar\":{\"outlinewidth\":0,\"ticks\":\"\"}},\"type\":\"scattercarpet\"}],\"scattergeo\":[{\"marker\":{\"colorbar\":{\"outlinewidth\":0,\"ticks\":\"\"}},\"type\":\"scattergeo\"}],\"scattergl\":[{\"marker\":{\"colorbar\":{\"outlinewidth\":0,\"ticks\":\"\"}},\"type\":\"scattergl\"}],\"scattermapbox\":[{\"marker\":{\"colorbar\":{\"outlinewidth\":0,\"ticks\":\"\"}},\"type\":\"scattermapbox\"}],\"scatterpolar\":[{\"marker\":{\"colorbar\":{\"outlinewidth\":0,\"ticks\":\"\"}},\"type\":\"scatterpolar\"}],\"scatterpolargl\":[{\"marker\":{\"colorbar\":{\"outlinewidth\":0,\"ticks\":\"\"}},\"type\":\"scatterpolargl\"}],\"scatterternary\":[{\"marker\":{\"colorbar\":{\"outlinewidth\":0,\"ticks\":\"\"}},\"type\":\"scatterternary\"}],\"surface\":[{\"colorbar\":{\"outlinewidth\":0,\"ticks\":\"\"},\"colorscale\":[[0.0,\"#0d0887\"],[0.1111111111111111,\"#46039f\"],[0.2222222222222222,\"#7201a8\"],[0.3333333333333333,\"#9c179e\"],[0.4444444444444444,\"#bd3786\"],[0.5555555555555556,\"#d8576b\"],[0.6666666666666666,\"#ed7953\"],[0.7777777777777778,\"#fb9f3a\"],[0.8888888888888888,\"#fdca26\"],[1.0,\"#f0f921\"]],\"type\":\"surface\"}],\"table\":[{\"cells\":{\"fill\":{\"color\":\"#EBF0F8\"},\"line\":{\"color\":\"white\"}},\"header\":{\"fill\":{\"color\":\"#C8D4E3\"},\"line\":{\"color\":\"white\"}},\"type\":\"table\"}]},\"layout\":{\"annotationdefaults\":{\"arrowcolor\":\"#2a3f5f\",\"arrowhead\":0,\"arrowwidth\":1},\"autotypenumbers\":\"strict\",\"coloraxis\":{\"colorbar\":{\"outlinewidth\":0,\"ticks\":\"\"}},\"colorscale\":{\"diverging\":[[0,\"#8e0152\"],[0.1,\"#c51b7d\"],[0.2,\"#de77ae\"],[0.3,\"#f1b6da\"],[0.4,\"#fde0ef\"],[0.5,\"#f7f7f7\"],[0.6,\"#e6f5d0\"],[0.7,\"#b8e186\"],[0.8,\"#7fbc41\"],[0.9,\"#4d9221\"],[1,\"#276419\"]],\"sequential\":[[0.0,\"#0d0887\"],[0.1111111111111111,\"#46039f\"],[0.2222222222222222,\"#7201a8\"],[0.3333333333333333,\"#9c179e\"],[0.4444444444444444,\"#bd3786\"],[0.5555555555555556,\"#d8576b\"],[0.6666666666666666,\"#ed7953\"],[0.7777777777777778,\"#fb9f3a\"],[0.8888888888888888,\"#fdca26\"],[1.0,\"#f0f921\"]],\"sequentialminus\":[[0.0,\"#0d0887\"],[0.1111111111111111,\"#46039f\"],[0.2222222222222222,\"#7201a8\"],[0.3333333333333333,\"#9c179e\"],[0.4444444444444444,\"#bd3786\"],[0.5555555555555556,\"#d8576b\"],[0.6666666666666666,\"#ed7953\"],[0.7777777777777778,\"#fb9f3a\"],[0.8888888888888888,\"#fdca26\"],[1.0,\"#f0f921\"]]},\"colorway\":[\"#636efa\",\"#EF553B\",\"#00cc96\",\"#ab63fa\",\"#FFA15A\",\"#19d3f3\",\"#FF6692\",\"#B6E880\",\"#FF97FF\",\"#FECB52\"],\"font\":{\"color\":\"#2a3f5f\"},\"geo\":{\"bgcolor\":\"white\",\"lakecolor\":\"white\",\"landcolor\":\"#E5ECF6\",\"showlakes\":true,\"showland\":true,\"subunitcolor\":\"white\"},\"hoverlabel\":{\"align\":\"left\"},\"hovermode\":\"closest\",\"mapbox\":{\"style\":\"light\"},\"paper_bgcolor\":\"white\",\"plot_bgcolor\":\"#E5ECF6\",\"polar\":{\"angularaxis\":{\"gridcolor\":\"white\",\"linecolor\":\"white\",\"ticks\":\"\"},\"bgcolor\":\"#E5ECF6\",\"radialaxis\":{\"gridcolor\":\"white\",\"linecolor\":\"white\",\"ticks\":\"\"}},\"scene\":{\"xaxis\":{\"backgroundcolor\":\"#E5ECF6\",\"gridcolor\":\"white\",\"gridwidth\":2,\"linecolor\":\"white\",\"showbackground\":true,\"ticks\":\"\",\"zerolinecolor\":\"white\"},\"yaxis\":{\"backgroundcolor\":\"#E5ECF6\",\"gridcolor\":\"white\",\"gridwidth\":2,\"linecolor\":\"white\",\"showbackground\":true,\"ticks\":\"\",\"zerolinecolor\":\"white\"},\"zaxis\":{\"backgroundcolor\":\"#E5ECF6\",\"gridcolor\":\"white\",\"gridwidth\":2,\"linecolor\":\"white\",\"showbackground\":true,\"ticks\":\"\",\"zerolinecolor\":\"white\"}},\"shapedefaults\":{\"line\":{\"color\":\"#2a3f5f\"}},\"ternary\":{\"aaxis\":{\"gridcolor\":\"white\",\"linecolor\":\"white\",\"ticks\":\"\"},\"baxis\":{\"gridcolor\":\"white\",\"linecolor\":\"white\",\"ticks\":\"\"},\"bgcolor\":\"#E5ECF6\",\"caxis\":{\"gridcolor\":\"white\",\"linecolor\":\"white\",\"ticks\":\"\"}},\"title\":{\"x\":0.05},\"xaxis\":{\"automargin\":true,\"gridcolor\":\"white\",\"linecolor\":\"white\",\"ticks\":\"\",\"title\":{\"standoff\":15},\"zerolinecolor\":\"white\",\"zerolinewidth\":2},\"yaxis\":{\"automargin\":true,\"gridcolor\":\"white\",\"linecolor\":\"white\",\"ticks\":\"\",\"title\":{\"standoff\":15},\"zerolinecolor\":\"white\",\"zerolinewidth\":2}}},\"xaxis\":{\"anchor\":\"y\",\"domain\":[0.0,1.0],\"title\":{\"text\":\"Location\"},\"categoryorder\":\"array\",\"categoryarray\":[\"Paris\",\"Hong Kong\",\"Kyoto\",\"London\",\"New York\",\"San Francisco\",\"Singapore\",\"Macau\",\"Osaka\"]},\"yaxis\":{\"anchor\":\"x\",\"domain\":[0.0,1.0],\"title\":{\"text\":\"Count\"}},\"legend\":{\"title\":{\"text\":\"Location\"},\"tracegroupgap\":0},\"title\":{\"text\":\"Top 10 cities with the most 3-star Michelin Restaurants\"},\"barmode\":\"relative\",\"height\":500,\"width\":800},                        {\"responsive\": true}                    ).then(function(){\n",
       "                            \n",
       "var gd = document.getElementById('5580dc10-338a-4739-91e0-f5bbc3ca8adf');\n",
       "var x = new MutationObserver(function (mutations, observer) {{\n",
       "        var display = window.getComputedStyle(gd).display;\n",
       "        if (!display || display === 'none') {{\n",
       "            console.log([gd, 'removed!']);\n",
       "            Plotly.purge(gd);\n",
       "            observer.disconnect();\n",
       "        }}\n",
       "}});\n",
       "\n",
       "// Listen for the removal of the full notebook cells\n",
       "var notebookContainer = gd.closest('#notebook-container');\n",
       "if (notebookContainer) {{\n",
       "    x.observe(notebookContainer, {childList: true});\n",
       "}}\n",
       "\n",
       "// Listen for the clearing of the current output cell\n",
       "var outputEl = gd.closest('.output');\n",
       "if (outputEl) {{\n",
       "    x.observe(outputEl, {childList: true});\n",
       "}}\n",
       "\n",
       "                        })                };                });            </script>        </div>"
      ]
     },
     "metadata": {},
     "output_type": "display_data"
    }
   ],
   "source": [
    "by_city_star = threestar.groupby(['Location'], as_index=False).agg({'Name': 'count'})\n",
    "by_city_star.rename(columns={'Name':'Count'}, inplace = True)\n",
    "by_city_star.sort_values('Count', ascending=False, inplace=True)\n",
    "\n",
    "fig = px.bar(\n",
    "    by_city_star[1:10],\n",
    "    x = 'Location',\n",
    "    y = 'Count',\n",
    "    title = 'Top 10 cities with the most 3-star Michelin Restaurants',\n",
    "    color=\"Location\", \n",
    "    width=800,\n",
    "    height=500\n",
    ")\n",
    "\n",
    "fig.show()"
   ]
  },
  {
   "cell_type": "markdown",
   "metadata": {},
   "source": [
    "Tokyo is the city with both highest amount of Michelin restaurants and 3-Star Michelin restaurants, making it worth visiting. Paris comes second, though it doesn't have as many Michelin restaurants as Tokyo does, the quality of its Michelin restaurants are relatively high. Hong Kong is similar to Paris,if you are considering for visiting Hong Kong, please don't be hesitate!"
   ]
  },
  {
   "cell_type": "markdown",
   "metadata": {
    "collapsed": true
   },
   "source": [
    "However, consider price and difficulties in reservation, 3-Star Michelins are not the main goal for most tourists. An Award break down of Cities with more than 2 3-Star Michelins will be conducted for travelers who are insterested in Michelins in levels other than 3-star."
   ]
  },
  {
   "cell_type": "code",
   "execution_count": 104,
   "metadata": {},
   "outputs": [],
   "source": [
    "top_cities = michelin[(michelin['Location'].isin(unique_city))]\n",
    "by_city_award = top_cities.groupby(['Location', 'Award'], as_index=False).agg({\n",
    "        'Name': 'count'\n",
    "    }).rename(columns={\n",
    "        'Name': 'num_listings'\n",
    "    })"
   ]
  },
  {
   "cell_type": "code",
   "execution_count": 105,
   "metadata": {},
   "outputs": [
    {
     "data": {
      "application/vnd.plotly.v1+json": {
       "config": {
        "plotlyServerURL": "https://plot.ly"
       },
       "data": [
        {
         "branchvalues": "total",
         "domain": {
          "x": [
           0,
           1
          ],
          "y": [
           0,
           1
          ]
         },
         "hovertemplate": "labels=%{label}<br>num_listings=%{value}<br>parent=%{parent}<br>id=%{id}<extra></extra>",
         "ids": [
          "Baiersbronn/1 MICHELIN Star",
          "Barcelona/1 MICHELIN Star",
          "Beijing/1 MICHELIN Star",
          "Bray/1 MICHELIN Star",
          "Copenhagen/1 MICHELIN Star",
          "Donostia / San Sebastián/1 MICHELIN Star",
          "Hong Kong/1 MICHELIN Star",
          "Kyoto/1 MICHELIN Star",
          "London/1 MICHELIN Star",
          "Macau/1 MICHELIN Star",
          "Marseille/1 MICHELIN Star",
          "New York/1 MICHELIN Star",
          "Osaka/1 MICHELIN Star",
          "Paris/1 MICHELIN Star",
          "SEOUL/1 MICHELIN Star",
          "San Francisco/1 MICHELIN Star",
          "Shanghai/1 MICHELIN Star",
          "Singapore/1 MICHELIN Star",
          "Tokyo/1 MICHELIN Star",
          "Barcelona/2 MICHELIN Stars",
          "Beijing/2 MICHELIN Stars",
          "Copenhagen/2 MICHELIN Stars",
          "Donostia / San Sebastián/2 MICHELIN Stars",
          "Hong Kong/2 MICHELIN Stars",
          "Kyoto/2 MICHELIN Stars",
          "London/2 MICHELIN Stars",
          "Macau/2 MICHELIN Stars",
          "New York/2 MICHELIN Stars",
          "Osaka/2 MICHELIN Stars",
          "Paris/2 MICHELIN Stars",
          "SEOUL/2 MICHELIN Stars",
          "San Francisco/2 MICHELIN Stars",
          "Shanghai/2 MICHELIN Stars",
          "Singapore/2 MICHELIN Stars",
          "Tokyo/2 MICHELIN Stars",
          "Baiersbronn/3 MICHELIN Stars",
          "Barcelona/3 MICHELIN Stars",
          "Beijing/3 MICHELIN Stars",
          "Bray/3 MICHELIN Stars",
          "Copenhagen/3 MICHELIN Stars",
          "Donostia / San Sebastián/3 MICHELIN Stars",
          "Hong Kong/3 MICHELIN Stars",
          "Kyoto/3 MICHELIN Stars",
          "London/3 MICHELIN Stars",
          "Macau/3 MICHELIN Stars",
          "Marseille/3 MICHELIN Stars",
          "New York/3 MICHELIN Stars",
          "Osaka/3 MICHELIN Stars",
          "Paris/3 MICHELIN Stars",
          "SEOUL/3 MICHELIN Stars",
          "San Francisco/3 MICHELIN Stars",
          "Shanghai/3 MICHELIN Stars",
          "Singapore/3 MICHELIN Stars",
          "Tokyo/3 MICHELIN Stars",
          "Baiersbronn/Bib Gourmand",
          "Barcelona/Bib Gourmand",
          "Beijing/Bib Gourmand",
          "Copenhagen/Bib Gourmand",
          "Donostia / San Sebastián/Bib Gourmand",
          "Hong Kong/Bib Gourmand",
          "Kyoto/Bib Gourmand",
          "London/Bib Gourmand",
          "Macau/Bib Gourmand",
          "Marseille/Bib Gourmand",
          "New York/Bib Gourmand",
          "Osaka/Bib Gourmand",
          "Paris/Bib Gourmand",
          "SEOUL/Bib Gourmand",
          "San Francisco/Bib Gourmand",
          "Shanghai/Bib Gourmand",
          "Singapore/Bib Gourmand",
          "Tokyo/Bib Gourmand",
          "Baiersbronn",
          "Barcelona",
          "Beijing",
          "Bray",
          "Copenhagen",
          "Donostia / San Sebastián",
          "Hong Kong",
          "Kyoto",
          "London",
          "Macau",
          "Marseille",
          "New York",
          "Osaka",
          "Paris",
          "SEOUL",
          "San Francisco",
          "Shanghai",
          "Singapore",
          "Tokyo"
         ],
         "labels": [
          "1 MICHELIN Star",
          "1 MICHELIN Star",
          "1 MICHELIN Star",
          "1 MICHELIN Star",
          "1 MICHELIN Star",
          "1 MICHELIN Star",
          "1 MICHELIN Star",
          "1 MICHELIN Star",
          "1 MICHELIN Star",
          "1 MICHELIN Star",
          "1 MICHELIN Star",
          "1 MICHELIN Star",
          "1 MICHELIN Star",
          "1 MICHELIN Star",
          "1 MICHELIN Star",
          "1 MICHELIN Star",
          "1 MICHELIN Star",
          "1 MICHELIN Star",
          "1 MICHELIN Star",
          "2 MICHELIN Stars",
          "2 MICHELIN Stars",
          "2 MICHELIN Stars",
          "2 MICHELIN Stars",
          "2 MICHELIN Stars",
          "2 MICHELIN Stars",
          "2 MICHELIN Stars",
          "2 MICHELIN Stars",
          "2 MICHELIN Stars",
          "2 MICHELIN Stars",
          "2 MICHELIN Stars",
          "2 MICHELIN Stars",
          "2 MICHELIN Stars",
          "2 MICHELIN Stars",
          "2 MICHELIN Stars",
          "2 MICHELIN Stars",
          "3 MICHELIN Stars",
          "3 MICHELIN Stars",
          "3 MICHELIN Stars",
          "3 MICHELIN Stars",
          "3 MICHELIN Stars",
          "3 MICHELIN Stars",
          "3 MICHELIN Stars",
          "3 MICHELIN Stars",
          "3 MICHELIN Stars",
          "3 MICHELIN Stars",
          "3 MICHELIN Stars",
          "3 MICHELIN Stars",
          "3 MICHELIN Stars",
          "3 MICHELIN Stars",
          "3 MICHELIN Stars",
          "3 MICHELIN Stars",
          "3 MICHELIN Stars",
          "3 MICHELIN Stars",
          "3 MICHELIN Stars",
          "Bib Gourmand",
          "Bib Gourmand",
          "Bib Gourmand",
          "Bib Gourmand",
          "Bib Gourmand",
          "Bib Gourmand",
          "Bib Gourmand",
          "Bib Gourmand",
          "Bib Gourmand",
          "Bib Gourmand",
          "Bib Gourmand",
          "Bib Gourmand",
          "Bib Gourmand",
          "Bib Gourmand",
          "Bib Gourmand",
          "Bib Gourmand",
          "Bib Gourmand",
          "Bib Gourmand",
          "Baiersbronn",
          "Barcelona",
          "Beijing",
          "Bray",
          "Copenhagen",
          "Donostia / San Sebastián",
          "Hong Kong",
          "Kyoto",
          "London",
          "Macau",
          "Marseille",
          "New York",
          "Osaka",
          "Paris",
          "SEOUL",
          "San Francisco",
          "Shanghai",
          "Singapore",
          "Tokyo"
         ],
         "name": "",
         "parents": [
          "Baiersbronn",
          "Barcelona",
          "Beijing",
          "Bray",
          "Copenhagen",
          "Donostia / San Sebastián",
          "Hong Kong",
          "Kyoto",
          "London",
          "Macau",
          "Marseille",
          "New York",
          "Osaka",
          "Paris",
          "SEOUL",
          "San Francisco",
          "Shanghai",
          "Singapore",
          "Tokyo",
          "Barcelona",
          "Beijing",
          "Copenhagen",
          "Donostia / San Sebastián",
          "Hong Kong",
          "Kyoto",
          "London",
          "Macau",
          "New York",
          "Osaka",
          "Paris",
          "SEOUL",
          "San Francisco",
          "Shanghai",
          "Singapore",
          "Tokyo",
          "Baiersbronn",
          "Barcelona",
          "Beijing",
          "Bray",
          "Copenhagen",
          "Donostia / San Sebastián",
          "Hong Kong",
          "Kyoto",
          "London",
          "Macau",
          "Marseille",
          "New York",
          "Osaka",
          "Paris",
          "SEOUL",
          "San Francisco",
          "Shanghai",
          "Singapore",
          "Tokyo",
          "Baiersbronn",
          "Barcelona",
          "Beijing",
          "Copenhagen",
          "Donostia / San Sebastián",
          "Hong Kong",
          "Kyoto",
          "London",
          "Macau",
          "Marseille",
          "New York",
          "Osaka",
          "Paris",
          "SEOUL",
          "San Francisco",
          "Shanghai",
          "Singapore",
          "Tokyo",
          "",
          "",
          "",
          "",
          "",
          "",
          "",
          "",
          "",
          "",
          "",
          "",
          "",
          "",
          "",
          "",
          "",
          "",
          ""
         ],
         "type": "treemap",
         "values": [
          2,
          11,
          29,
          1,
          7,
          3,
          52,
          83,
          56,
          7,
          4,
          48,
          81,
          88,
          23,
          21,
          37,
          41,
          150,
          6,
          3,
          5,
          1,
          12,
          19,
          10,
          5,
          12,
          11,
          11,
          7,
          7,
          8,
          5,
          41,
          2,
          2,
          2,
          2,
          2,
          2,
          7,
          6,
          5,
          3,
          2,
          5,
          3,
          9,
          2,
          3,
          2,
          3,
          12,
          1,
          6,
          18,
          11,
          2,
          64,
          99,
          35,
          7,
          1,
          115,
          111,
          51,
          59,
          21,
          20,
          69,
          227,
          5,
          25,
          52,
          3,
          25,
          8,
          135,
          207,
          106,
          22,
          7,
          180,
          206,
          159,
          91,
          52,
          67,
          118,
          430
         ]
        }
       ],
       "layout": {
        "height": 700,
        "legend": {
         "tracegroupgap": 0
        },
        "template": {
         "data": {
          "bar": [
           {
            "error_x": {
             "color": "#2a3f5f"
            },
            "error_y": {
             "color": "#2a3f5f"
            },
            "marker": {
             "line": {
              "color": "#E5ECF6",
              "width": 0.5
             },
             "pattern": {
              "fillmode": "overlay",
              "size": 10,
              "solidity": 0.2
             }
            },
            "type": "bar"
           }
          ],
          "barpolar": [
           {
            "marker": {
             "line": {
              "color": "#E5ECF6",
              "width": 0.5
             },
             "pattern": {
              "fillmode": "overlay",
              "size": 10,
              "solidity": 0.2
             }
            },
            "type": "barpolar"
           }
          ],
          "carpet": [
           {
            "aaxis": {
             "endlinecolor": "#2a3f5f",
             "gridcolor": "white",
             "linecolor": "white",
             "minorgridcolor": "white",
             "startlinecolor": "#2a3f5f"
            },
            "baxis": {
             "endlinecolor": "#2a3f5f",
             "gridcolor": "white",
             "linecolor": "white",
             "minorgridcolor": "white",
             "startlinecolor": "#2a3f5f"
            },
            "type": "carpet"
           }
          ],
          "choropleth": [
           {
            "colorbar": {
             "outlinewidth": 0,
             "ticks": ""
            },
            "type": "choropleth"
           }
          ],
          "contour": [
           {
            "colorbar": {
             "outlinewidth": 0,
             "ticks": ""
            },
            "colorscale": [
             [
              0,
              "#0d0887"
             ],
             [
              0.1111111111111111,
              "#46039f"
             ],
             [
              0.2222222222222222,
              "#7201a8"
             ],
             [
              0.3333333333333333,
              "#9c179e"
             ],
             [
              0.4444444444444444,
              "#bd3786"
             ],
             [
              0.5555555555555556,
              "#d8576b"
             ],
             [
              0.6666666666666666,
              "#ed7953"
             ],
             [
              0.7777777777777778,
              "#fb9f3a"
             ],
             [
              0.8888888888888888,
              "#fdca26"
             ],
             [
              1,
              "#f0f921"
             ]
            ],
            "type": "contour"
           }
          ],
          "contourcarpet": [
           {
            "colorbar": {
             "outlinewidth": 0,
             "ticks": ""
            },
            "type": "contourcarpet"
           }
          ],
          "heatmap": [
           {
            "colorbar": {
             "outlinewidth": 0,
             "ticks": ""
            },
            "colorscale": [
             [
              0,
              "#0d0887"
             ],
             [
              0.1111111111111111,
              "#46039f"
             ],
             [
              0.2222222222222222,
              "#7201a8"
             ],
             [
              0.3333333333333333,
              "#9c179e"
             ],
             [
              0.4444444444444444,
              "#bd3786"
             ],
             [
              0.5555555555555556,
              "#d8576b"
             ],
             [
              0.6666666666666666,
              "#ed7953"
             ],
             [
              0.7777777777777778,
              "#fb9f3a"
             ],
             [
              0.8888888888888888,
              "#fdca26"
             ],
             [
              1,
              "#f0f921"
             ]
            ],
            "type": "heatmap"
           }
          ],
          "heatmapgl": [
           {
            "colorbar": {
             "outlinewidth": 0,
             "ticks": ""
            },
            "colorscale": [
             [
              0,
              "#0d0887"
             ],
             [
              0.1111111111111111,
              "#46039f"
             ],
             [
              0.2222222222222222,
              "#7201a8"
             ],
             [
              0.3333333333333333,
              "#9c179e"
             ],
             [
              0.4444444444444444,
              "#bd3786"
             ],
             [
              0.5555555555555556,
              "#d8576b"
             ],
             [
              0.6666666666666666,
              "#ed7953"
             ],
             [
              0.7777777777777778,
              "#fb9f3a"
             ],
             [
              0.8888888888888888,
              "#fdca26"
             ],
             [
              1,
              "#f0f921"
             ]
            ],
            "type": "heatmapgl"
           }
          ],
          "histogram": [
           {
            "marker": {
             "pattern": {
              "fillmode": "overlay",
              "size": 10,
              "solidity": 0.2
             }
            },
            "type": "histogram"
           }
          ],
          "histogram2d": [
           {
            "colorbar": {
             "outlinewidth": 0,
             "ticks": ""
            },
            "colorscale": [
             [
              0,
              "#0d0887"
             ],
             [
              0.1111111111111111,
              "#46039f"
             ],
             [
              0.2222222222222222,
              "#7201a8"
             ],
             [
              0.3333333333333333,
              "#9c179e"
             ],
             [
              0.4444444444444444,
              "#bd3786"
             ],
             [
              0.5555555555555556,
              "#d8576b"
             ],
             [
              0.6666666666666666,
              "#ed7953"
             ],
             [
              0.7777777777777778,
              "#fb9f3a"
             ],
             [
              0.8888888888888888,
              "#fdca26"
             ],
             [
              1,
              "#f0f921"
             ]
            ],
            "type": "histogram2d"
           }
          ],
          "histogram2dcontour": [
           {
            "colorbar": {
             "outlinewidth": 0,
             "ticks": ""
            },
            "colorscale": [
             [
              0,
              "#0d0887"
             ],
             [
              0.1111111111111111,
              "#46039f"
             ],
             [
              0.2222222222222222,
              "#7201a8"
             ],
             [
              0.3333333333333333,
              "#9c179e"
             ],
             [
              0.4444444444444444,
              "#bd3786"
             ],
             [
              0.5555555555555556,
              "#d8576b"
             ],
             [
              0.6666666666666666,
              "#ed7953"
             ],
             [
              0.7777777777777778,
              "#fb9f3a"
             ],
             [
              0.8888888888888888,
              "#fdca26"
             ],
             [
              1,
              "#f0f921"
             ]
            ],
            "type": "histogram2dcontour"
           }
          ],
          "mesh3d": [
           {
            "colorbar": {
             "outlinewidth": 0,
             "ticks": ""
            },
            "type": "mesh3d"
           }
          ],
          "parcoords": [
           {
            "line": {
             "colorbar": {
              "outlinewidth": 0,
              "ticks": ""
             }
            },
            "type": "parcoords"
           }
          ],
          "pie": [
           {
            "automargin": true,
            "type": "pie"
           }
          ],
          "scatter": [
           {
            "marker": {
             "colorbar": {
              "outlinewidth": 0,
              "ticks": ""
             }
            },
            "type": "scatter"
           }
          ],
          "scatter3d": [
           {
            "line": {
             "colorbar": {
              "outlinewidth": 0,
              "ticks": ""
             }
            },
            "marker": {
             "colorbar": {
              "outlinewidth": 0,
              "ticks": ""
             }
            },
            "type": "scatter3d"
           }
          ],
          "scattercarpet": [
           {
            "marker": {
             "colorbar": {
              "outlinewidth": 0,
              "ticks": ""
             }
            },
            "type": "scattercarpet"
           }
          ],
          "scattergeo": [
           {
            "marker": {
             "colorbar": {
              "outlinewidth": 0,
              "ticks": ""
             }
            },
            "type": "scattergeo"
           }
          ],
          "scattergl": [
           {
            "marker": {
             "colorbar": {
              "outlinewidth": 0,
              "ticks": ""
             }
            },
            "type": "scattergl"
           }
          ],
          "scattermapbox": [
           {
            "marker": {
             "colorbar": {
              "outlinewidth": 0,
              "ticks": ""
             }
            },
            "type": "scattermapbox"
           }
          ],
          "scatterpolar": [
           {
            "marker": {
             "colorbar": {
              "outlinewidth": 0,
              "ticks": ""
             }
            },
            "type": "scatterpolar"
           }
          ],
          "scatterpolargl": [
           {
            "marker": {
             "colorbar": {
              "outlinewidth": 0,
              "ticks": ""
             }
            },
            "type": "scatterpolargl"
           }
          ],
          "scatterternary": [
           {
            "marker": {
             "colorbar": {
              "outlinewidth": 0,
              "ticks": ""
             }
            },
            "type": "scatterternary"
           }
          ],
          "surface": [
           {
            "colorbar": {
             "outlinewidth": 0,
             "ticks": ""
            },
            "colorscale": [
             [
              0,
              "#0d0887"
             ],
             [
              0.1111111111111111,
              "#46039f"
             ],
             [
              0.2222222222222222,
              "#7201a8"
             ],
             [
              0.3333333333333333,
              "#9c179e"
             ],
             [
              0.4444444444444444,
              "#bd3786"
             ],
             [
              0.5555555555555556,
              "#d8576b"
             ],
             [
              0.6666666666666666,
              "#ed7953"
             ],
             [
              0.7777777777777778,
              "#fb9f3a"
             ],
             [
              0.8888888888888888,
              "#fdca26"
             ],
             [
              1,
              "#f0f921"
             ]
            ],
            "type": "surface"
           }
          ],
          "table": [
           {
            "cells": {
             "fill": {
              "color": "#EBF0F8"
             },
             "line": {
              "color": "white"
             }
            },
            "header": {
             "fill": {
              "color": "#C8D4E3"
             },
             "line": {
              "color": "white"
             }
            },
            "type": "table"
           }
          ]
         },
         "layout": {
          "annotationdefaults": {
           "arrowcolor": "#2a3f5f",
           "arrowhead": 0,
           "arrowwidth": 1
          },
          "autotypenumbers": "strict",
          "coloraxis": {
           "colorbar": {
            "outlinewidth": 0,
            "ticks": ""
           }
          },
          "colorscale": {
           "diverging": [
            [
             0,
             "#8e0152"
            ],
            [
             0.1,
             "#c51b7d"
            ],
            [
             0.2,
             "#de77ae"
            ],
            [
             0.3,
             "#f1b6da"
            ],
            [
             0.4,
             "#fde0ef"
            ],
            [
             0.5,
             "#f7f7f7"
            ],
            [
             0.6,
             "#e6f5d0"
            ],
            [
             0.7,
             "#b8e186"
            ],
            [
             0.8,
             "#7fbc41"
            ],
            [
             0.9,
             "#4d9221"
            ],
            [
             1,
             "#276419"
            ]
           ],
           "sequential": [
            [
             0,
             "#0d0887"
            ],
            [
             0.1111111111111111,
             "#46039f"
            ],
            [
             0.2222222222222222,
             "#7201a8"
            ],
            [
             0.3333333333333333,
             "#9c179e"
            ],
            [
             0.4444444444444444,
             "#bd3786"
            ],
            [
             0.5555555555555556,
             "#d8576b"
            ],
            [
             0.6666666666666666,
             "#ed7953"
            ],
            [
             0.7777777777777778,
             "#fb9f3a"
            ],
            [
             0.8888888888888888,
             "#fdca26"
            ],
            [
             1,
             "#f0f921"
            ]
           ],
           "sequentialminus": [
            [
             0,
             "#0d0887"
            ],
            [
             0.1111111111111111,
             "#46039f"
            ],
            [
             0.2222222222222222,
             "#7201a8"
            ],
            [
             0.3333333333333333,
             "#9c179e"
            ],
            [
             0.4444444444444444,
             "#bd3786"
            ],
            [
             0.5555555555555556,
             "#d8576b"
            ],
            [
             0.6666666666666666,
             "#ed7953"
            ],
            [
             0.7777777777777778,
             "#fb9f3a"
            ],
            [
             0.8888888888888888,
             "#fdca26"
            ],
            [
             1,
             "#f0f921"
            ]
           ]
          },
          "colorway": [
           "#636efa",
           "#EF553B",
           "#00cc96",
           "#ab63fa",
           "#FFA15A",
           "#19d3f3",
           "#FF6692",
           "#B6E880",
           "#FF97FF",
           "#FECB52"
          ],
          "font": {
           "color": "#2a3f5f"
          },
          "geo": {
           "bgcolor": "white",
           "lakecolor": "white",
           "landcolor": "#E5ECF6",
           "showlakes": true,
           "showland": true,
           "subunitcolor": "white"
          },
          "hoverlabel": {
           "align": "left"
          },
          "hovermode": "closest",
          "mapbox": {
           "style": "light"
          },
          "paper_bgcolor": "white",
          "plot_bgcolor": "#E5ECF6",
          "polar": {
           "angularaxis": {
            "gridcolor": "white",
            "linecolor": "white",
            "ticks": ""
           },
           "bgcolor": "#E5ECF6",
           "radialaxis": {
            "gridcolor": "white",
            "linecolor": "white",
            "ticks": ""
           }
          },
          "scene": {
           "xaxis": {
            "backgroundcolor": "#E5ECF6",
            "gridcolor": "white",
            "gridwidth": 2,
            "linecolor": "white",
            "showbackground": true,
            "ticks": "",
            "zerolinecolor": "white"
           },
           "yaxis": {
            "backgroundcolor": "#E5ECF6",
            "gridcolor": "white",
            "gridwidth": 2,
            "linecolor": "white",
            "showbackground": true,
            "ticks": "",
            "zerolinecolor": "white"
           },
           "zaxis": {
            "backgroundcolor": "#E5ECF6",
            "gridcolor": "white",
            "gridwidth": 2,
            "linecolor": "white",
            "showbackground": true,
            "ticks": "",
            "zerolinecolor": "white"
           }
          },
          "shapedefaults": {
           "line": {
            "color": "#2a3f5f"
           }
          },
          "ternary": {
           "aaxis": {
            "gridcolor": "white",
            "linecolor": "white",
            "ticks": ""
           },
           "baxis": {
            "gridcolor": "white",
            "linecolor": "white",
            "ticks": ""
           },
           "bgcolor": "#E5ECF6",
           "caxis": {
            "gridcolor": "white",
            "linecolor": "white",
            "ticks": ""
           }
          },
          "title": {
           "x": 0.05
          },
          "xaxis": {
           "automargin": true,
           "gridcolor": "white",
           "linecolor": "white",
           "ticks": "",
           "title": {
            "standoff": 15
           },
           "zerolinecolor": "white",
           "zerolinewidth": 2
          },
          "yaxis": {
           "automargin": true,
           "gridcolor": "white",
           "linecolor": "white",
           "ticks": "",
           "title": {
            "standoff": 15
           },
           "zerolinecolor": "white",
           "zerolinewidth": 2
          }
         }
        },
        "title": {
         "text": "Top cities breakdown"
        }
       }
      },
      "text/html": [
       "<div>                            <div id=\"5fd02895-e8c1-407c-8418-680e096c969b\" class=\"plotly-graph-div\" style=\"height:700px; width:100%;\"></div>            <script type=\"text/javascript\">                require([\"plotly\"], function(Plotly) {                    window.PLOTLYENV=window.PLOTLYENV || {};                                    if (document.getElementById(\"5fd02895-e8c1-407c-8418-680e096c969b\")) {                    Plotly.newPlot(                        \"5fd02895-e8c1-407c-8418-680e096c969b\",                        [{\"branchvalues\":\"total\",\"domain\":{\"x\":[0.0,1.0],\"y\":[0.0,1.0]},\"hovertemplate\":\"labels=%{label}<br>num_listings=%{value}<br>parent=%{parent}<br>id=%{id}<extra></extra>\",\"ids\":[\"Baiersbronn/1 MICHELIN Star\",\"Barcelona/1 MICHELIN Star\",\"Beijing/1 MICHELIN Star\",\"Bray/1 MICHELIN Star\",\"Copenhagen/1 MICHELIN Star\",\"Donostia / San Sebasti\\u00e1n/1 MICHELIN Star\",\"Hong Kong/1 MICHELIN Star\",\"Kyoto/1 MICHELIN Star\",\"London/1 MICHELIN Star\",\"Macau/1 MICHELIN Star\",\"Marseille/1 MICHELIN Star\",\"New York/1 MICHELIN Star\",\"Osaka/1 MICHELIN Star\",\"Paris/1 MICHELIN Star\",\"SEOUL/1 MICHELIN Star\",\"San Francisco/1 MICHELIN Star\",\"Shanghai/1 MICHELIN Star\",\"Singapore/1 MICHELIN Star\",\"Tokyo/1 MICHELIN Star\",\"Barcelona/2 MICHELIN Stars\",\"Beijing/2 MICHELIN Stars\",\"Copenhagen/2 MICHELIN Stars\",\"Donostia / San Sebasti\\u00e1n/2 MICHELIN Stars\",\"Hong Kong/2 MICHELIN Stars\",\"Kyoto/2 MICHELIN Stars\",\"London/2 MICHELIN Stars\",\"Macau/2 MICHELIN Stars\",\"New York/2 MICHELIN Stars\",\"Osaka/2 MICHELIN Stars\",\"Paris/2 MICHELIN Stars\",\"SEOUL/2 MICHELIN Stars\",\"San Francisco/2 MICHELIN Stars\",\"Shanghai/2 MICHELIN Stars\",\"Singapore/2 MICHELIN Stars\",\"Tokyo/2 MICHELIN Stars\",\"Baiersbronn/3 MICHELIN Stars\",\"Barcelona/3 MICHELIN Stars\",\"Beijing/3 MICHELIN Stars\",\"Bray/3 MICHELIN Stars\",\"Copenhagen/3 MICHELIN Stars\",\"Donostia / San Sebasti\\u00e1n/3 MICHELIN Stars\",\"Hong Kong/3 MICHELIN Stars\",\"Kyoto/3 MICHELIN Stars\",\"London/3 MICHELIN Stars\",\"Macau/3 MICHELIN Stars\",\"Marseille/3 MICHELIN Stars\",\"New York/3 MICHELIN Stars\",\"Osaka/3 MICHELIN Stars\",\"Paris/3 MICHELIN Stars\",\"SEOUL/3 MICHELIN Stars\",\"San Francisco/3 MICHELIN Stars\",\"Shanghai/3 MICHELIN Stars\",\"Singapore/3 MICHELIN Stars\",\"Tokyo/3 MICHELIN Stars\",\"Baiersbronn/Bib Gourmand\",\"Barcelona/Bib Gourmand\",\"Beijing/Bib Gourmand\",\"Copenhagen/Bib Gourmand\",\"Donostia / San Sebasti\\u00e1n/Bib Gourmand\",\"Hong Kong/Bib Gourmand\",\"Kyoto/Bib Gourmand\",\"London/Bib Gourmand\",\"Macau/Bib Gourmand\",\"Marseille/Bib Gourmand\",\"New York/Bib Gourmand\",\"Osaka/Bib Gourmand\",\"Paris/Bib Gourmand\",\"SEOUL/Bib Gourmand\",\"San Francisco/Bib Gourmand\",\"Shanghai/Bib Gourmand\",\"Singapore/Bib Gourmand\",\"Tokyo/Bib Gourmand\",\"Baiersbronn\",\"Barcelona\",\"Beijing\",\"Bray\",\"Copenhagen\",\"Donostia / San Sebasti\\u00e1n\",\"Hong Kong\",\"Kyoto\",\"London\",\"Macau\",\"Marseille\",\"New York\",\"Osaka\",\"Paris\",\"SEOUL\",\"San Francisco\",\"Shanghai\",\"Singapore\",\"Tokyo\"],\"labels\":[\"1 MICHELIN Star\",\"1 MICHELIN Star\",\"1 MICHELIN Star\",\"1 MICHELIN Star\",\"1 MICHELIN Star\",\"1 MICHELIN Star\",\"1 MICHELIN Star\",\"1 MICHELIN Star\",\"1 MICHELIN Star\",\"1 MICHELIN Star\",\"1 MICHELIN Star\",\"1 MICHELIN Star\",\"1 MICHELIN Star\",\"1 MICHELIN Star\",\"1 MICHELIN Star\",\"1 MICHELIN Star\",\"1 MICHELIN Star\",\"1 MICHELIN Star\",\"1 MICHELIN Star\",\"2 MICHELIN Stars\",\"2 MICHELIN Stars\",\"2 MICHELIN Stars\",\"2 MICHELIN Stars\",\"2 MICHELIN Stars\",\"2 MICHELIN Stars\",\"2 MICHELIN Stars\",\"2 MICHELIN Stars\",\"2 MICHELIN Stars\",\"2 MICHELIN Stars\",\"2 MICHELIN Stars\",\"2 MICHELIN Stars\",\"2 MICHELIN Stars\",\"2 MICHELIN Stars\",\"2 MICHELIN Stars\",\"2 MICHELIN Stars\",\"3 MICHELIN Stars\",\"3 MICHELIN Stars\",\"3 MICHELIN Stars\",\"3 MICHELIN Stars\",\"3 MICHELIN Stars\",\"3 MICHELIN Stars\",\"3 MICHELIN Stars\",\"3 MICHELIN Stars\",\"3 MICHELIN Stars\",\"3 MICHELIN Stars\",\"3 MICHELIN Stars\",\"3 MICHELIN Stars\",\"3 MICHELIN Stars\",\"3 MICHELIN Stars\",\"3 MICHELIN Stars\",\"3 MICHELIN Stars\",\"3 MICHELIN Stars\",\"3 MICHELIN Stars\",\"3 MICHELIN Stars\",\"Bib Gourmand\",\"Bib Gourmand\",\"Bib Gourmand\",\"Bib Gourmand\",\"Bib Gourmand\",\"Bib Gourmand\",\"Bib Gourmand\",\"Bib Gourmand\",\"Bib Gourmand\",\"Bib Gourmand\",\"Bib Gourmand\",\"Bib Gourmand\",\"Bib Gourmand\",\"Bib Gourmand\",\"Bib Gourmand\",\"Bib Gourmand\",\"Bib Gourmand\",\"Bib Gourmand\",\"Baiersbronn\",\"Barcelona\",\"Beijing\",\"Bray\",\"Copenhagen\",\"Donostia / San Sebasti\\u00e1n\",\"Hong Kong\",\"Kyoto\",\"London\",\"Macau\",\"Marseille\",\"New York\",\"Osaka\",\"Paris\",\"SEOUL\",\"San Francisco\",\"Shanghai\",\"Singapore\",\"Tokyo\"],\"name\":\"\",\"parents\":[\"Baiersbronn\",\"Barcelona\",\"Beijing\",\"Bray\",\"Copenhagen\",\"Donostia / San Sebasti\\u00e1n\",\"Hong Kong\",\"Kyoto\",\"London\",\"Macau\",\"Marseille\",\"New York\",\"Osaka\",\"Paris\",\"SEOUL\",\"San Francisco\",\"Shanghai\",\"Singapore\",\"Tokyo\",\"Barcelona\",\"Beijing\",\"Copenhagen\",\"Donostia / San Sebasti\\u00e1n\",\"Hong Kong\",\"Kyoto\",\"London\",\"Macau\",\"New York\",\"Osaka\",\"Paris\",\"SEOUL\",\"San Francisco\",\"Shanghai\",\"Singapore\",\"Tokyo\",\"Baiersbronn\",\"Barcelona\",\"Beijing\",\"Bray\",\"Copenhagen\",\"Donostia / San Sebasti\\u00e1n\",\"Hong Kong\",\"Kyoto\",\"London\",\"Macau\",\"Marseille\",\"New York\",\"Osaka\",\"Paris\",\"SEOUL\",\"San Francisco\",\"Shanghai\",\"Singapore\",\"Tokyo\",\"Baiersbronn\",\"Barcelona\",\"Beijing\",\"Copenhagen\",\"Donostia / San Sebasti\\u00e1n\",\"Hong Kong\",\"Kyoto\",\"London\",\"Macau\",\"Marseille\",\"New York\",\"Osaka\",\"Paris\",\"SEOUL\",\"San Francisco\",\"Shanghai\",\"Singapore\",\"Tokyo\",\"\",\"\",\"\",\"\",\"\",\"\",\"\",\"\",\"\",\"\",\"\",\"\",\"\",\"\",\"\",\"\",\"\",\"\",\"\"],\"values\":[2,11,29,1,7,3,52,83,56,7,4,48,81,88,23,21,37,41,150,6,3,5,1,12,19,10,5,12,11,11,7,7,8,5,41,2,2,2,2,2,2,7,6,5,3,2,5,3,9,2,3,2,3,12,1,6,18,11,2,64,99,35,7,1,115,111,51,59,21,20,69,227,5,25,52,3,25,8,135,207,106,22,7,180,206,159,91,52,67,118,430],\"type\":\"treemap\"}],                        {\"template\":{\"data\":{\"bar\":[{\"error_x\":{\"color\":\"#2a3f5f\"},\"error_y\":{\"color\":\"#2a3f5f\"},\"marker\":{\"line\":{\"color\":\"#E5ECF6\",\"width\":0.5},\"pattern\":{\"fillmode\":\"overlay\",\"size\":10,\"solidity\":0.2}},\"type\":\"bar\"}],\"barpolar\":[{\"marker\":{\"line\":{\"color\":\"#E5ECF6\",\"width\":0.5},\"pattern\":{\"fillmode\":\"overlay\",\"size\":10,\"solidity\":0.2}},\"type\":\"barpolar\"}],\"carpet\":[{\"aaxis\":{\"endlinecolor\":\"#2a3f5f\",\"gridcolor\":\"white\",\"linecolor\":\"white\",\"minorgridcolor\":\"white\",\"startlinecolor\":\"#2a3f5f\"},\"baxis\":{\"endlinecolor\":\"#2a3f5f\",\"gridcolor\":\"white\",\"linecolor\":\"white\",\"minorgridcolor\":\"white\",\"startlinecolor\":\"#2a3f5f\"},\"type\":\"carpet\"}],\"choropleth\":[{\"colorbar\":{\"outlinewidth\":0,\"ticks\":\"\"},\"type\":\"choropleth\"}],\"contour\":[{\"colorbar\":{\"outlinewidth\":0,\"ticks\":\"\"},\"colorscale\":[[0.0,\"#0d0887\"],[0.1111111111111111,\"#46039f\"],[0.2222222222222222,\"#7201a8\"],[0.3333333333333333,\"#9c179e\"],[0.4444444444444444,\"#bd3786\"],[0.5555555555555556,\"#d8576b\"],[0.6666666666666666,\"#ed7953\"],[0.7777777777777778,\"#fb9f3a\"],[0.8888888888888888,\"#fdca26\"],[1.0,\"#f0f921\"]],\"type\":\"contour\"}],\"contourcarpet\":[{\"colorbar\":{\"outlinewidth\":0,\"ticks\":\"\"},\"type\":\"contourcarpet\"}],\"heatmap\":[{\"colorbar\":{\"outlinewidth\":0,\"ticks\":\"\"},\"colorscale\":[[0.0,\"#0d0887\"],[0.1111111111111111,\"#46039f\"],[0.2222222222222222,\"#7201a8\"],[0.3333333333333333,\"#9c179e\"],[0.4444444444444444,\"#bd3786\"],[0.5555555555555556,\"#d8576b\"],[0.6666666666666666,\"#ed7953\"],[0.7777777777777778,\"#fb9f3a\"],[0.8888888888888888,\"#fdca26\"],[1.0,\"#f0f921\"]],\"type\":\"heatmap\"}],\"heatmapgl\":[{\"colorbar\":{\"outlinewidth\":0,\"ticks\":\"\"},\"colorscale\":[[0.0,\"#0d0887\"],[0.1111111111111111,\"#46039f\"],[0.2222222222222222,\"#7201a8\"],[0.3333333333333333,\"#9c179e\"],[0.4444444444444444,\"#bd3786\"],[0.5555555555555556,\"#d8576b\"],[0.6666666666666666,\"#ed7953\"],[0.7777777777777778,\"#fb9f3a\"],[0.8888888888888888,\"#fdca26\"],[1.0,\"#f0f921\"]],\"type\":\"heatmapgl\"}],\"histogram\":[{\"marker\":{\"pattern\":{\"fillmode\":\"overlay\",\"size\":10,\"solidity\":0.2}},\"type\":\"histogram\"}],\"histogram2d\":[{\"colorbar\":{\"outlinewidth\":0,\"ticks\":\"\"},\"colorscale\":[[0.0,\"#0d0887\"],[0.1111111111111111,\"#46039f\"],[0.2222222222222222,\"#7201a8\"],[0.3333333333333333,\"#9c179e\"],[0.4444444444444444,\"#bd3786\"],[0.5555555555555556,\"#d8576b\"],[0.6666666666666666,\"#ed7953\"],[0.7777777777777778,\"#fb9f3a\"],[0.8888888888888888,\"#fdca26\"],[1.0,\"#f0f921\"]],\"type\":\"histogram2d\"}],\"histogram2dcontour\":[{\"colorbar\":{\"outlinewidth\":0,\"ticks\":\"\"},\"colorscale\":[[0.0,\"#0d0887\"],[0.1111111111111111,\"#46039f\"],[0.2222222222222222,\"#7201a8\"],[0.3333333333333333,\"#9c179e\"],[0.4444444444444444,\"#bd3786\"],[0.5555555555555556,\"#d8576b\"],[0.6666666666666666,\"#ed7953\"],[0.7777777777777778,\"#fb9f3a\"],[0.8888888888888888,\"#fdca26\"],[1.0,\"#f0f921\"]],\"type\":\"histogram2dcontour\"}],\"mesh3d\":[{\"colorbar\":{\"outlinewidth\":0,\"ticks\":\"\"},\"type\":\"mesh3d\"}],\"parcoords\":[{\"line\":{\"colorbar\":{\"outlinewidth\":0,\"ticks\":\"\"}},\"type\":\"parcoords\"}],\"pie\":[{\"automargin\":true,\"type\":\"pie\"}],\"scatter\":[{\"marker\":{\"colorbar\":{\"outlinewidth\":0,\"ticks\":\"\"}},\"type\":\"scatter\"}],\"scatter3d\":[{\"line\":{\"colorbar\":{\"outlinewidth\":0,\"ticks\":\"\"}},\"marker\":{\"colorbar\":{\"outlinewidth\":0,\"ticks\":\"\"}},\"type\":\"scatter3d\"}],\"scattercarpet\":[{\"marker\":{\"colorbar\":{\"outlinewidth\":0,\"ticks\":\"\"}},\"type\":\"scattercarpet\"}],\"scattergeo\":[{\"marker\":{\"colorbar\":{\"outlinewidth\":0,\"ticks\":\"\"}},\"type\":\"scattergeo\"}],\"scattergl\":[{\"marker\":{\"colorbar\":{\"outlinewidth\":0,\"ticks\":\"\"}},\"type\":\"scattergl\"}],\"scattermapbox\":[{\"marker\":{\"colorbar\":{\"outlinewidth\":0,\"ticks\":\"\"}},\"type\":\"scattermapbox\"}],\"scatterpolar\":[{\"marker\":{\"colorbar\":{\"outlinewidth\":0,\"ticks\":\"\"}},\"type\":\"scatterpolar\"}],\"scatterpolargl\":[{\"marker\":{\"colorbar\":{\"outlinewidth\":0,\"ticks\":\"\"}},\"type\":\"scatterpolargl\"}],\"scatterternary\":[{\"marker\":{\"colorbar\":{\"outlinewidth\":0,\"ticks\":\"\"}},\"type\":\"scatterternary\"}],\"surface\":[{\"colorbar\":{\"outlinewidth\":0,\"ticks\":\"\"},\"colorscale\":[[0.0,\"#0d0887\"],[0.1111111111111111,\"#46039f\"],[0.2222222222222222,\"#7201a8\"],[0.3333333333333333,\"#9c179e\"],[0.4444444444444444,\"#bd3786\"],[0.5555555555555556,\"#d8576b\"],[0.6666666666666666,\"#ed7953\"],[0.7777777777777778,\"#fb9f3a\"],[0.8888888888888888,\"#fdca26\"],[1.0,\"#f0f921\"]],\"type\":\"surface\"}],\"table\":[{\"cells\":{\"fill\":{\"color\":\"#EBF0F8\"},\"line\":{\"color\":\"white\"}},\"header\":{\"fill\":{\"color\":\"#C8D4E3\"},\"line\":{\"color\":\"white\"}},\"type\":\"table\"}]},\"layout\":{\"annotationdefaults\":{\"arrowcolor\":\"#2a3f5f\",\"arrowhead\":0,\"arrowwidth\":1},\"autotypenumbers\":\"strict\",\"coloraxis\":{\"colorbar\":{\"outlinewidth\":0,\"ticks\":\"\"}},\"colorscale\":{\"diverging\":[[0,\"#8e0152\"],[0.1,\"#c51b7d\"],[0.2,\"#de77ae\"],[0.3,\"#f1b6da\"],[0.4,\"#fde0ef\"],[0.5,\"#f7f7f7\"],[0.6,\"#e6f5d0\"],[0.7,\"#b8e186\"],[0.8,\"#7fbc41\"],[0.9,\"#4d9221\"],[1,\"#276419\"]],\"sequential\":[[0.0,\"#0d0887\"],[0.1111111111111111,\"#46039f\"],[0.2222222222222222,\"#7201a8\"],[0.3333333333333333,\"#9c179e\"],[0.4444444444444444,\"#bd3786\"],[0.5555555555555556,\"#d8576b\"],[0.6666666666666666,\"#ed7953\"],[0.7777777777777778,\"#fb9f3a\"],[0.8888888888888888,\"#fdca26\"],[1.0,\"#f0f921\"]],\"sequentialminus\":[[0.0,\"#0d0887\"],[0.1111111111111111,\"#46039f\"],[0.2222222222222222,\"#7201a8\"],[0.3333333333333333,\"#9c179e\"],[0.4444444444444444,\"#bd3786\"],[0.5555555555555556,\"#d8576b\"],[0.6666666666666666,\"#ed7953\"],[0.7777777777777778,\"#fb9f3a\"],[0.8888888888888888,\"#fdca26\"],[1.0,\"#f0f921\"]]},\"colorway\":[\"#636efa\",\"#EF553B\",\"#00cc96\",\"#ab63fa\",\"#FFA15A\",\"#19d3f3\",\"#FF6692\",\"#B6E880\",\"#FF97FF\",\"#FECB52\"],\"font\":{\"color\":\"#2a3f5f\"},\"geo\":{\"bgcolor\":\"white\",\"lakecolor\":\"white\",\"landcolor\":\"#E5ECF6\",\"showlakes\":true,\"showland\":true,\"subunitcolor\":\"white\"},\"hoverlabel\":{\"align\":\"left\"},\"hovermode\":\"closest\",\"mapbox\":{\"style\":\"light\"},\"paper_bgcolor\":\"white\",\"plot_bgcolor\":\"#E5ECF6\",\"polar\":{\"angularaxis\":{\"gridcolor\":\"white\",\"linecolor\":\"white\",\"ticks\":\"\"},\"bgcolor\":\"#E5ECF6\",\"radialaxis\":{\"gridcolor\":\"white\",\"linecolor\":\"white\",\"ticks\":\"\"}},\"scene\":{\"xaxis\":{\"backgroundcolor\":\"#E5ECF6\",\"gridcolor\":\"white\",\"gridwidth\":2,\"linecolor\":\"white\",\"showbackground\":true,\"ticks\":\"\",\"zerolinecolor\":\"white\"},\"yaxis\":{\"backgroundcolor\":\"#E5ECF6\",\"gridcolor\":\"white\",\"gridwidth\":2,\"linecolor\":\"white\",\"showbackground\":true,\"ticks\":\"\",\"zerolinecolor\":\"white\"},\"zaxis\":{\"backgroundcolor\":\"#E5ECF6\",\"gridcolor\":\"white\",\"gridwidth\":2,\"linecolor\":\"white\",\"showbackground\":true,\"ticks\":\"\",\"zerolinecolor\":\"white\"}},\"shapedefaults\":{\"line\":{\"color\":\"#2a3f5f\"}},\"ternary\":{\"aaxis\":{\"gridcolor\":\"white\",\"linecolor\":\"white\",\"ticks\":\"\"},\"baxis\":{\"gridcolor\":\"white\",\"linecolor\":\"white\",\"ticks\":\"\"},\"bgcolor\":\"#E5ECF6\",\"caxis\":{\"gridcolor\":\"white\",\"linecolor\":\"white\",\"ticks\":\"\"}},\"title\":{\"x\":0.05},\"xaxis\":{\"automargin\":true,\"gridcolor\":\"white\",\"linecolor\":\"white\",\"ticks\":\"\",\"title\":{\"standoff\":15},\"zerolinecolor\":\"white\",\"zerolinewidth\":2},\"yaxis\":{\"automargin\":true,\"gridcolor\":\"white\",\"linecolor\":\"white\",\"ticks\":\"\",\"title\":{\"standoff\":15},\"zerolinecolor\":\"white\",\"zerolinewidth\":2}}},\"legend\":{\"tracegroupgap\":0},\"title\":{\"text\":\"Top cities breakdown\"},\"height\":700},                        {\"responsive\": true}                    ).then(function(){\n",
       "                            \n",
       "var gd = document.getElementById('5fd02895-e8c1-407c-8418-680e096c969b');\n",
       "var x = new MutationObserver(function (mutations, observer) {{\n",
       "        var display = window.getComputedStyle(gd).display;\n",
       "        if (!display || display === 'none') {{\n",
       "            console.log([gd, 'removed!']);\n",
       "            Plotly.purge(gd);\n",
       "            observer.disconnect();\n",
       "        }}\n",
       "}});\n",
       "\n",
       "// Listen for the removal of the full notebook cells\n",
       "var notebookContainer = gd.closest('#notebook-container');\n",
       "if (notebookContainer) {{\n",
       "    x.observe(notebookContainer, {childList: true});\n",
       "}}\n",
       "\n",
       "// Listen for the clearing of the current output cell\n",
       "var outputEl = gd.closest('.output');\n",
       "if (outputEl) {{\n",
       "    x.observe(outputEl, {childList: true});\n",
       "}}\n",
       "\n",
       "                        })                };                });            </script>        </div>"
      ]
     },
     "metadata": {},
     "output_type": "display_data"
    }
   ],
   "source": [
    "import warnings\n",
    "warnings.simplefilter(action='ignore', category=FutureWarning)\n",
    "\n",
    "fig = px.treemap(\n",
    "    by_city_award,\n",
    "    path=['Location', 'Award'],\n",
    "    title='Top cities breakdown',\n",
    "    values='num_listings',\n",
    "    height=700\n",
    ")\n",
    "\n",
    "fig.show()"
   ]
  },
  {
   "cell_type": "markdown",
   "metadata": {},
   "source": [
    "Most of the top cities have similar trends, Bib gourmand is in the lead. In cities like Paris, London, Shanghai, and Beijing, 1-star Michelin accounts for the most. Cities above are definitely worth visiting, where you can enjoy both affordable Michelin Restaurant and expensive delicacies."
   ]
  },
  {
   "cell_type": "markdown",
   "metadata": {},
   "source": [
    "### Summary\n",
    "- Tokyo is the city with both the most Michelin restaurants and 3-Star Michelin restaurants, offering tourists various choices of high quality foods. Moreover, Kyoto and Osaka, which located in Japan as well, are worth visiting, too. \n",
    "- Michelin restaurants are mostly located in East Asia, Europe, and the United States.\n",
    "- If you have a tight budget, Chiang Mai will be recommended. It has 23 Michelin restaurants and the average minimum expense is as low as 12 dollars.\n",
    "- Among all cuisines, Modern cuisine has the most Michelin restaurants while creative cuisine has the most 3-star Michelin restaurants. Crab Specialities is the most expensive cuisine and Street food is the most affordable."
   ]
  },
  {
   "cell_type": "code",
   "execution_count": null,
   "metadata": {
    "collapsed": true
   },
   "outputs": [],
   "source": []
  }
 ],
 "metadata": {
  "kernelspec": {
   "display_name": "Python 3.8",
   "language": "python",
   "name": "python38"
  },
  "language_info": {
   "codemirror_mode": {
    "name": "ipython",
    "version": 3
   },
   "file_extension": ".py",
   "mimetype": "text/x-python",
   "name": "python",
   "nbconvert_exporter": "python",
   "pygments_lexer": "ipython3",
   "version": "3.8.7"
  }
 },
 "nbformat": 4,
 "nbformat_minor": 2
}
